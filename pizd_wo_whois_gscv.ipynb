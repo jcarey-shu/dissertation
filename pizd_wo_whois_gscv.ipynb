{
  "nbformat": 4,
  "nbformat_minor": 0,
  "metadata": {
    "colab": {
      "provenance": [],
      "collapsed_sections": [
        "-NREjNRkYFhy",
        "4EsjCmYPiEFo",
        "SK9aTAhsiEFx",
        "rl-TLGokmYf6",
        "O8Vb1kdojPI4",
        "yGB-kSCkjPJA",
        "b0GyX45JCBDp",
        "QZZynRycngOI",
        "TzOFE2irngOK",
        "SI0ehAIhDMhK",
        "jq0NFEP2BxmS",
        "yhD6wJhiGTTf",
        "fWDoVNX4NdzB",
        "KptbNLORHZQO",
        "KxQI4QE-OzXf",
        "yB1nXAPnJ1mm",
        "yLaqPZwVywFt"
      ],
      "authorship_tag": "ABX9TyMjwnBnQnclcKbeNuttygG6",
      "include_colab_link": true
    },
    "kernelspec": {
      "name": "python3",
      "display_name": "Python 3"
    },
    "language_info": {
      "name": "python"
    }
  },
  "cells": [
    {
      "cell_type": "markdown",
      "metadata": {
        "id": "view-in-github",
        "colab_type": "text"
      },
      "source": [
        "<a href=\"https://colab.research.google.com/github/jcarey-shu/dissertation/blob/main/pizd_wo_whois_gscv.ipynb\" target=\"_parent\"><img src=\"https://colab.research.google.com/assets/colab-badge.svg\" alt=\"Open In Colab\"/></a>"
      ]
    },
    {
      "cell_type": "markdown",
      "source": [
        "## Load 3 👇 : pizd SHU. GridSearchCV. Train & Test."
      ],
      "metadata": {
        "id": "2pDxhUWCcFql"
      }
    },
    {
      "cell_type": "markdown",
      "source": [
        "### Load 3 = 1000 legit domains; ~1000 word-based DGAs; my top 10 correlated features; no WHOIS history. GridSearchCV. Train & Test."
      ],
      "metadata": {
        "id": "-NREjNRkYFhy"
      }
    },
    {
      "cell_type": "code",
      "source": [
        "from pathlib import Path\n",
        "import pandas as pd\n",
        "import numpy as np\n",
        "from google.colab import drive\n",
        "drive.mount('/content/gdrive')\n",
        "\n",
        "def load_data1():\n",
        "  return pd.read_csv(Path(\"/content/gdrive/MyDrive/Colab/Data/loads/raw_data/pizd.1000+whois-history.csv\"))\n",
        "\n",
        "df1 = load_data1()\n",
        "\n",
        "def load_data2():\n",
        "  return pd.read_csv(Path(\"/content/gdrive/MyDrive/Colab/Data/loads/raw_data/tranco.1000+whois-history.csv\"))\n",
        "\n",
        "df2 = load_data2()\n",
        "\n",
        "data_load = [df1, df2]\n",
        "df = pd.concat(data_load).reset_index(drop=True)"
      ],
      "metadata": {
        "colab": {
          "base_uri": "https://localhost:8080/"
        },
        "id": "jNIMZY0B5KiC",
        "outputId": "2aca60dd-3896-40f6-9a35-56f73b7b4c57"
      },
      "execution_count": null,
      "outputs": [
        {
          "output_type": "stream",
          "name": "stdout",
          "text": [
            "Mounted at /content/gdrive\n"
          ]
        }
      ]
    },
    {
      "cell_type": "code",
      "source": [
        "display(df)"
      ],
      "metadata": {
        "colab": {
          "base_uri": "https://localhost:8080/"
        },
        "id": "tOM25Zzu2tdZ",
        "outputId": "0559618f-ad86-41a3-ecdb-7efbe5d43146"
      },
      "execution_count": null,
      "outputs": [
        {
          "output_type": "display_data",
          "data": {
            "text/plain": [
              "                  domain  nlp_1g_25p  nlp_1g_50p  nlp_1g_75p  nlp_1g_cov  \\\n",
              "0        abovefamous.net         0.0         0.0    0.071429    0.001388   \n",
              "1     abovegentleman.net         0.0         0.0    0.058824    0.001634   \n",
              "2       abovehistory.net         0.0         0.0    0.066667    0.001306   \n",
              "3      aboveincrease.net         0.0         0.0    0.062500    0.001560   \n",
              "4      abovelanguage.net         0.0         0.0    0.062500    0.001564   \n",
              "...                  ...         ...         ...         ...         ...   \n",
              "1949          zillow.com         0.0         0.0    0.000000    0.001735   \n",
              "1950      zippyshare.com         0.0         0.0    0.076923    0.001253   \n",
              "1951            zoho.com         0.0         0.0    0.000000    0.002039   \n",
              "1952          zol.com.cn         0.0         0.0    0.000000    0.001817   \n",
              "1953             zoom.us         0.0         0.0    0.000000    0.001919   \n",
              "\n",
              "      nlp_1g_dist  nlp_1g_dst_ca  nlp_1g_dst_ch  nlp_1g_dst_em  nlp_1g_dst_eu  \\\n",
              "0            11.0      31.120288       0.141997       8.442562       0.309753   \n",
              "1            10.0      31.984155       0.234434      10.077016       0.373578   \n",
              "2            12.0      31.289778       0.132473       6.211085       0.289615   \n",
              "3            11.0      32.016142       0.249140      10.308634       0.376572   \n",
              "4            10.0      32.442230       0.186640      10.746134       0.378965   \n",
              "...           ...            ...            ...            ...            ...   \n",
              "1949          7.0      34.243527       0.208646       6.477723       0.387101   \n",
              "1950         12.0      33.245335       0.135381       7.077009       0.339747   \n",
              "1951          5.0      35.120871       0.304246       7.732746       0.461642   \n",
              "1952          6.0      34.230153       0.248091       8.643460       0.409966   \n",
              "1953          5.0      34.843090       0.209007       2.331210       0.429341   \n",
              "\n",
              "      ...  nlp_r_num_odn  nlp_r_sym_2dn  nlp_r_sym_fqdn  nlp_r_sym_odn  \\\n",
              "0     ...            0.0            0.0        0.066667            0.0   \n",
              "1     ...            0.0            0.0        0.055556            0.0   \n",
              "2     ...            0.0            0.0        0.062500            0.0   \n",
              "3     ...            0.0            0.0        0.058824            0.0   \n",
              "4     ...            0.0            0.0        0.058824            0.0   \n",
              "...   ...            ...            ...             ...            ...   \n",
              "1949  ...            0.0            0.0        0.100000            0.0   \n",
              "1950  ...            0.0            0.0        0.071429            0.0   \n",
              "1951  ...            0.0            0.0        0.125000            0.0   \n",
              "1952  ...            0.0            0.0        0.200000            0.0   \n",
              "1953  ...            0.0            0.0        0.142857            0.0   \n",
              "\n",
              "      nlp_r_vow_2dn  nlp_r_vow_fqdn  nlp_r_vow_odn  whois_rec  whois_change  \\\n",
              "0          0.545455        0.466667       0.000000          0           NaN   \n",
              "1          0.428571        0.388889       0.000000          0           NaN   \n",
              "2          0.416667        0.375000       0.000000          0           NaN   \n",
              "3          0.538462        0.470588       0.000000          0           NaN   \n",
              "4          0.538462        0.470588       0.000000          0           NaN   \n",
              "...             ...             ...            ...        ...           ...   \n",
              "1949       0.333333        0.300000       0.000000         22           0.0   \n",
              "1950       0.300000        0.285714       0.000000         19           0.0   \n",
              "1951       0.500000        0.375000       0.000000         35           0.0   \n",
              "1952       0.333333        0.200000       0.333333         13           1.0   \n",
              "1953       0.500000        0.428571       0.000000         53           1.0   \n",
              "\n",
              "      class  \n",
              "0         1  \n",
              "1         1  \n",
              "2         1  \n",
              "3         1  \n",
              "4         1  \n",
              "...     ...  \n",
              "1949      0  \n",
              "1950      0  \n",
              "1951      0  \n",
              "1952      0  \n",
              "1953      0  \n",
              "\n",
              "[1954 rows x 134 columns]"
            ],
            "text/html": [
              "\n",
              "  <div id=\"df-e87921be-c0ff-4227-95c8-a8601d1e9fc0\">\n",
              "    <div class=\"colab-df-container\">\n",
              "      <div>\n",
              "<style scoped>\n",
              "    .dataframe tbody tr th:only-of-type {\n",
              "        vertical-align: middle;\n",
              "    }\n",
              "\n",
              "    .dataframe tbody tr th {\n",
              "        vertical-align: top;\n",
              "    }\n",
              "\n",
              "    .dataframe thead th {\n",
              "        text-align: right;\n",
              "    }\n",
              "</style>\n",
              "<table border=\"1\" class=\"dataframe\">\n",
              "  <thead>\n",
              "    <tr style=\"text-align: right;\">\n",
              "      <th></th>\n",
              "      <th>domain</th>\n",
              "      <th>nlp_1g_25p</th>\n",
              "      <th>nlp_1g_50p</th>\n",
              "      <th>nlp_1g_75p</th>\n",
              "      <th>nlp_1g_cov</th>\n",
              "      <th>nlp_1g_dist</th>\n",
              "      <th>nlp_1g_dst_ca</th>\n",
              "      <th>nlp_1g_dst_ch</th>\n",
              "      <th>nlp_1g_dst_em</th>\n",
              "      <th>nlp_1g_dst_eu</th>\n",
              "      <th>...</th>\n",
              "      <th>nlp_r_num_odn</th>\n",
              "      <th>nlp_r_sym_2dn</th>\n",
              "      <th>nlp_r_sym_fqdn</th>\n",
              "      <th>nlp_r_sym_odn</th>\n",
              "      <th>nlp_r_vow_2dn</th>\n",
              "      <th>nlp_r_vow_fqdn</th>\n",
              "      <th>nlp_r_vow_odn</th>\n",
              "      <th>whois_rec</th>\n",
              "      <th>whois_change</th>\n",
              "      <th>class</th>\n",
              "    </tr>\n",
              "  </thead>\n",
              "  <tbody>\n",
              "    <tr>\n",
              "      <th>0</th>\n",
              "      <td>abovefamous.net</td>\n",
              "      <td>0.0</td>\n",
              "      <td>0.0</td>\n",
              "      <td>0.071429</td>\n",
              "      <td>0.001388</td>\n",
              "      <td>11.0</td>\n",
              "      <td>31.120288</td>\n",
              "      <td>0.141997</td>\n",
              "      <td>8.442562</td>\n",
              "      <td>0.309753</td>\n",
              "      <td>...</td>\n",
              "      <td>0.0</td>\n",
              "      <td>0.0</td>\n",
              "      <td>0.066667</td>\n",
              "      <td>0.0</td>\n",
              "      <td>0.545455</td>\n",
              "      <td>0.466667</td>\n",
              "      <td>0.000000</td>\n",
              "      <td>0</td>\n",
              "      <td>NaN</td>\n",
              "      <td>1</td>\n",
              "    </tr>\n",
              "    <tr>\n",
              "      <th>1</th>\n",
              "      <td>abovegentleman.net</td>\n",
              "      <td>0.0</td>\n",
              "      <td>0.0</td>\n",
              "      <td>0.058824</td>\n",
              "      <td>0.001634</td>\n",
              "      <td>10.0</td>\n",
              "      <td>31.984155</td>\n",
              "      <td>0.234434</td>\n",
              "      <td>10.077016</td>\n",
              "      <td>0.373578</td>\n",
              "      <td>...</td>\n",
              "      <td>0.0</td>\n",
              "      <td>0.0</td>\n",
              "      <td>0.055556</td>\n",
              "      <td>0.0</td>\n",
              "      <td>0.428571</td>\n",
              "      <td>0.388889</td>\n",
              "      <td>0.000000</td>\n",
              "      <td>0</td>\n",
              "      <td>NaN</td>\n",
              "      <td>1</td>\n",
              "    </tr>\n",
              "    <tr>\n",
              "      <th>2</th>\n",
              "      <td>abovehistory.net</td>\n",
              "      <td>0.0</td>\n",
              "      <td>0.0</td>\n",
              "      <td>0.066667</td>\n",
              "      <td>0.001306</td>\n",
              "      <td>12.0</td>\n",
              "      <td>31.289778</td>\n",
              "      <td>0.132473</td>\n",
              "      <td>6.211085</td>\n",
              "      <td>0.289615</td>\n",
              "      <td>...</td>\n",
              "      <td>0.0</td>\n",
              "      <td>0.0</td>\n",
              "      <td>0.062500</td>\n",
              "      <td>0.0</td>\n",
              "      <td>0.416667</td>\n",
              "      <td>0.375000</td>\n",
              "      <td>0.000000</td>\n",
              "      <td>0</td>\n",
              "      <td>NaN</td>\n",
              "      <td>1</td>\n",
              "    </tr>\n",
              "    <tr>\n",
              "      <th>3</th>\n",
              "      <td>aboveincrease.net</td>\n",
              "      <td>0.0</td>\n",
              "      <td>0.0</td>\n",
              "      <td>0.062500</td>\n",
              "      <td>0.001560</td>\n",
              "      <td>11.0</td>\n",
              "      <td>32.016142</td>\n",
              "      <td>0.249140</td>\n",
              "      <td>10.308634</td>\n",
              "      <td>0.376572</td>\n",
              "      <td>...</td>\n",
              "      <td>0.0</td>\n",
              "      <td>0.0</td>\n",
              "      <td>0.058824</td>\n",
              "      <td>0.0</td>\n",
              "      <td>0.538462</td>\n",
              "      <td>0.470588</td>\n",
              "      <td>0.000000</td>\n",
              "      <td>0</td>\n",
              "      <td>NaN</td>\n",
              "      <td>1</td>\n",
              "    </tr>\n",
              "    <tr>\n",
              "      <th>4</th>\n",
              "      <td>abovelanguage.net</td>\n",
              "      <td>0.0</td>\n",
              "      <td>0.0</td>\n",
              "      <td>0.062500</td>\n",
              "      <td>0.001564</td>\n",
              "      <td>10.0</td>\n",
              "      <td>32.442230</td>\n",
              "      <td>0.186640</td>\n",
              "      <td>10.746134</td>\n",
              "      <td>0.378965</td>\n",
              "      <td>...</td>\n",
              "      <td>0.0</td>\n",
              "      <td>0.0</td>\n",
              "      <td>0.058824</td>\n",
              "      <td>0.0</td>\n",
              "      <td>0.538462</td>\n",
              "      <td>0.470588</td>\n",
              "      <td>0.000000</td>\n",
              "      <td>0</td>\n",
              "      <td>NaN</td>\n",
              "      <td>1</td>\n",
              "    </tr>\n",
              "    <tr>\n",
              "      <th>...</th>\n",
              "      <td>...</td>\n",
              "      <td>...</td>\n",
              "      <td>...</td>\n",
              "      <td>...</td>\n",
              "      <td>...</td>\n",
              "      <td>...</td>\n",
              "      <td>...</td>\n",
              "      <td>...</td>\n",
              "      <td>...</td>\n",
              "      <td>...</td>\n",
              "      <td>...</td>\n",
              "      <td>...</td>\n",
              "      <td>...</td>\n",
              "      <td>...</td>\n",
              "      <td>...</td>\n",
              "      <td>...</td>\n",
              "      <td>...</td>\n",
              "      <td>...</td>\n",
              "      <td>...</td>\n",
              "      <td>...</td>\n",
              "      <td>...</td>\n",
              "    </tr>\n",
              "    <tr>\n",
              "      <th>1949</th>\n",
              "      <td>zillow.com</td>\n",
              "      <td>0.0</td>\n",
              "      <td>0.0</td>\n",
              "      <td>0.000000</td>\n",
              "      <td>0.001735</td>\n",
              "      <td>7.0</td>\n",
              "      <td>34.243527</td>\n",
              "      <td>0.208646</td>\n",
              "      <td>6.477723</td>\n",
              "      <td>0.387101</td>\n",
              "      <td>...</td>\n",
              "      <td>0.0</td>\n",
              "      <td>0.0</td>\n",
              "      <td>0.100000</td>\n",
              "      <td>0.0</td>\n",
              "      <td>0.333333</td>\n",
              "      <td>0.300000</td>\n",
              "      <td>0.000000</td>\n",
              "      <td>22</td>\n",
              "      <td>0.0</td>\n",
              "      <td>0</td>\n",
              "    </tr>\n",
              "    <tr>\n",
              "      <th>1950</th>\n",
              "      <td>zippyshare.com</td>\n",
              "      <td>0.0</td>\n",
              "      <td>0.0</td>\n",
              "      <td>0.076923</td>\n",
              "      <td>0.001253</td>\n",
              "      <td>12.0</td>\n",
              "      <td>33.245335</td>\n",
              "      <td>0.135381</td>\n",
              "      <td>7.077009</td>\n",
              "      <td>0.339747</td>\n",
              "      <td>...</td>\n",
              "      <td>0.0</td>\n",
              "      <td>0.0</td>\n",
              "      <td>0.071429</td>\n",
              "      <td>0.0</td>\n",
              "      <td>0.300000</td>\n",
              "      <td>0.285714</td>\n",
              "      <td>0.000000</td>\n",
              "      <td>19</td>\n",
              "      <td>0.0</td>\n",
              "      <td>0</td>\n",
              "    </tr>\n",
              "    <tr>\n",
              "      <th>1951</th>\n",
              "      <td>zoho.com</td>\n",
              "      <td>0.0</td>\n",
              "      <td>0.0</td>\n",
              "      <td>0.000000</td>\n",
              "      <td>0.002039</td>\n",
              "      <td>5.0</td>\n",
              "      <td>35.120871</td>\n",
              "      <td>0.304246</td>\n",
              "      <td>7.732746</td>\n",
              "      <td>0.461642</td>\n",
              "      <td>...</td>\n",
              "      <td>0.0</td>\n",
              "      <td>0.0</td>\n",
              "      <td>0.125000</td>\n",
              "      <td>0.0</td>\n",
              "      <td>0.500000</td>\n",
              "      <td>0.375000</td>\n",
              "      <td>0.000000</td>\n",
              "      <td>35</td>\n",
              "      <td>0.0</td>\n",
              "      <td>0</td>\n",
              "    </tr>\n",
              "    <tr>\n",
              "      <th>1952</th>\n",
              "      <td>zol.com.cn</td>\n",
              "      <td>0.0</td>\n",
              "      <td>0.0</td>\n",
              "      <td>0.000000</td>\n",
              "      <td>0.001817</td>\n",
              "      <td>6.0</td>\n",
              "      <td>34.230153</td>\n",
              "      <td>0.248091</td>\n",
              "      <td>8.643460</td>\n",
              "      <td>0.409966</td>\n",
              "      <td>...</td>\n",
              "      <td>0.0</td>\n",
              "      <td>0.0</td>\n",
              "      <td>0.200000</td>\n",
              "      <td>0.0</td>\n",
              "      <td>0.333333</td>\n",
              "      <td>0.200000</td>\n",
              "      <td>0.333333</td>\n",
              "      <td>13</td>\n",
              "      <td>1.0</td>\n",
              "      <td>0</td>\n",
              "    </tr>\n",
              "    <tr>\n",
              "      <th>1953</th>\n",
              "      <td>zoom.us</td>\n",
              "      <td>0.0</td>\n",
              "      <td>0.0</td>\n",
              "      <td>0.000000</td>\n",
              "      <td>0.001919</td>\n",
              "      <td>5.0</td>\n",
              "      <td>34.843090</td>\n",
              "      <td>0.209007</td>\n",
              "      <td>2.331210</td>\n",
              "      <td>0.429341</td>\n",
              "      <td>...</td>\n",
              "      <td>0.0</td>\n",
              "      <td>0.0</td>\n",
              "      <td>0.142857</td>\n",
              "      <td>0.0</td>\n",
              "      <td>0.500000</td>\n",
              "      <td>0.428571</td>\n",
              "      <td>0.000000</td>\n",
              "      <td>53</td>\n",
              "      <td>1.0</td>\n",
              "      <td>0</td>\n",
              "    </tr>\n",
              "  </tbody>\n",
              "</table>\n",
              "<p>1954 rows × 134 columns</p>\n",
              "</div>\n",
              "      <button class=\"colab-df-convert\" onclick=\"convertToInteractive('df-e87921be-c0ff-4227-95c8-a8601d1e9fc0')\"\n",
              "              title=\"Convert this dataframe to an interactive table.\"\n",
              "              style=\"display:none;\">\n",
              "        \n",
              "  <svg xmlns=\"http://www.w3.org/2000/svg\" height=\"24px\"viewBox=\"0 0 24 24\"\n",
              "       width=\"24px\">\n",
              "    <path d=\"M0 0h24v24H0V0z\" fill=\"none\"/>\n",
              "    <path d=\"M18.56 5.44l.94 2.06.94-2.06 2.06-.94-2.06-.94-.94-2.06-.94 2.06-2.06.94zm-11 1L8.5 8.5l.94-2.06 2.06-.94-2.06-.94L8.5 2.5l-.94 2.06-2.06.94zm10 10l.94 2.06.94-2.06 2.06-.94-2.06-.94-.94-2.06-.94 2.06-2.06.94z\"/><path d=\"M17.41 7.96l-1.37-1.37c-.4-.4-.92-.59-1.43-.59-.52 0-1.04.2-1.43.59L10.3 9.45l-7.72 7.72c-.78.78-.78 2.05 0 2.83L4 21.41c.39.39.9.59 1.41.59.51 0 1.02-.2 1.41-.59l7.78-7.78 2.81-2.81c.8-.78.8-2.07 0-2.86zM5.41 20L4 18.59l7.72-7.72 1.47 1.35L5.41 20z\"/>\n",
              "  </svg>\n",
              "      </button>\n",
              "      \n",
              "  <style>\n",
              "    .colab-df-container {\n",
              "      display:flex;\n",
              "      flex-wrap:wrap;\n",
              "      gap: 12px;\n",
              "    }\n",
              "\n",
              "    .colab-df-convert {\n",
              "      background-color: #E8F0FE;\n",
              "      border: none;\n",
              "      border-radius: 50%;\n",
              "      cursor: pointer;\n",
              "      display: none;\n",
              "      fill: #1967D2;\n",
              "      height: 32px;\n",
              "      padding: 0 0 0 0;\n",
              "      width: 32px;\n",
              "    }\n",
              "\n",
              "    .colab-df-convert:hover {\n",
              "      background-color: #E2EBFA;\n",
              "      box-shadow: 0px 1px 2px rgba(60, 64, 67, 0.3), 0px 1px 3px 1px rgba(60, 64, 67, 0.15);\n",
              "      fill: #174EA6;\n",
              "    }\n",
              "\n",
              "    [theme=dark] .colab-df-convert {\n",
              "      background-color: #3B4455;\n",
              "      fill: #D2E3FC;\n",
              "    }\n",
              "\n",
              "    [theme=dark] .colab-df-convert:hover {\n",
              "      background-color: #434B5C;\n",
              "      box-shadow: 0px 1px 3px 1px rgba(0, 0, 0, 0.15);\n",
              "      filter: drop-shadow(0px 1px 2px rgba(0, 0, 0, 0.3));\n",
              "      fill: #FFFFFF;\n",
              "    }\n",
              "  </style>\n",
              "\n",
              "      <script>\n",
              "        const buttonEl =\n",
              "          document.querySelector('#df-e87921be-c0ff-4227-95c8-a8601d1e9fc0 button.colab-df-convert');\n",
              "        buttonEl.style.display =\n",
              "          google.colab.kernel.accessAllowed ? 'block' : 'none';\n",
              "\n",
              "        async function convertToInteractive(key) {\n",
              "          const element = document.querySelector('#df-e87921be-c0ff-4227-95c8-a8601d1e9fc0');\n",
              "          const dataTable =\n",
              "            await google.colab.kernel.invokeFunction('convertToInteractive',\n",
              "                                                     [key], {});\n",
              "          if (!dataTable) return;\n",
              "\n",
              "          const docLinkHtml = 'Like what you see? Visit the ' +\n",
              "            '<a target=\"_blank\" href=https://colab.research.google.com/notebooks/data_table.ipynb>data table notebook</a>'\n",
              "            + ' to learn more about interactive tables.';\n",
              "          element.innerHTML = '';\n",
              "          dataTable['output_type'] = 'display_data';\n",
              "          await google.colab.output.renderOutput(dataTable, element);\n",
              "          const docLink = document.createElement('div');\n",
              "          docLink.innerHTML = docLinkHtml;\n",
              "          element.appendChild(docLink);\n",
              "        }\n",
              "      </script>\n",
              "    </div>\n",
              "  </div>\n",
              "  "
            ]
          },
          "metadata": {}
        }
      ]
    },
    {
      "cell_type": "code",
      "source": [
        "#df.drop(\"domain\", axis=1, inplace=True)\n",
        "# JC SHU Feature Selection\n",
        "df.drop(df.columns.difference(['nlp_l_2dn','nlp_3g_dist','nlp_l_fqdn','nlp_1g_e','nlp_2g_dist', \\\n",
        "                               'nlp_2g_ken','nlp_2g_spe','nlp_3g_ken','nlp_3g_spe','nlp_3g_sumsq','class']), axis=1, inplace=True)\n",
        "# UMU Feature Selection\n",
        "#df.drop(df.columns.difference(['nlp_l_2dn','nlp_r_con_2dn','nlp_r_let_fqdn','nlp_1g_norm', \\\n",
        "#                               'nlp_1g_tpstd','nlp_2g_dst_em','nlp_2g_tpstd','nlp_3g_dst_em', \\\n",
        "#                               'nlp_3g_dst_eu','nlp_3g_norm','class']), axis=1, inplace=True)"
      ],
      "metadata": {
        "id": "kf8leRiB5Wl3"
      },
      "execution_count": null,
      "outputs": []
    },
    {
      "cell_type": "code",
      "source": [
        "df.isnull().sum().sort_values(ascending=False)"
      ],
      "metadata": {
        "colab": {
          "base_uri": "https://localhost:8080/"
        },
        "id": "O1UUK_Y_7Tp5",
        "outputId": "347ff677-4a8e-4fb4-df27-26f5e1ae8800"
      },
      "execution_count": null,
      "outputs": [
        {
          "output_type": "execute_result",
          "data": {
            "text/plain": [
              "nlp_1g_e        0\n",
              "nlp_2g_dist     0\n",
              "nlp_2g_ken      0\n",
              "nlp_2g_spe      0\n",
              "nlp_3g_dist     0\n",
              "nlp_3g_ken      0\n",
              "nlp_3g_spe      0\n",
              "nlp_3g_sumsq    0\n",
              "nlp_l_2dn       0\n",
              "nlp_l_fqdn      0\n",
              "class           0\n",
              "dtype: int64"
            ]
          },
          "metadata": {},
          "execution_count": 4
        }
      ]
    },
    {
      "cell_type": "code",
      "source": [
        "df.dropna(how=\"any\", inplace=True)"
      ],
      "metadata": {
        "id": "tesu6-pi7my5"
      },
      "execution_count": null,
      "outputs": []
    },
    {
      "cell_type": "code",
      "source": [
        "df.info()"
      ],
      "metadata": {
        "colab": {
          "base_uri": "https://localhost:8080/"
        },
        "id": "m9SRL4sGCC2Y",
        "outputId": "09b23bf5-4674-410a-8ae2-20f5d4896451"
      },
      "execution_count": null,
      "outputs": [
        {
          "output_type": "stream",
          "name": "stdout",
          "text": [
            "<class 'pandas.core.frame.DataFrame'>\n",
            "Int64Index: 1954 entries, 0 to 1953\n",
            "Data columns (total 11 columns):\n",
            " #   Column        Non-Null Count  Dtype  \n",
            "---  ------        --------------  -----  \n",
            " 0   nlp_1g_e      1954 non-null   float64\n",
            " 1   nlp_2g_dist   1954 non-null   float64\n",
            " 2   nlp_2g_ken    1954 non-null   float64\n",
            " 3   nlp_2g_spe    1954 non-null   float64\n",
            " 4   nlp_3g_dist   1954 non-null   float64\n",
            " 5   nlp_3g_ken    1954 non-null   float64\n",
            " 6   nlp_3g_spe    1954 non-null   float64\n",
            " 7   nlp_3g_sumsq  1954 non-null   float64\n",
            " 8   nlp_l_2dn     1954 non-null   float64\n",
            " 9   nlp_l_fqdn    1954 non-null   float64\n",
            " 10  class         1954 non-null   int64  \n",
            "dtypes: float64(10), int64(1)\n",
            "memory usage: 183.2 KB\n"
          ]
        }
      ]
    },
    {
      "cell_type": "code",
      "source": [
        "X, y = df.iloc[:, :-1], df.iloc[:, -1] # the last column is the target"
      ],
      "metadata": {
        "id": "uLXuHXJsJ6Ax"
      },
      "execution_count": null,
      "outputs": []
    },
    {
      "cell_type": "code",
      "source": [
        "from sklearn.model_selection import train_test_split\n",
        "# from sklearn.preprocessing import StandardScaler\n",
        "# X = StandardScaler().fit_transform(X)\n",
        "\n",
        "# Generate train/test sets\n",
        "X_train, X_test, y_train, y_test = train_test_split(\n",
        "    X, y, test_size=0.3, random_state=42\n",
        ")\n",
        "\n"
      ],
      "metadata": {
        "id": "NLU-tEqR7pYn"
      },
      "execution_count": null,
      "outputs": []
    },
    {
      "cell_type": "code",
      "source": [
        "IMAGES_PATH = Path() / \"gdrive\" / \"MyDrive\" / \"Colab\" / \"Data\" / \"images\" / \"pizd\"\n",
        "IMAGES_PATH.mkdir(parents=True, exist_ok=True)\n",
        "\n",
        "def save_fig(fig_id, tight_layout=True, fig_extension=\"png\", resolution=600):\n",
        "    path = IMAGES_PATH / f\"{fig_id}.{fig_extension}\"\n",
        "    if tight_layout:\n",
        "        plt.tight_layout()\n",
        "    plt.savefig(path, format=fig_extension, dpi=resolution)"
      ],
      "metadata": {
        "id": "4Ax1nK3NlSXD"
      },
      "execution_count": null,
      "outputs": []
    },
    {
      "cell_type": "code",
      "source": [
        "df.describe()"
      ],
      "metadata": {
        "id": "BB5bEM007CpY",
        "colab": {
          "base_uri": "https://localhost:8080/"
        },
        "outputId": "155754b3-9676-4f45-8cb8-da02dabe81c1"
      },
      "execution_count": null,
      "outputs": [
        {
          "output_type": "execute_result",
          "data": {
            "text/plain": [
              "          nlp_1g_e  nlp_2g_dist   nlp_2g_ken   nlp_2g_spe  nlp_3g_dist  \\\n",
              "count  1954.000000  1954.000000  1954.000000  1954.000000  1954.000000   \n",
              "mean      3.098443    11.393040     0.144680     0.166194    10.703173   \n",
              "std       1.160882     3.616834     0.024747     0.028420     3.786537   \n",
              "min       0.482578     2.000000     0.061742     0.070932     1.000000   \n",
              "25%       2.055232     8.000000     0.123240     0.141535     8.000000   \n",
              "50%       3.420324    12.000000     0.150705     0.173075    12.000000   \n",
              "75%       4.036824    14.000000     0.162654     0.186796    14.000000   \n",
              "max       5.887734    20.000000     0.193955     0.222742    20.000000   \n",
              "\n",
              "        nlp_3g_ken   nlp_3g_spe  nlp_3g_sumsq    nlp_l_2dn   nlp_l_fqdn  \\\n",
              "count  1954.000000  1954.000000   1954.000000  1954.000000  1954.000000   \n",
              "mean      0.041747     0.043124     10.822416     9.637155    13.786080   \n",
              "std       0.008168     0.008438      3.904215     3.927645     3.786181   \n",
              "min       0.013004     0.013433      1.000000     1.000000     4.000000   \n",
              "25%       0.036778     0.037991      8.000000     6.000000    11.000000   \n",
              "50%       0.045041     0.046527     12.000000    11.000000    15.000000   \n",
              "75%       0.048649     0.050254     14.000000    13.000000    17.000000   \n",
              "max       0.058143     0.060062     26.000000    19.000000    23.000000   \n",
              "\n",
              "             class  \n",
              "count  1954.000000  \n",
              "mean      0.489253  \n",
              "std       0.500012  \n",
              "min       0.000000  \n",
              "25%       0.000000  \n",
              "50%       0.000000  \n",
              "75%       1.000000  \n",
              "max       1.000000  "
            ],
            "text/html": [
              "\n",
              "  <div id=\"df-3b5f630d-453a-4967-afe3-bad22666c275\">\n",
              "    <div class=\"colab-df-container\">\n",
              "      <div>\n",
              "<style scoped>\n",
              "    .dataframe tbody tr th:only-of-type {\n",
              "        vertical-align: middle;\n",
              "    }\n",
              "\n",
              "    .dataframe tbody tr th {\n",
              "        vertical-align: top;\n",
              "    }\n",
              "\n",
              "    .dataframe thead th {\n",
              "        text-align: right;\n",
              "    }\n",
              "</style>\n",
              "<table border=\"1\" class=\"dataframe\">\n",
              "  <thead>\n",
              "    <tr style=\"text-align: right;\">\n",
              "      <th></th>\n",
              "      <th>nlp_1g_e</th>\n",
              "      <th>nlp_2g_dist</th>\n",
              "      <th>nlp_2g_ken</th>\n",
              "      <th>nlp_2g_spe</th>\n",
              "      <th>nlp_3g_dist</th>\n",
              "      <th>nlp_3g_ken</th>\n",
              "      <th>nlp_3g_spe</th>\n",
              "      <th>nlp_3g_sumsq</th>\n",
              "      <th>nlp_l_2dn</th>\n",
              "      <th>nlp_l_fqdn</th>\n",
              "      <th>class</th>\n",
              "    </tr>\n",
              "  </thead>\n",
              "  <tbody>\n",
              "    <tr>\n",
              "      <th>count</th>\n",
              "      <td>1954.000000</td>\n",
              "      <td>1954.000000</td>\n",
              "      <td>1954.000000</td>\n",
              "      <td>1954.000000</td>\n",
              "      <td>1954.000000</td>\n",
              "      <td>1954.000000</td>\n",
              "      <td>1954.000000</td>\n",
              "      <td>1954.000000</td>\n",
              "      <td>1954.000000</td>\n",
              "      <td>1954.000000</td>\n",
              "      <td>1954.000000</td>\n",
              "    </tr>\n",
              "    <tr>\n",
              "      <th>mean</th>\n",
              "      <td>3.098443</td>\n",
              "      <td>11.393040</td>\n",
              "      <td>0.144680</td>\n",
              "      <td>0.166194</td>\n",
              "      <td>10.703173</td>\n",
              "      <td>0.041747</td>\n",
              "      <td>0.043124</td>\n",
              "      <td>10.822416</td>\n",
              "      <td>9.637155</td>\n",
              "      <td>13.786080</td>\n",
              "      <td>0.489253</td>\n",
              "    </tr>\n",
              "    <tr>\n",
              "      <th>std</th>\n",
              "      <td>1.160882</td>\n",
              "      <td>3.616834</td>\n",
              "      <td>0.024747</td>\n",
              "      <td>0.028420</td>\n",
              "      <td>3.786537</td>\n",
              "      <td>0.008168</td>\n",
              "      <td>0.008438</td>\n",
              "      <td>3.904215</td>\n",
              "      <td>3.927645</td>\n",
              "      <td>3.786181</td>\n",
              "      <td>0.500012</td>\n",
              "    </tr>\n",
              "    <tr>\n",
              "      <th>min</th>\n",
              "      <td>0.482578</td>\n",
              "      <td>2.000000</td>\n",
              "      <td>0.061742</td>\n",
              "      <td>0.070932</td>\n",
              "      <td>1.000000</td>\n",
              "      <td>0.013004</td>\n",
              "      <td>0.013433</td>\n",
              "      <td>1.000000</td>\n",
              "      <td>1.000000</td>\n",
              "      <td>4.000000</td>\n",
              "      <td>0.000000</td>\n",
              "    </tr>\n",
              "    <tr>\n",
              "      <th>25%</th>\n",
              "      <td>2.055232</td>\n",
              "      <td>8.000000</td>\n",
              "      <td>0.123240</td>\n",
              "      <td>0.141535</td>\n",
              "      <td>8.000000</td>\n",
              "      <td>0.036778</td>\n",
              "      <td>0.037991</td>\n",
              "      <td>8.000000</td>\n",
              "      <td>6.000000</td>\n",
              "      <td>11.000000</td>\n",
              "      <td>0.000000</td>\n",
              "    </tr>\n",
              "    <tr>\n",
              "      <th>50%</th>\n",
              "      <td>3.420324</td>\n",
              "      <td>12.000000</td>\n",
              "      <td>0.150705</td>\n",
              "      <td>0.173075</td>\n",
              "      <td>12.000000</td>\n",
              "      <td>0.045041</td>\n",
              "      <td>0.046527</td>\n",
              "      <td>12.000000</td>\n",
              "      <td>11.000000</td>\n",
              "      <td>15.000000</td>\n",
              "      <td>0.000000</td>\n",
              "    </tr>\n",
              "    <tr>\n",
              "      <th>75%</th>\n",
              "      <td>4.036824</td>\n",
              "      <td>14.000000</td>\n",
              "      <td>0.162654</td>\n",
              "      <td>0.186796</td>\n",
              "      <td>14.000000</td>\n",
              "      <td>0.048649</td>\n",
              "      <td>0.050254</td>\n",
              "      <td>14.000000</td>\n",
              "      <td>13.000000</td>\n",
              "      <td>17.000000</td>\n",
              "      <td>1.000000</td>\n",
              "    </tr>\n",
              "    <tr>\n",
              "      <th>max</th>\n",
              "      <td>5.887734</td>\n",
              "      <td>20.000000</td>\n",
              "      <td>0.193955</td>\n",
              "      <td>0.222742</td>\n",
              "      <td>20.000000</td>\n",
              "      <td>0.058143</td>\n",
              "      <td>0.060062</td>\n",
              "      <td>26.000000</td>\n",
              "      <td>19.000000</td>\n",
              "      <td>23.000000</td>\n",
              "      <td>1.000000</td>\n",
              "    </tr>\n",
              "  </tbody>\n",
              "</table>\n",
              "</div>\n",
              "      <button class=\"colab-df-convert\" onclick=\"convertToInteractive('df-3b5f630d-453a-4967-afe3-bad22666c275')\"\n",
              "              title=\"Convert this dataframe to an interactive table.\"\n",
              "              style=\"display:none;\">\n",
              "        \n",
              "  <svg xmlns=\"http://www.w3.org/2000/svg\" height=\"24px\"viewBox=\"0 0 24 24\"\n",
              "       width=\"24px\">\n",
              "    <path d=\"M0 0h24v24H0V0z\" fill=\"none\"/>\n",
              "    <path d=\"M18.56 5.44l.94 2.06.94-2.06 2.06-.94-2.06-.94-.94-2.06-.94 2.06-2.06.94zm-11 1L8.5 8.5l.94-2.06 2.06-.94-2.06-.94L8.5 2.5l-.94 2.06-2.06.94zm10 10l.94 2.06.94-2.06 2.06-.94-2.06-.94-.94-2.06-.94 2.06-2.06.94z\"/><path d=\"M17.41 7.96l-1.37-1.37c-.4-.4-.92-.59-1.43-.59-.52 0-1.04.2-1.43.59L10.3 9.45l-7.72 7.72c-.78.78-.78 2.05 0 2.83L4 21.41c.39.39.9.59 1.41.59.51 0 1.02-.2 1.41-.59l7.78-7.78 2.81-2.81c.8-.78.8-2.07 0-2.86zM5.41 20L4 18.59l7.72-7.72 1.47 1.35L5.41 20z\"/>\n",
              "  </svg>\n",
              "      </button>\n",
              "      \n",
              "  <style>\n",
              "    .colab-df-container {\n",
              "      display:flex;\n",
              "      flex-wrap:wrap;\n",
              "      gap: 12px;\n",
              "    }\n",
              "\n",
              "    .colab-df-convert {\n",
              "      background-color: #E8F0FE;\n",
              "      border: none;\n",
              "      border-radius: 50%;\n",
              "      cursor: pointer;\n",
              "      display: none;\n",
              "      fill: #1967D2;\n",
              "      height: 32px;\n",
              "      padding: 0 0 0 0;\n",
              "      width: 32px;\n",
              "    }\n",
              "\n",
              "    .colab-df-convert:hover {\n",
              "      background-color: #E2EBFA;\n",
              "      box-shadow: 0px 1px 2px rgba(60, 64, 67, 0.3), 0px 1px 3px 1px rgba(60, 64, 67, 0.15);\n",
              "      fill: #174EA6;\n",
              "    }\n",
              "\n",
              "    [theme=dark] .colab-df-convert {\n",
              "      background-color: #3B4455;\n",
              "      fill: #D2E3FC;\n",
              "    }\n",
              "\n",
              "    [theme=dark] .colab-df-convert:hover {\n",
              "      background-color: #434B5C;\n",
              "      box-shadow: 0px 1px 3px 1px rgba(0, 0, 0, 0.15);\n",
              "      filter: drop-shadow(0px 1px 2px rgba(0, 0, 0, 0.3));\n",
              "      fill: #FFFFFF;\n",
              "    }\n",
              "  </style>\n",
              "\n",
              "      <script>\n",
              "        const buttonEl =\n",
              "          document.querySelector('#df-3b5f630d-453a-4967-afe3-bad22666c275 button.colab-df-convert');\n",
              "        buttonEl.style.display =\n",
              "          google.colab.kernel.accessAllowed ? 'block' : 'none';\n",
              "\n",
              "        async function convertToInteractive(key) {\n",
              "          const element = document.querySelector('#df-3b5f630d-453a-4967-afe3-bad22666c275');\n",
              "          const dataTable =\n",
              "            await google.colab.kernel.invokeFunction('convertToInteractive',\n",
              "                                                     [key], {});\n",
              "          if (!dataTable) return;\n",
              "\n",
              "          const docLinkHtml = 'Like what you see? Visit the ' +\n",
              "            '<a target=\"_blank\" href=https://colab.research.google.com/notebooks/data_table.ipynb>data table notebook</a>'\n",
              "            + ' to learn more about interactive tables.';\n",
              "          element.innerHTML = '';\n",
              "          dataTable['output_type'] = 'display_data';\n",
              "          await google.colab.output.renderOutput(dataTable, element);\n",
              "          const docLink = document.createElement('div');\n",
              "          docLink.innerHTML = docLinkHtml;\n",
              "          element.appendChild(docLink);\n",
              "        }\n",
              "      </script>\n",
              "    </div>\n",
              "  </div>\n",
              "  "
            ]
          },
          "metadata": {},
          "execution_count": 10
        }
      ]
    },
    {
      "cell_type": "code",
      "source": [
        "import matplotlib.pyplot as plt\n",
        "\n",
        "df.hist(bins=50, figsize=(24, 16))\n",
        "plt.show()"
      ],
      "metadata": {
        "colab": {
          "base_uri": "https://localhost:8080/"
        },
        "outputId": "eb808d9a-e162-4101-a424-c5863c61cd2a",
        "id": "OuZK2lGE56Cw"
      },
      "execution_count": null,
      "outputs": [
        {
          "output_type": "display_data",
          "data": {
            "text/plain": [
              "<Figure size 1728x1152 with 12 Axes>"
            ],
            "image/png": "[encoded data removed]"
          },
          "metadata": {
            "needs_background": "light"
          }
        }
      ]
    },
    {
      "cell_type": "markdown",
      "source": [
        "### Naive Bayes (NB) classifier"
      ],
      "metadata": {
        "id": "4EsjCmYPiEFo"
      }
    },
    {
      "cell_type": "code",
      "source": [
        "from sklearn.naive_bayes import MultinomialNB\n",
        "\n",
        "mnb_clf = MultinomialNB()\n",
        "mnb_clf.fit(X_train, y_train)\n"
      ],
      "metadata": {
        "colab": {
          "base_uri": "https://localhost:8080/"
        },
        "outputId": "f3fbf440-d452-4613-a0cb-24e96ae3c621",
        "id": "TmiB7J2siEFw"
      },
      "execution_count": null,
      "outputs": [
        {
          "output_type": "execute_result",
          "data": {
            "text/plain": [
              "MultinomialNB()"
            ]
          },
          "metadata": {},
          "execution_count": 12
        }
      ]
    },
    {
      "cell_type": "code",
      "source": [
        "print(f\"Naive Bayes scored {mnb_clf.score(X_test, y_test).round(5)} on test\")\n",
        "print(f\"Naive Bayes scored {mnb_clf.score(X_train, y_train).round(5)} on train\")"
      ],
      "metadata": {
        "colab": {
          "base_uri": "https://localhost:8080/"
        },
        "outputId": "697f1145-ff51-40d7-c5e2-7c2d0cdd8eec",
        "id": "YHA9baOJiEFx"
      },
      "execution_count": null,
      "outputs": [
        {
          "output_type": "stream",
          "name": "stdout",
          "text": [
            "Naive Bayes scored 0.92504 on test\n",
            "Naive Bayes scored 0.9188 on train\n"
          ]
        }
      ]
    },
    {
      "cell_type": "markdown",
      "source": [
        "#### Confusion Matrix for mnb_clf train"
      ],
      "metadata": {
        "id": "SK9aTAhsiEFx"
      }
    },
    {
      "cell_type": "code",
      "source": [
        "from sklearn.model_selection import cross_val_predict\n",
        "\n",
        "y_train_pred = cross_val_predict(mnb_clf, X_train, y_train, cv=3)"
      ],
      "metadata": {
        "id": "aBSgOjyOiEFx"
      },
      "execution_count": null,
      "outputs": []
    },
    {
      "cell_type": "code",
      "source": [
        "from sklearn.metrics import confusion_matrix\n",
        "cm = confusion_matrix(y_train, y_train_pred).round(5)\n",
        "cm"
      ],
      "metadata": {
        "colab": {
          "base_uri": "https://localhost:8080/"
        },
        "outputId": "ea8439de-3ab7-4cc4-e61f-d5906e2d738f",
        "id": "nAClIxZViEFy"
      },
      "execution_count": null,
      "outputs": [
        {
          "output_type": "execute_result",
          "data": {
            "text/plain": [
              "array([[596, 108],\n",
              "       [  6, 657]])"
            ]
          },
          "metadata": {},
          "execution_count": 15
        }
      ]
    },
    {
      "cell_type": "code",
      "source": [
        "from sklearn.metrics import precision_score, recall_score\n",
        "precision_score(y_train, y_train_pred).round(5)"
      ],
      "metadata": {
        "colab": {
          "base_uri": "https://localhost:8080/"
        },
        "outputId": "f473542f-62e1-4188-d4e6-c2b0573bbf44",
        "id": "GIWKEMsYiEFy"
      },
      "execution_count": null,
      "outputs": [
        {
          "output_type": "execute_result",
          "data": {
            "text/plain": [
              "0.85882"
            ]
          },
          "metadata": {},
          "execution_count": 16
        }
      ]
    },
    {
      "cell_type": "code",
      "source": [
        "recall_score(y_train, y_train_pred).round(5)"
      ],
      "metadata": {
        "colab": {
          "base_uri": "https://localhost:8080/"
        },
        "outputId": "0d438f52-01d4-45c5-8b7f-d1b33110f325",
        "id": "U8MX3k5QiEFy"
      },
      "execution_count": null,
      "outputs": [
        {
          "output_type": "execute_result",
          "data": {
            "text/plain": [
              "0.99095"
            ]
          },
          "metadata": {},
          "execution_count": 17
        }
      ]
    },
    {
      "cell_type": "code",
      "source": [
        "from sklearn.metrics import f1_score\n",
        "f1_score(y_train, y_train_pred).round(5)"
      ],
      "metadata": {
        "colab": {
          "base_uri": "https://localhost:8080/"
        },
        "outputId": "5d38765a-55be-4ebc-cceb-4d3b6d70c7d2",
        "id": "bgrVDUC2iEFy"
      },
      "execution_count": null,
      "outputs": [
        {
          "output_type": "execute_result",
          "data": {
            "text/plain": [
              "0.92017"
            ]
          },
          "metadata": {},
          "execution_count": 18
        }
      ]
    },
    {
      "cell_type": "code",
      "source": [
        "from sklearn.metrics import ConfusionMatrixDisplay\n",
        "ConfusionMatrixDisplay.from_predictions(y_train, y_train_pred)\n",
        "save_fig(\"pizd_wo_mnb_train_cm\")\n",
        "plt.show"
      ],
      "metadata": {
        "colab": {
          "base_uri": "https://localhost:8080/"
        },
        "id": "Hbnto6AkmJYc",
        "outputId": "ff280d55-ca59-42b9-8883-c226b1239a9e"
      },
      "execution_count": null,
      "outputs": [
        {
          "output_type": "execute_result",
          "data": {
            "text/plain": [
              "<function matplotlib.pyplot.show(*args, **kw)>"
            ]
          },
          "metadata": {},
          "execution_count": 19
        },
        {
          "output_type": "display_data",
          "data": {
            "text/plain": [
              "<Figure size 432x288 with 2 Axes>"
            ],
            "image/png": "[encoded data removed]"
          },
          "metadata": {
            "needs_background": "light"
          }
        }
      ]
    },
    {
      "cell_type": "markdown",
      "source": [
        "#### Confusion Matrix for mnb_clf test"
      ],
      "metadata": {
        "id": "rl-TLGokmYf6"
      }
    },
    {
      "cell_type": "code",
      "source": [
        "from sklearn.model_selection import cross_val_predict\n",
        "\n",
        "y_test_pred = cross_val_predict(mnb_clf, X_test, y_test, cv=3)"
      ],
      "metadata": {
        "id": "_aEWUEnOmYf6"
      },
      "execution_count": null,
      "outputs": []
    },
    {
      "cell_type": "code",
      "source": [
        "from sklearn.metrics import confusion_matrix\n",
        "cm = confusion_matrix(y_test, y_test_pred).round(5)\n",
        "cm"
      ],
      "metadata": {
        "colab": {
          "base_uri": "https://localhost:8080/"
        },
        "outputId": "97272c15-714a-47f5-eb6b-bf24a4ae0e35",
        "id": "kVG_5BIhmYf7"
      },
      "execution_count": null,
      "outputs": [
        {
          "output_type": "execute_result",
          "data": {
            "text/plain": [
              "array([[225,  69],\n",
              "       [  0, 293]])"
            ]
          },
          "metadata": {},
          "execution_count": 21
        }
      ]
    },
    {
      "cell_type": "code",
      "source": [
        "from sklearn.metrics import precision_score, recall_score\n",
        "precision_score(y_test, y_test_pred).round(5)"
      ],
      "metadata": {
        "colab": {
          "base_uri": "https://localhost:8080/"
        },
        "outputId": "5a30a979-df72-43ca-d7c8-9277d3c35736",
        "id": "3JLw80dMmYf7"
      },
      "execution_count": null,
      "outputs": [
        {
          "output_type": "execute_result",
          "data": {
            "text/plain": [
              "0.80939"
            ]
          },
          "metadata": {},
          "execution_count": 22
        }
      ]
    },
    {
      "cell_type": "code",
      "source": [
        "recall_score(y_test, y_test_pred).round(5)"
      ],
      "metadata": {
        "colab": {
          "base_uri": "https://localhost:8080/"
        },
        "outputId": "03534592-1b22-4a73-a7bf-0d3a7eb38c80",
        "id": "dyrDKyXXmYf7"
      },
      "execution_count": null,
      "outputs": [
        {
          "output_type": "execute_result",
          "data": {
            "text/plain": [
              "1.0"
            ]
          },
          "metadata": {},
          "execution_count": 23
        }
      ]
    },
    {
      "cell_type": "code",
      "source": [
        "from sklearn.metrics import f1_score\n",
        "f1_score(y_test, y_test_pred).round(5)"
      ],
      "metadata": {
        "colab": {
          "base_uri": "https://localhost:8080/"
        },
        "outputId": "a7563dd0-8dcd-4406-ce15-d3cadd8a565a",
        "id": "Yn-cfR4OmYf8"
      },
      "execution_count": null,
      "outputs": [
        {
          "output_type": "execute_result",
          "data": {
            "text/plain": [
              "0.89466"
            ]
          },
          "metadata": {},
          "execution_count": 24
        }
      ]
    },
    {
      "cell_type": "code",
      "source": [
        "from sklearn.metrics import ConfusionMatrixDisplay\n",
        "ConfusionMatrixDisplay.from_predictions(y_test, y_test_pred)\n",
        "save_fig(\"pizd_wo_mnb_test_cm\")\n",
        "plt.show"
      ],
      "metadata": {
        "colab": {
          "base_uri": "https://localhost:8080/"
        },
        "id": "oFX58hmWlI7g",
        "outputId": "7f5c1355-f692-4800-c2ce-f112e68be29d"
      },
      "execution_count": null,
      "outputs": [
        {
          "output_type": "execute_result",
          "data": {
            "text/plain": [
              "<function matplotlib.pyplot.show(*args, **kw)>"
            ]
          },
          "metadata": {},
          "execution_count": 25
        },
        {
          "output_type": "display_data",
          "data": {
            "text/plain": [
              "<Figure size 432x288 with 2 Axes>"
            ],
            "image/png": "[encoded data removed]"
          },
          "metadata": {
            "needs_background": "light"
          }
        }
      ]
    },
    {
      "cell_type": "markdown",
      "source": [
        "### Logistic Regression (LG) classifier"
      ],
      "metadata": {
        "id": "O8Vb1kdojPI4"
      }
    },
    {
      "cell_type": "code",
      "source": [
        "from sklearn.linear_model import LogisticRegression\n",
        "\n",
        "lg_clf = LogisticRegression(max_iter=1000)\n",
        "lg_clf.fit(X_train, y_train)\n"
      ],
      "metadata": {
        "id": "96qF9r2YjPI_",
        "colab": {
          "base_uri": "https://localhost:8080/"
        },
        "outputId": "d3fd6262-eedb-4da1-9602-453d97be96a3"
      },
      "execution_count": null,
      "outputs": [
        {
          "output_type": "execute_result",
          "data": {
            "text/plain": [
              "LogisticRegression(max_iter=1000)"
            ]
          },
          "metadata": {},
          "execution_count": 26
        }
      ]
    },
    {
      "cell_type": "code",
      "source": [
        "print(f\"Logistic Regression scored {lg_clf.score(X_test, y_test).round(5)} on test\")\n",
        "print(f\"Logistic Regression scored {lg_clf.score(X_train, y_train).round(5)} on train\")"
      ],
      "metadata": {
        "colab": {
          "base_uri": "https://localhost:8080/"
        },
        "outputId": "d14275e8-da0c-4707-bedd-a5c85d0c4443",
        "id": "oUyuqUOsjPI_"
      },
      "execution_count": null,
      "outputs": [
        {
          "output_type": "stream",
          "name": "stdout",
          "text": [
            "Logistic Regression scored 0.94037 on test\n",
            "Logistic Regression scored 0.93928 on train\n"
          ]
        }
      ]
    },
    {
      "cell_type": "markdown",
      "source": [
        "#### Confusion Matrix for lg_clf train"
      ],
      "metadata": {
        "id": "yGB-kSCkjPJA"
      }
    },
    {
      "cell_type": "code",
      "source": [
        "from sklearn.model_selection import cross_val_predict\n",
        "\n",
        "y_train_pred = cross_val_predict(lg_clf, X_train, y_train, cv=3)"
      ],
      "metadata": {
        "id": "xGVE5gdkjPJA"
      },
      "execution_count": null,
      "outputs": []
    },
    {
      "cell_type": "code",
      "source": [
        "from sklearn.metrics import confusion_matrix\n",
        "cm = confusion_matrix(y_train, y_train_pred)\n",
        "cm"
      ],
      "metadata": {
        "colab": {
          "base_uri": "https://localhost:8080/"
        },
        "outputId": "4708e843-4ca1-4123-ea82-7d7d149bc3e7",
        "id": "67wBt1vkjPJA"
      },
      "execution_count": null,
      "outputs": [
        {
          "output_type": "execute_result",
          "data": {
            "text/plain": [
              "array([[643,  61],\n",
              "       [ 25, 638]])"
            ]
          },
          "metadata": {},
          "execution_count": 29
        }
      ]
    },
    {
      "cell_type": "code",
      "source": [
        "from sklearn.metrics import precision_score, recall_score\n",
        "precision_score(y_train, y_train_pred).round(5)"
      ],
      "metadata": {
        "colab": {
          "base_uri": "https://localhost:8080/"
        },
        "outputId": "1feb2591-98a9-46e4-9ff0-34c2638c373d",
        "id": "mwbmycAAjPJA"
      },
      "execution_count": null,
      "outputs": [
        {
          "output_type": "execute_result",
          "data": {
            "text/plain": [
              "0.91273"
            ]
          },
          "metadata": {},
          "execution_count": 30
        }
      ]
    },
    {
      "cell_type": "code",
      "source": [
        "recall_score(y_train, y_train_pred).round(5)"
      ],
      "metadata": {
        "colab": {
          "base_uri": "https://localhost:8080/"
        },
        "outputId": "bb922acc-89ba-4b09-bb0d-30715277f6a1",
        "id": "WK40wGdVjPJA"
      },
      "execution_count": null,
      "outputs": [
        {
          "output_type": "execute_result",
          "data": {
            "text/plain": [
              "0.96229"
            ]
          },
          "metadata": {},
          "execution_count": 31
        }
      ]
    },
    {
      "cell_type": "code",
      "source": [
        "from sklearn.metrics import f1_score\n",
        "f1_score(y_train, y_train_pred).round(5)"
      ],
      "metadata": {
        "colab": {
          "base_uri": "https://localhost:8080/"
        },
        "outputId": "a25ed02e-ba9f-40f0-dd6b-95533cb229de",
        "id": "BwSGN4lijPJA"
      },
      "execution_count": null,
      "outputs": [
        {
          "output_type": "execute_result",
          "data": {
            "text/plain": [
              "0.93686"
            ]
          },
          "metadata": {},
          "execution_count": 32
        }
      ]
    },
    {
      "cell_type": "code",
      "source": [
        "from sklearn.metrics import ConfusionMatrixDisplay\n",
        "ConfusionMatrixDisplay.from_predictions(y_train, y_train_pred)\n",
        "save_fig(\"pizd_wo_lg_train_cm\")\n",
        "plt.show"
      ],
      "metadata": {
        "colab": {
          "base_uri": "https://localhost:8080/"
        },
        "id": "eP7nu8EfCNfX",
        "outputId": "548ba342-3435-45e9-9fb7-b24866d9d386"
      },
      "execution_count": null,
      "outputs": [
        {
          "output_type": "execute_result",
          "data": {
            "text/plain": [
              "<function matplotlib.pyplot.show(*args, **kw)>"
            ]
          },
          "metadata": {},
          "execution_count": 33
        },
        {
          "output_type": "display_data",
          "data": {
            "text/plain": [
              "<Figure size 432x288 with 2 Axes>"
            ],
            "image/png": "[encoded data removed]"
          },
          "metadata": {
            "needs_background": "light"
          }
        }
      ]
    },
    {
      "cell_type": "markdown",
      "source": [
        "#### Confusion Matrix for lg_clf test"
      ],
      "metadata": {
        "id": "b0GyX45JCBDp"
      }
    },
    {
      "cell_type": "code",
      "source": [
        "from sklearn.model_selection import cross_val_predict\n",
        "\n",
        "y_test_pred = cross_val_predict(lg_clf, X_test, y_test, cv=3)"
      ],
      "metadata": {
        "id": "dd1nCGsWCBDq"
      },
      "execution_count": null,
      "outputs": []
    },
    {
      "cell_type": "code",
      "source": [
        "from sklearn.metrics import confusion_matrix\n",
        "cm = confusion_matrix(y_test, y_test_pred)\n",
        "cm"
      ],
      "metadata": {
        "colab": {
          "base_uri": "https://localhost:8080/"
        },
        "outputId": "a84d0103-b386-4957-85b5-1fac11e20320",
        "id": "Mu2cxRo0CBDq"
      },
      "execution_count": null,
      "outputs": [
        {
          "output_type": "execute_result",
          "data": {
            "text/plain": [
              "array([[266,  28],\n",
              "       [  8, 285]])"
            ]
          },
          "metadata": {},
          "execution_count": 35
        }
      ]
    },
    {
      "cell_type": "code",
      "source": [
        "from sklearn.metrics import precision_score, recall_score\n",
        "precision_score(y_test, y_test_pred).round(5)"
      ],
      "metadata": {
        "colab": {
          "base_uri": "https://localhost:8080/"
        },
        "outputId": "8069447d-e86b-4ec1-caea-8bc7fc27eeab",
        "id": "qIx5yX-zCBDr"
      },
      "execution_count": null,
      "outputs": [
        {
          "output_type": "execute_result",
          "data": {
            "text/plain": [
              "0.91054"
            ]
          },
          "metadata": {},
          "execution_count": 36
        }
      ]
    },
    {
      "cell_type": "code",
      "source": [
        "recall_score(y_test, y_test_pred).round(5)"
      ],
      "metadata": {
        "colab": {
          "base_uri": "https://localhost:8080/"
        },
        "outputId": "1d7bf0f2-4744-4285-f78c-dfb362c759e2",
        "id": "ONcneHnuCBDr"
      },
      "execution_count": null,
      "outputs": [
        {
          "output_type": "execute_result",
          "data": {
            "text/plain": [
              "0.9727"
            ]
          },
          "metadata": {},
          "execution_count": 37
        }
      ]
    },
    {
      "cell_type": "code",
      "source": [
        "from sklearn.metrics import f1_score\n",
        "f1_score(y_test, y_test_pred).round(5)"
      ],
      "metadata": {
        "colab": {
          "base_uri": "https://localhost:8080/"
        },
        "outputId": "195f3188-77fc-4523-ede4-b208fe0eda6c",
        "id": "VzbBtYZXCBDr"
      },
      "execution_count": null,
      "outputs": [
        {
          "output_type": "execute_result",
          "data": {
            "text/plain": [
              "0.94059"
            ]
          },
          "metadata": {},
          "execution_count": 38
        }
      ]
    },
    {
      "cell_type": "code",
      "source": [
        "from sklearn.metrics import ConfusionMatrixDisplay\n",
        "ConfusionMatrixDisplay.from_predictions(y_test, y_test_pred)\n",
        "save_fig(\"pizd_wo_lg_test_cm\")\n",
        "plt.show"
      ],
      "metadata": {
        "id": "hbGITCGVBj02",
        "colab": {
          "base_uri": "https://localhost:8080/"
        },
        "outputId": "72517e9c-401d-4e04-da43-5e5865ae962d"
      },
      "execution_count": null,
      "outputs": [
        {
          "output_type": "execute_result",
          "data": {
            "text/plain": [
              "<function matplotlib.pyplot.show(*args, **kw)>"
            ]
          },
          "metadata": {},
          "execution_count": 39
        },
        {
          "output_type": "display_data",
          "data": {
            "text/plain": [
              "<Figure size 432x288 with 2 Axes>"
            ],
            "image/png": "[encoded data removed]"
          },
          "metadata": {
            "needs_background": "light"
          }
        }
      ]
    },
    {
      "cell_type": "markdown",
      "source": [
        "### K-Nearest Neighbours (KNN) classifier"
      ],
      "metadata": {
        "id": "QZZynRycngOI"
      }
    },
    {
      "cell_type": "code",
      "source": [
        "from sklearn.neighbors import KNeighborsClassifier\n",
        "\n",
        "knn_clf = KNeighborsClassifier(algorithm = 'brute', n_jobs=-1)\n",
        "knn_clf.fit(X_train, y_train)\n"
      ],
      "metadata": {
        "colab": {
          "base_uri": "https://localhost:8080/"
        },
        "outputId": "e9d5d06d-aa36-48c5-b96d-d7a9dfba612d",
        "id": "wMAG1LjOngOJ"
      },
      "execution_count": null,
      "outputs": [
        {
          "output_type": "execute_result",
          "data": {
            "text/plain": [
              "KNeighborsClassifier(algorithm='brute', n_jobs=-1)"
            ]
          },
          "metadata": {},
          "execution_count": 40
        }
      ]
    },
    {
      "cell_type": "code",
      "source": [
        "print(f\"K-Nearest Neighbours scored {knn_clf.score(X_test, y_test).round(5)} on test\")\n",
        "print(f\"K-Nearest Neighbours scored {knn_clf.score(X_train, y_train).round(5)} on train\")"
      ],
      "metadata": {
        "colab": {
          "base_uri": "https://localhost:8080/"
        },
        "outputId": "1060b449-aca8-4cf8-8797-23d373ba3656",
        "id": "xzuynLVsngOJ"
      },
      "execution_count": null,
      "outputs": [
        {
          "output_type": "stream",
          "name": "stdout",
          "text": [
            "K-Nearest Neighbours scored 0.93526 on test\n",
            "K-Nearest Neighbours scored 0.9444 on train\n"
          ]
        }
      ]
    },
    {
      "cell_type": "markdown",
      "source": [
        "#### Confusion Matrix for knn_clf train"
      ],
      "metadata": {
        "id": "TzOFE2irngOK"
      }
    },
    {
      "cell_type": "code",
      "source": [
        "from sklearn.model_selection import cross_val_predict\n",
        "\n",
        "y_train_pred = cross_val_predict(knn_clf, X_train, y_train, cv=3)"
      ],
      "metadata": {
        "id": "99LqES6lngOK"
      },
      "execution_count": null,
      "outputs": []
    },
    {
      "cell_type": "code",
      "source": [
        "from sklearn.metrics import confusion_matrix\n",
        "cm = confusion_matrix(y_train, y_train_pred)\n",
        "cm"
      ],
      "metadata": {
        "colab": {
          "base_uri": "https://localhost:8080/"
        },
        "outputId": "25a4fa89-1e35-48ab-d221-d020fed23153",
        "id": "u87DOHi6ngOK"
      },
      "execution_count": null,
      "outputs": [
        {
          "output_type": "execute_result",
          "data": {
            "text/plain": [
              "array([[636,  68],\n",
              "       [ 25, 638]])"
            ]
          },
          "metadata": {},
          "execution_count": 43
        }
      ]
    },
    {
      "cell_type": "code",
      "source": [
        "from sklearn.metrics import precision_score, recall_score\n",
        "precision_score(y_train, y_train_pred).round(5)"
      ],
      "metadata": {
        "colab": {
          "base_uri": "https://localhost:8080/"
        },
        "outputId": "f8470146-aa29-41f5-bdc7-e6b24d020731",
        "id": "6ooQcJR_ngOK"
      },
      "execution_count": null,
      "outputs": [
        {
          "output_type": "execute_result",
          "data": {
            "text/plain": [
              "0.90368"
            ]
          },
          "metadata": {},
          "execution_count": 44
        }
      ]
    },
    {
      "cell_type": "code",
      "source": [
        "recall_score(y_train, y_train_pred).round(5)"
      ],
      "metadata": {
        "colab": {
          "base_uri": "https://localhost:8080/"
        },
        "outputId": "2dae8cd9-5931-49a4-b1b1-a516e86dfa0f",
        "id": "u8kSXZ-qngOL"
      },
      "execution_count": null,
      "outputs": [
        {
          "output_type": "execute_result",
          "data": {
            "text/plain": [
              "0.96229"
            ]
          },
          "metadata": {},
          "execution_count": 45
        }
      ]
    },
    {
      "cell_type": "code",
      "source": [
        "from sklearn.metrics import f1_score\n",
        "f1_score(y_train, y_train_pred).round(5)"
      ],
      "metadata": {
        "colab": {
          "base_uri": "https://localhost:8080/"
        },
        "outputId": "bfba5629-a1f9-42e2-93e1-e3caf1200677",
        "id": "dHJDmsuSngOL"
      },
      "execution_count": null,
      "outputs": [
        {
          "output_type": "execute_result",
          "data": {
            "text/plain": [
              "0.93207"
            ]
          },
          "metadata": {},
          "execution_count": 46
        }
      ]
    },
    {
      "cell_type": "code",
      "source": [
        "from sklearn.metrics import ConfusionMatrixDisplay\n",
        "ConfusionMatrixDisplay.from_predictions(y_train, y_train_pred)\n",
        "save_fig(\"pizd_wo_knn_train_cm\")\n",
        "plt.show"
      ],
      "metadata": {
        "colab": {
          "base_uri": "https://localhost:8080/"
        },
        "id": "chFI3NjjEF5_",
        "outputId": "929517f6-7f0d-429a-c495-994bc62ab725"
      },
      "execution_count": null,
      "outputs": [
        {
          "output_type": "execute_result",
          "data": {
            "text/plain": [
              "<function matplotlib.pyplot.show(*args, **kw)>"
            ]
          },
          "metadata": {},
          "execution_count": 47
        },
        {
          "output_type": "display_data",
          "data": {
            "text/plain": [
              "<Figure size 432x288 with 2 Axes>"
            ],
            "image/png": "[encoded data removed]"
          },
          "metadata": {
            "needs_background": "light"
          }
        }
      ]
    },
    {
      "cell_type": "markdown",
      "source": [
        "#### Confusion Matrix for knn_clf test"
      ],
      "metadata": {
        "id": "SI0ehAIhDMhK"
      }
    },
    {
      "cell_type": "code",
      "source": [
        "from sklearn.model_selection import cross_val_predict\n",
        "\n",
        "y_test_pred = cross_val_predict(knn_clf, X_test, y_test, cv=3)"
      ],
      "metadata": {
        "id": "fNo1b-JbDMhL"
      },
      "execution_count": null,
      "outputs": []
    },
    {
      "cell_type": "code",
      "source": [
        "from sklearn.metrics import confusion_matrix\n",
        "cm = confusion_matrix(y_test, y_test_pred)\n",
        "cm"
      ],
      "metadata": {
        "colab": {
          "base_uri": "https://localhost:8080/"
        },
        "outputId": "10f50dec-d9d2-4fa0-862e-aaacea93d430",
        "id": "BHIFWJigDMhL"
      },
      "execution_count": null,
      "outputs": [
        {
          "output_type": "execute_result",
          "data": {
            "text/plain": [
              "array([[263,  31],\n",
              "       [  8, 285]])"
            ]
          },
          "metadata": {},
          "execution_count": 49
        }
      ]
    },
    {
      "cell_type": "code",
      "source": [
        "from sklearn.metrics import precision_score, recall_score\n",
        "precision_score(y_test, y_test_pred).round(5)"
      ],
      "metadata": {
        "colab": {
          "base_uri": "https://localhost:8080/"
        },
        "outputId": "47aa803f-7f8b-4561-c945-ca8135aaf55e",
        "id": "feyxjN7lDMhL"
      },
      "execution_count": null,
      "outputs": [
        {
          "output_type": "execute_result",
          "data": {
            "text/plain": [
              "0.9019"
            ]
          },
          "metadata": {},
          "execution_count": 50
        }
      ]
    },
    {
      "cell_type": "code",
      "source": [
        "recall_score(y_test, y_test_pred).round(5)"
      ],
      "metadata": {
        "colab": {
          "base_uri": "https://localhost:8080/"
        },
        "outputId": "a08fd029-4e17-4e00-875f-a1ababb3c45f",
        "id": "F2s3PWsgDMhQ"
      },
      "execution_count": null,
      "outputs": [
        {
          "output_type": "execute_result",
          "data": {
            "text/plain": [
              "0.9727"
            ]
          },
          "metadata": {},
          "execution_count": 51
        }
      ]
    },
    {
      "cell_type": "code",
      "source": [
        "from sklearn.metrics import f1_score\n",
        "f1_score(y_test, y_test_pred).round(5)"
      ],
      "metadata": {
        "colab": {
          "base_uri": "https://localhost:8080/"
        },
        "outputId": "ba02fe10-06a4-45a7-91a8-03a0f79a508b",
        "id": "pOh3zNWMDMhQ"
      },
      "execution_count": null,
      "outputs": [
        {
          "output_type": "execute_result",
          "data": {
            "text/plain": [
              "0.93596"
            ]
          },
          "metadata": {},
          "execution_count": 52
        }
      ]
    },
    {
      "cell_type": "code",
      "source": [
        "from sklearn.metrics import ConfusionMatrixDisplay\n",
        "ConfusionMatrixDisplay.from_predictions(y_test, y_test_pred)\n",
        "save_fig(\"pizd_wo_knn_test_cm\")\n",
        "plt.show"
      ],
      "metadata": {
        "id": "F-_buHKUC9MN",
        "colab": {
          "base_uri": "https://localhost:8080/"
        },
        "outputId": "05c08858-add0-4c21-9ccf-d436e7039d75"
      },
      "execution_count": null,
      "outputs": [
        {
          "output_type": "execute_result",
          "data": {
            "text/plain": [
              "<function matplotlib.pyplot.show(*args, **kw)>"
            ]
          },
          "metadata": {},
          "execution_count": 53
        },
        {
          "output_type": "display_data",
          "data": {
            "text/plain": [
              "<Figure size 432x288 with 2 Axes>"
            ],
            "image/png": "[encoded data removed]"
          },
          "metadata": {
            "needs_background": "light"
          }
        }
      ]
    },
    {
      "cell_type": "markdown",
      "source": [
        "###✋Support Vector Machine (SVM) classifier"
      ],
      "metadata": {
        "id": "hynEm0T6AiSp"
      }
    },
    {
      "cell_type": "code",
      "source": [
        "# if we receive ConvergenceWarning then use:\n",
        "\n",
        "from sklearn.model_selection import train_test_split\n",
        "from sklearn.preprocessing import StandardScaler\n",
        "X_norm_svm = StandardScaler().fit_transform(X)\n",
        "\n",
        "# Generate train/test sets\n",
        "X_train_svm, X_test_svm, y_train_svm, y_test_svm = train_test_split(\n",
        "    X_norm_svm, y, test_size=0.3, random_state=42\n",
        ")\n",
        "\n",
        "# re-run above LinearSVC\n"
      ],
      "metadata": {
        "id": "b44AZ1OQZQRg"
      },
      "execution_count": null,
      "outputs": []
    },
    {
      "cell_type": "code",
      "source": [
        "from sklearn.svm import LinearSVC\n",
        "from sklearn.calibration import CalibratedClassifierCV\n",
        "\n",
        "svm_clf=LinearSVC(C=0.00001)\n",
        "svm_clf.fit(X_train_svm, y_train_svm)\n",
        "svm_clf1 = CalibratedClassifierCV(svm_clf)\n",
        "svm_clf1.fit(X_train_svm, y_train_svm)\n"
      ],
      "metadata": {
        "colab": {
          "base_uri": "https://localhost:8080/"
        },
        "id": "edV7Ond8AiSq",
        "outputId": "26c59897-fd34-40fc-a2d0-d71499cd94cf"
      },
      "execution_count": null,
      "outputs": [
        {
          "output_type": "execute_result",
          "data": {
            "text/plain": [
              "CalibratedClassifierCV(base_estimator=LinearSVC(C=1e-05))"
            ]
          },
          "metadata": {},
          "execution_count": 55
        }
      ]
    },
    {
      "cell_type": "code",
      "source": [
        "print(f\"SVM scored {svm_clf.score(X_test_svm, y_test_svm).round(5)} on test\")\n",
        "print(f\"SVM scored {svm_clf.score(X_train_svm, y_train_svm).round(5)} on train\")"
      ],
      "metadata": {
        "colab": {
          "base_uri": "https://localhost:8080/"
        },
        "outputId": "b8553807-5fa8-440d-b045-6d354f4051d9",
        "id": "isvxkhf1AiSq"
      },
      "execution_count": null,
      "outputs": [
        {
          "output_type": "stream",
          "name": "stdout",
          "text": [
            "SVM scored 0.91141 on test\n",
            "SVM scored 0.90856 on train\n"
          ]
        }
      ]
    },
    {
      "cell_type": "markdown",
      "source": [
        "#### Confusion Matrix for svm_clf train"
      ],
      "metadata": {
        "id": "-jg4B8iyAiSq"
      }
    },
    {
      "cell_type": "code",
      "source": [
        "from sklearn.model_selection import cross_val_predict\n",
        "\n",
        "y_train_svm_pred = cross_val_predict(svm_clf, X_train_svm, y_train_svm, cv=3)"
      ],
      "metadata": {
        "id": "CmFoV21cAiSr"
      },
      "execution_count": null,
      "outputs": []
    },
    {
      "cell_type": "code",
      "source": [
        "from sklearn.metrics import confusion_matrix\n",
        "cm = confusion_matrix(y_train_svm, y_train_svm_pred)\n",
        "cm"
      ],
      "metadata": {
        "colab": {
          "base_uri": "https://localhost:8080/"
        },
        "outputId": "4ce1b75c-06c1-4c92-c51a-cc7d5702375b",
        "id": "0HEvD287AiSr"
      },
      "execution_count": null,
      "outputs": [
        {
          "output_type": "execute_result",
          "data": {
            "text/plain": [
              "array([[579, 125],\n",
              "       [  0, 663]])"
            ]
          },
          "metadata": {},
          "execution_count": 58
        }
      ]
    },
    {
      "cell_type": "code",
      "source": [
        "from sklearn.metrics import precision_score, recall_score\n",
        "precision_score(y_train_svm, y_train_svm_pred).round(5)"
      ],
      "metadata": {
        "colab": {
          "base_uri": "https://localhost:8080/"
        },
        "outputId": "f7f8e943-9030-4d21-90c0-18a8bf31c8d1",
        "id": "y_x_6k1eAiSr"
      },
      "execution_count": null,
      "outputs": [
        {
          "output_type": "execute_result",
          "data": {
            "text/plain": [
              "0.84137"
            ]
          },
          "metadata": {},
          "execution_count": 59
        }
      ]
    },
    {
      "cell_type": "code",
      "source": [
        "recall_score(y_train_svm, y_train_svm_pred).round(5)"
      ],
      "metadata": {
        "colab": {
          "base_uri": "https://localhost:8080/"
        },
        "outputId": "6538292c-c297-408d-d58f-7be5c95f2a8d",
        "id": "1JFadQMYAiSr"
      },
      "execution_count": null,
      "outputs": [
        {
          "output_type": "execute_result",
          "data": {
            "text/plain": [
              "1.0"
            ]
          },
          "metadata": {},
          "execution_count": 60
        }
      ]
    },
    {
      "cell_type": "code",
      "source": [
        "from sklearn.metrics import f1_score\n",
        "f1_score(y_train_svm, y_train_svm_pred).round(5)"
      ],
      "metadata": {
        "colab": {
          "base_uri": "https://localhost:8080/"
        },
        "outputId": "e9eea11e-459d-4dba-c443-698a0c59cad8",
        "id": "ooDT7v13AiSs"
      },
      "execution_count": null,
      "outputs": [
        {
          "output_type": "execute_result",
          "data": {
            "text/plain": [
              "0.91385"
            ]
          },
          "metadata": {},
          "execution_count": 61
        }
      ]
    },
    {
      "cell_type": "code",
      "source": [
        "from sklearn.metrics import ConfusionMatrixDisplay\n",
        "ConfusionMatrixDisplay.from_predictions(y_train_svm, y_train_svm_pred)\n",
        "save_fig(\"pizd_wo_svm_train_cm\")\n",
        "plt.show"
      ],
      "metadata": {
        "colab": {
          "base_uri": "https://localhost:8080/"
        },
        "id": "1jilC9IwEoQg",
        "outputId": "ceb53e97-e155-451a-9fac-b2b00c725dfa"
      },
      "execution_count": null,
      "outputs": [
        {
          "output_type": "execute_result",
          "data": {
            "text/plain": [
              "<function matplotlib.pyplot.show(*args, **kw)>"
            ]
          },
          "metadata": {},
          "execution_count": 62
        },
        {
          "output_type": "display_data",
          "data": {
            "text/plain": [
              "<Figure size 432x288 with 2 Axes>"
            ],
            "image/png": "[encoded data removed]"
          },
          "metadata": {
            "needs_background": "light"
          }
        }
      ]
    },
    {
      "cell_type": "markdown",
      "source": [
        "#### Confusion Matrix for svm_clf test"
      ],
      "metadata": {
        "id": "Hf9Ij1B-E73O"
      }
    },
    {
      "cell_type": "code",
      "source": [
        "from sklearn.model_selection import cross_val_predict\n",
        "\n",
        "y_test_svm_pred = cross_val_predict(svm_clf, X_test_svm, y_test_svm, cv=3)"
      ],
      "metadata": {
        "id": "dVwdRcIME73P"
      },
      "execution_count": null,
      "outputs": []
    },
    {
      "cell_type": "code",
      "source": [
        "from sklearn.metrics import confusion_matrix\n",
        "cm = confusion_matrix(y_test_svm, y_test_svm_pred)\n",
        "cm"
      ],
      "metadata": {
        "colab": {
          "base_uri": "https://localhost:8080/"
        },
        "outputId": "f717e0a4-7e0f-47b6-d7a1-45a61e1ba189",
        "id": "AfwHL_BHE73P"
      },
      "execution_count": null,
      "outputs": [
        {
          "output_type": "execute_result",
          "data": {
            "text/plain": [
              "array([[242,  52],\n",
              "       [  0, 293]])"
            ]
          },
          "metadata": {},
          "execution_count": 64
        }
      ]
    },
    {
      "cell_type": "code",
      "source": [
        "from sklearn.metrics import precision_score, recall_score\n",
        "precision_score(y_test_svm, y_test_svm_pred).round(5)"
      ],
      "metadata": {
        "colab": {
          "base_uri": "https://localhost:8080/"
        },
        "outputId": "0d44af0f-07eb-4dee-ede7-8fd757192ade",
        "id": "XMk47kGEE73P"
      },
      "execution_count": null,
      "outputs": [
        {
          "output_type": "execute_result",
          "data": {
            "text/plain": [
              "0.84928"
            ]
          },
          "metadata": {},
          "execution_count": 65
        }
      ]
    },
    {
      "cell_type": "code",
      "source": [
        "recall_score(y_test_svm, y_test_svm_pred).round(5)"
      ],
      "metadata": {
        "colab": {
          "base_uri": "https://localhost:8080/"
        },
        "outputId": "0b78e90a-29b9-45cf-93cf-4af8c55ffa0e",
        "id": "av971hsWE73P"
      },
      "execution_count": null,
      "outputs": [
        {
          "output_type": "execute_result",
          "data": {
            "text/plain": [
              "1.0"
            ]
          },
          "metadata": {},
          "execution_count": 66
        }
      ]
    },
    {
      "cell_type": "code",
      "source": [
        "from sklearn.metrics import f1_score\n",
        "f1_score(y_test_svm, y_test_svm_pred).round(5)"
      ],
      "metadata": {
        "colab": {
          "base_uri": "https://localhost:8080/"
        },
        "outputId": "d0a8d379-85b0-4f9c-e6f9-6f301765f6e2",
        "id": "yM0VJ7koE73P"
      },
      "execution_count": null,
      "outputs": [
        {
          "output_type": "execute_result",
          "data": {
            "text/plain": [
              "0.9185"
            ]
          },
          "metadata": {},
          "execution_count": 67
        }
      ]
    },
    {
      "cell_type": "code",
      "source": [
        "from sklearn.metrics import ConfusionMatrixDisplay\n",
        "ConfusionMatrixDisplay.from_predictions(y_train_svm, y_train_svm_pred)\n",
        "save_fig(\"pizd_wo_svm_test_cm\")\n",
        "plt.show"
      ],
      "metadata": {
        "id": "ByDBle9NE1_r",
        "colab": {
          "base_uri": "https://localhost:8080/"
        },
        "outputId": "6f8b9e48-1dde-4a29-b57f-6dae63d2ab26"
      },
      "execution_count": null,
      "outputs": [
        {
          "output_type": "execute_result",
          "data": {
            "text/plain": [
              "<function matplotlib.pyplot.show(*args, **kw)>"
            ]
          },
          "metadata": {},
          "execution_count": 68
        },
        {
          "output_type": "display_data",
          "data": {
            "text/plain": [
              "<Figure size 432x288 with 2 Axes>"
            ],
            "image/png": "[encoded data removed]"
          },
          "metadata": {
            "needs_background": "light"
          }
        }
      ]
    },
    {
      "cell_type": "markdown",
      "source": [
        "### ✅Decision Tree (DT) classifier"
      ],
      "metadata": {
        "id": "tERwVzByBxmR"
      }
    },
    {
      "cell_type": "code",
      "source": [
        "from sklearn.tree import DecisionTreeClassifier\n",
        "from sklearn.model_selection import GridSearchCV\n",
        "from pprint import pprint\n",
        "dt_clf = DecisionTreeClassifier()\n"
      ],
      "metadata": {
        "id": "8C0xWQD6BxmR"
      },
      "execution_count": null,
      "outputs": []
    },
    {
      "cell_type": "code",
      "source": [
        "print('Parameters currently in use:\\n')\n",
        "pprint(dt_clf.get_params())"
      ],
      "metadata": {
        "colab": {
          "base_uri": "https://localhost:8080/"
        },
        "id": "y3qeIgKLv3Vv",
        "outputId": "bf62d2f6-f21e-4dfb-81d8-c00e50f3a070"
      },
      "execution_count": null,
      "outputs": [
        {
          "output_type": "stream",
          "name": "stdout",
          "text": [
            "Parameters currently in use:\n",
            "\n",
            "{'ccp_alpha': 0.0,\n",
            " 'class_weight': None,\n",
            " 'criterion': 'gini',\n",
            " 'max_depth': None,\n",
            " 'max_features': None,\n",
            " 'max_leaf_nodes': None,\n",
            " 'min_impurity_decrease': 0.0,\n",
            " 'min_samples_leaf': 1,\n",
            " 'min_samples_split': 2,\n",
            " 'min_weight_fraction_leaf': 0.0,\n",
            " 'random_state': None,\n",
            " 'splitter': 'best'}\n"
          ]
        }
      ]
    },
    {
      "cell_type": "code",
      "source": [
        "param_grid = {'max_depth': [1, 2, 3, 4, 5,6,7,8,9,10,15,20,30,40,50],\n",
        "              'max_features': [1, 2, 3, 4,5,6,7,8,9,10],\n",
        "              'random_state':[0, 1, 2, 3, 4, 5, 10, 15,20,35,50,80,100,150,180,200],\n",
        "              'criterion':['gini','entropy'],\n",
        "              }"
      ],
      "metadata": {
        "id": "ZKvZpxjuwEjb"
      },
      "execution_count": null,
      "outputs": []
    },
    {
      "cell_type": "code",
      "source": [
        "#GSCV_dt_clf = GridSearchCV(dt_clf, param_grid=param_grid, cv=10)\n",
        "#GSCV_dt_clf.fit(X_train, y_train)"
      ],
      "metadata": {
        "id": "GXV0-ANhwtAE"
      },
      "execution_count": null,
      "outputs": []
    },
    {
      "cell_type": "code",
      "source": [
        "#GSCV_dt_clf.best_params_"
      ],
      "metadata": {
        "id": "bt3RZ_5Hw6D6"
      },
      "execution_count": null,
      "outputs": []
    },
    {
      "cell_type": "code",
      "source": [
        "dt_clf1 = DecisionTreeClassifier(criterion='entropy', max_depth=3, max_features=1, random_state=35)"
      ],
      "metadata": {
        "id": "lQ59u8R1xSpk"
      },
      "execution_count": null,
      "outputs": []
    },
    {
      "cell_type": "code",
      "source": [
        "dt_clf1.fit(X_train, y_train)"
      ],
      "metadata": {
        "colab": {
          "base_uri": "https://localhost:8080/"
        },
        "id": "ItO1YyIpxY2V",
        "outputId": "bbfa0a1d-3494-4847-9f8f-f48ff1a9f993"
      },
      "execution_count": null,
      "outputs": [
        {
          "output_type": "execute_result",
          "data": {
            "text/plain": [
              "DecisionTreeClassifier(criterion='entropy', max_depth=3, max_features=1,\n",
              "                       random_state=35)"
            ]
          },
          "metadata": {},
          "execution_count": 75
        }
      ]
    },
    {
      "cell_type": "code",
      "source": [
        "print(f\"Decision Tree scored {dt_clf1.score(X_test, y_test).round(5)} on test\")\n",
        "print(f\"Decision Tree scored {dt_clf1.score(X_train, y_train).round(5)} on train\")"
      ],
      "metadata": {
        "colab": {
          "base_uri": "https://localhost:8080/"
        },
        "outputId": "ca99952f-c970-4e2e-fdc3-64d7ea5f2072",
        "id": "zGBvw3RXBxmS"
      },
      "execution_count": null,
      "outputs": [
        {
          "output_type": "stream",
          "name": "stdout",
          "text": [
            "Decision Tree scored 0.94378 on test\n",
            "Decision Tree scored 0.93928 on train\n"
          ]
        }
      ]
    },
    {
      "cell_type": "markdown",
      "source": [
        "#### Confusion Matrix for dt_clf1 train"
      ],
      "metadata": {
        "id": "jq0NFEP2BxmS"
      }
    },
    {
      "cell_type": "code",
      "source": [
        "from sklearn.model_selection import cross_val_predict\n",
        "\n",
        "y_train_pred = cross_val_predict(dt_clf1, X_train, y_train, cv=3)"
      ],
      "metadata": {
        "id": "QQDteKXRBxmT"
      },
      "execution_count": null,
      "outputs": []
    },
    {
      "cell_type": "code",
      "source": [
        "from sklearn.metrics import confusion_matrix\n",
        "cm = confusion_matrix(y_train, y_train_pred)\n",
        "cm"
      ],
      "metadata": {
        "colab": {
          "base_uri": "https://localhost:8080/"
        },
        "outputId": "f251291a-0f62-4fad-a3e7-d68e44e3dc72",
        "id": "INX01YOyBxmT"
      },
      "execution_count": null,
      "outputs": [
        {
          "output_type": "execute_result",
          "data": {
            "text/plain": [
              "array([[640,  64],\n",
              "       [ 17, 646]])"
            ]
          },
          "metadata": {},
          "execution_count": 78
        }
      ]
    },
    {
      "cell_type": "code",
      "source": [
        "from sklearn.metrics import precision_score, recall_score\n",
        "precision_score(y_train, y_train_pred).round(5)"
      ],
      "metadata": {
        "colab": {
          "base_uri": "https://localhost:8080/"
        },
        "outputId": "a5a0410a-391f-48f6-e2f7-f2754b9fafe2",
        "id": "Jf-4HRjnBxmT"
      },
      "execution_count": null,
      "outputs": [
        {
          "output_type": "execute_result",
          "data": {
            "text/plain": [
              "0.90986"
            ]
          },
          "metadata": {},
          "execution_count": 79
        }
      ]
    },
    {
      "cell_type": "code",
      "source": [
        "recall_score(y_train, y_train_pred).round(5)"
      ],
      "metadata": {
        "colab": {
          "base_uri": "https://localhost:8080/"
        },
        "outputId": "b7da0e86-7669-40e9-c448-0f908815019b",
        "id": "m_jNW-puBxmU"
      },
      "execution_count": null,
      "outputs": [
        {
          "output_type": "execute_result",
          "data": {
            "text/plain": [
              "0.97436"
            ]
          },
          "metadata": {},
          "execution_count": 80
        }
      ]
    },
    {
      "cell_type": "code",
      "source": [
        "from sklearn.metrics import f1_score\n",
        "f1_score(y_train, y_train_pred).round(5)"
      ],
      "metadata": {
        "colab": {
          "base_uri": "https://localhost:8080/"
        },
        "outputId": "44cd9628-847f-4c01-a248-fb479fff665e",
        "id": "b5WCRkjYBxmU"
      },
      "execution_count": null,
      "outputs": [
        {
          "output_type": "execute_result",
          "data": {
            "text/plain": [
              "0.94101"
            ]
          },
          "metadata": {},
          "execution_count": 81
        }
      ]
    },
    {
      "cell_type": "code",
      "source": [
        "from sklearn.metrics import ConfusionMatrixDisplay\n",
        "ConfusionMatrixDisplay.from_predictions(y_train, y_train_pred)\n",
        "save_fig(\"pizd_wo_dt_train_cm\")\n",
        "plt.show"
      ],
      "metadata": {
        "colab": {
          "base_uri": "https://localhost:8080/"
        },
        "id": "58D6flxjFcLl",
        "outputId": "848bff37-4b9c-4f93-ce38-fe7a54a17603"
      },
      "execution_count": null,
      "outputs": [
        {
          "output_type": "execute_result",
          "data": {
            "text/plain": [
              "<function matplotlib.pyplot.show(*args, **kw)>"
            ]
          },
          "metadata": {},
          "execution_count": 82
        },
        {
          "output_type": "display_data",
          "data": {
            "text/plain": [
              "<Figure size 432x288 with 2 Axes>"
            ],
            "image/png": "[encoded data removed]"
          },
          "metadata": {
            "needs_background": "light"
          }
        }
      ]
    },
    {
      "cell_type": "markdown",
      "source": [
        "#### Confusion Matrix for dt_clf1 test"
      ],
      "metadata": {
        "id": "yhD6wJhiGTTf"
      }
    },
    {
      "cell_type": "code",
      "source": [
        "from sklearn.model_selection import cross_val_predict\n",
        "\n",
        "y_test_pred = cross_val_predict(dt_clf1, X_test, y_test, cv=3)"
      ],
      "metadata": {
        "id": "hkr3RulXGTTf"
      },
      "execution_count": null,
      "outputs": []
    },
    {
      "cell_type": "code",
      "source": [
        "from sklearn.metrics import confusion_matrix\n",
        "cm = confusion_matrix(y_test, y_test_pred)\n",
        "cm"
      ],
      "metadata": {
        "colab": {
          "base_uri": "https://localhost:8080/"
        },
        "outputId": "9d5aeeae-5d98-49e6-a9a8-f30b438b5dd2",
        "id": "hZZlOk1pGTTg"
      },
      "execution_count": null,
      "outputs": [
        {
          "output_type": "execute_result",
          "data": {
            "text/plain": [
              "array([[266,  28],\n",
              "       [  6, 287]])"
            ]
          },
          "metadata": {},
          "execution_count": 84
        }
      ]
    },
    {
      "cell_type": "code",
      "source": [
        "from sklearn.metrics import precision_score, recall_score\n",
        "precision_score(y_test, y_test_pred).round(5)"
      ],
      "metadata": {
        "colab": {
          "base_uri": "https://localhost:8080/"
        },
        "outputId": "b56b8969-5e7f-4507-81a1-3bef8901e47c",
        "id": "NiSSjrplGTTg"
      },
      "execution_count": null,
      "outputs": [
        {
          "output_type": "execute_result",
          "data": {
            "text/plain": [
              "0.91111"
            ]
          },
          "metadata": {},
          "execution_count": 85
        }
      ]
    },
    {
      "cell_type": "code",
      "source": [
        "recall_score(y_test, y_test_pred).round(5)"
      ],
      "metadata": {
        "colab": {
          "base_uri": "https://localhost:8080/"
        },
        "outputId": "f08ba768-32c6-4278-d5c0-951c9222b3d6",
        "id": "F6q-alaqGTTg"
      },
      "execution_count": null,
      "outputs": [
        {
          "output_type": "execute_result",
          "data": {
            "text/plain": [
              "0.97952"
            ]
          },
          "metadata": {},
          "execution_count": 86
        }
      ]
    },
    {
      "cell_type": "code",
      "source": [
        "from sklearn.metrics import f1_score\n",
        "f1_score(y_test, y_test_pred).round(5)"
      ],
      "metadata": {
        "colab": {
          "base_uri": "https://localhost:8080/"
        },
        "outputId": "4d601f73-1e18-4e05-a486-c2b4f779d463",
        "id": "cj94fifOGTTg"
      },
      "execution_count": null,
      "outputs": [
        {
          "output_type": "execute_result",
          "data": {
            "text/plain": [
              "0.94408"
            ]
          },
          "metadata": {},
          "execution_count": 87
        }
      ]
    },
    {
      "cell_type": "code",
      "source": [
        "from sklearn.metrics import ConfusionMatrixDisplay\n",
        "ConfusionMatrixDisplay.from_predictions(y_test, y_test_pred)\n",
        "save_fig(\"pizd_wo_dt_test_cm\")\n",
        "plt.show"
      ],
      "metadata": {
        "id": "wNqYEPtlGBcH",
        "colab": {
          "base_uri": "https://localhost:8080/"
        },
        "outputId": "74d0d97b-a501-4452-862e-c18002b2f3d6"
      },
      "execution_count": null,
      "outputs": [
        {
          "output_type": "execute_result",
          "data": {
            "text/plain": [
              "<function matplotlib.pyplot.show(*args, **kw)>"
            ]
          },
          "metadata": {},
          "execution_count": 88
        },
        {
          "output_type": "display_data",
          "data": {
            "text/plain": [
              "<Figure size 432x288 with 2 Axes>"
            ],
            "image/png": "[encoded data removed]"
          },
          "metadata": {
            "needs_background": "light"
          }
        }
      ]
    },
    {
      "cell_type": "markdown",
      "source": [
        "### Bagging Decision Tree (BG) classifier (ensemble)"
      ],
      "metadata": {
        "id": "A27x2z00Ndy_"
      }
    },
    {
      "cell_type": "code",
      "source": [
        "from sklearn.ensemble import BaggingClassifier\n",
        "from sklearn.tree import DecisionTreeClassifier\n",
        "# max_samples: maximum size 0.5=50% of each sample taken from the full dataset\n",
        "# max_features: maximum of features 1=100% taken here all 10K \n",
        "# n_estimators: number of decision trees \n",
        "bg_clf=BaggingClassifier(DecisionTreeClassifier(),max_samples=0.5,max_features=1.0,n_estimators=10)\n",
        "bg_clf.fit(X_train, y_train)\n"
      ],
      "metadata": {
        "colab": {
          "base_uri": "https://localhost:8080/"
        },
        "outputId": "2e53cf24-7584-4cdc-adf6-54fa25516e8e",
        "id": "-irCB0E7NdzA"
      },
      "execution_count": null,
      "outputs": [
        {
          "output_type": "execute_result",
          "data": {
            "text/plain": [
              "BaggingClassifier(base_estimator=DecisionTreeClassifier(), max_samples=0.5)"
            ]
          },
          "metadata": {},
          "execution_count": 89
        }
      ]
    },
    {
      "cell_type": "code",
      "source": [
        "print(f\"Bagging Decision Tree scored {bg_clf.score(X_test, y_test).round(5)} on test\")\n",
        "print(f\"Bagging Decision Tree scored {bg_clf.score(X_train, y_train).round(5)} on train\")"
      ],
      "metadata": {
        "colab": {
          "base_uri": "https://localhost:8080/"
        },
        "outputId": "c1c8f80e-c37f-4daf-e2ed-ec71915d6ac1",
        "id": "h8vRAPloNdzA"
      },
      "execution_count": null,
      "outputs": [
        {
          "output_type": "stream",
          "name": "stdout",
          "text": [
            "Bagging Decision Tree scored 0.94378 on test\n",
            "Bagging Decision Tree scored 0.96562 on train\n"
          ]
        }
      ]
    },
    {
      "cell_type": "markdown",
      "source": [
        "#### Confusion Matrix for bg_clf train"
      ],
      "metadata": {
        "id": "fWDoVNX4NdzB"
      }
    },
    {
      "cell_type": "code",
      "source": [
        "from sklearn.model_selection import cross_val_predict\n",
        "\n",
        "y_train_pred = cross_val_predict(bg_clf, X_train, y_train, cv=3)"
      ],
      "metadata": {
        "id": "xxUDEUScNdzB"
      },
      "execution_count": null,
      "outputs": []
    },
    {
      "cell_type": "code",
      "source": [
        "from sklearn.metrics import confusion_matrix\n",
        "cm = confusion_matrix(y_train, y_train_pred)\n",
        "cm"
      ],
      "metadata": {
        "colab": {
          "base_uri": "https://localhost:8080/"
        },
        "outputId": "74667f4c-9256-42ad-aa0a-1f9431fad4c4",
        "id": "50NpffJ_NdzB"
      },
      "execution_count": null,
      "outputs": [
        {
          "output_type": "execute_result",
          "data": {
            "text/plain": [
              "array([[646,  58],\n",
              "       [ 40, 623]])"
            ]
          },
          "metadata": {},
          "execution_count": 92
        }
      ]
    },
    {
      "cell_type": "code",
      "source": [
        "from sklearn.metrics import precision_score, recall_score\n",
        "precision_score(y_train, y_train_pred).round(5)"
      ],
      "metadata": {
        "colab": {
          "base_uri": "https://localhost:8080/"
        },
        "outputId": "f3025cd6-8792-4b1e-c7fd-5bb39a5033fe",
        "id": "_Xl_bzYzNdzC"
      },
      "execution_count": null,
      "outputs": [
        {
          "output_type": "execute_result",
          "data": {
            "text/plain": [
              "0.91483"
            ]
          },
          "metadata": {},
          "execution_count": 93
        }
      ]
    },
    {
      "cell_type": "code",
      "source": [
        "recall_score(y_train, y_train_pred).round(5)"
      ],
      "metadata": {
        "colab": {
          "base_uri": "https://localhost:8080/"
        },
        "outputId": "f9852b78-8976-48ac-f2e7-4226e32897e9",
        "id": "i_MsVFtbNdzC"
      },
      "execution_count": null,
      "outputs": [
        {
          "output_type": "execute_result",
          "data": {
            "text/plain": [
              "0.93967"
            ]
          },
          "metadata": {},
          "execution_count": 94
        }
      ]
    },
    {
      "cell_type": "code",
      "source": [
        "from sklearn.metrics import f1_score\n",
        "f1_score(y_train, y_train_pred).round(5)"
      ],
      "metadata": {
        "colab": {
          "base_uri": "https://localhost:8080/"
        },
        "outputId": "543114e7-4acd-42b7-c47d-1e73b0fe2f9c",
        "id": "WIFr9DJmNdzD"
      },
      "execution_count": null,
      "outputs": [
        {
          "output_type": "execute_result",
          "data": {
            "text/plain": [
              "0.92708"
            ]
          },
          "metadata": {},
          "execution_count": 95
        }
      ]
    },
    {
      "cell_type": "code",
      "source": [
        "from sklearn.metrics import ConfusionMatrixDisplay\n",
        "ConfusionMatrixDisplay.from_predictions(y_train, y_train_pred)\n",
        "save_fig(\"pizd_wo_bg_train_cm\")\n",
        "plt.show"
      ],
      "metadata": {
        "colab": {
          "base_uri": "https://localhost:8080/"
        },
        "id": "EpWg5xeeG36j",
        "outputId": "35143c62-5860-4cdf-b890-f00221c648bc"
      },
      "execution_count": null,
      "outputs": [
        {
          "output_type": "execute_result",
          "data": {
            "text/plain": [
              "<function matplotlib.pyplot.show(*args, **kw)>"
            ]
          },
          "metadata": {},
          "execution_count": 96
        },
        {
          "output_type": "display_data",
          "data": {
            "text/plain": [
              "<Figure size 432x288 with 2 Axes>"
            ],
            "image/png": "[encoded data removed]"
          },
          "metadata": {
            "needs_background": "light"
          }
        }
      ]
    },
    {
      "cell_type": "markdown",
      "source": [
        "#### Confusion Matrix for bg_clf test"
      ],
      "metadata": {
        "id": "KptbNLORHZQO"
      }
    },
    {
      "cell_type": "code",
      "source": [
        "from sklearn.model_selection import cross_val_predict\n",
        "\n",
        "y_test_pred = cross_val_predict(bg_clf, X_test, y_test, cv=3)"
      ],
      "metadata": {
        "id": "4HuEM7jTHZQO"
      },
      "execution_count": null,
      "outputs": []
    },
    {
      "cell_type": "code",
      "source": [
        "from sklearn.metrics import confusion_matrix\n",
        "cm = confusion_matrix(y_test, y_test_pred)\n",
        "cm"
      ],
      "metadata": {
        "colab": {
          "base_uri": "https://localhost:8080/"
        },
        "outputId": "e77b8c15-dd81-4c2e-8864-0663e713050a",
        "id": "bOBtSmc9HZQO"
      },
      "execution_count": null,
      "outputs": [
        {
          "output_type": "execute_result",
          "data": {
            "text/plain": [
              "array([[268,  26],\n",
              "       [ 14, 279]])"
            ]
          },
          "metadata": {},
          "execution_count": 98
        }
      ]
    },
    {
      "cell_type": "code",
      "source": [
        "from sklearn.metrics import precision_score, recall_score\n",
        "precision_score(y_test, y_test_pred).round(5)"
      ],
      "metadata": {
        "colab": {
          "base_uri": "https://localhost:8080/"
        },
        "outputId": "a27c8579-7bff-4ec9-b05b-dfbd58ca8c71",
        "id": "9dsbNcl7HZQP"
      },
      "execution_count": null,
      "outputs": [
        {
          "output_type": "execute_result",
          "data": {
            "text/plain": [
              "0.91475"
            ]
          },
          "metadata": {},
          "execution_count": 99
        }
      ]
    },
    {
      "cell_type": "code",
      "source": [
        "recall_score(y_test, y_test_pred).round(5)"
      ],
      "metadata": {
        "colab": {
          "base_uri": "https://localhost:8080/"
        },
        "outputId": "959f4696-4547-4f13-ff9f-2a57def12330",
        "id": "rF1Ha89VHZQP"
      },
      "execution_count": null,
      "outputs": [
        {
          "output_type": "execute_result",
          "data": {
            "text/plain": [
              "0.95222"
            ]
          },
          "metadata": {},
          "execution_count": 100
        }
      ]
    },
    {
      "cell_type": "code",
      "source": [
        "from sklearn.metrics import f1_score\n",
        "f1_score(y_test, y_test_pred).round(5)"
      ],
      "metadata": {
        "colab": {
          "base_uri": "https://localhost:8080/"
        },
        "outputId": "82d9a0c1-daf2-4722-d36d-353a61f4c02d",
        "id": "iLJzK_JSHZQP"
      },
      "execution_count": null,
      "outputs": [
        {
          "output_type": "execute_result",
          "data": {
            "text/plain": [
              "0.93311"
            ]
          },
          "metadata": {},
          "execution_count": 101
        }
      ]
    },
    {
      "cell_type": "code",
      "source": [
        "from sklearn.metrics import ConfusionMatrixDisplay\n",
        "ConfusionMatrixDisplay.from_predictions(y_test, y_test_pred)\n",
        "save_fig(\"pizd_wo_bg_test_cm\")\n",
        "plt.show"
      ],
      "metadata": {
        "id": "tSrjlpUpF3Fv",
        "colab": {
          "base_uri": "https://localhost:8080/"
        },
        "outputId": "85803389-8a41-44da-a5ec-354f8e2050a7"
      },
      "execution_count": null,
      "outputs": [
        {
          "output_type": "execute_result",
          "data": {
            "text/plain": [
              "<function matplotlib.pyplot.show(*args, **kw)>"
            ]
          },
          "metadata": {},
          "execution_count": 102
        },
        {
          "output_type": "display_data",
          "data": {
            "text/plain": [
              "<Figure size 432x288 with 2 Axes>"
            ],
            "image/png": "[encoded data removed]"
          },
          "metadata": {
            "needs_background": "light"
          }
        }
      ]
    },
    {
      "cell_type": "markdown",
      "source": [
        "### Boosting Decision Tree (ADB) classifier (ensemble). **GridSearchCV was not used in this case.**"
      ],
      "metadata": {
        "id": "-aPg2aXxOzXe"
      }
    },
    {
      "cell_type": "code",
      "source": [
        "from sklearn.ensemble import AdaBoostClassifier\n",
        "from sklearn.tree import DecisionTreeClassifier\n",
        "from sklearn.model_selection import GridSearchCV\n",
        "from pprint import pprint"
      ],
      "metadata": {
        "id": "LjqC-fyebGRZ"
      },
      "execution_count": null,
      "outputs": []
    },
    {
      "cell_type": "code",
      "source": [
        "adb_clf = AdaBoostClassifier(DecisionTreeClassifier())"
      ],
      "metadata": {
        "id": "gXyAniVubNF3"
      },
      "execution_count": null,
      "outputs": []
    },
    {
      "cell_type": "code",
      "source": [
        "print('Parameters currently in use:\\n')\n",
        "pprint(adb_clf.get_params())"
      ],
      "metadata": {
        "colab": {
          "base_uri": "https://localhost:8080/"
        },
        "id": "tPPSpowHbfqR",
        "outputId": "7141b23b-4906-4a48-cbc7-a07b4a43be8a"
      },
      "execution_count": null,
      "outputs": [
        {
          "output_type": "stream",
          "name": "stdout",
          "text": [
            "Parameters currently in use:\n",
            "\n",
            "{'algorithm': 'SAMME.R',\n",
            " 'base_estimator': DecisionTreeClassifier(),\n",
            " 'base_estimator__ccp_alpha': 0.0,\n",
            " 'base_estimator__class_weight': None,\n",
            " 'base_estimator__criterion': 'gini',\n",
            " 'base_estimator__max_depth': None,\n",
            " 'base_estimator__max_features': None,\n",
            " 'base_estimator__max_leaf_nodes': None,\n",
            " 'base_estimator__min_impurity_decrease': 0.0,\n",
            " 'base_estimator__min_samples_leaf': 1,\n",
            " 'base_estimator__min_samples_split': 2,\n",
            " 'base_estimator__min_weight_fraction_leaf': 0.0,\n",
            " 'base_estimator__random_state': None,\n",
            " 'base_estimator__splitter': 'best',\n",
            " 'learning_rate': 1.0,\n",
            " 'n_estimators': 50,\n",
            " 'random_state': None}\n"
          ]
        }
      ]
    },
    {
      "cell_type": "code",
      "source": [
        "param_grid = {'base_estimator__max_depth':[i for i in range(2,11,2)],\n",
        "              'base_estimator__min_samples_leaf':[5,10],\n",
        "              'n_estimators':[10,50,250,1000],\n",
        "              'learning_rate':[0.01,0.1]\n",
        "              }"
      ],
      "metadata": {
        "id": "YOZnh1b9brs3"
      },
      "execution_count": null,
      "outputs": []
    },
    {
      "cell_type": "code",
      "source": [
        "#GSCV_adb_clf = GridSearchCV(adb_clf, param_grid=param_grid, scoring='f1', n_jobs=-1)\n",
        "#GSCV_adb_clf.fit(X_train, y_train)"
      ],
      "metadata": {
        "id": "d0uj_YcPb9ig"
      },
      "execution_count": null,
      "outputs": []
    },
    {
      "cell_type": "code",
      "source": [
        "#GSCV_adb_clf.best_params_"
      ],
      "metadata": {
        "id": "RjYt-ffbtRIx"
      },
      "execution_count": null,
      "outputs": []
    },
    {
      "cell_type": "code",
      "source": [
        "#adb_clf1 = AdaBoostClassifier(DecisionTreeClassifier(min_samples_leaf=5,max_depth=6),n_estimators=10,learning_rate=0.01)"
      ],
      "metadata": {
        "id": "9T4kVLEqtQ-0"
      },
      "execution_count": null,
      "outputs": []
    },
    {
      "cell_type": "code",
      "source": [
        "#adb_clf1.fit(X_train, y_train)"
      ],
      "metadata": {
        "id": "k9TgF7yjtQ2G"
      },
      "execution_count": null,
      "outputs": []
    },
    {
      "cell_type": "code",
      "source": [
        "from sklearn.ensemble import AdaBoostClassifier\n",
        "from sklearn.tree import DecisionTreeClassifier\n",
        "adb_clf = AdaBoostClassifier(DecisionTreeClassifier(min_samples_split=10,max_depth=4),n_estimators=10,learning_rate=0.6)\n",
        "adb_clf.fit(X_train, y_train)\n"
      ],
      "metadata": {
        "colab": {
          "base_uri": "https://localhost:8080/"
        },
        "outputId": "e6b4b61c-6bba-4e2e-a2a1-bfcb68098175",
        "id": "-v-jA4nDOzXe"
      },
      "execution_count": null,
      "outputs": [
        {
          "output_type": "execute_result",
          "data": {
            "text/plain": [
              "AdaBoostClassifier(base_estimator=DecisionTreeClassifier(max_depth=4,\n",
              "                                                         min_samples_split=10),\n",
              "                   learning_rate=0.6, n_estimators=10)"
            ]
          },
          "metadata": {},
          "execution_count": 111
        }
      ]
    },
    {
      "cell_type": "code",
      "source": [
        "print(f\"AdaBoost Classifier scored {adb_clf.score(X_test, y_test).round(5)} on test\")\n",
        "print(f\"AdaBoost Classifier scored {adb_clf.score(X_train, y_train).round(5)} on train\")"
      ],
      "metadata": {
        "colab": {
          "base_uri": "https://localhost:8080/"
        },
        "outputId": "0c32e612-bfe1-4b50-b1be-018e0c8e9938",
        "id": "JWItlt8COzXf"
      },
      "execution_count": null,
      "outputs": [
        {
          "output_type": "stream",
          "name": "stdout",
          "text": [
            "AdaBoost Classifier scored 0.94549 on test\n",
            "AdaBoost Classifier scored 0.96635 on train\n"
          ]
        }
      ]
    },
    {
      "cell_type": "markdown",
      "source": [
        "#### Confusion Matrix for adb_clf train"
      ],
      "metadata": {
        "id": "KxQI4QE-OzXf"
      }
    },
    {
      "cell_type": "code",
      "source": [
        "from sklearn.model_selection import cross_val_predict\n",
        "\n",
        "y_train_pred = cross_val_predict(adb_clf, X_train, y_train, cv=3)"
      ],
      "metadata": {
        "id": "pwG2uuJSOzXf"
      },
      "execution_count": null,
      "outputs": []
    },
    {
      "cell_type": "code",
      "source": [
        "from sklearn.metrics import confusion_matrix\n",
        "cm = confusion_matrix(y_train, y_train_pred)\n",
        "cm"
      ],
      "metadata": {
        "colab": {
          "base_uri": "https://localhost:8080/"
        },
        "outputId": "13fc69eb-56a3-4a9a-a364-d3228de04dbf",
        "id": "q4onkjRxOzXf"
      },
      "execution_count": null,
      "outputs": [
        {
          "output_type": "execute_result",
          "data": {
            "text/plain": [
              "array([[636,  68],\n",
              "       [ 42, 621]])"
            ]
          },
          "metadata": {},
          "execution_count": 114
        }
      ]
    },
    {
      "cell_type": "code",
      "source": [
        "from sklearn.metrics import precision_score, recall_score\n",
        "precision_score(y_train, y_train_pred).round(5)"
      ],
      "metadata": {
        "colab": {
          "base_uri": "https://localhost:8080/"
        },
        "outputId": "81a1fa5b-3f9f-4341-de64-47a021b2dd9c",
        "id": "ySanJJvVOzXf"
      },
      "execution_count": null,
      "outputs": [
        {
          "output_type": "execute_result",
          "data": {
            "text/plain": [
              "0.90131"
            ]
          },
          "metadata": {},
          "execution_count": 115
        }
      ]
    },
    {
      "cell_type": "code",
      "source": [
        "recall_score(y_train, y_train_pred).round(5)"
      ],
      "metadata": {
        "colab": {
          "base_uri": "https://localhost:8080/"
        },
        "outputId": "01dee10b-9373-4235-dd49-e0705a2111e2",
        "id": "i286TrdkOzXf"
      },
      "execution_count": null,
      "outputs": [
        {
          "output_type": "execute_result",
          "data": {
            "text/plain": [
              "0.93665"
            ]
          },
          "metadata": {},
          "execution_count": 116
        }
      ]
    },
    {
      "cell_type": "code",
      "source": [
        "from sklearn.metrics import f1_score\n",
        "f1_score(y_train, y_train_pred).round(5)"
      ],
      "metadata": {
        "colab": {
          "base_uri": "https://localhost:8080/"
        },
        "outputId": "c15cf9e7-cc38-4236-d136-79f3bb4a445f",
        "id": "tjq48f0sOzXg"
      },
      "execution_count": null,
      "outputs": [
        {
          "output_type": "execute_result",
          "data": {
            "text/plain": [
              "0.91864"
            ]
          },
          "metadata": {},
          "execution_count": 117
        }
      ]
    },
    {
      "cell_type": "code",
      "source": [
        "from sklearn.metrics import ConfusionMatrixDisplay\n",
        "ConfusionMatrixDisplay.from_predictions(y_train, y_train_pred)\n",
        "save_fig(\"pizd_wo_adb_train_cm\")\n",
        "plt.show"
      ],
      "metadata": {
        "colab": {
          "base_uri": "https://localhost:8080/"
        },
        "id": "RiUXAUzaI34H",
        "outputId": "1f7ad4a2-9cf4-4289-a528-aacfb1a7d707"
      },
      "execution_count": null,
      "outputs": [
        {
          "output_type": "execute_result",
          "data": {
            "text/plain": [
              "<function matplotlib.pyplot.show(*args, **kw)>"
            ]
          },
          "metadata": {},
          "execution_count": 118
        },
        {
          "output_type": "display_data",
          "data": {
            "text/plain": [
              "<Figure size 432x288 with 2 Axes>"
            ],
            "image/png": "[encoded data removed]"
          },
          "metadata": {
            "needs_background": "light"
          }
        }
      ]
    },
    {
      "cell_type": "markdown",
      "source": [
        "#### Confusion Matrix for adb_clf test"
      ],
      "metadata": {
        "id": "PemSerD7JQA4"
      }
    },
    {
      "cell_type": "code",
      "source": [
        "from sklearn.model_selection import cross_val_predict\n",
        "\n",
        "y_test_pred = cross_val_predict(adb_clf, X_test, y_test, cv=3)"
      ],
      "metadata": {
        "id": "Mw7X9hVVJQA5"
      },
      "execution_count": null,
      "outputs": []
    },
    {
      "cell_type": "code",
      "source": [
        "from sklearn.metrics import confusion_matrix\n",
        "cm = confusion_matrix(y_test, y_test_pred)\n",
        "cm"
      ],
      "metadata": {
        "colab": {
          "base_uri": "https://localhost:8080/"
        },
        "outputId": "b2ad3878-99ee-44bf-891b-8d26f4633fd8",
        "id": "PASwR4GMJQA5"
      },
      "execution_count": null,
      "outputs": [
        {
          "output_type": "execute_result",
          "data": {
            "text/plain": [
              "array([[265,  29],\n",
              "       [ 22, 271]])"
            ]
          },
          "metadata": {},
          "execution_count": 120
        }
      ]
    },
    {
      "cell_type": "code",
      "source": [
        "from sklearn.metrics import precision_score, recall_score\n",
        "precision_score(y_test, y_test_pred).round(5)"
      ],
      "metadata": {
        "colab": {
          "base_uri": "https://localhost:8080/"
        },
        "outputId": "43fd23e2-fe4f-44b3-f296-2817f8637372",
        "id": "P50PB2A4JQA5"
      },
      "execution_count": null,
      "outputs": [
        {
          "output_type": "execute_result",
          "data": {
            "text/plain": [
              "0.90333"
            ]
          },
          "metadata": {},
          "execution_count": 121
        }
      ]
    },
    {
      "cell_type": "code",
      "source": [
        "recall_score(y_test, y_test_pred).round(5)"
      ],
      "metadata": {
        "colab": {
          "base_uri": "https://localhost:8080/"
        },
        "outputId": "63448124-7440-4f5b-d01c-c56bc3272a38",
        "id": "DiUR17lZJQA6"
      },
      "execution_count": null,
      "outputs": [
        {
          "output_type": "execute_result",
          "data": {
            "text/plain": [
              "0.92491"
            ]
          },
          "metadata": {},
          "execution_count": 122
        }
      ]
    },
    {
      "cell_type": "code",
      "source": [
        "from sklearn.metrics import f1_score\n",
        "f1_score(y_test, y_test_pred).round(5)"
      ],
      "metadata": {
        "colab": {
          "base_uri": "https://localhost:8080/"
        },
        "outputId": "c8274afd-f41c-4faa-88a7-0cd8147d2918",
        "id": "h71jJYGQJQA6"
      },
      "execution_count": null,
      "outputs": [
        {
          "output_type": "execute_result",
          "data": {
            "text/plain": [
              "0.914"
            ]
          },
          "metadata": {},
          "execution_count": 123
        }
      ]
    },
    {
      "cell_type": "code",
      "source": [
        "from sklearn.metrics import ConfusionMatrixDisplay\n",
        "ConfusionMatrixDisplay.from_predictions(y_test, y_test_pred)\n",
        "save_fig(\"pizd_wo_adb_test_cm\")\n",
        "plt.show"
      ],
      "metadata": {
        "id": "QcX_ZTxjJCig",
        "colab": {
          "base_uri": "https://localhost:8080/"
        },
        "outputId": "3e83b7fa-f1ed-45d3-cb26-30a612b0577b"
      },
      "execution_count": null,
      "outputs": [
        {
          "output_type": "execute_result",
          "data": {
            "text/plain": [
              "<function matplotlib.pyplot.show(*args, **kw)>"
            ]
          },
          "metadata": {},
          "execution_count": 124
        },
        {
          "output_type": "display_data",
          "data": {
            "text/plain": [
              "<Figure size 432x288 with 2 Axes>"
            ],
            "image/png": "[encoded data removed]"
          },
          "metadata": {
            "needs_background": "light"
          }
        }
      ]
    },
    {
      "cell_type": "markdown",
      "source": [
        "### ✅Random Forest (RF) classifier (ensemble)"
      ],
      "metadata": {
        "id": "4oiTulpMOPvt"
      }
    },
    {
      "cell_type": "code",
      "source": [
        "from sklearn.ensemble import RandomForestClassifier\n",
        "from sklearn.model_selection import GridSearchCV\n",
        "from pprint import pprint"
      ],
      "metadata": {
        "id": "cIqzeFOuOj5F"
      },
      "execution_count": null,
      "outputs": []
    },
    {
      "cell_type": "code",
      "source": [
        "rf_clf = RandomForestClassifier(random_state=42)"
      ],
      "metadata": {
        "id": "MaMjP3W-ZU_E"
      },
      "execution_count": null,
      "outputs": []
    },
    {
      "cell_type": "code",
      "source": [
        "print('Parameters currently in use:\\n')\n",
        "pprint(rf_clf.get_params())"
      ],
      "metadata": {
        "colab": {
          "base_uri": "https://localhost:8080/"
        },
        "id": "Px6pQ6mEZdei",
        "outputId": "28563ad4-c1e9-48fc-f139-6882ad84272a"
      },
      "execution_count": null,
      "outputs": [
        {
          "output_type": "stream",
          "name": "stdout",
          "text": [
            "Parameters currently in use:\n",
            "\n",
            "{'bootstrap': True,\n",
            " 'ccp_alpha': 0.0,\n",
            " 'class_weight': None,\n",
            " 'criterion': 'gini',\n",
            " 'max_depth': None,\n",
            " 'max_features': 'auto',\n",
            " 'max_leaf_nodes': None,\n",
            " 'max_samples': None,\n",
            " 'min_impurity_decrease': 0.0,\n",
            " 'min_samples_leaf': 1,\n",
            " 'min_samples_split': 2,\n",
            " 'min_weight_fraction_leaf': 0.0,\n",
            " 'n_estimators': 100,\n",
            " 'n_jobs': None,\n",
            " 'oob_score': False,\n",
            " 'random_state': 42,\n",
            " 'verbose': 0,\n",
            " 'warm_start': False}\n"
          ]
        }
      ]
    },
    {
      "cell_type": "code",
      "source": [
        "param_grid = { \n",
        "    'n_estimators': [200, 500],\n",
        "    'max_features': ['auto', 'sqrt', 'log2'],\n",
        "    'max_depth' : [4,5,6,7,8],\n",
        "    'criterion' :['gini', 'entropy']\n",
        "}"
      ],
      "metadata": {
        "id": "oBVPErS0_vQA"
      },
      "execution_count": null,
      "outputs": []
    },
    {
      "cell_type": "code",
      "source": [
        "#GSCV_rf_clf = GridSearchCV(estimator=rf_clf, param_grid=param_grid, cv=5)\n",
        "#GSCV_rf_clf.fit(X_train, y_train)\n"
      ],
      "metadata": {
        "id": "Lp_bph7b_7oF"
      },
      "execution_count": null,
      "outputs": []
    },
    {
      "cell_type": "code",
      "source": [
        "#GSCV_rf_clf.best_params_"
      ],
      "metadata": {
        "id": "uJattruzBFHT"
      },
      "execution_count": null,
      "outputs": []
    },
    {
      "cell_type": "code",
      "source": [
        "rf_clf1 = RandomForestClassifier(random_state=42, max_features='auto', n_estimators=200, \\\n",
        "                                 max_depth=6, criterion='entropy')"
      ],
      "metadata": {
        "id": "f5MGLYVvBWAD"
      },
      "execution_count": null,
      "outputs": []
    },
    {
      "cell_type": "code",
      "source": [
        "rf_clf1.fit(X_train, y_train)"
      ],
      "metadata": {
        "colab": {
          "base_uri": "https://localhost:8080/"
        },
        "id": "cUEt3w2RB3PA",
        "outputId": "d0dca34e-10f4-46d7-dd8a-8dc9eacecc67"
      },
      "execution_count": null,
      "outputs": [
        {
          "output_type": "execute_result",
          "data": {
            "text/plain": [
              "RandomForestClassifier(criterion='entropy', max_depth=6, n_estimators=200,\n",
              "                       random_state=42)"
            ]
          },
          "metadata": {},
          "execution_count": 132
        }
      ]
    },
    {
      "cell_type": "code",
      "source": [
        "print(f\"Random Forest scored {rf_clf1.score(X_test, y_test).round(5)} on test\")\n",
        "print(f\"Random Forest scored {rf_clf1.score(X_train, y_train).round(5)} on train\")"
      ],
      "metadata": {
        "colab": {
          "base_uri": "https://localhost:8080/"
        },
        "id": "-vZdijGVV-8D",
        "outputId": "6a8dc380-5636-40ba-c10b-719817568d53"
      },
      "execution_count": null,
      "outputs": [
        {
          "output_type": "stream",
          "name": "stdout",
          "text": [
            "Random Forest scored 0.94719 on test\n",
            "Random Forest scored 0.9444 on train\n"
          ]
        }
      ]
    },
    {
      "cell_type": "markdown",
      "source": [
        "#### Confusion Matrix for rf_clf1 train"
      ],
      "metadata": {
        "id": "q8XXGfdtahvn"
      }
    },
    {
      "cell_type": "code",
      "source": [
        "from sklearn.model_selection import cross_val_predict\n",
        "\n",
        "y_train_pred = cross_val_predict(rf_clf1, X_train, y_train, cv=3)"
      ],
      "metadata": {
        "id": "-spnHbs_GggK"
      },
      "execution_count": null,
      "outputs": []
    },
    {
      "cell_type": "code",
      "source": [
        "from sklearn.metrics import confusion_matrix\n",
        "cm = confusion_matrix(y_train, y_train_pred)\n",
        "cm"
      ],
      "metadata": {
        "id": "ImIsf67tG5i8",
        "colab": {
          "base_uri": "https://localhost:8080/"
        },
        "outputId": "aa35b772-c494-4ec6-c3b2-7a1c964377f6"
      },
      "execution_count": null,
      "outputs": [
        {
          "output_type": "execute_result",
          "data": {
            "text/plain": [
              "array([[629,  75],\n",
              "       [ 12, 651]])"
            ]
          },
          "metadata": {},
          "execution_count": 135
        }
      ]
    },
    {
      "cell_type": "code",
      "source": [
        "from sklearn.metrics import precision_score, recall_score\n",
        "precision_score(y_train, y_train_pred).round(5)"
      ],
      "metadata": {
        "id": "2BEMdN2cHOLl",
        "colab": {
          "base_uri": "https://localhost:8080/"
        },
        "outputId": "5a78ac97-6627-4478-d6ba-6b42e005d32c"
      },
      "execution_count": null,
      "outputs": [
        {
          "output_type": "execute_result",
          "data": {
            "text/plain": [
              "0.89669"
            ]
          },
          "metadata": {},
          "execution_count": 136
        }
      ]
    },
    {
      "cell_type": "code",
      "source": [
        "recall_score(y_train, y_train_pred).round(5)"
      ],
      "metadata": {
        "id": "VmGrN3xrHcpD",
        "colab": {
          "base_uri": "https://localhost:8080/"
        },
        "outputId": "0ba5d870-f2d7-4121-84d2-006d6dc0be0d"
      },
      "execution_count": null,
      "outputs": [
        {
          "output_type": "execute_result",
          "data": {
            "text/plain": [
              "0.9819"
            ]
          },
          "metadata": {},
          "execution_count": 137
        }
      ]
    },
    {
      "cell_type": "code",
      "source": [
        "from sklearn.metrics import f1_score\n",
        "f1_score(y_train, y_train_pred).round(5)"
      ],
      "metadata": {
        "id": "EB0NZ27-HhuH",
        "colab": {
          "base_uri": "https://localhost:8080/"
        },
        "outputId": "260f6ef1-31aa-4c9f-f95a-7b277766dd6d"
      },
      "execution_count": null,
      "outputs": [
        {
          "output_type": "execute_result",
          "data": {
            "text/plain": [
              "0.93737"
            ]
          },
          "metadata": {},
          "execution_count": 138
        }
      ]
    },
    {
      "cell_type": "code",
      "source": [
        "from sklearn.metrics import ConfusionMatrixDisplay\n",
        "ConfusionMatrixDisplay.from_predictions(y_train, y_train_pred)\n",
        "save_fig(\"pizd_wo_rf_train_cm\")\n",
        "plt.show"
      ],
      "metadata": {
        "colab": {
          "base_uri": "https://localhost:8080/"
        },
        "id": "HAxWKbDZJjzb",
        "outputId": "f18ea859-eb20-4241-e45c-b7d652c9c2e0"
      },
      "execution_count": null,
      "outputs": [
        {
          "output_type": "execute_result",
          "data": {
            "text/plain": [
              "<function matplotlib.pyplot.show(*args, **kw)>"
            ]
          },
          "metadata": {},
          "execution_count": 139
        },
        {
          "output_type": "display_data",
          "data": {
            "text/plain": [
              "<Figure size 432x288 with 2 Axes>"
            ],
            "image/png": "[encoded data removed]"
          },
          "metadata": {
            "needs_background": "light"
          }
        }
      ]
    },
    {
      "cell_type": "markdown",
      "source": [
        "#### Confusion Matrix for rf_clf1 test"
      ],
      "metadata": {
        "id": "yB1nXAPnJ1mm"
      }
    },
    {
      "cell_type": "code",
      "source": [
        "from sklearn.model_selection import cross_val_predict\n",
        "\n",
        "y_test_pred = cross_val_predict(rf_clf1, X_test, y_test, cv=3)"
      ],
      "metadata": {
        "id": "uDtUP9srJ1mn"
      },
      "execution_count": null,
      "outputs": []
    },
    {
      "cell_type": "code",
      "source": [
        "from sklearn.metrics import confusion_matrix\n",
        "cm = confusion_matrix(y_test, y_test_pred)\n",
        "cm"
      ],
      "metadata": {
        "colab": {
          "base_uri": "https://localhost:8080/"
        },
        "outputId": "6e95af28-2327-4596-dd79-4b58658153d1",
        "id": "Q-TQ6J_qJ1mn"
      },
      "execution_count": null,
      "outputs": [
        {
          "output_type": "execute_result",
          "data": {
            "text/plain": [
              "array([[266,  28],\n",
              "       [ 10, 283]])"
            ]
          },
          "metadata": {},
          "execution_count": 141
        }
      ]
    },
    {
      "cell_type": "code",
      "source": [
        "from sklearn.metrics import precision_score, recall_score\n",
        "precision_score(y_test, y_test_pred).round(5)"
      ],
      "metadata": {
        "colab": {
          "base_uri": "https://localhost:8080/"
        },
        "outputId": "ee58c9d8-fffb-48d2-cd37-0d51e15b3430",
        "id": "iz5RDf2yJ1mn"
      },
      "execution_count": null,
      "outputs": [
        {
          "output_type": "execute_result",
          "data": {
            "text/plain": [
              "0.90997"
            ]
          },
          "metadata": {},
          "execution_count": 142
        }
      ]
    },
    {
      "cell_type": "code",
      "source": [
        "recall_score(y_test, y_test_pred).round(5)"
      ],
      "metadata": {
        "colab": {
          "base_uri": "https://localhost:8080/"
        },
        "outputId": "89b5fe4d-e3b1-4ab8-869f-95b686784598",
        "id": "MAE736VZJ1mn"
      },
      "execution_count": null,
      "outputs": [
        {
          "output_type": "execute_result",
          "data": {
            "text/plain": [
              "0.96587"
            ]
          },
          "metadata": {},
          "execution_count": 143
        }
      ]
    },
    {
      "cell_type": "code",
      "source": [
        "from sklearn.metrics import f1_score\n",
        "f1_score(y_test, y_test_pred).round(5)"
      ],
      "metadata": {
        "colab": {
          "base_uri": "https://localhost:8080/"
        },
        "outputId": "98681fef-5a7c-4c59-982d-3c706ccb1f91",
        "id": "fIuyGsYTJ1mo"
      },
      "execution_count": null,
      "outputs": [
        {
          "output_type": "execute_result",
          "data": {
            "text/plain": [
              "0.93709"
            ]
          },
          "metadata": {},
          "execution_count": 144
        }
      ]
    },
    {
      "cell_type": "code",
      "source": [
        "from sklearn.metrics import ConfusionMatrixDisplay\n",
        "ConfusionMatrixDisplay.from_predictions(y_test, y_test_pred)\n",
        "save_fig(\"pizd_wo_rf_test_cm\")\n",
        "plt.show"
      ],
      "metadata": {
        "id": "muWfX7UCJtYQ",
        "colab": {
          "base_uri": "https://localhost:8080/"
        },
        "outputId": "a11d0b37-2ef1-4956-f1ca-f5d317ceb9eb"
      },
      "execution_count": null,
      "outputs": [
        {
          "output_type": "execute_result",
          "data": {
            "text/plain": [
              "<function matplotlib.pyplot.show(*args, **kw)>"
            ]
          },
          "metadata": {},
          "execution_count": 145
        },
        {
          "output_type": "display_data",
          "data": {
            "text/plain": [
              "<Figure size 432x288 with 2 Axes>"
            ],
            "image/png": "[encoded data removed]"
          },
          "metadata": {
            "needs_background": "light"
          }
        }
      ]
    },
    {
      "cell_type": "markdown",
      "source": [
        "### 👉Receiver Operating Characteristic (ROC) curve"
      ],
      "metadata": {
        "id": "yLaqPZwVywFt"
      }
    },
    {
      "cell_type": "code",
      "source": [
        "rndm_probs = [0 for _ in range(len(y_test))]\n",
        "mnb_probs = mnb_clf.predict_proba(X_test)\n",
        "lg_probs = lg_clf.predict_proba(X_test)\n",
        "knn_probs = knn_clf.predict_proba(X_test)\n",
        "svm_probs = svm_clf1.predict_proba(X_test_svm)\n",
        "dt_probs = dt_clf1.predict_proba(X_test)\n",
        "bg_probs = bg_clf.predict_proba(X_test)\n",
        "adb_probs = adb_clf.predict_proba(X_test)\n",
        "rf_probs = rf_clf1.predict_proba(X_test)"
      ],
      "metadata": {
        "id": "vFhOYMOIy677"
      },
      "execution_count": null,
      "outputs": []
    },
    {
      "cell_type": "code",
      "source": [
        "mnb_probs = mnb_probs[:, 1]\n",
        "lg_probs = lg_probs[:, 1]\n",
        "knn_probs = knn_probs[:, 1]\n",
        "svm_probs = svm_probs[:, 1]\n",
        "dt_probs = dt_probs[:, 1]\n",
        "bg_probs = bg_probs[:, 1]\n",
        "adb_probs = adb_probs[:, 1]\n",
        "rf_probs = rf_probs[:, 1]"
      ],
      "metadata": {
        "id": "2DfI-E5Py677"
      },
      "execution_count": null,
      "outputs": []
    },
    {
      "cell_type": "code",
      "source": [
        "from sklearn.metrics import roc_curve, roc_auc_score"
      ],
      "metadata": {
        "id": "94t6pEXly677"
      },
      "execution_count": null,
      "outputs": []
    },
    {
      "cell_type": "code",
      "source": [
        "rndm_auc = roc_auc_score(y_test, rndm_probs)\n",
        "mnb_auc = roc_auc_score(y_test, mnb_probs)\n",
        "lg_auc = roc_auc_score(y_test, lg_probs)\n",
        "knn_auc = roc_auc_score(y_test, knn_probs)\n",
        "svm_auc = roc_auc_score(y_test, svm_probs)\n",
        "dt_auc = roc_auc_score(y_test, dt_probs)\n",
        "bg_auc = roc_auc_score(y_test, bg_probs)\n",
        "adb_auc = roc_auc_score(y_test, adb_probs)\n",
        "rf_auc = roc_auc_score(y_test, rf_probs)"
      ],
      "metadata": {
        "id": "uZ6AYtrny677"
      },
      "execution_count": null,
      "outputs": []
    },
    {
      "cell_type": "code",
      "source": [
        "print('Random (chance) Prediction: AUROC = %.5f' % (rndm_auc))\n",
        "print('Naive Bayes: AUROC = %.5f' % (mnb_auc))\n",
        "print('Logistic Regression: AUROC = %.5f' % (lg_auc))\n",
        "print('K-Nearest Neighbour: AUROC = %.5f' % (knn_auc))\n",
        "print('Support Vector Machine: AUROC = %.5f' % (svm_auc))\n",
        "print('Decision Tree: AUROC = %.5f' % (knn_auc))\n",
        "print('Bagging Decision Tree: AUROC = %.5f' % (bg_auc))\n",
        "print('Boosting Decision Tree: AUROC = %.5f' % (adb_auc))\n",
        "print('Random Forest: AUROC = %.5f' % (rf_auc))"
      ],
      "metadata": {
        "colab": {
          "base_uri": "https://localhost:8080/"
        },
        "outputId": "76e4417c-46e2-42a2-fce7-7fffdb0d240c",
        "id": "BmLp-5qhy677"
      },
      "execution_count": null,
      "outputs": [
        {
          "output_type": "stream",
          "name": "stdout",
          "text": [
            "Random (chance) Prediction: AUROC = 0.50000\n",
            "Naive Bayes: AUROC = 0.96416\n",
            "Logistic Regression: AUROC = 0.97311\n",
            "K-Nearest Neighbour: AUROC = 0.96773\n",
            "Support Vector Machine: AUROC = 0.95440\n",
            "Decision Tree: AUROC = 0.96773\n",
            "Bagging Decision Tree: AUROC = 0.97263\n",
            "Boosting Decision Tree: AUROC = 0.97742\n",
            "Random Forest: AUROC = 0.98299\n"
          ]
        }
      ]
    },
    {
      "cell_type": "code",
      "source": [
        "rndm_fpr, rndm_tpr, _ = roc_curve(y_test, rndm_probs)\n",
        "mnb_fpr, mnb_tpr, _ = roc_curve(y_test, mnb_probs)\n",
        "lg_fpr, lg_tpr, _ = roc_curve(y_test, lg_probs)\n",
        "knn_fpr, knn_tpr, _ = roc_curve(y_test, knn_probs)\n",
        "svm_fpr, svm_tpr, _ = roc_curve(y_test, svm_probs)\n",
        "dt_fpr, dt_tpr, _ = roc_curve(y_test, dt_probs)\n",
        "bg_fpr, bg_tpr, _ = roc_curve(y_test, bg_probs)\n",
        "adb_fpr, adb_tpr, _ = roc_curve(y_test, adb_probs)\n",
        "rf_fpr, rf_tpr, _ = roc_curve(y_test, rf_probs)"
      ],
      "metadata": {
        "id": "xrfeFYAJy678"
      },
      "execution_count": null,
      "outputs": []
    },
    {
      "cell_type": "code",
      "source": [
        "import matplotlib.pyplot as plt\n",
        "plt.rcParams.update({'font.size': 18})"
      ],
      "metadata": {
        "id": "vxIaAtYIy678"
      },
      "execution_count": null,
      "outputs": []
    },
    {
      "cell_type": "code",
      "source": [
        "plt.figure(figsize=(12, 8))\n",
        "#plt.plot(rndm_fpr, rndm_tpr, linestyle='--', label='Random prediction (AUROC = %0.3f)' % rndm_auc)\n",
        "#plt.plot(mnb_fpr, mnb_tpr, marker='.', label='Naive Bayes (AUROC = %0.3f)' % mnb_auc)\n",
        "#plt.plot(lg_fpr, lg_tpr, marker='.', label='Logistic Regression (AUROC = %0.3f)' % lg_auc)\n",
        "#plt.plot(knn_fpr, knn_tpr, marker='.', label='K-Nearest Neighbour (AUROC = %0.3f)' % knn_auc)\n",
        "#plt.plot(knn_fpr, knn_tpr, marker='.', label='Support Vector Machine (AUROC = %0.3f)' % knn_auc)\n",
        "#plt.plot(dt_fpr, dt_tpr, marker='.', label='Decision Tree (AUROC = %0.3f)' % knn_auc)\n",
        "#plt.plot(bg_fpr, bg_tpr, marker='.', label='Bagging Decision Tree (AUROC = %0.3f)' % bg_auc)\n",
        "#plt.plot(adb_fpr, adb_tpr, marker='.', label='Boosting Decision Tree (AUROC = %0.3f)' % adb_auc)\n",
        "#plt.plot(rf_fpr, rf_tpr, marker='.', label='Random Forest (AUROC = %0.3f)' % rf_auc)\n",
        "plt.plot(rndm_fpr, rndm_tpr, linestyle='--')\n",
        "plt.plot(mnb_fpr, mnb_tpr, marker='.', label='NB AUC = %0.5f' % mnb_auc)\n",
        "plt.plot(lg_fpr, lg_tpr, marker='.', label='LG AUC = %0.5f' % lg_auc)\n",
        "plt.plot(knn_fpr, knn_tpr, marker='.', label='KNN AUC = %0.5f' % knn_auc)\n",
        "plt.plot(svm_fpr, svm_tpr, marker='.', label='SVM AUC = %0.5f' % svm_auc)\n",
        "plt.plot(dt_fpr, dt_tpr, marker='.', label='DT AUC = %0.5f' % knn_auc)\n",
        "plt.plot(bg_fpr, bg_tpr, marker='.', label='BG AUC = %0.5f' % bg_auc)\n",
        "plt.plot(adb_fpr, adb_tpr, marker='.', label='ADB AUC = %0.5f' % adb_auc)\n",
        "plt.plot(rf_fpr, rf_tpr, marker='.', label='RF AUC = %0.5f' % rf_auc)\n",
        "\n",
        "# Title\n",
        "#plt.title('ROC Plot', fontsize=22)\n",
        "# Axis labels\n",
        "plt.xlabel('False Positive Rate', fontsize=22)\n",
        "plt.ylabel('True Positive Rate', fontsize=22)\n",
        "# Show legend\n",
        "plt.legend(fontsize=23)\n",
        "# Save Fig\n",
        "save_fig(\"pizd_wo_whois_gscv_roc\")\n",
        "# Show plot\n",
        "plt.show()"
      ],
      "metadata": {
        "colab": {
          "base_uri": "https://localhost:8080/"
        },
        "outputId": "b0aabec8-a739-4029-9987-3b3a4e82be19",
        "id": "o-BERPAey678"
      },
      "execution_count": null,
      "outputs": [
        {
          "output_type": "display_data",
          "data": {
            "text/plain": [
              "<Figure size 864x576 with 1 Axes>"
            ],
            "image/png": "[encoded data removed]"
          },
          "metadata": {
            "needs_background": "light"
          }
        }
      ]
    }
  ]
}