{
  "cells": [
    {
      "cell_type": "markdown",
      "metadata": {
        "id": "view-in-github",
        "colab_type": "text"
      },
      "source": [
        "<a href=\"https://colab.research.google.com/github/jcarey-shu/dissertation/blob/main/matsnu_with_whois_imptr_gscv.ipynb\" target=\"_parent\"><img src=\"https://colab.research.google.com/assets/colab-badge.svg\" alt=\"Open In Colab\"/></a>"
      ]
    },
    {
      "cell_type": "markdown",
      "metadata": {
        "id": "2pDxhUWCcFql"
      },
      "source": [
        "## Load 3 👇 : matsnu WHOIS imptr SHU GridSearchCV. Train & Test."
      ]
    },
    {
      "cell_type": "markdown",
      "metadata": {
        "id": "-NREjNRkYFhy"
      },
      "source": [
        "### Load 3 = 1000 legit domains; ~1000 matsnu word-based DGAs; SHU 10 correlated features; with WHOIS history using iterative imputer to replace NaN. GridSearchCV. Train & Test."
      ]
    },
    {
      "cell_type": "code",
      "execution_count": null,
      "metadata": {
        "colab": {
          "base_uri": "https://localhost:8080/"
        },
        "id": "jNIMZY0B5KiC",
        "outputId": "1bebf49d-101a-4c74-b4a6-5b0f08d6a5a7"
      },
      "outputs": [
        {
          "output_type": "stream",
          "name": "stdout",
          "text": [
            "Mounted at /content/gdrive\n"
          ]
        }
      ],
      "source": [
        "from pathlib import Path\n",
        "import pandas as pd\n",
        "import numpy as np\n",
        "from google.colab import drive\n",
        "drive.mount('/content/gdrive')\n",
        "\n",
        "def load_data1():\n",
        "  return pd.read_csv(Path(\"/content/gdrive/MyDrive/Colab/Data/loads/raw_data/matsnu.1000+whois-history.csv\"))\n",
        "\n",
        "df1 = load_data1()"
      ]
    },
    {
      "cell_type": "code",
      "execution_count": null,
      "metadata": {
        "id": "DeawuyIPkM9K"
      },
      "outputs": [],
      "source": [
        "display(df1)"
      ]
    },
    {
      "cell_type": "markdown",
      "metadata": {
        "id": "7Fq9Q9lOvTjq"
      },
      "source": [
        "#### Code block below uses Iterative Imputer to replace NaN in whois_change col"
      ]
    },
    {
      "cell_type": "code",
      "execution_count": null,
      "metadata": {
        "id": "Q6R0cpmnvmNA"
      },
      "outputs": [],
      "source": [
        "# SHU Feature Selection\n",
        "df1.drop(df1.columns.difference(['nlp_l_2dn','nlp_3g_dist','nlp_l_fqdn','nlp_1g_e','nlp_2g_dist', \\\n",
        "                                 'nlp_2g_ken','nlp_2g_spe','nlp_3g_ken','nlp_3g_spe','nlp_3g_sumsq', \\\n",
        "                                 'whois_rec','whois_change','class']), axis=1, inplace=True)\n"
      ]
    },
    {
      "cell_type": "code",
      "execution_count": null,
      "metadata": {
        "id": "Joznl76tYtZ-"
      },
      "outputs": [],
      "source": [
        "from sklearn.experimental import enable_iterative_imputer\n",
        "from sklearn.impute import IterativeImputer\n",
        "from sklearn.linear_model import BayesianRidge\n",
        "\n",
        "# SHU Feature Selection\n",
        "df1_1 = df1[['nlp_l_2dn','nlp_3g_dist','nlp_l_fqdn','nlp_1g_e','nlp_2g_dist', \\\n",
        "             'nlp_2g_ken','nlp_2g_spe','nlp_3g_ken','nlp_3g_spe','nlp_3g_sumsq', \\\n",
        "             'whois_rec','whois_change','class']]\n",
        "\n",
        "imptr = IterativeImputer(BayesianRidge())\n",
        "\n",
        "df1_2 = pd.DataFrame(imptr.fit_transform(df1_1), columns = df1_1.columns)"
      ]
    },
    {
      "cell_type": "code",
      "execution_count": null,
      "metadata": {
        "id": "RZL7AoI2xYWi"
      },
      "outputs": [],
      "source": [
        "display(df1_2)"
      ]
    },
    {
      "cell_type": "code",
      "execution_count": null,
      "metadata": {
        "id": "zpBa3_b3j1_b"
      },
      "outputs": [],
      "source": [
        "def load_data2():\n",
        "  return pd.read_csv(Path(\"/content/gdrive/MyDrive/Colab/Data/loads/raw_data/tranco.1000+whois-history.csv\"))\n",
        "\n",
        "df2 = load_data2()\n",
        "\n",
        "# SHU Feature Selection\n",
        "df2.drop(df2.columns.difference(['nlp_l_2dn','nlp_3g_dist','nlp_l_fqdn','nlp_1g_e','nlp_2g_dist', \\\n",
        "                                 'nlp_2g_ken','nlp_2g_spe','nlp_3g_ken','nlp_3g_spe','nlp_3g_sumsq', \\\n",
        "                                 'whois_rec','whois_change','class']), axis=1, inplace=True)"
      ]
    },
    {
      "cell_type": "code",
      "source": [
        "# DISPLAY STATS FOR MATSNU\n",
        "df1_2_cols=df1_2.columns.tolist()\n",
        "df1_2_cols.sort()\n",
        "df1_2a=df1_2[df1_2_cols]\n",
        "df1_2a.describe()"
      ],
      "metadata": {
        "id": "3zaoRpcjOP_h",
        "outputId": "5218b757-1a68-4daf-c1c4-221acf6b5536",
        "colab": {
          "base_uri": "https://localhost:8080/",
          "height": 300
        }
      },
      "execution_count": null,
      "outputs": [
        {
          "output_type": "execute_result",
          "data": {
            "text/plain": [
              "       class    nlp_1g_e  nlp_2g_dist  nlp_2g_ken  nlp_2g_spe  nlp_3g_dist  \\\n",
              "count  996.0  996.000000   996.000000  996.000000  996.000000   996.000000   \n",
              "mean     1.0    3.993154    15.655622    0.171390    0.196861    15.148594   \n",
              "std      0.0    0.669687     2.323331    0.012434    0.014285     2.413948   \n",
              "min      1.0    2.355909    10.000000    0.137745    0.158118    10.000000   \n",
              "25%      1.0    3.511217    14.000000    0.162595    0.186796    13.000000   \n",
              "50%      1.0    3.929303    15.000000    0.168298    0.193277    15.000000   \n",
              "75%      1.0    4.398198    17.000000    0.178962    0.205598    17.000000   \n",
              "max      1.0    6.250972    24.000000    0.212055    0.243617    23.000000   \n",
              "\n",
              "       nlp_3g_ken  nlp_3g_spe  nlp_3g_sumsq   nlp_l_2dn  nlp_l_fqdn  \\\n",
              "count  996.000000  996.000000    996.000000  996.000000  996.000000   \n",
              "mean     0.050450    0.052114     15.431727   15.458835   19.458835   \n",
              "std      0.003959    0.004089      2.560299    2.638203    2.638203   \n",
              "min      0.041118    0.042474     11.000000   12.000000   16.000000   \n",
              "25%      0.046880    0.048427     13.000000   13.000000   17.000000   \n",
              "50%      0.050356    0.052018     15.000000   15.000000   19.000000   \n",
              "75%      0.053607    0.055376     17.000000   17.000000   21.000000   \n",
              "max      0.062349    0.064407     25.000000   24.000000   28.000000   \n",
              "\n",
              "       whois_change   whois_rec  \n",
              "count    996.000000  996.000000  \n",
              "mean       0.574426    1.574297  \n",
              "std        0.341927    6.078341  \n",
              "min        0.000000    0.000000  \n",
              "25%        0.364593    0.000000  \n",
              "50%        0.534945    0.000000  \n",
              "75%        0.706378    0.000000  \n",
              "max        4.000000   45.000000  "
            ],
            "text/html": [
              "\n",
              "  <div id=\"df-35f26026-3e9f-4132-8a01-c5cef0a4a8ef\">\n",
              "    <div class=\"colab-df-container\">\n",
              "      <div>\n",
              "<style scoped>\n",
              "    .dataframe tbody tr th:only-of-type {\n",
              "        vertical-align: middle;\n",
              "    }\n",
              "\n",
              "    .dataframe tbody tr th {\n",
              "        vertical-align: top;\n",
              "    }\n",
              "\n",
              "    .dataframe thead th {\n",
              "        text-align: right;\n",
              "    }\n",
              "</style>\n",
              "<table border=\"1\" class=\"dataframe\">\n",
              "  <thead>\n",
              "    <tr style=\"text-align: right;\">\n",
              "      <th></th>\n",
              "      <th>class</th>\n",
              "      <th>nlp_1g_e</th>\n",
              "      <th>nlp_2g_dist</th>\n",
              "      <th>nlp_2g_ken</th>\n",
              "      <th>nlp_2g_spe</th>\n",
              "      <th>nlp_3g_dist</th>\n",
              "      <th>nlp_3g_ken</th>\n",
              "      <th>nlp_3g_spe</th>\n",
              "      <th>nlp_3g_sumsq</th>\n",
              "      <th>nlp_l_2dn</th>\n",
              "      <th>nlp_l_fqdn</th>\n",
              "      <th>whois_change</th>\n",
              "      <th>whois_rec</th>\n",
              "    </tr>\n",
              "  </thead>\n",
              "  <tbody>\n",
              "    <tr>\n",
              "      <th>count</th>\n",
              "      <td>996.0</td>\n",
              "      <td>996.000000</td>\n",
              "      <td>996.000000</td>\n",
              "      <td>996.000000</td>\n",
              "      <td>996.000000</td>\n",
              "      <td>996.000000</td>\n",
              "      <td>996.000000</td>\n",
              "      <td>996.000000</td>\n",
              "      <td>996.000000</td>\n",
              "      <td>996.000000</td>\n",
              "      <td>996.000000</td>\n",
              "      <td>996.000000</td>\n",
              "      <td>996.000000</td>\n",
              "    </tr>\n",
              "    <tr>\n",
              "      <th>mean</th>\n",
              "      <td>1.0</td>\n",
              "      <td>3.993154</td>\n",
              "      <td>15.655622</td>\n",
              "      <td>0.171390</td>\n",
              "      <td>0.196861</td>\n",
              "      <td>15.148594</td>\n",
              "      <td>0.050450</td>\n",
              "      <td>0.052114</td>\n",
              "      <td>15.431727</td>\n",
              "      <td>15.458835</td>\n",
              "      <td>19.458835</td>\n",
              "      <td>0.574426</td>\n",
              "      <td>1.574297</td>\n",
              "    </tr>\n",
              "    <tr>\n",
              "      <th>std</th>\n",
              "      <td>0.0</td>\n",
              "      <td>0.669687</td>\n",
              "      <td>2.323331</td>\n",
              "      <td>0.012434</td>\n",
              "      <td>0.014285</td>\n",
              "      <td>2.413948</td>\n",
              "      <td>0.003959</td>\n",
              "      <td>0.004089</td>\n",
              "      <td>2.560299</td>\n",
              "      <td>2.638203</td>\n",
              "      <td>2.638203</td>\n",
              "      <td>0.341927</td>\n",
              "      <td>6.078341</td>\n",
              "    </tr>\n",
              "    <tr>\n",
              "      <th>min</th>\n",
              "      <td>1.0</td>\n",
              "      <td>2.355909</td>\n",
              "      <td>10.000000</td>\n",
              "      <td>0.137745</td>\n",
              "      <td>0.158118</td>\n",
              "      <td>10.000000</td>\n",
              "      <td>0.041118</td>\n",
              "      <td>0.042474</td>\n",
              "      <td>11.000000</td>\n",
              "      <td>12.000000</td>\n",
              "      <td>16.000000</td>\n",
              "      <td>0.000000</td>\n",
              "      <td>0.000000</td>\n",
              "    </tr>\n",
              "    <tr>\n",
              "      <th>25%</th>\n",
              "      <td>1.0</td>\n",
              "      <td>3.511217</td>\n",
              "      <td>14.000000</td>\n",
              "      <td>0.162595</td>\n",
              "      <td>0.186796</td>\n",
              "      <td>13.000000</td>\n",
              "      <td>0.046880</td>\n",
              "      <td>0.048427</td>\n",
              "      <td>13.000000</td>\n",
              "      <td>13.000000</td>\n",
              "      <td>17.000000</td>\n",
              "      <td>0.364593</td>\n",
              "      <td>0.000000</td>\n",
              "    </tr>\n",
              "    <tr>\n",
              "      <th>50%</th>\n",
              "      <td>1.0</td>\n",
              "      <td>3.929303</td>\n",
              "      <td>15.000000</td>\n",
              "      <td>0.168298</td>\n",
              "      <td>0.193277</td>\n",
              "      <td>15.000000</td>\n",
              "      <td>0.050356</td>\n",
              "      <td>0.052018</td>\n",
              "      <td>15.000000</td>\n",
              "      <td>15.000000</td>\n",
              "      <td>19.000000</td>\n",
              "      <td>0.534945</td>\n",
              "      <td>0.000000</td>\n",
              "    </tr>\n",
              "    <tr>\n",
              "      <th>75%</th>\n",
              "      <td>1.0</td>\n",
              "      <td>4.398198</td>\n",
              "      <td>17.000000</td>\n",
              "      <td>0.178962</td>\n",
              "      <td>0.205598</td>\n",
              "      <td>17.000000</td>\n",
              "      <td>0.053607</td>\n",
              "      <td>0.055376</td>\n",
              "      <td>17.000000</td>\n",
              "      <td>17.000000</td>\n",
              "      <td>21.000000</td>\n",
              "      <td>0.706378</td>\n",
              "      <td>0.000000</td>\n",
              "    </tr>\n",
              "    <tr>\n",
              "      <th>max</th>\n",
              "      <td>1.0</td>\n",
              "      <td>6.250972</td>\n",
              "      <td>24.000000</td>\n",
              "      <td>0.212055</td>\n",
              "      <td>0.243617</td>\n",
              "      <td>23.000000</td>\n",
              "      <td>0.062349</td>\n",
              "      <td>0.064407</td>\n",
              "      <td>25.000000</td>\n",
              "      <td>24.000000</td>\n",
              "      <td>28.000000</td>\n",
              "      <td>4.000000</td>\n",
              "      <td>45.000000</td>\n",
              "    </tr>\n",
              "  </tbody>\n",
              "</table>\n",
              "</div>\n",
              "      <button class=\"colab-df-convert\" onclick=\"convertToInteractive('df-35f26026-3e9f-4132-8a01-c5cef0a4a8ef')\"\n",
              "              title=\"Convert this dataframe to an interactive table.\"\n",
              "              style=\"display:none;\">\n",
              "        \n",
              "  <svg xmlns=\"http://www.w3.org/2000/svg\" height=\"24px\"viewBox=\"0 0 24 24\"\n",
              "       width=\"24px\">\n",
              "    <path d=\"M0 0h24v24H0V0z\" fill=\"none\"/>\n",
              "    <path d=\"M18.56 5.44l.94 2.06.94-2.06 2.06-.94-2.06-.94-.94-2.06-.94 2.06-2.06.94zm-11 1L8.5 8.5l.94-2.06 2.06-.94-2.06-.94L8.5 2.5l-.94 2.06-2.06.94zm10 10l.94 2.06.94-2.06 2.06-.94-2.06-.94-.94-2.06-.94 2.06-2.06.94z\"/><path d=\"M17.41 7.96l-1.37-1.37c-.4-.4-.92-.59-1.43-.59-.52 0-1.04.2-1.43.59L10.3 9.45l-7.72 7.72c-.78.78-.78 2.05 0 2.83L4 21.41c.39.39.9.59 1.41.59.51 0 1.02-.2 1.41-.59l7.78-7.78 2.81-2.81c.8-.78.8-2.07 0-2.86zM5.41 20L4 18.59l7.72-7.72 1.47 1.35L5.41 20z\"/>\n",
              "  </svg>\n",
              "      </button>\n",
              "      \n",
              "  <style>\n",
              "    .colab-df-container {\n",
              "      display:flex;\n",
              "      flex-wrap:wrap;\n",
              "      gap: 12px;\n",
              "    }\n",
              "\n",
              "    .colab-df-convert {\n",
              "      background-color: #E8F0FE;\n",
              "      border: none;\n",
              "      border-radius: 50%;\n",
              "      cursor: pointer;\n",
              "      display: none;\n",
              "      fill: #1967D2;\n",
              "      height: 32px;\n",
              "      padding: 0 0 0 0;\n",
              "      width: 32px;\n",
              "    }\n",
              "\n",
              "    .colab-df-convert:hover {\n",
              "      background-color: #E2EBFA;\n",
              "      box-shadow: 0px 1px 2px rgba(60, 64, 67, 0.3), 0px 1px 3px 1px rgba(60, 64, 67, 0.15);\n",
              "      fill: #174EA6;\n",
              "    }\n",
              "\n",
              "    [theme=dark] .colab-df-convert {\n",
              "      background-color: #3B4455;\n",
              "      fill: #D2E3FC;\n",
              "    }\n",
              "\n",
              "    [theme=dark] .colab-df-convert:hover {\n",
              "      background-color: #434B5C;\n",
              "      box-shadow: 0px 1px 3px 1px rgba(0, 0, 0, 0.15);\n",
              "      filter: drop-shadow(0px 1px 2px rgba(0, 0, 0, 0.3));\n",
              "      fill: #FFFFFF;\n",
              "    }\n",
              "  </style>\n",
              "\n",
              "      <script>\n",
              "        const buttonEl =\n",
              "          document.querySelector('#df-35f26026-3e9f-4132-8a01-c5cef0a4a8ef button.colab-df-convert');\n",
              "        buttonEl.style.display =\n",
              "          google.colab.kernel.accessAllowed ? 'block' : 'none';\n",
              "\n",
              "        async function convertToInteractive(key) {\n",
              "          const element = document.querySelector('#df-35f26026-3e9f-4132-8a01-c5cef0a4a8ef');\n",
              "          const dataTable =\n",
              "            await google.colab.kernel.invokeFunction('convertToInteractive',\n",
              "                                                     [key], {});\n",
              "          if (!dataTable) return;\n",
              "\n",
              "          const docLinkHtml = 'Like what you see? Visit the ' +\n",
              "            '<a target=\"_blank\" href=https://colab.research.google.com/notebooks/data_table.ipynb>data table notebook</a>'\n",
              "            + ' to learn more about interactive tables.';\n",
              "          element.innerHTML = '';\n",
              "          dataTable['output_type'] = 'display_data';\n",
              "          await google.colab.output.renderOutput(dataTable, element);\n",
              "          const docLink = document.createElement('div');\n",
              "          docLink.innerHTML = docLinkHtml;\n",
              "          element.appendChild(docLink);\n",
              "        }\n",
              "      </script>\n",
              "    </div>\n",
              "  </div>\n",
              "  "
            ]
          },
          "metadata": {},
          "execution_count": 15
        }
      ]
    },
    {
      "cell_type": "code",
      "source": [
        "# DISPLAY STATS FOR BENIGN\n",
        "df2_cols=df2.columns.tolist()\n",
        "df2_cols.sort()\n",
        "df2a=df2[df2_cols]\n",
        "df2a.describe()"
      ],
      "metadata": {
        "colab": {
          "base_uri": "https://localhost:8080/",
          "height": 300
        },
        "id": "1e4h4Dlpxbjq",
        "outputId": "83684e6e-8d96-46cf-ad42-38f423c5e06b"
      },
      "execution_count": null,
      "outputs": [
        {
          "output_type": "execute_result",
          "data": {
            "text/plain": [
              "       class    nlp_1g_e  nlp_2g_dist  nlp_2g_ken  nlp_2g_spe  nlp_3g_dist  \\\n",
              "count  998.0  998.000000   998.000000  998.000000  998.000000   998.000000   \n",
              "mean     0.0    2.170840     8.746493    0.126887    0.145765     7.868737   \n",
              "std      0.0    0.820674     2.978839    0.021753    0.024986     3.056113   \n",
              "min      0.0    0.482578     2.000000    0.061742    0.070932     1.000000   \n",
              "25%      0.0    1.570859     7.000000    0.115286    0.132445     6.000000   \n",
              "50%      0.0    2.072205     9.000000    0.130620    0.150061     8.000000   \n",
              "75%      0.0    2.660217    10.000000    0.137680    0.158118    10.000000   \n",
              "max      0.0    5.147269    19.000000    0.189118    0.217187    19.000000   \n",
              "\n",
              "       nlp_3g_ken  nlp_3g_spe  nlp_3g_sumsq   nlp_l_2dn  nlp_l_fqdn  \\\n",
              "count  998.000000  998.000000    998.000000  998.000000  998.000000   \n",
              "mean     0.035774    0.036954      7.952906    6.690381   10.981964   \n",
              "std      0.007118    0.007353      3.190505    3.194988    3.122326   \n",
              "min      0.013004    0.013433      1.000000    1.000000    4.000000   \n",
              "25%      0.031851    0.032902      6.000000    4.000000    9.000000   \n",
              "50%      0.036778    0.037991      8.000000    6.000000   11.000000   \n",
              "75%      0.041118    0.042474     10.000000    9.000000   13.000000   \n",
              "max      0.056671    0.058541     22.000000   18.000000   22.000000   \n",
              "\n",
              "       whois_change   whois_rec  \n",
              "count    998.000000  998.000000  \n",
              "mean       0.443888   28.958918  \n",
              "std        0.977355    9.375340  \n",
              "min        0.000000    2.000000  \n",
              "25%        0.000000   24.000000  \n",
              "50%        0.000000   28.000000  \n",
              "75%        0.000000   33.000000  \n",
              "max        4.000000  110.000000  "
            ],
            "text/html": [
              "\n",
              "  <div id=\"df-6081ffb4-8509-4fd8-98b8-14629c48f069\">\n",
              "    <div class=\"colab-df-container\">\n",
              "      <div>\n",
              "<style scoped>\n",
              "    .dataframe tbody tr th:only-of-type {\n",
              "        vertical-align: middle;\n",
              "    }\n",
              "\n",
              "    .dataframe tbody tr th {\n",
              "        vertical-align: top;\n",
              "    }\n",
              "\n",
              "    .dataframe thead th {\n",
              "        text-align: right;\n",
              "    }\n",
              "</style>\n",
              "<table border=\"1\" class=\"dataframe\">\n",
              "  <thead>\n",
              "    <tr style=\"text-align: right;\">\n",
              "      <th></th>\n",
              "      <th>class</th>\n",
              "      <th>nlp_1g_e</th>\n",
              "      <th>nlp_2g_dist</th>\n",
              "      <th>nlp_2g_ken</th>\n",
              "      <th>nlp_2g_spe</th>\n",
              "      <th>nlp_3g_dist</th>\n",
              "      <th>nlp_3g_ken</th>\n",
              "      <th>nlp_3g_spe</th>\n",
              "      <th>nlp_3g_sumsq</th>\n",
              "      <th>nlp_l_2dn</th>\n",
              "      <th>nlp_l_fqdn</th>\n",
              "      <th>whois_change</th>\n",
              "      <th>whois_rec</th>\n",
              "    </tr>\n",
              "  </thead>\n",
              "  <tbody>\n",
              "    <tr>\n",
              "      <th>count</th>\n",
              "      <td>998.0</td>\n",
              "      <td>998.000000</td>\n",
              "      <td>998.000000</td>\n",
              "      <td>998.000000</td>\n",
              "      <td>998.000000</td>\n",
              "      <td>998.000000</td>\n",
              "      <td>998.000000</td>\n",
              "      <td>998.000000</td>\n",
              "      <td>998.000000</td>\n",
              "      <td>998.000000</td>\n",
              "      <td>998.000000</td>\n",
              "      <td>998.000000</td>\n",
              "      <td>998.000000</td>\n",
              "    </tr>\n",
              "    <tr>\n",
              "      <th>mean</th>\n",
              "      <td>0.0</td>\n",
              "      <td>2.170840</td>\n",
              "      <td>8.746493</td>\n",
              "      <td>0.126887</td>\n",
              "      <td>0.145765</td>\n",
              "      <td>7.868737</td>\n",
              "      <td>0.035774</td>\n",
              "      <td>0.036954</td>\n",
              "      <td>7.952906</td>\n",
              "      <td>6.690381</td>\n",
              "      <td>10.981964</td>\n",
              "      <td>0.443888</td>\n",
              "      <td>28.958918</td>\n",
              "    </tr>\n",
              "    <tr>\n",
              "      <th>std</th>\n",
              "      <td>0.0</td>\n",
              "      <td>0.820674</td>\n",
              "      <td>2.978839</td>\n",
              "      <td>0.021753</td>\n",
              "      <td>0.024986</td>\n",
              "      <td>3.056113</td>\n",
              "      <td>0.007118</td>\n",
              "      <td>0.007353</td>\n",
              "      <td>3.190505</td>\n",
              "      <td>3.194988</td>\n",
              "      <td>3.122326</td>\n",
              "      <td>0.977355</td>\n",
              "      <td>9.375340</td>\n",
              "    </tr>\n",
              "    <tr>\n",
              "      <th>min</th>\n",
              "      <td>0.0</td>\n",
              "      <td>0.482578</td>\n",
              "      <td>2.000000</td>\n",
              "      <td>0.061742</td>\n",
              "      <td>0.070932</td>\n",
              "      <td>1.000000</td>\n",
              "      <td>0.013004</td>\n",
              "      <td>0.013433</td>\n",
              "      <td>1.000000</td>\n",
              "      <td>1.000000</td>\n",
              "      <td>4.000000</td>\n",
              "      <td>0.000000</td>\n",
              "      <td>2.000000</td>\n",
              "    </tr>\n",
              "    <tr>\n",
              "      <th>25%</th>\n",
              "      <td>0.0</td>\n",
              "      <td>1.570859</td>\n",
              "      <td>7.000000</td>\n",
              "      <td>0.115286</td>\n",
              "      <td>0.132445</td>\n",
              "      <td>6.000000</td>\n",
              "      <td>0.031851</td>\n",
              "      <td>0.032902</td>\n",
              "      <td>6.000000</td>\n",
              "      <td>4.000000</td>\n",
              "      <td>9.000000</td>\n",
              "      <td>0.000000</td>\n",
              "      <td>24.000000</td>\n",
              "    </tr>\n",
              "    <tr>\n",
              "      <th>50%</th>\n",
              "      <td>0.0</td>\n",
              "      <td>2.072205</td>\n",
              "      <td>9.000000</td>\n",
              "      <td>0.130620</td>\n",
              "      <td>0.150061</td>\n",
              "      <td>8.000000</td>\n",
              "      <td>0.036778</td>\n",
              "      <td>0.037991</td>\n",
              "      <td>8.000000</td>\n",
              "      <td>6.000000</td>\n",
              "      <td>11.000000</td>\n",
              "      <td>0.000000</td>\n",
              "      <td>28.000000</td>\n",
              "    </tr>\n",
              "    <tr>\n",
              "      <th>75%</th>\n",
              "      <td>0.0</td>\n",
              "      <td>2.660217</td>\n",
              "      <td>10.000000</td>\n",
              "      <td>0.137680</td>\n",
              "      <td>0.158118</td>\n",
              "      <td>10.000000</td>\n",
              "      <td>0.041118</td>\n",
              "      <td>0.042474</td>\n",
              "      <td>10.000000</td>\n",
              "      <td>9.000000</td>\n",
              "      <td>13.000000</td>\n",
              "      <td>0.000000</td>\n",
              "      <td>33.000000</td>\n",
              "    </tr>\n",
              "    <tr>\n",
              "      <th>max</th>\n",
              "      <td>0.0</td>\n",
              "      <td>5.147269</td>\n",
              "      <td>19.000000</td>\n",
              "      <td>0.189118</td>\n",
              "      <td>0.217187</td>\n",
              "      <td>19.000000</td>\n",
              "      <td>0.056671</td>\n",
              "      <td>0.058541</td>\n",
              "      <td>22.000000</td>\n",
              "      <td>18.000000</td>\n",
              "      <td>22.000000</td>\n",
              "      <td>4.000000</td>\n",
              "      <td>110.000000</td>\n",
              "    </tr>\n",
              "  </tbody>\n",
              "</table>\n",
              "</div>\n",
              "      <button class=\"colab-df-convert\" onclick=\"convertToInteractive('df-6081ffb4-8509-4fd8-98b8-14629c48f069')\"\n",
              "              title=\"Convert this dataframe to an interactive table.\"\n",
              "              style=\"display:none;\">\n",
              "        \n",
              "  <svg xmlns=\"http://www.w3.org/2000/svg\" height=\"24px\"viewBox=\"0 0 24 24\"\n",
              "       width=\"24px\">\n",
              "    <path d=\"M0 0h24v24H0V0z\" fill=\"none\"/>\n",
              "    <path d=\"M18.56 5.44l.94 2.06.94-2.06 2.06-.94-2.06-.94-.94-2.06-.94 2.06-2.06.94zm-11 1L8.5 8.5l.94-2.06 2.06-.94-2.06-.94L8.5 2.5l-.94 2.06-2.06.94zm10 10l.94 2.06.94-2.06 2.06-.94-2.06-.94-.94-2.06-.94 2.06-2.06.94z\"/><path d=\"M17.41 7.96l-1.37-1.37c-.4-.4-.92-.59-1.43-.59-.52 0-1.04.2-1.43.59L10.3 9.45l-7.72 7.72c-.78.78-.78 2.05 0 2.83L4 21.41c.39.39.9.59 1.41.59.51 0 1.02-.2 1.41-.59l7.78-7.78 2.81-2.81c.8-.78.8-2.07 0-2.86zM5.41 20L4 18.59l7.72-7.72 1.47 1.35L5.41 20z\"/>\n",
              "  </svg>\n",
              "      </button>\n",
              "      \n",
              "  <style>\n",
              "    .colab-df-container {\n",
              "      display:flex;\n",
              "      flex-wrap:wrap;\n",
              "      gap: 12px;\n",
              "    }\n",
              "\n",
              "    .colab-df-convert {\n",
              "      background-color: #E8F0FE;\n",
              "      border: none;\n",
              "      border-radius: 50%;\n",
              "      cursor: pointer;\n",
              "      display: none;\n",
              "      fill: #1967D2;\n",
              "      height: 32px;\n",
              "      padding: 0 0 0 0;\n",
              "      width: 32px;\n",
              "    }\n",
              "\n",
              "    .colab-df-convert:hover {\n",
              "      background-color: #E2EBFA;\n",
              "      box-shadow: 0px 1px 2px rgba(60, 64, 67, 0.3), 0px 1px 3px 1px rgba(60, 64, 67, 0.15);\n",
              "      fill: #174EA6;\n",
              "    }\n",
              "\n",
              "    [theme=dark] .colab-df-convert {\n",
              "      background-color: #3B4455;\n",
              "      fill: #D2E3FC;\n",
              "    }\n",
              "\n",
              "    [theme=dark] .colab-df-convert:hover {\n",
              "      background-color: #434B5C;\n",
              "      box-shadow: 0px 1px 3px 1px rgba(0, 0, 0, 0.15);\n",
              "      filter: drop-shadow(0px 1px 2px rgba(0, 0, 0, 0.3));\n",
              "      fill: #FFFFFF;\n",
              "    }\n",
              "  </style>\n",
              "\n",
              "      <script>\n",
              "        const buttonEl =\n",
              "          document.querySelector('#df-6081ffb4-8509-4fd8-98b8-14629c48f069 button.colab-df-convert');\n",
              "        buttonEl.style.display =\n",
              "          google.colab.kernel.accessAllowed ? 'block' : 'none';\n",
              "\n",
              "        async function convertToInteractive(key) {\n",
              "          const element = document.querySelector('#df-6081ffb4-8509-4fd8-98b8-14629c48f069');\n",
              "          const dataTable =\n",
              "            await google.colab.kernel.invokeFunction('convertToInteractive',\n",
              "                                                     [key], {});\n",
              "          if (!dataTable) return;\n",
              "\n",
              "          const docLinkHtml = 'Like what you see? Visit the ' +\n",
              "            '<a target=\"_blank\" href=https://colab.research.google.com/notebooks/data_table.ipynb>data table notebook</a>'\n",
              "            + ' to learn more about interactive tables.';\n",
              "          element.innerHTML = '';\n",
              "          dataTable['output_type'] = 'display_data';\n",
              "          await google.colab.output.renderOutput(dataTable, element);\n",
              "          const docLink = document.createElement('div');\n",
              "          docLink.innerHTML = docLinkHtml;\n",
              "          element.appendChild(docLink);\n",
              "        }\n",
              "      </script>\n",
              "    </div>\n",
              "  </div>\n",
              "  "
            ]
          },
          "metadata": {},
          "execution_count": 16
        }
      ]
    },
    {
      "cell_type": "code",
      "execution_count": null,
      "metadata": {
        "id": "bVS-RjdQkB2T"
      },
      "outputs": [],
      "source": [
        "data_load = [df1_2, df2]\n",
        "df = pd.concat(data_load).reset_index(drop=True)"
      ]
    },
    {
      "cell_type": "code",
      "execution_count": null,
      "metadata": {
        "colab": {
          "base_uri": "https://localhost:8080/",
          "height": 423
        },
        "id": "tOM25Zzu2tdZ",
        "outputId": "b1ea81ef-10c1-45cc-b379-ccc7e725ca3e"
      },
      "outputs": [
        {
          "output_type": "display_data",
          "data": {
            "text/plain": [
              "      nlp_l_2dn  nlp_3g_dist  nlp_l_fqdn  nlp_1g_e  nlp_2g_dist  nlp_2g_ken  \\\n",
              "0          20.0         20.0        24.0  5.397763         20.0    0.193955   \n",
              "1          14.0         14.0        18.0  3.793787         15.0    0.168236   \n",
              "2          18.0         18.0        22.0  4.847724         19.0    0.189048   \n",
              "3          12.0         13.0        16.0  3.419881         13.0    0.156798   \n",
              "4          17.0         17.0        21.0  4.669094         18.0    0.184078   \n",
              "...         ...          ...         ...       ...          ...         ...   \n",
              "1989        6.0          7.0        10.0  1.621124          8.0    0.123198   \n",
              "1990       10.0         11.0        14.0  2.580115         12.0    0.150651   \n",
              "1991        4.0          5.0         8.0  1.354726          6.0    0.106775   \n",
              "1992        3.0          6.0        10.0  1.500263          7.0    0.115286   \n",
              "1993        4.0          4.0         7.0  1.103150          5.0    0.097510   \n",
              "\n",
              "      nlp_2g_spe  nlp_3g_ken  nlp_3g_spe  nlp_3g_sumsq  whois_rec  \\\n",
              "0       0.222742    0.058143    0.060062          20.0        0.0   \n",
              "1       0.193276    0.048649    0.050254          14.0        0.0   \n",
              "2       0.217186    0.055160    0.056981          18.0        0.0   \n",
              "3       0.180072    0.046880    0.048427          13.0        0.0   \n",
              "4       0.211476    0.053607    0.055376          17.0        0.0   \n",
              "...          ...         ...         ...           ...        ...   \n",
              "1989    0.141534    0.034403    0.035538           7.0       22.0   \n",
              "1990    0.173074    0.043124    0.044547          11.0       19.0   \n",
              "1991    0.122667    0.029076    0.030036           5.0       35.0   \n",
              "1992    0.132445    0.031851    0.032902           6.0       13.0   \n",
              "1993    0.112023    0.026007    0.026865           4.0       53.0   \n",
              "\n",
              "      whois_change  class  \n",
              "0         0.951869    1.0  \n",
              "1         0.449606    1.0  \n",
              "2         0.792113    1.0  \n",
              "3         0.314763    1.0  \n",
              "4         0.706863    1.0  \n",
              "...            ...    ...  \n",
              "1989      0.000000    0.0  \n",
              "1990      0.000000    0.0  \n",
              "1991      0.000000    0.0  \n",
              "1992      1.000000    0.0  \n",
              "1993      1.000000    0.0  \n",
              "\n",
              "[1994 rows x 13 columns]"
            ],
            "text/html": [
              "\n",
              "  <div id=\"df-14ff5b29-8e45-47bc-88d0-ca2bf48ebcc2\">\n",
              "    <div class=\"colab-df-container\">\n",
              "      <div>\n",
              "<style scoped>\n",
              "    .dataframe tbody tr th:only-of-type {\n",
              "        vertical-align: middle;\n",
              "    }\n",
              "\n",
              "    .dataframe tbody tr th {\n",
              "        vertical-align: top;\n",
              "    }\n",
              "\n",
              "    .dataframe thead th {\n",
              "        text-align: right;\n",
              "    }\n",
              "</style>\n",
              "<table border=\"1\" class=\"dataframe\">\n",
              "  <thead>\n",
              "    <tr style=\"text-align: right;\">\n",
              "      <th></th>\n",
              "      <th>nlp_l_2dn</th>\n",
              "      <th>nlp_3g_dist</th>\n",
              "      <th>nlp_l_fqdn</th>\n",
              "      <th>nlp_1g_e</th>\n",
              "      <th>nlp_2g_dist</th>\n",
              "      <th>nlp_2g_ken</th>\n",
              "      <th>nlp_2g_spe</th>\n",
              "      <th>nlp_3g_ken</th>\n",
              "      <th>nlp_3g_spe</th>\n",
              "      <th>nlp_3g_sumsq</th>\n",
              "      <th>whois_rec</th>\n",
              "      <th>whois_change</th>\n",
              "      <th>class</th>\n",
              "    </tr>\n",
              "  </thead>\n",
              "  <tbody>\n",
              "    <tr>\n",
              "      <th>0</th>\n",
              "      <td>20.0</td>\n",
              "      <td>20.0</td>\n",
              "      <td>24.0</td>\n",
              "      <td>5.397763</td>\n",
              "      <td>20.0</td>\n",
              "      <td>0.193955</td>\n",
              "      <td>0.222742</td>\n",
              "      <td>0.058143</td>\n",
              "      <td>0.060062</td>\n",
              "      <td>20.0</td>\n",
              "      <td>0.0</td>\n",
              "      <td>0.951869</td>\n",
              "      <td>1.0</td>\n",
              "    </tr>\n",
              "    <tr>\n",
              "      <th>1</th>\n",
              "      <td>14.0</td>\n",
              "      <td>14.0</td>\n",
              "      <td>18.0</td>\n",
              "      <td>3.793787</td>\n",
              "      <td>15.0</td>\n",
              "      <td>0.168236</td>\n",
              "      <td>0.193276</td>\n",
              "      <td>0.048649</td>\n",
              "      <td>0.050254</td>\n",
              "      <td>14.0</td>\n",
              "      <td>0.0</td>\n",
              "      <td>0.449606</td>\n",
              "      <td>1.0</td>\n",
              "    </tr>\n",
              "    <tr>\n",
              "      <th>2</th>\n",
              "      <td>18.0</td>\n",
              "      <td>18.0</td>\n",
              "      <td>22.0</td>\n",
              "      <td>4.847724</td>\n",
              "      <td>19.0</td>\n",
              "      <td>0.189048</td>\n",
              "      <td>0.217186</td>\n",
              "      <td>0.055160</td>\n",
              "      <td>0.056981</td>\n",
              "      <td>18.0</td>\n",
              "      <td>0.0</td>\n",
              "      <td>0.792113</td>\n",
              "      <td>1.0</td>\n",
              "    </tr>\n",
              "    <tr>\n",
              "      <th>3</th>\n",
              "      <td>12.0</td>\n",
              "      <td>13.0</td>\n",
              "      <td>16.0</td>\n",
              "      <td>3.419881</td>\n",
              "      <td>13.0</td>\n",
              "      <td>0.156798</td>\n",
              "      <td>0.180072</td>\n",
              "      <td>0.046880</td>\n",
              "      <td>0.048427</td>\n",
              "      <td>13.0</td>\n",
              "      <td>0.0</td>\n",
              "      <td>0.314763</td>\n",
              "      <td>1.0</td>\n",
              "    </tr>\n",
              "    <tr>\n",
              "      <th>4</th>\n",
              "      <td>17.0</td>\n",
              "      <td>17.0</td>\n",
              "      <td>21.0</td>\n",
              "      <td>4.669094</td>\n",
              "      <td>18.0</td>\n",
              "      <td>0.184078</td>\n",
              "      <td>0.211476</td>\n",
              "      <td>0.053607</td>\n",
              "      <td>0.055376</td>\n",
              "      <td>17.0</td>\n",
              "      <td>0.0</td>\n",
              "      <td>0.706863</td>\n",
              "      <td>1.0</td>\n",
              "    </tr>\n",
              "    <tr>\n",
              "      <th>...</th>\n",
              "      <td>...</td>\n",
              "      <td>...</td>\n",
              "      <td>...</td>\n",
              "      <td>...</td>\n",
              "      <td>...</td>\n",
              "      <td>...</td>\n",
              "      <td>...</td>\n",
              "      <td>...</td>\n",
              "      <td>...</td>\n",
              "      <td>...</td>\n",
              "      <td>...</td>\n",
              "      <td>...</td>\n",
              "      <td>...</td>\n",
              "    </tr>\n",
              "    <tr>\n",
              "      <th>1989</th>\n",
              "      <td>6.0</td>\n",
              "      <td>7.0</td>\n",
              "      <td>10.0</td>\n",
              "      <td>1.621124</td>\n",
              "      <td>8.0</td>\n",
              "      <td>0.123198</td>\n",
              "      <td>0.141534</td>\n",
              "      <td>0.034403</td>\n",
              "      <td>0.035538</td>\n",
              "      <td>7.0</td>\n",
              "      <td>22.0</td>\n",
              "      <td>0.000000</td>\n",
              "      <td>0.0</td>\n",
              "    </tr>\n",
              "    <tr>\n",
              "      <th>1990</th>\n",
              "      <td>10.0</td>\n",
              "      <td>11.0</td>\n",
              "      <td>14.0</td>\n",
              "      <td>2.580115</td>\n",
              "      <td>12.0</td>\n",
              "      <td>0.150651</td>\n",
              "      <td>0.173074</td>\n",
              "      <td>0.043124</td>\n",
              "      <td>0.044547</td>\n",
              "      <td>11.0</td>\n",
              "      <td>19.0</td>\n",
              "      <td>0.000000</td>\n",
              "      <td>0.0</td>\n",
              "    </tr>\n",
              "    <tr>\n",
              "      <th>1991</th>\n",
              "      <td>4.0</td>\n",
              "      <td>5.0</td>\n",
              "      <td>8.0</td>\n",
              "      <td>1.354726</td>\n",
              "      <td>6.0</td>\n",
              "      <td>0.106775</td>\n",
              "      <td>0.122667</td>\n",
              "      <td>0.029076</td>\n",
              "      <td>0.030036</td>\n",
              "      <td>5.0</td>\n",
              "      <td>35.0</td>\n",
              "      <td>0.000000</td>\n",
              "      <td>0.0</td>\n",
              "    </tr>\n",
              "    <tr>\n",
              "      <th>1992</th>\n",
              "      <td>3.0</td>\n",
              "      <td>6.0</td>\n",
              "      <td>10.0</td>\n",
              "      <td>1.500263</td>\n",
              "      <td>7.0</td>\n",
              "      <td>0.115286</td>\n",
              "      <td>0.132445</td>\n",
              "      <td>0.031851</td>\n",
              "      <td>0.032902</td>\n",
              "      <td>6.0</td>\n",
              "      <td>13.0</td>\n",
              "      <td>1.000000</td>\n",
              "      <td>0.0</td>\n",
              "    </tr>\n",
              "    <tr>\n",
              "      <th>1993</th>\n",
              "      <td>4.0</td>\n",
              "      <td>4.0</td>\n",
              "      <td>7.0</td>\n",
              "      <td>1.103150</td>\n",
              "      <td>5.0</td>\n",
              "      <td>0.097510</td>\n",
              "      <td>0.112023</td>\n",
              "      <td>0.026007</td>\n",
              "      <td>0.026865</td>\n",
              "      <td>4.0</td>\n",
              "      <td>53.0</td>\n",
              "      <td>1.000000</td>\n",
              "      <td>0.0</td>\n",
              "    </tr>\n",
              "  </tbody>\n",
              "</table>\n",
              "<p>1994 rows × 13 columns</p>\n",
              "</div>\n",
              "      <button class=\"colab-df-convert\" onclick=\"convertToInteractive('df-14ff5b29-8e45-47bc-88d0-ca2bf48ebcc2')\"\n",
              "              title=\"Convert this dataframe to an interactive table.\"\n",
              "              style=\"display:none;\">\n",
              "        \n",
              "  <svg xmlns=\"http://www.w3.org/2000/svg\" height=\"24px\"viewBox=\"0 0 24 24\"\n",
              "       width=\"24px\">\n",
              "    <path d=\"M0 0h24v24H0V0z\" fill=\"none\"/>\n",
              "    <path d=\"M18.56 5.44l.94 2.06.94-2.06 2.06-.94-2.06-.94-.94-2.06-.94 2.06-2.06.94zm-11 1L8.5 8.5l.94-2.06 2.06-.94-2.06-.94L8.5 2.5l-.94 2.06-2.06.94zm10 10l.94 2.06.94-2.06 2.06-.94-2.06-.94-.94-2.06-.94 2.06-2.06.94z\"/><path d=\"M17.41 7.96l-1.37-1.37c-.4-.4-.92-.59-1.43-.59-.52 0-1.04.2-1.43.59L10.3 9.45l-7.72 7.72c-.78.78-.78 2.05 0 2.83L4 21.41c.39.39.9.59 1.41.59.51 0 1.02-.2 1.41-.59l7.78-7.78 2.81-2.81c.8-.78.8-2.07 0-2.86zM5.41 20L4 18.59l7.72-7.72 1.47 1.35L5.41 20z\"/>\n",
              "  </svg>\n",
              "      </button>\n",
              "      \n",
              "  <style>\n",
              "    .colab-df-container {\n",
              "      display:flex;\n",
              "      flex-wrap:wrap;\n",
              "      gap: 12px;\n",
              "    }\n",
              "\n",
              "    .colab-df-convert {\n",
              "      background-color: #E8F0FE;\n",
              "      border: none;\n",
              "      border-radius: 50%;\n",
              "      cursor: pointer;\n",
              "      display: none;\n",
              "      fill: #1967D2;\n",
              "      height: 32px;\n",
              "      padding: 0 0 0 0;\n",
              "      width: 32px;\n",
              "    }\n",
              "\n",
              "    .colab-df-convert:hover {\n",
              "      background-color: #E2EBFA;\n",
              "      box-shadow: 0px 1px 2px rgba(60, 64, 67, 0.3), 0px 1px 3px 1px rgba(60, 64, 67, 0.15);\n",
              "      fill: #174EA6;\n",
              "    }\n",
              "\n",
              "    [theme=dark] .colab-df-convert {\n",
              "      background-color: #3B4455;\n",
              "      fill: #D2E3FC;\n",
              "    }\n",
              "\n",
              "    [theme=dark] .colab-df-convert:hover {\n",
              "      background-color: #434B5C;\n",
              "      box-shadow: 0px 1px 3px 1px rgba(0, 0, 0, 0.15);\n",
              "      filter: drop-shadow(0px 1px 2px rgba(0, 0, 0, 0.3));\n",
              "      fill: #FFFFFF;\n",
              "    }\n",
              "  </style>\n",
              "\n",
              "      <script>\n",
              "        const buttonEl =\n",
              "          document.querySelector('#df-14ff5b29-8e45-47bc-88d0-ca2bf48ebcc2 button.colab-df-convert');\n",
              "        buttonEl.style.display =\n",
              "          google.colab.kernel.accessAllowed ? 'block' : 'none';\n",
              "\n",
              "        async function convertToInteractive(key) {\n",
              "          const element = document.querySelector('#df-14ff5b29-8e45-47bc-88d0-ca2bf48ebcc2');\n",
              "          const dataTable =\n",
              "            await google.colab.kernel.invokeFunction('convertToInteractive',\n",
              "                                                     [key], {});\n",
              "          if (!dataTable) return;\n",
              "\n",
              "          const docLinkHtml = 'Like what you see? Visit the ' +\n",
              "            '<a target=\"_blank\" href=https://colab.research.google.com/notebooks/data_table.ipynb>data table notebook</a>'\n",
              "            + ' to learn more about interactive tables.';\n",
              "          element.innerHTML = '';\n",
              "          dataTable['output_type'] = 'display_data';\n",
              "          await google.colab.output.renderOutput(dataTable, element);\n",
              "          const docLink = document.createElement('div');\n",
              "          docLink.innerHTML = docLinkHtml;\n",
              "          element.appendChild(docLink);\n",
              "        }\n",
              "      </script>\n",
              "    </div>\n",
              "  </div>\n",
              "  "
            ]
          },
          "metadata": {}
        }
      ],
      "source": [
        "display(df)"
      ]
    },
    {
      "cell_type": "code",
      "execution_count": null,
      "metadata": {
        "colab": {
          "base_uri": "https://localhost:8080/"
        },
        "id": "O1UUK_Y_7Tp5",
        "outputId": "fa958347-f7e5-4f18-d0be-27cf23aff470"
      },
      "outputs": [
        {
          "output_type": "execute_result",
          "data": {
            "text/plain": [
              "nlp_l_2dn       0\n",
              "nlp_3g_dist     0\n",
              "nlp_l_fqdn      0\n",
              "nlp_1g_e        0\n",
              "nlp_2g_dist     0\n",
              "nlp_2g_ken      0\n",
              "nlp_2g_spe      0\n",
              "nlp_3g_ken      0\n",
              "nlp_3g_spe      0\n",
              "nlp_3g_sumsq    0\n",
              "whois_rec       0\n",
              "whois_change    0\n",
              "class           0\n",
              "dtype: int64"
            ]
          },
          "metadata": {},
          "execution_count": 185
        }
      ],
      "source": [
        "df.isnull().sum().sort_values(ascending=False)"
      ]
    },
    {
      "cell_type": "code",
      "execution_count": null,
      "metadata": {
        "id": "tesu6-pi7my5"
      },
      "outputs": [],
      "source": [
        "df.dropna(how=\"any\", inplace=True)"
      ]
    },
    {
      "cell_type": "code",
      "execution_count": null,
      "metadata": {
        "colab": {
          "base_uri": "https://localhost:8080/"
        },
        "id": "m9SRL4sGCC2Y",
        "outputId": "58d317d4-314d-4fe6-9d82-aaba6f131911"
      },
      "outputs": [
        {
          "output_type": "stream",
          "name": "stdout",
          "text": [
            "<class 'pandas.core.frame.DataFrame'>\n",
            "Int64Index: 1994 entries, 0 to 1993\n",
            "Data columns (total 13 columns):\n",
            " #   Column        Non-Null Count  Dtype  \n",
            "---  ------        --------------  -----  \n",
            " 0   nlp_l_2dn     1994 non-null   float64\n",
            " 1   nlp_3g_dist   1994 non-null   float64\n",
            " 2   nlp_l_fqdn    1994 non-null   float64\n",
            " 3   nlp_1g_e      1994 non-null   float64\n",
            " 4   nlp_2g_dist   1994 non-null   float64\n",
            " 5   nlp_2g_ken    1994 non-null   float64\n",
            " 6   nlp_2g_spe    1994 non-null   float64\n",
            " 7   nlp_3g_ken    1994 non-null   float64\n",
            " 8   nlp_3g_spe    1994 non-null   float64\n",
            " 9   nlp_3g_sumsq  1994 non-null   float64\n",
            " 10  whois_rec     1994 non-null   float64\n",
            " 11  whois_change  1994 non-null   float64\n",
            " 12  class         1994 non-null   float64\n",
            "dtypes: float64(13)\n",
            "memory usage: 218.1 KB\n"
          ]
        }
      ],
      "source": [
        "df.info()"
      ]
    },
    {
      "cell_type": "code",
      "execution_count": null,
      "metadata": {
        "id": "uLXuHXJsJ6Ax"
      },
      "outputs": [],
      "source": [
        "X, y = df.iloc[:, :-1], df.iloc[:, -1] # the last column is the target"
      ]
    },
    {
      "cell_type": "code",
      "execution_count": null,
      "metadata": {
        "id": "NLU-tEqR7pYn"
      },
      "outputs": [],
      "source": [
        "from sklearn.model_selection import train_test_split\n",
        "# from sklearn.preprocessing import StandardScaler\n",
        "# X = StandardScaler().fit_transform(X)\n",
        "\n",
        "# Generate train/test sets\n",
        "X_train, X_test, y_train, y_test = train_test_split(\n",
        "    X, y, test_size=0.3, random_state=42\n",
        ")\n",
        "\n"
      ]
    },
    {
      "cell_type": "code",
      "execution_count": null,
      "metadata": {
        "id": "4Ax1nK3NlSXD"
      },
      "outputs": [],
      "source": [
        "IMAGES_PATH = Path() / \"gdrive\" / \"MyDrive\" / \"Colab\" / \"Data\" / \"images\" / \"matsnu\"\n",
        "IMAGES_PATH.mkdir(parents=True, exist_ok=True)\n",
        "\n",
        "def save_fig(fig_id, tight_layout=True, fig_extension=\"png\", resolution=600):\n",
        "    path = IMAGES_PATH / f\"{fig_id}.{fig_extension}\"\n",
        "    if tight_layout:\n",
        "        plt.tight_layout()\n",
        "    plt.savefig(path, format=fig_extension, dpi=resolution)"
      ]
    },
    {
      "cell_type": "code",
      "execution_count": null,
      "metadata": {
        "colab": {
          "base_uri": "https://localhost:8080/"
        },
        "id": "BB5bEM007CpY",
        "outputId": "c84ad3a0-91f2-4bf2-d518-4c85581a4340"
      },
      "outputs": [
        {
          "output_type": "execute_result",
          "data": {
            "text/plain": [
              "         nlp_l_2dn  nlp_3g_dist   nlp_l_fqdn     nlp_1g_e  nlp_2g_dist  \\\n",
              "count  1994.000000  1994.000000  1994.000000  1994.000000  1994.000000   \n",
              "mean     11.070211    11.505015    15.216148     3.081083    12.197593   \n",
              "std       5.273749     4.564773     5.130795     1.179596     4.367360   \n",
              "min       1.000000     1.000000     4.000000     0.482578     2.000000   \n",
              "25%       6.000000     8.000000    11.000000     2.071935     9.000000   \n",
              "50%      12.000000    12.000000    16.000000     3.210734    13.000000   \n",
              "75%      15.000000    15.000000    19.000000     3.982921    15.000000   \n",
              "max      24.000000    23.000000    28.000000     6.250972    24.000000   \n",
              "\n",
              "        nlp_2g_ken   nlp_2g_spe   nlp_3g_ken   nlp_3g_spe  nlp_3g_sumsq  \\\n",
              "count  1994.000000  1994.000000  1994.000000  1994.000000   1994.000000   \n",
              "mean      0.149116     0.171288     0.043104     0.044527     11.688566   \n",
              "std       0.028448     0.032668     0.009330     0.009638      4.728112   \n",
              "min       0.061742     0.070932     0.013004     0.013433      1.000000   \n",
              "25%       0.130620     0.150061     0.036778     0.037991      8.000000   \n",
              "50%       0.156742     0.180071     0.045041     0.046527     12.000000   \n",
              "75%       0.168420     0.193279     0.050356     0.052018     15.000000   \n",
              "max       0.212055     0.243617     0.062349     0.064407     25.000000   \n",
              "\n",
              "         whois_rec  whois_change        class  \n",
              "count  1994.000000   1994.000000  1994.000000  \n",
              "mean     15.280341      0.509092     0.499498  \n",
              "std      15.811044      0.735175     0.500125  \n",
              "min       0.000000      0.000000     0.000000  \n",
              "25%       0.000000      0.000000     0.000000  \n",
              "50%      16.000000      0.363714     0.000000  \n",
              "75%      29.000000      0.705030     1.000000  \n",
              "max     110.000000      4.000000     1.000000  "
            ],
            "text/html": [
              "\n",
              "  <div id=\"df-5a0bd61a-4d76-4cc1-9757-c29d59e1e322\">\n",
              "    <div class=\"colab-df-container\">\n",
              "      <div>\n",
              "<style scoped>\n",
              "    .dataframe tbody tr th:only-of-type {\n",
              "        vertical-align: middle;\n",
              "    }\n",
              "\n",
              "    .dataframe tbody tr th {\n",
              "        vertical-align: top;\n",
              "    }\n",
              "\n",
              "    .dataframe thead th {\n",
              "        text-align: right;\n",
              "    }\n",
              "</style>\n",
              "<table border=\"1\" class=\"dataframe\">\n",
              "  <thead>\n",
              "    <tr style=\"text-align: right;\">\n",
              "      <th></th>\n",
              "      <th>nlp_l_2dn</th>\n",
              "      <th>nlp_3g_dist</th>\n",
              "      <th>nlp_l_fqdn</th>\n",
              "      <th>nlp_1g_e</th>\n",
              "      <th>nlp_2g_dist</th>\n",
              "      <th>nlp_2g_ken</th>\n",
              "      <th>nlp_2g_spe</th>\n",
              "      <th>nlp_3g_ken</th>\n",
              "      <th>nlp_3g_spe</th>\n",
              "      <th>nlp_3g_sumsq</th>\n",
              "      <th>whois_rec</th>\n",
              "      <th>whois_change</th>\n",
              "      <th>class</th>\n",
              "    </tr>\n",
              "  </thead>\n",
              "  <tbody>\n",
              "    <tr>\n",
              "      <th>count</th>\n",
              "      <td>1994.000000</td>\n",
              "      <td>1994.000000</td>\n",
              "      <td>1994.000000</td>\n",
              "      <td>1994.000000</td>\n",
              "      <td>1994.000000</td>\n",
              "      <td>1994.000000</td>\n",
              "      <td>1994.000000</td>\n",
              "      <td>1994.000000</td>\n",
              "      <td>1994.000000</td>\n",
              "      <td>1994.000000</td>\n",
              "      <td>1994.000000</td>\n",
              "      <td>1994.000000</td>\n",
              "      <td>1994.000000</td>\n",
              "    </tr>\n",
              "    <tr>\n",
              "      <th>mean</th>\n",
              "      <td>11.070211</td>\n",
              "      <td>11.505015</td>\n",
              "      <td>15.216148</td>\n",
              "      <td>3.081083</td>\n",
              "      <td>12.197593</td>\n",
              "      <td>0.149116</td>\n",
              "      <td>0.171288</td>\n",
              "      <td>0.043104</td>\n",
              "      <td>0.044527</td>\n",
              "      <td>11.688566</td>\n",
              "      <td>15.280341</td>\n",
              "      <td>0.509092</td>\n",
              "      <td>0.499498</td>\n",
              "    </tr>\n",
              "    <tr>\n",
              "      <th>std</th>\n",
              "      <td>5.273749</td>\n",
              "      <td>4.564773</td>\n",
              "      <td>5.130795</td>\n",
              "      <td>1.179596</td>\n",
              "      <td>4.367360</td>\n",
              "      <td>0.028448</td>\n",
              "      <td>0.032668</td>\n",
              "      <td>0.009330</td>\n",
              "      <td>0.009638</td>\n",
              "      <td>4.728112</td>\n",
              "      <td>15.811044</td>\n",
              "      <td>0.735175</td>\n",
              "      <td>0.500125</td>\n",
              "    </tr>\n",
              "    <tr>\n",
              "      <th>min</th>\n",
              "      <td>1.000000</td>\n",
              "      <td>1.000000</td>\n",
              "      <td>4.000000</td>\n",
              "      <td>0.482578</td>\n",
              "      <td>2.000000</td>\n",
              "      <td>0.061742</td>\n",
              "      <td>0.070932</td>\n",
              "      <td>0.013004</td>\n",
              "      <td>0.013433</td>\n",
              "      <td>1.000000</td>\n",
              "      <td>0.000000</td>\n",
              "      <td>0.000000</td>\n",
              "      <td>0.000000</td>\n",
              "    </tr>\n",
              "    <tr>\n",
              "      <th>25%</th>\n",
              "      <td>6.000000</td>\n",
              "      <td>8.000000</td>\n",
              "      <td>11.000000</td>\n",
              "      <td>2.071935</td>\n",
              "      <td>9.000000</td>\n",
              "      <td>0.130620</td>\n",
              "      <td>0.150061</td>\n",
              "      <td>0.036778</td>\n",
              "      <td>0.037991</td>\n",
              "      <td>8.000000</td>\n",
              "      <td>0.000000</td>\n",
              "      <td>0.000000</td>\n",
              "      <td>0.000000</td>\n",
              "    </tr>\n",
              "    <tr>\n",
              "      <th>50%</th>\n",
              "      <td>12.000000</td>\n",
              "      <td>12.000000</td>\n",
              "      <td>16.000000</td>\n",
              "      <td>3.210734</td>\n",
              "      <td>13.000000</td>\n",
              "      <td>0.156742</td>\n",
              "      <td>0.180071</td>\n",
              "      <td>0.045041</td>\n",
              "      <td>0.046527</td>\n",
              "      <td>12.000000</td>\n",
              "      <td>16.000000</td>\n",
              "      <td>0.363714</td>\n",
              "      <td>0.000000</td>\n",
              "    </tr>\n",
              "    <tr>\n",
              "      <th>75%</th>\n",
              "      <td>15.000000</td>\n",
              "      <td>15.000000</td>\n",
              "      <td>19.000000</td>\n",
              "      <td>3.982921</td>\n",
              "      <td>15.000000</td>\n",
              "      <td>0.168420</td>\n",
              "      <td>0.193279</td>\n",
              "      <td>0.050356</td>\n",
              "      <td>0.052018</td>\n",
              "      <td>15.000000</td>\n",
              "      <td>29.000000</td>\n",
              "      <td>0.705030</td>\n",
              "      <td>1.000000</td>\n",
              "    </tr>\n",
              "    <tr>\n",
              "      <th>max</th>\n",
              "      <td>24.000000</td>\n",
              "      <td>23.000000</td>\n",
              "      <td>28.000000</td>\n",
              "      <td>6.250972</td>\n",
              "      <td>24.000000</td>\n",
              "      <td>0.212055</td>\n",
              "      <td>0.243617</td>\n",
              "      <td>0.062349</td>\n",
              "      <td>0.064407</td>\n",
              "      <td>25.000000</td>\n",
              "      <td>110.000000</td>\n",
              "      <td>4.000000</td>\n",
              "      <td>1.000000</td>\n",
              "    </tr>\n",
              "  </tbody>\n",
              "</table>\n",
              "</div>\n",
              "      <button class=\"colab-df-convert\" onclick=\"convertToInteractive('df-5a0bd61a-4d76-4cc1-9757-c29d59e1e322')\"\n",
              "              title=\"Convert this dataframe to an interactive table.\"\n",
              "              style=\"display:none;\">\n",
              "        \n",
              "  <svg xmlns=\"http://www.w3.org/2000/svg\" height=\"24px\"viewBox=\"0 0 24 24\"\n",
              "       width=\"24px\">\n",
              "    <path d=\"M0 0h24v24H0V0z\" fill=\"none\"/>\n",
              "    <path d=\"M18.56 5.44l.94 2.06.94-2.06 2.06-.94-2.06-.94-.94-2.06-.94 2.06-2.06.94zm-11 1L8.5 8.5l.94-2.06 2.06-.94-2.06-.94L8.5 2.5l-.94 2.06-2.06.94zm10 10l.94 2.06.94-2.06 2.06-.94-2.06-.94-.94-2.06-.94 2.06-2.06.94z\"/><path d=\"M17.41 7.96l-1.37-1.37c-.4-.4-.92-.59-1.43-.59-.52 0-1.04.2-1.43.59L10.3 9.45l-7.72 7.72c-.78.78-.78 2.05 0 2.83L4 21.41c.39.39.9.59 1.41.59.51 0 1.02-.2 1.41-.59l7.78-7.78 2.81-2.81c.8-.78.8-2.07 0-2.86zM5.41 20L4 18.59l7.72-7.72 1.47 1.35L5.41 20z\"/>\n",
              "  </svg>\n",
              "      </button>\n",
              "      \n",
              "  <style>\n",
              "    .colab-df-container {\n",
              "      display:flex;\n",
              "      flex-wrap:wrap;\n",
              "      gap: 12px;\n",
              "    }\n",
              "\n",
              "    .colab-df-convert {\n",
              "      background-color: #E8F0FE;\n",
              "      border: none;\n",
              "      border-radius: 50%;\n",
              "      cursor: pointer;\n",
              "      display: none;\n",
              "      fill: #1967D2;\n",
              "      height: 32px;\n",
              "      padding: 0 0 0 0;\n",
              "      width: 32px;\n",
              "    }\n",
              "\n",
              "    .colab-df-convert:hover {\n",
              "      background-color: #E2EBFA;\n",
              "      box-shadow: 0px 1px 2px rgba(60, 64, 67, 0.3), 0px 1px 3px 1px rgba(60, 64, 67, 0.15);\n",
              "      fill: #174EA6;\n",
              "    }\n",
              "\n",
              "    [theme=dark] .colab-df-convert {\n",
              "      background-color: #3B4455;\n",
              "      fill: #D2E3FC;\n",
              "    }\n",
              "\n",
              "    [theme=dark] .colab-df-convert:hover {\n",
              "      background-color: #434B5C;\n",
              "      box-shadow: 0px 1px 3px 1px rgba(0, 0, 0, 0.15);\n",
              "      filter: drop-shadow(0px 1px 2px rgba(0, 0, 0, 0.3));\n",
              "      fill: #FFFFFF;\n",
              "    }\n",
              "  </style>\n",
              "\n",
              "      <script>\n",
              "        const buttonEl =\n",
              "          document.querySelector('#df-5a0bd61a-4d76-4cc1-9757-c29d59e1e322 button.colab-df-convert');\n",
              "        buttonEl.style.display =\n",
              "          google.colab.kernel.accessAllowed ? 'block' : 'none';\n",
              "\n",
              "        async function convertToInteractive(key) {\n",
              "          const element = document.querySelector('#df-5a0bd61a-4d76-4cc1-9757-c29d59e1e322');\n",
              "          const dataTable =\n",
              "            await google.colab.kernel.invokeFunction('convertToInteractive',\n",
              "                                                     [key], {});\n",
              "          if (!dataTable) return;\n",
              "\n",
              "          const docLinkHtml = 'Like what you see? Visit the ' +\n",
              "            '<a target=\"_blank\" href=https://colab.research.google.com/notebooks/data_table.ipynb>data table notebook</a>'\n",
              "            + ' to learn more about interactive tables.';\n",
              "          element.innerHTML = '';\n",
              "          dataTable['output_type'] = 'display_data';\n",
              "          await google.colab.output.renderOutput(dataTable, element);\n",
              "          const docLink = document.createElement('div');\n",
              "          docLink.innerHTML = docLinkHtml;\n",
              "          element.appendChild(docLink);\n",
              "        }\n",
              "      </script>\n",
              "    </div>\n",
              "  </div>\n",
              "  "
            ]
          },
          "metadata": {},
          "execution_count": 191
        }
      ],
      "source": [
        "df.describe()"
      ]
    },
    {
      "cell_type": "code",
      "execution_count": null,
      "metadata": {
        "colab": {
          "base_uri": "https://localhost:8080/"
        },
        "id": "OuZK2lGE56Cw",
        "outputId": "5d27af29-3b83-48aa-d7ef-e01045fd7be5"
      },
      "outputs": [
        {
          "output_type": "display_data",
          "data": {
            "text/plain": [
              "<Figure size 1728x1152 with 16 Axes>"
            ],
            "image/png": "[encoded data removed]"
          },
          "metadata": {
            "needs_background": "light"
          }
        }
      ],
      "source": [
        "import matplotlib.pyplot as plt\n",
        "\n",
        "df.hist(bins=50, figsize=(24, 16))\n",
        "plt.show()"
      ]
    },
    {
      "cell_type": "markdown",
      "metadata": {
        "id": "4EsjCmYPiEFo"
      },
      "source": [
        "### Naive Bayes (NB) classifier"
      ]
    },
    {
      "cell_type": "code",
      "source": [
        "from sklearn.naive_bayes import MultinomialNB\n",
        "\n",
        "mnb_clf = MultinomialNB()\n",
        "mnb_clf.fit(X_train, y_train)"
      ],
      "metadata": {
        "colab": {
          "base_uri": "https://localhost:8080/"
        },
        "id": "uLgStfia3Kk8",
        "outputId": "b9a87b1d-dd8f-4a22-c139-46edf74255be"
      },
      "execution_count": null,
      "outputs": [
        {
          "output_type": "execute_result",
          "data": {
            "text/plain": [
              "MultinomialNB()"
            ]
          },
          "metadata": {},
          "execution_count": 193
        }
      ]
    },
    {
      "cell_type": "code",
      "source": [
        "print(f\"Naive Bayes scored {mnb_clf.score(X_test, y_test).round(5)} on test\")\n",
        "print(f\"Naive Bayes scored {mnb_clf.score(X_train, y_train).round(5)} on train\")"
      ],
      "metadata": {
        "colab": {
          "base_uri": "https://localhost:8080/"
        },
        "id": "6M6-U_TG3NQj",
        "outputId": "da413ac8-fb10-4955-cdd9-2868b21acbea"
      },
      "execution_count": null,
      "outputs": [
        {
          "output_type": "stream",
          "name": "stdout",
          "text": [
            "Naive Bayes scored 0.9616 on test\n",
            "Naive Bayes scored 0.97419 on train\n"
          ]
        }
      ]
    },
    {
      "cell_type": "markdown",
      "source": [
        "#### Confusion Matrix for mnb_clf train"
      ],
      "metadata": {
        "id": "BmfxOgXC0VDz"
      }
    },
    {
      "cell_type": "code",
      "source": [
        "from sklearn.model_selection import cross_val_predict\n",
        "\n",
        "y_train_pred = cross_val_predict(mnb_clf, X_train, y_train, cv=3)"
      ],
      "metadata": {
        "id": "LaBgUz3a0VD0"
      },
      "execution_count": null,
      "outputs": []
    },
    {
      "cell_type": "code",
      "source": [
        "from sklearn.metrics import confusion_matrix\n",
        "cm = confusion_matrix(y_train, y_train_pred).round(5)\n",
        "cm"
      ],
      "metadata": {
        "colab": {
          "base_uri": "https://localhost:8080/"
        },
        "outputId": "52024bcc-6ccf-4ec9-ed13-cb9fdceb150f",
        "id": "mfmIDoXG0VD0"
      },
      "execution_count": null,
      "outputs": [
        {
          "output_type": "execute_result",
          "data": {
            "text/plain": [
              "array([[692,   6],\n",
              "       [ 29, 668]])"
            ]
          },
          "metadata": {},
          "execution_count": 196
        }
      ]
    },
    {
      "cell_type": "code",
      "source": [
        "from sklearn.metrics import precision_score, recall_score\n",
        "precision_score(y_train, y_train_pred).round(5)"
      ],
      "metadata": {
        "colab": {
          "base_uri": "https://localhost:8080/"
        },
        "outputId": "37f90bf1-2486-4a7f-8734-65b20d4a89cc",
        "id": "02VmNE2V0VD0"
      },
      "execution_count": null,
      "outputs": [
        {
          "output_type": "execute_result",
          "data": {
            "text/plain": [
              "0.9911"
            ]
          },
          "metadata": {},
          "execution_count": 197
        }
      ]
    },
    {
      "cell_type": "code",
      "source": [
        "recall_score(y_train, y_train_pred).round(5)"
      ],
      "metadata": {
        "colab": {
          "base_uri": "https://localhost:8080/"
        },
        "outputId": "fabf1211-52b9-4c14-b6c7-ea8527f2eac1",
        "id": "vqDh5xt20VD1"
      },
      "execution_count": null,
      "outputs": [
        {
          "output_type": "execute_result",
          "data": {
            "text/plain": [
              "0.95839"
            ]
          },
          "metadata": {},
          "execution_count": 198
        }
      ]
    },
    {
      "cell_type": "code",
      "source": [
        "from sklearn.metrics import f1_score\n",
        "f1_score(y_train, y_train_pred).round(5)"
      ],
      "metadata": {
        "colab": {
          "base_uri": "https://localhost:8080/"
        },
        "outputId": "d54eaba4-6a31-4a69-d55b-9b82586db628",
        "id": "9_Usu-8s0VD1"
      },
      "execution_count": null,
      "outputs": [
        {
          "output_type": "execute_result",
          "data": {
            "text/plain": [
              "0.97447"
            ]
          },
          "metadata": {},
          "execution_count": 199
        }
      ]
    },
    {
      "cell_type": "code",
      "source": [
        "from sklearn.metrics import ConfusionMatrixDisplay\n",
        "ConfusionMatrixDisplay.from_predictions(y_train, y_train_pred)\n",
        "save_fig(\"matsnu_+whois_mnb_train_cm\")\n",
        "plt.show"
      ],
      "metadata": {
        "colab": {
          "base_uri": "https://localhost:8080/"
        },
        "outputId": "a03fb1eb-eccf-4c5c-e836-d5645cc80e04",
        "id": "nntbLt7b0VD1"
      },
      "execution_count": null,
      "outputs": [
        {
          "output_type": "execute_result",
          "data": {
            "text/plain": [
              "<function matplotlib.pyplot.show(*args, **kw)>"
            ]
          },
          "metadata": {},
          "execution_count": 200
        },
        {
          "output_type": "display_data",
          "data": {
            "text/plain": [
              "<Figure size 432x288 with 2 Axes>"
            ],
            "image/png": "[encoded data removed]"
          },
          "metadata": {
            "needs_background": "light"
          }
        }
      ]
    },
    {
      "cell_type": "code",
      "execution_count": null,
      "metadata": {
        "colab": {
          "base_uri": "https://localhost:8080/"
        },
        "id": "TmiB7J2siEFw",
        "outputId": "bbf78640-888d-40ef-ef99-2261961ca404"
      },
      "outputs": [
        {
          "output_type": "execute_result",
          "data": {
            "text/plain": [
              "MultinomialNB()"
            ]
          },
          "metadata": {},
          "execution_count": 201
        }
      ],
      "source": [
        "from sklearn.naive_bayes import MultinomialNB\n",
        "\n",
        "mnb_clf = MultinomialNB()\n",
        "mnb_clf.fit(X_train, y_train)\n"
      ]
    },
    {
      "cell_type": "code",
      "execution_count": null,
      "metadata": {
        "colab": {
          "base_uri": "https://localhost:8080/"
        },
        "id": "YHA9baOJiEFx",
        "outputId": "ab0a704c-f3ae-4b63-a88a-b05888899cd8"
      },
      "outputs": [
        {
          "output_type": "stream",
          "name": "stdout",
          "text": [
            "Naive Bayes scored 0.9616 on test\n",
            "Naive Bayes scored 0.97419 on train\n"
          ]
        }
      ],
      "source": [
        "print(f\"Naive Bayes scored {mnb_clf.score(X_test, y_test).round(5)} on test\")\n",
        "print(f\"Naive Bayes scored {mnb_clf.score(X_train, y_train).round(5)} on train\")"
      ]
    },
    {
      "cell_type": "markdown",
      "source": [
        "#### Confusion Matrix for mnb_clf test"
      ],
      "metadata": {
        "id": "9CdPoqK40Lw6"
      }
    },
    {
      "cell_type": "code",
      "source": [
        "from sklearn.model_selection import cross_val_predict\n",
        "\n",
        "y_test_pred = cross_val_predict(mnb_clf, X_test, y_test, cv=3)"
      ],
      "metadata": {
        "id": "ENgsl9_c0Lw6"
      },
      "execution_count": null,
      "outputs": []
    },
    {
      "cell_type": "code",
      "source": [
        "from sklearn.metrics import confusion_matrix\n",
        "cm = confusion_matrix(y_test, y_test_pred).round(5)\n",
        "cm"
      ],
      "metadata": {
        "colab": {
          "base_uri": "https://localhost:8080/"
        },
        "outputId": "8c655e27-0adb-4d14-a579-178c3bca8b06",
        "id": "hTvdZm800Lw7"
      },
      "execution_count": null,
      "outputs": [
        {
          "output_type": "execute_result",
          "data": {
            "text/plain": [
              "array([[298,   2],\n",
              "       [ 20, 279]])"
            ]
          },
          "metadata": {},
          "execution_count": 204
        }
      ]
    },
    {
      "cell_type": "code",
      "source": [
        "from sklearn.metrics import precision_score, recall_score\n",
        "precision_score(y_test, y_test_pred).round(5)"
      ],
      "metadata": {
        "colab": {
          "base_uri": "https://localhost:8080/"
        },
        "outputId": "4d5d87ba-732a-4225-8b71-b572aebce936",
        "id": "wTkDyfeU0Lw7"
      },
      "execution_count": null,
      "outputs": [
        {
          "output_type": "execute_result",
          "data": {
            "text/plain": [
              "0.99288"
            ]
          },
          "metadata": {},
          "execution_count": 205
        }
      ]
    },
    {
      "cell_type": "code",
      "source": [
        "recall_score(y_test, y_test_pred).round(5)"
      ],
      "metadata": {
        "colab": {
          "base_uri": "https://localhost:8080/"
        },
        "outputId": "e729dd90-ff4c-4dba-871d-aa2f9623e664",
        "id": "743QmPEG0Lw7"
      },
      "execution_count": null,
      "outputs": [
        {
          "output_type": "execute_result",
          "data": {
            "text/plain": [
              "0.93311"
            ]
          },
          "metadata": {},
          "execution_count": 206
        }
      ]
    },
    {
      "cell_type": "code",
      "source": [
        "from sklearn.metrics import f1_score\n",
        "f1_score(y_test, y_test_pred).round(5)"
      ],
      "metadata": {
        "colab": {
          "base_uri": "https://localhost:8080/"
        },
        "outputId": "080e3e34-61e4-4b16-be83-2e47f6df402f",
        "id": "uwB93gu20Lw8"
      },
      "execution_count": null,
      "outputs": [
        {
          "output_type": "execute_result",
          "data": {
            "text/plain": [
              "0.96207"
            ]
          },
          "metadata": {},
          "execution_count": 207
        }
      ]
    },
    {
      "cell_type": "code",
      "source": [
        "from sklearn.metrics import ConfusionMatrixDisplay\n",
        "ConfusionMatrixDisplay.from_predictions(y_test, y_test_pred)\n",
        "save_fig(\"matsnu_+whois_mnb_test_cm\")\n",
        "plt.show"
      ],
      "metadata": {
        "colab": {
          "base_uri": "https://localhost:8080/",
          "height": 298
        },
        "outputId": "a4472201-37ef-473f-8093-91723eb1aeb3",
        "id": "RZlLGIRP0Lw8"
      },
      "execution_count": null,
      "outputs": [
        {
          "output_type": "execute_result",
          "data": {
            "text/plain": [
              "<function matplotlib.pyplot.show(*args, **kw)>"
            ]
          },
          "metadata": {},
          "execution_count": 208
        },
        {
          "output_type": "display_data",
          "data": {
            "text/plain": [
              "<Figure size 432x288 with 2 Axes>"
            ],
            "image/png": "[encoded data removed]"
          },
          "metadata": {
            "needs_background": "light"
          }
        }
      ]
    },
    {
      "cell_type": "markdown",
      "metadata": {
        "id": "O8Vb1kdojPI4"
      },
      "source": [
        "### Logistic Regression (LG) classifier"
      ]
    },
    {
      "cell_type": "code",
      "execution_count": null,
      "metadata": {
        "colab": {
          "base_uri": "https://localhost:8080/"
        },
        "id": "96qF9r2YjPI_",
        "outputId": "8fc96ace-7e14-4bd3-acfb-94a989302dc7"
      },
      "outputs": [
        {
          "output_type": "execute_result",
          "data": {
            "text/plain": [
              "LogisticRegression(max_iter=1000)"
            ]
          },
          "metadata": {},
          "execution_count": 209
        }
      ],
      "source": [
        "from sklearn.linear_model import LogisticRegression\n",
        "\n",
        "lg_clf = LogisticRegression(max_iter=1000)\n",
        "lg_clf.fit(X_train, y_train)\n"
      ]
    },
    {
      "cell_type": "code",
      "execution_count": null,
      "metadata": {
        "colab": {
          "base_uri": "https://localhost:8080/"
        },
        "id": "oUyuqUOsjPI_",
        "outputId": "59245af1-4582-433c-a035-b1ecf83182ef"
      },
      "outputs": [
        {
          "output_type": "stream",
          "name": "stdout",
          "text": [
            "Logistic Regression scored 0.96828 on test\n",
            "Logistic Regression scored 0.9828 on train\n"
          ]
        }
      ],
      "source": [
        "print(f\"Logistic Regression scored {lg_clf.score(X_test, y_test).round(5)} on test\")\n",
        "print(f\"Logistic Regression scored {lg_clf.score(X_train, y_train).round(5)} on train\")"
      ]
    },
    {
      "cell_type": "markdown",
      "source": [
        "#### Confusion Matrix for lg_clf train"
      ],
      "metadata": {
        "id": "yGB-kSCkjPJA"
      }
    },
    {
      "cell_type": "code",
      "source": [
        "from sklearn.model_selection import cross_val_predict\n",
        "\n",
        "y_train_pred = cross_val_predict(lg_clf, X_train, y_train, cv=3)"
      ],
      "metadata": {
        "id": "xGVE5gdkjPJA"
      },
      "execution_count": null,
      "outputs": []
    },
    {
      "cell_type": "code",
      "source": [
        "from sklearn.metrics import confusion_matrix\n",
        "cm = confusion_matrix(y_train, y_train_pred)\n",
        "cm"
      ],
      "metadata": {
        "colab": {
          "base_uri": "https://localhost:8080/"
        },
        "outputId": "447e3632-c6bb-42a9-9422-a9e2932633a9",
        "id": "67wBt1vkjPJA"
      },
      "execution_count": null,
      "outputs": [
        {
          "output_type": "execute_result",
          "data": {
            "text/plain": [
              "array([[688,  10],\n",
              "       [ 17, 680]])"
            ]
          },
          "metadata": {},
          "execution_count": 212
        }
      ]
    },
    {
      "cell_type": "code",
      "source": [
        "from sklearn.metrics import precision_score, recall_score\n",
        "precision_score(y_train, y_train_pred).round(5)"
      ],
      "metadata": {
        "colab": {
          "base_uri": "https://localhost:8080/"
        },
        "outputId": "195d2159-0989-40b0-953c-8d5aac7fa892",
        "id": "mwbmycAAjPJA"
      },
      "execution_count": null,
      "outputs": [
        {
          "output_type": "execute_result",
          "data": {
            "text/plain": [
              "0.98551"
            ]
          },
          "metadata": {},
          "execution_count": 213
        }
      ]
    },
    {
      "cell_type": "code",
      "source": [
        "recall_score(y_train, y_train_pred).round(5)"
      ],
      "metadata": {
        "colab": {
          "base_uri": "https://localhost:8080/"
        },
        "outputId": "1254c9d3-c3e5-40e1-c4ce-bba78dc8ffc6",
        "id": "WK40wGdVjPJA"
      },
      "execution_count": null,
      "outputs": [
        {
          "output_type": "execute_result",
          "data": {
            "text/plain": [
              "0.97561"
            ]
          },
          "metadata": {},
          "execution_count": 214
        }
      ]
    },
    {
      "cell_type": "code",
      "source": [
        "from sklearn.metrics import f1_score\n",
        "f1_score(y_train, y_train_pred).round(5)"
      ],
      "metadata": {
        "colab": {
          "base_uri": "https://localhost:8080/"
        },
        "outputId": "8af62e3e-a6bf-4ee4-a662-04404c9f4e5a",
        "id": "BwSGN4lijPJA"
      },
      "execution_count": null,
      "outputs": [
        {
          "output_type": "execute_result",
          "data": {
            "text/plain": [
              "0.98053"
            ]
          },
          "metadata": {},
          "execution_count": 215
        }
      ]
    },
    {
      "cell_type": "code",
      "source": [
        "from sklearn.metrics import ConfusionMatrixDisplay\n",
        "ConfusionMatrixDisplay.from_predictions(y_train, y_train_pred)\n",
        "save_fig(\"matsnu_+whois_lg_train_cm\")\n",
        "plt.show"
      ],
      "metadata": {
        "colab": {
          "base_uri": "https://localhost:8080/",
          "height": 298
        },
        "id": "eP7nu8EfCNfX",
        "outputId": "8933eba2-5e78-4218-f1d9-0c714fab3124"
      },
      "execution_count": null,
      "outputs": [
        {
          "output_type": "execute_result",
          "data": {
            "text/plain": [
              "<function matplotlib.pyplot.show(*args, **kw)>"
            ]
          },
          "metadata": {},
          "execution_count": 216
        },
        {
          "output_type": "display_data",
          "data": {
            "text/plain": [
              "<Figure size 432x288 with 2 Axes>"
            ],
            "image/png": "[encoded data removed]"
          },
          "metadata": {
            "needs_background": "light"
          }
        }
      ]
    },
    {
      "cell_type": "markdown",
      "source": [
        "#### Confusion Matrix for lg_clf test"
      ],
      "metadata": {
        "id": "b0GyX45JCBDp"
      }
    },
    {
      "cell_type": "code",
      "source": [
        "from sklearn.model_selection import cross_val_predict\n",
        "\n",
        "y_test_pred = cross_val_predict(lg_clf, X_test, y_test, cv=3)"
      ],
      "metadata": {
        "id": "dd1nCGsWCBDq"
      },
      "execution_count": null,
      "outputs": []
    },
    {
      "cell_type": "code",
      "source": [
        "from sklearn.metrics import confusion_matrix\n",
        "cm = confusion_matrix(y_test, y_test_pred)\n",
        "cm"
      ],
      "metadata": {
        "colab": {
          "base_uri": "https://localhost:8080/"
        },
        "outputId": "549deaa5-309d-4e3e-b4bc-7f28a6468036",
        "id": "Mu2cxRo0CBDq"
      },
      "execution_count": null,
      "outputs": [
        {
          "output_type": "execute_result",
          "data": {
            "text/plain": [
              "array([[290,  10],\n",
              "       [ 11, 288]])"
            ]
          },
          "metadata": {},
          "execution_count": 218
        }
      ]
    },
    {
      "cell_type": "code",
      "source": [
        "from sklearn.metrics import precision_score, recall_score\n",
        "precision_score(y_test, y_test_pred).round(5)"
      ],
      "metadata": {
        "colab": {
          "base_uri": "https://localhost:8080/"
        },
        "outputId": "2aaa87fe-b50f-494f-ef1b-2e1209b0a4fa",
        "id": "qIx5yX-zCBDr"
      },
      "execution_count": null,
      "outputs": [
        {
          "output_type": "execute_result",
          "data": {
            "text/plain": [
              "0.96644"
            ]
          },
          "metadata": {},
          "execution_count": 219
        }
      ]
    },
    {
      "cell_type": "code",
      "source": [
        "recall_score(y_test, y_test_pred).round(5)"
      ],
      "metadata": {
        "colab": {
          "base_uri": "https://localhost:8080/"
        },
        "outputId": "279a0287-bdc8-4196-ad48-7bceb4ab5ff7",
        "id": "ONcneHnuCBDr"
      },
      "execution_count": null,
      "outputs": [
        {
          "output_type": "execute_result",
          "data": {
            "text/plain": [
              "0.96321"
            ]
          },
          "metadata": {},
          "execution_count": 220
        }
      ]
    },
    {
      "cell_type": "code",
      "source": [
        "from sklearn.metrics import f1_score\n",
        "f1_score(y_test, y_test_pred).round(5)"
      ],
      "metadata": {
        "colab": {
          "base_uri": "https://localhost:8080/"
        },
        "outputId": "dc797279-6cfc-40e9-fccb-3ecdf77a322e",
        "id": "VzbBtYZXCBDr"
      },
      "execution_count": null,
      "outputs": [
        {
          "output_type": "execute_result",
          "data": {
            "text/plain": [
              "0.96482"
            ]
          },
          "metadata": {},
          "execution_count": 221
        }
      ]
    },
    {
      "cell_type": "code",
      "source": [
        "from sklearn.metrics import ConfusionMatrixDisplay\n",
        "ConfusionMatrixDisplay.from_predictions(y_test, y_test_pred)\n",
        "save_fig(\"matsnu_+whois_lg_test_cm\")\n",
        "plt.show"
      ],
      "metadata": {
        "id": "hbGITCGVBj02",
        "colab": {
          "base_uri": "https://localhost:8080/"
        },
        "outputId": "15a35cab-37a2-4a33-a7e0-55f985941977"
      },
      "execution_count": null,
      "outputs": [
        {
          "output_type": "execute_result",
          "data": {
            "text/plain": [
              "<function matplotlib.pyplot.show(*args, **kw)>"
            ]
          },
          "metadata": {},
          "execution_count": 222
        },
        {
          "output_type": "display_data",
          "data": {
            "text/plain": [
              "<Figure size 432x288 with 2 Axes>"
            ],
            "image/png": "[encoded data removed]"
          },
          "metadata": {
            "needs_background": "light"
          }
        }
      ]
    },
    {
      "cell_type": "markdown",
      "metadata": {
        "id": "QZZynRycngOI"
      },
      "source": [
        "### K-Nearest Neighbours (KNN) classifier"
      ]
    },
    {
      "cell_type": "code",
      "execution_count": null,
      "metadata": {
        "colab": {
          "base_uri": "https://localhost:8080/"
        },
        "id": "wMAG1LjOngOJ",
        "outputId": "6b145495-3c92-420c-b37a-49a49a6d00bc"
      },
      "outputs": [
        {
          "output_type": "execute_result",
          "data": {
            "text/plain": [
              "KNeighborsClassifier(algorithm='brute', n_jobs=-1)"
            ]
          },
          "metadata": {},
          "execution_count": 223
        }
      ],
      "source": [
        "from sklearn.neighbors import KNeighborsClassifier\n",
        "\n",
        "knn_clf = KNeighborsClassifier(algorithm = 'brute', n_jobs=-1)\n",
        "knn_clf.fit(X_train, y_train)\n"
      ]
    },
    {
      "cell_type": "code",
      "execution_count": null,
      "metadata": {
        "colab": {
          "base_uri": "https://localhost:8080/"
        },
        "id": "xzuynLVsngOJ",
        "outputId": "dd71aca4-1897-4c85-e791-406dad03df29"
      },
      "outputs": [
        {
          "output_type": "stream",
          "name": "stdout",
          "text": [
            "K-Nearest Neighbours scored 0.96995 on test\n",
            "K-Nearest Neighbours scored 0.98351 on train\n"
          ]
        }
      ],
      "source": [
        "print(f\"K-Nearest Neighbours scored {knn_clf.score(X_test, y_test).round(5)} on test\")\n",
        "print(f\"K-Nearest Neighbours scored {knn_clf.score(X_train, y_train).round(5)} on train\")"
      ]
    },
    {
      "cell_type": "markdown",
      "source": [
        "#### Confusion Matrix for knn_clf train"
      ],
      "metadata": {
        "id": "TzOFE2irngOK"
      }
    },
    {
      "cell_type": "code",
      "source": [
        "from sklearn.model_selection import cross_val_predict\n",
        "\n",
        "y_train_pred = cross_val_predict(knn_clf, X_train, y_train, cv=3)"
      ],
      "metadata": {
        "id": "99LqES6lngOK"
      },
      "execution_count": null,
      "outputs": []
    },
    {
      "cell_type": "code",
      "source": [
        "from sklearn.metrics import confusion_matrix\n",
        "cm = confusion_matrix(y_train, y_train_pred)\n",
        "cm"
      ],
      "metadata": {
        "colab": {
          "base_uri": "https://localhost:8080/"
        },
        "outputId": "6fd3d6a1-95e9-43be-b7c0-c2e5f7dc5bec",
        "id": "u87DOHi6ngOK"
      },
      "execution_count": null,
      "outputs": [
        {
          "output_type": "execute_result",
          "data": {
            "text/plain": [
              "array([[689,   9],\n",
              "       [ 19, 678]])"
            ]
          },
          "metadata": {},
          "execution_count": 226
        }
      ]
    },
    {
      "cell_type": "code",
      "source": [
        "from sklearn.metrics import precision_score, recall_score\n",
        "precision_score(y_train, y_train_pred).round(5)"
      ],
      "metadata": {
        "colab": {
          "base_uri": "https://localhost:8080/"
        },
        "outputId": "a4cff245-2de1-409d-8003-0aded263ed49",
        "id": "6ooQcJR_ngOK"
      },
      "execution_count": null,
      "outputs": [
        {
          "output_type": "execute_result",
          "data": {
            "text/plain": [
              "0.9869"
            ]
          },
          "metadata": {},
          "execution_count": 227
        }
      ]
    },
    {
      "cell_type": "code",
      "source": [
        "recall_score(y_train, y_train_pred).round(5)"
      ],
      "metadata": {
        "colab": {
          "base_uri": "https://localhost:8080/"
        },
        "outputId": "044ec874-5db5-44c5-fc97-37911c9b6800",
        "id": "u8kSXZ-qngOL"
      },
      "execution_count": null,
      "outputs": [
        {
          "output_type": "execute_result",
          "data": {
            "text/plain": [
              "0.97274"
            ]
          },
          "metadata": {},
          "execution_count": 228
        }
      ]
    },
    {
      "cell_type": "code",
      "source": [
        "from sklearn.metrics import f1_score\n",
        "f1_score(y_train, y_train_pred).round(5)"
      ],
      "metadata": {
        "colab": {
          "base_uri": "https://localhost:8080/"
        },
        "outputId": "e8e01a66-5d14-429c-e2a6-f87292dc3a6d",
        "id": "dHJDmsuSngOL"
      },
      "execution_count": null,
      "outputs": [
        {
          "output_type": "execute_result",
          "data": {
            "text/plain": [
              "0.97977"
            ]
          },
          "metadata": {},
          "execution_count": 229
        }
      ]
    },
    {
      "cell_type": "code",
      "source": [
        "from sklearn.metrics import ConfusionMatrixDisplay\n",
        "ConfusionMatrixDisplay.from_predictions(y_train, y_train_pred)\n",
        "save_fig(\"matsnu_+whois_knn_train_cm\")\n",
        "plt.show"
      ],
      "metadata": {
        "colab": {
          "base_uri": "https://localhost:8080/"
        },
        "id": "chFI3NjjEF5_",
        "outputId": "fb58338a-34d1-4009-c361-d9420d2074a3"
      },
      "execution_count": null,
      "outputs": [
        {
          "output_type": "execute_result",
          "data": {
            "text/plain": [
              "<function matplotlib.pyplot.show(*args, **kw)>"
            ]
          },
          "metadata": {},
          "execution_count": 230
        },
        {
          "output_type": "display_data",
          "data": {
            "text/plain": [
              "<Figure size 432x288 with 2 Axes>"
            ],
            "image/png": "[encoded data removed]"
          },
          "metadata": {
            "needs_background": "light"
          }
        }
      ]
    },
    {
      "cell_type": "markdown",
      "source": [
        "#### Confusion Matrix for knn_clf test"
      ],
      "metadata": {
        "id": "0KSXsrQtMPWo"
      }
    },
    {
      "cell_type": "code",
      "source": [
        "from sklearn.model_selection import cross_val_predict\n",
        "\n",
        "y_test_pred = cross_val_predict(knn_clf, X_test, y_test, cv=3)"
      ],
      "metadata": {
        "id": "lyFiLQo9MPWo"
      },
      "execution_count": null,
      "outputs": []
    },
    {
      "cell_type": "code",
      "source": [
        "from sklearn.metrics import confusion_matrix\n",
        "cm = confusion_matrix(y_test, y_test_pred)\n",
        "cm"
      ],
      "metadata": {
        "colab": {
          "base_uri": "https://localhost:8080/"
        },
        "outputId": "dde4a1d3-f27a-483a-8a34-d23f2d30a8ce",
        "id": "VEjSpZq4MPWp"
      },
      "execution_count": null,
      "outputs": [
        {
          "output_type": "execute_result",
          "data": {
            "text/plain": [
              "array([[296,   4],\n",
              "       [ 14, 285]])"
            ]
          },
          "metadata": {},
          "execution_count": 232
        }
      ]
    },
    {
      "cell_type": "code",
      "source": [
        "from sklearn.metrics import precision_score, recall_score\n",
        "precision_score(y_test, y_test_pred).round(5)"
      ],
      "metadata": {
        "colab": {
          "base_uri": "https://localhost:8080/"
        },
        "outputId": "170a8253-6801-4f45-de27-a1a4e9a1b99a",
        "id": "63f1Y8ITMPWp"
      },
      "execution_count": null,
      "outputs": [
        {
          "output_type": "execute_result",
          "data": {
            "text/plain": [
              "0.98616"
            ]
          },
          "metadata": {},
          "execution_count": 233
        }
      ]
    },
    {
      "cell_type": "code",
      "source": [
        "recall_score(y_test, y_test_pred).round(5)"
      ],
      "metadata": {
        "colab": {
          "base_uri": "https://localhost:8080/"
        },
        "outputId": "e42c5aa9-b840-4b34-af4c-afa8df77d3f3",
        "id": "75m8xd-nMPWp"
      },
      "execution_count": null,
      "outputs": [
        {
          "output_type": "execute_result",
          "data": {
            "text/plain": [
              "0.95318"
            ]
          },
          "metadata": {},
          "execution_count": 234
        }
      ]
    },
    {
      "cell_type": "code",
      "source": [
        "from sklearn.metrics import f1_score\n",
        "f1_score(y_test, y_test_pred).round(5)"
      ],
      "metadata": {
        "colab": {
          "base_uri": "https://localhost:8080/"
        },
        "outputId": "fcdfcf40-5d0d-4e8b-d787-b398148594f2",
        "id": "Cm4Tz_DfMPWp"
      },
      "execution_count": null,
      "outputs": [
        {
          "output_type": "execute_result",
          "data": {
            "text/plain": [
              "0.96939"
            ]
          },
          "metadata": {},
          "execution_count": 235
        }
      ]
    },
    {
      "cell_type": "code",
      "source": [
        "from sklearn.metrics import ConfusionMatrixDisplay\n",
        "ConfusionMatrixDisplay.from_predictions(y_test, y_test_pred)\n",
        "save_fig(\"matsnu_+whois_knn_test_cm\")\n",
        "plt.show"
      ],
      "metadata": {
        "colab": {
          "base_uri": "https://localhost:8080/",
          "height": 298
        },
        "outputId": "30db4b33-81a3-4c12-b2f6-cf00ae8308f4",
        "id": "rsPjyW3cMPWq"
      },
      "execution_count": null,
      "outputs": [
        {
          "output_type": "execute_result",
          "data": {
            "text/plain": [
              "<function matplotlib.pyplot.show(*args, **kw)>"
            ]
          },
          "metadata": {},
          "execution_count": 236
        },
        {
          "output_type": "display_data",
          "data": {
            "text/plain": [
              "<Figure size 432x288 with 2 Axes>"
            ],
            "image/png": "[encoded data removed]"
          },
          "metadata": {
            "needs_background": "light"
          }
        }
      ]
    },
    {
      "cell_type": "markdown",
      "source": [
        "###✋Support Vector Machine (SVM) classifier"
      ],
      "metadata": {
        "id": "hynEm0T6AiSp"
      }
    },
    {
      "cell_type": "code",
      "source": [
        "# if we receive ConvergenceWarning then use:\n",
        "\n",
        "from sklearn.model_selection import train_test_split\n",
        "from sklearn.preprocessing import StandardScaler\n",
        "X_norm_svm = StandardScaler().fit_transform(X)\n",
        "\n",
        "# Generate train/test sets\n",
        "X_train_svm, X_test_svm, y_train_svm, y_test_svm = train_test_split(\n",
        "    X_norm_svm, y, test_size=0.3, random_state=42\n",
        ")\n",
        "\n",
        "# re-run above LinearSVC\n"
      ],
      "metadata": {
        "id": "b44AZ1OQZQRg"
      },
      "execution_count": null,
      "outputs": []
    },
    {
      "cell_type": "code",
      "source": [
        "from sklearn.svm import LinearSVC\n",
        "from sklearn.calibration import CalibratedClassifierCV\n",
        "\n",
        "svm_clf=LinearSVC(C=0.00001)\n",
        "svm_clf.fit(X_train_svm, y_train_svm)\n",
        "svm_clf1 = CalibratedClassifierCV(svm_clf)\n",
        "svm_clf1.fit(X_train_svm, y_train_svm)\n"
      ],
      "metadata": {
        "colab": {
          "base_uri": "https://localhost:8080/"
        },
        "id": "edV7Ond8AiSq",
        "outputId": "2c6cdc91-c805-4905-e6ac-2a6637c3871d"
      },
      "execution_count": null,
      "outputs": [
        {
          "output_type": "execute_result",
          "data": {
            "text/plain": [
              "CalibratedClassifierCV(base_estimator=LinearSVC(C=1e-05))"
            ]
          },
          "metadata": {},
          "execution_count": 238
        }
      ]
    },
    {
      "cell_type": "code",
      "source": [
        "print(f\"SVM scored {svm_clf.score(X_test_svm, y_test_svm).round(5)} on test\")\n",
        "print(f\"SVM scored {svm_clf.score(X_train_svm, y_train_svm).round(5)} on train\")"
      ],
      "metadata": {
        "colab": {
          "base_uri": "https://localhost:8080/"
        },
        "outputId": "cb7fb92c-9f18-43f5-9a21-706d5ff1b967",
        "id": "isvxkhf1AiSq"
      },
      "execution_count": null,
      "outputs": [
        {
          "output_type": "stream",
          "name": "stdout",
          "text": [
            "SVM scored 0.94992 on test\n",
            "SVM scored 0.94265 on train\n"
          ]
        }
      ]
    },
    {
      "cell_type": "markdown",
      "source": [
        "#### Confusion Matrix for svm_clf train"
      ],
      "metadata": {
        "id": "-jg4B8iyAiSq"
      }
    },
    {
      "cell_type": "code",
      "source": [
        "from sklearn.model_selection import cross_val_predict\n",
        "\n",
        "y_train_svm_pred = cross_val_predict(svm_clf, X_train_svm, y_train_svm, cv=3)"
      ],
      "metadata": {
        "id": "CmFoV21cAiSr"
      },
      "execution_count": null,
      "outputs": []
    },
    {
      "cell_type": "code",
      "source": [
        "from sklearn.metrics import confusion_matrix\n",
        "cm = confusion_matrix(y_train_svm, y_train_svm_pred)\n",
        "cm"
      ],
      "metadata": {
        "colab": {
          "base_uri": "https://localhost:8080/"
        },
        "outputId": "922c7b95-397f-4240-d8fd-3e36bb7b10c0",
        "id": "0HEvD287AiSr"
      },
      "execution_count": null,
      "outputs": [
        {
          "output_type": "execute_result",
          "data": {
            "text/plain": [
              "array([[619,  79],\n",
              "       [  1, 696]])"
            ]
          },
          "metadata": {},
          "execution_count": 241
        }
      ]
    },
    {
      "cell_type": "code",
      "source": [
        "from sklearn.metrics import precision_score, recall_score\n",
        "precision_score(y_train_svm, y_train_svm_pred).round(5)"
      ],
      "metadata": {
        "colab": {
          "base_uri": "https://localhost:8080/"
        },
        "outputId": "6d9cf30c-b9c3-493d-f7a5-9cc090b82e62",
        "id": "y_x_6k1eAiSr"
      },
      "execution_count": null,
      "outputs": [
        {
          "output_type": "execute_result",
          "data": {
            "text/plain": [
              "0.89806"
            ]
          },
          "metadata": {},
          "execution_count": 242
        }
      ]
    },
    {
      "cell_type": "code",
      "source": [
        "recall_score(y_train_svm, y_train_svm_pred).round(5)"
      ],
      "metadata": {
        "colab": {
          "base_uri": "https://localhost:8080/"
        },
        "outputId": "d4b7dea8-6ceb-4936-aa8b-b2e97562f11d",
        "id": "1JFadQMYAiSr"
      },
      "execution_count": null,
      "outputs": [
        {
          "output_type": "execute_result",
          "data": {
            "text/plain": [
              "0.99857"
            ]
          },
          "metadata": {},
          "execution_count": 243
        }
      ]
    },
    {
      "cell_type": "code",
      "source": [
        "from sklearn.metrics import f1_score\n",
        "f1_score(y_train_svm, y_train_svm_pred).round(5)"
      ],
      "metadata": {
        "colab": {
          "base_uri": "https://localhost:8080/"
        },
        "outputId": "a22605ce-1ab0-48b2-868e-ccbde71c8acf",
        "id": "ooDT7v13AiSs"
      },
      "execution_count": null,
      "outputs": [
        {
          "output_type": "execute_result",
          "data": {
            "text/plain": [
              "0.94565"
            ]
          },
          "metadata": {},
          "execution_count": 244
        }
      ]
    },
    {
      "cell_type": "code",
      "source": [
        "from sklearn.metrics import ConfusionMatrixDisplay\n",
        "ConfusionMatrixDisplay.from_predictions(y_train_svm, y_train_svm_pred)\n",
        "save_fig(\"matsnu_+whois_svm_train_cm\")\n",
        "plt.show"
      ],
      "metadata": {
        "colab": {
          "base_uri": "https://localhost:8080/"
        },
        "id": "1jilC9IwEoQg",
        "outputId": "e4d52c06-ca8d-4a0a-df74-958f148cabd1"
      },
      "execution_count": null,
      "outputs": [
        {
          "output_type": "execute_result",
          "data": {
            "text/plain": [
              "<function matplotlib.pyplot.show(*args, **kw)>"
            ]
          },
          "metadata": {},
          "execution_count": 245
        },
        {
          "output_type": "display_data",
          "data": {
            "text/plain": [
              "<Figure size 432x288 with 2 Axes>"
            ],
            "image/png": "[encoded data removed]"
          },
          "metadata": {
            "needs_background": "light"
          }
        }
      ]
    },
    {
      "cell_type": "markdown",
      "source": [
        "#### Confusion Matrix for svm_clf test"
      ],
      "metadata": {
        "id": "Hf9Ij1B-E73O"
      }
    },
    {
      "cell_type": "code",
      "source": [
        "from sklearn.model_selection import cross_val_predict\n",
        "\n",
        "y_test_svm_pred = cross_val_predict(svm_clf, X_test_svm, y_test_svm, cv=3)"
      ],
      "metadata": {
        "id": "dVwdRcIME73P"
      },
      "execution_count": null,
      "outputs": []
    },
    {
      "cell_type": "code",
      "source": [
        "from sklearn.metrics import confusion_matrix\n",
        "cm = confusion_matrix(y_test_svm, y_test_svm_pred)\n",
        "cm"
      ],
      "metadata": {
        "colab": {
          "base_uri": "https://localhost:8080/"
        },
        "outputId": "01b07189-d9be-4071-f2fc-6308cb03bf98",
        "id": "AfwHL_BHE73P"
      },
      "execution_count": null,
      "outputs": [
        {
          "output_type": "execute_result",
          "data": {
            "text/plain": [
              "array([[271,  29],\n",
              "       [  1, 298]])"
            ]
          },
          "metadata": {},
          "execution_count": 247
        }
      ]
    },
    {
      "cell_type": "code",
      "source": [
        "from sklearn.metrics import precision_score, recall_score\n",
        "precision_score(y_test_svm, y_test_svm_pred).round(5)"
      ],
      "metadata": {
        "colab": {
          "base_uri": "https://localhost:8080/"
        },
        "outputId": "f9f499f6-92b2-479e-c71f-6a6f1fc26b60",
        "id": "XMk47kGEE73P"
      },
      "execution_count": null,
      "outputs": [
        {
          "output_type": "execute_result",
          "data": {
            "text/plain": [
              "0.91131"
            ]
          },
          "metadata": {},
          "execution_count": 248
        }
      ]
    },
    {
      "cell_type": "code",
      "source": [
        "recall_score(y_test_svm, y_test_svm_pred).round(5)"
      ],
      "metadata": {
        "colab": {
          "base_uri": "https://localhost:8080/"
        },
        "outputId": "0f540462-22af-42aa-d4a0-68571f9661e2",
        "id": "av971hsWE73P"
      },
      "execution_count": null,
      "outputs": [
        {
          "output_type": "execute_result",
          "data": {
            "text/plain": [
              "0.99666"
            ]
          },
          "metadata": {},
          "execution_count": 249
        }
      ]
    },
    {
      "cell_type": "code",
      "source": [
        "from sklearn.metrics import f1_score\n",
        "f1_score(y_test_svm, y_test_svm_pred).round(5)"
      ],
      "metadata": {
        "colab": {
          "base_uri": "https://localhost:8080/"
        },
        "outputId": "e706defa-6323-44d4-8a13-a77336ba1afa",
        "id": "yM0VJ7koE73P"
      },
      "execution_count": null,
      "outputs": [
        {
          "output_type": "execute_result",
          "data": {
            "text/plain": [
              "0.95208"
            ]
          },
          "metadata": {},
          "execution_count": 250
        }
      ]
    },
    {
      "cell_type": "code",
      "source": [
        "from sklearn.metrics import ConfusionMatrixDisplay\n",
        "ConfusionMatrixDisplay.from_predictions(y_test_svm, y_test_svm_pred)\n",
        "save_fig(\"matsnu_+whois_svm_test_cm\")\n",
        "plt.show"
      ],
      "metadata": {
        "id": "ByDBle9NE1_r",
        "colab": {
          "base_uri": "https://localhost:8080/"
        },
        "outputId": "2339cf59-1988-46fa-b6b0-746df145ff19"
      },
      "execution_count": null,
      "outputs": [
        {
          "output_type": "execute_result",
          "data": {
            "text/plain": [
              "<function matplotlib.pyplot.show(*args, **kw)>"
            ]
          },
          "metadata": {},
          "execution_count": 251
        },
        {
          "output_type": "display_data",
          "data": {
            "text/plain": [
              "<Figure size 432x288 with 2 Axes>"
            ],
            "image/png": "[encoded data removed]"
          },
          "metadata": {
            "needs_background": "light"
          }
        }
      ]
    },
    {
      "cell_type": "markdown",
      "metadata": {
        "id": "tERwVzByBxmR"
      },
      "source": [
        "### ✅Decision Tree (DT) classifier"
      ]
    },
    {
      "cell_type": "code",
      "execution_count": null,
      "metadata": {
        "id": "8C0xWQD6BxmR"
      },
      "outputs": [],
      "source": [
        "from sklearn.tree import DecisionTreeClassifier\n",
        "from sklearn.model_selection import GridSearchCV\n",
        "from pprint import pprint\n",
        "dt_clf = DecisionTreeClassifier()\n"
      ]
    },
    {
      "cell_type": "code",
      "execution_count": null,
      "metadata": {
        "colab": {
          "base_uri": "https://localhost:8080/"
        },
        "id": "y3qeIgKLv3Vv",
        "outputId": "7eeb84a2-32ed-4a33-8180-011ea756e525"
      },
      "outputs": [
        {
          "output_type": "stream",
          "name": "stdout",
          "text": [
            "Parameters currently in use:\n",
            "\n",
            "{'ccp_alpha': 0.0,\n",
            " 'class_weight': None,\n",
            " 'criterion': 'gini',\n",
            " 'max_depth': None,\n",
            " 'max_features': None,\n",
            " 'max_leaf_nodes': None,\n",
            " 'min_impurity_decrease': 0.0,\n",
            " 'min_samples_leaf': 1,\n",
            " 'min_samples_split': 2,\n",
            " 'min_weight_fraction_leaf': 0.0,\n",
            " 'random_state': None,\n",
            " 'splitter': 'best'}\n"
          ]
        }
      ],
      "source": [
        "print('Parameters currently in use:\\n')\n",
        "pprint(dt_clf.get_params())"
      ]
    },
    {
      "cell_type": "code",
      "execution_count": null,
      "metadata": {
        "id": "ZKvZpxjuwEjb"
      },
      "outputs": [],
      "source": [
        "param_grid = {'max_depth': [1, 2, 3, 4, 5,6,7,8,9,10,15,20],\n",
        "              'max_features': [1, 2, 3, 4,5,6,7,8,9,10],\n",
        "              'random_state':[0, 1, 2, 3, 4, 5, 10, 15,20,35,50,80,100,150,180,200],\n",
        "              'criterion':['gini','entropy'],\n",
        "              }"
      ]
    },
    {
      "cell_type": "code",
      "execution_count": null,
      "metadata": {
        "id": "GXV0-ANhwtAE"
      },
      "outputs": [],
      "source": [
        "#GSCV_dt_clf = GridSearchCV(dt_clf, param_grid=param_grid, cv=10)\n",
        "#GSCV_dt_clf.fit(X_train, y_train)"
      ]
    },
    {
      "cell_type": "code",
      "execution_count": null,
      "metadata": {
        "id": "bt3RZ_5Hw6D6"
      },
      "outputs": [],
      "source": [
        "#GSCV_dt_clf.best_params_"
      ]
    },
    {
      "cell_type": "code",
      "execution_count": null,
      "metadata": {
        "id": "lQ59u8R1xSpk"
      },
      "outputs": [],
      "source": [
        "dt_clf1 = DecisionTreeClassifier(criterion='entropy', max_depth=5, max_features=3, random_state=100)"
      ]
    },
    {
      "cell_type": "code",
      "execution_count": null,
      "metadata": {
        "colab": {
          "base_uri": "https://localhost:8080/"
        },
        "id": "ItO1YyIpxY2V",
        "outputId": "4b8c84c1-9ccf-4d0c-8b17-bf0766130e3c"
      },
      "outputs": [
        {
          "output_type": "execute_result",
          "data": {
            "text/plain": [
              "DecisionTreeClassifier(criterion='entropy', max_depth=5, max_features=3,\n",
              "                       random_state=100)"
            ]
          },
          "metadata": {},
          "execution_count": 258
        }
      ],
      "source": [
        "dt_clf1.fit(X_train, y_train)"
      ]
    },
    {
      "cell_type": "code",
      "execution_count": null,
      "metadata": {
        "colab": {
          "base_uri": "https://localhost:8080/"
        },
        "id": "zGBvw3RXBxmS",
        "outputId": "b4edd981-3461-4ef4-b29c-07e9f2f9ac96"
      },
      "outputs": [
        {
          "output_type": "stream",
          "name": "stdout",
          "text": [
            "Decision Tree scored 0.96661 on test\n",
            "Decision Tree scored 0.98638 on train\n"
          ]
        }
      ],
      "source": [
        "print(f\"Decision Tree scored {dt_clf1.score(X_test, y_test).round(5)} on test\")\n",
        "print(f\"Decision Tree scored {dt_clf1.score(X_train, y_train).round(5)} on train\")"
      ]
    },
    {
      "cell_type": "markdown",
      "source": [
        "#### Confusion Matrix for dt_clf1 train"
      ],
      "metadata": {
        "id": "jq0NFEP2BxmS"
      }
    },
    {
      "cell_type": "code",
      "source": [
        "from sklearn.model_selection import cross_val_predict\n",
        "\n",
        "y_train_pred = cross_val_predict(dt_clf1, X_train, y_train, cv=3)"
      ],
      "metadata": {
        "id": "QQDteKXRBxmT"
      },
      "execution_count": null,
      "outputs": []
    },
    {
      "cell_type": "code",
      "source": [
        "from sklearn.metrics import confusion_matrix\n",
        "cm = confusion_matrix(y_train, y_train_pred)\n",
        "cm"
      ],
      "metadata": {
        "colab": {
          "base_uri": "https://localhost:8080/"
        },
        "outputId": "550c057c-ae57-4bf7-800d-1b959f422f06",
        "id": "INX01YOyBxmT"
      },
      "execution_count": null,
      "outputs": [
        {
          "output_type": "execute_result",
          "data": {
            "text/plain": [
              "array([[696,   2],\n",
              "       [ 21, 676]])"
            ]
          },
          "metadata": {},
          "execution_count": 261
        }
      ]
    },
    {
      "cell_type": "code",
      "source": [
        "from sklearn.metrics import precision_score, recall_score\n",
        "precision_score(y_train, y_train_pred).round(5)"
      ],
      "metadata": {
        "colab": {
          "base_uri": "https://localhost:8080/"
        },
        "outputId": "5576aee4-c779-45c4-966f-fb84ab19e34b",
        "id": "Jf-4HRjnBxmT"
      },
      "execution_count": null,
      "outputs": [
        {
          "output_type": "execute_result",
          "data": {
            "text/plain": [
              "0.99705"
            ]
          },
          "metadata": {},
          "execution_count": 262
        }
      ]
    },
    {
      "cell_type": "code",
      "source": [
        "recall_score(y_train, y_train_pred).round(5)"
      ],
      "metadata": {
        "colab": {
          "base_uri": "https://localhost:8080/"
        },
        "outputId": "a1564451-9ed4-4cad-d439-7774d2017942",
        "id": "m_jNW-puBxmU"
      },
      "execution_count": null,
      "outputs": [
        {
          "output_type": "execute_result",
          "data": {
            "text/plain": [
              "0.96987"
            ]
          },
          "metadata": {},
          "execution_count": 263
        }
      ]
    },
    {
      "cell_type": "code",
      "source": [
        "from sklearn.metrics import f1_score\n",
        "f1_score(y_train, y_train_pred).round(5)"
      ],
      "metadata": {
        "colab": {
          "base_uri": "https://localhost:8080/"
        },
        "outputId": "d5124f46-9569-4977-cc1c-fcd54741ab6d",
        "id": "b5WCRkjYBxmU"
      },
      "execution_count": null,
      "outputs": [
        {
          "output_type": "execute_result",
          "data": {
            "text/plain": [
              "0.98327"
            ]
          },
          "metadata": {},
          "execution_count": 264
        }
      ]
    },
    {
      "cell_type": "code",
      "source": [
        "from sklearn.metrics import ConfusionMatrixDisplay\n",
        "ConfusionMatrixDisplay.from_predictions(y_train, y_train_pred)\n",
        "save_fig(\"matsnu_+whois_dt_train_cm\")\n",
        "plt.show"
      ],
      "metadata": {
        "colab": {
          "base_uri": "https://localhost:8080/"
        },
        "id": "58D6flxjFcLl",
        "outputId": "b9ac8cbf-7eff-44c5-e3f6-6efe54be04b4"
      },
      "execution_count": null,
      "outputs": [
        {
          "output_type": "execute_result",
          "data": {
            "text/plain": [
              "<function matplotlib.pyplot.show(*args, **kw)>"
            ]
          },
          "metadata": {},
          "execution_count": 265
        },
        {
          "output_type": "display_data",
          "data": {
            "text/plain": [
              "<Figure size 432x288 with 2 Axes>"
            ],
            "image/png": "[encoded data removed]"
          },
          "metadata": {
            "needs_background": "light"
          }
        }
      ]
    },
    {
      "cell_type": "markdown",
      "source": [
        "#### Confusion Matrix for dt_clf1 test"
      ],
      "metadata": {
        "id": "yhD6wJhiGTTf"
      }
    },
    {
      "cell_type": "code",
      "source": [
        "from sklearn.model_selection import cross_val_predict\n",
        "\n",
        "y_test_pred = cross_val_predict(dt_clf1, X_test, y_test, cv=3)"
      ],
      "metadata": {
        "id": "hkr3RulXGTTf"
      },
      "execution_count": null,
      "outputs": []
    },
    {
      "cell_type": "code",
      "source": [
        "from sklearn.metrics import confusion_matrix\n",
        "cm = confusion_matrix(y_test, y_test_pred)\n",
        "cm"
      ],
      "metadata": {
        "colab": {
          "base_uri": "https://localhost:8080/"
        },
        "outputId": "b06397a7-e493-4cfb-fac1-29b7ebb5abb9",
        "id": "hZZlOk1pGTTg"
      },
      "execution_count": null,
      "outputs": [
        {
          "output_type": "execute_result",
          "data": {
            "text/plain": [
              "array([[294,   6],\n",
              "       [  8, 291]])"
            ]
          },
          "metadata": {},
          "execution_count": 267
        }
      ]
    },
    {
      "cell_type": "code",
      "source": [
        "from sklearn.metrics import precision_score, recall_score\n",
        "precision_score(y_test, y_test_pred).round(5)"
      ],
      "metadata": {
        "colab": {
          "base_uri": "https://localhost:8080/"
        },
        "outputId": "1e83c395-38d6-4ab2-fba2-32a8f710e323",
        "id": "NiSSjrplGTTg"
      },
      "execution_count": null,
      "outputs": [
        {
          "output_type": "execute_result",
          "data": {
            "text/plain": [
              "0.9798"
            ]
          },
          "metadata": {},
          "execution_count": 268
        }
      ]
    },
    {
      "cell_type": "code",
      "source": [
        "recall_score(y_test, y_test_pred).round(5)"
      ],
      "metadata": {
        "colab": {
          "base_uri": "https://localhost:8080/"
        },
        "outputId": "5a6cb2b3-295c-4ef6-aa4e-fb76594f7994",
        "id": "F6q-alaqGTTg"
      },
      "execution_count": null,
      "outputs": [
        {
          "output_type": "execute_result",
          "data": {
            "text/plain": [
              "0.97324"
            ]
          },
          "metadata": {},
          "execution_count": 269
        }
      ]
    },
    {
      "cell_type": "code",
      "source": [
        "from sklearn.metrics import f1_score\n",
        "f1_score(y_test, y_test_pred).round(5)"
      ],
      "metadata": {
        "colab": {
          "base_uri": "https://localhost:8080/"
        },
        "outputId": "f8d16469-dee4-4d35-f4b6-f6a8c66d86cc",
        "id": "cj94fifOGTTg"
      },
      "execution_count": null,
      "outputs": [
        {
          "output_type": "execute_result",
          "data": {
            "text/plain": [
              "0.97651"
            ]
          },
          "metadata": {},
          "execution_count": 270
        }
      ]
    },
    {
      "cell_type": "code",
      "source": [
        "from sklearn.metrics import ConfusionMatrixDisplay\n",
        "ConfusionMatrixDisplay.from_predictions(y_test, y_test_pred)\n",
        "save_fig(\"matsnu_+whois_dt_test_cm\")\n",
        "plt.show"
      ],
      "metadata": {
        "id": "wNqYEPtlGBcH",
        "colab": {
          "base_uri": "https://localhost:8080/"
        },
        "outputId": "541c6bce-ee3f-4467-8817-79b3f4f02cb7"
      },
      "execution_count": null,
      "outputs": [
        {
          "output_type": "execute_result",
          "data": {
            "text/plain": [
              "<function matplotlib.pyplot.show(*args, **kw)>"
            ]
          },
          "metadata": {},
          "execution_count": 271
        },
        {
          "output_type": "display_data",
          "data": {
            "text/plain": [
              "<Figure size 432x288 with 2 Axes>"
            ],
            "image/png": "[encoded data removed]"
          },
          "metadata": {
            "needs_background": "light"
          }
        }
      ]
    },
    {
      "cell_type": "markdown",
      "metadata": {
        "id": "A27x2z00Ndy_"
      },
      "source": [
        "### Bagging Decision Tree (BG) classifier (ensemble)"
      ]
    },
    {
      "cell_type": "code",
      "execution_count": null,
      "metadata": {
        "colab": {
          "base_uri": "https://localhost:8080/"
        },
        "id": "-irCB0E7NdzA",
        "outputId": "6ccaf1aa-9e7e-4d4d-cc25-8a0dcd2519c1"
      },
      "outputs": [
        {
          "output_type": "execute_result",
          "data": {
            "text/plain": [
              "BaggingClassifier(base_estimator=DecisionTreeClassifier(), max_samples=0.5)"
            ]
          },
          "metadata": {},
          "execution_count": 272
        }
      ],
      "source": [
        "from sklearn.ensemble import BaggingClassifier\n",
        "from sklearn.tree import DecisionTreeClassifier\n",
        "# max_samples: maximum size 0.5=50% of each sample taken from the full dataset\n",
        "# max_features: maximum of features 1=100% taken here all 10K \n",
        "# n_estimators: number of decision trees \n",
        "bg_clf=BaggingClassifier(DecisionTreeClassifier(),max_samples=0.5,max_features=1.0,n_estimators=10)\n",
        "bg_clf.fit(X_train, y_train)\n"
      ]
    },
    {
      "cell_type": "code",
      "execution_count": null,
      "metadata": {
        "colab": {
          "base_uri": "https://localhost:8080/"
        },
        "id": "h8vRAPloNdzA",
        "outputId": "ed3e94e5-279b-44ed-8cdc-f5fadd31cabb"
      },
      "outputs": [
        {
          "output_type": "stream",
          "name": "stdout",
          "text": [
            "Bagging Decision Tree scored 0.97663 on test\n",
            "Bagging Decision Tree scored 0.99283 on train\n"
          ]
        }
      ],
      "source": [
        "print(f\"Bagging Decision Tree scored {bg_clf.score(X_test, y_test).round(5)} on test\")\n",
        "print(f\"Bagging Decision Tree scored {bg_clf.score(X_train, y_train).round(5)} on train\")"
      ]
    },
    {
      "cell_type": "markdown",
      "source": [
        "#### Confusion Matrix for bg_clf train"
      ],
      "metadata": {
        "id": "fWDoVNX4NdzB"
      }
    },
    {
      "cell_type": "code",
      "source": [
        "from sklearn.model_selection import cross_val_predict\n",
        "\n",
        "y_train_pred = cross_val_predict(bg_clf, X_train, y_train, cv=3)"
      ],
      "metadata": {
        "id": "xxUDEUScNdzB"
      },
      "execution_count": null,
      "outputs": []
    },
    {
      "cell_type": "code",
      "source": [
        "from sklearn.metrics import confusion_matrix\n",
        "cm = confusion_matrix(y_train, y_train_pred)\n",
        "cm"
      ],
      "metadata": {
        "colab": {
          "base_uri": "https://localhost:8080/"
        },
        "outputId": "8b599dac-2153-4c23-8dd2-e76d5b9db158",
        "id": "50NpffJ_NdzB"
      },
      "execution_count": null,
      "outputs": [
        {
          "output_type": "execute_result",
          "data": {
            "text/plain": [
              "array([[692,   6],\n",
              "       [ 18, 679]])"
            ]
          },
          "metadata": {},
          "execution_count": 275
        }
      ]
    },
    {
      "cell_type": "code",
      "source": [
        "from sklearn.metrics import precision_score, recall_score\n",
        "precision_score(y_train, y_train_pred).round(5)"
      ],
      "metadata": {
        "colab": {
          "base_uri": "https://localhost:8080/"
        },
        "outputId": "331afcba-975b-4faa-89bf-731e322db93c",
        "id": "_Xl_bzYzNdzC"
      },
      "execution_count": null,
      "outputs": [
        {
          "output_type": "execute_result",
          "data": {
            "text/plain": [
              "0.99124"
            ]
          },
          "metadata": {},
          "execution_count": 276
        }
      ]
    },
    {
      "cell_type": "code",
      "source": [
        "recall_score(y_train, y_train_pred).round(5)"
      ],
      "metadata": {
        "colab": {
          "base_uri": "https://localhost:8080/"
        },
        "outputId": "5fec6dfc-53f5-40c6-b146-73b7d6b73514",
        "id": "i_MsVFtbNdzC"
      },
      "execution_count": null,
      "outputs": [
        {
          "output_type": "execute_result",
          "data": {
            "text/plain": [
              "0.97418"
            ]
          },
          "metadata": {},
          "execution_count": 277
        }
      ]
    },
    {
      "cell_type": "code",
      "source": [
        "from sklearn.metrics import f1_score\n",
        "f1_score(y_train, y_train_pred).round(5)"
      ],
      "metadata": {
        "colab": {
          "base_uri": "https://localhost:8080/"
        },
        "outputId": "44025802-87ef-4f57-c491-476c0b8a98d8",
        "id": "WIFr9DJmNdzD"
      },
      "execution_count": null,
      "outputs": [
        {
          "output_type": "execute_result",
          "data": {
            "text/plain": [
              "0.98263"
            ]
          },
          "metadata": {},
          "execution_count": 278
        }
      ]
    },
    {
      "cell_type": "code",
      "source": [
        "from sklearn.metrics import ConfusionMatrixDisplay\n",
        "ConfusionMatrixDisplay.from_predictions(y_train, y_train_pred)\n",
        "save_fig(\"matsnu_+whois_bg_train_cm\")\n",
        "plt.show"
      ],
      "metadata": {
        "colab": {
          "base_uri": "https://localhost:8080/"
        },
        "id": "EpWg5xeeG36j",
        "outputId": "70638190-82fd-4ab9-9772-16891ae1f6bb"
      },
      "execution_count": null,
      "outputs": [
        {
          "output_type": "execute_result",
          "data": {
            "text/plain": [
              "<function matplotlib.pyplot.show(*args, **kw)>"
            ]
          },
          "metadata": {},
          "execution_count": 279
        },
        {
          "output_type": "display_data",
          "data": {
            "text/plain": [
              "<Figure size 432x288 with 2 Axes>"
            ],
            "image/png": "[encoded data removed]"
          },
          "metadata": {
            "needs_background": "light"
          }
        }
      ]
    },
    {
      "cell_type": "markdown",
      "source": [
        "#### Confusion Matrix for bg_clf test"
      ],
      "metadata": {
        "id": "KptbNLORHZQO"
      }
    },
    {
      "cell_type": "code",
      "source": [
        "from sklearn.model_selection import cross_val_predict\n",
        "\n",
        "y_test_pred = cross_val_predict(bg_clf, X_test, y_test, cv=3)"
      ],
      "metadata": {
        "id": "4HuEM7jTHZQO"
      },
      "execution_count": null,
      "outputs": []
    },
    {
      "cell_type": "code",
      "source": [
        "from sklearn.metrics import confusion_matrix\n",
        "cm = confusion_matrix(y_test, y_test_pred)\n",
        "cm"
      ],
      "metadata": {
        "colab": {
          "base_uri": "https://localhost:8080/"
        },
        "outputId": "76003947-47fe-4b6d-eca8-4d59fe7e7be3",
        "id": "bOBtSmc9HZQO"
      },
      "execution_count": null,
      "outputs": [
        {
          "output_type": "execute_result",
          "data": {
            "text/plain": [
              "array([[297,   3],\n",
              "       [  9, 290]])"
            ]
          },
          "metadata": {},
          "execution_count": 281
        }
      ]
    },
    {
      "cell_type": "code",
      "source": [
        "from sklearn.metrics import precision_score, recall_score\n",
        "precision_score(y_test, y_test_pred).round(5)"
      ],
      "metadata": {
        "colab": {
          "base_uri": "https://localhost:8080/"
        },
        "outputId": "10810067-8bb5-4d9e-8a92-a34bb50671de",
        "id": "9dsbNcl7HZQP"
      },
      "execution_count": null,
      "outputs": [
        {
          "output_type": "execute_result",
          "data": {
            "text/plain": [
              "0.98976"
            ]
          },
          "metadata": {},
          "execution_count": 282
        }
      ]
    },
    {
      "cell_type": "code",
      "source": [
        "recall_score(y_test, y_test_pred).round(5)"
      ],
      "metadata": {
        "colab": {
          "base_uri": "https://localhost:8080/"
        },
        "outputId": "6903daf0-18dc-4259-a072-fc2d21ed29bd",
        "id": "rF1Ha89VHZQP"
      },
      "execution_count": null,
      "outputs": [
        {
          "output_type": "execute_result",
          "data": {
            "text/plain": [
              "0.9699"
            ]
          },
          "metadata": {},
          "execution_count": 283
        }
      ]
    },
    {
      "cell_type": "code",
      "source": [
        "from sklearn.metrics import f1_score\n",
        "f1_score(y_test, y_test_pred).round(5)"
      ],
      "metadata": {
        "colab": {
          "base_uri": "https://localhost:8080/"
        },
        "outputId": "c07a33fb-8af5-4239-ff49-6c0584f342ff",
        "id": "iLJzK_JSHZQP"
      },
      "execution_count": null,
      "outputs": [
        {
          "output_type": "execute_result",
          "data": {
            "text/plain": [
              "0.97973"
            ]
          },
          "metadata": {},
          "execution_count": 284
        }
      ]
    },
    {
      "cell_type": "code",
      "source": [
        "from sklearn.metrics import ConfusionMatrixDisplay\n",
        "ConfusionMatrixDisplay.from_predictions(y_test, y_test_pred)\n",
        "save_fig(\"matsnu_+whois_bg_test_cm\")\n",
        "plt.show"
      ],
      "metadata": {
        "id": "tSrjlpUpF3Fv",
        "colab": {
          "base_uri": "https://localhost:8080/"
        },
        "outputId": "bad3de31-6c20-434b-c507-b2cf5a9dfc8b"
      },
      "execution_count": null,
      "outputs": [
        {
          "output_type": "execute_result",
          "data": {
            "text/plain": [
              "<function matplotlib.pyplot.show(*args, **kw)>"
            ]
          },
          "metadata": {},
          "execution_count": 285
        },
        {
          "output_type": "display_data",
          "data": {
            "text/plain": [
              "<Figure size 432x288 with 2 Axes>"
            ],
            "image/png": "[encoded data removed]"
          },
          "metadata": {
            "needs_background": "light"
          }
        }
      ]
    },
    {
      "cell_type": "markdown",
      "metadata": {
        "id": "-aPg2aXxOzXe"
      },
      "source": [
        "### ✅Boosting Decision Tree (ADB) classifier (ensemble)"
      ]
    },
    {
      "cell_type": "code",
      "execution_count": null,
      "metadata": {
        "id": "LjqC-fyebGRZ"
      },
      "outputs": [],
      "source": [
        "from sklearn.ensemble import AdaBoostClassifier\n",
        "from sklearn.tree import DecisionTreeClassifier\n",
        "from sklearn.model_selection import GridSearchCV\n",
        "from pprint import pprint"
      ]
    },
    {
      "cell_type": "code",
      "execution_count": null,
      "metadata": {
        "id": "gXyAniVubNF3"
      },
      "outputs": [],
      "source": [
        "adb_clf = AdaBoostClassifier(DecisionTreeClassifier())"
      ]
    },
    {
      "cell_type": "code",
      "execution_count": null,
      "metadata": {
        "colab": {
          "base_uri": "https://localhost:8080/"
        },
        "id": "tPPSpowHbfqR",
        "outputId": "16fd763d-c8ed-4dc7-d26a-a7543f7de068"
      },
      "outputs": [
        {
          "output_type": "stream",
          "name": "stdout",
          "text": [
            "Parameters currently in use:\n",
            "\n",
            "{'algorithm': 'SAMME.R',\n",
            " 'base_estimator': DecisionTreeClassifier(),\n",
            " 'base_estimator__ccp_alpha': 0.0,\n",
            " 'base_estimator__class_weight': None,\n",
            " 'base_estimator__criterion': 'gini',\n",
            " 'base_estimator__max_depth': None,\n",
            " 'base_estimator__max_features': None,\n",
            " 'base_estimator__max_leaf_nodes': None,\n",
            " 'base_estimator__min_impurity_decrease': 0.0,\n",
            " 'base_estimator__min_samples_leaf': 1,\n",
            " 'base_estimator__min_samples_split': 2,\n",
            " 'base_estimator__min_weight_fraction_leaf': 0.0,\n",
            " 'base_estimator__random_state': None,\n",
            " 'base_estimator__splitter': 'best',\n",
            " 'learning_rate': 1.0,\n",
            " 'n_estimators': 50,\n",
            " 'random_state': None}\n"
          ]
        }
      ],
      "source": [
        "print('Parameters currently in use:\\n')\n",
        "pprint(adb_clf.get_params())"
      ]
    },
    {
      "cell_type": "code",
      "execution_count": null,
      "metadata": {
        "id": "YOZnh1b9brs3"
      },
      "outputs": [],
      "source": [
        "param_grid = {'base_estimator__max_depth':[i for i in range(2,11,2)],\n",
        "              'base_estimator__min_samples_leaf':[5,10],\n",
        "              'n_estimators':[10,50,250,1000],\n",
        "              'learning_rate':[0.01,0.1]\n",
        "              }"
      ]
    },
    {
      "cell_type": "code",
      "execution_count": null,
      "metadata": {
        "id": "d0uj_YcPb9ig"
      },
      "outputs": [],
      "source": [
        "#GSCV_adb_clf = GridSearchCV(adb_clf, param_grid=param_grid, scoring='f1', n_jobs=-1)\n",
        "#GSCV_adb_clf.fit(X_train, y_train)"
      ]
    },
    {
      "cell_type": "code",
      "execution_count": null,
      "metadata": {
        "id": "RjYt-ffbtRIx"
      },
      "outputs": [],
      "source": [
        "#GSCV_adb_clf.best_params_"
      ]
    },
    {
      "cell_type": "code",
      "execution_count": null,
      "metadata": {
        "id": "9T4kVLEqtQ-0"
      },
      "outputs": [],
      "source": [
        "adb_clf1 = AdaBoostClassifier(DecisionTreeClassifier(min_samples_leaf=5,max_depth=6),n_estimators=50,learning_rate=0.01)"
      ]
    },
    {
      "cell_type": "code",
      "execution_count": null,
      "metadata": {
        "colab": {
          "base_uri": "https://localhost:8080/"
        },
        "id": "k9TgF7yjtQ2G",
        "outputId": "1bef871e-cd5d-457c-ca0b-58e871e7c98f"
      },
      "outputs": [
        {
          "output_type": "execute_result",
          "data": {
            "text/plain": [
              "AdaBoostClassifier(base_estimator=DecisionTreeClassifier(max_depth=6,\n",
              "                                                         min_samples_leaf=5),\n",
              "                   learning_rate=0.01)"
            ]
          },
          "metadata": {},
          "execution_count": 293
        }
      ],
      "source": [
        "adb_clf1.fit(X_train, y_train)"
      ]
    },
    {
      "cell_type": "code",
      "execution_count": null,
      "metadata": {
        "colab": {
          "base_uri": "https://localhost:8080/"
        },
        "id": "Rhs-nwxU2WG4",
        "outputId": "c62522e1-9b64-44b0-f52c-aab6f69fa1f3"
      },
      "outputs": [
        {
          "output_type": "stream",
          "name": "stdout",
          "text": [
            "AdaBoost Classifier scored 0.97663 on test\n",
            "AdaBoost Classifier scored 1.0 on train\n"
          ]
        }
      ],
      "source": [
        "print(f\"AdaBoost Classifier scored {adb_clf1.score(X_test, y_test).round(5)} on test\")\n",
        "print(f\"AdaBoost Classifier scored {adb_clf1.score(X_train, y_train).round(5)} on train\")"
      ]
    },
    {
      "cell_type": "markdown",
      "source": [
        "#### Confusion Matrix for adb_clf train"
      ],
      "metadata": {
        "id": "KxQI4QE-OzXf"
      }
    },
    {
      "cell_type": "code",
      "source": [
        "from sklearn.model_selection import cross_val_predict\n",
        "\n",
        "y_train_pred = cross_val_predict(adb_clf1, X_train, y_train, cv=3)"
      ],
      "metadata": {
        "id": "pwG2uuJSOzXf"
      },
      "execution_count": null,
      "outputs": []
    },
    {
      "cell_type": "code",
      "source": [
        "from sklearn.metrics import confusion_matrix\n",
        "cm = confusion_matrix(y_train, y_train_pred)\n",
        "cm"
      ],
      "metadata": {
        "colab": {
          "base_uri": "https://localhost:8080/"
        },
        "outputId": "1e80711c-5719-4931-e7fa-b4115e2e82ca",
        "id": "q4onkjRxOzXf"
      },
      "execution_count": null,
      "outputs": [
        {
          "output_type": "execute_result",
          "data": {
            "text/plain": [
              "array([[690,   8],\n",
              "       [ 14, 683]])"
            ]
          },
          "metadata": {},
          "execution_count": 296
        }
      ]
    },
    {
      "cell_type": "code",
      "source": [
        "from sklearn.metrics import precision_score, recall_score\n",
        "precision_score(y_train, y_train_pred).round(5)"
      ],
      "metadata": {
        "colab": {
          "base_uri": "https://localhost:8080/"
        },
        "outputId": "bed98c6b-a8d6-47dc-aa19-d2a3139d35fd",
        "id": "ySanJJvVOzXf"
      },
      "execution_count": null,
      "outputs": [
        {
          "output_type": "execute_result",
          "data": {
            "text/plain": [
              "0.98842"
            ]
          },
          "metadata": {},
          "execution_count": 297
        }
      ]
    },
    {
      "cell_type": "code",
      "source": [
        "recall_score(y_train, y_train_pred).round(5)"
      ],
      "metadata": {
        "colab": {
          "base_uri": "https://localhost:8080/"
        },
        "outputId": "72cd7824-7587-4804-bd14-fcd4430f4218",
        "id": "i286TrdkOzXf"
      },
      "execution_count": null,
      "outputs": [
        {
          "output_type": "execute_result",
          "data": {
            "text/plain": [
              "0.97991"
            ]
          },
          "metadata": {},
          "execution_count": 298
        }
      ]
    },
    {
      "cell_type": "code",
      "source": [
        "from sklearn.metrics import f1_score\n",
        "f1_score(y_train, y_train_pred).round(5)"
      ],
      "metadata": {
        "colab": {
          "base_uri": "https://localhost:8080/"
        },
        "outputId": "b3071147-86d9-4cf7-b5a7-de581d974986",
        "id": "tjq48f0sOzXg"
      },
      "execution_count": null,
      "outputs": [
        {
          "output_type": "execute_result",
          "data": {
            "text/plain": [
              "0.98415"
            ]
          },
          "metadata": {},
          "execution_count": 299
        }
      ]
    },
    {
      "cell_type": "code",
      "source": [
        "from sklearn.metrics import ConfusionMatrixDisplay\n",
        "ConfusionMatrixDisplay.from_predictions(y_train, y_train_pred)\n",
        "save_fig(\"matsnu_+whois_adb_train_cm\")\n",
        "plt.show"
      ],
      "metadata": {
        "colab": {
          "base_uri": "https://localhost:8080/"
        },
        "id": "RiUXAUzaI34H",
        "outputId": "26389b0c-e967-4858-de4b-8cde1c6256e9"
      },
      "execution_count": null,
      "outputs": [
        {
          "output_type": "execute_result",
          "data": {
            "text/plain": [
              "<function matplotlib.pyplot.show(*args, **kw)>"
            ]
          },
          "metadata": {},
          "execution_count": 300
        },
        {
          "output_type": "display_data",
          "data": {
            "text/plain": [
              "<Figure size 432x288 with 2 Axes>"
            ],
            "image/png": "[encoded data removed]"
          },
          "metadata": {
            "needs_background": "light"
          }
        }
      ]
    },
    {
      "cell_type": "markdown",
      "source": [
        "#### Confusion Matrix for adb_clf test"
      ],
      "metadata": {
        "id": "PemSerD7JQA4"
      }
    },
    {
      "cell_type": "code",
      "source": [
        "from sklearn.model_selection import cross_val_predict\n",
        "\n",
        "y_test_pred = cross_val_predict(adb_clf1, X_test, y_test, cv=3)"
      ],
      "metadata": {
        "id": "Mw7X9hVVJQA5"
      },
      "execution_count": null,
      "outputs": []
    },
    {
      "cell_type": "code",
      "source": [
        "from sklearn.metrics import confusion_matrix\n",
        "cm = confusion_matrix(y_test, y_test_pred)\n",
        "cm"
      ],
      "metadata": {
        "colab": {
          "base_uri": "https://localhost:8080/"
        },
        "outputId": "a2c80c7d-c1e2-47b2-9b27-c215e64be258",
        "id": "PASwR4GMJQA5"
      },
      "execution_count": null,
      "outputs": [
        {
          "output_type": "execute_result",
          "data": {
            "text/plain": [
              "array([[297,   3],\n",
              "       [  7, 292]])"
            ]
          },
          "metadata": {},
          "execution_count": 302
        }
      ]
    },
    {
      "cell_type": "code",
      "source": [
        "from sklearn.metrics import precision_score, recall_score\n",
        "precision_score(y_test, y_test_pred).round(5)"
      ],
      "metadata": {
        "colab": {
          "base_uri": "https://localhost:8080/"
        },
        "outputId": "ec7b6e31-8477-4932-a6a6-0a2f960a350c",
        "id": "P50PB2A4JQA5"
      },
      "execution_count": null,
      "outputs": [
        {
          "output_type": "execute_result",
          "data": {
            "text/plain": [
              "0.98983"
            ]
          },
          "metadata": {},
          "execution_count": 303
        }
      ]
    },
    {
      "cell_type": "code",
      "source": [
        "recall_score(y_test, y_test_pred).round(5)"
      ],
      "metadata": {
        "colab": {
          "base_uri": "https://localhost:8080/"
        },
        "outputId": "1ca924bd-c3fa-4293-d93f-5c8026e7d073",
        "id": "DiUR17lZJQA6"
      },
      "execution_count": null,
      "outputs": [
        {
          "output_type": "execute_result",
          "data": {
            "text/plain": [
              "0.97659"
            ]
          },
          "metadata": {},
          "execution_count": 304
        }
      ]
    },
    {
      "cell_type": "code",
      "source": [
        "from sklearn.metrics import f1_score\n",
        "f1_score(y_test, y_test_pred).round(5)"
      ],
      "metadata": {
        "colab": {
          "base_uri": "https://localhost:8080/"
        },
        "outputId": "c5944e01-3089-470b-8b3e-1a57a73c8421",
        "id": "h71jJYGQJQA6"
      },
      "execution_count": null,
      "outputs": [
        {
          "output_type": "execute_result",
          "data": {
            "text/plain": [
              "0.98316"
            ]
          },
          "metadata": {},
          "execution_count": 305
        }
      ]
    },
    {
      "cell_type": "code",
      "source": [
        "from sklearn.metrics import ConfusionMatrixDisplay\n",
        "ConfusionMatrixDisplay.from_predictions(y_test, y_test_pred)\n",
        "save_fig(\"matsnu_+whois_adb_test_cm\")\n",
        "plt.show"
      ],
      "metadata": {
        "id": "QcX_ZTxjJCig",
        "colab": {
          "base_uri": "https://localhost:8080/",
          "height": 298
        },
        "outputId": "f3ff2e38-c2bd-429f-c750-eb865e0f0550"
      },
      "execution_count": null,
      "outputs": [
        {
          "output_type": "execute_result",
          "data": {
            "text/plain": [
              "<function matplotlib.pyplot.show(*args, **kw)>"
            ]
          },
          "metadata": {},
          "execution_count": 306
        },
        {
          "output_type": "display_data",
          "data": {
            "text/plain": [
              "<Figure size 432x288 with 2 Axes>"
            ],
            "image/png": "[encoded data removed]"
          },
          "metadata": {
            "needs_background": "light"
          }
        }
      ]
    },
    {
      "cell_type": "markdown",
      "metadata": {
        "id": "4oiTulpMOPvt"
      },
      "source": [
        "### ✅Random Forest (RF) classifier (ensemble)"
      ]
    },
    {
      "cell_type": "code",
      "execution_count": null,
      "metadata": {
        "id": "5aSvmeK32PF0"
      },
      "outputs": [],
      "source": [
        "from sklearn.ensemble import RandomForestClassifier\n",
        "from sklearn.model_selection import GridSearchCV\n",
        "from pprint import pprint"
      ]
    },
    {
      "cell_type": "code",
      "execution_count": null,
      "metadata": {
        "id": "MaMjP3W-ZU_E"
      },
      "outputs": [],
      "source": [
        "rf_clf = RandomForestClassifier(random_state=42)"
      ]
    },
    {
      "cell_type": "code",
      "execution_count": null,
      "metadata": {
        "colab": {
          "base_uri": "https://localhost:8080/"
        },
        "id": "Px6pQ6mEZdei",
        "outputId": "04768947-8694-465d-c519-166a387ef1d2"
      },
      "outputs": [
        {
          "output_type": "stream",
          "name": "stdout",
          "text": [
            "Parameters currently in use:\n",
            "\n",
            "{'bootstrap': True,\n",
            " 'ccp_alpha': 0.0,\n",
            " 'class_weight': None,\n",
            " 'criterion': 'gini',\n",
            " 'max_depth': None,\n",
            " 'max_features': 'auto',\n",
            " 'max_leaf_nodes': None,\n",
            " 'max_samples': None,\n",
            " 'min_impurity_decrease': 0.0,\n",
            " 'min_samples_leaf': 1,\n",
            " 'min_samples_split': 2,\n",
            " 'min_weight_fraction_leaf': 0.0,\n",
            " 'n_estimators': 100,\n",
            " 'n_jobs': None,\n",
            " 'oob_score': False,\n",
            " 'random_state': 42,\n",
            " 'verbose': 0,\n",
            " 'warm_start': False}\n"
          ]
        }
      ],
      "source": [
        "print('Parameters currently in use:\\n')\n",
        "pprint(rf_clf.get_params())"
      ]
    },
    {
      "cell_type": "code",
      "execution_count": null,
      "metadata": {
        "id": "oBVPErS0_vQA"
      },
      "outputs": [],
      "source": [
        "param_grid = { \n",
        "    'n_estimators': [200, 500],\n",
        "    'max_features': ['auto', 'sqrt', 'log2'],\n",
        "    'max_depth' : [4,5,6,7,8],\n",
        "    'criterion' :['gini', 'entropy']\n",
        "}"
      ]
    },
    {
      "cell_type": "code",
      "execution_count": null,
      "metadata": {
        "id": "Lp_bph7b_7oF"
      },
      "outputs": [],
      "source": [
        "#GSCV_rf_clf = GridSearchCV(estimator=rf_clf, param_grid=param_grid, cv=5)\n",
        "#GSCV_rf_clf.fit(X_train, y_train)\n"
      ]
    },
    {
      "cell_type": "code",
      "execution_count": null,
      "metadata": {
        "id": "uJattruzBFHT"
      },
      "outputs": [],
      "source": [
        "#GSCV_rf_clf.best_params_"
      ]
    },
    {
      "cell_type": "code",
      "execution_count": null,
      "metadata": {
        "id": "f5MGLYVvBWAD"
      },
      "outputs": [],
      "source": [
        "rf_clf1 = RandomForestClassifier(random_state=42, max_features='auto', n_estimators=500, \\\n",
        "                                 max_depth=7, criterion='entropy')"
      ]
    },
    {
      "cell_type": "code",
      "execution_count": null,
      "metadata": {
        "colab": {
          "base_uri": "https://localhost:8080/"
        },
        "id": "cUEt3w2RB3PA",
        "outputId": "fa368c05-c541-4753-8886-85bd62132758"
      },
      "outputs": [
        {
          "output_type": "execute_result",
          "data": {
            "text/plain": [
              "RandomForestClassifier(criterion='entropy', max_depth=7, n_estimators=500,\n",
              "                       random_state=42)"
            ]
          },
          "metadata": {},
          "execution_count": 314
        }
      ],
      "source": [
        "rf_clf1.fit(X_train, y_train)"
      ]
    },
    {
      "cell_type": "code",
      "execution_count": null,
      "metadata": {
        "colab": {
          "base_uri": "https://localhost:8080/"
        },
        "id": "EwFW6Ehn2PF2",
        "outputId": "3339052b-7f98-4dcf-a231-7f212968c569"
      },
      "outputs": [
        {
          "output_type": "stream",
          "name": "stdout",
          "text": [
            "Random Forest scored 0.97496 on test\n",
            "Random Forest scored 0.9914 on train\n"
          ]
        }
      ],
      "source": [
        "print(f\"Random Forest scored {rf_clf1.score(X_test, y_test).round(5)} on test\")\n",
        "print(f\"Random Forest scored {rf_clf1.score(X_train, y_train).round(5)} on train\")"
      ]
    },
    {
      "cell_type": "markdown",
      "source": [
        "#### Confusion Matrix for rf_clf1 train"
      ],
      "metadata": {
        "id": "q8XXGfdtahvn"
      }
    },
    {
      "cell_type": "code",
      "source": [
        "from sklearn.model_selection import cross_val_predict\n",
        "\n",
        "y_train_pred = cross_val_predict(rf_clf1, X_train, y_train, cv=3)"
      ],
      "metadata": {
        "id": "-spnHbs_GggK"
      },
      "execution_count": null,
      "outputs": []
    },
    {
      "cell_type": "code",
      "source": [
        "from sklearn.metrics import confusion_matrix\n",
        "cm = confusion_matrix(y_train, y_train_pred)\n",
        "cm"
      ],
      "metadata": {
        "id": "ImIsf67tG5i8",
        "colab": {
          "base_uri": "https://localhost:8080/"
        },
        "outputId": "0056ecc9-345b-45cb-c1df-117e40a6c5dd"
      },
      "execution_count": null,
      "outputs": [
        {
          "output_type": "execute_result",
          "data": {
            "text/plain": [
              "array([[692,   6],\n",
              "       [ 17, 680]])"
            ]
          },
          "metadata": {},
          "execution_count": 317
        }
      ]
    },
    {
      "cell_type": "code",
      "source": [
        "from sklearn.metrics import precision_score, recall_score\n",
        "precision_score(y_train, y_train_pred).round(5)"
      ],
      "metadata": {
        "id": "2BEMdN2cHOLl",
        "colab": {
          "base_uri": "https://localhost:8080/"
        },
        "outputId": "c03acb70-65cb-42c1-bd89-768e53babca5"
      },
      "execution_count": null,
      "outputs": [
        {
          "output_type": "execute_result",
          "data": {
            "text/plain": [
              "0.99125"
            ]
          },
          "metadata": {},
          "execution_count": 318
        }
      ]
    },
    {
      "cell_type": "code",
      "source": [
        "recall_score(y_train, y_train_pred).round(5)"
      ],
      "metadata": {
        "id": "VmGrN3xrHcpD",
        "colab": {
          "base_uri": "https://localhost:8080/"
        },
        "outputId": "66c82013-cef7-43ed-fc1d-c332bd88b1f0"
      },
      "execution_count": null,
      "outputs": [
        {
          "output_type": "execute_result",
          "data": {
            "text/plain": [
              "0.97561"
            ]
          },
          "metadata": {},
          "execution_count": 319
        }
      ]
    },
    {
      "cell_type": "code",
      "source": [
        "from sklearn.metrics import f1_score\n",
        "f1_score(y_train, y_train_pred).round(5)"
      ],
      "metadata": {
        "id": "EB0NZ27-HhuH",
        "colab": {
          "base_uri": "https://localhost:8080/"
        },
        "outputId": "8f538362-bda1-41ef-a444-311fc8e44cc8"
      },
      "execution_count": null,
      "outputs": [
        {
          "output_type": "execute_result",
          "data": {
            "text/plain": [
              "0.98337"
            ]
          },
          "metadata": {},
          "execution_count": 320
        }
      ]
    },
    {
      "cell_type": "code",
      "source": [
        "from sklearn.metrics import ConfusionMatrixDisplay\n",
        "ConfusionMatrixDisplay.from_predictions(y_train, y_train_pred)\n",
        "save_fig(\"matsnu_+whois_rf_train_cm\")\n",
        "plt.show"
      ],
      "metadata": {
        "colab": {
          "base_uri": "https://localhost:8080/",
          "height": 298
        },
        "id": "HAxWKbDZJjzb",
        "outputId": "de864f2c-4451-4ab4-9890-d30b81088580"
      },
      "execution_count": null,
      "outputs": [
        {
          "output_type": "execute_result",
          "data": {
            "text/plain": [
              "<function matplotlib.pyplot.show(*args, **kw)>"
            ]
          },
          "metadata": {},
          "execution_count": 321
        },
        {
          "output_type": "display_data",
          "data": {
            "text/plain": [
              "<Figure size 432x288 with 2 Axes>"
            ],
            "image/png": "[encoded data removed]"
          },
          "metadata": {
            "needs_background": "light"
          }
        }
      ]
    },
    {
      "cell_type": "markdown",
      "source": [
        "#### Confusion Matrix for rf_clf1 test"
      ],
      "metadata": {
        "id": "NAd9h91nlgX5"
      }
    },
    {
      "cell_type": "code",
      "source": [
        "from sklearn.model_selection import cross_val_predict\n",
        "\n",
        "y_test_pred = cross_val_predict(rf_clf1, X_test, y_test, cv=3)"
      ],
      "metadata": {
        "id": "-9jweH0ZlgX6"
      },
      "execution_count": null,
      "outputs": []
    },
    {
      "cell_type": "code",
      "source": [
        "from sklearn.metrics import confusion_matrix\n",
        "cm = confusion_matrix(y_test, y_test_pred)\n",
        "cm"
      ],
      "metadata": {
        "colab": {
          "base_uri": "https://localhost:8080/"
        },
        "outputId": "8db06f55-8b78-4f36-d2e9-f91f34d922a9",
        "id": "A6G9hJRplgX6"
      },
      "execution_count": null,
      "outputs": [
        {
          "output_type": "execute_result",
          "data": {
            "text/plain": [
              "array([[295,   5],\n",
              "       [  5, 294]])"
            ]
          },
          "metadata": {},
          "execution_count": 323
        }
      ]
    },
    {
      "cell_type": "code",
      "source": [
        "from sklearn.metrics import precision_score, recall_score\n",
        "precision_score(y_test, y_test_pred).round(5)"
      ],
      "metadata": {
        "colab": {
          "base_uri": "https://localhost:8080/"
        },
        "outputId": "05952696-bd3d-465d-d9c4-83182d763944",
        "id": "qF4jQ3nUlgX6"
      },
      "execution_count": null,
      "outputs": [
        {
          "output_type": "execute_result",
          "data": {
            "text/plain": [
              "0.98328"
            ]
          },
          "metadata": {},
          "execution_count": 324
        }
      ]
    },
    {
      "cell_type": "code",
      "source": [
        "recall_score(y_test, y_test_pred).round(5)"
      ],
      "metadata": {
        "colab": {
          "base_uri": "https://localhost:8080/"
        },
        "outputId": "05bc1a41-dfa3-4591-edf7-328d5b6fa00f",
        "id": "2fhW5wVrlgX7"
      },
      "execution_count": null,
      "outputs": [
        {
          "output_type": "execute_result",
          "data": {
            "text/plain": [
              "0.98328"
            ]
          },
          "metadata": {},
          "execution_count": 325
        }
      ]
    },
    {
      "cell_type": "code",
      "source": [
        "from sklearn.metrics import f1_score\n",
        "f1_score(y_test, y_test_pred).round(5)"
      ],
      "metadata": {
        "colab": {
          "base_uri": "https://localhost:8080/"
        },
        "outputId": "66ff922e-eb90-4dd8-878b-9414836e8e9f",
        "id": "2rsqBSuSlgX7"
      },
      "execution_count": null,
      "outputs": [
        {
          "output_type": "execute_result",
          "data": {
            "text/plain": [
              "0.98328"
            ]
          },
          "metadata": {},
          "execution_count": 326
        }
      ]
    },
    {
      "cell_type": "code",
      "source": [
        "from sklearn.metrics import ConfusionMatrixDisplay\n",
        "ConfusionMatrixDisplay.from_predictions(y_test, y_test_pred)\n",
        "save_fig(\"matsnu_+whois_rf_test_cm\")\n",
        "plt.show"
      ],
      "metadata": {
        "colab": {
          "base_uri": "https://localhost:8080/",
          "height": 298
        },
        "outputId": "26ba6341-5861-4949-cf88-6393017f1460",
        "id": "yymXTSzDlgX7"
      },
      "execution_count": null,
      "outputs": [
        {
          "output_type": "execute_result",
          "data": {
            "text/plain": [
              "<function matplotlib.pyplot.show(*args, **kw)>"
            ]
          },
          "metadata": {},
          "execution_count": 327
        },
        {
          "output_type": "display_data",
          "data": {
            "text/plain": [
              "<Figure size 432x288 with 2 Axes>"
            ],
            "image/png": "[encoded data removed]"
          },
          "metadata": {
            "needs_background": "light"
          }
        }
      ]
    },
    {
      "cell_type": "markdown",
      "source": [
        "### 👉Receiver Operating Characteristic (ROC) curve"
      ],
      "metadata": {
        "id": "yLaqPZwVywFt"
      }
    },
    {
      "cell_type": "code",
      "source": [
        "rndm_probs = [0 for _ in range(len(y_test))]\n",
        "mnb_probs = mnb_clf.predict_proba(X_test)\n",
        "lg_probs = lg_clf.predict_proba(X_test)\n",
        "knn_probs = knn_clf.predict_proba(X_test)\n",
        "svm_probs = svm_clf1.predict_proba(X_test_svm)\n",
        "dt_probs = dt_clf1.predict_proba(X_test)\n",
        "bg_probs = bg_clf.predict_proba(X_test)\n",
        "adb_probs = adb_clf1.predict_proba(X_test)\n",
        "rf_probs = rf_clf1.predict_proba(X_test)"
      ],
      "metadata": {
        "id": "vFhOYMOIy677"
      },
      "execution_count": null,
      "outputs": []
    },
    {
      "cell_type": "code",
      "source": [
        "mnb_probs = mnb_probs[:, 1]\n",
        "lg_probs = lg_probs[:, 1]\n",
        "knn_probs = knn_probs[:, 1]\n",
        "svm_probs = svm_probs[:, 1]\n",
        "dt_probs = dt_probs[:, 1]\n",
        "bg_probs = bg_probs[:, 1]\n",
        "adb_probs = adb_probs[:, 1]\n",
        "rf_probs = rf_probs[:, 1]"
      ],
      "metadata": {
        "id": "2DfI-E5Py677"
      },
      "execution_count": null,
      "outputs": []
    },
    {
      "cell_type": "code",
      "source": [
        "from sklearn.metrics import roc_curve, roc_auc_score"
      ],
      "metadata": {
        "id": "94t6pEXly677"
      },
      "execution_count": null,
      "outputs": []
    },
    {
      "cell_type": "code",
      "source": [
        "rndm_auc = roc_auc_score(y_test, rndm_probs)\n",
        "mnb_auc = roc_auc_score(y_test, mnb_probs)\n",
        "lg_auc = roc_auc_score(y_test, lg_probs)\n",
        "knn_auc = roc_auc_score(y_test, knn_probs)\n",
        "svm_auc = roc_auc_score(y_test, svm_probs)\n",
        "dt_auc = roc_auc_score(y_test, dt_probs)\n",
        "bg_auc = roc_auc_score(y_test, bg_probs)\n",
        "adb_auc = roc_auc_score(y_test, adb_probs)\n",
        "rf_auc = roc_auc_score(y_test, rf_probs)"
      ],
      "metadata": {
        "id": "uZ6AYtrny677"
      },
      "execution_count": null,
      "outputs": []
    },
    {
      "cell_type": "code",
      "source": [
        "print('Random (chance) Prediction: AUROC = %.5f' % (rndm_auc))\n",
        "print('Naive Bayes: AUROC = %.5f' % (mnb_auc))\n",
        "print('Logistic Regression: AUROC = %.5f' % (lg_auc))\n",
        "print('K-Nearest Neighbour: AUROC = %.5f' % (knn_auc))\n",
        "print('Support Vector Machine: AUROC = %.5f' % (svm_auc))\n",
        "print('Decision Tree: AUROC = %.5f' % (knn_auc))\n",
        "print('Bagging Decision Tree: AUROC = %.5f' % (bg_auc))\n",
        "print('Boosting Decision Tree: AUROC = %.5f' % (adb_auc))\n",
        "print('Random Forest: AUROC = %.5f' % (rf_auc))"
      ],
      "metadata": {
        "colab": {
          "base_uri": "https://localhost:8080/"
        },
        "outputId": "273fbdc6-eb88-4a16-a1db-9e8695837c5b",
        "id": "BmLp-5qhy677"
      },
      "execution_count": null,
      "outputs": [
        {
          "output_type": "stream",
          "name": "stdout",
          "text": [
            "Random (chance) Prediction: AUROC = 0.50000\n",
            "Naive Bayes: AUROC = 0.98406\n",
            "Logistic Regression: AUROC = 0.99624\n",
            "K-Nearest Neighbour: AUROC = 0.99209\n",
            "Support Vector Machine: AUROC = 0.98396\n",
            "Decision Tree: AUROC = 0.99209\n",
            "Bagging Decision Tree: AUROC = 0.99745\n",
            "Boosting Decision Tree: AUROC = 0.99944\n",
            "Random Forest: AUROC = 0.99911\n"
          ]
        }
      ]
    },
    {
      "cell_type": "code",
      "source": [
        "rndm_fpr, rndm_tpr, _ = roc_curve(y_test, rndm_probs)\n",
        "mnb_fpr, mnb_tpr, _ = roc_curve(y_test, mnb_probs)\n",
        "lg_fpr, lg_tpr, _ = roc_curve(y_test, lg_probs)\n",
        "knn_fpr, knn_tpr, _ = roc_curve(y_test, knn_probs)\n",
        "svm_fpr, svm_tpr, _ = roc_curve(y_test, svm_probs)\n",
        "dt_fpr, dt_tpr, _ = roc_curve(y_test, dt_probs)\n",
        "bg_fpr, bg_tpr, _ = roc_curve(y_test, bg_probs)\n",
        "adb_fpr, adb_tpr, _ = roc_curve(y_test, adb_probs)\n",
        "rf_fpr, rf_tpr, _ = roc_curve(y_test, rf_probs)"
      ],
      "metadata": {
        "id": "xrfeFYAJy678"
      },
      "execution_count": null,
      "outputs": []
    },
    {
      "cell_type": "code",
      "source": [
        "import matplotlib.pyplot as plt\n",
        "plt.rcParams.update({'font.size': 18})"
      ],
      "metadata": {
        "id": "vxIaAtYIy678"
      },
      "execution_count": null,
      "outputs": []
    },
    {
      "cell_type": "code",
      "source": [
        "plt.figure(figsize=(12, 8))\n",
        "plt.plot(rndm_fpr, rndm_tpr, linestyle='--')\n",
        "plt.plot(mnb_fpr, mnb_tpr, marker='.', label='NB AUC = %0.5f' % mnb_auc)\n",
        "plt.plot(lg_fpr, lg_tpr, marker='.', label='LG AUC = %0.5f' % lg_auc)\n",
        "plt.plot(knn_fpr, knn_tpr, marker='.', label='KNN AUC = %0.5f' % knn_auc)\n",
        "plt.plot(svm_fpr, svm_tpr, marker='.', label='SVM AUC = %0.5f' % svm_auc)\n",
        "plt.plot(dt_fpr, dt_tpr, marker='.', label='DT AUC = %0.5f' % knn_auc)\n",
        "plt.plot(bg_fpr, bg_tpr, marker='.', label='BG AUC = %0.5f' % bg_auc)\n",
        "plt.plot(adb_fpr, adb_tpr, marker='.', label='ADB AUC = %0.5f' % adb_auc)\n",
        "plt.plot(rf_fpr, rf_tpr, marker='.', label='RF AUC = %0.5f' % rf_auc)\n",
        "\n",
        "# Title\n",
        "#plt.title('ROC Plot', fontsize=22)\n",
        "# Axis labels\n",
        "plt.xlabel('False Positive Rate', fontsize=22)\n",
        "plt.ylabel('True Positive Rate', fontsize=22)\n",
        "# Show legend\n",
        "plt.legend(fontsize=23)\n",
        "# Save Fig\n",
        "save_fig(\"matsnu_+whois_gscv_roc\")\n",
        "# Show plot\n",
        "plt.show()"
      ],
      "metadata": {
        "colab": {
          "base_uri": "https://localhost:8080/",
          "height": 508
        },
        "outputId": "303fbd3a-0327-480f-e292-778925328a26",
        "id": "o-BERPAey678"
      },
      "execution_count": null,
      "outputs": [
        {
          "output_type": "display_data",
          "data": {
            "text/plain": [
              "<Figure size 864x576 with 1 Axes>"
            ],
            "image/png": "[encoded data removed]"
          },
          "metadata": {
            "needs_background": "light"
          }
        }
      ]
    }
  ],
  "metadata": {
    "colab": {
      "collapsed_sections": [
        "BmfxOgXC0VDz",
        "b0GyX45JCBDp",
        "TzOFE2irngOK",
        "hynEm0T6AiSp",
        "-jg4B8iyAiSq",
        "Hf9Ij1B-E73O",
        "tERwVzByBxmR",
        "jq0NFEP2BxmS",
        "yhD6wJhiGTTf",
        "A27x2z00Ndy_",
        "fWDoVNX4NdzB",
        "KptbNLORHZQO",
        "KxQI4QE-OzXf"
      ],
      "provenance": [],
      "authorship_tag": "ABX9TyM3gLETfv7gxuFRvIWgBVuV",
      "include_colab_link": true
    },
    "kernelspec": {
      "display_name": "Python 3",
      "name": "python3"
    },
    "language_info": {
      "name": "python"
    }
  },
  "nbformat": 4,
  "nbformat_minor": 0
}