{
  "nbformat": 4,
  "nbformat_minor": 0,
  "metadata": {
    "colab": {
      "provenance": [],
      "collapsed_sections": [
        "SK9aTAhsiEFx",
        "yGB-kSCkjPJA",
        "TzOFE2irngOK",
        "-jg4B8iyAiSq",
        "tERwVzByBxmR",
        "jq0NFEP2BxmS",
        "yhD6wJhiGTTf",
        "A27x2z00Ndy_",
        "fWDoVNX4NdzB",
        "KptbNLORHZQO",
        "KxQI4QE-OzXf"
      ],
      "authorship_tag": "ABX9TyPNwCL7IRFJs7YRDzXnomqg",
      "include_colab_link": true
    },
    "kernelspec": {
      "name": "python3",
      "display_name": "Python 3"
    },
    "language_info": {
      "name": "python"
    }
  },
  "cells": [
    {
      "cell_type": "markdown",
      "metadata": {
        "id": "view-in-github",
        "colab_type": "text"
      },
      "source": [
        "<a href=\"https://colab.research.google.com/github/jcarey-shu/dissertation/blob/main/pizd_with_whois_imptr_gscv.ipynb\" target=\"_parent\"><img src=\"https://colab.research.google.com/assets/colab-badge.svg\" alt=\"Open In Colab\"/></a>"
      ]
    },
    {
      "cell_type": "markdown",
      "source": [
        "## Load 3 👇 : pizd WHOIS imptr GridSearchCV SHU. Train & Test."
      ],
      "metadata": {
        "id": "2pDxhUWCcFql"
      }
    },
    {
      "cell_type": "markdown",
      "source": [
        "### Load 3 = 1000 legit domains; 1000 pizd word-based DGAs; my top 10 correlated features; with WHOIS history using iterative imputer to replace NaN. GridSearchCV applied. Train & Test."
      ],
      "metadata": {
        "id": "-NREjNRkYFhy"
      }
    },
    {
      "cell_type": "code",
      "source": [
        "from pathlib import Path\n",
        "import pandas as pd\n",
        "import numpy as np\n",
        "from google.colab import drive\n",
        "drive.mount('/content/gdrive')\n",
        "\n",
        "def load_data1():\n",
        "  return pd.read_csv(Path(\"/content/gdrive/MyDrive/Colab/Data/loads/raw_data/pizd.1000+whois-history.csv\"))\n",
        "\n",
        "df1 = load_data1()"
      ],
      "metadata": {
        "colab": {
          "base_uri": "https://localhost:8080/"
        },
        "id": "jNIMZY0B5KiC",
        "outputId": "1f25e559-699f-4842-c40c-a0394defdb5a"
      },
      "execution_count": null,
      "outputs": [
        {
          "output_type": "stream",
          "name": "stdout",
          "text": [
            "Mounted at /content/gdrive\n"
          ]
        }
      ]
    },
    {
      "cell_type": "code",
      "source": [
        "display(df1)"
      ],
      "metadata": {
        "colab": {
          "base_uri": "https://localhost:8080/",
          "height": 487
        },
        "id": "DeawuyIPkM9K",
        "outputId": "d79d8b61-2b8a-40c0-eb1c-642ab9b71905"
      },
      "execution_count": null,
      "outputs": [
        {
          "output_type": "display_data",
          "data": {
            "text/plain": [
              "                 domain  nlp_1g_25p  nlp_1g_50p  nlp_1g_75p  nlp_1g_cov  \\\n",
              "0       abovefamous.net         0.0         0.0    0.071429    0.001388   \n",
              "1    abovegentleman.net         0.0         0.0    0.058824    0.001634   \n",
              "2      abovehistory.net         0.0         0.0    0.066667    0.001306   \n",
              "3     aboveincrease.net         0.0         0.0    0.062500    0.001560   \n",
              "4     abovelanguage.net         0.0         0.0    0.062500    0.001564   \n",
              "..                  ...         ...         ...         ...         ...   \n",
              "951    exceptspring.net         0.0         0.0    0.066667    0.001553   \n",
              "952    exceptstreet.net         0.0         0.0    0.000000    0.001893   \n",
              "953   exceptsuppose.net         0.0         0.0    0.046875    0.001711   \n",
              "954    exceptwonder.net         0.0         0.0    0.066667    0.001646   \n",
              "955   exceptwritten.net         0.0         0.0    0.046875    0.001733   \n",
              "\n",
              "     nlp_1g_dist  nlp_1g_dst_ca  nlp_1g_dst_ch  nlp_1g_dst_em  nlp_1g_dst_eu  \\\n",
              "0           11.0      31.120288       0.141997       8.442562       0.309753   \n",
              "1           10.0      31.984155       0.234434      10.077016       0.373578   \n",
              "2           12.0      31.289778       0.132473       6.211085       0.289615   \n",
              "3           11.0      32.016142       0.249140      10.308634       0.376572   \n",
              "4           10.0      32.442230       0.186640      10.746134       0.378965   \n",
              "..           ...            ...            ...            ...            ...   \n",
              "951         10.0      33.424087       0.199140       6.634204       0.378226   \n",
              "952          8.0      33.299863       0.332473       5.767537       0.468167   \n",
              "953          9.0      32.845029       0.249140       5.296704       0.398154   \n",
              "954         10.0      32.530400       0.265807       6.825321       0.382642   \n",
              "955          9.0      33.377866       0.249140       5.216988       0.415666   \n",
              "\n",
              "     ...  nlp_r_num_odn  nlp_r_sym_2dn  nlp_r_sym_fqdn  nlp_r_sym_odn  \\\n",
              "0    ...            0.0            0.0        0.066667            0.0   \n",
              "1    ...            0.0            0.0        0.055556            0.0   \n",
              "2    ...            0.0            0.0        0.062500            0.0   \n",
              "3    ...            0.0            0.0        0.058824            0.0   \n",
              "4    ...            0.0            0.0        0.058824            0.0   \n",
              "..   ...            ...            ...             ...            ...   \n",
              "951  ...            0.0            0.0        0.062500            0.0   \n",
              "952  ...            0.0            0.0        0.062500            0.0   \n",
              "953  ...            0.0            0.0        0.058824            0.0   \n",
              "954  ...            0.0            0.0        0.062500            0.0   \n",
              "955  ...            0.0            0.0        0.058824            0.0   \n",
              "\n",
              "     nlp_r_vow_2dn  nlp_r_vow_fqdn  nlp_r_vow_odn  whois_rec  whois_change  \\\n",
              "0         0.545455        0.466667            0.0          0           NaN   \n",
              "1         0.428571        0.388889            0.0          0           NaN   \n",
              "2         0.416667        0.375000            0.0          0           NaN   \n",
              "3         0.538462        0.470588            0.0          0           NaN   \n",
              "4         0.538462        0.470588            0.0          0           NaN   \n",
              "..             ...             ...            ...        ...           ...   \n",
              "951       0.250000        0.250000            0.0          0           NaN   \n",
              "952       0.333333        0.312500            0.0          0           NaN   \n",
              "953       0.384615        0.352941            0.0          0           NaN   \n",
              "954       0.333333        0.312500            0.0          0           NaN   \n",
              "955       0.307692        0.294118            0.0          0           NaN   \n",
              "\n",
              "     class  \n",
              "0        1  \n",
              "1        1  \n",
              "2        1  \n",
              "3        1  \n",
              "4        1  \n",
              "..     ...  \n",
              "951      1  \n",
              "952      1  \n",
              "953      1  \n",
              "954      1  \n",
              "955      1  \n",
              "\n",
              "[956 rows x 134 columns]"
            ],
            "text/html": [
              "\n",
              "  <div id=\"df-5fe50e29-0c82-4217-8b88-4da703f077f1\">\n",
              "    <div class=\"colab-df-container\">\n",
              "      <div>\n",
              "<style scoped>\n",
              "    .dataframe tbody tr th:only-of-type {\n",
              "        vertical-align: middle;\n",
              "    }\n",
              "\n",
              "    .dataframe tbody tr th {\n",
              "        vertical-align: top;\n",
              "    }\n",
              "\n",
              "    .dataframe thead th {\n",
              "        text-align: right;\n",
              "    }\n",
              "</style>\n",
              "<table border=\"1\" class=\"dataframe\">\n",
              "  <thead>\n",
              "    <tr style=\"text-align: right;\">\n",
              "      <th></th>\n",
              "      <th>domain</th>\n",
              "      <th>nlp_1g_25p</th>\n",
              "      <th>nlp_1g_50p</th>\n",
              "      <th>nlp_1g_75p</th>\n",
              "      <th>nlp_1g_cov</th>\n",
              "      <th>nlp_1g_dist</th>\n",
              "      <th>nlp_1g_dst_ca</th>\n",
              "      <th>nlp_1g_dst_ch</th>\n",
              "      <th>nlp_1g_dst_em</th>\n",
              "      <th>nlp_1g_dst_eu</th>\n",
              "      <th>...</th>\n",
              "      <th>nlp_r_num_odn</th>\n",
              "      <th>nlp_r_sym_2dn</th>\n",
              "      <th>nlp_r_sym_fqdn</th>\n",
              "      <th>nlp_r_sym_odn</th>\n",
              "      <th>nlp_r_vow_2dn</th>\n",
              "      <th>nlp_r_vow_fqdn</th>\n",
              "      <th>nlp_r_vow_odn</th>\n",
              "      <th>whois_rec</th>\n",
              "      <th>whois_change</th>\n",
              "      <th>class</th>\n",
              "    </tr>\n",
              "  </thead>\n",
              "  <tbody>\n",
              "    <tr>\n",
              "      <th>0</th>\n",
              "      <td>abovefamous.net</td>\n",
              "      <td>0.0</td>\n",
              "      <td>0.0</td>\n",
              "      <td>0.071429</td>\n",
              "      <td>0.001388</td>\n",
              "      <td>11.0</td>\n",
              "      <td>31.120288</td>\n",
              "      <td>0.141997</td>\n",
              "      <td>8.442562</td>\n",
              "      <td>0.309753</td>\n",
              "      <td>...</td>\n",
              "      <td>0.0</td>\n",
              "      <td>0.0</td>\n",
              "      <td>0.066667</td>\n",
              "      <td>0.0</td>\n",
              "      <td>0.545455</td>\n",
              "      <td>0.466667</td>\n",
              "      <td>0.0</td>\n",
              "      <td>0</td>\n",
              "      <td>NaN</td>\n",
              "      <td>1</td>\n",
              "    </tr>\n",
              "    <tr>\n",
              "      <th>1</th>\n",
              "      <td>abovegentleman.net</td>\n",
              "      <td>0.0</td>\n",
              "      <td>0.0</td>\n",
              "      <td>0.058824</td>\n",
              "      <td>0.001634</td>\n",
              "      <td>10.0</td>\n",
              "      <td>31.984155</td>\n",
              "      <td>0.234434</td>\n",
              "      <td>10.077016</td>\n",
              "      <td>0.373578</td>\n",
              "      <td>...</td>\n",
              "      <td>0.0</td>\n",
              "      <td>0.0</td>\n",
              "      <td>0.055556</td>\n",
              "      <td>0.0</td>\n",
              "      <td>0.428571</td>\n",
              "      <td>0.388889</td>\n",
              "      <td>0.0</td>\n",
              "      <td>0</td>\n",
              "      <td>NaN</td>\n",
              "      <td>1</td>\n",
              "    </tr>\n",
              "    <tr>\n",
              "      <th>2</th>\n",
              "      <td>abovehistory.net</td>\n",
              "      <td>0.0</td>\n",
              "      <td>0.0</td>\n",
              "      <td>0.066667</td>\n",
              "      <td>0.001306</td>\n",
              "      <td>12.0</td>\n",
              "      <td>31.289778</td>\n",
              "      <td>0.132473</td>\n",
              "      <td>6.211085</td>\n",
              "      <td>0.289615</td>\n",
              "      <td>...</td>\n",
              "      <td>0.0</td>\n",
              "      <td>0.0</td>\n",
              "      <td>0.062500</td>\n",
              "      <td>0.0</td>\n",
              "      <td>0.416667</td>\n",
              "      <td>0.375000</td>\n",
              "      <td>0.0</td>\n",
              "      <td>0</td>\n",
              "      <td>NaN</td>\n",
              "      <td>1</td>\n",
              "    </tr>\n",
              "    <tr>\n",
              "      <th>3</th>\n",
              "      <td>aboveincrease.net</td>\n",
              "      <td>0.0</td>\n",
              "      <td>0.0</td>\n",
              "      <td>0.062500</td>\n",
              "      <td>0.001560</td>\n",
              "      <td>11.0</td>\n",
              "      <td>32.016142</td>\n",
              "      <td>0.249140</td>\n",
              "      <td>10.308634</td>\n",
              "      <td>0.376572</td>\n",
              "      <td>...</td>\n",
              "      <td>0.0</td>\n",
              "      <td>0.0</td>\n",
              "      <td>0.058824</td>\n",
              "      <td>0.0</td>\n",
              "      <td>0.538462</td>\n",
              "      <td>0.470588</td>\n",
              "      <td>0.0</td>\n",
              "      <td>0</td>\n",
              "      <td>NaN</td>\n",
              "      <td>1</td>\n",
              "    </tr>\n",
              "    <tr>\n",
              "      <th>4</th>\n",
              "      <td>abovelanguage.net</td>\n",
              "      <td>0.0</td>\n",
              "      <td>0.0</td>\n",
              "      <td>0.062500</td>\n",
              "      <td>0.001564</td>\n",
              "      <td>10.0</td>\n",
              "      <td>32.442230</td>\n",
              "      <td>0.186640</td>\n",
              "      <td>10.746134</td>\n",
              "      <td>0.378965</td>\n",
              "      <td>...</td>\n",
              "      <td>0.0</td>\n",
              "      <td>0.0</td>\n",
              "      <td>0.058824</td>\n",
              "      <td>0.0</td>\n",
              "      <td>0.538462</td>\n",
              "      <td>0.470588</td>\n",
              "      <td>0.0</td>\n",
              "      <td>0</td>\n",
              "      <td>NaN</td>\n",
              "      <td>1</td>\n",
              "    </tr>\n",
              "    <tr>\n",
              "      <th>...</th>\n",
              "      <td>...</td>\n",
              "      <td>...</td>\n",
              "      <td>...</td>\n",
              "      <td>...</td>\n",
              "      <td>...</td>\n",
              "      <td>...</td>\n",
              "      <td>...</td>\n",
              "      <td>...</td>\n",
              "      <td>...</td>\n",
              "      <td>...</td>\n",
              "      <td>...</td>\n",
              "      <td>...</td>\n",
              "      <td>...</td>\n",
              "      <td>...</td>\n",
              "      <td>...</td>\n",
              "      <td>...</td>\n",
              "      <td>...</td>\n",
              "      <td>...</td>\n",
              "      <td>...</td>\n",
              "      <td>...</td>\n",
              "      <td>...</td>\n",
              "    </tr>\n",
              "    <tr>\n",
              "      <th>951</th>\n",
              "      <td>exceptspring.net</td>\n",
              "      <td>0.0</td>\n",
              "      <td>0.0</td>\n",
              "      <td>0.066667</td>\n",
              "      <td>0.001553</td>\n",
              "      <td>10.0</td>\n",
              "      <td>33.424087</td>\n",
              "      <td>0.199140</td>\n",
              "      <td>6.634204</td>\n",
              "      <td>0.378226</td>\n",
              "      <td>...</td>\n",
              "      <td>0.0</td>\n",
              "      <td>0.0</td>\n",
              "      <td>0.062500</td>\n",
              "      <td>0.0</td>\n",
              "      <td>0.250000</td>\n",
              "      <td>0.250000</td>\n",
              "      <td>0.0</td>\n",
              "      <td>0</td>\n",
              "      <td>NaN</td>\n",
              "      <td>1</td>\n",
              "    </tr>\n",
              "    <tr>\n",
              "      <th>952</th>\n",
              "      <td>exceptstreet.net</td>\n",
              "      <td>0.0</td>\n",
              "      <td>0.0</td>\n",
              "      <td>0.000000</td>\n",
              "      <td>0.001893</td>\n",
              "      <td>8.0</td>\n",
              "      <td>33.299863</td>\n",
              "      <td>0.332473</td>\n",
              "      <td>5.767537</td>\n",
              "      <td>0.468167</td>\n",
              "      <td>...</td>\n",
              "      <td>0.0</td>\n",
              "      <td>0.0</td>\n",
              "      <td>0.062500</td>\n",
              "      <td>0.0</td>\n",
              "      <td>0.333333</td>\n",
              "      <td>0.312500</td>\n",
              "      <td>0.0</td>\n",
              "      <td>0</td>\n",
              "      <td>NaN</td>\n",
              "      <td>1</td>\n",
              "    </tr>\n",
              "    <tr>\n",
              "      <th>953</th>\n",
              "      <td>exceptsuppose.net</td>\n",
              "      <td>0.0</td>\n",
              "      <td>0.0</td>\n",
              "      <td>0.046875</td>\n",
              "      <td>0.001711</td>\n",
              "      <td>9.0</td>\n",
              "      <td>32.845029</td>\n",
              "      <td>0.249140</td>\n",
              "      <td>5.296704</td>\n",
              "      <td>0.398154</td>\n",
              "      <td>...</td>\n",
              "      <td>0.0</td>\n",
              "      <td>0.0</td>\n",
              "      <td>0.058824</td>\n",
              "      <td>0.0</td>\n",
              "      <td>0.384615</td>\n",
              "      <td>0.352941</td>\n",
              "      <td>0.0</td>\n",
              "      <td>0</td>\n",
              "      <td>NaN</td>\n",
              "      <td>1</td>\n",
              "    </tr>\n",
              "    <tr>\n",
              "      <th>954</th>\n",
              "      <td>exceptwonder.net</td>\n",
              "      <td>0.0</td>\n",
              "      <td>0.0</td>\n",
              "      <td>0.066667</td>\n",
              "      <td>0.001646</td>\n",
              "      <td>10.0</td>\n",
              "      <td>32.530400</td>\n",
              "      <td>0.265807</td>\n",
              "      <td>6.825321</td>\n",
              "      <td>0.382642</td>\n",
              "      <td>...</td>\n",
              "      <td>0.0</td>\n",
              "      <td>0.0</td>\n",
              "      <td>0.062500</td>\n",
              "      <td>0.0</td>\n",
              "      <td>0.333333</td>\n",
              "      <td>0.312500</td>\n",
              "      <td>0.0</td>\n",
              "      <td>0</td>\n",
              "      <td>NaN</td>\n",
              "      <td>1</td>\n",
              "    </tr>\n",
              "    <tr>\n",
              "      <th>955</th>\n",
              "      <td>exceptwritten.net</td>\n",
              "      <td>0.0</td>\n",
              "      <td>0.0</td>\n",
              "      <td>0.046875</td>\n",
              "      <td>0.001733</td>\n",
              "      <td>9.0</td>\n",
              "      <td>33.377866</td>\n",
              "      <td>0.249140</td>\n",
              "      <td>5.216988</td>\n",
              "      <td>0.415666</td>\n",
              "      <td>...</td>\n",
              "      <td>0.0</td>\n",
              "      <td>0.0</td>\n",
              "      <td>0.058824</td>\n",
              "      <td>0.0</td>\n",
              "      <td>0.307692</td>\n",
              "      <td>0.294118</td>\n",
              "      <td>0.0</td>\n",
              "      <td>0</td>\n",
              "      <td>NaN</td>\n",
              "      <td>1</td>\n",
              "    </tr>\n",
              "  </tbody>\n",
              "</table>\n",
              "<p>956 rows × 134 columns</p>\n",
              "</div>\n",
              "      <button class=\"colab-df-convert\" onclick=\"convertToInteractive('df-5fe50e29-0c82-4217-8b88-4da703f077f1')\"\n",
              "              title=\"Convert this dataframe to an interactive table.\"\n",
              "              style=\"display:none;\">\n",
              "        \n",
              "  <svg xmlns=\"http://www.w3.org/2000/svg\" height=\"24px\"viewBox=\"0 0 24 24\"\n",
              "       width=\"24px\">\n",
              "    <path d=\"M0 0h24v24H0V0z\" fill=\"none\"/>\n",
              "    <path d=\"M18.56 5.44l.94 2.06.94-2.06 2.06-.94-2.06-.94-.94-2.06-.94 2.06-2.06.94zm-11 1L8.5 8.5l.94-2.06 2.06-.94-2.06-.94L8.5 2.5l-.94 2.06-2.06.94zm10 10l.94 2.06.94-2.06 2.06-.94-2.06-.94-.94-2.06-.94 2.06-2.06.94z\"/><path d=\"M17.41 7.96l-1.37-1.37c-.4-.4-.92-.59-1.43-.59-.52 0-1.04.2-1.43.59L10.3 9.45l-7.72 7.72c-.78.78-.78 2.05 0 2.83L4 21.41c.39.39.9.59 1.41.59.51 0 1.02-.2 1.41-.59l7.78-7.78 2.81-2.81c.8-.78.8-2.07 0-2.86zM5.41 20L4 18.59l7.72-7.72 1.47 1.35L5.41 20z\"/>\n",
              "  </svg>\n",
              "      </button>\n",
              "      \n",
              "  <style>\n",
              "    .colab-df-container {\n",
              "      display:flex;\n",
              "      flex-wrap:wrap;\n",
              "      gap: 12px;\n",
              "    }\n",
              "\n",
              "    .colab-df-convert {\n",
              "      background-color: #E8F0FE;\n",
              "      border: none;\n",
              "      border-radius: 50%;\n",
              "      cursor: pointer;\n",
              "      display: none;\n",
              "      fill: #1967D2;\n",
              "      height: 32px;\n",
              "      padding: 0 0 0 0;\n",
              "      width: 32px;\n",
              "    }\n",
              "\n",
              "    .colab-df-convert:hover {\n",
              "      background-color: #E2EBFA;\n",
              "      box-shadow: 0px 1px 2px rgba(60, 64, 67, 0.3), 0px 1px 3px 1px rgba(60, 64, 67, 0.15);\n",
              "      fill: #174EA6;\n",
              "    }\n",
              "\n",
              "    [theme=dark] .colab-df-convert {\n",
              "      background-color: #3B4455;\n",
              "      fill: #D2E3FC;\n",
              "    }\n",
              "\n",
              "    [theme=dark] .colab-df-convert:hover {\n",
              "      background-color: #434B5C;\n",
              "      box-shadow: 0px 1px 3px 1px rgba(0, 0, 0, 0.15);\n",
              "      filter: drop-shadow(0px 1px 2px rgba(0, 0, 0, 0.3));\n",
              "      fill: #FFFFFF;\n",
              "    }\n",
              "  </style>\n",
              "\n",
              "      <script>\n",
              "        const buttonEl =\n",
              "          document.querySelector('#df-5fe50e29-0c82-4217-8b88-4da703f077f1 button.colab-df-convert');\n",
              "        buttonEl.style.display =\n",
              "          google.colab.kernel.accessAllowed ? 'block' : 'none';\n",
              "\n",
              "        async function convertToInteractive(key) {\n",
              "          const element = document.querySelector('#df-5fe50e29-0c82-4217-8b88-4da703f077f1');\n",
              "          const dataTable =\n",
              "            await google.colab.kernel.invokeFunction('convertToInteractive',\n",
              "                                                     [key], {});\n",
              "          if (!dataTable) return;\n",
              "\n",
              "          const docLinkHtml = 'Like what you see? Visit the ' +\n",
              "            '<a target=\"_blank\" href=https://colab.research.google.com/notebooks/data_table.ipynb>data table notebook</a>'\n",
              "            + ' to learn more about interactive tables.';\n",
              "          element.innerHTML = '';\n",
              "          dataTable['output_type'] = 'display_data';\n",
              "          await google.colab.output.renderOutput(dataTable, element);\n",
              "          const docLink = document.createElement('div');\n",
              "          docLink.innerHTML = docLinkHtml;\n",
              "          element.appendChild(docLink);\n",
              "        }\n",
              "      </script>\n",
              "    </div>\n",
              "  </div>\n",
              "  "
            ]
          },
          "metadata": {}
        }
      ]
    },
    {
      "cell_type": "markdown",
      "source": [
        "#### Code block below uses Iterative Imputer to replace NaN in whois_change col"
      ],
      "metadata": {
        "id": "7Fq9Q9lOvTjq"
      }
    },
    {
      "cell_type": "code",
      "source": [
        "df1.drop(df1.columns.difference(['nlp_l_2dn','nlp_3g_dist','nlp_l_fqdn','nlp_1g_e','nlp_2g_dist', \\\n",
        "                                 'nlp_2g_ken','nlp_2g_spe','nlp_3g_ken','nlp_3g_spe','nlp_3g_sumsq', \\\n",
        "                                 'whois_rec','whois_change','class']), axis=1, inplace=True)\n"
      ],
      "metadata": {
        "id": "Q6R0cpmnvmNA"
      },
      "execution_count": null,
      "outputs": []
    },
    {
      "cell_type": "code",
      "source": [
        "from sklearn.experimental import enable_iterative_imputer\n",
        "from sklearn.impute import IterativeImputer\n",
        "from sklearn.linear_model import BayesianRidge\n",
        "\n",
        "df1_1 = df1[['nlp_l_2dn','nlp_3g_dist','nlp_l_fqdn','nlp_1g_e','nlp_2g_dist', \\\n",
        "             'nlp_2g_ken','nlp_2g_spe','nlp_3g_ken','nlp_3g_spe','nlp_3g_sumsq', \\\n",
        "             'whois_rec','whois_change','class']]\n",
        "\n",
        "imptr = IterativeImputer(BayesianRidge())\n",
        "\n",
        "df1_2 = pd.DataFrame(imptr.fit_transform(df1_1), columns = df1_1.columns)"
      ],
      "metadata": {
        "id": "Joznl76tYtZ-"
      },
      "execution_count": null,
      "outputs": []
    },
    {
      "cell_type": "code",
      "source": [
        "display(df1_2)"
      ],
      "metadata": {
        "colab": {
          "base_uri": "https://localhost:8080/",
          "height": 423
        },
        "id": "RZL7AoI2xYWi",
        "outputId": "97d7b2b4-c7dd-4d1f-b5a1-c4189c68118c"
      },
      "execution_count": null,
      "outputs": [
        {
          "output_type": "display_data",
          "data": {
            "text/plain": [
              "     nlp_l_2dn  nlp_3g_dist  nlp_l_fqdn  nlp_1g_e  nlp_2g_dist  nlp_2g_ken  \\\n",
              "0         11.0         12.0        15.0  3.292794         13.0    0.156742   \n",
              "1         14.0         15.0        18.0  4.401881         16.0    0.173686   \n",
              "2         12.0         13.0        16.0  3.745962         14.0    0.162595   \n",
              "3         13.0         14.0        17.0  4.342247         15.0    0.168236   \n",
              "4         13.0         14.0        17.0  3.856742         15.0    0.168236   \n",
              "..         ...          ...         ...       ...          ...         ...   \n",
              "951       12.0         13.0        16.0  3.605330         14.0    0.162595   \n",
              "952       12.0         13.0        16.0  4.194205         13.0    0.156798   \n",
              "953       13.0         14.0        17.0  3.855866         15.0    0.168236   \n",
              "954       12.0         13.0        16.0  3.770244         14.0    0.162595   \n",
              "955       13.0         14.0        17.0  4.207619         15.0    0.168236   \n",
              "\n",
              "     nlp_2g_spe  nlp_3g_ken  nlp_3g_spe  nlp_3g_sumsq  whois_rec  \\\n",
              "0      0.180071    0.045041    0.046527          12.0        0.0   \n",
              "1      0.199537    0.050356    0.052018          15.0        0.0   \n",
              "2      0.186796    0.046880    0.048427          13.0        0.0   \n",
              "3      0.193276    0.048649    0.050254          14.0        0.0   \n",
              "4      0.193276    0.048649    0.050254          14.0        0.0   \n",
              "..          ...         ...         ...           ...        ...   \n",
              "951    0.186796    0.046880    0.048427          13.0        0.0   \n",
              "952    0.180072    0.046880    0.048427          13.0        0.0   \n",
              "953    0.193276    0.048649    0.050254          14.0        0.0   \n",
              "954    0.186796    0.046880    0.048427          13.0        0.0   \n",
              "955    0.193276    0.048649    0.050254          14.0        0.0   \n",
              "\n",
              "     whois_change  class  \n",
              "0        0.742392    1.0  \n",
              "1        0.738102    1.0  \n",
              "2        0.740958    1.0  \n",
              "3        0.739518    1.0  \n",
              "4        0.739541    1.0  \n",
              "..            ...    ...  \n",
              "951      0.740965    1.0  \n",
              "952      0.741104    1.0  \n",
              "953      0.739541    1.0  \n",
              "954      0.740957    1.0  \n",
              "955      0.739524    1.0  \n",
              "\n",
              "[956 rows x 13 columns]"
            ],
            "text/html": [
              "\n",
              "  <div id=\"df-bd31c143-eb7e-4f43-9549-8c965fdc21a6\">\n",
              "    <div class=\"colab-df-container\">\n",
              "      <div>\n",
              "<style scoped>\n",
              "    .dataframe tbody tr th:only-of-type {\n",
              "        vertical-align: middle;\n",
              "    }\n",
              "\n",
              "    .dataframe tbody tr th {\n",
              "        vertical-align: top;\n",
              "    }\n",
              "\n",
              "    .dataframe thead th {\n",
              "        text-align: right;\n",
              "    }\n",
              "</style>\n",
              "<table border=\"1\" class=\"dataframe\">\n",
              "  <thead>\n",
              "    <tr style=\"text-align: right;\">\n",
              "      <th></th>\n",
              "      <th>nlp_l_2dn</th>\n",
              "      <th>nlp_3g_dist</th>\n",
              "      <th>nlp_l_fqdn</th>\n",
              "      <th>nlp_1g_e</th>\n",
              "      <th>nlp_2g_dist</th>\n",
              "      <th>nlp_2g_ken</th>\n",
              "      <th>nlp_2g_spe</th>\n",
              "      <th>nlp_3g_ken</th>\n",
              "      <th>nlp_3g_spe</th>\n",
              "      <th>nlp_3g_sumsq</th>\n",
              "      <th>whois_rec</th>\n",
              "      <th>whois_change</th>\n",
              "      <th>class</th>\n",
              "    </tr>\n",
              "  </thead>\n",
              "  <tbody>\n",
              "    <tr>\n",
              "      <th>0</th>\n",
              "      <td>11.0</td>\n",
              "      <td>12.0</td>\n",
              "      <td>15.0</td>\n",
              "      <td>3.292794</td>\n",
              "      <td>13.0</td>\n",
              "      <td>0.156742</td>\n",
              "      <td>0.180071</td>\n",
              "      <td>0.045041</td>\n",
              "      <td>0.046527</td>\n",
              "      <td>12.0</td>\n",
              "      <td>0.0</td>\n",
              "      <td>0.742392</td>\n",
              "      <td>1.0</td>\n",
              "    </tr>\n",
              "    <tr>\n",
              "      <th>1</th>\n",
              "      <td>14.0</td>\n",
              "      <td>15.0</td>\n",
              "      <td>18.0</td>\n",
              "      <td>4.401881</td>\n",
              "      <td>16.0</td>\n",
              "      <td>0.173686</td>\n",
              "      <td>0.199537</td>\n",
              "      <td>0.050356</td>\n",
              "      <td>0.052018</td>\n",
              "      <td>15.0</td>\n",
              "      <td>0.0</td>\n",
              "      <td>0.738102</td>\n",
              "      <td>1.0</td>\n",
              "    </tr>\n",
              "    <tr>\n",
              "      <th>2</th>\n",
              "      <td>12.0</td>\n",
              "      <td>13.0</td>\n",
              "      <td>16.0</td>\n",
              "      <td>3.745962</td>\n",
              "      <td>14.0</td>\n",
              "      <td>0.162595</td>\n",
              "      <td>0.186796</td>\n",
              "      <td>0.046880</td>\n",
              "      <td>0.048427</td>\n",
              "      <td>13.0</td>\n",
              "      <td>0.0</td>\n",
              "      <td>0.740958</td>\n",
              "      <td>1.0</td>\n",
              "    </tr>\n",
              "    <tr>\n",
              "      <th>3</th>\n",
              "      <td>13.0</td>\n",
              "      <td>14.0</td>\n",
              "      <td>17.0</td>\n",
              "      <td>4.342247</td>\n",
              "      <td>15.0</td>\n",
              "      <td>0.168236</td>\n",
              "      <td>0.193276</td>\n",
              "      <td>0.048649</td>\n",
              "      <td>0.050254</td>\n",
              "      <td>14.0</td>\n",
              "      <td>0.0</td>\n",
              "      <td>0.739518</td>\n",
              "      <td>1.0</td>\n",
              "    </tr>\n",
              "    <tr>\n",
              "      <th>4</th>\n",
              "      <td>13.0</td>\n",
              "      <td>14.0</td>\n",
              "      <td>17.0</td>\n",
              "      <td>3.856742</td>\n",
              "      <td>15.0</td>\n",
              "      <td>0.168236</td>\n",
              "      <td>0.193276</td>\n",
              "      <td>0.048649</td>\n",
              "      <td>0.050254</td>\n",
              "      <td>14.0</td>\n",
              "      <td>0.0</td>\n",
              "      <td>0.739541</td>\n",
              "      <td>1.0</td>\n",
              "    </tr>\n",
              "    <tr>\n",
              "      <th>...</th>\n",
              "      <td>...</td>\n",
              "      <td>...</td>\n",
              "      <td>...</td>\n",
              "      <td>...</td>\n",
              "      <td>...</td>\n",
              "      <td>...</td>\n",
              "      <td>...</td>\n",
              "      <td>...</td>\n",
              "      <td>...</td>\n",
              "      <td>...</td>\n",
              "      <td>...</td>\n",
              "      <td>...</td>\n",
              "      <td>...</td>\n",
              "    </tr>\n",
              "    <tr>\n",
              "      <th>951</th>\n",
              "      <td>12.0</td>\n",
              "      <td>13.0</td>\n",
              "      <td>16.0</td>\n",
              "      <td>3.605330</td>\n",
              "      <td>14.0</td>\n",
              "      <td>0.162595</td>\n",
              "      <td>0.186796</td>\n",
              "      <td>0.046880</td>\n",
              "      <td>0.048427</td>\n",
              "      <td>13.0</td>\n",
              "      <td>0.0</td>\n",
              "      <td>0.740965</td>\n",
              "      <td>1.0</td>\n",
              "    </tr>\n",
              "    <tr>\n",
              "      <th>952</th>\n",
              "      <td>12.0</td>\n",
              "      <td>13.0</td>\n",
              "      <td>16.0</td>\n",
              "      <td>4.194205</td>\n",
              "      <td>13.0</td>\n",
              "      <td>0.156798</td>\n",
              "      <td>0.180072</td>\n",
              "      <td>0.046880</td>\n",
              "      <td>0.048427</td>\n",
              "      <td>13.0</td>\n",
              "      <td>0.0</td>\n",
              "      <td>0.741104</td>\n",
              "      <td>1.0</td>\n",
              "    </tr>\n",
              "    <tr>\n",
              "      <th>953</th>\n",
              "      <td>13.0</td>\n",
              "      <td>14.0</td>\n",
              "      <td>17.0</td>\n",
              "      <td>3.855866</td>\n",
              "      <td>15.0</td>\n",
              "      <td>0.168236</td>\n",
              "      <td>0.193276</td>\n",
              "      <td>0.048649</td>\n",
              "      <td>0.050254</td>\n",
              "      <td>14.0</td>\n",
              "      <td>0.0</td>\n",
              "      <td>0.739541</td>\n",
              "      <td>1.0</td>\n",
              "    </tr>\n",
              "    <tr>\n",
              "      <th>954</th>\n",
              "      <td>12.0</td>\n",
              "      <td>13.0</td>\n",
              "      <td>16.0</td>\n",
              "      <td>3.770244</td>\n",
              "      <td>14.0</td>\n",
              "      <td>0.162595</td>\n",
              "      <td>0.186796</td>\n",
              "      <td>0.046880</td>\n",
              "      <td>0.048427</td>\n",
              "      <td>13.0</td>\n",
              "      <td>0.0</td>\n",
              "      <td>0.740957</td>\n",
              "      <td>1.0</td>\n",
              "    </tr>\n",
              "    <tr>\n",
              "      <th>955</th>\n",
              "      <td>13.0</td>\n",
              "      <td>14.0</td>\n",
              "      <td>17.0</td>\n",
              "      <td>4.207619</td>\n",
              "      <td>15.0</td>\n",
              "      <td>0.168236</td>\n",
              "      <td>0.193276</td>\n",
              "      <td>0.048649</td>\n",
              "      <td>0.050254</td>\n",
              "      <td>14.0</td>\n",
              "      <td>0.0</td>\n",
              "      <td>0.739524</td>\n",
              "      <td>1.0</td>\n",
              "    </tr>\n",
              "  </tbody>\n",
              "</table>\n",
              "<p>956 rows × 13 columns</p>\n",
              "</div>\n",
              "      <button class=\"colab-df-convert\" onclick=\"convertToInteractive('df-bd31c143-eb7e-4f43-9549-8c965fdc21a6')\"\n",
              "              title=\"Convert this dataframe to an interactive table.\"\n",
              "              style=\"display:none;\">\n",
              "        \n",
              "  <svg xmlns=\"http://www.w3.org/2000/svg\" height=\"24px\"viewBox=\"0 0 24 24\"\n",
              "       width=\"24px\">\n",
              "    <path d=\"M0 0h24v24H0V0z\" fill=\"none\"/>\n",
              "    <path d=\"M18.56 5.44l.94 2.06.94-2.06 2.06-.94-2.06-.94-.94-2.06-.94 2.06-2.06.94zm-11 1L8.5 8.5l.94-2.06 2.06-.94-2.06-.94L8.5 2.5l-.94 2.06-2.06.94zm10 10l.94 2.06.94-2.06 2.06-.94-2.06-.94-.94-2.06-.94 2.06-2.06.94z\"/><path d=\"M17.41 7.96l-1.37-1.37c-.4-.4-.92-.59-1.43-.59-.52 0-1.04.2-1.43.59L10.3 9.45l-7.72 7.72c-.78.78-.78 2.05 0 2.83L4 21.41c.39.39.9.59 1.41.59.51 0 1.02-.2 1.41-.59l7.78-7.78 2.81-2.81c.8-.78.8-2.07 0-2.86zM5.41 20L4 18.59l7.72-7.72 1.47 1.35L5.41 20z\"/>\n",
              "  </svg>\n",
              "      </button>\n",
              "      \n",
              "  <style>\n",
              "    .colab-df-container {\n",
              "      display:flex;\n",
              "      flex-wrap:wrap;\n",
              "      gap: 12px;\n",
              "    }\n",
              "\n",
              "    .colab-df-convert {\n",
              "      background-color: #E8F0FE;\n",
              "      border: none;\n",
              "      border-radius: 50%;\n",
              "      cursor: pointer;\n",
              "      display: none;\n",
              "      fill: #1967D2;\n",
              "      height: 32px;\n",
              "      padding: 0 0 0 0;\n",
              "      width: 32px;\n",
              "    }\n",
              "\n",
              "    .colab-df-convert:hover {\n",
              "      background-color: #E2EBFA;\n",
              "      box-shadow: 0px 1px 2px rgba(60, 64, 67, 0.3), 0px 1px 3px 1px rgba(60, 64, 67, 0.15);\n",
              "      fill: #174EA6;\n",
              "    }\n",
              "\n",
              "    [theme=dark] .colab-df-convert {\n",
              "      background-color: #3B4455;\n",
              "      fill: #D2E3FC;\n",
              "    }\n",
              "\n",
              "    [theme=dark] .colab-df-convert:hover {\n",
              "      background-color: #434B5C;\n",
              "      box-shadow: 0px 1px 3px 1px rgba(0, 0, 0, 0.15);\n",
              "      filter: drop-shadow(0px 1px 2px rgba(0, 0, 0, 0.3));\n",
              "      fill: #FFFFFF;\n",
              "    }\n",
              "  </style>\n",
              "\n",
              "      <script>\n",
              "        const buttonEl =\n",
              "          document.querySelector('#df-bd31c143-eb7e-4f43-9549-8c965fdc21a6 button.colab-df-convert');\n",
              "        buttonEl.style.display =\n",
              "          google.colab.kernel.accessAllowed ? 'block' : 'none';\n",
              "\n",
              "        async function convertToInteractive(key) {\n",
              "          const element = document.querySelector('#df-bd31c143-eb7e-4f43-9549-8c965fdc21a6');\n",
              "          const dataTable =\n",
              "            await google.colab.kernel.invokeFunction('convertToInteractive',\n",
              "                                                     [key], {});\n",
              "          if (!dataTable) return;\n",
              "\n",
              "          const docLinkHtml = 'Like what you see? Visit the ' +\n",
              "            '<a target=\"_blank\" href=https://colab.research.google.com/notebooks/data_table.ipynb>data table notebook</a>'\n",
              "            + ' to learn more about interactive tables.';\n",
              "          element.innerHTML = '';\n",
              "          dataTable['output_type'] = 'display_data';\n",
              "          await google.colab.output.renderOutput(dataTable, element);\n",
              "          const docLink = document.createElement('div');\n",
              "          docLink.innerHTML = docLinkHtml;\n",
              "          element.appendChild(docLink);\n",
              "        }\n",
              "      </script>\n",
              "    </div>\n",
              "  </div>\n",
              "  "
            ]
          },
          "metadata": {}
        }
      ]
    },
    {
      "cell_type": "code",
      "source": [
        "df1_2.describe()"
      ],
      "metadata": {
        "colab": {
          "base_uri": "https://localhost:8080/",
          "height": 300
        },
        "id": "xIRBYjkyVMfj",
        "outputId": "94ca9051-3d60-4262-aee1-cd58196718ed"
      },
      "execution_count": null,
      "outputs": [
        {
          "output_type": "execute_result",
          "data": {
            "text/plain": [
              "        nlp_l_2dn  nlp_3g_dist  nlp_l_fqdn    nlp_1g_e  nlp_2g_dist  \\\n",
              "count  956.000000   956.000000  956.000000  956.000000   956.000000   \n",
              "mean    12.713389    13.662134   16.713389    4.066797    14.155858   \n",
              "std      1.530653     1.552525    1.530653    0.463643     1.589816   \n",
              "min     10.000000     8.000000   14.000000    2.936228     8.000000   \n",
              "25%     12.000000    13.000000   16.000000    3.755174    13.000000   \n",
              "50%     13.000000    14.000000   17.000000    4.021352    14.000000   \n",
              "75%     14.000000    15.000000   18.000000    4.340148    15.000000   \n",
              "max     19.000000    20.000000   23.000000    5.887734    20.000000   \n",
              "\n",
              "       nlp_2g_ken  nlp_2g_spe  nlp_3g_ken  nlp_3g_spe  nlp_3g_sumsq  \\\n",
              "count  956.000000  956.000000  956.000000  956.000000    956.000000   \n",
              "mean     0.163255    0.187519    0.047982    0.049565     13.817992   \n",
              "std      0.009062    0.010421    0.002708    0.002798      1.719713   \n",
              "min      0.123240    0.141535    0.036778    0.037991     11.000000   \n",
              "25%      0.156798    0.180072    0.046880    0.048427     13.000000   \n",
              "50%      0.162595    0.186796    0.048649    0.050254     14.000000   \n",
              "75%      0.168236    0.193276    0.050356    0.052018     15.000000   \n",
              "max      0.193955    0.222742    0.058143    0.060062     26.000000   \n",
              "\n",
              "        whois_rec  whois_change  class  \n",
              "count  956.000000    956.000000  956.0  \n",
              "mean     2.123431      0.741236    1.0  \n",
              "std      6.049312      0.381351    0.0  \n",
              "min      0.000000      0.000000    1.0  \n",
              "25%      0.000000      0.738122    1.0  \n",
              "50%      0.000000      0.739846    1.0  \n",
              "75%      0.000000      0.742361    1.0  \n",
              "max     49.000000      4.000000    1.0  "
            ],
            "text/html": [
              "\n",
              "  <div id=\"df-beddae6e-c32d-4aa0-9298-bb60e6bfc59f\">\n",
              "    <div class=\"colab-df-container\">\n",
              "      <div>\n",
              "<style scoped>\n",
              "    .dataframe tbody tr th:only-of-type {\n",
              "        vertical-align: middle;\n",
              "    }\n",
              "\n",
              "    .dataframe tbody tr th {\n",
              "        vertical-align: top;\n",
              "    }\n",
              "\n",
              "    .dataframe thead th {\n",
              "        text-align: right;\n",
              "    }\n",
              "</style>\n",
              "<table border=\"1\" class=\"dataframe\">\n",
              "  <thead>\n",
              "    <tr style=\"text-align: right;\">\n",
              "      <th></th>\n",
              "      <th>nlp_l_2dn</th>\n",
              "      <th>nlp_3g_dist</th>\n",
              "      <th>nlp_l_fqdn</th>\n",
              "      <th>nlp_1g_e</th>\n",
              "      <th>nlp_2g_dist</th>\n",
              "      <th>nlp_2g_ken</th>\n",
              "      <th>nlp_2g_spe</th>\n",
              "      <th>nlp_3g_ken</th>\n",
              "      <th>nlp_3g_spe</th>\n",
              "      <th>nlp_3g_sumsq</th>\n",
              "      <th>whois_rec</th>\n",
              "      <th>whois_change</th>\n",
              "      <th>class</th>\n",
              "    </tr>\n",
              "  </thead>\n",
              "  <tbody>\n",
              "    <tr>\n",
              "      <th>count</th>\n",
              "      <td>956.000000</td>\n",
              "      <td>956.000000</td>\n",
              "      <td>956.000000</td>\n",
              "      <td>956.000000</td>\n",
              "      <td>956.000000</td>\n",
              "      <td>956.000000</td>\n",
              "      <td>956.000000</td>\n",
              "      <td>956.000000</td>\n",
              "      <td>956.000000</td>\n",
              "      <td>956.000000</td>\n",
              "      <td>956.000000</td>\n",
              "      <td>956.000000</td>\n",
              "      <td>956.0</td>\n",
              "    </tr>\n",
              "    <tr>\n",
              "      <th>mean</th>\n",
              "      <td>12.713389</td>\n",
              "      <td>13.662134</td>\n",
              "      <td>16.713389</td>\n",
              "      <td>4.066797</td>\n",
              "      <td>14.155858</td>\n",
              "      <td>0.163255</td>\n",
              "      <td>0.187519</td>\n",
              "      <td>0.047982</td>\n",
              "      <td>0.049565</td>\n",
              "      <td>13.817992</td>\n",
              "      <td>2.123431</td>\n",
              "      <td>0.741236</td>\n",
              "      <td>1.0</td>\n",
              "    </tr>\n",
              "    <tr>\n",
              "      <th>std</th>\n",
              "      <td>1.530653</td>\n",
              "      <td>1.552525</td>\n",
              "      <td>1.530653</td>\n",
              "      <td>0.463643</td>\n",
              "      <td>1.589816</td>\n",
              "      <td>0.009062</td>\n",
              "      <td>0.010421</td>\n",
              "      <td>0.002708</td>\n",
              "      <td>0.002798</td>\n",
              "      <td>1.719713</td>\n",
              "      <td>6.049312</td>\n",
              "      <td>0.381351</td>\n",
              "      <td>0.0</td>\n",
              "    </tr>\n",
              "    <tr>\n",
              "      <th>min</th>\n",
              "      <td>10.000000</td>\n",
              "      <td>8.000000</td>\n",
              "      <td>14.000000</td>\n",
              "      <td>2.936228</td>\n",
              "      <td>8.000000</td>\n",
              "      <td>0.123240</td>\n",
              "      <td>0.141535</td>\n",
              "      <td>0.036778</td>\n",
              "      <td>0.037991</td>\n",
              "      <td>11.000000</td>\n",
              "      <td>0.000000</td>\n",
              "      <td>0.000000</td>\n",
              "      <td>1.0</td>\n",
              "    </tr>\n",
              "    <tr>\n",
              "      <th>25%</th>\n",
              "      <td>12.000000</td>\n",
              "      <td>13.000000</td>\n",
              "      <td>16.000000</td>\n",
              "      <td>3.755174</td>\n",
              "      <td>13.000000</td>\n",
              "      <td>0.156798</td>\n",
              "      <td>0.180072</td>\n",
              "      <td>0.046880</td>\n",
              "      <td>0.048427</td>\n",
              "      <td>13.000000</td>\n",
              "      <td>0.000000</td>\n",
              "      <td>0.738122</td>\n",
              "      <td>1.0</td>\n",
              "    </tr>\n",
              "    <tr>\n",
              "      <th>50%</th>\n",
              "      <td>13.000000</td>\n",
              "      <td>14.000000</td>\n",
              "      <td>17.000000</td>\n",
              "      <td>4.021352</td>\n",
              "      <td>14.000000</td>\n",
              "      <td>0.162595</td>\n",
              "      <td>0.186796</td>\n",
              "      <td>0.048649</td>\n",
              "      <td>0.050254</td>\n",
              "      <td>14.000000</td>\n",
              "      <td>0.000000</td>\n",
              "      <td>0.739846</td>\n",
              "      <td>1.0</td>\n",
              "    </tr>\n",
              "    <tr>\n",
              "      <th>75%</th>\n",
              "      <td>14.000000</td>\n",
              "      <td>15.000000</td>\n",
              "      <td>18.000000</td>\n",
              "      <td>4.340148</td>\n",
              "      <td>15.000000</td>\n",
              "      <td>0.168236</td>\n",
              "      <td>0.193276</td>\n",
              "      <td>0.050356</td>\n",
              "      <td>0.052018</td>\n",
              "      <td>15.000000</td>\n",
              "      <td>0.000000</td>\n",
              "      <td>0.742361</td>\n",
              "      <td>1.0</td>\n",
              "    </tr>\n",
              "    <tr>\n",
              "      <th>max</th>\n",
              "      <td>19.000000</td>\n",
              "      <td>20.000000</td>\n",
              "      <td>23.000000</td>\n",
              "      <td>5.887734</td>\n",
              "      <td>20.000000</td>\n",
              "      <td>0.193955</td>\n",
              "      <td>0.222742</td>\n",
              "      <td>0.058143</td>\n",
              "      <td>0.060062</td>\n",
              "      <td>26.000000</td>\n",
              "      <td>49.000000</td>\n",
              "      <td>4.000000</td>\n",
              "      <td>1.0</td>\n",
              "    </tr>\n",
              "  </tbody>\n",
              "</table>\n",
              "</div>\n",
              "      <button class=\"colab-df-convert\" onclick=\"convertToInteractive('df-beddae6e-c32d-4aa0-9298-bb60e6bfc59f')\"\n",
              "              title=\"Convert this dataframe to an interactive table.\"\n",
              "              style=\"display:none;\">\n",
              "        \n",
              "  <svg xmlns=\"http://www.w3.org/2000/svg\" height=\"24px\"viewBox=\"0 0 24 24\"\n",
              "       width=\"24px\">\n",
              "    <path d=\"M0 0h24v24H0V0z\" fill=\"none\"/>\n",
              "    <path d=\"M18.56 5.44l.94 2.06.94-2.06 2.06-.94-2.06-.94-.94-2.06-.94 2.06-2.06.94zm-11 1L8.5 8.5l.94-2.06 2.06-.94-2.06-.94L8.5 2.5l-.94 2.06-2.06.94zm10 10l.94 2.06.94-2.06 2.06-.94-2.06-.94-.94-2.06-.94 2.06-2.06.94z\"/><path d=\"M17.41 7.96l-1.37-1.37c-.4-.4-.92-.59-1.43-.59-.52 0-1.04.2-1.43.59L10.3 9.45l-7.72 7.72c-.78.78-.78 2.05 0 2.83L4 21.41c.39.39.9.59 1.41.59.51 0 1.02-.2 1.41-.59l7.78-7.78 2.81-2.81c.8-.78.8-2.07 0-2.86zM5.41 20L4 18.59l7.72-7.72 1.47 1.35L5.41 20z\"/>\n",
              "  </svg>\n",
              "      </button>\n",
              "      \n",
              "  <style>\n",
              "    .colab-df-container {\n",
              "      display:flex;\n",
              "      flex-wrap:wrap;\n",
              "      gap: 12px;\n",
              "    }\n",
              "\n",
              "    .colab-df-convert {\n",
              "      background-color: #E8F0FE;\n",
              "      border: none;\n",
              "      border-radius: 50%;\n",
              "      cursor: pointer;\n",
              "      display: none;\n",
              "      fill: #1967D2;\n",
              "      height: 32px;\n",
              "      padding: 0 0 0 0;\n",
              "      width: 32px;\n",
              "    }\n",
              "\n",
              "    .colab-df-convert:hover {\n",
              "      background-color: #E2EBFA;\n",
              "      box-shadow: 0px 1px 2px rgba(60, 64, 67, 0.3), 0px 1px 3px 1px rgba(60, 64, 67, 0.15);\n",
              "      fill: #174EA6;\n",
              "    }\n",
              "\n",
              "    [theme=dark] .colab-df-convert {\n",
              "      background-color: #3B4455;\n",
              "      fill: #D2E3FC;\n",
              "    }\n",
              "\n",
              "    [theme=dark] .colab-df-convert:hover {\n",
              "      background-color: #434B5C;\n",
              "      box-shadow: 0px 1px 3px 1px rgba(0, 0, 0, 0.15);\n",
              "      filter: drop-shadow(0px 1px 2px rgba(0, 0, 0, 0.3));\n",
              "      fill: #FFFFFF;\n",
              "    }\n",
              "  </style>\n",
              "\n",
              "      <script>\n",
              "        const buttonEl =\n",
              "          document.querySelector('#df-beddae6e-c32d-4aa0-9298-bb60e6bfc59f button.colab-df-convert');\n",
              "        buttonEl.style.display =\n",
              "          google.colab.kernel.accessAllowed ? 'block' : 'none';\n",
              "\n",
              "        async function convertToInteractive(key) {\n",
              "          const element = document.querySelector('#df-beddae6e-c32d-4aa0-9298-bb60e6bfc59f');\n",
              "          const dataTable =\n",
              "            await google.colab.kernel.invokeFunction('convertToInteractive',\n",
              "                                                     [key], {});\n",
              "          if (!dataTable) return;\n",
              "\n",
              "          const docLinkHtml = 'Like what you see? Visit the ' +\n",
              "            '<a target=\"_blank\" href=https://colab.research.google.com/notebooks/data_table.ipynb>data table notebook</a>'\n",
              "            + ' to learn more about interactive tables.';\n",
              "          element.innerHTML = '';\n",
              "          dataTable['output_type'] = 'display_data';\n",
              "          await google.colab.output.renderOutput(dataTable, element);\n",
              "          const docLink = document.createElement('div');\n",
              "          docLink.innerHTML = docLinkHtml;\n",
              "          element.appendChild(docLink);\n",
              "        }\n",
              "      </script>\n",
              "    </div>\n",
              "  </div>\n",
              "  "
            ]
          },
          "metadata": {},
          "execution_count": 6
        }
      ]
    },
    {
      "cell_type": "code",
      "source": [
        "def load_data2():\n",
        "  return pd.read_csv(Path(\"/content/gdrive/MyDrive/Colab/Data/loads/raw_data/tranco.1000+whois-history.csv\"))\n",
        "\n",
        "df2 = load_data2()\n",
        "\n",
        "df2.drop(df2.columns.difference(['nlp_l_2dn','nlp_3g_dist','nlp_l_fqdn','nlp_1g_e','nlp_2g_dist', \\\n",
        "                                 'nlp_2g_ken','nlp_2g_spe','nlp_3g_ken','nlp_3g_spe','nlp_3g_sumsq', \\\n",
        "                                 'whois_rec','whois_change','class']), axis=1, inplace=True)"
      ],
      "metadata": {
        "id": "zpBa3_b3j1_b"
      },
      "execution_count": null,
      "outputs": []
    },
    {
      "cell_type": "code",
      "source": [
        "df2.describe()"
      ],
      "metadata": {
        "colab": {
          "base_uri": "https://localhost:8080/",
          "height": 300
        },
        "id": "bD2WWhEaVQR1",
        "outputId": "2bf4c58b-ac3c-4193-b992-47bdd712c8c3"
      },
      "execution_count": null,
      "outputs": [
        {
          "output_type": "execute_result",
          "data": {
            "text/plain": [
              "         nlp_1g_e  nlp_2g_dist  nlp_2g_ken  nlp_2g_spe  nlp_3g_dist  \\\n",
              "count  998.000000   998.000000  998.000000  998.000000   998.000000   \n",
              "mean     2.170840     8.746493    0.126887    0.145765     7.868737   \n",
              "std      0.820674     2.978839    0.021753    0.024986     3.056113   \n",
              "min      0.482578     2.000000    0.061742    0.070932     1.000000   \n",
              "25%      1.570859     7.000000    0.115286    0.132445     6.000000   \n",
              "50%      2.072205     9.000000    0.130620    0.150061     8.000000   \n",
              "75%      2.660217    10.000000    0.137680    0.158118    10.000000   \n",
              "max      5.147269    19.000000    0.189118    0.217187    19.000000   \n",
              "\n",
              "       nlp_3g_ken  nlp_3g_spe  nlp_3g_sumsq   nlp_l_2dn  nlp_l_fqdn  \\\n",
              "count  998.000000  998.000000    998.000000  998.000000  998.000000   \n",
              "mean     0.035774    0.036954      7.952906    6.690381   10.981964   \n",
              "std      0.007118    0.007353      3.190505    3.194988    3.122326   \n",
              "min      0.013004    0.013433      1.000000    1.000000    4.000000   \n",
              "25%      0.031851    0.032902      6.000000    4.000000    9.000000   \n",
              "50%      0.036778    0.037991      8.000000    6.000000   11.000000   \n",
              "75%      0.041118    0.042474     10.000000    9.000000   13.000000   \n",
              "max      0.056671    0.058541     22.000000   18.000000   22.000000   \n",
              "\n",
              "        whois_rec  whois_change  class  \n",
              "count  998.000000    998.000000  998.0  \n",
              "mean    28.958918      0.443888    0.0  \n",
              "std      9.375340      0.977355    0.0  \n",
              "min      2.000000      0.000000    0.0  \n",
              "25%     24.000000      0.000000    0.0  \n",
              "50%     28.000000      0.000000    0.0  \n",
              "75%     33.000000      0.000000    0.0  \n",
              "max    110.000000      4.000000    0.0  "
            ],
            "text/html": [
              "\n",
              "  <div id=\"df-079cb18f-7a24-42ac-bedb-9bf1d523a938\">\n",
              "    <div class=\"colab-df-container\">\n",
              "      <div>\n",
              "<style scoped>\n",
              "    .dataframe tbody tr th:only-of-type {\n",
              "        vertical-align: middle;\n",
              "    }\n",
              "\n",
              "    .dataframe tbody tr th {\n",
              "        vertical-align: top;\n",
              "    }\n",
              "\n",
              "    .dataframe thead th {\n",
              "        text-align: right;\n",
              "    }\n",
              "</style>\n",
              "<table border=\"1\" class=\"dataframe\">\n",
              "  <thead>\n",
              "    <tr style=\"text-align: right;\">\n",
              "      <th></th>\n",
              "      <th>nlp_1g_e</th>\n",
              "      <th>nlp_2g_dist</th>\n",
              "      <th>nlp_2g_ken</th>\n",
              "      <th>nlp_2g_spe</th>\n",
              "      <th>nlp_3g_dist</th>\n",
              "      <th>nlp_3g_ken</th>\n",
              "      <th>nlp_3g_spe</th>\n",
              "      <th>nlp_3g_sumsq</th>\n",
              "      <th>nlp_l_2dn</th>\n",
              "      <th>nlp_l_fqdn</th>\n",
              "      <th>whois_rec</th>\n",
              "      <th>whois_change</th>\n",
              "      <th>class</th>\n",
              "    </tr>\n",
              "  </thead>\n",
              "  <tbody>\n",
              "    <tr>\n",
              "      <th>count</th>\n",
              "      <td>998.000000</td>\n",
              "      <td>998.000000</td>\n",
              "      <td>998.000000</td>\n",
              "      <td>998.000000</td>\n",
              "      <td>998.000000</td>\n",
              "      <td>998.000000</td>\n",
              "      <td>998.000000</td>\n",
              "      <td>998.000000</td>\n",
              "      <td>998.000000</td>\n",
              "      <td>998.000000</td>\n",
              "      <td>998.000000</td>\n",
              "      <td>998.000000</td>\n",
              "      <td>998.0</td>\n",
              "    </tr>\n",
              "    <tr>\n",
              "      <th>mean</th>\n",
              "      <td>2.170840</td>\n",
              "      <td>8.746493</td>\n",
              "      <td>0.126887</td>\n",
              "      <td>0.145765</td>\n",
              "      <td>7.868737</td>\n",
              "      <td>0.035774</td>\n",
              "      <td>0.036954</td>\n",
              "      <td>7.952906</td>\n",
              "      <td>6.690381</td>\n",
              "      <td>10.981964</td>\n",
              "      <td>28.958918</td>\n",
              "      <td>0.443888</td>\n",
              "      <td>0.0</td>\n",
              "    </tr>\n",
              "    <tr>\n",
              "      <th>std</th>\n",
              "      <td>0.820674</td>\n",
              "      <td>2.978839</td>\n",
              "      <td>0.021753</td>\n",
              "      <td>0.024986</td>\n",
              "      <td>3.056113</td>\n",
              "      <td>0.007118</td>\n",
              "      <td>0.007353</td>\n",
              "      <td>3.190505</td>\n",
              "      <td>3.194988</td>\n",
              "      <td>3.122326</td>\n",
              "      <td>9.375340</td>\n",
              "      <td>0.977355</td>\n",
              "      <td>0.0</td>\n",
              "    </tr>\n",
              "    <tr>\n",
              "      <th>min</th>\n",
              "      <td>0.482578</td>\n",
              "      <td>2.000000</td>\n",
              "      <td>0.061742</td>\n",
              "      <td>0.070932</td>\n",
              "      <td>1.000000</td>\n",
              "      <td>0.013004</td>\n",
              "      <td>0.013433</td>\n",
              "      <td>1.000000</td>\n",
              "      <td>1.000000</td>\n",
              "      <td>4.000000</td>\n",
              "      <td>2.000000</td>\n",
              "      <td>0.000000</td>\n",
              "      <td>0.0</td>\n",
              "    </tr>\n",
              "    <tr>\n",
              "      <th>25%</th>\n",
              "      <td>1.570859</td>\n",
              "      <td>7.000000</td>\n",
              "      <td>0.115286</td>\n",
              "      <td>0.132445</td>\n",
              "      <td>6.000000</td>\n",
              "      <td>0.031851</td>\n",
              "      <td>0.032902</td>\n",
              "      <td>6.000000</td>\n",
              "      <td>4.000000</td>\n",
              "      <td>9.000000</td>\n",
              "      <td>24.000000</td>\n",
              "      <td>0.000000</td>\n",
              "      <td>0.0</td>\n",
              "    </tr>\n",
              "    <tr>\n",
              "      <th>50%</th>\n",
              "      <td>2.072205</td>\n",
              "      <td>9.000000</td>\n",
              "      <td>0.130620</td>\n",
              "      <td>0.150061</td>\n",
              "      <td>8.000000</td>\n",
              "      <td>0.036778</td>\n",
              "      <td>0.037991</td>\n",
              "      <td>8.000000</td>\n",
              "      <td>6.000000</td>\n",
              "      <td>11.000000</td>\n",
              "      <td>28.000000</td>\n",
              "      <td>0.000000</td>\n",
              "      <td>0.0</td>\n",
              "    </tr>\n",
              "    <tr>\n",
              "      <th>75%</th>\n",
              "      <td>2.660217</td>\n",
              "      <td>10.000000</td>\n",
              "      <td>0.137680</td>\n",
              "      <td>0.158118</td>\n",
              "      <td>10.000000</td>\n",
              "      <td>0.041118</td>\n",
              "      <td>0.042474</td>\n",
              "      <td>10.000000</td>\n",
              "      <td>9.000000</td>\n",
              "      <td>13.000000</td>\n",
              "      <td>33.000000</td>\n",
              "      <td>0.000000</td>\n",
              "      <td>0.0</td>\n",
              "    </tr>\n",
              "    <tr>\n",
              "      <th>max</th>\n",
              "      <td>5.147269</td>\n",
              "      <td>19.000000</td>\n",
              "      <td>0.189118</td>\n",
              "      <td>0.217187</td>\n",
              "      <td>19.000000</td>\n",
              "      <td>0.056671</td>\n",
              "      <td>0.058541</td>\n",
              "      <td>22.000000</td>\n",
              "      <td>18.000000</td>\n",
              "      <td>22.000000</td>\n",
              "      <td>110.000000</td>\n",
              "      <td>4.000000</td>\n",
              "      <td>0.0</td>\n",
              "    </tr>\n",
              "  </tbody>\n",
              "</table>\n",
              "</div>\n",
              "      <button class=\"colab-df-convert\" onclick=\"convertToInteractive('df-079cb18f-7a24-42ac-bedb-9bf1d523a938')\"\n",
              "              title=\"Convert this dataframe to an interactive table.\"\n",
              "              style=\"display:none;\">\n",
              "        \n",
              "  <svg xmlns=\"http://www.w3.org/2000/svg\" height=\"24px\"viewBox=\"0 0 24 24\"\n",
              "       width=\"24px\">\n",
              "    <path d=\"M0 0h24v24H0V0z\" fill=\"none\"/>\n",
              "    <path d=\"M18.56 5.44l.94 2.06.94-2.06 2.06-.94-2.06-.94-.94-2.06-.94 2.06-2.06.94zm-11 1L8.5 8.5l.94-2.06 2.06-.94-2.06-.94L8.5 2.5l-.94 2.06-2.06.94zm10 10l.94 2.06.94-2.06 2.06-.94-2.06-.94-.94-2.06-.94 2.06-2.06.94z\"/><path d=\"M17.41 7.96l-1.37-1.37c-.4-.4-.92-.59-1.43-.59-.52 0-1.04.2-1.43.59L10.3 9.45l-7.72 7.72c-.78.78-.78 2.05 0 2.83L4 21.41c.39.39.9.59 1.41.59.51 0 1.02-.2 1.41-.59l7.78-7.78 2.81-2.81c.8-.78.8-2.07 0-2.86zM5.41 20L4 18.59l7.72-7.72 1.47 1.35L5.41 20z\"/>\n",
              "  </svg>\n",
              "      </button>\n",
              "      \n",
              "  <style>\n",
              "    .colab-df-container {\n",
              "      display:flex;\n",
              "      flex-wrap:wrap;\n",
              "      gap: 12px;\n",
              "    }\n",
              "\n",
              "    .colab-df-convert {\n",
              "      background-color: #E8F0FE;\n",
              "      border: none;\n",
              "      border-radius: 50%;\n",
              "      cursor: pointer;\n",
              "      display: none;\n",
              "      fill: #1967D2;\n",
              "      height: 32px;\n",
              "      padding: 0 0 0 0;\n",
              "      width: 32px;\n",
              "    }\n",
              "\n",
              "    .colab-df-convert:hover {\n",
              "      background-color: #E2EBFA;\n",
              "      box-shadow: 0px 1px 2px rgba(60, 64, 67, 0.3), 0px 1px 3px 1px rgba(60, 64, 67, 0.15);\n",
              "      fill: #174EA6;\n",
              "    }\n",
              "\n",
              "    [theme=dark] .colab-df-convert {\n",
              "      background-color: #3B4455;\n",
              "      fill: #D2E3FC;\n",
              "    }\n",
              "\n",
              "    [theme=dark] .colab-df-convert:hover {\n",
              "      background-color: #434B5C;\n",
              "      box-shadow: 0px 1px 3px 1px rgba(0, 0, 0, 0.15);\n",
              "      filter: drop-shadow(0px 1px 2px rgba(0, 0, 0, 0.3));\n",
              "      fill: #FFFFFF;\n",
              "    }\n",
              "  </style>\n",
              "\n",
              "      <script>\n",
              "        const buttonEl =\n",
              "          document.querySelector('#df-079cb18f-7a24-42ac-bedb-9bf1d523a938 button.colab-df-convert');\n",
              "        buttonEl.style.display =\n",
              "          google.colab.kernel.accessAllowed ? 'block' : 'none';\n",
              "\n",
              "        async function convertToInteractive(key) {\n",
              "          const element = document.querySelector('#df-079cb18f-7a24-42ac-bedb-9bf1d523a938');\n",
              "          const dataTable =\n",
              "            await google.colab.kernel.invokeFunction('convertToInteractive',\n",
              "                                                     [key], {});\n",
              "          if (!dataTable) return;\n",
              "\n",
              "          const docLinkHtml = 'Like what you see? Visit the ' +\n",
              "            '<a target=\"_blank\" href=https://colab.research.google.com/notebooks/data_table.ipynb>data table notebook</a>'\n",
              "            + ' to learn more about interactive tables.';\n",
              "          element.innerHTML = '';\n",
              "          dataTable['output_type'] = 'display_data';\n",
              "          await google.colab.output.renderOutput(dataTable, element);\n",
              "          const docLink = document.createElement('div');\n",
              "          docLink.innerHTML = docLinkHtml;\n",
              "          element.appendChild(docLink);\n",
              "        }\n",
              "      </script>\n",
              "    </div>\n",
              "  </div>\n",
              "  "
            ]
          },
          "metadata": {},
          "execution_count": 8
        }
      ]
    },
    {
      "cell_type": "code",
      "source": [
        "data_load = [df1_2, df2]\n",
        "df = pd.concat(data_load).reset_index(drop=True)"
      ],
      "metadata": {
        "id": "bVS-RjdQkB2T"
      },
      "execution_count": null,
      "outputs": []
    },
    {
      "cell_type": "code",
      "source": [
        "display(df)"
      ],
      "metadata": {
        "colab": {
          "base_uri": "https://localhost:8080/",
          "height": 423
        },
        "id": "tOM25Zzu2tdZ",
        "outputId": "500d078a-db42-4610-b618-d1607029079d"
      },
      "execution_count": null,
      "outputs": [
        {
          "output_type": "display_data",
          "data": {
            "text/plain": [
              "      nlp_l_2dn  nlp_3g_dist  nlp_l_fqdn  nlp_1g_e  nlp_2g_dist  nlp_2g_ken  \\\n",
              "0          11.0         12.0        15.0  3.292794         13.0    0.156742   \n",
              "1          14.0         15.0        18.0  4.401881         16.0    0.173686   \n",
              "2          12.0         13.0        16.0  3.745962         14.0    0.162595   \n",
              "3          13.0         14.0        17.0  4.342247         15.0    0.168236   \n",
              "4          13.0         14.0        17.0  3.856742         15.0    0.168236   \n",
              "...         ...          ...         ...       ...          ...         ...   \n",
              "1949        6.0          7.0        10.0  1.621124          8.0    0.123198   \n",
              "1950       10.0         11.0        14.0  2.580115         12.0    0.150651   \n",
              "1951        4.0          5.0         8.0  1.354726          6.0    0.106775   \n",
              "1952        3.0          6.0        10.0  1.500263          7.0    0.115286   \n",
              "1953        4.0          4.0         7.0  1.103150          5.0    0.097510   \n",
              "\n",
              "      nlp_2g_spe  nlp_3g_ken  nlp_3g_spe  nlp_3g_sumsq  whois_rec  \\\n",
              "0       0.180071    0.045041    0.046527          12.0        0.0   \n",
              "1       0.199537    0.050356    0.052018          15.0        0.0   \n",
              "2       0.186796    0.046880    0.048427          13.0        0.0   \n",
              "3       0.193276    0.048649    0.050254          14.0        0.0   \n",
              "4       0.193276    0.048649    0.050254          14.0        0.0   \n",
              "...          ...         ...         ...           ...        ...   \n",
              "1949    0.141534    0.034403    0.035538           7.0       22.0   \n",
              "1950    0.173074    0.043124    0.044547          11.0       19.0   \n",
              "1951    0.122667    0.029076    0.030036           5.0       35.0   \n",
              "1952    0.132445    0.031851    0.032902           6.0       13.0   \n",
              "1953    0.112023    0.026007    0.026865           4.0       53.0   \n",
              "\n",
              "      whois_change  class  \n",
              "0         0.742392    1.0  \n",
              "1         0.738102    1.0  \n",
              "2         0.740958    1.0  \n",
              "3         0.739518    1.0  \n",
              "4         0.739541    1.0  \n",
              "...            ...    ...  \n",
              "1949      0.000000    0.0  \n",
              "1950      0.000000    0.0  \n",
              "1951      0.000000    0.0  \n",
              "1952      1.000000    0.0  \n",
              "1953      1.000000    0.0  \n",
              "\n",
              "[1954 rows x 13 columns]"
            ],
            "text/html": [
              "\n",
              "  <div id=\"df-800414cf-efc8-4e9e-9392-833d5a7eb348\">\n",
              "    <div class=\"colab-df-container\">\n",
              "      <div>\n",
              "<style scoped>\n",
              "    .dataframe tbody tr th:only-of-type {\n",
              "        vertical-align: middle;\n",
              "    }\n",
              "\n",
              "    .dataframe tbody tr th {\n",
              "        vertical-align: top;\n",
              "    }\n",
              "\n",
              "    .dataframe thead th {\n",
              "        text-align: right;\n",
              "    }\n",
              "</style>\n",
              "<table border=\"1\" class=\"dataframe\">\n",
              "  <thead>\n",
              "    <tr style=\"text-align: right;\">\n",
              "      <th></th>\n",
              "      <th>nlp_l_2dn</th>\n",
              "      <th>nlp_3g_dist</th>\n",
              "      <th>nlp_l_fqdn</th>\n",
              "      <th>nlp_1g_e</th>\n",
              "      <th>nlp_2g_dist</th>\n",
              "      <th>nlp_2g_ken</th>\n",
              "      <th>nlp_2g_spe</th>\n",
              "      <th>nlp_3g_ken</th>\n",
              "      <th>nlp_3g_spe</th>\n",
              "      <th>nlp_3g_sumsq</th>\n",
              "      <th>whois_rec</th>\n",
              "      <th>whois_change</th>\n",
              "      <th>class</th>\n",
              "    </tr>\n",
              "  </thead>\n",
              "  <tbody>\n",
              "    <tr>\n",
              "      <th>0</th>\n",
              "      <td>11.0</td>\n",
              "      <td>12.0</td>\n",
              "      <td>15.0</td>\n",
              "      <td>3.292794</td>\n",
              "      <td>13.0</td>\n",
              "      <td>0.156742</td>\n",
              "      <td>0.180071</td>\n",
              "      <td>0.045041</td>\n",
              "      <td>0.046527</td>\n",
              "      <td>12.0</td>\n",
              "      <td>0.0</td>\n",
              "      <td>0.742392</td>\n",
              "      <td>1.0</td>\n",
              "    </tr>\n",
              "    <tr>\n",
              "      <th>1</th>\n",
              "      <td>14.0</td>\n",
              "      <td>15.0</td>\n",
              "      <td>18.0</td>\n",
              "      <td>4.401881</td>\n",
              "      <td>16.0</td>\n",
              "      <td>0.173686</td>\n",
              "      <td>0.199537</td>\n",
              "      <td>0.050356</td>\n",
              "      <td>0.052018</td>\n",
              "      <td>15.0</td>\n",
              "      <td>0.0</td>\n",
              "      <td>0.738102</td>\n",
              "      <td>1.0</td>\n",
              "    </tr>\n",
              "    <tr>\n",
              "      <th>2</th>\n",
              "      <td>12.0</td>\n",
              "      <td>13.0</td>\n",
              "      <td>16.0</td>\n",
              "      <td>3.745962</td>\n",
              "      <td>14.0</td>\n",
              "      <td>0.162595</td>\n",
              "      <td>0.186796</td>\n",
              "      <td>0.046880</td>\n",
              "      <td>0.048427</td>\n",
              "      <td>13.0</td>\n",
              "      <td>0.0</td>\n",
              "      <td>0.740958</td>\n",
              "      <td>1.0</td>\n",
              "    </tr>\n",
              "    <tr>\n",
              "      <th>3</th>\n",
              "      <td>13.0</td>\n",
              "      <td>14.0</td>\n",
              "      <td>17.0</td>\n",
              "      <td>4.342247</td>\n",
              "      <td>15.0</td>\n",
              "      <td>0.168236</td>\n",
              "      <td>0.193276</td>\n",
              "      <td>0.048649</td>\n",
              "      <td>0.050254</td>\n",
              "      <td>14.0</td>\n",
              "      <td>0.0</td>\n",
              "      <td>0.739518</td>\n",
              "      <td>1.0</td>\n",
              "    </tr>\n",
              "    <tr>\n",
              "      <th>4</th>\n",
              "      <td>13.0</td>\n",
              "      <td>14.0</td>\n",
              "      <td>17.0</td>\n",
              "      <td>3.856742</td>\n",
              "      <td>15.0</td>\n",
              "      <td>0.168236</td>\n",
              "      <td>0.193276</td>\n",
              "      <td>0.048649</td>\n",
              "      <td>0.050254</td>\n",
              "      <td>14.0</td>\n",
              "      <td>0.0</td>\n",
              "      <td>0.739541</td>\n",
              "      <td>1.0</td>\n",
              "    </tr>\n",
              "    <tr>\n",
              "      <th>...</th>\n",
              "      <td>...</td>\n",
              "      <td>...</td>\n",
              "      <td>...</td>\n",
              "      <td>...</td>\n",
              "      <td>...</td>\n",
              "      <td>...</td>\n",
              "      <td>...</td>\n",
              "      <td>...</td>\n",
              "      <td>...</td>\n",
              "      <td>...</td>\n",
              "      <td>...</td>\n",
              "      <td>...</td>\n",
              "      <td>...</td>\n",
              "    </tr>\n",
              "    <tr>\n",
              "      <th>1949</th>\n",
              "      <td>6.0</td>\n",
              "      <td>7.0</td>\n",
              "      <td>10.0</td>\n",
              "      <td>1.621124</td>\n",
              "      <td>8.0</td>\n",
              "      <td>0.123198</td>\n",
              "      <td>0.141534</td>\n",
              "      <td>0.034403</td>\n",
              "      <td>0.035538</td>\n",
              "      <td>7.0</td>\n",
              "      <td>22.0</td>\n",
              "      <td>0.000000</td>\n",
              "      <td>0.0</td>\n",
              "    </tr>\n",
              "    <tr>\n",
              "      <th>1950</th>\n",
              "      <td>10.0</td>\n",
              "      <td>11.0</td>\n",
              "      <td>14.0</td>\n",
              "      <td>2.580115</td>\n",
              "      <td>12.0</td>\n",
              "      <td>0.150651</td>\n",
              "      <td>0.173074</td>\n",
              "      <td>0.043124</td>\n",
              "      <td>0.044547</td>\n",
              "      <td>11.0</td>\n",
              "      <td>19.0</td>\n",
              "      <td>0.000000</td>\n",
              "      <td>0.0</td>\n",
              "    </tr>\n",
              "    <tr>\n",
              "      <th>1951</th>\n",
              "      <td>4.0</td>\n",
              "      <td>5.0</td>\n",
              "      <td>8.0</td>\n",
              "      <td>1.354726</td>\n",
              "      <td>6.0</td>\n",
              "      <td>0.106775</td>\n",
              "      <td>0.122667</td>\n",
              "      <td>0.029076</td>\n",
              "      <td>0.030036</td>\n",
              "      <td>5.0</td>\n",
              "      <td>35.0</td>\n",
              "      <td>0.000000</td>\n",
              "      <td>0.0</td>\n",
              "    </tr>\n",
              "    <tr>\n",
              "      <th>1952</th>\n",
              "      <td>3.0</td>\n",
              "      <td>6.0</td>\n",
              "      <td>10.0</td>\n",
              "      <td>1.500263</td>\n",
              "      <td>7.0</td>\n",
              "      <td>0.115286</td>\n",
              "      <td>0.132445</td>\n",
              "      <td>0.031851</td>\n",
              "      <td>0.032902</td>\n",
              "      <td>6.0</td>\n",
              "      <td>13.0</td>\n",
              "      <td>1.000000</td>\n",
              "      <td>0.0</td>\n",
              "    </tr>\n",
              "    <tr>\n",
              "      <th>1953</th>\n",
              "      <td>4.0</td>\n",
              "      <td>4.0</td>\n",
              "      <td>7.0</td>\n",
              "      <td>1.103150</td>\n",
              "      <td>5.0</td>\n",
              "      <td>0.097510</td>\n",
              "      <td>0.112023</td>\n",
              "      <td>0.026007</td>\n",
              "      <td>0.026865</td>\n",
              "      <td>4.0</td>\n",
              "      <td>53.0</td>\n",
              "      <td>1.000000</td>\n",
              "      <td>0.0</td>\n",
              "    </tr>\n",
              "  </tbody>\n",
              "</table>\n",
              "<p>1954 rows × 13 columns</p>\n",
              "</div>\n",
              "      <button class=\"colab-df-convert\" onclick=\"convertToInteractive('df-800414cf-efc8-4e9e-9392-833d5a7eb348')\"\n",
              "              title=\"Convert this dataframe to an interactive table.\"\n",
              "              style=\"display:none;\">\n",
              "        \n",
              "  <svg xmlns=\"http://www.w3.org/2000/svg\" height=\"24px\"viewBox=\"0 0 24 24\"\n",
              "       width=\"24px\">\n",
              "    <path d=\"M0 0h24v24H0V0z\" fill=\"none\"/>\n",
              "    <path d=\"M18.56 5.44l.94 2.06.94-2.06 2.06-.94-2.06-.94-.94-2.06-.94 2.06-2.06.94zm-11 1L8.5 8.5l.94-2.06 2.06-.94-2.06-.94L8.5 2.5l-.94 2.06-2.06.94zm10 10l.94 2.06.94-2.06 2.06-.94-2.06-.94-.94-2.06-.94 2.06-2.06.94z\"/><path d=\"M17.41 7.96l-1.37-1.37c-.4-.4-.92-.59-1.43-.59-.52 0-1.04.2-1.43.59L10.3 9.45l-7.72 7.72c-.78.78-.78 2.05 0 2.83L4 21.41c.39.39.9.59 1.41.59.51 0 1.02-.2 1.41-.59l7.78-7.78 2.81-2.81c.8-.78.8-2.07 0-2.86zM5.41 20L4 18.59l7.72-7.72 1.47 1.35L5.41 20z\"/>\n",
              "  </svg>\n",
              "      </button>\n",
              "      \n",
              "  <style>\n",
              "    .colab-df-container {\n",
              "      display:flex;\n",
              "      flex-wrap:wrap;\n",
              "      gap: 12px;\n",
              "    }\n",
              "\n",
              "    .colab-df-convert {\n",
              "      background-color: #E8F0FE;\n",
              "      border: none;\n",
              "      border-radius: 50%;\n",
              "      cursor: pointer;\n",
              "      display: none;\n",
              "      fill: #1967D2;\n",
              "      height: 32px;\n",
              "      padding: 0 0 0 0;\n",
              "      width: 32px;\n",
              "    }\n",
              "\n",
              "    .colab-df-convert:hover {\n",
              "      background-color: #E2EBFA;\n",
              "      box-shadow: 0px 1px 2px rgba(60, 64, 67, 0.3), 0px 1px 3px 1px rgba(60, 64, 67, 0.15);\n",
              "      fill: #174EA6;\n",
              "    }\n",
              "\n",
              "    [theme=dark] .colab-df-convert {\n",
              "      background-color: #3B4455;\n",
              "      fill: #D2E3FC;\n",
              "    }\n",
              "\n",
              "    [theme=dark] .colab-df-convert:hover {\n",
              "      background-color: #434B5C;\n",
              "      box-shadow: 0px 1px 3px 1px rgba(0, 0, 0, 0.15);\n",
              "      filter: drop-shadow(0px 1px 2px rgba(0, 0, 0, 0.3));\n",
              "      fill: #FFFFFF;\n",
              "    }\n",
              "  </style>\n",
              "\n",
              "      <script>\n",
              "        const buttonEl =\n",
              "          document.querySelector('#df-800414cf-efc8-4e9e-9392-833d5a7eb348 button.colab-df-convert');\n",
              "        buttonEl.style.display =\n",
              "          google.colab.kernel.accessAllowed ? 'block' : 'none';\n",
              "\n",
              "        async function convertToInteractive(key) {\n",
              "          const element = document.querySelector('#df-800414cf-efc8-4e9e-9392-833d5a7eb348');\n",
              "          const dataTable =\n",
              "            await google.colab.kernel.invokeFunction('convertToInteractive',\n",
              "                                                     [key], {});\n",
              "          if (!dataTable) return;\n",
              "\n",
              "          const docLinkHtml = 'Like what you see? Visit the ' +\n",
              "            '<a target=\"_blank\" href=https://colab.research.google.com/notebooks/data_table.ipynb>data table notebook</a>'\n",
              "            + ' to learn more about interactive tables.';\n",
              "          element.innerHTML = '';\n",
              "          dataTable['output_type'] = 'display_data';\n",
              "          await google.colab.output.renderOutput(dataTable, element);\n",
              "          const docLink = document.createElement('div');\n",
              "          docLink.innerHTML = docLinkHtml;\n",
              "          element.appendChild(docLink);\n",
              "        }\n",
              "      </script>\n",
              "    </div>\n",
              "  </div>\n",
              "  "
            ]
          },
          "metadata": {}
        }
      ]
    },
    {
      "cell_type": "code",
      "source": [
        "df.isnull().sum().sort_values(ascending=False)"
      ],
      "metadata": {
        "colab": {
          "base_uri": "https://localhost:8080/"
        },
        "id": "O1UUK_Y_7Tp5",
        "outputId": "37bb674a-bcf6-4bb5-92a1-9af9f1b69410"
      },
      "execution_count": null,
      "outputs": [
        {
          "output_type": "execute_result",
          "data": {
            "text/plain": [
              "nlp_l_2dn       0\n",
              "nlp_3g_dist     0\n",
              "nlp_l_fqdn      0\n",
              "nlp_1g_e        0\n",
              "nlp_2g_dist     0\n",
              "nlp_2g_ken      0\n",
              "nlp_2g_spe      0\n",
              "nlp_3g_ken      0\n",
              "nlp_3g_spe      0\n",
              "nlp_3g_sumsq    0\n",
              "whois_rec       0\n",
              "whois_change    0\n",
              "class           0\n",
              "dtype: int64"
            ]
          },
          "metadata": {},
          "execution_count": 182
        }
      ]
    },
    {
      "cell_type": "code",
      "source": [
        "df.dropna(how=\"any\", inplace=True)"
      ],
      "metadata": {
        "id": "tesu6-pi7my5"
      },
      "execution_count": null,
      "outputs": []
    },
    {
      "cell_type": "code",
      "source": [
        "df.info()"
      ],
      "metadata": {
        "colab": {
          "base_uri": "https://localhost:8080/"
        },
        "id": "m9SRL4sGCC2Y",
        "outputId": "fc0633f6-b260-4315-a70a-1bf6e8e5a36a"
      },
      "execution_count": null,
      "outputs": [
        {
          "output_type": "stream",
          "name": "stdout",
          "text": [
            "<class 'pandas.core.frame.DataFrame'>\n",
            "Int64Index: 1954 entries, 0 to 1953\n",
            "Data columns (total 13 columns):\n",
            " #   Column        Non-Null Count  Dtype  \n",
            "---  ------        --------------  -----  \n",
            " 0   nlp_l_2dn     1954 non-null   float64\n",
            " 1   nlp_3g_dist   1954 non-null   float64\n",
            " 2   nlp_l_fqdn    1954 non-null   float64\n",
            " 3   nlp_1g_e      1954 non-null   float64\n",
            " 4   nlp_2g_dist   1954 non-null   float64\n",
            " 5   nlp_2g_ken    1954 non-null   float64\n",
            " 6   nlp_2g_spe    1954 non-null   float64\n",
            " 7   nlp_3g_ken    1954 non-null   float64\n",
            " 8   nlp_3g_spe    1954 non-null   float64\n",
            " 9   nlp_3g_sumsq  1954 non-null   float64\n",
            " 10  whois_rec     1954 non-null   float64\n",
            " 11  whois_change  1954 non-null   float64\n",
            " 12  class         1954 non-null   float64\n",
            "dtypes: float64(13)\n",
            "memory usage: 213.7 KB\n"
          ]
        }
      ]
    },
    {
      "cell_type": "code",
      "source": [
        "X, y = df.iloc[:, :-1], df.iloc[:, -1] # the last column is the target"
      ],
      "metadata": {
        "id": "uLXuHXJsJ6Ax"
      },
      "execution_count": null,
      "outputs": []
    },
    {
      "cell_type": "code",
      "source": [
        "from sklearn.model_selection import train_test_split\n",
        "# from sklearn.preprocessing import StandardScaler\n",
        "# X = StandardScaler().fit_transform(X)\n",
        "\n",
        "# Generate train/test sets\n",
        "X_train, X_test, y_train, y_test = train_test_split(\n",
        "    X, y, test_size=0.3, random_state=42\n",
        ")\n",
        "\n"
      ],
      "metadata": {
        "id": "NLU-tEqR7pYn"
      },
      "execution_count": null,
      "outputs": []
    },
    {
      "cell_type": "code",
      "source": [
        "IMAGES_PATH = Path() / \"gdrive\" / \"MyDrive\" / \"Colab\" / \"Data\" / \"images\" /\"pizd\"\n",
        "IMAGES_PATH.mkdir(parents=True, exist_ok=True)\n",
        "\n",
        "def save_fig(fig_id, tight_layout=True, fig_extension=\"png\", resolution=600):\n",
        "    path = IMAGES_PATH / f\"{fig_id}.{fig_extension}\"\n",
        "    if tight_layout:\n",
        "        plt.tight_layout()\n",
        "    plt.savefig(path, format=fig_extension, dpi=resolution)"
      ],
      "metadata": {
        "id": "4Ax1nK3NlSXD"
      },
      "execution_count": null,
      "outputs": []
    },
    {
      "cell_type": "code",
      "source": [
        "df.describe()"
      ],
      "metadata": {
        "id": "BB5bEM007CpY",
        "colab": {
          "base_uri": "https://localhost:8080/"
        },
        "outputId": "70ab1a87-0263-4aac-cb8a-5a30731dd230"
      },
      "execution_count": null,
      "outputs": [
        {
          "output_type": "execute_result",
          "data": {
            "text/plain": [
              "         nlp_l_2dn  nlp_3g_dist   nlp_l_fqdn     nlp_1g_e  nlp_2g_dist  \\\n",
              "count  1954.000000  1954.000000  1954.000000  1954.000000  1954.000000   \n",
              "mean      9.637155    10.703173    13.786080     3.098443    11.393040   \n",
              "std       3.927645     3.786537     3.786181     1.160882     3.616834   \n",
              "min       1.000000     1.000000     4.000000     0.482578     2.000000   \n",
              "25%       6.000000     8.000000    11.000000     2.055232     8.000000   \n",
              "50%      11.000000    12.000000    15.000000     3.420324    12.000000   \n",
              "75%      13.000000    14.000000    17.000000     4.036824    14.000000   \n",
              "max      19.000000    20.000000    23.000000     5.887734    20.000000   \n",
              "\n",
              "        nlp_2g_ken   nlp_2g_spe   nlp_3g_ken   nlp_3g_spe  nlp_3g_sumsq  \\\n",
              "count  1954.000000  1954.000000  1954.000000  1954.000000   1954.000000   \n",
              "mean      0.144680     0.166194     0.041747     0.043124     10.822416   \n",
              "std       0.024747     0.028420     0.008168     0.008438      3.904215   \n",
              "min       0.061742     0.070932     0.013004     0.013433      1.000000   \n",
              "25%       0.123240     0.141535     0.036778     0.037991      8.000000   \n",
              "50%       0.150705     0.173075     0.045041     0.046527     12.000000   \n",
              "75%       0.162654     0.186796     0.048649     0.050254     14.000000   \n",
              "max       0.193955     0.222742     0.058143     0.060062     26.000000   \n",
              "\n",
              "         whois_rec  whois_change        class  \n",
              "count  1954.000000   1954.000000  1954.000000  \n",
              "mean     15.829580      0.589366     0.489253  \n",
              "std      15.582367      0.762140     0.500012  \n",
              "min       0.000000      0.000000     0.000000  \n",
              "25%       0.000000      0.000000     0.000000  \n",
              "50%      17.000000      0.738105     0.000000  \n",
              "75%      29.000000      0.741276     1.000000  \n",
              "max     110.000000      4.000000     1.000000  "
            ],
            "text/html": [
              "\n",
              "  <div id=\"df-feb080e2-2b8e-4db2-bf41-d620bb76b798\">\n",
              "    <div class=\"colab-df-container\">\n",
              "      <div>\n",
              "<style scoped>\n",
              "    .dataframe tbody tr th:only-of-type {\n",
              "        vertical-align: middle;\n",
              "    }\n",
              "\n",
              "    .dataframe tbody tr th {\n",
              "        vertical-align: top;\n",
              "    }\n",
              "\n",
              "    .dataframe thead th {\n",
              "        text-align: right;\n",
              "    }\n",
              "</style>\n",
              "<table border=\"1\" class=\"dataframe\">\n",
              "  <thead>\n",
              "    <tr style=\"text-align: right;\">\n",
              "      <th></th>\n",
              "      <th>nlp_l_2dn</th>\n",
              "      <th>nlp_3g_dist</th>\n",
              "      <th>nlp_l_fqdn</th>\n",
              "      <th>nlp_1g_e</th>\n",
              "      <th>nlp_2g_dist</th>\n",
              "      <th>nlp_2g_ken</th>\n",
              "      <th>nlp_2g_spe</th>\n",
              "      <th>nlp_3g_ken</th>\n",
              "      <th>nlp_3g_spe</th>\n",
              "      <th>nlp_3g_sumsq</th>\n",
              "      <th>whois_rec</th>\n",
              "      <th>whois_change</th>\n",
              "      <th>class</th>\n",
              "    </tr>\n",
              "  </thead>\n",
              "  <tbody>\n",
              "    <tr>\n",
              "      <th>count</th>\n",
              "      <td>1954.000000</td>\n",
              "      <td>1954.000000</td>\n",
              "      <td>1954.000000</td>\n",
              "      <td>1954.000000</td>\n",
              "      <td>1954.000000</td>\n",
              "      <td>1954.000000</td>\n",
              "      <td>1954.000000</td>\n",
              "      <td>1954.000000</td>\n",
              "      <td>1954.000000</td>\n",
              "      <td>1954.000000</td>\n",
              "      <td>1954.000000</td>\n",
              "      <td>1954.000000</td>\n",
              "      <td>1954.000000</td>\n",
              "    </tr>\n",
              "    <tr>\n",
              "      <th>mean</th>\n",
              "      <td>9.637155</td>\n",
              "      <td>10.703173</td>\n",
              "      <td>13.786080</td>\n",
              "      <td>3.098443</td>\n",
              "      <td>11.393040</td>\n",
              "      <td>0.144680</td>\n",
              "      <td>0.166194</td>\n",
              "      <td>0.041747</td>\n",
              "      <td>0.043124</td>\n",
              "      <td>10.822416</td>\n",
              "      <td>15.829580</td>\n",
              "      <td>0.589366</td>\n",
              "      <td>0.489253</td>\n",
              "    </tr>\n",
              "    <tr>\n",
              "      <th>std</th>\n",
              "      <td>3.927645</td>\n",
              "      <td>3.786537</td>\n",
              "      <td>3.786181</td>\n",
              "      <td>1.160882</td>\n",
              "      <td>3.616834</td>\n",
              "      <td>0.024747</td>\n",
              "      <td>0.028420</td>\n",
              "      <td>0.008168</td>\n",
              "      <td>0.008438</td>\n",
              "      <td>3.904215</td>\n",
              "      <td>15.582367</td>\n",
              "      <td>0.762140</td>\n",
              "      <td>0.500012</td>\n",
              "    </tr>\n",
              "    <tr>\n",
              "      <th>min</th>\n",
              "      <td>1.000000</td>\n",
              "      <td>1.000000</td>\n",
              "      <td>4.000000</td>\n",
              "      <td>0.482578</td>\n",
              "      <td>2.000000</td>\n",
              "      <td>0.061742</td>\n",
              "      <td>0.070932</td>\n",
              "      <td>0.013004</td>\n",
              "      <td>0.013433</td>\n",
              "      <td>1.000000</td>\n",
              "      <td>0.000000</td>\n",
              "      <td>0.000000</td>\n",
              "      <td>0.000000</td>\n",
              "    </tr>\n",
              "    <tr>\n",
              "      <th>25%</th>\n",
              "      <td>6.000000</td>\n",
              "      <td>8.000000</td>\n",
              "      <td>11.000000</td>\n",
              "      <td>2.055232</td>\n",
              "      <td>8.000000</td>\n",
              "      <td>0.123240</td>\n",
              "      <td>0.141535</td>\n",
              "      <td>0.036778</td>\n",
              "      <td>0.037991</td>\n",
              "      <td>8.000000</td>\n",
              "      <td>0.000000</td>\n",
              "      <td>0.000000</td>\n",
              "      <td>0.000000</td>\n",
              "    </tr>\n",
              "    <tr>\n",
              "      <th>50%</th>\n",
              "      <td>11.000000</td>\n",
              "      <td>12.000000</td>\n",
              "      <td>15.000000</td>\n",
              "      <td>3.420324</td>\n",
              "      <td>12.000000</td>\n",
              "      <td>0.150705</td>\n",
              "      <td>0.173075</td>\n",
              "      <td>0.045041</td>\n",
              "      <td>0.046527</td>\n",
              "      <td>12.000000</td>\n",
              "      <td>17.000000</td>\n",
              "      <td>0.738105</td>\n",
              "      <td>0.000000</td>\n",
              "    </tr>\n",
              "    <tr>\n",
              "      <th>75%</th>\n",
              "      <td>13.000000</td>\n",
              "      <td>14.000000</td>\n",
              "      <td>17.000000</td>\n",
              "      <td>4.036824</td>\n",
              "      <td>14.000000</td>\n",
              "      <td>0.162654</td>\n",
              "      <td>0.186796</td>\n",
              "      <td>0.048649</td>\n",
              "      <td>0.050254</td>\n",
              "      <td>14.000000</td>\n",
              "      <td>29.000000</td>\n",
              "      <td>0.741276</td>\n",
              "      <td>1.000000</td>\n",
              "    </tr>\n",
              "    <tr>\n",
              "      <th>max</th>\n",
              "      <td>19.000000</td>\n",
              "      <td>20.000000</td>\n",
              "      <td>23.000000</td>\n",
              "      <td>5.887734</td>\n",
              "      <td>20.000000</td>\n",
              "      <td>0.193955</td>\n",
              "      <td>0.222742</td>\n",
              "      <td>0.058143</td>\n",
              "      <td>0.060062</td>\n",
              "      <td>26.000000</td>\n",
              "      <td>110.000000</td>\n",
              "      <td>4.000000</td>\n",
              "      <td>1.000000</td>\n",
              "    </tr>\n",
              "  </tbody>\n",
              "</table>\n",
              "</div>\n",
              "      <button class=\"colab-df-convert\" onclick=\"convertToInteractive('df-feb080e2-2b8e-4db2-bf41-d620bb76b798')\"\n",
              "              title=\"Convert this dataframe to an interactive table.\"\n",
              "              style=\"display:none;\">\n",
              "        \n",
              "  <svg xmlns=\"http://www.w3.org/2000/svg\" height=\"24px\"viewBox=\"0 0 24 24\"\n",
              "       width=\"24px\">\n",
              "    <path d=\"M0 0h24v24H0V0z\" fill=\"none\"/>\n",
              "    <path d=\"M18.56 5.44l.94 2.06.94-2.06 2.06-.94-2.06-.94-.94-2.06-.94 2.06-2.06.94zm-11 1L8.5 8.5l.94-2.06 2.06-.94-2.06-.94L8.5 2.5l-.94 2.06-2.06.94zm10 10l.94 2.06.94-2.06 2.06-.94-2.06-.94-.94-2.06-.94 2.06-2.06.94z\"/><path d=\"M17.41 7.96l-1.37-1.37c-.4-.4-.92-.59-1.43-.59-.52 0-1.04.2-1.43.59L10.3 9.45l-7.72 7.72c-.78.78-.78 2.05 0 2.83L4 21.41c.39.39.9.59 1.41.59.51 0 1.02-.2 1.41-.59l7.78-7.78 2.81-2.81c.8-.78.8-2.07 0-2.86zM5.41 20L4 18.59l7.72-7.72 1.47 1.35L5.41 20z\"/>\n",
              "  </svg>\n",
              "      </button>\n",
              "      \n",
              "  <style>\n",
              "    .colab-df-container {\n",
              "      display:flex;\n",
              "      flex-wrap:wrap;\n",
              "      gap: 12px;\n",
              "    }\n",
              "\n",
              "    .colab-df-convert {\n",
              "      background-color: #E8F0FE;\n",
              "      border: none;\n",
              "      border-radius: 50%;\n",
              "      cursor: pointer;\n",
              "      display: none;\n",
              "      fill: #1967D2;\n",
              "      height: 32px;\n",
              "      padding: 0 0 0 0;\n",
              "      width: 32px;\n",
              "    }\n",
              "\n",
              "    .colab-df-convert:hover {\n",
              "      background-color: #E2EBFA;\n",
              "      box-shadow: 0px 1px 2px rgba(60, 64, 67, 0.3), 0px 1px 3px 1px rgba(60, 64, 67, 0.15);\n",
              "      fill: #174EA6;\n",
              "    }\n",
              "\n",
              "    [theme=dark] .colab-df-convert {\n",
              "      background-color: #3B4455;\n",
              "      fill: #D2E3FC;\n",
              "    }\n",
              "\n",
              "    [theme=dark] .colab-df-convert:hover {\n",
              "      background-color: #434B5C;\n",
              "      box-shadow: 0px 1px 3px 1px rgba(0, 0, 0, 0.15);\n",
              "      filter: drop-shadow(0px 1px 2px rgba(0, 0, 0, 0.3));\n",
              "      fill: #FFFFFF;\n",
              "    }\n",
              "  </style>\n",
              "\n",
              "      <script>\n",
              "        const buttonEl =\n",
              "          document.querySelector('#df-feb080e2-2b8e-4db2-bf41-d620bb76b798 button.colab-df-convert');\n",
              "        buttonEl.style.display =\n",
              "          google.colab.kernel.accessAllowed ? 'block' : 'none';\n",
              "\n",
              "        async function convertToInteractive(key) {\n",
              "          const element = document.querySelector('#df-feb080e2-2b8e-4db2-bf41-d620bb76b798');\n",
              "          const dataTable =\n",
              "            await google.colab.kernel.invokeFunction('convertToInteractive',\n",
              "                                                     [key], {});\n",
              "          if (!dataTable) return;\n",
              "\n",
              "          const docLinkHtml = 'Like what you see? Visit the ' +\n",
              "            '<a target=\"_blank\" href=https://colab.research.google.com/notebooks/data_table.ipynb>data table notebook</a>'\n",
              "            + ' to learn more about interactive tables.';\n",
              "          element.innerHTML = '';\n",
              "          dataTable['output_type'] = 'display_data';\n",
              "          await google.colab.output.renderOutput(dataTable, element);\n",
              "          const docLink = document.createElement('div');\n",
              "          docLink.innerHTML = docLinkHtml;\n",
              "          element.appendChild(docLink);\n",
              "        }\n",
              "      </script>\n",
              "    </div>\n",
              "  </div>\n",
              "  "
            ]
          },
          "metadata": {},
          "execution_count": 188
        }
      ]
    },
    {
      "cell_type": "code",
      "source": [
        "import matplotlib.pyplot as plt\n",
        "\n",
        "df.hist(bins=50, figsize=(24, 16))\n",
        "plt.show()"
      ],
      "metadata": {
        "colab": {
          "base_uri": "https://localhost:8080/"
        },
        "outputId": "b3956334-d9a3-48d2-96ce-afe11f9c0b98",
        "id": "OuZK2lGE56Cw"
      },
      "execution_count": null,
      "outputs": [
        {
          "output_type": "display_data",
          "data": {
            "text/plain": [
              "<Figure size 1728x1152 with 16 Axes>"
            ],
            "image/png": "[encoded data removed]"
          },
          "metadata": {
            "needs_background": "light"
          }
        }
      ]
    },
    {
      "cell_type": "markdown",
      "source": [
        "### Naive Bayes (NB) classifier"
      ],
      "metadata": {
        "id": "4EsjCmYPiEFo"
      }
    },
    {
      "cell_type": "code",
      "source": [
        "from sklearn.naive_bayes import MultinomialNB\n",
        "\n",
        "mnb_clf = MultinomialNB()\n",
        "mnb_clf.fit(X_train, y_train)\n"
      ],
      "metadata": {
        "colab": {
          "base_uri": "https://localhost:8080/"
        },
        "outputId": "c3285519-7a13-4e87-f8f7-3be1a3da6c2e",
        "id": "TmiB7J2siEFw"
      },
      "execution_count": null,
      "outputs": [
        {
          "output_type": "execute_result",
          "data": {
            "text/plain": [
              "MultinomialNB()"
            ]
          },
          "metadata": {},
          "execution_count": 190
        }
      ]
    },
    {
      "cell_type": "code",
      "source": [
        "print(f\"Naive Bayes scored {mnb_clf.score(X_test, y_test).round(5)} on test\")\n",
        "print(f\"Naive Bayes scored {mnb_clf.score(X_train, y_train).round(5)} on train\")"
      ],
      "metadata": {
        "colab": {
          "base_uri": "https://localhost:8080/"
        },
        "outputId": "14411946-2aef-48ea-a096-990e7c6b5b15",
        "id": "YHA9baOJiEFx"
      },
      "execution_count": null,
      "outputs": [
        {
          "output_type": "stream",
          "name": "stdout",
          "text": [
            "Naive Bayes scored 0.97445 on test\n",
            "Naive Bayes scored 0.96854 on train\n"
          ]
        }
      ]
    },
    {
      "cell_type": "markdown",
      "source": [
        "#### Confusion Matrix for mnb_clf train"
      ],
      "metadata": {
        "id": "SK9aTAhsiEFx"
      }
    },
    {
      "cell_type": "code",
      "source": [
        "from sklearn.model_selection import cross_val_predict\n",
        "\n",
        "y_train_pred = cross_val_predict(mnb_clf, X_train, y_train, cv=3)"
      ],
      "metadata": {
        "id": "aBSgOjyOiEFx"
      },
      "execution_count": null,
      "outputs": []
    },
    {
      "cell_type": "code",
      "source": [
        "from sklearn.metrics import confusion_matrix\n",
        "cm = confusion_matrix(y_train, y_train_pred).round(5)\n",
        "cm"
      ],
      "metadata": {
        "colab": {
          "base_uri": "https://localhost:8080/"
        },
        "outputId": "1515f65c-a7bb-4259-f096-2f825e97d9f8",
        "id": "nAClIxZViEFy"
      },
      "execution_count": null,
      "outputs": [
        {
          "output_type": "execute_result",
          "data": {
            "text/plain": [
              "array([[696,   8],\n",
              "       [ 35, 628]])"
            ]
          },
          "metadata": {},
          "execution_count": 193
        }
      ]
    },
    {
      "cell_type": "code",
      "source": [
        "from sklearn.metrics import precision_score, recall_score\n",
        "precision_score(y_train, y_train_pred).round(5)"
      ],
      "metadata": {
        "colab": {
          "base_uri": "https://localhost:8080/"
        },
        "outputId": "6eaab26a-390c-4b3c-b5af-96d27d12e853",
        "id": "GIWKEMsYiEFy"
      },
      "execution_count": null,
      "outputs": [
        {
          "output_type": "execute_result",
          "data": {
            "text/plain": [
              "0.98742"
            ]
          },
          "metadata": {},
          "execution_count": 194
        }
      ]
    },
    {
      "cell_type": "code",
      "source": [
        "recall_score(y_train, y_train_pred).round(5)"
      ],
      "metadata": {
        "colab": {
          "base_uri": "https://localhost:8080/"
        },
        "outputId": "4b7fde2a-61dc-4cac-91c5-3d98db87f605",
        "id": "U8MX3k5QiEFy"
      },
      "execution_count": null,
      "outputs": [
        {
          "output_type": "execute_result",
          "data": {
            "text/plain": [
              "0.94721"
            ]
          },
          "metadata": {},
          "execution_count": 195
        }
      ]
    },
    {
      "cell_type": "code",
      "source": [
        "from sklearn.metrics import f1_score\n",
        "f1_score(y_train, y_train_pred).round(5)"
      ],
      "metadata": {
        "colab": {
          "base_uri": "https://localhost:8080/"
        },
        "outputId": "1453f4c0-dc42-4f49-97cf-5e5bf729d133",
        "id": "bgrVDUC2iEFy"
      },
      "execution_count": null,
      "outputs": [
        {
          "output_type": "execute_result",
          "data": {
            "text/plain": [
              "0.9669"
            ]
          },
          "metadata": {},
          "execution_count": 196
        }
      ]
    },
    {
      "cell_type": "code",
      "source": [
        "from sklearn.metrics import ConfusionMatrixDisplay\n",
        "ConfusionMatrixDisplay.from_predictions(y_train, y_train_pred)\n",
        "save_fig(\"pizd_+whois_mnb_train_cm\")\n",
        "plt.show"
      ],
      "metadata": {
        "colab": {
          "base_uri": "https://localhost:8080/"
        },
        "id": "Hbnto6AkmJYc",
        "outputId": "c9726a8a-c05e-4ded-aece-687f86d03663"
      },
      "execution_count": null,
      "outputs": [
        {
          "output_type": "execute_result",
          "data": {
            "text/plain": [
              "<function matplotlib.pyplot.show(*args, **kw)>"
            ]
          },
          "metadata": {},
          "execution_count": 197
        },
        {
          "output_type": "display_data",
          "data": {
            "text/plain": [
              "<Figure size 432x288 with 2 Axes>"
            ],
            "image/png": "[encoded data removed]"
          },
          "metadata": {
            "needs_background": "light"
          }
        }
      ]
    },
    {
      "cell_type": "markdown",
      "source": [
        "#### Confusion Matrix for mnb_clf test"
      ],
      "metadata": {
        "id": "rl-TLGokmYf6"
      }
    },
    {
      "cell_type": "code",
      "source": [
        "from sklearn.model_selection import cross_val_predict\n",
        "\n",
        "y_test_pred = cross_val_predict(mnb_clf, X_test, y_test, cv=3)"
      ],
      "metadata": {
        "id": "_aEWUEnOmYf6"
      },
      "execution_count": null,
      "outputs": []
    },
    {
      "cell_type": "code",
      "source": [
        "from sklearn.metrics import confusion_matrix\n",
        "cm = confusion_matrix(y_test, y_test_pred).round(5)\n",
        "cm"
      ],
      "metadata": {
        "colab": {
          "base_uri": "https://localhost:8080/"
        },
        "outputId": "d17a7ebe-2678-4ded-b4e9-37433ef696cf",
        "id": "kVG_5BIhmYf7"
      },
      "execution_count": null,
      "outputs": [
        {
          "output_type": "execute_result",
          "data": {
            "text/plain": [
              "array([[292,   2],\n",
              "       [ 14, 279]])"
            ]
          },
          "metadata": {},
          "execution_count": 199
        }
      ]
    },
    {
      "cell_type": "code",
      "source": [
        "from sklearn.metrics import precision_score, recall_score\n",
        "precision_score(y_test, y_test_pred).round(5)"
      ],
      "metadata": {
        "colab": {
          "base_uri": "https://localhost:8080/"
        },
        "outputId": "17a547eb-e7c0-41be-b30e-d4a74dea71c2",
        "id": "3JLw80dMmYf7"
      },
      "execution_count": null,
      "outputs": [
        {
          "output_type": "execute_result",
          "data": {
            "text/plain": [
              "0.99288"
            ]
          },
          "metadata": {},
          "execution_count": 200
        }
      ]
    },
    {
      "cell_type": "code",
      "source": [
        "recall_score(y_test, y_test_pred).round(5)"
      ],
      "metadata": {
        "colab": {
          "base_uri": "https://localhost:8080/"
        },
        "outputId": "6da3186a-2b53-410b-bfdb-13d503cc9c11",
        "id": "dyrDKyXXmYf7"
      },
      "execution_count": null,
      "outputs": [
        {
          "output_type": "execute_result",
          "data": {
            "text/plain": [
              "0.95222"
            ]
          },
          "metadata": {},
          "execution_count": 201
        }
      ]
    },
    {
      "cell_type": "code",
      "source": [
        "from sklearn.metrics import f1_score\n",
        "f1_score(y_test, y_test_pred).round(5)"
      ],
      "metadata": {
        "colab": {
          "base_uri": "https://localhost:8080/"
        },
        "outputId": "25896fde-d3e2-41db-f88b-6a65526d8f0b",
        "id": "Yn-cfR4OmYf8"
      },
      "execution_count": null,
      "outputs": [
        {
          "output_type": "execute_result",
          "data": {
            "text/plain": [
              "0.97213"
            ]
          },
          "metadata": {},
          "execution_count": 202
        }
      ]
    },
    {
      "cell_type": "code",
      "source": [
        "from sklearn.metrics import ConfusionMatrixDisplay\n",
        "ConfusionMatrixDisplay.from_predictions(y_test, y_test_pred)\n",
        "save_fig(\"pizd_+whois_mnb_test_cm\")\n",
        "plt.show"
      ],
      "metadata": {
        "colab": {
          "base_uri": "https://localhost:8080/"
        },
        "id": "oFX58hmWlI7g",
        "outputId": "34c040e3-6bfb-4c90-bbe2-f36555560b35"
      },
      "execution_count": null,
      "outputs": [
        {
          "output_type": "execute_result",
          "data": {
            "text/plain": [
              "<function matplotlib.pyplot.show(*args, **kw)>"
            ]
          },
          "metadata": {},
          "execution_count": 203
        },
        {
          "output_type": "display_data",
          "data": {
            "text/plain": [
              "<Figure size 432x288 with 2 Axes>"
            ],
            "image/png": "[encoded data removed]"
          },
          "metadata": {
            "needs_background": "light"
          }
        }
      ]
    },
    {
      "cell_type": "markdown",
      "source": [
        "### Logistic Regression (LG) classifier"
      ],
      "metadata": {
        "id": "O8Vb1kdojPI4"
      }
    },
    {
      "cell_type": "code",
      "source": [
        "from sklearn.linear_model import LogisticRegression\n",
        "\n",
        "lg_clf = LogisticRegression(max_iter=1000)\n",
        "lg_clf.fit(X_train, y_train)\n"
      ],
      "metadata": {
        "id": "96qF9r2YjPI_",
        "colab": {
          "base_uri": "https://localhost:8080/"
        },
        "outputId": "7dce9a48-94f3-4880-b2c8-8d650e8295c8"
      },
      "execution_count": null,
      "outputs": [
        {
          "output_type": "execute_result",
          "data": {
            "text/plain": [
              "LogisticRegression(max_iter=1000)"
            ]
          },
          "metadata": {},
          "execution_count": 204
        }
      ]
    },
    {
      "cell_type": "code",
      "source": [
        "print(f\"Logistic Regression scored {lg_clf.score(X_test, y_test).round(5)} on test\")\n",
        "print(f\"Logistic Regression scored {lg_clf.score(X_train, y_train).round(5)} on train\")"
      ],
      "metadata": {
        "colab": {
          "base_uri": "https://localhost:8080/"
        },
        "outputId": "3300d903-60b2-4d35-ad27-ce2ce441f917",
        "id": "oUyuqUOsjPI_"
      },
      "execution_count": null,
      "outputs": [
        {
          "output_type": "stream",
          "name": "stdout",
          "text": [
            "Logistic Regression scored 0.97615 on test\n",
            "Logistic Regression scored 0.97805 on train\n"
          ]
        }
      ]
    },
    {
      "cell_type": "markdown",
      "source": [
        "#### Confusion Matrix for lg_clf train"
      ],
      "metadata": {
        "id": "yGB-kSCkjPJA"
      }
    },
    {
      "cell_type": "code",
      "source": [
        "from sklearn.model_selection import cross_val_predict\n",
        "\n",
        "y_train_pred = cross_val_predict(lg_clf, X_train, y_train, cv=3)"
      ],
      "metadata": {
        "id": "xGVE5gdkjPJA"
      },
      "execution_count": null,
      "outputs": []
    },
    {
      "cell_type": "code",
      "source": [
        "from sklearn.metrics import confusion_matrix\n",
        "cm = confusion_matrix(y_train, y_train_pred)\n",
        "cm"
      ],
      "metadata": {
        "colab": {
          "base_uri": "https://localhost:8080/"
        },
        "outputId": "62107329-a251-44b4-dc58-b74b0cf8e68e",
        "id": "67wBt1vkjPJA"
      },
      "execution_count": null,
      "outputs": [
        {
          "output_type": "execute_result",
          "data": {
            "text/plain": [
              "array([[691,  13],\n",
              "       [ 20, 643]])"
            ]
          },
          "metadata": {},
          "execution_count": 207
        }
      ]
    },
    {
      "cell_type": "code",
      "source": [
        "from sklearn.metrics import precision_score, recall_score\n",
        "precision_score(y_train, y_train_pred).round(5)"
      ],
      "metadata": {
        "colab": {
          "base_uri": "https://localhost:8080/"
        },
        "outputId": "83c37f9a-5e2f-4513-bcd9-009eb1dc9c3f",
        "id": "mwbmycAAjPJA"
      },
      "execution_count": null,
      "outputs": [
        {
          "output_type": "execute_result",
          "data": {
            "text/plain": [
              "0.98018"
            ]
          },
          "metadata": {},
          "execution_count": 208
        }
      ]
    },
    {
      "cell_type": "code",
      "source": [
        "recall_score(y_train, y_train_pred).round(5)"
      ],
      "metadata": {
        "colab": {
          "base_uri": "https://localhost:8080/"
        },
        "outputId": "ce739828-f1c5-49b2-ec1a-0ca825457c18",
        "id": "WK40wGdVjPJA"
      },
      "execution_count": null,
      "outputs": [
        {
          "output_type": "execute_result",
          "data": {
            "text/plain": [
              "0.96983"
            ]
          },
          "metadata": {},
          "execution_count": 209
        }
      ]
    },
    {
      "cell_type": "code",
      "source": [
        "from sklearn.metrics import f1_score\n",
        "f1_score(y_train, y_train_pred).round(5)"
      ],
      "metadata": {
        "colab": {
          "base_uri": "https://localhost:8080/"
        },
        "outputId": "f2265d8d-b94e-48b6-a8d6-b7df424c8677",
        "id": "BwSGN4lijPJA"
      },
      "execution_count": null,
      "outputs": [
        {
          "output_type": "execute_result",
          "data": {
            "text/plain": [
              "0.97498"
            ]
          },
          "metadata": {},
          "execution_count": 210
        }
      ]
    },
    {
      "cell_type": "code",
      "source": [
        "from sklearn.metrics import ConfusionMatrixDisplay\n",
        "ConfusionMatrixDisplay.from_predictions(y_train, y_train_pred)\n",
        "save_fig(\"pizd_+whois_lg_train_cm\")\n",
        "plt.show"
      ],
      "metadata": {
        "colab": {
          "base_uri": "https://localhost:8080/"
        },
        "id": "eP7nu8EfCNfX",
        "outputId": "b2ff6ad2-3fe7-4234-b50f-1e48bc8794e6"
      },
      "execution_count": null,
      "outputs": [
        {
          "output_type": "execute_result",
          "data": {
            "text/plain": [
              "<function matplotlib.pyplot.show(*args, **kw)>"
            ]
          },
          "metadata": {},
          "execution_count": 211
        },
        {
          "output_type": "display_data",
          "data": {
            "text/plain": [
              "<Figure size 432x288 with 2 Axes>"
            ],
            "image/png": "[encoded data removed]"
          },
          "metadata": {
            "needs_background": "light"
          }
        }
      ]
    },
    {
      "cell_type": "markdown",
      "source": [
        "#### Confusion Matrix for lg_clf test"
      ],
      "metadata": {
        "id": "b0GyX45JCBDp"
      }
    },
    {
      "cell_type": "code",
      "source": [
        "from sklearn.model_selection import cross_val_predict\n",
        "\n",
        "y_test_pred = cross_val_predict(lg_clf, X_test, y_test, cv=3)"
      ],
      "metadata": {
        "id": "dd1nCGsWCBDq"
      },
      "execution_count": null,
      "outputs": []
    },
    {
      "cell_type": "code",
      "source": [
        "from sklearn.metrics import confusion_matrix\n",
        "cm = confusion_matrix(y_test, y_test_pred)\n",
        "cm"
      ],
      "metadata": {
        "colab": {
          "base_uri": "https://localhost:8080/"
        },
        "outputId": "3609999e-b95c-4a3a-ea53-626e5d632afc",
        "id": "Mu2cxRo0CBDq"
      },
      "execution_count": null,
      "outputs": [
        {
          "output_type": "execute_result",
          "data": {
            "text/plain": [
              "array([[291,   3],\n",
              "       [ 11, 282]])"
            ]
          },
          "metadata": {},
          "execution_count": 213
        }
      ]
    },
    {
      "cell_type": "code",
      "source": [
        "from sklearn.metrics import precision_score, recall_score\n",
        "precision_score(y_test, y_test_pred).round(5)"
      ],
      "metadata": {
        "colab": {
          "base_uri": "https://localhost:8080/"
        },
        "outputId": "f974f16f-8c63-40c3-cba7-9ab0c25bdf71",
        "id": "qIx5yX-zCBDr"
      },
      "execution_count": null,
      "outputs": [
        {
          "output_type": "execute_result",
          "data": {
            "text/plain": [
              "0.98947"
            ]
          },
          "metadata": {},
          "execution_count": 214
        }
      ]
    },
    {
      "cell_type": "code",
      "source": [
        "recall_score(y_test, y_test_pred).round(5)"
      ],
      "metadata": {
        "colab": {
          "base_uri": "https://localhost:8080/"
        },
        "outputId": "ae04b211-ec9c-4d63-b47b-34219caede8b",
        "id": "ONcneHnuCBDr"
      },
      "execution_count": null,
      "outputs": [
        {
          "output_type": "execute_result",
          "data": {
            "text/plain": [
              "0.96246"
            ]
          },
          "metadata": {},
          "execution_count": 215
        }
      ]
    },
    {
      "cell_type": "code",
      "source": [
        "from sklearn.metrics import f1_score\n",
        "f1_score(y_test, y_test_pred).round(5)"
      ],
      "metadata": {
        "colab": {
          "base_uri": "https://localhost:8080/"
        },
        "outputId": "5eb68dd7-f859-4988-df52-81e71d2a4eaf",
        "id": "VzbBtYZXCBDr"
      },
      "execution_count": null,
      "outputs": [
        {
          "output_type": "execute_result",
          "data": {
            "text/plain": [
              "0.97578"
            ]
          },
          "metadata": {},
          "execution_count": 216
        }
      ]
    },
    {
      "cell_type": "code",
      "source": [
        "from sklearn.metrics import ConfusionMatrixDisplay\n",
        "ConfusionMatrixDisplay.from_predictions(y_test, y_test_pred)\n",
        "save_fig(\"pizd_+whois_lg_test_cm\")\n",
        "plt.show"
      ],
      "metadata": {
        "id": "hbGITCGVBj02",
        "colab": {
          "base_uri": "https://localhost:8080/"
        },
        "outputId": "75f0631e-fe58-4ba7-bd15-3dfea5cf0618"
      },
      "execution_count": null,
      "outputs": [
        {
          "output_type": "execute_result",
          "data": {
            "text/plain": [
              "<function matplotlib.pyplot.show(*args, **kw)>"
            ]
          },
          "metadata": {},
          "execution_count": 217
        },
        {
          "output_type": "display_data",
          "data": {
            "text/plain": [
              "<Figure size 432x288 with 2 Axes>"
            ],
            "image/png": "[encoded data removed]"
          },
          "metadata": {
            "needs_background": "light"
          }
        }
      ]
    },
    {
      "cell_type": "markdown",
      "source": [
        "### K-Nearest Neighbours (KNN) classifier"
      ],
      "metadata": {
        "id": "QZZynRycngOI"
      }
    },
    {
      "cell_type": "code",
      "source": [
        "from sklearn.neighbors import KNeighborsClassifier\n",
        "\n",
        "knn_clf = KNeighborsClassifier(algorithm = 'brute', n_jobs=-1)\n",
        "knn_clf.fit(X_train, y_train)\n"
      ],
      "metadata": {
        "colab": {
          "base_uri": "https://localhost:8080/"
        },
        "outputId": "1fdf721c-34ca-4b26-d34f-552bebcbc0ed",
        "id": "wMAG1LjOngOJ"
      },
      "execution_count": null,
      "outputs": [
        {
          "output_type": "execute_result",
          "data": {
            "text/plain": [
              "KNeighborsClassifier(algorithm='brute', n_jobs=-1)"
            ]
          },
          "metadata": {},
          "execution_count": 218
        }
      ]
    },
    {
      "cell_type": "code",
      "source": [
        "print(f\"K-Nearest Neighbours scored {knn_clf.score(X_test, y_test).round(5)} on test\")\n",
        "print(f\"K-Nearest Neighbours scored {knn_clf.score(X_train, y_train).round(5)} on train\")"
      ],
      "metadata": {
        "colab": {
          "base_uri": "https://localhost:8080/"
        },
        "outputId": "25340c00-c9f8-4723-8c06-3f47f4e01742",
        "id": "xzuynLVsngOJ"
      },
      "execution_count": null,
      "outputs": [
        {
          "output_type": "stream",
          "name": "stdout",
          "text": [
            "K-Nearest Neighbours scored 0.97445 on test\n",
            "K-Nearest Neighbours scored 0.98171 on train\n"
          ]
        }
      ]
    },
    {
      "cell_type": "markdown",
      "source": [
        "#### Confusion Matrix for knn_clf train"
      ],
      "metadata": {
        "id": "TzOFE2irngOK"
      }
    },
    {
      "cell_type": "code",
      "source": [
        "from sklearn.model_selection import cross_val_predict\n",
        "\n",
        "y_train_pred = cross_val_predict(knn_clf, X_train, y_train, cv=3)"
      ],
      "metadata": {
        "id": "99LqES6lngOK"
      },
      "execution_count": null,
      "outputs": []
    },
    {
      "cell_type": "code",
      "source": [
        "from sklearn.metrics import confusion_matrix\n",
        "cm = confusion_matrix(y_train, y_train_pred)\n",
        "cm"
      ],
      "metadata": {
        "colab": {
          "base_uri": "https://localhost:8080/"
        },
        "outputId": "89a62544-b8a9-4ce1-ee4c-5e10f7678904",
        "id": "u87DOHi6ngOK"
      },
      "execution_count": null,
      "outputs": [
        {
          "output_type": "execute_result",
          "data": {
            "text/plain": [
              "array([[692,  12],\n",
              "       [ 22, 641]])"
            ]
          },
          "metadata": {},
          "execution_count": 221
        }
      ]
    },
    {
      "cell_type": "code",
      "source": [
        "from sklearn.metrics import precision_score, recall_score\n",
        "precision_score(y_train, y_train_pred).round(5)"
      ],
      "metadata": {
        "colab": {
          "base_uri": "https://localhost:8080/"
        },
        "outputId": "faf25399-104a-462e-de2c-51d183eae1d4",
        "id": "6ooQcJR_ngOK"
      },
      "execution_count": null,
      "outputs": [
        {
          "output_type": "execute_result",
          "data": {
            "text/plain": [
              "0.98162"
            ]
          },
          "metadata": {},
          "execution_count": 222
        }
      ]
    },
    {
      "cell_type": "code",
      "source": [
        "recall_score(y_train, y_train_pred).round(5)"
      ],
      "metadata": {
        "colab": {
          "base_uri": "https://localhost:8080/"
        },
        "outputId": "ef500fb7-3311-4bdd-a47c-ed5c04392f28",
        "id": "u8kSXZ-qngOL"
      },
      "execution_count": null,
      "outputs": [
        {
          "output_type": "execute_result",
          "data": {
            "text/plain": [
              "0.96682"
            ]
          },
          "metadata": {},
          "execution_count": 223
        }
      ]
    },
    {
      "cell_type": "code",
      "source": [
        "from sklearn.metrics import f1_score\n",
        "f1_score(y_train, y_train_pred).round(5)"
      ],
      "metadata": {
        "colab": {
          "base_uri": "https://localhost:8080/"
        },
        "outputId": "5d69e2cc-acb1-4525-b67f-81ebeb87464a",
        "id": "dHJDmsuSngOL"
      },
      "execution_count": null,
      "outputs": [
        {
          "output_type": "execute_result",
          "data": {
            "text/plain": [
              "0.97416"
            ]
          },
          "metadata": {},
          "execution_count": 224
        }
      ]
    },
    {
      "cell_type": "code",
      "source": [
        "from sklearn.metrics import ConfusionMatrixDisplay\n",
        "ConfusionMatrixDisplay.from_predictions(y_train, y_train_pred)\n",
        "save_fig(\"pizd_+whois_knn_train_cm\")\n",
        "plt.show"
      ],
      "metadata": {
        "colab": {
          "base_uri": "https://localhost:8080/"
        },
        "id": "chFI3NjjEF5_",
        "outputId": "994ea5d0-b821-494c-ea16-2f0c5b0d9208"
      },
      "execution_count": null,
      "outputs": [
        {
          "output_type": "execute_result",
          "data": {
            "text/plain": [
              "<function matplotlib.pyplot.show(*args, **kw)>"
            ]
          },
          "metadata": {},
          "execution_count": 225
        },
        {
          "output_type": "display_data",
          "data": {
            "text/plain": [
              "<Figure size 432x288 with 2 Axes>"
            ],
            "image/png": "[encoded data removed]"
          },
          "metadata": {
            "needs_background": "light"
          }
        }
      ]
    },
    {
      "cell_type": "markdown",
      "source": [
        "#### Confusion Matrix for knn_clf test"
      ],
      "metadata": {
        "id": "SI0ehAIhDMhK"
      }
    },
    {
      "cell_type": "code",
      "source": [
        "from sklearn.model_selection import cross_val_predict\n",
        "\n",
        "y_test_pred = cross_val_predict(knn_clf, X_test, y_test, cv=3)"
      ],
      "metadata": {
        "id": "fNo1b-JbDMhL"
      },
      "execution_count": null,
      "outputs": []
    },
    {
      "cell_type": "code",
      "source": [
        "from sklearn.metrics import confusion_matrix\n",
        "cm = confusion_matrix(y_test, y_test_pred)\n",
        "cm"
      ],
      "metadata": {
        "colab": {
          "base_uri": "https://localhost:8080/"
        },
        "outputId": "f087f9af-ac86-4346-d067-e312ac714871",
        "id": "BHIFWJigDMhL"
      },
      "execution_count": null,
      "outputs": [
        {
          "output_type": "execute_result",
          "data": {
            "text/plain": [
              "array([[290,   4],\n",
              "       [ 10, 283]])"
            ]
          },
          "metadata": {},
          "execution_count": 227
        }
      ]
    },
    {
      "cell_type": "code",
      "source": [
        "from sklearn.metrics import precision_score, recall_score\n",
        "precision_score(y_test, y_test_pred).round(5)"
      ],
      "metadata": {
        "colab": {
          "base_uri": "https://localhost:8080/"
        },
        "outputId": "4f7763c7-b111-4ed0-8ebe-d5d44c023dc8",
        "id": "feyxjN7lDMhL"
      },
      "execution_count": null,
      "outputs": [
        {
          "output_type": "execute_result",
          "data": {
            "text/plain": [
              "0.98606"
            ]
          },
          "metadata": {},
          "execution_count": 228
        }
      ]
    },
    {
      "cell_type": "code",
      "source": [
        "recall_score(y_test, y_test_pred).round(5)"
      ],
      "metadata": {
        "colab": {
          "base_uri": "https://localhost:8080/"
        },
        "outputId": "bbd6168c-4cc3-45b4-bee3-3ade84d40920",
        "id": "F2s3PWsgDMhQ"
      },
      "execution_count": null,
      "outputs": [
        {
          "output_type": "execute_result",
          "data": {
            "text/plain": [
              "0.96587"
            ]
          },
          "metadata": {},
          "execution_count": 229
        }
      ]
    },
    {
      "cell_type": "code",
      "source": [
        "from sklearn.metrics import f1_score\n",
        "f1_score(y_test, y_test_pred).round(5)"
      ],
      "metadata": {
        "colab": {
          "base_uri": "https://localhost:8080/"
        },
        "outputId": "21fa36cf-d105-44d9-c03f-20dbc9eea42e",
        "id": "pOh3zNWMDMhQ"
      },
      "execution_count": null,
      "outputs": [
        {
          "output_type": "execute_result",
          "data": {
            "text/plain": [
              "0.97586"
            ]
          },
          "metadata": {},
          "execution_count": 230
        }
      ]
    },
    {
      "cell_type": "code",
      "source": [
        "from sklearn.metrics import ConfusionMatrixDisplay\n",
        "ConfusionMatrixDisplay.from_predictions(y_test, y_test_pred)\n",
        "save_fig(\"pizd_+whois_knn_test_cm\")\n",
        "plt.show"
      ],
      "metadata": {
        "id": "F-_buHKUC9MN",
        "colab": {
          "base_uri": "https://localhost:8080/"
        },
        "outputId": "7c3bf1f0-b068-4349-d1e4-960eba63da0e"
      },
      "execution_count": null,
      "outputs": [
        {
          "output_type": "execute_result",
          "data": {
            "text/plain": [
              "<function matplotlib.pyplot.show(*args, **kw)>"
            ]
          },
          "metadata": {},
          "execution_count": 231
        },
        {
          "output_type": "display_data",
          "data": {
            "text/plain": [
              "<Figure size 432x288 with 2 Axes>"
            ],
            "image/png": "[encoded data removed]"
          },
          "metadata": {
            "needs_background": "light"
          }
        }
      ]
    },
    {
      "cell_type": "markdown",
      "source": [
        "###✋Support Vector Machine (SVM) classifier"
      ],
      "metadata": {
        "id": "hynEm0T6AiSp"
      }
    },
    {
      "cell_type": "code",
      "source": [
        "# if we receive ConvergenceWarning then use:\n",
        "\n",
        "from sklearn.model_selection import train_test_split\n",
        "from sklearn.preprocessing import StandardScaler\n",
        "X_norm_svm = StandardScaler().fit_transform(X)\n",
        "\n",
        "# Generate train/test sets\n",
        "X_train_svm, X_test_svm, y_train_svm, y_test_svm = train_test_split(\n",
        "    X_norm_svm, y, test_size=0.3, random_state=42\n",
        ")\n",
        "\n",
        "# re-run above LinearSVC\n"
      ],
      "metadata": {
        "id": "b44AZ1OQZQRg"
      },
      "execution_count": null,
      "outputs": []
    },
    {
      "cell_type": "code",
      "source": [
        "from sklearn.svm import LinearSVC\n",
        "from sklearn.calibration import CalibratedClassifierCV\n",
        "\n",
        "svm_clf=LinearSVC(C=0.00001)\n",
        "svm_clf.fit(X_train_svm, y_train_svm)\n",
        "svm_clf1 = CalibratedClassifierCV(svm_clf)\n",
        "svm_clf1.fit(X_train_svm, y_train_svm)\n"
      ],
      "metadata": {
        "colab": {
          "base_uri": "https://localhost:8080/"
        },
        "id": "edV7Ond8AiSq",
        "outputId": "57dadc77-033c-47b6-9c8f-05c93573e861"
      },
      "execution_count": null,
      "outputs": [
        {
          "output_type": "execute_result",
          "data": {
            "text/plain": [
              "CalibratedClassifierCV(base_estimator=LinearSVC(C=1e-05))"
            ]
          },
          "metadata": {},
          "execution_count": 233
        }
      ]
    },
    {
      "cell_type": "code",
      "source": [
        "print(f\"SVM scored {svm_clf.score(X_test_svm, y_test_svm).round(5)} on test\")\n",
        "print(f\"SVM scored {svm_clf.score(X_train_svm, y_train_svm).round(5)} on train\")"
      ],
      "metadata": {
        "colab": {
          "base_uri": "https://localhost:8080/"
        },
        "outputId": "5ff050aa-4325-42a8-b948-10c2f56dc354",
        "id": "isvxkhf1AiSq"
      },
      "execution_count": null,
      "outputs": [
        {
          "output_type": "stream",
          "name": "stdout",
          "text": [
            "SVM scored 0.92334 on test\n",
            "SVM scored 0.91953 on train\n"
          ]
        }
      ]
    },
    {
      "cell_type": "markdown",
      "source": [
        "#### Confusion Matrix for svm_clf train"
      ],
      "metadata": {
        "id": "-jg4B8iyAiSq"
      }
    },
    {
      "cell_type": "code",
      "source": [
        "from sklearn.model_selection import cross_val_predict\n",
        "\n",
        "y_train_svm_pred = cross_val_predict(svm_clf, X_train_svm, y_train_svm, cv=3)"
      ],
      "metadata": {
        "id": "CmFoV21cAiSr"
      },
      "execution_count": null,
      "outputs": []
    },
    {
      "cell_type": "code",
      "source": [
        "from sklearn.metrics import confusion_matrix\n",
        "cm = confusion_matrix(y_train_svm, y_train_svm_pred)\n",
        "cm"
      ],
      "metadata": {
        "colab": {
          "base_uri": "https://localhost:8080/"
        },
        "outputId": "6acc82cb-0502-40a2-8c7e-144172837ec8",
        "id": "0HEvD287AiSr"
      },
      "execution_count": null,
      "outputs": [
        {
          "output_type": "execute_result",
          "data": {
            "text/plain": [
              "array([[594, 110],\n",
              "       [  1, 662]])"
            ]
          },
          "metadata": {},
          "execution_count": 236
        }
      ]
    },
    {
      "cell_type": "code",
      "source": [
        "from sklearn.metrics import precision_score, recall_score\n",
        "precision_score(y_train_svm, y_train_svm_pred).round(5)"
      ],
      "metadata": {
        "colab": {
          "base_uri": "https://localhost:8080/"
        },
        "outputId": "b860452d-3d85-494d-ae75-62983de4042a",
        "id": "y_x_6k1eAiSr"
      },
      "execution_count": null,
      "outputs": [
        {
          "output_type": "execute_result",
          "data": {
            "text/plain": [
              "0.85751"
            ]
          },
          "metadata": {},
          "execution_count": 237
        }
      ]
    },
    {
      "cell_type": "code",
      "source": [
        "recall_score(y_train_svm, y_train_svm_pred).round(5)"
      ],
      "metadata": {
        "colab": {
          "base_uri": "https://localhost:8080/"
        },
        "outputId": "7631b9e0-be6d-4121-88ce-0449e0458b99",
        "id": "1JFadQMYAiSr"
      },
      "execution_count": null,
      "outputs": [
        {
          "output_type": "execute_result",
          "data": {
            "text/plain": [
              "0.99849"
            ]
          },
          "metadata": {},
          "execution_count": 238
        }
      ]
    },
    {
      "cell_type": "code",
      "source": [
        "from sklearn.metrics import f1_score\n",
        "f1_score(y_train_svm, y_train_svm_pred).round(5)"
      ],
      "metadata": {
        "colab": {
          "base_uri": "https://localhost:8080/"
        },
        "outputId": "ea893497-4774-4342-8c06-85d96bfb0e15",
        "id": "ooDT7v13AiSs"
      },
      "execution_count": null,
      "outputs": [
        {
          "output_type": "execute_result",
          "data": {
            "text/plain": [
              "0.92265"
            ]
          },
          "metadata": {},
          "execution_count": 239
        }
      ]
    },
    {
      "cell_type": "code",
      "source": [
        "from sklearn.metrics import ConfusionMatrixDisplay\n",
        "ConfusionMatrixDisplay.from_predictions(y_train_svm, y_train_svm_pred)\n",
        "save_fig(\"pizd_+whois_svm_train_cm\")\n",
        "plt.show"
      ],
      "metadata": {
        "colab": {
          "base_uri": "https://localhost:8080/"
        },
        "id": "1jilC9IwEoQg",
        "outputId": "2b4cfe31-6cdc-4b1d-8fa5-31d3b6f80243"
      },
      "execution_count": null,
      "outputs": [
        {
          "output_type": "execute_result",
          "data": {
            "text/plain": [
              "<function matplotlib.pyplot.show(*args, **kw)>"
            ]
          },
          "metadata": {},
          "execution_count": 240
        },
        {
          "output_type": "display_data",
          "data": {
            "text/plain": [
              "<Figure size 432x288 with 2 Axes>"
            ],
            "image/png": "[encoded data removed]"
          },
          "metadata": {
            "needs_background": "light"
          }
        }
      ]
    },
    {
      "cell_type": "markdown",
      "source": [
        "#### Confusion Matrix for svm_clf test"
      ],
      "metadata": {
        "id": "Hf9Ij1B-E73O"
      }
    },
    {
      "cell_type": "code",
      "source": [
        "from sklearn.model_selection import cross_val_predict\n",
        "\n",
        "y_test_svm_pred = cross_val_predict(svm_clf, X_test_svm, y_test_svm, cv=3)"
      ],
      "metadata": {
        "id": "dVwdRcIME73P"
      },
      "execution_count": null,
      "outputs": []
    },
    {
      "cell_type": "code",
      "source": [
        "from sklearn.metrics import confusion_matrix\n",
        "cm = confusion_matrix(y_test_svm, y_test_svm_pred)\n",
        "cm"
      ],
      "metadata": {
        "colab": {
          "base_uri": "https://localhost:8080/"
        },
        "outputId": "f5e9279f-17b2-46a4-d628-324cfae4dc0b",
        "id": "AfwHL_BHE73P"
      },
      "execution_count": null,
      "outputs": [
        {
          "output_type": "execute_result",
          "data": {
            "text/plain": [
              "array([[249,  45],\n",
              "       [  0, 293]])"
            ]
          },
          "metadata": {},
          "execution_count": 242
        }
      ]
    },
    {
      "cell_type": "code",
      "source": [
        "from sklearn.metrics import precision_score, recall_score\n",
        "precision_score(y_test_svm, y_test_svm_pred).round(5)"
      ],
      "metadata": {
        "colab": {
          "base_uri": "https://localhost:8080/"
        },
        "outputId": "d49a4f2c-fe6f-48cc-abab-197cdd0c4f43",
        "id": "XMk47kGEE73P"
      },
      "execution_count": null,
      "outputs": [
        {
          "output_type": "execute_result",
          "data": {
            "text/plain": [
              "0.86686"
            ]
          },
          "metadata": {},
          "execution_count": 243
        }
      ]
    },
    {
      "cell_type": "code",
      "source": [
        "recall_score(y_test_svm, y_test_svm_pred).round(5)"
      ],
      "metadata": {
        "colab": {
          "base_uri": "https://localhost:8080/"
        },
        "outputId": "960401be-b845-4d5b-cc0b-86914eef6401",
        "id": "av971hsWE73P"
      },
      "execution_count": null,
      "outputs": [
        {
          "output_type": "execute_result",
          "data": {
            "text/plain": [
              "1.0"
            ]
          },
          "metadata": {},
          "execution_count": 244
        }
      ]
    },
    {
      "cell_type": "code",
      "source": [
        "from sklearn.metrics import f1_score\n",
        "f1_score(y_test_svm, y_test_svm_pred).round(5)"
      ],
      "metadata": {
        "colab": {
          "base_uri": "https://localhost:8080/"
        },
        "outputId": "88f0ead2-b663-420b-8f20-5cb6d13c376f",
        "id": "yM0VJ7koE73P"
      },
      "execution_count": null,
      "outputs": [
        {
          "output_type": "execute_result",
          "data": {
            "text/plain": [
              "0.92868"
            ]
          },
          "metadata": {},
          "execution_count": 245
        }
      ]
    },
    {
      "cell_type": "code",
      "source": [
        "from sklearn.metrics import ConfusionMatrixDisplay\n",
        "ConfusionMatrixDisplay.from_predictions(y_test_svm, y_test_svm_pred)\n",
        "save_fig(\"pizd_+whois_svm_test_cm\")\n",
        "plt.show"
      ],
      "metadata": {
        "id": "ByDBle9NE1_r",
        "colab": {
          "base_uri": "https://localhost:8080/"
        },
        "outputId": "47acbfd5-b88d-4b4c-f047-77bd766e36af"
      },
      "execution_count": null,
      "outputs": [
        {
          "output_type": "execute_result",
          "data": {
            "text/plain": [
              "<function matplotlib.pyplot.show(*args, **kw)>"
            ]
          },
          "metadata": {},
          "execution_count": 246
        },
        {
          "output_type": "display_data",
          "data": {
            "text/plain": [
              "<Figure size 432x288 with 2 Axes>"
            ],
            "image/png": "[encoded data removed]"
          },
          "metadata": {
            "needs_background": "light"
          }
        }
      ]
    },
    {
      "cell_type": "markdown",
      "source": [
        "### ✅Decision Tree (DT) classifier"
      ],
      "metadata": {
        "id": "tERwVzByBxmR"
      }
    },
    {
      "cell_type": "code",
      "source": [
        "from sklearn.tree import DecisionTreeClassifier\n",
        "from sklearn.model_selection import GridSearchCV\n",
        "from pprint import pprint\n",
        "dt_clf = DecisionTreeClassifier()\n"
      ],
      "metadata": {
        "id": "8C0xWQD6BxmR"
      },
      "execution_count": null,
      "outputs": []
    },
    {
      "cell_type": "code",
      "source": [
        "print('Parameters currently in use:\\n')\n",
        "pprint(dt_clf.get_params())"
      ],
      "metadata": {
        "colab": {
          "base_uri": "https://localhost:8080/"
        },
        "id": "y3qeIgKLv3Vv",
        "outputId": "8e6ba139-f70f-4ccd-a33e-95efef8ab890"
      },
      "execution_count": null,
      "outputs": [
        {
          "output_type": "stream",
          "name": "stdout",
          "text": [
            "Parameters currently in use:\n",
            "\n",
            "{'ccp_alpha': 0.0,\n",
            " 'class_weight': None,\n",
            " 'criterion': 'gini',\n",
            " 'max_depth': None,\n",
            " 'max_features': None,\n",
            " 'max_leaf_nodes': None,\n",
            " 'min_impurity_decrease': 0.0,\n",
            " 'min_samples_leaf': 1,\n",
            " 'min_samples_split': 2,\n",
            " 'min_weight_fraction_leaf': 0.0,\n",
            " 'random_state': None,\n",
            " 'splitter': 'best'}\n"
          ]
        }
      ]
    },
    {
      "cell_type": "code",
      "source": [
        "param_grid = {'max_depth': [1, 2, 3, 4, 5,6,7,8,9,10,15,20,30,40,50],\n",
        "              'max_features': [1, 2, 3, 4,5,6,7,8,9,10],\n",
        "              'random_state':[0, 1, 2, 3, 4, 5, 10, 15,20,35,50,80,100,150,180,200],\n",
        "              'criterion':['gini','entropy'],\n",
        "              }"
      ],
      "metadata": {
        "id": "ZKvZpxjuwEjb"
      },
      "execution_count": null,
      "outputs": []
    },
    {
      "cell_type": "code",
      "source": [
        "#GSCV_dt_clf = GridSearchCV(dt_clf, param_grid=param_grid, cv=10)\n",
        "#GSCV_dt_clf.fit(X_train, y_train)"
      ],
      "metadata": {
        "id": "GXV0-ANhwtAE"
      },
      "execution_count": null,
      "outputs": []
    },
    {
      "cell_type": "code",
      "source": [
        "#GSCV_dt_clf.best_params_"
      ],
      "metadata": {
        "id": "bt3RZ_5Hw6D6"
      },
      "execution_count": null,
      "outputs": []
    },
    {
      "cell_type": "code",
      "source": [
        "dt_clf1 = DecisionTreeClassifier(criterion='entropy', max_depth=9, max_features=5, random_state=20)"
      ],
      "metadata": {
        "id": "lQ59u8R1xSpk"
      },
      "execution_count": null,
      "outputs": []
    },
    {
      "cell_type": "code",
      "source": [
        "dt_clf1.fit(X_train, y_train)"
      ],
      "metadata": {
        "colab": {
          "base_uri": "https://localhost:8080/"
        },
        "id": "ItO1YyIpxY2V",
        "outputId": "b2e9690a-8f98-43f0-bd18-90e0c3a22233"
      },
      "execution_count": null,
      "outputs": [
        {
          "output_type": "execute_result",
          "data": {
            "text/plain": [
              "DecisionTreeClassifier(criterion='entropy', max_depth=9, max_features=5,\n",
              "                       random_state=20)"
            ]
          },
          "metadata": {},
          "execution_count": 253
        }
      ]
    },
    {
      "cell_type": "code",
      "source": [
        "print(f\"Decision Tree scored {dt_clf1.score(X_test, y_test).round(5)} on test\")\n",
        "print(f\"Decision Tree scored {dt_clf1.score(X_train, y_train).round(5)} on train\")"
      ],
      "metadata": {
        "colab": {
          "base_uri": "https://localhost:8080/"
        },
        "outputId": "a7342b52-5ab6-49b9-c699-7c298cfe68ad",
        "id": "zGBvw3RXBxmS"
      },
      "execution_count": null,
      "outputs": [
        {
          "output_type": "stream",
          "name": "stdout",
          "text": [
            "Decision Tree scored 0.97615 on test\n",
            "Decision Tree scored 0.99415 on train\n"
          ]
        }
      ]
    },
    {
      "cell_type": "markdown",
      "source": [
        "#### Confusion Matrix for dt_clf1 train"
      ],
      "metadata": {
        "id": "jq0NFEP2BxmS"
      }
    },
    {
      "cell_type": "code",
      "source": [
        "from sklearn.model_selection import cross_val_predict\n",
        "\n",
        "y_train_pred = cross_val_predict(dt_clf1, X_train, y_train, cv=3)"
      ],
      "metadata": {
        "id": "QQDteKXRBxmT"
      },
      "execution_count": null,
      "outputs": []
    },
    {
      "cell_type": "code",
      "source": [
        "from sklearn.metrics import confusion_matrix\n",
        "cm = confusion_matrix(y_train, y_train_pred)\n",
        "cm"
      ],
      "metadata": {
        "colab": {
          "base_uri": "https://localhost:8080/"
        },
        "outputId": "5d3cb9e0-01e9-4ea4-f8e7-7cf7dd589c14",
        "id": "INX01YOyBxmT"
      },
      "execution_count": null,
      "outputs": [
        {
          "output_type": "execute_result",
          "data": {
            "text/plain": [
              "array([[688,  16],\n",
              "       [ 19, 644]])"
            ]
          },
          "metadata": {},
          "execution_count": 256
        }
      ]
    },
    {
      "cell_type": "code",
      "source": [
        "from sklearn.metrics import precision_score, recall_score\n",
        "precision_score(y_train, y_train_pred).round(5)"
      ],
      "metadata": {
        "colab": {
          "base_uri": "https://localhost:8080/"
        },
        "outputId": "aa17ef10-bf83-4c72-ac52-429528782683",
        "id": "Jf-4HRjnBxmT"
      },
      "execution_count": null,
      "outputs": [
        {
          "output_type": "execute_result",
          "data": {
            "text/plain": [
              "0.97576"
            ]
          },
          "metadata": {},
          "execution_count": 257
        }
      ]
    },
    {
      "cell_type": "code",
      "source": [
        "recall_score(y_train, y_train_pred).round(5)"
      ],
      "metadata": {
        "colab": {
          "base_uri": "https://localhost:8080/"
        },
        "outputId": "1b32c26d-c90e-4a9c-c4ff-735c885b147a",
        "id": "m_jNW-puBxmU"
      },
      "execution_count": null,
      "outputs": [
        {
          "output_type": "execute_result",
          "data": {
            "text/plain": [
              "0.97134"
            ]
          },
          "metadata": {},
          "execution_count": 258
        }
      ]
    },
    {
      "cell_type": "code",
      "source": [
        "from sklearn.metrics import f1_score\n",
        "f1_score(y_train, y_train_pred).round(5)"
      ],
      "metadata": {
        "colab": {
          "base_uri": "https://localhost:8080/"
        },
        "outputId": "b4672a3d-45b5-4126-b757-ce1397260913",
        "id": "b5WCRkjYBxmU"
      },
      "execution_count": null,
      "outputs": [
        {
          "output_type": "execute_result",
          "data": {
            "text/plain": [
              "0.97354"
            ]
          },
          "metadata": {},
          "execution_count": 259
        }
      ]
    },
    {
      "cell_type": "code",
      "source": [
        "from sklearn.metrics import ConfusionMatrixDisplay\n",
        "ConfusionMatrixDisplay.from_predictions(y_train, y_train_pred)\n",
        "save_fig(\"pizd_+whois_dt_train_cm\")\n",
        "plt.show"
      ],
      "metadata": {
        "colab": {
          "base_uri": "https://localhost:8080/"
        },
        "id": "58D6flxjFcLl",
        "outputId": "e63fbaa5-8565-4768-b4e6-3935b1847e3b"
      },
      "execution_count": null,
      "outputs": [
        {
          "output_type": "execute_result",
          "data": {
            "text/plain": [
              "<function matplotlib.pyplot.show(*args, **kw)>"
            ]
          },
          "metadata": {},
          "execution_count": 260
        },
        {
          "output_type": "display_data",
          "data": {
            "text/plain": [
              "<Figure size 432x288 with 2 Axes>"
            ],
            "image/png": "[encoded data removed]"
          },
          "metadata": {
            "needs_background": "light"
          }
        }
      ]
    },
    {
      "cell_type": "markdown",
      "source": [
        "#### Confusion Matrix for dt_clf1 test"
      ],
      "metadata": {
        "id": "yhD6wJhiGTTf"
      }
    },
    {
      "cell_type": "code",
      "source": [
        "from sklearn.model_selection import cross_val_predict\n",
        "\n",
        "y_test_pred = cross_val_predict(dt_clf1, X_test, y_test, cv=3)"
      ],
      "metadata": {
        "id": "hkr3RulXGTTf"
      },
      "execution_count": null,
      "outputs": []
    },
    {
      "cell_type": "code",
      "source": [
        "from sklearn.metrics import confusion_matrix\n",
        "cm = confusion_matrix(y_test, y_test_pred)\n",
        "cm"
      ],
      "metadata": {
        "colab": {
          "base_uri": "https://localhost:8080/"
        },
        "outputId": "5ae47165-c483-460a-dbd4-2a050d9b3b1d",
        "id": "hZZlOk1pGTTg"
      },
      "execution_count": null,
      "outputs": [
        {
          "output_type": "execute_result",
          "data": {
            "text/plain": [
              "array([[290,   4],\n",
              "       [  7, 286]])"
            ]
          },
          "metadata": {},
          "execution_count": 262
        }
      ]
    },
    {
      "cell_type": "code",
      "source": [
        "from sklearn.metrics import precision_score, recall_score\n",
        "precision_score(y_test, y_test_pred).round(5)"
      ],
      "metadata": {
        "colab": {
          "base_uri": "https://localhost:8080/"
        },
        "outputId": "16f62a70-3a0f-47a1-f1fb-a01b7d23ac44",
        "id": "NiSSjrplGTTg"
      },
      "execution_count": null,
      "outputs": [
        {
          "output_type": "execute_result",
          "data": {
            "text/plain": [
              "0.98621"
            ]
          },
          "metadata": {},
          "execution_count": 263
        }
      ]
    },
    {
      "cell_type": "code",
      "source": [
        "recall_score(y_test, y_test_pred).round(5)"
      ],
      "metadata": {
        "colab": {
          "base_uri": "https://localhost:8080/"
        },
        "outputId": "97ef310d-d9a6-48c8-f534-4eee278e6899",
        "id": "F6q-alaqGTTg"
      },
      "execution_count": null,
      "outputs": [
        {
          "output_type": "execute_result",
          "data": {
            "text/plain": [
              "0.97611"
            ]
          },
          "metadata": {},
          "execution_count": 264
        }
      ]
    },
    {
      "cell_type": "code",
      "source": [
        "from sklearn.metrics import f1_score\n",
        "f1_score(y_test, y_test_pred).round(5)"
      ],
      "metadata": {
        "colab": {
          "base_uri": "https://localhost:8080/"
        },
        "outputId": "f133a31e-b012-476d-ec13-4b74351eabf1",
        "id": "cj94fifOGTTg"
      },
      "execution_count": null,
      "outputs": [
        {
          "output_type": "execute_result",
          "data": {
            "text/plain": [
              "0.98113"
            ]
          },
          "metadata": {},
          "execution_count": 265
        }
      ]
    },
    {
      "cell_type": "code",
      "source": [
        "from sklearn.metrics import ConfusionMatrixDisplay\n",
        "ConfusionMatrixDisplay.from_predictions(y_test, y_test_pred)\n",
        "save_fig(\"pizd_+whois_dt_test_cm\")\n",
        "plt.show"
      ],
      "metadata": {
        "id": "wNqYEPtlGBcH",
        "colab": {
          "base_uri": "https://localhost:8080/"
        },
        "outputId": "aac756a0-4d37-430e-f300-1dad4b678a00"
      },
      "execution_count": null,
      "outputs": [
        {
          "output_type": "execute_result",
          "data": {
            "text/plain": [
              "<function matplotlib.pyplot.show(*args, **kw)>"
            ]
          },
          "metadata": {},
          "execution_count": 266
        },
        {
          "output_type": "display_data",
          "data": {
            "text/plain": [
              "<Figure size 432x288 with 2 Axes>"
            ],
            "image/png": "[encoded data removed]"
          },
          "metadata": {
            "needs_background": "light"
          }
        }
      ]
    },
    {
      "cell_type": "markdown",
      "source": [
        "### Bagging Decision Tree (BG) classifier (ensemble)"
      ],
      "metadata": {
        "id": "A27x2z00Ndy_"
      }
    },
    {
      "cell_type": "code",
      "source": [
        "from sklearn.ensemble import BaggingClassifier\n",
        "from sklearn.tree import DecisionTreeClassifier\n",
        "# max_samples: maximum size 0.5=50% of each sample taken from the full dataset\n",
        "# max_features: maximum of features 1=100% taken here all 10K \n",
        "# n_estimators: number of decision trees \n",
        "bg_clf=BaggingClassifier(DecisionTreeClassifier(),max_samples=0.5,max_features=1.0,n_estimators=10)\n",
        "bg_clf.fit(X_train, y_train)\n"
      ],
      "metadata": {
        "colab": {
          "base_uri": "https://localhost:8080/"
        },
        "outputId": "6ada0800-70ee-4886-ba2b-1ad2519ef3b8",
        "id": "-irCB0E7NdzA"
      },
      "execution_count": null,
      "outputs": [
        {
          "output_type": "execute_result",
          "data": {
            "text/plain": [
              "BaggingClassifier(base_estimator=DecisionTreeClassifier(), max_samples=0.5)"
            ]
          },
          "metadata": {},
          "execution_count": 267
        }
      ]
    },
    {
      "cell_type": "code",
      "source": [
        "print(f\"Bagging Decision Tree scored {bg_clf.score(X_test, y_test).round(5)} on test\")\n",
        "print(f\"Bagging Decision Tree scored {bg_clf.score(X_train, y_train).round(5)} on train\")"
      ],
      "metadata": {
        "colab": {
          "base_uri": "https://localhost:8080/"
        },
        "outputId": "c43aef62-6ce3-47c6-d0c1-55c6f7ab4e17",
        "id": "h8vRAPloNdzA"
      },
      "execution_count": null,
      "outputs": [
        {
          "output_type": "stream",
          "name": "stdout",
          "text": [
            "Bagging Decision Tree scored 0.97615 on test\n",
            "Bagging Decision Tree scored 0.99634 on train\n"
          ]
        }
      ]
    },
    {
      "cell_type": "markdown",
      "source": [
        "#### Confusion Matrix for bg_clf train"
      ],
      "metadata": {
        "id": "fWDoVNX4NdzB"
      }
    },
    {
      "cell_type": "code",
      "source": [
        "from sklearn.model_selection import cross_val_predict\n",
        "\n",
        "y_train_pred = cross_val_predict(bg_clf, X_train, y_train, cv=3)"
      ],
      "metadata": {
        "id": "xxUDEUScNdzB"
      },
      "execution_count": null,
      "outputs": []
    },
    {
      "cell_type": "code",
      "source": [
        "from sklearn.metrics import confusion_matrix\n",
        "cm = confusion_matrix(y_train, y_train_pred)\n",
        "cm"
      ],
      "metadata": {
        "colab": {
          "base_uri": "https://localhost:8080/"
        },
        "outputId": "2e5e183c-38da-4f04-910a-d2c89f7699a5",
        "id": "50NpffJ_NdzB"
      },
      "execution_count": null,
      "outputs": [
        {
          "output_type": "execute_result",
          "data": {
            "text/plain": [
              "array([[686,  18],\n",
              "       [ 14, 649]])"
            ]
          },
          "metadata": {},
          "execution_count": 270
        }
      ]
    },
    {
      "cell_type": "code",
      "source": [
        "from sklearn.metrics import precision_score, recall_score\n",
        "precision_score(y_train, y_train_pred).round(5)"
      ],
      "metadata": {
        "colab": {
          "base_uri": "https://localhost:8080/"
        },
        "outputId": "93e78f95-6e47-4428-8eeb-b273a5a3a973",
        "id": "_Xl_bzYzNdzC"
      },
      "execution_count": null,
      "outputs": [
        {
          "output_type": "execute_result",
          "data": {
            "text/plain": [
              "0.97301"
            ]
          },
          "metadata": {},
          "execution_count": 271
        }
      ]
    },
    {
      "cell_type": "code",
      "source": [
        "recall_score(y_train, y_train_pred).round(5)"
      ],
      "metadata": {
        "colab": {
          "base_uri": "https://localhost:8080/"
        },
        "outputId": "1bf6f9af-5aee-4885-b8e9-c06e8629e1cb",
        "id": "i_MsVFtbNdzC"
      },
      "execution_count": null,
      "outputs": [
        {
          "output_type": "execute_result",
          "data": {
            "text/plain": [
              "0.97888"
            ]
          },
          "metadata": {},
          "execution_count": 272
        }
      ]
    },
    {
      "cell_type": "code",
      "source": [
        "from sklearn.metrics import f1_score\n",
        "f1_score(y_train, y_train_pred).round(5)"
      ],
      "metadata": {
        "colab": {
          "base_uri": "https://localhost:8080/"
        },
        "outputId": "be04bcc3-09e0-4fe3-a784-f0baf6e04771",
        "id": "WIFr9DJmNdzD"
      },
      "execution_count": null,
      "outputs": [
        {
          "output_type": "execute_result",
          "data": {
            "text/plain": [
              "0.97594"
            ]
          },
          "metadata": {},
          "execution_count": 273
        }
      ]
    },
    {
      "cell_type": "code",
      "source": [
        "from sklearn.metrics import ConfusionMatrixDisplay\n",
        "ConfusionMatrixDisplay.from_predictions(y_train, y_train_pred)\n",
        "save_fig(\"pizd_+whois_bg_train_cm\")\n",
        "plt.show"
      ],
      "metadata": {
        "colab": {
          "base_uri": "https://localhost:8080/"
        },
        "id": "EpWg5xeeG36j",
        "outputId": "cb6b61ad-e229-4414-d528-b182238e33e5"
      },
      "execution_count": null,
      "outputs": [
        {
          "output_type": "execute_result",
          "data": {
            "text/plain": [
              "<function matplotlib.pyplot.show(*args, **kw)>"
            ]
          },
          "metadata": {},
          "execution_count": 274
        },
        {
          "output_type": "display_data",
          "data": {
            "text/plain": [
              "<Figure size 432x288 with 2 Axes>"
            ],
            "image/png": "[encoded data removed]"
          },
          "metadata": {
            "needs_background": "light"
          }
        }
      ]
    },
    {
      "cell_type": "markdown",
      "source": [
        "#### Confusion Matrix for bg_clf test"
      ],
      "metadata": {
        "id": "KptbNLORHZQO"
      }
    },
    {
      "cell_type": "code",
      "source": [
        "from sklearn.model_selection import cross_val_predict\n",
        "\n",
        "y_test_pred = cross_val_predict(bg_clf, X_test, y_test, cv=3)"
      ],
      "metadata": {
        "id": "4HuEM7jTHZQO"
      },
      "execution_count": null,
      "outputs": []
    },
    {
      "cell_type": "code",
      "source": [
        "from sklearn.metrics import confusion_matrix\n",
        "cm = confusion_matrix(y_test, y_test_pred)\n",
        "cm"
      ],
      "metadata": {
        "colab": {
          "base_uri": "https://localhost:8080/"
        },
        "outputId": "5f667e33-fa17-4c0b-db20-dc7ce7b677c4",
        "id": "bOBtSmc9HZQO"
      },
      "execution_count": null,
      "outputs": [
        {
          "output_type": "execute_result",
          "data": {
            "text/plain": [
              "array([[288,   6],\n",
              "       [  8, 285]])"
            ]
          },
          "metadata": {},
          "execution_count": 276
        }
      ]
    },
    {
      "cell_type": "code",
      "source": [
        "from sklearn.metrics import precision_score, recall_score\n",
        "precision_score(y_test, y_test_pred).round(5)"
      ],
      "metadata": {
        "colab": {
          "base_uri": "https://localhost:8080/"
        },
        "outputId": "67c4f687-c4a1-4e64-f537-c82fba3480c4",
        "id": "9dsbNcl7HZQP"
      },
      "execution_count": null,
      "outputs": [
        {
          "output_type": "execute_result",
          "data": {
            "text/plain": [
              "0.97938"
            ]
          },
          "metadata": {},
          "execution_count": 277
        }
      ]
    },
    {
      "cell_type": "code",
      "source": [
        "recall_score(y_test, y_test_pred).round(5)"
      ],
      "metadata": {
        "colab": {
          "base_uri": "https://localhost:8080/"
        },
        "outputId": "87433c03-e283-4615-8c6c-9d70741e3b25",
        "id": "rF1Ha89VHZQP"
      },
      "execution_count": null,
      "outputs": [
        {
          "output_type": "execute_result",
          "data": {
            "text/plain": [
              "0.9727"
            ]
          },
          "metadata": {},
          "execution_count": 278
        }
      ]
    },
    {
      "cell_type": "code",
      "source": [
        "from sklearn.metrics import f1_score\n",
        "f1_score(y_test, y_test_pred).round(5)"
      ],
      "metadata": {
        "colab": {
          "base_uri": "https://localhost:8080/"
        },
        "outputId": "b9638d7d-bea3-418e-8e10-f0775a95c3c8",
        "id": "iLJzK_JSHZQP"
      },
      "execution_count": null,
      "outputs": [
        {
          "output_type": "execute_result",
          "data": {
            "text/plain": [
              "0.97603"
            ]
          },
          "metadata": {},
          "execution_count": 279
        }
      ]
    },
    {
      "cell_type": "code",
      "source": [
        "from sklearn.metrics import ConfusionMatrixDisplay\n",
        "ConfusionMatrixDisplay.from_predictions(y_test, y_test_pred)\n",
        "save_fig(\"pizd_+whois_bg_test_cm\")\n",
        "plt.show"
      ],
      "metadata": {
        "id": "tSrjlpUpF3Fv",
        "colab": {
          "base_uri": "https://localhost:8080/"
        },
        "outputId": "6e0c4657-7c60-47fa-c523-6157c29973c5"
      },
      "execution_count": null,
      "outputs": [
        {
          "output_type": "execute_result",
          "data": {
            "text/plain": [
              "<function matplotlib.pyplot.show(*args, **kw)>"
            ]
          },
          "metadata": {},
          "execution_count": 280
        },
        {
          "output_type": "display_data",
          "data": {
            "text/plain": [
              "<Figure size 432x288 with 2 Axes>"
            ],
            "image/png": "[encoded data removed]"
          },
          "metadata": {
            "needs_background": "light"
          }
        }
      ]
    },
    {
      "cell_type": "markdown",
      "source": [
        "### ✅Boosting Decision Tree (ADB) classifier (ensemble)"
      ],
      "metadata": {
        "id": "-aPg2aXxOzXe"
      }
    },
    {
      "cell_type": "code",
      "source": [
        "from sklearn.ensemble import AdaBoostClassifier\n",
        "from sklearn.tree import DecisionTreeClassifier\n",
        "from sklearn.model_selection import GridSearchCV\n",
        "from pprint import pprint"
      ],
      "metadata": {
        "id": "LjqC-fyebGRZ"
      },
      "execution_count": null,
      "outputs": []
    },
    {
      "cell_type": "code",
      "source": [
        "adb_clf = AdaBoostClassifier(DecisionTreeClassifier())"
      ],
      "metadata": {
        "id": "gXyAniVubNF3"
      },
      "execution_count": null,
      "outputs": []
    },
    {
      "cell_type": "code",
      "source": [
        "print('Parameters currently in use:\\n')\n",
        "pprint(adb_clf.get_params())"
      ],
      "metadata": {
        "colab": {
          "base_uri": "https://localhost:8080/"
        },
        "id": "tPPSpowHbfqR",
        "outputId": "449beb03-4ee0-4248-8603-f84b7c5d114b"
      },
      "execution_count": null,
      "outputs": [
        {
          "output_type": "stream",
          "name": "stdout",
          "text": [
            "Parameters currently in use:\n",
            "\n",
            "{'algorithm': 'SAMME.R',\n",
            " 'base_estimator': DecisionTreeClassifier(),\n",
            " 'base_estimator__ccp_alpha': 0.0,\n",
            " 'base_estimator__class_weight': None,\n",
            " 'base_estimator__criterion': 'gini',\n",
            " 'base_estimator__max_depth': None,\n",
            " 'base_estimator__max_features': None,\n",
            " 'base_estimator__max_leaf_nodes': None,\n",
            " 'base_estimator__min_impurity_decrease': 0.0,\n",
            " 'base_estimator__min_samples_leaf': 1,\n",
            " 'base_estimator__min_samples_split': 2,\n",
            " 'base_estimator__min_weight_fraction_leaf': 0.0,\n",
            " 'base_estimator__random_state': None,\n",
            " 'base_estimator__splitter': 'best',\n",
            " 'learning_rate': 1.0,\n",
            " 'n_estimators': 50,\n",
            " 'random_state': None}\n"
          ]
        }
      ]
    },
    {
      "cell_type": "code",
      "source": [
        "param_grid = {'base_estimator__max_depth':[i for i in range(2,11,2)],\n",
        "              'base_estimator__min_samples_leaf':[5,10],\n",
        "              'n_estimators':[10,50,250,1000],\n",
        "              'learning_rate':[0.01,0.1]\n",
        "              }"
      ],
      "metadata": {
        "id": "YOZnh1b9brs3"
      },
      "execution_count": null,
      "outputs": []
    },
    {
      "cell_type": "code",
      "source": [
        "#GSCV_adb_clf = GridSearchCV(adb_clf, param_grid=param_grid, scoring='f1', n_jobs=-1)\n",
        "#GSCV_adb_clf.fit(X_train, y_train)"
      ],
      "metadata": {
        "id": "d0uj_YcPb9ig"
      },
      "execution_count": null,
      "outputs": []
    },
    {
      "cell_type": "code",
      "source": [
        "#GSCV_adb_clf.best_params_"
      ],
      "metadata": {
        "id": "RjYt-ffbtRIx"
      },
      "execution_count": null,
      "outputs": []
    },
    {
      "cell_type": "code",
      "source": [
        "adb_clf1 = AdaBoostClassifier(DecisionTreeClassifier(min_samples_leaf=5,max_depth=6),n_estimators=10,learning_rate=0.01)"
      ],
      "metadata": {
        "id": "9T4kVLEqtQ-0"
      },
      "execution_count": null,
      "outputs": []
    },
    {
      "cell_type": "code",
      "source": [
        "adb_clf1.fit(X_train, y_train)"
      ],
      "metadata": {
        "colab": {
          "base_uri": "https://localhost:8080/"
        },
        "id": "k9TgF7yjtQ2G",
        "outputId": "b0713814-02dd-4b59-9d04-117ca64ee931"
      },
      "execution_count": null,
      "outputs": [
        {
          "output_type": "execute_result",
          "data": {
            "text/plain": [
              "AdaBoostClassifier(base_estimator=DecisionTreeClassifier(max_depth=6,\n",
              "                                                         min_samples_leaf=5),\n",
              "                   learning_rate=0.01, n_estimators=10)"
            ]
          },
          "metadata": {},
          "execution_count": 288
        }
      ]
    },
    {
      "cell_type": "code",
      "source": [
        "print(f\"AdaBoost Classifier scored {adb_clf1.score(X_test, y_test).round(5)} on test\")\n",
        "print(f\"AdaBoost Classifier scored {adb_clf1.score(X_train, y_train).round(5)} on train\")"
      ],
      "metadata": {
        "colab": {
          "base_uri": "https://localhost:8080/"
        },
        "outputId": "5f7ad86a-8501-48bb-f505-63c043a8accf",
        "id": "JWItlt8COzXf"
      },
      "execution_count": null,
      "outputs": [
        {
          "output_type": "stream",
          "name": "stdout",
          "text": [
            "AdaBoost Classifier scored 0.97615 on test\n",
            "AdaBoost Classifier scored 0.99342 on train\n"
          ]
        }
      ]
    },
    {
      "cell_type": "markdown",
      "source": [
        "#### Confusion Matrix for adb_clf train"
      ],
      "metadata": {
        "id": "KxQI4QE-OzXf"
      }
    },
    {
      "cell_type": "code",
      "source": [
        "from sklearn.model_selection import cross_val_predict\n",
        "\n",
        "y_train_pred = cross_val_predict(adb_clf1, X_train, y_train, cv=3)"
      ],
      "metadata": {
        "id": "pwG2uuJSOzXf"
      },
      "execution_count": null,
      "outputs": []
    },
    {
      "cell_type": "code",
      "source": [
        "from sklearn.metrics import confusion_matrix\n",
        "cm = confusion_matrix(y_train, y_train_pred)\n",
        "cm"
      ],
      "metadata": {
        "colab": {
          "base_uri": "https://localhost:8080/"
        },
        "outputId": "e64e2d13-0187-4801-dd68-055a3db0e029",
        "id": "q4onkjRxOzXf"
      },
      "execution_count": null,
      "outputs": [
        {
          "output_type": "execute_result",
          "data": {
            "text/plain": [
              "array([[691,  13],\n",
              "       [ 13, 650]])"
            ]
          },
          "metadata": {},
          "execution_count": 291
        }
      ]
    },
    {
      "cell_type": "code",
      "source": [
        "from sklearn.metrics import precision_score, recall_score\n",
        "precision_score(y_train, y_train_pred).round(5)"
      ],
      "metadata": {
        "colab": {
          "base_uri": "https://localhost:8080/"
        },
        "outputId": "d879a33d-64a3-41df-8bf7-3241f5292ae2",
        "id": "ySanJJvVOzXf"
      },
      "execution_count": null,
      "outputs": [
        {
          "output_type": "execute_result",
          "data": {
            "text/plain": [
              "0.98039"
            ]
          },
          "metadata": {},
          "execution_count": 292
        }
      ]
    },
    {
      "cell_type": "code",
      "source": [
        "recall_score(y_train, y_train_pred).round(5)"
      ],
      "metadata": {
        "colab": {
          "base_uri": "https://localhost:8080/"
        },
        "outputId": "74913e94-2f00-4920-caa8-6b242c13b34e",
        "id": "i286TrdkOzXf"
      },
      "execution_count": null,
      "outputs": [
        {
          "output_type": "execute_result",
          "data": {
            "text/plain": [
              "0.98039"
            ]
          },
          "metadata": {},
          "execution_count": 293
        }
      ]
    },
    {
      "cell_type": "code",
      "source": [
        "from sklearn.metrics import f1_score\n",
        "f1_score(y_train, y_train_pred).round(5)"
      ],
      "metadata": {
        "colab": {
          "base_uri": "https://localhost:8080/"
        },
        "outputId": "89919513-d20a-46ef-f352-b4403fa1a7ff",
        "id": "tjq48f0sOzXg"
      },
      "execution_count": null,
      "outputs": [
        {
          "output_type": "execute_result",
          "data": {
            "text/plain": [
              "0.98039"
            ]
          },
          "metadata": {},
          "execution_count": 294
        }
      ]
    },
    {
      "cell_type": "code",
      "source": [
        "from sklearn.metrics import ConfusionMatrixDisplay\n",
        "ConfusionMatrixDisplay.from_predictions(y_train, y_train_pred)\n",
        "save_fig(\"pizd_+whois_adb_train_cm\")\n",
        "plt.show"
      ],
      "metadata": {
        "colab": {
          "base_uri": "https://localhost:8080/"
        },
        "id": "RiUXAUzaI34H",
        "outputId": "a4ee6d4b-a22b-4ab7-c6af-b14e2c78048b"
      },
      "execution_count": null,
      "outputs": [
        {
          "output_type": "execute_result",
          "data": {
            "text/plain": [
              "<function matplotlib.pyplot.show(*args, **kw)>"
            ]
          },
          "metadata": {},
          "execution_count": 295
        },
        {
          "output_type": "display_data",
          "data": {
            "text/plain": [
              "<Figure size 432x288 with 2 Axes>"
            ],
            "image/png": "[encoded data removed]"
          },
          "metadata": {
            "needs_background": "light"
          }
        }
      ]
    },
    {
      "cell_type": "markdown",
      "source": [
        "#### Confusion Matrix for adb_clf test"
      ],
      "metadata": {
        "id": "PemSerD7JQA4"
      }
    },
    {
      "cell_type": "code",
      "source": [
        "from sklearn.model_selection import cross_val_predict\n",
        "\n",
        "y_test_pred = cross_val_predict(adb_clf1, X_test, y_test, cv=3)"
      ],
      "metadata": {
        "id": "Mw7X9hVVJQA5"
      },
      "execution_count": null,
      "outputs": []
    },
    {
      "cell_type": "code",
      "source": [
        "from sklearn.metrics import confusion_matrix\n",
        "cm = confusion_matrix(y_test, y_test_pred)\n",
        "cm"
      ],
      "metadata": {
        "colab": {
          "base_uri": "https://localhost:8080/"
        },
        "outputId": "aa13f442-0bdc-42f2-9544-c50100e01889",
        "id": "PASwR4GMJQA5"
      },
      "execution_count": null,
      "outputs": [
        {
          "output_type": "execute_result",
          "data": {
            "text/plain": [
              "array([[288,   6],\n",
              "       [ 10, 283]])"
            ]
          },
          "metadata": {},
          "execution_count": 297
        }
      ]
    },
    {
      "cell_type": "code",
      "source": [
        "from sklearn.metrics import precision_score, recall_score\n",
        "precision_score(y_test, y_test_pred).round(5)"
      ],
      "metadata": {
        "colab": {
          "base_uri": "https://localhost:8080/"
        },
        "outputId": "611e548a-56f9-4dad-db48-6c34bed48fe0",
        "id": "P50PB2A4JQA5"
      },
      "execution_count": null,
      "outputs": [
        {
          "output_type": "execute_result",
          "data": {
            "text/plain": [
              "0.97924"
            ]
          },
          "metadata": {},
          "execution_count": 298
        }
      ]
    },
    {
      "cell_type": "code",
      "source": [
        "recall_score(y_test, y_test_pred).round(5)"
      ],
      "metadata": {
        "colab": {
          "base_uri": "https://localhost:8080/"
        },
        "outputId": "8da9c1fe-4ce3-4167-f972-d28130fcf38d",
        "id": "DiUR17lZJQA6"
      },
      "execution_count": null,
      "outputs": [
        {
          "output_type": "execute_result",
          "data": {
            "text/plain": [
              "0.96587"
            ]
          },
          "metadata": {},
          "execution_count": 299
        }
      ]
    },
    {
      "cell_type": "code",
      "source": [
        "from sklearn.metrics import f1_score\n",
        "f1_score(y_test, y_test_pred).round(5)"
      ],
      "metadata": {
        "colab": {
          "base_uri": "https://localhost:8080/"
        },
        "outputId": "a48e7b51-6daa-41f0-9cbc-905827536ca2",
        "id": "h71jJYGQJQA6"
      },
      "execution_count": null,
      "outputs": [
        {
          "output_type": "execute_result",
          "data": {
            "text/plain": [
              "0.97251"
            ]
          },
          "metadata": {},
          "execution_count": 300
        }
      ]
    },
    {
      "cell_type": "code",
      "source": [
        "from sklearn.metrics import ConfusionMatrixDisplay\n",
        "ConfusionMatrixDisplay.from_predictions(y_test, y_test_pred)\n",
        "save_fig(\"pizd_+whois_adb_test_cm\")\n",
        "plt.show"
      ],
      "metadata": {
        "id": "QcX_ZTxjJCig",
        "colab": {
          "base_uri": "https://localhost:8080/"
        },
        "outputId": "082c6250-c1fc-4a5c-88cc-0e8ee75f51b6"
      },
      "execution_count": null,
      "outputs": [
        {
          "output_type": "execute_result",
          "data": {
            "text/plain": [
              "<function matplotlib.pyplot.show(*args, **kw)>"
            ]
          },
          "metadata": {},
          "execution_count": 301
        },
        {
          "output_type": "display_data",
          "data": {
            "text/plain": [
              "<Figure size 432x288 with 2 Axes>"
            ],
            "image/png": "[encoded data removed]"
          },
          "metadata": {
            "needs_background": "light"
          }
        }
      ]
    },
    {
      "cell_type": "markdown",
      "source": [
        "### ✅Random Forest (RF) classifier (ensemble)"
      ],
      "metadata": {
        "id": "4oiTulpMOPvt"
      }
    },
    {
      "cell_type": "code",
      "source": [
        "from sklearn.ensemble import RandomForestClassifier\n",
        "from sklearn.model_selection import GridSearchCV\n",
        "from pprint import pprint"
      ],
      "metadata": {
        "id": "cIqzeFOuOj5F"
      },
      "execution_count": null,
      "outputs": []
    },
    {
      "cell_type": "code",
      "source": [
        "rf_clf = RandomForestClassifier(random_state=42)"
      ],
      "metadata": {
        "id": "MaMjP3W-ZU_E"
      },
      "execution_count": null,
      "outputs": []
    },
    {
      "cell_type": "code",
      "source": [
        "print('Parameters currently in use:\\n')\n",
        "pprint(rf_clf.get_params())"
      ],
      "metadata": {
        "colab": {
          "base_uri": "https://localhost:8080/"
        },
        "id": "Px6pQ6mEZdei",
        "outputId": "a78ef1ae-60d3-4325-f411-a05d47a5e869"
      },
      "execution_count": null,
      "outputs": [
        {
          "output_type": "stream",
          "name": "stdout",
          "text": [
            "Parameters currently in use:\n",
            "\n",
            "{'bootstrap': True,\n",
            " 'ccp_alpha': 0.0,\n",
            " 'class_weight': None,\n",
            " 'criterion': 'gini',\n",
            " 'max_depth': None,\n",
            " 'max_features': 'auto',\n",
            " 'max_leaf_nodes': None,\n",
            " 'max_samples': None,\n",
            " 'min_impurity_decrease': 0.0,\n",
            " 'min_samples_leaf': 1,\n",
            " 'min_samples_split': 2,\n",
            " 'min_weight_fraction_leaf': 0.0,\n",
            " 'n_estimators': 100,\n",
            " 'n_jobs': None,\n",
            " 'oob_score': False,\n",
            " 'random_state': 42,\n",
            " 'verbose': 0,\n",
            " 'warm_start': False}\n"
          ]
        }
      ]
    },
    {
      "cell_type": "code",
      "source": [
        "param_grid = { \n",
        "    'n_estimators': [200, 500],\n",
        "    'max_features': ['auto', 'sqrt', 'log2'],\n",
        "    'max_depth' : [4,5,6,7,8],\n",
        "    'criterion' :['gini', 'entropy']\n",
        "}"
      ],
      "metadata": {
        "id": "oBVPErS0_vQA"
      },
      "execution_count": null,
      "outputs": []
    },
    {
      "cell_type": "code",
      "source": [
        "#GSCV_rf_clf = GridSearchCV(estimator=rf_clf, param_grid=param_grid, cv=5)\n",
        "#GSCV_rf_clf.fit(X_train, y_train)\n"
      ],
      "metadata": {
        "id": "Lp_bph7b_7oF"
      },
      "execution_count": null,
      "outputs": []
    },
    {
      "cell_type": "code",
      "source": [
        "#GSCV_rf_clf.best_params_"
      ],
      "metadata": {
        "id": "uJattruzBFHT"
      },
      "execution_count": null,
      "outputs": []
    },
    {
      "cell_type": "code",
      "source": [
        "rf_clf1 = RandomForestClassifier(random_state=42, max_features='auto', n_estimators=200, \\\n",
        "                                 max_depth=5, criterion='gini')"
      ],
      "metadata": {
        "id": "f5MGLYVvBWAD"
      },
      "execution_count": null,
      "outputs": []
    },
    {
      "cell_type": "code",
      "source": [
        "rf_clf1.fit(X_train, y_train)"
      ],
      "metadata": {
        "colab": {
          "base_uri": "https://localhost:8080/"
        },
        "id": "cUEt3w2RB3PA",
        "outputId": "7ea56485-c3ae-4c00-e3c5-19da7c1f5e0a"
      },
      "execution_count": null,
      "outputs": [
        {
          "output_type": "execute_result",
          "data": {
            "text/plain": [
              "RandomForestClassifier(max_depth=5, n_estimators=200, random_state=42)"
            ]
          },
          "metadata": {},
          "execution_count": 309
        }
      ]
    },
    {
      "cell_type": "code",
      "source": [
        "print(f\"Random Forest scored {rf_clf1.score(X_test, y_test).round(5)} on test\")\n",
        "print(f\"Random Forest scored {rf_clf1.score(X_train, y_train).round(5)} on train\")"
      ],
      "metadata": {
        "colab": {
          "base_uri": "https://localhost:8080/"
        },
        "id": "-vZdijGVV-8D",
        "outputId": "2d4d8971-9d63-4030-eb20-47161777ad01"
      },
      "execution_count": null,
      "outputs": [
        {
          "output_type": "stream",
          "name": "stdout",
          "text": [
            "Random Forest scored 0.98126 on test\n",
            "Random Forest scored 0.99195 on train\n"
          ]
        }
      ]
    },
    {
      "cell_type": "markdown",
      "source": [
        "#### Confusion Matrix for rf_clf1 train"
      ],
      "metadata": {
        "id": "q8XXGfdtahvn"
      }
    },
    {
      "cell_type": "code",
      "source": [
        "from sklearn.model_selection import cross_val_predict\n",
        "\n",
        "y_train_pred = cross_val_predict(rf_clf1, X_train, y_train, cv=3)"
      ],
      "metadata": {
        "id": "-spnHbs_GggK"
      },
      "execution_count": null,
      "outputs": []
    },
    {
      "cell_type": "code",
      "source": [
        "from sklearn.metrics import confusion_matrix\n",
        "cm = confusion_matrix(y_train, y_train_pred)\n",
        "cm"
      ],
      "metadata": {
        "id": "ImIsf67tG5i8",
        "colab": {
          "base_uri": "https://localhost:8080/"
        },
        "outputId": "627e2e17-958d-4dd1-f8f6-628bfd0c1804"
      },
      "execution_count": null,
      "outputs": [
        {
          "output_type": "execute_result",
          "data": {
            "text/plain": [
              "array([[696,   8],\n",
              "       [ 14, 649]])"
            ]
          },
          "metadata": {},
          "execution_count": 312
        }
      ]
    },
    {
      "cell_type": "code",
      "source": [
        "from sklearn.metrics import precision_score, recall_score\n",
        "precision_score(y_train, y_train_pred).round(5)"
      ],
      "metadata": {
        "id": "2BEMdN2cHOLl",
        "colab": {
          "base_uri": "https://localhost:8080/"
        },
        "outputId": "5839df7c-39ea-42b6-dd58-baf441fc31d8"
      },
      "execution_count": null,
      "outputs": [
        {
          "output_type": "execute_result",
          "data": {
            "text/plain": [
              "0.98782"
            ]
          },
          "metadata": {},
          "execution_count": 313
        }
      ]
    },
    {
      "cell_type": "code",
      "source": [
        "recall_score(y_train, y_train_pred).round(5)"
      ],
      "metadata": {
        "id": "VmGrN3xrHcpD",
        "colab": {
          "base_uri": "https://localhost:8080/"
        },
        "outputId": "b5d530aa-9524-46c0-d450-534e4286c18a"
      },
      "execution_count": null,
      "outputs": [
        {
          "output_type": "execute_result",
          "data": {
            "text/plain": [
              "0.97888"
            ]
          },
          "metadata": {},
          "execution_count": 314
        }
      ]
    },
    {
      "cell_type": "code",
      "source": [
        "from sklearn.metrics import f1_score\n",
        "f1_score(y_train, y_train_pred).round(5)"
      ],
      "metadata": {
        "id": "EB0NZ27-HhuH",
        "colab": {
          "base_uri": "https://localhost:8080/"
        },
        "outputId": "2f6761f7-1e89-4552-a37d-c08d34198972"
      },
      "execution_count": null,
      "outputs": [
        {
          "output_type": "execute_result",
          "data": {
            "text/plain": [
              "0.98333"
            ]
          },
          "metadata": {},
          "execution_count": 315
        }
      ]
    },
    {
      "cell_type": "code",
      "source": [
        "from sklearn.metrics import ConfusionMatrixDisplay\n",
        "ConfusionMatrixDisplay.from_predictions(y_train, y_train_pred)\n",
        "save_fig(\"pizd_+whois_rf_train_cm\")\n",
        "plt.show"
      ],
      "metadata": {
        "colab": {
          "base_uri": "https://localhost:8080/"
        },
        "id": "HAxWKbDZJjzb",
        "outputId": "49fc7f60-c859-4ea9-a305-befe41ca9bbf"
      },
      "execution_count": null,
      "outputs": [
        {
          "output_type": "execute_result",
          "data": {
            "text/plain": [
              "<function matplotlib.pyplot.show(*args, **kw)>"
            ]
          },
          "metadata": {},
          "execution_count": 316
        },
        {
          "output_type": "display_data",
          "data": {
            "text/plain": [
              "<Figure size 432x288 with 2 Axes>"
            ],
            "image/png": "[encoded data removed]"
          },
          "metadata": {
            "needs_background": "light"
          }
        }
      ]
    },
    {
      "cell_type": "markdown",
      "source": [
        "#### Confusion Matrix for rf_clf1 test"
      ],
      "metadata": {
        "id": "yB1nXAPnJ1mm"
      }
    },
    {
      "cell_type": "code",
      "source": [
        "from sklearn.model_selection import cross_val_predict\n",
        "\n",
        "y_test_pred = cross_val_predict(rf_clf1, X_test, y_test, cv=3)"
      ],
      "metadata": {
        "id": "uDtUP9srJ1mn"
      },
      "execution_count": null,
      "outputs": []
    },
    {
      "cell_type": "code",
      "source": [
        "from sklearn.metrics import confusion_matrix\n",
        "cm = confusion_matrix(y_test, y_test_pred)\n",
        "cm"
      ],
      "metadata": {
        "colab": {
          "base_uri": "https://localhost:8080/"
        },
        "outputId": "1e643f4f-5cc9-493f-d3c8-1c888776283b",
        "id": "Q-TQ6J_qJ1mn"
      },
      "execution_count": null,
      "outputs": [
        {
          "output_type": "execute_result",
          "data": {
            "text/plain": [
              "array([[283,  11],\n",
              "       [  6, 287]])"
            ]
          },
          "metadata": {},
          "execution_count": 318
        }
      ]
    },
    {
      "cell_type": "code",
      "source": [
        "from sklearn.metrics import precision_score, recall_score\n",
        "precision_score(y_test, y_test_pred).round(5)"
      ],
      "metadata": {
        "colab": {
          "base_uri": "https://localhost:8080/"
        },
        "outputId": "71162617-09f0-46c2-8fdc-fe3c6163ba4a",
        "id": "iz5RDf2yJ1mn"
      },
      "execution_count": null,
      "outputs": [
        {
          "output_type": "execute_result",
          "data": {
            "text/plain": [
              "0.96309"
            ]
          },
          "metadata": {},
          "execution_count": 319
        }
      ]
    },
    {
      "cell_type": "code",
      "source": [
        "recall_score(y_test, y_test_pred).round(5)"
      ],
      "metadata": {
        "colab": {
          "base_uri": "https://localhost:8080/"
        },
        "outputId": "4a535367-463e-49df-f117-4b6520a0877b",
        "id": "MAE736VZJ1mn"
      },
      "execution_count": null,
      "outputs": [
        {
          "output_type": "execute_result",
          "data": {
            "text/plain": [
              "0.97952"
            ]
          },
          "metadata": {},
          "execution_count": 320
        }
      ]
    },
    {
      "cell_type": "code",
      "source": [
        "from sklearn.metrics import f1_score\n",
        "f1_score(y_test, y_test_pred).round(5)"
      ],
      "metadata": {
        "colab": {
          "base_uri": "https://localhost:8080/"
        },
        "outputId": "c10aa964-85f8-4376-f163-ce338c5127a4",
        "id": "fIuyGsYTJ1mo"
      },
      "execution_count": null,
      "outputs": [
        {
          "output_type": "execute_result",
          "data": {
            "text/plain": [
              "0.97124"
            ]
          },
          "metadata": {},
          "execution_count": 321
        }
      ]
    },
    {
      "cell_type": "code",
      "source": [
        "from sklearn.metrics import ConfusionMatrixDisplay\n",
        "ConfusionMatrixDisplay.from_predictions(y_test, y_test_pred)\n",
        "save_fig(\"pizd_+whois_rf_test_cm\")\n",
        "plt.show"
      ],
      "metadata": {
        "id": "muWfX7UCJtYQ",
        "colab": {
          "base_uri": "https://localhost:8080/"
        },
        "outputId": "1d00ad10-a423-42d9-816d-20d96deefeb8"
      },
      "execution_count": null,
      "outputs": [
        {
          "output_type": "execute_result",
          "data": {
            "text/plain": [
              "<function matplotlib.pyplot.show(*args, **kw)>"
            ]
          },
          "metadata": {},
          "execution_count": 322
        },
        {
          "output_type": "display_data",
          "data": {
            "text/plain": [
              "<Figure size 432x288 with 2 Axes>"
            ],
            "image/png": "[encoded data removed]"
          },
          "metadata": {
            "needs_background": "light"
          }
        }
      ]
    },
    {
      "cell_type": "markdown",
      "source": [
        "### 👉Receiver Operating Characteristic (ROC) curve"
      ],
      "metadata": {
        "id": "yLaqPZwVywFt"
      }
    },
    {
      "cell_type": "code",
      "source": [
        "rndm_probs = [0 for _ in range(len(y_test))]\n",
        "mnb_probs = mnb_clf.predict_proba(X_test)\n",
        "lg_probs = lg_clf.predict_proba(X_test)\n",
        "knn_probs = knn_clf.predict_proba(X_test)\n",
        "svm_probs = svm_clf1.predict_proba(X_test_svm)\n",
        "dt_probs = dt_clf1.predict_proba(X_test)\n",
        "bg_probs = bg_clf.predict_proba(X_test)\n",
        "adb_probs = adb_clf1.predict_proba(X_test)\n",
        "rf_probs = rf_clf1.predict_proba(X_test)"
      ],
      "metadata": {
        "id": "vFhOYMOIy677"
      },
      "execution_count": null,
      "outputs": []
    },
    {
      "cell_type": "code",
      "source": [
        "mnb_probs = mnb_probs[:, 1]\n",
        "lg_probs = lg_probs[:, 1]\n",
        "knn_probs = knn_probs[:, 1]\n",
        "svm_probs = svm_probs[:, 1]\n",
        "dt_probs = dt_probs[:, 1]\n",
        "bg_probs = bg_probs[:, 1]\n",
        "adb_probs = adb_probs[:, 1]\n",
        "rf_probs = rf_probs[:, 1]"
      ],
      "metadata": {
        "id": "2DfI-E5Py677"
      },
      "execution_count": null,
      "outputs": []
    },
    {
      "cell_type": "code",
      "source": [
        "from sklearn.metrics import roc_curve, roc_auc_score"
      ],
      "metadata": {
        "id": "94t6pEXly677"
      },
      "execution_count": null,
      "outputs": []
    },
    {
      "cell_type": "code",
      "source": [
        "rndm_auc = roc_auc_score(y_test, rndm_probs)\n",
        "mnb_auc = roc_auc_score(y_test, mnb_probs)\n",
        "lg_auc = roc_auc_score(y_test, lg_probs)\n",
        "knn_auc = roc_auc_score(y_test, knn_probs)\n",
        "svm_auc = roc_auc_score(y_test, svm_probs)\n",
        "dt_auc = roc_auc_score(y_test, dt_probs)\n",
        "bg_auc = roc_auc_score(y_test, bg_probs)\n",
        "adb_auc = roc_auc_score(y_test, adb_probs)\n",
        "rf_auc = roc_auc_score(y_test, rf_probs)"
      ],
      "metadata": {
        "id": "uZ6AYtrny677"
      },
      "execution_count": null,
      "outputs": []
    },
    {
      "cell_type": "code",
      "source": [
        "print('Random (chance) Prediction: AUROC = %.5f' % (rndm_auc))\n",
        "print('Naive Bayes: AUROC = %.5f' % (mnb_auc))\n",
        "print('Logistic Regression: AUROC = %.5f' % (lg_auc))\n",
        "print('K-Nearest Neighbour: AUROC = %.5f' % (knn_auc))\n",
        "print('Support Vector Machine: AUROC = %.5f' % (svm_auc))\n",
        "print('Decision Tree: AUROC = %.5f' % (knn_auc))\n",
        "print('Bagging Decision Tree: AUROC = %.5f' % (bg_auc))\n",
        "print('Boosting Decision Tree: AUROC = %.5f' % (adb_auc))\n",
        "print('Random Forest: AUROC = %.5f' % (rf_auc))"
      ],
      "metadata": {
        "colab": {
          "base_uri": "https://localhost:8080/"
        },
        "outputId": "1e444d4a-8340-41a0-b8e2-f4764b38fec5",
        "id": "BmLp-5qhy677"
      },
      "execution_count": null,
      "outputs": [
        {
          "output_type": "stream",
          "name": "stdout",
          "text": [
            "Random (chance) Prediction: AUROC = 0.50000\n",
            "Naive Bayes: AUROC = 0.98732\n",
            "Logistic Regression: AUROC = 0.99754\n",
            "K-Nearest Neighbour: AUROC = 0.99122\n",
            "Support Vector Machine: AUROC = 0.97097\n",
            "Decision Tree: AUROC = 0.99122\n",
            "Bagging Decision Tree: AUROC = 0.99676\n",
            "Boosting Decision Tree: AUROC = 0.99886\n",
            "Random Forest: AUROC = 0.99855\n"
          ]
        }
      ]
    },
    {
      "cell_type": "code",
      "source": [
        "rndm_fpr, rndm_tpr, _ = roc_curve(y_test, rndm_probs)\n",
        "mnb_fpr, mnb_tpr, _ = roc_curve(y_test, mnb_probs)\n",
        "lg_fpr, lg_tpr, _ = roc_curve(y_test, lg_probs)\n",
        "knn_fpr, knn_tpr, _ = roc_curve(y_test, knn_probs)\n",
        "svm_fpr, svm_tpr, _ = roc_curve(y_test, svm_probs)\n",
        "dt_fpr, dt_tpr, _ = roc_curve(y_test, dt_probs)\n",
        "bg_fpr, bg_tpr, _ = roc_curve(y_test, bg_probs)\n",
        "adb_fpr, adb_tpr, _ = roc_curve(y_test, adb_probs)\n",
        "rf_fpr, rf_tpr, _ = roc_curve(y_test, rf_probs)"
      ],
      "metadata": {
        "id": "xrfeFYAJy678"
      },
      "execution_count": null,
      "outputs": []
    },
    {
      "cell_type": "code",
      "source": [
        "import matplotlib.pyplot as plt\n",
        "plt.rcParams.update({'font.size': 18})"
      ],
      "metadata": {
        "id": "vxIaAtYIy678"
      },
      "execution_count": null,
      "outputs": []
    },
    {
      "cell_type": "code",
      "source": [
        "plt.figure(figsize=(12, 8))\n",
        "plt.plot(rndm_fpr, rndm_tpr, linestyle='--')\n",
        "plt.plot(mnb_fpr, mnb_tpr, marker='.', label='NB AUC = %0.5f' % mnb_auc)\n",
        "plt.plot(lg_fpr, lg_tpr, marker='.', label='LG AUC = %0.5f' % lg_auc)\n",
        "plt.plot(knn_fpr, knn_tpr, marker='.', label='KNN AUC = %0.5f' % knn_auc)\n",
        "plt.plot(svm_fpr, svm_tpr, marker='.', label='SVM AUC = %0.5f' % svm_auc)\n",
        "plt.plot(dt_fpr, dt_tpr, marker='.', label='DT AUC = %0.5f' % knn_auc)\n",
        "plt.plot(bg_fpr, bg_tpr, marker='.', label='BG AUC = %0.5f' % bg_auc)\n",
        "plt.plot(adb_fpr, adb_tpr, marker='.', label='ADB AUC = %0.5f' % adb_auc)\n",
        "plt.plot(rf_fpr, rf_tpr, marker='.', label='RF AUC = %0.5f' % rf_auc)\n",
        "\n",
        "# Title\n",
        "#plt.title('ROC Plot', fontsize=22)\n",
        "# Axis labels\n",
        "plt.xlabel('False Positive Rate', fontsize=22)\n",
        "plt.ylabel('True Positive Rate', fontsize=22)\n",
        "# Show legend\n",
        "plt.legend(fontsize=23)\n",
        "# Save Fig\n",
        "save_fig(\"pizd_+whois_gscv_roc\")\n",
        "# Show plot\n",
        "plt.show()"
      ],
      "metadata": {
        "colab": {
          "base_uri": "https://localhost:8080/"
        },
        "outputId": "c1fbabbd-4a05-4f98-ecea-512a60871277",
        "id": "o-BERPAey678"
      },
      "execution_count": null,
      "outputs": [
        {
          "output_type": "display_data",
          "data": {
            "text/plain": [
              "<Figure size 864x576 with 1 Axes>"
            ],
            "image/png": "[encoded data removed]"
          },
          "metadata": {
            "needs_background": "light"
          }
        }
      ]
    }
  ]
}