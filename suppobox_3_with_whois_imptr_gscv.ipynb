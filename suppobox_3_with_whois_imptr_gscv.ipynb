{
  "nbformat": 4,
  "nbformat_minor": 0,
  "metadata": {
    "colab": {
      "provenance": [],
      "collapsed_sections": [
        "rl-TLGokmYf6",
        "O8Vb1kdojPI4",
        "yGB-kSCkjPJA",
        "b0GyX45JCBDp",
        "QZZynRycngOI",
        "TzOFE2irngOK",
        "0KSXsrQtMPWo",
        "hynEm0T6AiSp",
        "-jg4B8iyAiSq",
        "Hf9Ij1B-E73O",
        "jq0NFEP2BxmS",
        "yhD6wJhiGTTf",
        "fWDoVNX4NdzB",
        "KptbNLORHZQO",
        "KxQI4QE-OzXf",
        "PemSerD7JQA4",
        "q8XXGfdtahvn"
      ],
      "authorship_tag": "ABX9TyMIRVoxCqWGwLvZEXsNAD3Q",
      "include_colab_link": true
    },
    "kernelspec": {
      "name": "python3",
      "display_name": "Python 3"
    },
    "language_info": {
      "name": "python"
    }
  },
  "cells": [
    {
      "cell_type": "markdown",
      "metadata": {
        "id": "view-in-github",
        "colab_type": "text"
      },
      "source": [
        "<a href=\"https://colab.research.google.com/github/jcarey-shu/dissertation/blob/main/suppobox_3_with_whois_imptr_gscv.ipynb\" target=\"_parent\"><img src=\"https://colab.research.google.com/assets/colab-badge.svg\" alt=\"Open In Colab\"/></a>"
      ]
    },
    {
      "cell_type": "markdown",
      "source": [
        "## Load 3 👇 : suppobox_3 WHOIS imptr SHU. GridSearchCV. Train & Test."
      ],
      "metadata": {
        "id": "2pDxhUWCcFql"
      }
    },
    {
      "cell_type": "markdown",
      "source": [
        "### Load 3 = 1000 legit domains; 1000 suppobox_3 word-based DGAs; SHU 10 correlated features; with WHOIS history using iterative imputer to replace NaN. GridSearchCV. Train & Test."
      ],
      "metadata": {
        "id": "-NREjNRkYFhy"
      }
    },
    {
      "cell_type": "code",
      "source": [
        "from pathlib import Path\n",
        "import pandas as pd\n",
        "import numpy as np\n",
        "from google.colab import drive\n",
        "drive.mount('/content/gdrive')\n",
        "\n",
        "def load_data1():\n",
        "  return pd.read_csv(Path(\"/content/gdrive/MyDrive/Colab/Data/loads/raw_data/suppobox_3.1000+whois-history.csv\"))\n",
        "\n",
        "df1 = load_data1()"
      ],
      "metadata": {
        "colab": {
          "base_uri": "https://localhost:8080/"
        },
        "id": "jNIMZY0B5KiC",
        "outputId": "44cfe9ea-34e2-48f8-e67d-c5ddf58cad1b"
      },
      "execution_count": null,
      "outputs": [
        {
          "output_type": "stream",
          "name": "stdout",
          "text": [
            "Mounted at /content/gdrive\n"
          ]
        }
      ]
    },
    {
      "cell_type": "code",
      "source": [
        "display(df1)"
      ],
      "metadata": {
        "colab": {
          "base_uri": "https://localhost:8080/",
          "height": 487
        },
        "id": "DeawuyIPkM9K",
        "outputId": "577f4854-71d7-477f-ad58-602001cc8a28"
      },
      "execution_count": null,
      "outputs": [
        {
          "output_type": "display_data",
          "data": {
            "text/plain": [
              "                     domain  nlp_1g_25p  nlp_1g_50p  nlp_1g_75p  nlp_1g_cov  \\\n",
              "0     constancesheridan.net         0.0         0.0    0.050000    0.001534   \n",
              "1    clevelandcristians.net         0.0         0.0    0.047619    0.001431   \n",
              "2     sebastianmargaret.net         0.0         0.0    0.050000    0.001599   \n",
              "3    christinethompsett.net         0.0         0.0    0.047619    0.001592   \n",
              "4    christinagrenville.net         0.0         0.0    0.047619    0.001412   \n",
              "..                      ...         ...         ...         ...         ...   \n",
              "995  clevelandstrudwick.net         0.0         0.0    0.047619    0.001249   \n",
              "996   grosvenorjeremiah.net         0.0         0.0    0.050000    0.001409   \n",
              "997  laurenciathompsett.net         0.0         0.0    0.047619    0.001338   \n",
              "998  chrysantagrenville.net         0.0         0.0    0.047619    0.001336   \n",
              "999  grenvillenathaniel.net         0.0         0.0    0.047619    0.001605   \n",
              "\n",
              "     nlp_1g_dist  nlp_1g_dst_ca  nlp_1g_dst_ch  nlp_1g_dst_em  nlp_1g_dst_eu  \\\n",
              "0           11.0      33.440508       0.162816       9.771134       0.361222   \n",
              "1           11.0      32.816488       0.141997       9.133038       0.355627   \n",
              "2           10.0      33.246792       0.197077       9.321134       0.385316   \n",
              "3           11.0      32.279252       0.162242       6.294270       0.351701   \n",
              "4           12.0      32.523238       0.141997       8.466372       0.358581   \n",
              "..           ...            ...            ...            ...            ...   \n",
              "995         14.0      30.842122       0.141997       7.894943       0.322395   \n",
              "996         13.0      31.069861       0.199140       8.071134       0.339210   \n",
              "997         14.0      31.337082       0.141997       7.418753       0.322937   \n",
              "998         13.0      32.054607       0.141997       7.763466       0.343449   \n",
              "999         10.0      33.399248       0.189616       9.609229       0.392093   \n",
              "\n",
              "     ...  nlp_r_num_odn  nlp_r_sym_2dn  nlp_r_sym_fqdn  nlp_r_sym_odn  \\\n",
              "0    ...            0.0            0.0        0.047619            0.0   \n",
              "1    ...            0.0            0.0        0.045455            0.0   \n",
              "2    ...            0.0            0.0        0.047619            0.0   \n",
              "3    ...            0.0            0.0        0.045455            0.0   \n",
              "4    ...            0.0            0.0        0.045455            0.0   \n",
              "..   ...            ...            ...             ...            ...   \n",
              "995  ...            0.0            0.0        0.045455            0.0   \n",
              "996  ...            0.0            0.0        0.047619            0.0   \n",
              "997  ...            0.0            0.0        0.045455            0.0   \n",
              "998  ...            0.0            0.0        0.045455            0.0   \n",
              "999  ...            0.0            0.0        0.045455            0.0   \n",
              "\n",
              "     nlp_r_vow_2dn  nlp_r_vow_fqdn  nlp_r_vow_odn  whois_rec  whois_change  \\\n",
              "0         0.352941        0.333333            0.0          0           NaN   \n",
              "1         0.333333        0.318182            0.0          0           NaN   \n",
              "2         0.411765        0.380952            0.0          0           NaN   \n",
              "3         0.277778        0.272727            0.0          0           NaN   \n",
              "4         0.333333        0.318182            0.0          0           NaN   \n",
              "..             ...             ...            ...        ...           ...   \n",
              "995       0.277778        0.272727            0.0          0           NaN   \n",
              "996       0.411765        0.380952            0.0          0           NaN   \n",
              "997       0.388889        0.363636            0.0          0           NaN   \n",
              "998       0.277778        0.272727            0.0          0           NaN   \n",
              "999       0.388889        0.363636            0.0          0           NaN   \n",
              "\n",
              "     class  \n",
              "0        1  \n",
              "1        1  \n",
              "2        1  \n",
              "3        1  \n",
              "4        1  \n",
              "..     ...  \n",
              "995      1  \n",
              "996      1  \n",
              "997      1  \n",
              "998      1  \n",
              "999      1  \n",
              "\n",
              "[1000 rows x 134 columns]"
            ],
            "text/html": [
              "\n",
              "  <div id=\"df-9aff010e-c31b-4eea-8b81-075e0beacfe7\">\n",
              "    <div class=\"colab-df-container\">\n",
              "      <div>\n",
              "<style scoped>\n",
              "    .dataframe tbody tr th:only-of-type {\n",
              "        vertical-align: middle;\n",
              "    }\n",
              "\n",
              "    .dataframe tbody tr th {\n",
              "        vertical-align: top;\n",
              "    }\n",
              "\n",
              "    .dataframe thead th {\n",
              "        text-align: right;\n",
              "    }\n",
              "</style>\n",
              "<table border=\"1\" class=\"dataframe\">\n",
              "  <thead>\n",
              "    <tr style=\"text-align: right;\">\n",
              "      <th></th>\n",
              "      <th>domain</th>\n",
              "      <th>nlp_1g_25p</th>\n",
              "      <th>nlp_1g_50p</th>\n",
              "      <th>nlp_1g_75p</th>\n",
              "      <th>nlp_1g_cov</th>\n",
              "      <th>nlp_1g_dist</th>\n",
              "      <th>nlp_1g_dst_ca</th>\n",
              "      <th>nlp_1g_dst_ch</th>\n",
              "      <th>nlp_1g_dst_em</th>\n",
              "      <th>nlp_1g_dst_eu</th>\n",
              "      <th>...</th>\n",
              "      <th>nlp_r_num_odn</th>\n",
              "      <th>nlp_r_sym_2dn</th>\n",
              "      <th>nlp_r_sym_fqdn</th>\n",
              "      <th>nlp_r_sym_odn</th>\n",
              "      <th>nlp_r_vow_2dn</th>\n",
              "      <th>nlp_r_vow_fqdn</th>\n",
              "      <th>nlp_r_vow_odn</th>\n",
              "      <th>whois_rec</th>\n",
              "      <th>whois_change</th>\n",
              "      <th>class</th>\n",
              "    </tr>\n",
              "  </thead>\n",
              "  <tbody>\n",
              "    <tr>\n",
              "      <th>0</th>\n",
              "      <td>constancesheridan.net</td>\n",
              "      <td>0.0</td>\n",
              "      <td>0.0</td>\n",
              "      <td>0.050000</td>\n",
              "      <td>0.001534</td>\n",
              "      <td>11.0</td>\n",
              "      <td>33.440508</td>\n",
              "      <td>0.162816</td>\n",
              "      <td>9.771134</td>\n",
              "      <td>0.361222</td>\n",
              "      <td>...</td>\n",
              "      <td>0.0</td>\n",
              "      <td>0.0</td>\n",
              "      <td>0.047619</td>\n",
              "      <td>0.0</td>\n",
              "      <td>0.352941</td>\n",
              "      <td>0.333333</td>\n",
              "      <td>0.0</td>\n",
              "      <td>0</td>\n",
              "      <td>NaN</td>\n",
              "      <td>1</td>\n",
              "    </tr>\n",
              "    <tr>\n",
              "      <th>1</th>\n",
              "      <td>clevelandcristians.net</td>\n",
              "      <td>0.0</td>\n",
              "      <td>0.0</td>\n",
              "      <td>0.047619</td>\n",
              "      <td>0.001431</td>\n",
              "      <td>11.0</td>\n",
              "      <td>32.816488</td>\n",
              "      <td>0.141997</td>\n",
              "      <td>9.133038</td>\n",
              "      <td>0.355627</td>\n",
              "      <td>...</td>\n",
              "      <td>0.0</td>\n",
              "      <td>0.0</td>\n",
              "      <td>0.045455</td>\n",
              "      <td>0.0</td>\n",
              "      <td>0.333333</td>\n",
              "      <td>0.318182</td>\n",
              "      <td>0.0</td>\n",
              "      <td>0</td>\n",
              "      <td>NaN</td>\n",
              "      <td>1</td>\n",
              "    </tr>\n",
              "    <tr>\n",
              "      <th>2</th>\n",
              "      <td>sebastianmargaret.net</td>\n",
              "      <td>0.0</td>\n",
              "      <td>0.0</td>\n",
              "      <td>0.050000</td>\n",
              "      <td>0.001599</td>\n",
              "      <td>10.0</td>\n",
              "      <td>33.246792</td>\n",
              "      <td>0.197077</td>\n",
              "      <td>9.321134</td>\n",
              "      <td>0.385316</td>\n",
              "      <td>...</td>\n",
              "      <td>0.0</td>\n",
              "      <td>0.0</td>\n",
              "      <td>0.047619</td>\n",
              "      <td>0.0</td>\n",
              "      <td>0.411765</td>\n",
              "      <td>0.380952</td>\n",
              "      <td>0.0</td>\n",
              "      <td>0</td>\n",
              "      <td>NaN</td>\n",
              "      <td>1</td>\n",
              "    </tr>\n",
              "    <tr>\n",
              "      <th>3</th>\n",
              "      <td>christinethompsett.net</td>\n",
              "      <td>0.0</td>\n",
              "      <td>0.0</td>\n",
              "      <td>0.047619</td>\n",
              "      <td>0.001592</td>\n",
              "      <td>11.0</td>\n",
              "      <td>32.279252</td>\n",
              "      <td>0.162242</td>\n",
              "      <td>6.294270</td>\n",
              "      <td>0.351701</td>\n",
              "      <td>...</td>\n",
              "      <td>0.0</td>\n",
              "      <td>0.0</td>\n",
              "      <td>0.045455</td>\n",
              "      <td>0.0</td>\n",
              "      <td>0.277778</td>\n",
              "      <td>0.272727</td>\n",
              "      <td>0.0</td>\n",
              "      <td>0</td>\n",
              "      <td>NaN</td>\n",
              "      <td>1</td>\n",
              "    </tr>\n",
              "    <tr>\n",
              "      <th>4</th>\n",
              "      <td>christinagrenville.net</td>\n",
              "      <td>0.0</td>\n",
              "      <td>0.0</td>\n",
              "      <td>0.047619</td>\n",
              "      <td>0.001412</td>\n",
              "      <td>12.0</td>\n",
              "      <td>32.523238</td>\n",
              "      <td>0.141997</td>\n",
              "      <td>8.466372</td>\n",
              "      <td>0.358581</td>\n",
              "      <td>...</td>\n",
              "      <td>0.0</td>\n",
              "      <td>0.0</td>\n",
              "      <td>0.045455</td>\n",
              "      <td>0.0</td>\n",
              "      <td>0.333333</td>\n",
              "      <td>0.318182</td>\n",
              "      <td>0.0</td>\n",
              "      <td>0</td>\n",
              "      <td>NaN</td>\n",
              "      <td>1</td>\n",
              "    </tr>\n",
              "    <tr>\n",
              "      <th>...</th>\n",
              "      <td>...</td>\n",
              "      <td>...</td>\n",
              "      <td>...</td>\n",
              "      <td>...</td>\n",
              "      <td>...</td>\n",
              "      <td>...</td>\n",
              "      <td>...</td>\n",
              "      <td>...</td>\n",
              "      <td>...</td>\n",
              "      <td>...</td>\n",
              "      <td>...</td>\n",
              "      <td>...</td>\n",
              "      <td>...</td>\n",
              "      <td>...</td>\n",
              "      <td>...</td>\n",
              "      <td>...</td>\n",
              "      <td>...</td>\n",
              "      <td>...</td>\n",
              "      <td>...</td>\n",
              "      <td>...</td>\n",
              "      <td>...</td>\n",
              "    </tr>\n",
              "    <tr>\n",
              "      <th>995</th>\n",
              "      <td>clevelandstrudwick.net</td>\n",
              "      <td>0.0</td>\n",
              "      <td>0.0</td>\n",
              "      <td>0.047619</td>\n",
              "      <td>0.001249</td>\n",
              "      <td>14.0</td>\n",
              "      <td>30.842122</td>\n",
              "      <td>0.141997</td>\n",
              "      <td>7.894943</td>\n",
              "      <td>0.322395</td>\n",
              "      <td>...</td>\n",
              "      <td>0.0</td>\n",
              "      <td>0.0</td>\n",
              "      <td>0.045455</td>\n",
              "      <td>0.0</td>\n",
              "      <td>0.277778</td>\n",
              "      <td>0.272727</td>\n",
              "      <td>0.0</td>\n",
              "      <td>0</td>\n",
              "      <td>NaN</td>\n",
              "      <td>1</td>\n",
              "    </tr>\n",
              "    <tr>\n",
              "      <th>996</th>\n",
              "      <td>grosvenorjeremiah.net</td>\n",
              "      <td>0.0</td>\n",
              "      <td>0.0</td>\n",
              "      <td>0.050000</td>\n",
              "      <td>0.001409</td>\n",
              "      <td>13.0</td>\n",
              "      <td>31.069861</td>\n",
              "      <td>0.199140</td>\n",
              "      <td>8.071134</td>\n",
              "      <td>0.339210</td>\n",
              "      <td>...</td>\n",
              "      <td>0.0</td>\n",
              "      <td>0.0</td>\n",
              "      <td>0.047619</td>\n",
              "      <td>0.0</td>\n",
              "      <td>0.411765</td>\n",
              "      <td>0.380952</td>\n",
              "      <td>0.0</td>\n",
              "      <td>0</td>\n",
              "      <td>NaN</td>\n",
              "      <td>1</td>\n",
              "    </tr>\n",
              "    <tr>\n",
              "      <th>997</th>\n",
              "      <td>laurenciathompsett.net</td>\n",
              "      <td>0.0</td>\n",
              "      <td>0.0</td>\n",
              "      <td>0.047619</td>\n",
              "      <td>0.001338</td>\n",
              "      <td>14.0</td>\n",
              "      <td>31.337082</td>\n",
              "      <td>0.141997</td>\n",
              "      <td>7.418753</td>\n",
              "      <td>0.322937</td>\n",
              "      <td>...</td>\n",
              "      <td>0.0</td>\n",
              "      <td>0.0</td>\n",
              "      <td>0.045455</td>\n",
              "      <td>0.0</td>\n",
              "      <td>0.388889</td>\n",
              "      <td>0.363636</td>\n",
              "      <td>0.0</td>\n",
              "      <td>0</td>\n",
              "      <td>NaN</td>\n",
              "      <td>1</td>\n",
              "    </tr>\n",
              "    <tr>\n",
              "      <th>998</th>\n",
              "      <td>chrysantagrenville.net</td>\n",
              "      <td>0.0</td>\n",
              "      <td>0.0</td>\n",
              "      <td>0.047619</td>\n",
              "      <td>0.001336</td>\n",
              "      <td>13.0</td>\n",
              "      <td>32.054607</td>\n",
              "      <td>0.141997</td>\n",
              "      <td>7.763466</td>\n",
              "      <td>0.343449</td>\n",
              "      <td>...</td>\n",
              "      <td>0.0</td>\n",
              "      <td>0.0</td>\n",
              "      <td>0.045455</td>\n",
              "      <td>0.0</td>\n",
              "      <td>0.277778</td>\n",
              "      <td>0.272727</td>\n",
              "      <td>0.0</td>\n",
              "      <td>0</td>\n",
              "      <td>NaN</td>\n",
              "      <td>1</td>\n",
              "    </tr>\n",
              "    <tr>\n",
              "      <th>999</th>\n",
              "      <td>grenvillenathaniel.net</td>\n",
              "      <td>0.0</td>\n",
              "      <td>0.0</td>\n",
              "      <td>0.047619</td>\n",
              "      <td>0.001605</td>\n",
              "      <td>10.0</td>\n",
              "      <td>33.399248</td>\n",
              "      <td>0.189616</td>\n",
              "      <td>9.609229</td>\n",
              "      <td>0.392093</td>\n",
              "      <td>...</td>\n",
              "      <td>0.0</td>\n",
              "      <td>0.0</td>\n",
              "      <td>0.045455</td>\n",
              "      <td>0.0</td>\n",
              "      <td>0.388889</td>\n",
              "      <td>0.363636</td>\n",
              "      <td>0.0</td>\n",
              "      <td>0</td>\n",
              "      <td>NaN</td>\n",
              "      <td>1</td>\n",
              "    </tr>\n",
              "  </tbody>\n",
              "</table>\n",
              "<p>1000 rows × 134 columns</p>\n",
              "</div>\n",
              "      <button class=\"colab-df-convert\" onclick=\"convertToInteractive('df-9aff010e-c31b-4eea-8b81-075e0beacfe7')\"\n",
              "              title=\"Convert this dataframe to an interactive table.\"\n",
              "              style=\"display:none;\">\n",
              "        \n",
              "  <svg xmlns=\"http://www.w3.org/2000/svg\" height=\"24px\"viewBox=\"0 0 24 24\"\n",
              "       width=\"24px\">\n",
              "    <path d=\"M0 0h24v24H0V0z\" fill=\"none\"/>\n",
              "    <path d=\"M18.56 5.44l.94 2.06.94-2.06 2.06-.94-2.06-.94-.94-2.06-.94 2.06-2.06.94zm-11 1L8.5 8.5l.94-2.06 2.06-.94-2.06-.94L8.5 2.5l-.94 2.06-2.06.94zm10 10l.94 2.06.94-2.06 2.06-.94-2.06-.94-.94-2.06-.94 2.06-2.06.94z\"/><path d=\"M17.41 7.96l-1.37-1.37c-.4-.4-.92-.59-1.43-.59-.52 0-1.04.2-1.43.59L10.3 9.45l-7.72 7.72c-.78.78-.78 2.05 0 2.83L4 21.41c.39.39.9.59 1.41.59.51 0 1.02-.2 1.41-.59l7.78-7.78 2.81-2.81c.8-.78.8-2.07 0-2.86zM5.41 20L4 18.59l7.72-7.72 1.47 1.35L5.41 20z\"/>\n",
              "  </svg>\n",
              "      </button>\n",
              "      \n",
              "  <style>\n",
              "    .colab-df-container {\n",
              "      display:flex;\n",
              "      flex-wrap:wrap;\n",
              "      gap: 12px;\n",
              "    }\n",
              "\n",
              "    .colab-df-convert {\n",
              "      background-color: #E8F0FE;\n",
              "      border: none;\n",
              "      border-radius: 50%;\n",
              "      cursor: pointer;\n",
              "      display: none;\n",
              "      fill: #1967D2;\n",
              "      height: 32px;\n",
              "      padding: 0 0 0 0;\n",
              "      width: 32px;\n",
              "    }\n",
              "\n",
              "    .colab-df-convert:hover {\n",
              "      background-color: #E2EBFA;\n",
              "      box-shadow: 0px 1px 2px rgba(60, 64, 67, 0.3), 0px 1px 3px 1px rgba(60, 64, 67, 0.15);\n",
              "      fill: #174EA6;\n",
              "    }\n",
              "\n",
              "    [theme=dark] .colab-df-convert {\n",
              "      background-color: #3B4455;\n",
              "      fill: #D2E3FC;\n",
              "    }\n",
              "\n",
              "    [theme=dark] .colab-df-convert:hover {\n",
              "      background-color: #434B5C;\n",
              "      box-shadow: 0px 1px 3px 1px rgba(0, 0, 0, 0.15);\n",
              "      filter: drop-shadow(0px 1px 2px rgba(0, 0, 0, 0.3));\n",
              "      fill: #FFFFFF;\n",
              "    }\n",
              "  </style>\n",
              "\n",
              "      <script>\n",
              "        const buttonEl =\n",
              "          document.querySelector('#df-9aff010e-c31b-4eea-8b81-075e0beacfe7 button.colab-df-convert');\n",
              "        buttonEl.style.display =\n",
              "          google.colab.kernel.accessAllowed ? 'block' : 'none';\n",
              "\n",
              "        async function convertToInteractive(key) {\n",
              "          const element = document.querySelector('#df-9aff010e-c31b-4eea-8b81-075e0beacfe7');\n",
              "          const dataTable =\n",
              "            await google.colab.kernel.invokeFunction('convertToInteractive',\n",
              "                                                     [key], {});\n",
              "          if (!dataTable) return;\n",
              "\n",
              "          const docLinkHtml = 'Like what you see? Visit the ' +\n",
              "            '<a target=\"_blank\" href=https://colab.research.google.com/notebooks/data_table.ipynb>data table notebook</a>'\n",
              "            + ' to learn more about interactive tables.';\n",
              "          element.innerHTML = '';\n",
              "          dataTable['output_type'] = 'display_data';\n",
              "          await google.colab.output.renderOutput(dataTable, element);\n",
              "          const docLink = document.createElement('div');\n",
              "          docLink.innerHTML = docLinkHtml;\n",
              "          element.appendChild(docLink);\n",
              "        }\n",
              "      </script>\n",
              "    </div>\n",
              "  </div>\n",
              "  "
            ]
          },
          "metadata": {}
        }
      ]
    },
    {
      "cell_type": "markdown",
      "source": [
        "#### Code block below uses Iterative Imputer to replace NaN in whois_change col"
      ],
      "metadata": {
        "id": "7Fq9Q9lOvTjq"
      }
    },
    {
      "cell_type": "code",
      "source": [
        "# SHU Feature Selection\n",
        "df1.drop(df1.columns.difference(['nlp_l_2dn','nlp_3g_dist','nlp_l_fqdn','nlp_1g_e','nlp_2g_dist', \\\n",
        "                                 'nlp_2g_ken','nlp_2g_spe','nlp_3g_ken','nlp_3g_spe','nlp_3g_sumsq', \\\n",
        "                                 'whois_rec','whois_change','class']), axis=1, inplace=True)\n"
      ],
      "metadata": {
        "id": "Q6R0cpmnvmNA"
      },
      "execution_count": null,
      "outputs": []
    },
    {
      "cell_type": "code",
      "source": [
        "from sklearn.experimental import enable_iterative_imputer\n",
        "from sklearn.impute import IterativeImputer\n",
        "from sklearn.linear_model import BayesianRidge\n",
        "\n",
        "# SHU Feature Selection\n",
        "df1_1 = df1[['nlp_l_2dn','nlp_3g_dist','nlp_l_fqdn','nlp_1g_e','nlp_2g_dist', \\\n",
        "             'nlp_2g_ken','nlp_2g_spe','nlp_3g_ken','nlp_3g_spe','nlp_3g_sumsq', \\\n",
        "             'whois_rec','whois_change','class']]\n",
        "\n",
        "imptr = IterativeImputer(BayesianRidge())\n",
        "\n",
        "df1_2 = pd.DataFrame(imptr.fit_transform(df1_1), columns = df1_1.columns)"
      ],
      "metadata": {
        "id": "Joznl76tYtZ-"
      },
      "execution_count": null,
      "outputs": []
    },
    {
      "cell_type": "code",
      "source": [
        "display(df1_2)"
      ],
      "metadata": {
        "colab": {
          "base_uri": "https://localhost:8080/",
          "height": 423
        },
        "id": "RZL7AoI2xYWi",
        "outputId": "57f663c9-af7d-4447-f405-9b9a19e18543"
      },
      "execution_count": null,
      "outputs": [
        {
          "output_type": "display_data",
          "data": {
            "text/plain": [
              "     nlp_l_2dn  nlp_3g_dist  nlp_l_fqdn  nlp_1g_e  nlp_2g_dist  nlp_2g_ken  \\\n",
              "0         17.0         18.0        21.0  5.474625         18.0    0.184146   \n",
              "1         18.0         19.0        22.0  5.444985         19.0    0.189118   \n",
              "2         17.0         18.0        21.0  5.419135         17.0    0.179085   \n",
              "3         18.0         18.0        22.0  5.643714         17.0    0.179089   \n",
              "4         18.0         19.0        22.0  5.397747         19.0    0.189118   \n",
              "..         ...          ...         ...       ...          ...         ...   \n",
              "995       18.0         19.0        22.0  4.783841         20.0    0.193883   \n",
              "996       17.0         18.0        21.0  5.045257         19.0    0.189048   \n",
              "997       18.0         19.0        22.0  5.525823         19.0    0.189118   \n",
              "998       18.0         19.0        22.0  5.232345         19.0    0.189118   \n",
              "999       18.0         19.0        22.0  5.582435         19.0    0.189118   \n",
              "\n",
              "     nlp_2g_spe  nlp_3g_ken  nlp_3g_spe  nlp_3g_sumsq  whois_rec  \\\n",
              "0      0.211477    0.055160    0.056981          18.0        0.0   \n",
              "1      0.217187    0.056671    0.058541          19.0        0.0   \n",
              "2      0.205600    0.055160    0.056981          18.0        0.0   \n",
              "3      0.205600    0.055161    0.056981          21.0        0.0   \n",
              "4      0.217187    0.056671    0.058541          19.0        0.0   \n",
              "..          ...         ...         ...           ...        ...   \n",
              "995    0.222740    0.056671    0.058541          19.0        0.0   \n",
              "996    0.217186    0.055160    0.056981          18.0        0.0   \n",
              "997    0.217187    0.056671    0.058541          19.0        0.0   \n",
              "998    0.217187    0.056671    0.058541          19.0        0.0   \n",
              "999    0.217187    0.056671    0.058541          19.0        0.0   \n",
              "\n",
              "     whois_change  class  \n",
              "0        0.161957    1.0  \n",
              "1        0.170767    1.0  \n",
              "2        0.154756    1.0  \n",
              "3        0.161317    1.0  \n",
              "4        0.171118    1.0  \n",
              "..            ...    ...  \n",
              "995      0.183292    1.0  \n",
              "996      0.172760    1.0  \n",
              "997      0.170167    1.0  \n",
              "998      0.172347    1.0  \n",
              "999      0.169746    1.0  \n",
              "\n",
              "[1000 rows x 13 columns]"
            ],
            "text/html": [
              "\n",
              "  <div id=\"df-fcd7ee18-08ce-4821-a761-b3c4e59ee66b\">\n",
              "    <div class=\"colab-df-container\">\n",
              "      <div>\n",
              "<style scoped>\n",
              "    .dataframe tbody tr th:only-of-type {\n",
              "        vertical-align: middle;\n",
              "    }\n",
              "\n",
              "    .dataframe tbody tr th {\n",
              "        vertical-align: top;\n",
              "    }\n",
              "\n",
              "    .dataframe thead th {\n",
              "        text-align: right;\n",
              "    }\n",
              "</style>\n",
              "<table border=\"1\" class=\"dataframe\">\n",
              "  <thead>\n",
              "    <tr style=\"text-align: right;\">\n",
              "      <th></th>\n",
              "      <th>nlp_l_2dn</th>\n",
              "      <th>nlp_3g_dist</th>\n",
              "      <th>nlp_l_fqdn</th>\n",
              "      <th>nlp_1g_e</th>\n",
              "      <th>nlp_2g_dist</th>\n",
              "      <th>nlp_2g_ken</th>\n",
              "      <th>nlp_2g_spe</th>\n",
              "      <th>nlp_3g_ken</th>\n",
              "      <th>nlp_3g_spe</th>\n",
              "      <th>nlp_3g_sumsq</th>\n",
              "      <th>whois_rec</th>\n",
              "      <th>whois_change</th>\n",
              "      <th>class</th>\n",
              "    </tr>\n",
              "  </thead>\n",
              "  <tbody>\n",
              "    <tr>\n",
              "      <th>0</th>\n",
              "      <td>17.0</td>\n",
              "      <td>18.0</td>\n",
              "      <td>21.0</td>\n",
              "      <td>5.474625</td>\n",
              "      <td>18.0</td>\n",
              "      <td>0.184146</td>\n",
              "      <td>0.211477</td>\n",
              "      <td>0.055160</td>\n",
              "      <td>0.056981</td>\n",
              "      <td>18.0</td>\n",
              "      <td>0.0</td>\n",
              "      <td>0.161957</td>\n",
              "      <td>1.0</td>\n",
              "    </tr>\n",
              "    <tr>\n",
              "      <th>1</th>\n",
              "      <td>18.0</td>\n",
              "      <td>19.0</td>\n",
              "      <td>22.0</td>\n",
              "      <td>5.444985</td>\n",
              "      <td>19.0</td>\n",
              "      <td>0.189118</td>\n",
              "      <td>0.217187</td>\n",
              "      <td>0.056671</td>\n",
              "      <td>0.058541</td>\n",
              "      <td>19.0</td>\n",
              "      <td>0.0</td>\n",
              "      <td>0.170767</td>\n",
              "      <td>1.0</td>\n",
              "    </tr>\n",
              "    <tr>\n",
              "      <th>2</th>\n",
              "      <td>17.0</td>\n",
              "      <td>18.0</td>\n",
              "      <td>21.0</td>\n",
              "      <td>5.419135</td>\n",
              "      <td>17.0</td>\n",
              "      <td>0.179085</td>\n",
              "      <td>0.205600</td>\n",
              "      <td>0.055160</td>\n",
              "      <td>0.056981</td>\n",
              "      <td>18.0</td>\n",
              "      <td>0.0</td>\n",
              "      <td>0.154756</td>\n",
              "      <td>1.0</td>\n",
              "    </tr>\n",
              "    <tr>\n",
              "      <th>3</th>\n",
              "      <td>18.0</td>\n",
              "      <td>18.0</td>\n",
              "      <td>22.0</td>\n",
              "      <td>5.643714</td>\n",
              "      <td>17.0</td>\n",
              "      <td>0.179089</td>\n",
              "      <td>0.205600</td>\n",
              "      <td>0.055161</td>\n",
              "      <td>0.056981</td>\n",
              "      <td>21.0</td>\n",
              "      <td>0.0</td>\n",
              "      <td>0.161317</td>\n",
              "      <td>1.0</td>\n",
              "    </tr>\n",
              "    <tr>\n",
              "      <th>4</th>\n",
              "      <td>18.0</td>\n",
              "      <td>19.0</td>\n",
              "      <td>22.0</td>\n",
              "      <td>5.397747</td>\n",
              "      <td>19.0</td>\n",
              "      <td>0.189118</td>\n",
              "      <td>0.217187</td>\n",
              "      <td>0.056671</td>\n",
              "      <td>0.058541</td>\n",
              "      <td>19.0</td>\n",
              "      <td>0.0</td>\n",
              "      <td>0.171118</td>\n",
              "      <td>1.0</td>\n",
              "    </tr>\n",
              "    <tr>\n",
              "      <th>...</th>\n",
              "      <td>...</td>\n",
              "      <td>...</td>\n",
              "      <td>...</td>\n",
              "      <td>...</td>\n",
              "      <td>...</td>\n",
              "      <td>...</td>\n",
              "      <td>...</td>\n",
              "      <td>...</td>\n",
              "      <td>...</td>\n",
              "      <td>...</td>\n",
              "      <td>...</td>\n",
              "      <td>...</td>\n",
              "      <td>...</td>\n",
              "    </tr>\n",
              "    <tr>\n",
              "      <th>995</th>\n",
              "      <td>18.0</td>\n",
              "      <td>19.0</td>\n",
              "      <td>22.0</td>\n",
              "      <td>4.783841</td>\n",
              "      <td>20.0</td>\n",
              "      <td>0.193883</td>\n",
              "      <td>0.222740</td>\n",
              "      <td>0.056671</td>\n",
              "      <td>0.058541</td>\n",
              "      <td>19.0</td>\n",
              "      <td>0.0</td>\n",
              "      <td>0.183292</td>\n",
              "      <td>1.0</td>\n",
              "    </tr>\n",
              "    <tr>\n",
              "      <th>996</th>\n",
              "      <td>17.0</td>\n",
              "      <td>18.0</td>\n",
              "      <td>21.0</td>\n",
              "      <td>5.045257</td>\n",
              "      <td>19.0</td>\n",
              "      <td>0.189048</td>\n",
              "      <td>0.217186</td>\n",
              "      <td>0.055160</td>\n",
              "      <td>0.056981</td>\n",
              "      <td>18.0</td>\n",
              "      <td>0.0</td>\n",
              "      <td>0.172760</td>\n",
              "      <td>1.0</td>\n",
              "    </tr>\n",
              "    <tr>\n",
              "      <th>997</th>\n",
              "      <td>18.0</td>\n",
              "      <td>19.0</td>\n",
              "      <td>22.0</td>\n",
              "      <td>5.525823</td>\n",
              "      <td>19.0</td>\n",
              "      <td>0.189118</td>\n",
              "      <td>0.217187</td>\n",
              "      <td>0.056671</td>\n",
              "      <td>0.058541</td>\n",
              "      <td>19.0</td>\n",
              "      <td>0.0</td>\n",
              "      <td>0.170167</td>\n",
              "      <td>1.0</td>\n",
              "    </tr>\n",
              "    <tr>\n",
              "      <th>998</th>\n",
              "      <td>18.0</td>\n",
              "      <td>19.0</td>\n",
              "      <td>22.0</td>\n",
              "      <td>5.232345</td>\n",
              "      <td>19.0</td>\n",
              "      <td>0.189118</td>\n",
              "      <td>0.217187</td>\n",
              "      <td>0.056671</td>\n",
              "      <td>0.058541</td>\n",
              "      <td>19.0</td>\n",
              "      <td>0.0</td>\n",
              "      <td>0.172347</td>\n",
              "      <td>1.0</td>\n",
              "    </tr>\n",
              "    <tr>\n",
              "      <th>999</th>\n",
              "      <td>18.0</td>\n",
              "      <td>19.0</td>\n",
              "      <td>22.0</td>\n",
              "      <td>5.582435</td>\n",
              "      <td>19.0</td>\n",
              "      <td>0.189118</td>\n",
              "      <td>0.217187</td>\n",
              "      <td>0.056671</td>\n",
              "      <td>0.058541</td>\n",
              "      <td>19.0</td>\n",
              "      <td>0.0</td>\n",
              "      <td>0.169746</td>\n",
              "      <td>1.0</td>\n",
              "    </tr>\n",
              "  </tbody>\n",
              "</table>\n",
              "<p>1000 rows × 13 columns</p>\n",
              "</div>\n",
              "      <button class=\"colab-df-convert\" onclick=\"convertToInteractive('df-fcd7ee18-08ce-4821-a761-b3c4e59ee66b')\"\n",
              "              title=\"Convert this dataframe to an interactive table.\"\n",
              "              style=\"display:none;\">\n",
              "        \n",
              "  <svg xmlns=\"http://www.w3.org/2000/svg\" height=\"24px\"viewBox=\"0 0 24 24\"\n",
              "       width=\"24px\">\n",
              "    <path d=\"M0 0h24v24H0V0z\" fill=\"none\"/>\n",
              "    <path d=\"M18.56 5.44l.94 2.06.94-2.06 2.06-.94-2.06-.94-.94-2.06-.94 2.06-2.06.94zm-11 1L8.5 8.5l.94-2.06 2.06-.94-2.06-.94L8.5 2.5l-.94 2.06-2.06.94zm10 10l.94 2.06.94-2.06 2.06-.94-2.06-.94-.94-2.06-.94 2.06-2.06.94z\"/><path d=\"M17.41 7.96l-1.37-1.37c-.4-.4-.92-.59-1.43-.59-.52 0-1.04.2-1.43.59L10.3 9.45l-7.72 7.72c-.78.78-.78 2.05 0 2.83L4 21.41c.39.39.9.59 1.41.59.51 0 1.02-.2 1.41-.59l7.78-7.78 2.81-2.81c.8-.78.8-2.07 0-2.86zM5.41 20L4 18.59l7.72-7.72 1.47 1.35L5.41 20z\"/>\n",
              "  </svg>\n",
              "      </button>\n",
              "      \n",
              "  <style>\n",
              "    .colab-df-container {\n",
              "      display:flex;\n",
              "      flex-wrap:wrap;\n",
              "      gap: 12px;\n",
              "    }\n",
              "\n",
              "    .colab-df-convert {\n",
              "      background-color: #E8F0FE;\n",
              "      border: none;\n",
              "      border-radius: 50%;\n",
              "      cursor: pointer;\n",
              "      display: none;\n",
              "      fill: #1967D2;\n",
              "      height: 32px;\n",
              "      padding: 0 0 0 0;\n",
              "      width: 32px;\n",
              "    }\n",
              "\n",
              "    .colab-df-convert:hover {\n",
              "      background-color: #E2EBFA;\n",
              "      box-shadow: 0px 1px 2px rgba(60, 64, 67, 0.3), 0px 1px 3px 1px rgba(60, 64, 67, 0.15);\n",
              "      fill: #174EA6;\n",
              "    }\n",
              "\n",
              "    [theme=dark] .colab-df-convert {\n",
              "      background-color: #3B4455;\n",
              "      fill: #D2E3FC;\n",
              "    }\n",
              "\n",
              "    [theme=dark] .colab-df-convert:hover {\n",
              "      background-color: #434B5C;\n",
              "      box-shadow: 0px 1px 3px 1px rgba(0, 0, 0, 0.15);\n",
              "      filter: drop-shadow(0px 1px 2px rgba(0, 0, 0, 0.3));\n",
              "      fill: #FFFFFF;\n",
              "    }\n",
              "  </style>\n",
              "\n",
              "      <script>\n",
              "        const buttonEl =\n",
              "          document.querySelector('#df-fcd7ee18-08ce-4821-a761-b3c4e59ee66b button.colab-df-convert');\n",
              "        buttonEl.style.display =\n",
              "          google.colab.kernel.accessAllowed ? 'block' : 'none';\n",
              "\n",
              "        async function convertToInteractive(key) {\n",
              "          const element = document.querySelector('#df-fcd7ee18-08ce-4821-a761-b3c4e59ee66b');\n",
              "          const dataTable =\n",
              "            await google.colab.kernel.invokeFunction('convertToInteractive',\n",
              "                                                     [key], {});\n",
              "          if (!dataTable) return;\n",
              "\n",
              "          const docLinkHtml = 'Like what you see? Visit the ' +\n",
              "            '<a target=\"_blank\" href=https://colab.research.google.com/notebooks/data_table.ipynb>data table notebook</a>'\n",
              "            + ' to learn more about interactive tables.';\n",
              "          element.innerHTML = '';\n",
              "          dataTable['output_type'] = 'display_data';\n",
              "          await google.colab.output.renderOutput(dataTable, element);\n",
              "          const docLink = document.createElement('div');\n",
              "          docLink.innerHTML = docLinkHtml;\n",
              "          element.appendChild(docLink);\n",
              "        }\n",
              "      </script>\n",
              "    </div>\n",
              "  </div>\n",
              "  "
            ]
          },
          "metadata": {}
        }
      ]
    },
    {
      "cell_type": "code",
      "source": [
        "df1_2.describe()"
      ],
      "metadata": {
        "colab": {
          "base_uri": "https://localhost:8080/",
          "height": 300
        },
        "id": "Y8UdtJukbuOL",
        "outputId": "2c8b3dff-e175-4a0c-c812-63f28616d1ce"
      },
      "execution_count": null,
      "outputs": [
        {
          "output_type": "execute_result",
          "data": {
            "text/plain": [
              "         nlp_l_2dn  nlp_3g_dist   nlp_l_fqdn     nlp_1g_e  nlp_2g_dist  \\\n",
              "count  1000.000000  1000.000000  1000.000000  1000.000000  1000.000000   \n",
              "mean     18.077000    18.919000    22.077000     5.450354    18.677000   \n",
              "std       1.109189     1.154891     1.109189     0.393386     1.594118   \n",
              "min      17.000000    14.000000    21.000000     4.217305    12.000000   \n",
              "25%      17.000000    18.000000    21.000000     5.204311    18.000000   \n",
              "50%      18.000000    19.000000    22.000000     5.444494    19.000000   \n",
              "75%      19.000000    19.000000    23.000000     5.679606    20.000000   \n",
              "max      21.000000    22.000000    25.000000     6.770896    23.000000   \n",
              "\n",
              "        nlp_2g_ken   nlp_2g_spe   nlp_3g_ken   nlp_3g_spe  nlp_3g_sumsq  \\\n",
              "count  1000.000000  1000.000000  1000.000000  1000.000000   1000.000000   \n",
              "mean      0.187366     0.215158     0.056525     0.058390     19.395000   \n",
              "std       0.007843     0.009054     0.001710     0.001767      1.596723   \n",
              "min       0.150852     0.173076     0.048650     0.050254     18.000000   \n",
              "25%       0.184146     0.211477     0.055160     0.056981     18.000000   \n",
              "50%       0.189048     0.217186     0.056671     0.058541     19.000000   \n",
              "75%       0.193883     0.222740     0.056672     0.058541     20.000000   \n",
              "max       0.207672     0.238581     0.060979     0.062992     31.000000   \n",
              "\n",
              "         whois_rec  whois_change   class  \n",
              "count  1000.000000   1000.000000  1000.0  \n",
              "mean      1.563000      0.232778     1.0  \n",
              "std       3.652584      0.265578     0.0  \n",
              "min       0.000000      0.000000     1.0  \n",
              "25%       0.000000      0.159347     1.0  \n",
              "50%       0.000000      0.169926     1.0  \n",
              "75%       0.000000      0.178884     1.0  \n",
              "max      34.000000      2.000000     1.0  "
            ],
            "text/html": [
              "\n",
              "  <div id=\"df-7c549f6b-7558-4c42-b7e8-19db521a2ddf\">\n",
              "    <div class=\"colab-df-container\">\n",
              "      <div>\n",
              "<style scoped>\n",
              "    .dataframe tbody tr th:only-of-type {\n",
              "        vertical-align: middle;\n",
              "    }\n",
              "\n",
              "    .dataframe tbody tr th {\n",
              "        vertical-align: top;\n",
              "    }\n",
              "\n",
              "    .dataframe thead th {\n",
              "        text-align: right;\n",
              "    }\n",
              "</style>\n",
              "<table border=\"1\" class=\"dataframe\">\n",
              "  <thead>\n",
              "    <tr style=\"text-align: right;\">\n",
              "      <th></th>\n",
              "      <th>nlp_l_2dn</th>\n",
              "      <th>nlp_3g_dist</th>\n",
              "      <th>nlp_l_fqdn</th>\n",
              "      <th>nlp_1g_e</th>\n",
              "      <th>nlp_2g_dist</th>\n",
              "      <th>nlp_2g_ken</th>\n",
              "      <th>nlp_2g_spe</th>\n",
              "      <th>nlp_3g_ken</th>\n",
              "      <th>nlp_3g_spe</th>\n",
              "      <th>nlp_3g_sumsq</th>\n",
              "      <th>whois_rec</th>\n",
              "      <th>whois_change</th>\n",
              "      <th>class</th>\n",
              "    </tr>\n",
              "  </thead>\n",
              "  <tbody>\n",
              "    <tr>\n",
              "      <th>count</th>\n",
              "      <td>1000.000000</td>\n",
              "      <td>1000.000000</td>\n",
              "      <td>1000.000000</td>\n",
              "      <td>1000.000000</td>\n",
              "      <td>1000.000000</td>\n",
              "      <td>1000.000000</td>\n",
              "      <td>1000.000000</td>\n",
              "      <td>1000.000000</td>\n",
              "      <td>1000.000000</td>\n",
              "      <td>1000.000000</td>\n",
              "      <td>1000.000000</td>\n",
              "      <td>1000.000000</td>\n",
              "      <td>1000.0</td>\n",
              "    </tr>\n",
              "    <tr>\n",
              "      <th>mean</th>\n",
              "      <td>18.077000</td>\n",
              "      <td>18.919000</td>\n",
              "      <td>22.077000</td>\n",
              "      <td>5.450354</td>\n",
              "      <td>18.677000</td>\n",
              "      <td>0.187366</td>\n",
              "      <td>0.215158</td>\n",
              "      <td>0.056525</td>\n",
              "      <td>0.058390</td>\n",
              "      <td>19.395000</td>\n",
              "      <td>1.563000</td>\n",
              "      <td>0.232778</td>\n",
              "      <td>1.0</td>\n",
              "    </tr>\n",
              "    <tr>\n",
              "      <th>std</th>\n",
              "      <td>1.109189</td>\n",
              "      <td>1.154891</td>\n",
              "      <td>1.109189</td>\n",
              "      <td>0.393386</td>\n",
              "      <td>1.594118</td>\n",
              "      <td>0.007843</td>\n",
              "      <td>0.009054</td>\n",
              "      <td>0.001710</td>\n",
              "      <td>0.001767</td>\n",
              "      <td>1.596723</td>\n",
              "      <td>3.652584</td>\n",
              "      <td>0.265578</td>\n",
              "      <td>0.0</td>\n",
              "    </tr>\n",
              "    <tr>\n",
              "      <th>min</th>\n",
              "      <td>17.000000</td>\n",
              "      <td>14.000000</td>\n",
              "      <td>21.000000</td>\n",
              "      <td>4.217305</td>\n",
              "      <td>12.000000</td>\n",
              "      <td>0.150852</td>\n",
              "      <td>0.173076</td>\n",
              "      <td>0.048650</td>\n",
              "      <td>0.050254</td>\n",
              "      <td>18.000000</td>\n",
              "      <td>0.000000</td>\n",
              "      <td>0.000000</td>\n",
              "      <td>1.0</td>\n",
              "    </tr>\n",
              "    <tr>\n",
              "      <th>25%</th>\n",
              "      <td>17.000000</td>\n",
              "      <td>18.000000</td>\n",
              "      <td>21.000000</td>\n",
              "      <td>5.204311</td>\n",
              "      <td>18.000000</td>\n",
              "      <td>0.184146</td>\n",
              "      <td>0.211477</td>\n",
              "      <td>0.055160</td>\n",
              "      <td>0.056981</td>\n",
              "      <td>18.000000</td>\n",
              "      <td>0.000000</td>\n",
              "      <td>0.159347</td>\n",
              "      <td>1.0</td>\n",
              "    </tr>\n",
              "    <tr>\n",
              "      <th>50%</th>\n",
              "      <td>18.000000</td>\n",
              "      <td>19.000000</td>\n",
              "      <td>22.000000</td>\n",
              "      <td>5.444494</td>\n",
              "      <td>19.000000</td>\n",
              "      <td>0.189048</td>\n",
              "      <td>0.217186</td>\n",
              "      <td>0.056671</td>\n",
              "      <td>0.058541</td>\n",
              "      <td>19.000000</td>\n",
              "      <td>0.000000</td>\n",
              "      <td>0.169926</td>\n",
              "      <td>1.0</td>\n",
              "    </tr>\n",
              "    <tr>\n",
              "      <th>75%</th>\n",
              "      <td>19.000000</td>\n",
              "      <td>19.000000</td>\n",
              "      <td>23.000000</td>\n",
              "      <td>5.679606</td>\n",
              "      <td>20.000000</td>\n",
              "      <td>0.193883</td>\n",
              "      <td>0.222740</td>\n",
              "      <td>0.056672</td>\n",
              "      <td>0.058541</td>\n",
              "      <td>20.000000</td>\n",
              "      <td>0.000000</td>\n",
              "      <td>0.178884</td>\n",
              "      <td>1.0</td>\n",
              "    </tr>\n",
              "    <tr>\n",
              "      <th>max</th>\n",
              "      <td>21.000000</td>\n",
              "      <td>22.000000</td>\n",
              "      <td>25.000000</td>\n",
              "      <td>6.770896</td>\n",
              "      <td>23.000000</td>\n",
              "      <td>0.207672</td>\n",
              "      <td>0.238581</td>\n",
              "      <td>0.060979</td>\n",
              "      <td>0.062992</td>\n",
              "      <td>31.000000</td>\n",
              "      <td>34.000000</td>\n",
              "      <td>2.000000</td>\n",
              "      <td>1.0</td>\n",
              "    </tr>\n",
              "  </tbody>\n",
              "</table>\n",
              "</div>\n",
              "      <button class=\"colab-df-convert\" onclick=\"convertToInteractive('df-7c549f6b-7558-4c42-b7e8-19db521a2ddf')\"\n",
              "              title=\"Convert this dataframe to an interactive table.\"\n",
              "              style=\"display:none;\">\n",
              "        \n",
              "  <svg xmlns=\"http://www.w3.org/2000/svg\" height=\"24px\"viewBox=\"0 0 24 24\"\n",
              "       width=\"24px\">\n",
              "    <path d=\"M0 0h24v24H0V0z\" fill=\"none\"/>\n",
              "    <path d=\"M18.56 5.44l.94 2.06.94-2.06 2.06-.94-2.06-.94-.94-2.06-.94 2.06-2.06.94zm-11 1L8.5 8.5l.94-2.06 2.06-.94-2.06-.94L8.5 2.5l-.94 2.06-2.06.94zm10 10l.94 2.06.94-2.06 2.06-.94-2.06-.94-.94-2.06-.94 2.06-2.06.94z\"/><path d=\"M17.41 7.96l-1.37-1.37c-.4-.4-.92-.59-1.43-.59-.52 0-1.04.2-1.43.59L10.3 9.45l-7.72 7.72c-.78.78-.78 2.05 0 2.83L4 21.41c.39.39.9.59 1.41.59.51 0 1.02-.2 1.41-.59l7.78-7.78 2.81-2.81c.8-.78.8-2.07 0-2.86zM5.41 20L4 18.59l7.72-7.72 1.47 1.35L5.41 20z\"/>\n",
              "  </svg>\n",
              "      </button>\n",
              "      \n",
              "  <style>\n",
              "    .colab-df-container {\n",
              "      display:flex;\n",
              "      flex-wrap:wrap;\n",
              "      gap: 12px;\n",
              "    }\n",
              "\n",
              "    .colab-df-convert {\n",
              "      background-color: #E8F0FE;\n",
              "      border: none;\n",
              "      border-radius: 50%;\n",
              "      cursor: pointer;\n",
              "      display: none;\n",
              "      fill: #1967D2;\n",
              "      height: 32px;\n",
              "      padding: 0 0 0 0;\n",
              "      width: 32px;\n",
              "    }\n",
              "\n",
              "    .colab-df-convert:hover {\n",
              "      background-color: #E2EBFA;\n",
              "      box-shadow: 0px 1px 2px rgba(60, 64, 67, 0.3), 0px 1px 3px 1px rgba(60, 64, 67, 0.15);\n",
              "      fill: #174EA6;\n",
              "    }\n",
              "\n",
              "    [theme=dark] .colab-df-convert {\n",
              "      background-color: #3B4455;\n",
              "      fill: #D2E3FC;\n",
              "    }\n",
              "\n",
              "    [theme=dark] .colab-df-convert:hover {\n",
              "      background-color: #434B5C;\n",
              "      box-shadow: 0px 1px 3px 1px rgba(0, 0, 0, 0.15);\n",
              "      filter: drop-shadow(0px 1px 2px rgba(0, 0, 0, 0.3));\n",
              "      fill: #FFFFFF;\n",
              "    }\n",
              "  </style>\n",
              "\n",
              "      <script>\n",
              "        const buttonEl =\n",
              "          document.querySelector('#df-7c549f6b-7558-4c42-b7e8-19db521a2ddf button.colab-df-convert');\n",
              "        buttonEl.style.display =\n",
              "          google.colab.kernel.accessAllowed ? 'block' : 'none';\n",
              "\n",
              "        async function convertToInteractive(key) {\n",
              "          const element = document.querySelector('#df-7c549f6b-7558-4c42-b7e8-19db521a2ddf');\n",
              "          const dataTable =\n",
              "            await google.colab.kernel.invokeFunction('convertToInteractive',\n",
              "                                                     [key], {});\n",
              "          if (!dataTable) return;\n",
              "\n",
              "          const docLinkHtml = 'Like what you see? Visit the ' +\n",
              "            '<a target=\"_blank\" href=https://colab.research.google.com/notebooks/data_table.ipynb>data table notebook</a>'\n",
              "            + ' to learn more about interactive tables.';\n",
              "          element.innerHTML = '';\n",
              "          dataTable['output_type'] = 'display_data';\n",
              "          await google.colab.output.renderOutput(dataTable, element);\n",
              "          const docLink = document.createElement('div');\n",
              "          docLink.innerHTML = docLinkHtml;\n",
              "          element.appendChild(docLink);\n",
              "        }\n",
              "      </script>\n",
              "    </div>\n",
              "  </div>\n",
              "  "
            ]
          },
          "metadata": {},
          "execution_count": 6
        }
      ]
    },
    {
      "cell_type": "code",
      "source": [
        "def load_data2():\n",
        "  return pd.read_csv(Path(\"/content/gdrive/MyDrive/Colab/Data/loads/raw_data/tranco.1000+whois-history.csv\"))\n",
        "\n",
        "df2 = load_data2()\n",
        "\n",
        "# SHU Feature Selection\n",
        "df2.drop(df2.columns.difference(['nlp_l_2dn','nlp_3g_dist','nlp_l_fqdn','nlp_1g_e','nlp_2g_dist', \\\n",
        "                                 'nlp_2g_ken','nlp_2g_spe','nlp_3g_ken','nlp_3g_spe','nlp_3g_sumsq', \\\n",
        "                                 'whois_rec','whois_change','class']), axis=1, inplace=True)"
      ],
      "metadata": {
        "id": "zpBa3_b3j1_b"
      },
      "execution_count": null,
      "outputs": []
    },
    {
      "cell_type": "code",
      "source": [
        "df2.describe()"
      ],
      "metadata": {
        "colab": {
          "base_uri": "https://localhost:8080/",
          "height": 300
        },
        "id": "GGwWXz4nbwPW",
        "outputId": "b6f13ac5-bfb9-40f0-8152-c00632903627"
      },
      "execution_count": null,
      "outputs": [
        {
          "output_type": "execute_result",
          "data": {
            "text/plain": [
              "         nlp_1g_e  nlp_2g_dist  nlp_2g_ken  nlp_2g_spe  nlp_3g_dist  \\\n",
              "count  998.000000   998.000000  998.000000  998.000000   998.000000   \n",
              "mean     2.170840     8.746493    0.126887    0.145765     7.868737   \n",
              "std      0.820674     2.978839    0.021753    0.024986     3.056113   \n",
              "min      0.482578     2.000000    0.061742    0.070932     1.000000   \n",
              "25%      1.570859     7.000000    0.115286    0.132445     6.000000   \n",
              "50%      2.072205     9.000000    0.130620    0.150061     8.000000   \n",
              "75%      2.660217    10.000000    0.137680    0.158118    10.000000   \n",
              "max      5.147269    19.000000    0.189118    0.217187    19.000000   \n",
              "\n",
              "       nlp_3g_ken  nlp_3g_spe  nlp_3g_sumsq   nlp_l_2dn  nlp_l_fqdn  \\\n",
              "count  998.000000  998.000000    998.000000  998.000000  998.000000   \n",
              "mean     0.035774    0.036954      7.952906    6.690381   10.981964   \n",
              "std      0.007118    0.007353      3.190505    3.194988    3.122326   \n",
              "min      0.013004    0.013433      1.000000    1.000000    4.000000   \n",
              "25%      0.031851    0.032902      6.000000    4.000000    9.000000   \n",
              "50%      0.036778    0.037991      8.000000    6.000000   11.000000   \n",
              "75%      0.041118    0.042474     10.000000    9.000000   13.000000   \n",
              "max      0.056671    0.058541     22.000000   18.000000   22.000000   \n",
              "\n",
              "        whois_rec  whois_change  class  \n",
              "count  998.000000    998.000000  998.0  \n",
              "mean    28.958918      0.443888    0.0  \n",
              "std      9.375340      0.977355    0.0  \n",
              "min      2.000000      0.000000    0.0  \n",
              "25%     24.000000      0.000000    0.0  \n",
              "50%     28.000000      0.000000    0.0  \n",
              "75%     33.000000      0.000000    0.0  \n",
              "max    110.000000      4.000000    0.0  "
            ],
            "text/html": [
              "\n",
              "  <div id=\"df-c1160941-114c-479e-852d-4be34395a24f\">\n",
              "    <div class=\"colab-df-container\">\n",
              "      <div>\n",
              "<style scoped>\n",
              "    .dataframe tbody tr th:only-of-type {\n",
              "        vertical-align: middle;\n",
              "    }\n",
              "\n",
              "    .dataframe tbody tr th {\n",
              "        vertical-align: top;\n",
              "    }\n",
              "\n",
              "    .dataframe thead th {\n",
              "        text-align: right;\n",
              "    }\n",
              "</style>\n",
              "<table border=\"1\" class=\"dataframe\">\n",
              "  <thead>\n",
              "    <tr style=\"text-align: right;\">\n",
              "      <th></th>\n",
              "      <th>nlp_1g_e</th>\n",
              "      <th>nlp_2g_dist</th>\n",
              "      <th>nlp_2g_ken</th>\n",
              "      <th>nlp_2g_spe</th>\n",
              "      <th>nlp_3g_dist</th>\n",
              "      <th>nlp_3g_ken</th>\n",
              "      <th>nlp_3g_spe</th>\n",
              "      <th>nlp_3g_sumsq</th>\n",
              "      <th>nlp_l_2dn</th>\n",
              "      <th>nlp_l_fqdn</th>\n",
              "      <th>whois_rec</th>\n",
              "      <th>whois_change</th>\n",
              "      <th>class</th>\n",
              "    </tr>\n",
              "  </thead>\n",
              "  <tbody>\n",
              "    <tr>\n",
              "      <th>count</th>\n",
              "      <td>998.000000</td>\n",
              "      <td>998.000000</td>\n",
              "      <td>998.000000</td>\n",
              "      <td>998.000000</td>\n",
              "      <td>998.000000</td>\n",
              "      <td>998.000000</td>\n",
              "      <td>998.000000</td>\n",
              "      <td>998.000000</td>\n",
              "      <td>998.000000</td>\n",
              "      <td>998.000000</td>\n",
              "      <td>998.000000</td>\n",
              "      <td>998.000000</td>\n",
              "      <td>998.0</td>\n",
              "    </tr>\n",
              "    <tr>\n",
              "      <th>mean</th>\n",
              "      <td>2.170840</td>\n",
              "      <td>8.746493</td>\n",
              "      <td>0.126887</td>\n",
              "      <td>0.145765</td>\n",
              "      <td>7.868737</td>\n",
              "      <td>0.035774</td>\n",
              "      <td>0.036954</td>\n",
              "      <td>7.952906</td>\n",
              "      <td>6.690381</td>\n",
              "      <td>10.981964</td>\n",
              "      <td>28.958918</td>\n",
              "      <td>0.443888</td>\n",
              "      <td>0.0</td>\n",
              "    </tr>\n",
              "    <tr>\n",
              "      <th>std</th>\n",
              "      <td>0.820674</td>\n",
              "      <td>2.978839</td>\n",
              "      <td>0.021753</td>\n",
              "      <td>0.024986</td>\n",
              "      <td>3.056113</td>\n",
              "      <td>0.007118</td>\n",
              "      <td>0.007353</td>\n",
              "      <td>3.190505</td>\n",
              "      <td>3.194988</td>\n",
              "      <td>3.122326</td>\n",
              "      <td>9.375340</td>\n",
              "      <td>0.977355</td>\n",
              "      <td>0.0</td>\n",
              "    </tr>\n",
              "    <tr>\n",
              "      <th>min</th>\n",
              "      <td>0.482578</td>\n",
              "      <td>2.000000</td>\n",
              "      <td>0.061742</td>\n",
              "      <td>0.070932</td>\n",
              "      <td>1.000000</td>\n",
              "      <td>0.013004</td>\n",
              "      <td>0.013433</td>\n",
              "      <td>1.000000</td>\n",
              "      <td>1.000000</td>\n",
              "      <td>4.000000</td>\n",
              "      <td>2.000000</td>\n",
              "      <td>0.000000</td>\n",
              "      <td>0.0</td>\n",
              "    </tr>\n",
              "    <tr>\n",
              "      <th>25%</th>\n",
              "      <td>1.570859</td>\n",
              "      <td>7.000000</td>\n",
              "      <td>0.115286</td>\n",
              "      <td>0.132445</td>\n",
              "      <td>6.000000</td>\n",
              "      <td>0.031851</td>\n",
              "      <td>0.032902</td>\n",
              "      <td>6.000000</td>\n",
              "      <td>4.000000</td>\n",
              "      <td>9.000000</td>\n",
              "      <td>24.000000</td>\n",
              "      <td>0.000000</td>\n",
              "      <td>0.0</td>\n",
              "    </tr>\n",
              "    <tr>\n",
              "      <th>50%</th>\n",
              "      <td>2.072205</td>\n",
              "      <td>9.000000</td>\n",
              "      <td>0.130620</td>\n",
              "      <td>0.150061</td>\n",
              "      <td>8.000000</td>\n",
              "      <td>0.036778</td>\n",
              "      <td>0.037991</td>\n",
              "      <td>8.000000</td>\n",
              "      <td>6.000000</td>\n",
              "      <td>11.000000</td>\n",
              "      <td>28.000000</td>\n",
              "      <td>0.000000</td>\n",
              "      <td>0.0</td>\n",
              "    </tr>\n",
              "    <tr>\n",
              "      <th>75%</th>\n",
              "      <td>2.660217</td>\n",
              "      <td>10.000000</td>\n",
              "      <td>0.137680</td>\n",
              "      <td>0.158118</td>\n",
              "      <td>10.000000</td>\n",
              "      <td>0.041118</td>\n",
              "      <td>0.042474</td>\n",
              "      <td>10.000000</td>\n",
              "      <td>9.000000</td>\n",
              "      <td>13.000000</td>\n",
              "      <td>33.000000</td>\n",
              "      <td>0.000000</td>\n",
              "      <td>0.0</td>\n",
              "    </tr>\n",
              "    <tr>\n",
              "      <th>max</th>\n",
              "      <td>5.147269</td>\n",
              "      <td>19.000000</td>\n",
              "      <td>0.189118</td>\n",
              "      <td>0.217187</td>\n",
              "      <td>19.000000</td>\n",
              "      <td>0.056671</td>\n",
              "      <td>0.058541</td>\n",
              "      <td>22.000000</td>\n",
              "      <td>18.000000</td>\n",
              "      <td>22.000000</td>\n",
              "      <td>110.000000</td>\n",
              "      <td>4.000000</td>\n",
              "      <td>0.0</td>\n",
              "    </tr>\n",
              "  </tbody>\n",
              "</table>\n",
              "</div>\n",
              "      <button class=\"colab-df-convert\" onclick=\"convertToInteractive('df-c1160941-114c-479e-852d-4be34395a24f')\"\n",
              "              title=\"Convert this dataframe to an interactive table.\"\n",
              "              style=\"display:none;\">\n",
              "        \n",
              "  <svg xmlns=\"http://www.w3.org/2000/svg\" height=\"24px\"viewBox=\"0 0 24 24\"\n",
              "       width=\"24px\">\n",
              "    <path d=\"M0 0h24v24H0V0z\" fill=\"none\"/>\n",
              "    <path d=\"M18.56 5.44l.94 2.06.94-2.06 2.06-.94-2.06-.94-.94-2.06-.94 2.06-2.06.94zm-11 1L8.5 8.5l.94-2.06 2.06-.94-2.06-.94L8.5 2.5l-.94 2.06-2.06.94zm10 10l.94 2.06.94-2.06 2.06-.94-2.06-.94-.94-2.06-.94 2.06-2.06.94z\"/><path d=\"M17.41 7.96l-1.37-1.37c-.4-.4-.92-.59-1.43-.59-.52 0-1.04.2-1.43.59L10.3 9.45l-7.72 7.72c-.78.78-.78 2.05 0 2.83L4 21.41c.39.39.9.59 1.41.59.51 0 1.02-.2 1.41-.59l7.78-7.78 2.81-2.81c.8-.78.8-2.07 0-2.86zM5.41 20L4 18.59l7.72-7.72 1.47 1.35L5.41 20z\"/>\n",
              "  </svg>\n",
              "      </button>\n",
              "      \n",
              "  <style>\n",
              "    .colab-df-container {\n",
              "      display:flex;\n",
              "      flex-wrap:wrap;\n",
              "      gap: 12px;\n",
              "    }\n",
              "\n",
              "    .colab-df-convert {\n",
              "      background-color: #E8F0FE;\n",
              "      border: none;\n",
              "      border-radius: 50%;\n",
              "      cursor: pointer;\n",
              "      display: none;\n",
              "      fill: #1967D2;\n",
              "      height: 32px;\n",
              "      padding: 0 0 0 0;\n",
              "      width: 32px;\n",
              "    }\n",
              "\n",
              "    .colab-df-convert:hover {\n",
              "      background-color: #E2EBFA;\n",
              "      box-shadow: 0px 1px 2px rgba(60, 64, 67, 0.3), 0px 1px 3px 1px rgba(60, 64, 67, 0.15);\n",
              "      fill: #174EA6;\n",
              "    }\n",
              "\n",
              "    [theme=dark] .colab-df-convert {\n",
              "      background-color: #3B4455;\n",
              "      fill: #D2E3FC;\n",
              "    }\n",
              "\n",
              "    [theme=dark] .colab-df-convert:hover {\n",
              "      background-color: #434B5C;\n",
              "      box-shadow: 0px 1px 3px 1px rgba(0, 0, 0, 0.15);\n",
              "      filter: drop-shadow(0px 1px 2px rgba(0, 0, 0, 0.3));\n",
              "      fill: #FFFFFF;\n",
              "    }\n",
              "  </style>\n",
              "\n",
              "      <script>\n",
              "        const buttonEl =\n",
              "          document.querySelector('#df-c1160941-114c-479e-852d-4be34395a24f button.colab-df-convert');\n",
              "        buttonEl.style.display =\n",
              "          google.colab.kernel.accessAllowed ? 'block' : 'none';\n",
              "\n",
              "        async function convertToInteractive(key) {\n",
              "          const element = document.querySelector('#df-c1160941-114c-479e-852d-4be34395a24f');\n",
              "          const dataTable =\n",
              "            await google.colab.kernel.invokeFunction('convertToInteractive',\n",
              "                                                     [key], {});\n",
              "          if (!dataTable) return;\n",
              "\n",
              "          const docLinkHtml = 'Like what you see? Visit the ' +\n",
              "            '<a target=\"_blank\" href=https://colab.research.google.com/notebooks/data_table.ipynb>data table notebook</a>'\n",
              "            + ' to learn more about interactive tables.';\n",
              "          element.innerHTML = '';\n",
              "          dataTable['output_type'] = 'display_data';\n",
              "          await google.colab.output.renderOutput(dataTable, element);\n",
              "          const docLink = document.createElement('div');\n",
              "          docLink.innerHTML = docLinkHtml;\n",
              "          element.appendChild(docLink);\n",
              "        }\n",
              "      </script>\n",
              "    </div>\n",
              "  </div>\n",
              "  "
            ]
          },
          "metadata": {},
          "execution_count": 8
        }
      ]
    },
    {
      "cell_type": "code",
      "source": [
        "data_load = [df1_2, df2]\n",
        "df = pd.concat(data_load).reset_index(drop=True)"
      ],
      "metadata": {
        "id": "bVS-RjdQkB2T"
      },
      "execution_count": null,
      "outputs": []
    },
    {
      "cell_type": "code",
      "source": [
        "display(df)"
      ],
      "metadata": {
        "colab": {
          "base_uri": "https://localhost:8080/"
        },
        "id": "tOM25Zzu2tdZ",
        "outputId": "c86b5515-7354-4497-ebfa-faf6204fe310"
      },
      "execution_count": null,
      "outputs": [
        {
          "output_type": "display_data",
          "data": {
            "text/plain": [
              "      nlp_l_2dn  nlp_3g_dist  nlp_l_fqdn  nlp_1g_e  nlp_2g_dist  nlp_2g_ken  \\\n",
              "0          17.0         18.0        21.0  5.474625         18.0    0.184146   \n",
              "1          18.0         19.0        22.0  5.444985         19.0    0.189118   \n",
              "2          17.0         18.0        21.0  5.419135         17.0    0.179085   \n",
              "3          18.0         18.0        22.0  5.643714         17.0    0.179089   \n",
              "4          18.0         19.0        22.0  5.397747         19.0    0.189118   \n",
              "...         ...          ...         ...       ...          ...         ...   \n",
              "1993        6.0          7.0        10.0  1.621124          8.0    0.123198   \n",
              "1994       10.0         11.0        14.0  2.580115         12.0    0.150651   \n",
              "1995        4.0          5.0         8.0  1.354726          6.0    0.106775   \n",
              "1996        3.0          6.0        10.0  1.500263          7.0    0.115286   \n",
              "1997        4.0          4.0         7.0  1.103150          5.0    0.097510   \n",
              "\n",
              "      nlp_2g_spe  nlp_3g_ken  nlp_3g_spe  nlp_3g_sumsq  whois_rec  \\\n",
              "0       0.211477    0.055160    0.056981          18.0        0.0   \n",
              "1       0.217187    0.056671    0.058541          19.0        0.0   \n",
              "2       0.205600    0.055160    0.056981          18.0        0.0   \n",
              "3       0.205600    0.055161    0.056981          21.0        0.0   \n",
              "4       0.217187    0.056671    0.058541          19.0        0.0   \n",
              "...          ...         ...         ...           ...        ...   \n",
              "1993    0.141534    0.034403    0.035538           7.0       22.0   \n",
              "1994    0.173074    0.043124    0.044547          11.0       19.0   \n",
              "1995    0.122667    0.029076    0.030036           5.0       35.0   \n",
              "1996    0.132445    0.031851    0.032902           6.0       13.0   \n",
              "1997    0.112023    0.026007    0.026865           4.0       53.0   \n",
              "\n",
              "      whois_change  class  \n",
              "0         0.161957    1.0  \n",
              "1         0.170767    1.0  \n",
              "2         0.154756    1.0  \n",
              "3         0.161317    1.0  \n",
              "4         0.171118    1.0  \n",
              "...            ...    ...  \n",
              "1993      0.000000    0.0  \n",
              "1994      0.000000    0.0  \n",
              "1995      0.000000    0.0  \n",
              "1996      1.000000    0.0  \n",
              "1997      1.000000    0.0  \n",
              "\n",
              "[1998 rows x 13 columns]"
            ],
            "text/html": [
              "\n",
              "  <div id=\"df-dfd97bf5-c65d-4766-840a-2ffbfddee72f\">\n",
              "    <div class=\"colab-df-container\">\n",
              "      <div>\n",
              "<style scoped>\n",
              "    .dataframe tbody tr th:only-of-type {\n",
              "        vertical-align: middle;\n",
              "    }\n",
              "\n",
              "    .dataframe tbody tr th {\n",
              "        vertical-align: top;\n",
              "    }\n",
              "\n",
              "    .dataframe thead th {\n",
              "        text-align: right;\n",
              "    }\n",
              "</style>\n",
              "<table border=\"1\" class=\"dataframe\">\n",
              "  <thead>\n",
              "    <tr style=\"text-align: right;\">\n",
              "      <th></th>\n",
              "      <th>nlp_l_2dn</th>\n",
              "      <th>nlp_3g_dist</th>\n",
              "      <th>nlp_l_fqdn</th>\n",
              "      <th>nlp_1g_e</th>\n",
              "      <th>nlp_2g_dist</th>\n",
              "      <th>nlp_2g_ken</th>\n",
              "      <th>nlp_2g_spe</th>\n",
              "      <th>nlp_3g_ken</th>\n",
              "      <th>nlp_3g_spe</th>\n",
              "      <th>nlp_3g_sumsq</th>\n",
              "      <th>whois_rec</th>\n",
              "      <th>whois_change</th>\n",
              "      <th>class</th>\n",
              "    </tr>\n",
              "  </thead>\n",
              "  <tbody>\n",
              "    <tr>\n",
              "      <th>0</th>\n",
              "      <td>17.0</td>\n",
              "      <td>18.0</td>\n",
              "      <td>21.0</td>\n",
              "      <td>5.474625</td>\n",
              "      <td>18.0</td>\n",
              "      <td>0.184146</td>\n",
              "      <td>0.211477</td>\n",
              "      <td>0.055160</td>\n",
              "      <td>0.056981</td>\n",
              "      <td>18.0</td>\n",
              "      <td>0.0</td>\n",
              "      <td>0.161957</td>\n",
              "      <td>1.0</td>\n",
              "    </tr>\n",
              "    <tr>\n",
              "      <th>1</th>\n",
              "      <td>18.0</td>\n",
              "      <td>19.0</td>\n",
              "      <td>22.0</td>\n",
              "      <td>5.444985</td>\n",
              "      <td>19.0</td>\n",
              "      <td>0.189118</td>\n",
              "      <td>0.217187</td>\n",
              "      <td>0.056671</td>\n",
              "      <td>0.058541</td>\n",
              "      <td>19.0</td>\n",
              "      <td>0.0</td>\n",
              "      <td>0.170767</td>\n",
              "      <td>1.0</td>\n",
              "    </tr>\n",
              "    <tr>\n",
              "      <th>2</th>\n",
              "      <td>17.0</td>\n",
              "      <td>18.0</td>\n",
              "      <td>21.0</td>\n",
              "      <td>5.419135</td>\n",
              "      <td>17.0</td>\n",
              "      <td>0.179085</td>\n",
              "      <td>0.205600</td>\n",
              "      <td>0.055160</td>\n",
              "      <td>0.056981</td>\n",
              "      <td>18.0</td>\n",
              "      <td>0.0</td>\n",
              "      <td>0.154756</td>\n",
              "      <td>1.0</td>\n",
              "    </tr>\n",
              "    <tr>\n",
              "      <th>3</th>\n",
              "      <td>18.0</td>\n",
              "      <td>18.0</td>\n",
              "      <td>22.0</td>\n",
              "      <td>5.643714</td>\n",
              "      <td>17.0</td>\n",
              "      <td>0.179089</td>\n",
              "      <td>0.205600</td>\n",
              "      <td>0.055161</td>\n",
              "      <td>0.056981</td>\n",
              "      <td>21.0</td>\n",
              "      <td>0.0</td>\n",
              "      <td>0.161317</td>\n",
              "      <td>1.0</td>\n",
              "    </tr>\n",
              "    <tr>\n",
              "      <th>4</th>\n",
              "      <td>18.0</td>\n",
              "      <td>19.0</td>\n",
              "      <td>22.0</td>\n",
              "      <td>5.397747</td>\n",
              "      <td>19.0</td>\n",
              "      <td>0.189118</td>\n",
              "      <td>0.217187</td>\n",
              "      <td>0.056671</td>\n",
              "      <td>0.058541</td>\n",
              "      <td>19.0</td>\n",
              "      <td>0.0</td>\n",
              "      <td>0.171118</td>\n",
              "      <td>1.0</td>\n",
              "    </tr>\n",
              "    <tr>\n",
              "      <th>...</th>\n",
              "      <td>...</td>\n",
              "      <td>...</td>\n",
              "      <td>...</td>\n",
              "      <td>...</td>\n",
              "      <td>...</td>\n",
              "      <td>...</td>\n",
              "      <td>...</td>\n",
              "      <td>...</td>\n",
              "      <td>...</td>\n",
              "      <td>...</td>\n",
              "      <td>...</td>\n",
              "      <td>...</td>\n",
              "      <td>...</td>\n",
              "    </tr>\n",
              "    <tr>\n",
              "      <th>1993</th>\n",
              "      <td>6.0</td>\n",
              "      <td>7.0</td>\n",
              "      <td>10.0</td>\n",
              "      <td>1.621124</td>\n",
              "      <td>8.0</td>\n",
              "      <td>0.123198</td>\n",
              "      <td>0.141534</td>\n",
              "      <td>0.034403</td>\n",
              "      <td>0.035538</td>\n",
              "      <td>7.0</td>\n",
              "      <td>22.0</td>\n",
              "      <td>0.000000</td>\n",
              "      <td>0.0</td>\n",
              "    </tr>\n",
              "    <tr>\n",
              "      <th>1994</th>\n",
              "      <td>10.0</td>\n",
              "      <td>11.0</td>\n",
              "      <td>14.0</td>\n",
              "      <td>2.580115</td>\n",
              "      <td>12.0</td>\n",
              "      <td>0.150651</td>\n",
              "      <td>0.173074</td>\n",
              "      <td>0.043124</td>\n",
              "      <td>0.044547</td>\n",
              "      <td>11.0</td>\n",
              "      <td>19.0</td>\n",
              "      <td>0.000000</td>\n",
              "      <td>0.0</td>\n",
              "    </tr>\n",
              "    <tr>\n",
              "      <th>1995</th>\n",
              "      <td>4.0</td>\n",
              "      <td>5.0</td>\n",
              "      <td>8.0</td>\n",
              "      <td>1.354726</td>\n",
              "      <td>6.0</td>\n",
              "      <td>0.106775</td>\n",
              "      <td>0.122667</td>\n",
              "      <td>0.029076</td>\n",
              "      <td>0.030036</td>\n",
              "      <td>5.0</td>\n",
              "      <td>35.0</td>\n",
              "      <td>0.000000</td>\n",
              "      <td>0.0</td>\n",
              "    </tr>\n",
              "    <tr>\n",
              "      <th>1996</th>\n",
              "      <td>3.0</td>\n",
              "      <td>6.0</td>\n",
              "      <td>10.0</td>\n",
              "      <td>1.500263</td>\n",
              "      <td>7.0</td>\n",
              "      <td>0.115286</td>\n",
              "      <td>0.132445</td>\n",
              "      <td>0.031851</td>\n",
              "      <td>0.032902</td>\n",
              "      <td>6.0</td>\n",
              "      <td>13.0</td>\n",
              "      <td>1.000000</td>\n",
              "      <td>0.0</td>\n",
              "    </tr>\n",
              "    <tr>\n",
              "      <th>1997</th>\n",
              "      <td>4.0</td>\n",
              "      <td>4.0</td>\n",
              "      <td>7.0</td>\n",
              "      <td>1.103150</td>\n",
              "      <td>5.0</td>\n",
              "      <td>0.097510</td>\n",
              "      <td>0.112023</td>\n",
              "      <td>0.026007</td>\n",
              "      <td>0.026865</td>\n",
              "      <td>4.0</td>\n",
              "      <td>53.0</td>\n",
              "      <td>1.000000</td>\n",
              "      <td>0.0</td>\n",
              "    </tr>\n",
              "  </tbody>\n",
              "</table>\n",
              "<p>1998 rows × 13 columns</p>\n",
              "</div>\n",
              "      <button class=\"colab-df-convert\" onclick=\"convertToInteractive('df-dfd97bf5-c65d-4766-840a-2ffbfddee72f')\"\n",
              "              title=\"Convert this dataframe to an interactive table.\"\n",
              "              style=\"display:none;\">\n",
              "        \n",
              "  <svg xmlns=\"http://www.w3.org/2000/svg\" height=\"24px\"viewBox=\"0 0 24 24\"\n",
              "       width=\"24px\">\n",
              "    <path d=\"M0 0h24v24H0V0z\" fill=\"none\"/>\n",
              "    <path d=\"M18.56 5.44l.94 2.06.94-2.06 2.06-.94-2.06-.94-.94-2.06-.94 2.06-2.06.94zm-11 1L8.5 8.5l.94-2.06 2.06-.94-2.06-.94L8.5 2.5l-.94 2.06-2.06.94zm10 10l.94 2.06.94-2.06 2.06-.94-2.06-.94-.94-2.06-.94 2.06-2.06.94z\"/><path d=\"M17.41 7.96l-1.37-1.37c-.4-.4-.92-.59-1.43-.59-.52 0-1.04.2-1.43.59L10.3 9.45l-7.72 7.72c-.78.78-.78 2.05 0 2.83L4 21.41c.39.39.9.59 1.41.59.51 0 1.02-.2 1.41-.59l7.78-7.78 2.81-2.81c.8-.78.8-2.07 0-2.86zM5.41 20L4 18.59l7.72-7.72 1.47 1.35L5.41 20z\"/>\n",
              "  </svg>\n",
              "      </button>\n",
              "      \n",
              "  <style>\n",
              "    .colab-df-container {\n",
              "      display:flex;\n",
              "      flex-wrap:wrap;\n",
              "      gap: 12px;\n",
              "    }\n",
              "\n",
              "    .colab-df-convert {\n",
              "      background-color: #E8F0FE;\n",
              "      border: none;\n",
              "      border-radius: 50%;\n",
              "      cursor: pointer;\n",
              "      display: none;\n",
              "      fill: #1967D2;\n",
              "      height: 32px;\n",
              "      padding: 0 0 0 0;\n",
              "      width: 32px;\n",
              "    }\n",
              "\n",
              "    .colab-df-convert:hover {\n",
              "      background-color: #E2EBFA;\n",
              "      box-shadow: 0px 1px 2px rgba(60, 64, 67, 0.3), 0px 1px 3px 1px rgba(60, 64, 67, 0.15);\n",
              "      fill: #174EA6;\n",
              "    }\n",
              "\n",
              "    [theme=dark] .colab-df-convert {\n",
              "      background-color: #3B4455;\n",
              "      fill: #D2E3FC;\n",
              "    }\n",
              "\n",
              "    [theme=dark] .colab-df-convert:hover {\n",
              "      background-color: #434B5C;\n",
              "      box-shadow: 0px 1px 3px 1px rgba(0, 0, 0, 0.15);\n",
              "      filter: drop-shadow(0px 1px 2px rgba(0, 0, 0, 0.3));\n",
              "      fill: #FFFFFF;\n",
              "    }\n",
              "  </style>\n",
              "\n",
              "      <script>\n",
              "        const buttonEl =\n",
              "          document.querySelector('#df-dfd97bf5-c65d-4766-840a-2ffbfddee72f button.colab-df-convert');\n",
              "        buttonEl.style.display =\n",
              "          google.colab.kernel.accessAllowed ? 'block' : 'none';\n",
              "\n",
              "        async function convertToInteractive(key) {\n",
              "          const element = document.querySelector('#df-dfd97bf5-c65d-4766-840a-2ffbfddee72f');\n",
              "          const dataTable =\n",
              "            await google.colab.kernel.invokeFunction('convertToInteractive',\n",
              "                                                     [key], {});\n",
              "          if (!dataTable) return;\n",
              "\n",
              "          const docLinkHtml = 'Like what you see? Visit the ' +\n",
              "            '<a target=\"_blank\" href=https://colab.research.google.com/notebooks/data_table.ipynb>data table notebook</a>'\n",
              "            + ' to learn more about interactive tables.';\n",
              "          element.innerHTML = '';\n",
              "          dataTable['output_type'] = 'display_data';\n",
              "          await google.colab.output.renderOutput(dataTable, element);\n",
              "          const docLink = document.createElement('div');\n",
              "          docLink.innerHTML = docLinkHtml;\n",
              "          element.appendChild(docLink);\n",
              "        }\n",
              "      </script>\n",
              "    </div>\n",
              "  </div>\n",
              "  "
            ]
          },
          "metadata": {}
        }
      ]
    },
    {
      "cell_type": "code",
      "source": [
        "df.isnull().sum().sort_values(ascending=False)"
      ],
      "metadata": {
        "colab": {
          "base_uri": "https://localhost:8080/"
        },
        "id": "O1UUK_Y_7Tp5",
        "outputId": "7c3e4bb5-6133-486d-9a3c-ffa5bfe2dd3a"
      },
      "execution_count": null,
      "outputs": [
        {
          "output_type": "execute_result",
          "data": {
            "text/plain": [
              "nlp_l_2dn       0\n",
              "nlp_3g_dist     0\n",
              "nlp_l_fqdn      0\n",
              "nlp_1g_e        0\n",
              "nlp_2g_dist     0\n",
              "nlp_2g_ken      0\n",
              "nlp_2g_spe      0\n",
              "nlp_3g_ken      0\n",
              "nlp_3g_spe      0\n",
              "nlp_3g_sumsq    0\n",
              "whois_rec       0\n",
              "whois_change    0\n",
              "class           0\n",
              "dtype: int64"
            ]
          },
          "metadata": {},
          "execution_count": 9
        }
      ]
    },
    {
      "cell_type": "code",
      "source": [
        "df.dropna(how=\"any\", inplace=True)"
      ],
      "metadata": {
        "id": "tesu6-pi7my5"
      },
      "execution_count": null,
      "outputs": []
    },
    {
      "cell_type": "code",
      "source": [
        "df.info()"
      ],
      "metadata": {
        "colab": {
          "base_uri": "https://localhost:8080/"
        },
        "id": "m9SRL4sGCC2Y",
        "outputId": "87766567-24b7-4a82-cebb-c4c14d4eab7b"
      },
      "execution_count": null,
      "outputs": [
        {
          "output_type": "stream",
          "name": "stdout",
          "text": [
            "<class 'pandas.core.frame.DataFrame'>\n",
            "Int64Index: 1998 entries, 0 to 1997\n",
            "Data columns (total 13 columns):\n",
            " #   Column        Non-Null Count  Dtype  \n",
            "---  ------        --------------  -----  \n",
            " 0   nlp_l_2dn     1998 non-null   float64\n",
            " 1   nlp_3g_dist   1998 non-null   float64\n",
            " 2   nlp_l_fqdn    1998 non-null   float64\n",
            " 3   nlp_1g_e      1998 non-null   float64\n",
            " 4   nlp_2g_dist   1998 non-null   float64\n",
            " 5   nlp_2g_ken    1998 non-null   float64\n",
            " 6   nlp_2g_spe    1998 non-null   float64\n",
            " 7   nlp_3g_ken    1998 non-null   float64\n",
            " 8   nlp_3g_spe    1998 non-null   float64\n",
            " 9   nlp_3g_sumsq  1998 non-null   float64\n",
            " 10  whois_rec     1998 non-null   float64\n",
            " 11  whois_change  1998 non-null   float64\n",
            " 12  class         1998 non-null   float64\n",
            "dtypes: float64(13)\n",
            "memory usage: 218.5 KB\n"
          ]
        }
      ]
    },
    {
      "cell_type": "code",
      "source": [
        "X, y = df.iloc[:, :-1], df.iloc[:, -1] # the last column is the target"
      ],
      "metadata": {
        "id": "uLXuHXJsJ6Ax"
      },
      "execution_count": null,
      "outputs": []
    },
    {
      "cell_type": "code",
      "source": [
        "from sklearn.model_selection import train_test_split\n",
        "# from sklearn.preprocessing import StandardScaler\n",
        "# X = StandardScaler().fit_transform(X)\n",
        "\n",
        "# Generate train/test sets\n",
        "X_train, X_test, y_train, y_test = train_test_split(\n",
        "    X, y, test_size=0.3, random_state=42\n",
        ")\n",
        "\n"
      ],
      "metadata": {
        "id": "NLU-tEqR7pYn"
      },
      "execution_count": null,
      "outputs": []
    },
    {
      "cell_type": "code",
      "source": [
        "IMAGES_PATH = Path() / \"gdrive\" / \"MyDrive\" / \"Colab\" / \"Data\" / \"images\" / \"suppobox_3\"\n",
        "IMAGES_PATH.mkdir(parents=True, exist_ok=True)\n",
        "\n",
        "def save_fig(fig_id, tight_layout=True, fig_extension=\"png\", resolution=600):\n",
        "    path = IMAGES_PATH / f\"{fig_id}.{fig_extension}\"\n",
        "    if tight_layout:\n",
        "        plt.tight_layout()\n",
        "    plt.savefig(path, format=fig_extension, dpi=resolution)"
      ],
      "metadata": {
        "id": "4Ax1nK3NlSXD"
      },
      "execution_count": null,
      "outputs": []
    },
    {
      "cell_type": "code",
      "source": [
        "df.describe()"
      ],
      "metadata": {
        "id": "BB5bEM007CpY",
        "colab": {
          "base_uri": "https://localhost:8080/"
        },
        "outputId": "9f11826e-bd9b-4b7f-b028-f33293fc1597"
      },
      "execution_count": null,
      "outputs": [
        {
          "output_type": "execute_result",
          "data": {
            "text/plain": [
              "         nlp_l_2dn  nlp_3g_dist   nlp_l_fqdn     nlp_1g_e  nlp_2g_dist  \\\n",
              "count  1998.000000  1998.000000  1998.000000  1998.000000  1998.000000   \n",
              "mean     12.389389    13.399399    16.535035     3.812239    13.716717   \n",
              "std       6.175900     5.989361     6.022701     1.761763     5.510661   \n",
              "min       1.000000     1.000000     4.000000     0.482578     2.000000   \n",
              "25%       6.000000     8.000000    11.000000     2.073128     9.000000   \n",
              "50%      17.000000    17.000000    21.000000     4.481792    16.000000   \n",
              "75%      18.000000    19.000000    22.000000     5.444739    19.000000   \n",
              "max      21.000000    22.000000    25.000000     6.770896    23.000000   \n",
              "\n",
              "        nlp_2g_ken   nlp_2g_spe   nlp_3g_ken   nlp_3g_spe  nlp_3g_sumsq  \\\n",
              "count  1998.000000  1998.000000  1998.000000  1998.000000   1998.000000   \n",
              "mean      0.157157     0.180497     0.046159     0.047683     13.679680   \n",
              "std       0.034379     0.039461     0.011596     0.011979      6.253331   \n",
              "min       0.061742     0.070932     0.013004     0.013433      1.000000   \n",
              "25%       0.130620     0.150061     0.036778     0.037991      8.000000   \n",
              "50%       0.173686     0.199537     0.053607     0.055376     18.000000   \n",
              "75%       0.189048     0.217186     0.056671     0.058541     19.000000   \n",
              "max       0.207672     0.238581     0.060979     0.062992     31.000000   \n",
              "\n",
              "         whois_rec  whois_change        class  \n",
              "count  1998.000000   1998.000000  1998.000000  \n",
              "mean     15.247247      0.338227     0.500501  \n",
              "std      15.436462      0.723412     0.500125  \n",
              "min       0.000000      0.000000     0.000000  \n",
              "25%       0.000000      0.000000     0.000000  \n",
              "50%      11.000000      0.157548     1.000000  \n",
              "75%      28.000000      0.178057     1.000000  \n",
              "max     110.000000      4.000000     1.000000  "
            ],
            "text/html": [
              "\n",
              "  <div id=\"df-fed0c669-e87a-4487-b86a-52126d06421d\">\n",
              "    <div class=\"colab-df-container\">\n",
              "      <div>\n",
              "<style scoped>\n",
              "    .dataframe tbody tr th:only-of-type {\n",
              "        vertical-align: middle;\n",
              "    }\n",
              "\n",
              "    .dataframe tbody tr th {\n",
              "        vertical-align: top;\n",
              "    }\n",
              "\n",
              "    .dataframe thead th {\n",
              "        text-align: right;\n",
              "    }\n",
              "</style>\n",
              "<table border=\"1\" class=\"dataframe\">\n",
              "  <thead>\n",
              "    <tr style=\"text-align: right;\">\n",
              "      <th></th>\n",
              "      <th>nlp_l_2dn</th>\n",
              "      <th>nlp_3g_dist</th>\n",
              "      <th>nlp_l_fqdn</th>\n",
              "      <th>nlp_1g_e</th>\n",
              "      <th>nlp_2g_dist</th>\n",
              "      <th>nlp_2g_ken</th>\n",
              "      <th>nlp_2g_spe</th>\n",
              "      <th>nlp_3g_ken</th>\n",
              "      <th>nlp_3g_spe</th>\n",
              "      <th>nlp_3g_sumsq</th>\n",
              "      <th>whois_rec</th>\n",
              "      <th>whois_change</th>\n",
              "      <th>class</th>\n",
              "    </tr>\n",
              "  </thead>\n",
              "  <tbody>\n",
              "    <tr>\n",
              "      <th>count</th>\n",
              "      <td>1998.000000</td>\n",
              "      <td>1998.000000</td>\n",
              "      <td>1998.000000</td>\n",
              "      <td>1998.000000</td>\n",
              "      <td>1998.000000</td>\n",
              "      <td>1998.000000</td>\n",
              "      <td>1998.000000</td>\n",
              "      <td>1998.000000</td>\n",
              "      <td>1998.000000</td>\n",
              "      <td>1998.000000</td>\n",
              "      <td>1998.000000</td>\n",
              "      <td>1998.000000</td>\n",
              "      <td>1998.000000</td>\n",
              "    </tr>\n",
              "    <tr>\n",
              "      <th>mean</th>\n",
              "      <td>12.389389</td>\n",
              "      <td>13.399399</td>\n",
              "      <td>16.535035</td>\n",
              "      <td>3.812239</td>\n",
              "      <td>13.716717</td>\n",
              "      <td>0.157157</td>\n",
              "      <td>0.180497</td>\n",
              "      <td>0.046159</td>\n",
              "      <td>0.047683</td>\n",
              "      <td>13.679680</td>\n",
              "      <td>15.247247</td>\n",
              "      <td>0.338227</td>\n",
              "      <td>0.500501</td>\n",
              "    </tr>\n",
              "    <tr>\n",
              "      <th>std</th>\n",
              "      <td>6.175900</td>\n",
              "      <td>5.989361</td>\n",
              "      <td>6.022701</td>\n",
              "      <td>1.761763</td>\n",
              "      <td>5.510661</td>\n",
              "      <td>0.034379</td>\n",
              "      <td>0.039461</td>\n",
              "      <td>0.011596</td>\n",
              "      <td>0.011979</td>\n",
              "      <td>6.253331</td>\n",
              "      <td>15.436462</td>\n",
              "      <td>0.723412</td>\n",
              "      <td>0.500125</td>\n",
              "    </tr>\n",
              "    <tr>\n",
              "      <th>min</th>\n",
              "      <td>1.000000</td>\n",
              "      <td>1.000000</td>\n",
              "      <td>4.000000</td>\n",
              "      <td>0.482578</td>\n",
              "      <td>2.000000</td>\n",
              "      <td>0.061742</td>\n",
              "      <td>0.070932</td>\n",
              "      <td>0.013004</td>\n",
              "      <td>0.013433</td>\n",
              "      <td>1.000000</td>\n",
              "      <td>0.000000</td>\n",
              "      <td>0.000000</td>\n",
              "      <td>0.000000</td>\n",
              "    </tr>\n",
              "    <tr>\n",
              "      <th>25%</th>\n",
              "      <td>6.000000</td>\n",
              "      <td>8.000000</td>\n",
              "      <td>11.000000</td>\n",
              "      <td>2.073128</td>\n",
              "      <td>9.000000</td>\n",
              "      <td>0.130620</td>\n",
              "      <td>0.150061</td>\n",
              "      <td>0.036778</td>\n",
              "      <td>0.037991</td>\n",
              "      <td>8.000000</td>\n",
              "      <td>0.000000</td>\n",
              "      <td>0.000000</td>\n",
              "      <td>0.000000</td>\n",
              "    </tr>\n",
              "    <tr>\n",
              "      <th>50%</th>\n",
              "      <td>17.000000</td>\n",
              "      <td>17.000000</td>\n",
              "      <td>21.000000</td>\n",
              "      <td>4.481792</td>\n",
              "      <td>16.000000</td>\n",
              "      <td>0.173686</td>\n",
              "      <td>0.199537</td>\n",
              "      <td>0.053607</td>\n",
              "      <td>0.055376</td>\n",
              "      <td>18.000000</td>\n",
              "      <td>11.000000</td>\n",
              "      <td>0.157548</td>\n",
              "      <td>1.000000</td>\n",
              "    </tr>\n",
              "    <tr>\n",
              "      <th>75%</th>\n",
              "      <td>18.000000</td>\n",
              "      <td>19.000000</td>\n",
              "      <td>22.000000</td>\n",
              "      <td>5.444739</td>\n",
              "      <td>19.000000</td>\n",
              "      <td>0.189048</td>\n",
              "      <td>0.217186</td>\n",
              "      <td>0.056671</td>\n",
              "      <td>0.058541</td>\n",
              "      <td>19.000000</td>\n",
              "      <td>28.000000</td>\n",
              "      <td>0.178057</td>\n",
              "      <td>1.000000</td>\n",
              "    </tr>\n",
              "    <tr>\n",
              "      <th>max</th>\n",
              "      <td>21.000000</td>\n",
              "      <td>22.000000</td>\n",
              "      <td>25.000000</td>\n",
              "      <td>6.770896</td>\n",
              "      <td>23.000000</td>\n",
              "      <td>0.207672</td>\n",
              "      <td>0.238581</td>\n",
              "      <td>0.060979</td>\n",
              "      <td>0.062992</td>\n",
              "      <td>31.000000</td>\n",
              "      <td>110.000000</td>\n",
              "      <td>4.000000</td>\n",
              "      <td>1.000000</td>\n",
              "    </tr>\n",
              "  </tbody>\n",
              "</table>\n",
              "</div>\n",
              "      <button class=\"colab-df-convert\" onclick=\"convertToInteractive('df-fed0c669-e87a-4487-b86a-52126d06421d')\"\n",
              "              title=\"Convert this dataframe to an interactive table.\"\n",
              "              style=\"display:none;\">\n",
              "        \n",
              "  <svg xmlns=\"http://www.w3.org/2000/svg\" height=\"24px\"viewBox=\"0 0 24 24\"\n",
              "       width=\"24px\">\n",
              "    <path d=\"M0 0h24v24H0V0z\" fill=\"none\"/>\n",
              "    <path d=\"M18.56 5.44l.94 2.06.94-2.06 2.06-.94-2.06-.94-.94-2.06-.94 2.06-2.06.94zm-11 1L8.5 8.5l.94-2.06 2.06-.94-2.06-.94L8.5 2.5l-.94 2.06-2.06.94zm10 10l.94 2.06.94-2.06 2.06-.94-2.06-.94-.94-2.06-.94 2.06-2.06.94z\"/><path d=\"M17.41 7.96l-1.37-1.37c-.4-.4-.92-.59-1.43-.59-.52 0-1.04.2-1.43.59L10.3 9.45l-7.72 7.72c-.78.78-.78 2.05 0 2.83L4 21.41c.39.39.9.59 1.41.59.51 0 1.02-.2 1.41-.59l7.78-7.78 2.81-2.81c.8-.78.8-2.07 0-2.86zM5.41 20L4 18.59l7.72-7.72 1.47 1.35L5.41 20z\"/>\n",
              "  </svg>\n",
              "      </button>\n",
              "      \n",
              "  <style>\n",
              "    .colab-df-container {\n",
              "      display:flex;\n",
              "      flex-wrap:wrap;\n",
              "      gap: 12px;\n",
              "    }\n",
              "\n",
              "    .colab-df-convert {\n",
              "      background-color: #E8F0FE;\n",
              "      border: none;\n",
              "      border-radius: 50%;\n",
              "      cursor: pointer;\n",
              "      display: none;\n",
              "      fill: #1967D2;\n",
              "      height: 32px;\n",
              "      padding: 0 0 0 0;\n",
              "      width: 32px;\n",
              "    }\n",
              "\n",
              "    .colab-df-convert:hover {\n",
              "      background-color: #E2EBFA;\n",
              "      box-shadow: 0px 1px 2px rgba(60, 64, 67, 0.3), 0px 1px 3px 1px rgba(60, 64, 67, 0.15);\n",
              "      fill: #174EA6;\n",
              "    }\n",
              "\n",
              "    [theme=dark] .colab-df-convert {\n",
              "      background-color: #3B4455;\n",
              "      fill: #D2E3FC;\n",
              "    }\n",
              "\n",
              "    [theme=dark] .colab-df-convert:hover {\n",
              "      background-color: #434B5C;\n",
              "      box-shadow: 0px 1px 3px 1px rgba(0, 0, 0, 0.15);\n",
              "      filter: drop-shadow(0px 1px 2px rgba(0, 0, 0, 0.3));\n",
              "      fill: #FFFFFF;\n",
              "    }\n",
              "  </style>\n",
              "\n",
              "      <script>\n",
              "        const buttonEl =\n",
              "          document.querySelector('#df-fed0c669-e87a-4487-b86a-52126d06421d button.colab-df-convert');\n",
              "        buttonEl.style.display =\n",
              "          google.colab.kernel.accessAllowed ? 'block' : 'none';\n",
              "\n",
              "        async function convertToInteractive(key) {\n",
              "          const element = document.querySelector('#df-fed0c669-e87a-4487-b86a-52126d06421d');\n",
              "          const dataTable =\n",
              "            await google.colab.kernel.invokeFunction('convertToInteractive',\n",
              "                                                     [key], {});\n",
              "          if (!dataTable) return;\n",
              "\n",
              "          const docLinkHtml = 'Like what you see? Visit the ' +\n",
              "            '<a target=\"_blank\" href=https://colab.research.google.com/notebooks/data_table.ipynb>data table notebook</a>'\n",
              "            + ' to learn more about interactive tables.';\n",
              "          element.innerHTML = '';\n",
              "          dataTable['output_type'] = 'display_data';\n",
              "          await google.colab.output.renderOutput(dataTable, element);\n",
              "          const docLink = document.createElement('div');\n",
              "          docLink.innerHTML = docLinkHtml;\n",
              "          element.appendChild(docLink);\n",
              "        }\n",
              "      </script>\n",
              "    </div>\n",
              "  </div>\n",
              "  "
            ]
          },
          "metadata": {},
          "execution_count": 15
        }
      ]
    },
    {
      "cell_type": "code",
      "source": [
        "import matplotlib.pyplot as plt\n",
        "\n",
        "df.hist(bins=50, figsize=(24, 16))\n",
        "plt.show()"
      ],
      "metadata": {
        "colab": {
          "base_uri": "https://localhost:8080/"
        },
        "outputId": "35480492-6120-48ef-fc11-87ab3545c859",
        "id": "OuZK2lGE56Cw"
      },
      "execution_count": null,
      "outputs": [
        {
          "output_type": "display_data",
          "data": {
            "text/plain": [
              "<Figure size 1728x1152 with 16 Axes>"
            ],
            "image/png": "[encoded data removed]"
          },
          "metadata": {
            "needs_background": "light"
          }
        }
      ]
    },
    {
      "cell_type": "markdown",
      "source": [
        "### Naive Bayes (NB) classifier"
      ],
      "metadata": {
        "id": "4EsjCmYPiEFo"
      }
    },
    {
      "cell_type": "code",
      "source": [
        "from sklearn.naive_bayes import MultinomialNB\n",
        "\n",
        "mnb_clf = MultinomialNB()\n",
        "mnb_clf.fit(X_train, y_train)\n"
      ],
      "metadata": {
        "colab": {
          "base_uri": "https://localhost:8080/"
        },
        "outputId": "30f4e098-f5f8-49a5-d638-37238e8eb0f7",
        "id": "TmiB7J2siEFw"
      },
      "execution_count": null,
      "outputs": [
        {
          "output_type": "execute_result",
          "data": {
            "text/plain": [
              "MultinomialNB()"
            ]
          },
          "metadata": {},
          "execution_count": 17
        }
      ]
    },
    {
      "cell_type": "code",
      "source": [
        "print(f\"Naive Bayes scored {mnb_clf.score(X_test, y_test).round(5)} on test\")\n",
        "print(f\"Naive Bayes scored {mnb_clf.score(X_train, y_train).round(5)} on train\")"
      ],
      "metadata": {
        "colab": {
          "base_uri": "https://localhost:8080/"
        },
        "outputId": "d518d034-fcad-436c-8133-ae6c5b32cbfa",
        "id": "YHA9baOJiEFx"
      },
      "execution_count": null,
      "outputs": [
        {
          "output_type": "stream",
          "name": "stdout",
          "text": [
            "Naive Bayes scored 0.99 on test\n",
            "Naive Bayes scored 0.99213 on train\n"
          ]
        }
      ]
    },
    {
      "cell_type": "markdown",
      "source": [
        "#### Confusion Matrix for mnb_clf train"
      ],
      "metadata": {
        "id": "SK9aTAhsiEFx"
      }
    },
    {
      "cell_type": "code",
      "source": [
        "from sklearn.model_selection import cross_val_predict\n",
        "\n",
        "y_train_pred = cross_val_predict(mnb_clf, X_train, y_train, cv=3)"
      ],
      "metadata": {
        "id": "aBSgOjyOiEFx"
      },
      "execution_count": null,
      "outputs": []
    },
    {
      "cell_type": "code",
      "source": [
        "from sklearn.metrics import confusion_matrix\n",
        "cm = confusion_matrix(y_train, y_train_pred).round(5)\n",
        "cm"
      ],
      "metadata": {
        "colab": {
          "base_uri": "https://localhost:8080/"
        },
        "outputId": "8440e0dc-e352-41e0-b477-8b1f9ac5137b",
        "id": "nAClIxZViEFy"
      },
      "execution_count": null,
      "outputs": [
        {
          "output_type": "execute_result",
          "data": {
            "text/plain": [
              "array([[697,   6],\n",
              "       [  5, 690]])"
            ]
          },
          "metadata": {},
          "execution_count": 20
        }
      ]
    },
    {
      "cell_type": "code",
      "source": [
        "from sklearn.metrics import precision_score, recall_score\n",
        "precision_score(y_train, y_train_pred).round(5)"
      ],
      "metadata": {
        "colab": {
          "base_uri": "https://localhost:8080/"
        },
        "outputId": "cfdb9f89-ae81-42b1-f496-13445191f480",
        "id": "GIWKEMsYiEFy"
      },
      "execution_count": null,
      "outputs": [
        {
          "output_type": "execute_result",
          "data": {
            "text/plain": [
              "0.99138"
            ]
          },
          "metadata": {},
          "execution_count": 21
        }
      ]
    },
    {
      "cell_type": "code",
      "source": [
        "recall_score(y_train, y_train_pred).round(5)"
      ],
      "metadata": {
        "colab": {
          "base_uri": "https://localhost:8080/"
        },
        "outputId": "46b61a7d-1ecf-4c31-bb3a-9f29fec36840",
        "id": "U8MX3k5QiEFy"
      },
      "execution_count": null,
      "outputs": [
        {
          "output_type": "execute_result",
          "data": {
            "text/plain": [
              "0.99281"
            ]
          },
          "metadata": {},
          "execution_count": 22
        }
      ]
    },
    {
      "cell_type": "code",
      "source": [
        "from sklearn.metrics import f1_score\n",
        "f1_score(y_train, y_train_pred).round(5)"
      ],
      "metadata": {
        "colab": {
          "base_uri": "https://localhost:8080/"
        },
        "outputId": "99c0f768-51f9-4423-8440-d744efa106f2",
        "id": "bgrVDUC2iEFy"
      },
      "execution_count": null,
      "outputs": [
        {
          "output_type": "execute_result",
          "data": {
            "text/plain": [
              "0.99209"
            ]
          },
          "metadata": {},
          "execution_count": 23
        }
      ]
    },
    {
      "cell_type": "code",
      "source": [
        "from sklearn.metrics import ConfusionMatrixDisplay\n",
        "ConfusionMatrixDisplay.from_predictions(y_train, y_train_pred)\n",
        "save_fig(\"suppobox_3_+whois_mnb_train_cm\")\n",
        "plt.show"
      ],
      "metadata": {
        "colab": {
          "base_uri": "https://localhost:8080/"
        },
        "id": "Hbnto6AkmJYc",
        "outputId": "477d0ef1-369b-472e-c954-5de38810c247"
      },
      "execution_count": null,
      "outputs": [
        {
          "output_type": "execute_result",
          "data": {
            "text/plain": [
              "<function matplotlib.pyplot.show(*args, **kw)>"
            ]
          },
          "metadata": {},
          "execution_count": 24
        },
        {
          "output_type": "display_data",
          "data": {
            "text/plain": [
              "<Figure size 432x288 with 2 Axes>"
            ],
            "image/png": "[encoded data removed]"
          },
          "metadata": {
            "needs_background": "light"
          }
        }
      ]
    },
    {
      "cell_type": "markdown",
      "source": [
        "#### Confusion Matrix for mnb_clf test"
      ],
      "metadata": {
        "id": "rl-TLGokmYf6"
      }
    },
    {
      "cell_type": "code",
      "source": [
        "from sklearn.model_selection import cross_val_predict\n",
        "\n",
        "y_test_pred = cross_val_predict(mnb_clf, X_test, y_test, cv=3)"
      ],
      "metadata": {
        "id": "_aEWUEnOmYf6"
      },
      "execution_count": null,
      "outputs": []
    },
    {
      "cell_type": "code",
      "source": [
        "from sklearn.metrics import confusion_matrix\n",
        "cm = confusion_matrix(y_test, y_test_pred).round(5)\n",
        "cm"
      ],
      "metadata": {
        "colab": {
          "base_uri": "https://localhost:8080/"
        },
        "outputId": "846aa57c-ac38-48d6-a2d9-79948fc97536",
        "id": "kVG_5BIhmYf7"
      },
      "execution_count": null,
      "outputs": [
        {
          "output_type": "execute_result",
          "data": {
            "text/plain": [
              "array([[293,   2],\n",
              "       [  4, 301]])"
            ]
          },
          "metadata": {},
          "execution_count": 26
        }
      ]
    },
    {
      "cell_type": "code",
      "source": [
        "from sklearn.metrics import precision_score, recall_score\n",
        "precision_score(y_test, y_test_pred).round(5)"
      ],
      "metadata": {
        "colab": {
          "base_uri": "https://localhost:8080/"
        },
        "outputId": "e6e947b8-0d99-480d-81c4-e8ab2be57581",
        "id": "3JLw80dMmYf7"
      },
      "execution_count": null,
      "outputs": [
        {
          "output_type": "execute_result",
          "data": {
            "text/plain": [
              "0.9934"
            ]
          },
          "metadata": {},
          "execution_count": 27
        }
      ]
    },
    {
      "cell_type": "code",
      "source": [
        "recall_score(y_test, y_test_pred).round(5)"
      ],
      "metadata": {
        "colab": {
          "base_uri": "https://localhost:8080/"
        },
        "outputId": "7f21a768-14ab-4a02-d5e3-d7221bc849de",
        "id": "dyrDKyXXmYf7"
      },
      "execution_count": null,
      "outputs": [
        {
          "output_type": "execute_result",
          "data": {
            "text/plain": [
              "0.98689"
            ]
          },
          "metadata": {},
          "execution_count": 28
        }
      ]
    },
    {
      "cell_type": "code",
      "source": [
        "from sklearn.metrics import f1_score\n",
        "f1_score(y_test, y_test_pred).round(5)"
      ],
      "metadata": {
        "colab": {
          "base_uri": "https://localhost:8080/"
        },
        "outputId": "af522a65-cab2-4610-8e04-b7b8b453a94a",
        "id": "Yn-cfR4OmYf8"
      },
      "execution_count": null,
      "outputs": [
        {
          "output_type": "execute_result",
          "data": {
            "text/plain": [
              "0.99013"
            ]
          },
          "metadata": {},
          "execution_count": 29
        }
      ]
    },
    {
      "cell_type": "code",
      "source": [
        "from sklearn.metrics import ConfusionMatrixDisplay\n",
        "ConfusionMatrixDisplay.from_predictions(y_test, y_test_pred)\n",
        "save_fig(\"suppobox_3_+whois_mnb_test_cm\")\n",
        "plt.show"
      ],
      "metadata": {
        "colab": {
          "base_uri": "https://localhost:8080/"
        },
        "id": "oFX58hmWlI7g",
        "outputId": "1976b202-395a-42d4-e9da-a8605c30f7c8"
      },
      "execution_count": null,
      "outputs": [
        {
          "output_type": "execute_result",
          "data": {
            "text/plain": [
              "<function matplotlib.pyplot.show(*args, **kw)>"
            ]
          },
          "metadata": {},
          "execution_count": 30
        },
        {
          "output_type": "display_data",
          "data": {
            "text/plain": [
              "<Figure size 432x288 with 2 Axes>"
            ],
            "image/png": "[encoded data removed]"
          },
          "metadata": {
            "needs_background": "light"
          }
        }
      ]
    },
    {
      "cell_type": "markdown",
      "source": [
        "### Logistic Regression (LG) classifier"
      ],
      "metadata": {
        "id": "O8Vb1kdojPI4"
      }
    },
    {
      "cell_type": "code",
      "source": [
        "from sklearn.linear_model import LogisticRegression\n",
        "\n",
        "lg_clf = LogisticRegression(max_iter=1000)\n",
        "lg_clf.fit(X_train, y_train)\n"
      ],
      "metadata": {
        "id": "96qF9r2YjPI_",
        "colab": {
          "base_uri": "https://localhost:8080/"
        },
        "outputId": "fa147d63-2b08-4ddf-f6c0-ab80745f634e"
      },
      "execution_count": null,
      "outputs": [
        {
          "output_type": "execute_result",
          "data": {
            "text/plain": [
              "LogisticRegression(max_iter=1000)"
            ]
          },
          "metadata": {},
          "execution_count": 31
        }
      ]
    },
    {
      "cell_type": "code",
      "source": [
        "print(f\"Logistic Regression scored {lg_clf.score(X_test, y_test).round(5)} on test\")\n",
        "print(f\"Logistic Regression scored {lg_clf.score(X_train, y_train).round(5)} on train\")"
      ],
      "metadata": {
        "colab": {
          "base_uri": "https://localhost:8080/"
        },
        "outputId": "d5dcc835-81d5-4cf7-8ff1-626b7f1f7551",
        "id": "oUyuqUOsjPI_"
      },
      "execution_count": null,
      "outputs": [
        {
          "output_type": "stream",
          "name": "stdout",
          "text": [
            "Logistic Regression scored 0.99667 on test\n",
            "Logistic Regression scored 0.99928 on train\n"
          ]
        }
      ]
    },
    {
      "cell_type": "markdown",
      "source": [
        "#### Confusion Matrix for lg_clf train"
      ],
      "metadata": {
        "id": "yGB-kSCkjPJA"
      }
    },
    {
      "cell_type": "code",
      "source": [
        "from sklearn.model_selection import cross_val_predict\n",
        "\n",
        "y_train_pred = cross_val_predict(lg_clf, X_train, y_train, cv=3)"
      ],
      "metadata": {
        "id": "xGVE5gdkjPJA"
      },
      "execution_count": null,
      "outputs": []
    },
    {
      "cell_type": "code",
      "source": [
        "from sklearn.metrics import confusion_matrix\n",
        "cm = confusion_matrix(y_train, y_train_pred)\n",
        "cm"
      ],
      "metadata": {
        "colab": {
          "base_uri": "https://localhost:8080/"
        },
        "outputId": "d9c29363-c767-4418-e54a-a0013b31f41f",
        "id": "67wBt1vkjPJA"
      },
      "execution_count": null,
      "outputs": [
        {
          "output_type": "execute_result",
          "data": {
            "text/plain": [
              "array([[702,   1],\n",
              "       [  1, 694]])"
            ]
          },
          "metadata": {},
          "execution_count": 34
        }
      ]
    },
    {
      "cell_type": "code",
      "source": [
        "from sklearn.metrics import precision_score, recall_score\n",
        "precision_score(y_train, y_train_pred).round(5)"
      ],
      "metadata": {
        "colab": {
          "base_uri": "https://localhost:8080/"
        },
        "outputId": "88f3addb-f915-4c46-b411-6eeb404724a1",
        "id": "mwbmycAAjPJA"
      },
      "execution_count": null,
      "outputs": [
        {
          "output_type": "execute_result",
          "data": {
            "text/plain": [
              "0.99856"
            ]
          },
          "metadata": {},
          "execution_count": 35
        }
      ]
    },
    {
      "cell_type": "code",
      "source": [
        "recall_score(y_train, y_train_pred).round(5)"
      ],
      "metadata": {
        "colab": {
          "base_uri": "https://localhost:8080/"
        },
        "outputId": "a31b7a53-a604-4339-a4ca-ca095abf97a1",
        "id": "WK40wGdVjPJA"
      },
      "execution_count": null,
      "outputs": [
        {
          "output_type": "execute_result",
          "data": {
            "text/plain": [
              "0.99856"
            ]
          },
          "metadata": {},
          "execution_count": 36
        }
      ]
    },
    {
      "cell_type": "code",
      "source": [
        "from sklearn.metrics import f1_score\n",
        "f1_score(y_train, y_train_pred).round(5)"
      ],
      "metadata": {
        "colab": {
          "base_uri": "https://localhost:8080/"
        },
        "outputId": "ce9ce9c9-ed54-4bae-f933-65c2c36bb4eb",
        "id": "BwSGN4lijPJA"
      },
      "execution_count": null,
      "outputs": [
        {
          "output_type": "execute_result",
          "data": {
            "text/plain": [
              "0.99856"
            ]
          },
          "metadata": {},
          "execution_count": 37
        }
      ]
    },
    {
      "cell_type": "code",
      "source": [
        "from sklearn.metrics import ConfusionMatrixDisplay\n",
        "ConfusionMatrixDisplay.from_predictions(y_train, y_train_pred)\n",
        "save_fig(\"suppobox_3_+whois_lg_train_cm\")\n",
        "plt.show"
      ],
      "metadata": {
        "colab": {
          "base_uri": "https://localhost:8080/"
        },
        "id": "eP7nu8EfCNfX",
        "outputId": "45bfb3b4-3cdc-4287-8db0-20c3935f9f29"
      },
      "execution_count": null,
      "outputs": [
        {
          "output_type": "execute_result",
          "data": {
            "text/plain": [
              "<function matplotlib.pyplot.show(*args, **kw)>"
            ]
          },
          "metadata": {},
          "execution_count": 38
        },
        {
          "output_type": "display_data",
          "data": {
            "text/plain": [
              "<Figure size 432x288 with 2 Axes>"
            ],
            "image/png": "[encoded data removed]"
          },
          "metadata": {
            "needs_background": "light"
          }
        }
      ]
    },
    {
      "cell_type": "markdown",
      "source": [
        "#### Confusion Matrix for lg_clf test"
      ],
      "metadata": {
        "id": "b0GyX45JCBDp"
      }
    },
    {
      "cell_type": "code",
      "source": [
        "from sklearn.model_selection import cross_val_predict\n",
        "\n",
        "y_test_pred = cross_val_predict(lg_clf, X_test, y_test, cv=3)"
      ],
      "metadata": {
        "id": "dd1nCGsWCBDq"
      },
      "execution_count": null,
      "outputs": []
    },
    {
      "cell_type": "code",
      "source": [
        "from sklearn.metrics import confusion_matrix\n",
        "cm = confusion_matrix(y_test, y_test_pred)\n",
        "cm"
      ],
      "metadata": {
        "colab": {
          "base_uri": "https://localhost:8080/"
        },
        "outputId": "bd1f9b39-86c2-455b-d0c1-488a120addcf",
        "id": "Mu2cxRo0CBDq"
      },
      "execution_count": null,
      "outputs": [
        {
          "output_type": "execute_result",
          "data": {
            "text/plain": [
              "array([[294,   1],\n",
              "       [  1, 304]])"
            ]
          },
          "metadata": {},
          "execution_count": 40
        }
      ]
    },
    {
      "cell_type": "code",
      "source": [
        "from sklearn.metrics import precision_score, recall_score\n",
        "precision_score(y_test, y_test_pred).round(5)"
      ],
      "metadata": {
        "colab": {
          "base_uri": "https://localhost:8080/"
        },
        "outputId": "4efe6751-6a1c-41c0-8c47-becd3d9cff0a",
        "id": "qIx5yX-zCBDr"
      },
      "execution_count": null,
      "outputs": [
        {
          "output_type": "execute_result",
          "data": {
            "text/plain": [
              "0.99672"
            ]
          },
          "metadata": {},
          "execution_count": 41
        }
      ]
    },
    {
      "cell_type": "code",
      "source": [
        "recall_score(y_test, y_test_pred).round(5)"
      ],
      "metadata": {
        "colab": {
          "base_uri": "https://localhost:8080/"
        },
        "outputId": "2e601177-2c5a-4741-a620-3f060b572de7",
        "id": "ONcneHnuCBDr"
      },
      "execution_count": null,
      "outputs": [
        {
          "output_type": "execute_result",
          "data": {
            "text/plain": [
              "0.99672"
            ]
          },
          "metadata": {},
          "execution_count": 42
        }
      ]
    },
    {
      "cell_type": "code",
      "source": [
        "from sklearn.metrics import f1_score\n",
        "f1_score(y_test, y_test_pred).round(5)"
      ],
      "metadata": {
        "colab": {
          "base_uri": "https://localhost:8080/"
        },
        "outputId": "961b3ff4-6e75-48e7-f875-0e50d9b4b1e9",
        "id": "VzbBtYZXCBDr"
      },
      "execution_count": null,
      "outputs": [
        {
          "output_type": "execute_result",
          "data": {
            "text/plain": [
              "0.99672"
            ]
          },
          "metadata": {},
          "execution_count": 43
        }
      ]
    },
    {
      "cell_type": "code",
      "source": [
        "from sklearn.metrics import ConfusionMatrixDisplay\n",
        "ConfusionMatrixDisplay.from_predictions(y_test, y_test_pred)\n",
        "save_fig(\"suppobox_3_+whois_lg_test_cm\")\n",
        "plt.show"
      ],
      "metadata": {
        "id": "hbGITCGVBj02",
        "colab": {
          "base_uri": "https://localhost:8080/"
        },
        "outputId": "f9b47204-cc5d-42ce-8881-da37b941490d"
      },
      "execution_count": null,
      "outputs": [
        {
          "output_type": "execute_result",
          "data": {
            "text/plain": [
              "<function matplotlib.pyplot.show(*args, **kw)>"
            ]
          },
          "metadata": {},
          "execution_count": 44
        },
        {
          "output_type": "display_data",
          "data": {
            "text/plain": [
              "<Figure size 432x288 with 2 Axes>"
            ],
            "image/png": "[encoded data removed]"
          },
          "metadata": {
            "needs_background": "light"
          }
        }
      ]
    },
    {
      "cell_type": "markdown",
      "source": [
        "### K-Nearest Neighbours (KNN) classifier"
      ],
      "metadata": {
        "id": "QZZynRycngOI"
      }
    },
    {
      "cell_type": "code",
      "source": [
        "from sklearn.neighbors import KNeighborsClassifier\n",
        "\n",
        "knn_clf = KNeighborsClassifier(algorithm = 'brute', n_jobs=-1)\n",
        "knn_clf.fit(X_train, y_train)\n"
      ],
      "metadata": {
        "colab": {
          "base_uri": "https://localhost:8080/"
        },
        "outputId": "0e69cc7a-0dca-478a-f4c7-9eefe9adbb3c",
        "id": "wMAG1LjOngOJ"
      },
      "execution_count": null,
      "outputs": [
        {
          "output_type": "execute_result",
          "data": {
            "text/plain": [
              "KNeighborsClassifier(algorithm='brute', n_jobs=-1)"
            ]
          },
          "metadata": {},
          "execution_count": 45
        }
      ]
    },
    {
      "cell_type": "code",
      "source": [
        "print(f\"K-Nearest Neighbours scored {knn_clf.score(X_test, y_test).round(5)} on test\")\n",
        "print(f\"K-Nearest Neighbours scored {knn_clf.score(X_train, y_train).round(5)} on train\")"
      ],
      "metadata": {
        "colab": {
          "base_uri": "https://localhost:8080/"
        },
        "outputId": "d626800b-b3cd-4bcf-a2ad-3d3155bfcac2",
        "id": "xzuynLVsngOJ"
      },
      "execution_count": null,
      "outputs": [
        {
          "output_type": "stream",
          "name": "stdout",
          "text": [
            "K-Nearest Neighbours scored 0.99833 on test\n",
            "K-Nearest Neighbours scored 0.99928 on train\n"
          ]
        }
      ]
    },
    {
      "cell_type": "markdown",
      "source": [
        "#### Confusion Matrix for knn_clf train"
      ],
      "metadata": {
        "id": "TzOFE2irngOK"
      }
    },
    {
      "cell_type": "code",
      "source": [
        "from sklearn.model_selection import cross_val_predict\n",
        "\n",
        "y_train_pred = cross_val_predict(knn_clf, X_train, y_train, cv=3)"
      ],
      "metadata": {
        "id": "99LqES6lngOK"
      },
      "execution_count": null,
      "outputs": []
    },
    {
      "cell_type": "code",
      "source": [
        "from sklearn.metrics import confusion_matrix\n",
        "cm = confusion_matrix(y_train, y_train_pred)\n",
        "cm"
      ],
      "metadata": {
        "colab": {
          "base_uri": "https://localhost:8080/"
        },
        "outputId": "ef36c3d5-9577-4909-c8dc-5839654e3c51",
        "id": "u87DOHi6ngOK"
      },
      "execution_count": null,
      "outputs": [
        {
          "output_type": "execute_result",
          "data": {
            "text/plain": [
              "array([[702,   1],\n",
              "       [  2, 693]])"
            ]
          },
          "metadata": {},
          "execution_count": 48
        }
      ]
    },
    {
      "cell_type": "code",
      "source": [
        "from sklearn.metrics import precision_score, recall_score\n",
        "precision_score(y_train, y_train_pred).round(5)"
      ],
      "metadata": {
        "colab": {
          "base_uri": "https://localhost:8080/"
        },
        "outputId": "065c18f7-8461-4e45-f0e2-344f413b761e",
        "id": "6ooQcJR_ngOK"
      },
      "execution_count": null,
      "outputs": [
        {
          "output_type": "execute_result",
          "data": {
            "text/plain": [
              "0.99856"
            ]
          },
          "metadata": {},
          "execution_count": 49
        }
      ]
    },
    {
      "cell_type": "code",
      "source": [
        "recall_score(y_train, y_train_pred).round(5)"
      ],
      "metadata": {
        "colab": {
          "base_uri": "https://localhost:8080/"
        },
        "outputId": "088c35f2-873b-4c24-80c5-1884c893ff2c",
        "id": "u8kSXZ-qngOL"
      },
      "execution_count": null,
      "outputs": [
        {
          "output_type": "execute_result",
          "data": {
            "text/plain": [
              "0.99712"
            ]
          },
          "metadata": {},
          "execution_count": 50
        }
      ]
    },
    {
      "cell_type": "code",
      "source": [
        "from sklearn.metrics import f1_score\n",
        "f1_score(y_train, y_train_pred).round(5)"
      ],
      "metadata": {
        "colab": {
          "base_uri": "https://localhost:8080/"
        },
        "outputId": "ac9acd50-5e57-4d78-8707-7f5e60d14c4d",
        "id": "dHJDmsuSngOL"
      },
      "execution_count": null,
      "outputs": [
        {
          "output_type": "execute_result",
          "data": {
            "text/plain": [
              "0.99784"
            ]
          },
          "metadata": {},
          "execution_count": 51
        }
      ]
    },
    {
      "cell_type": "code",
      "source": [
        "from sklearn.metrics import ConfusionMatrixDisplay\n",
        "ConfusionMatrixDisplay.from_predictions(y_train, y_train_pred)\n",
        "save_fig(\"suppobox_3_+whois_knn_train_cm\")\n",
        "plt.show"
      ],
      "metadata": {
        "colab": {
          "base_uri": "https://localhost:8080/"
        },
        "id": "chFI3NjjEF5_",
        "outputId": "a72d2541-62fe-4a35-f31f-d67189cc8b5a"
      },
      "execution_count": null,
      "outputs": [
        {
          "output_type": "execute_result",
          "data": {
            "text/plain": [
              "<function matplotlib.pyplot.show(*args, **kw)>"
            ]
          },
          "metadata": {},
          "execution_count": 52
        },
        {
          "output_type": "display_data",
          "data": {
            "text/plain": [
              "<Figure size 432x288 with 2 Axes>"
            ],
            "image/png": "[encoded data removed]"
          },
          "metadata": {
            "needs_background": "light"
          }
        }
      ]
    },
    {
      "cell_type": "markdown",
      "source": [
        "#### Confusion Matrix for knn_clf test"
      ],
      "metadata": {
        "id": "0KSXsrQtMPWo"
      }
    },
    {
      "cell_type": "code",
      "source": [
        "from sklearn.model_selection import cross_val_predict\n",
        "\n",
        "y_test_pred = cross_val_predict(knn_clf, X_test, y_test, cv=3)"
      ],
      "metadata": {
        "id": "lyFiLQo9MPWo"
      },
      "execution_count": null,
      "outputs": []
    },
    {
      "cell_type": "code",
      "source": [
        "from sklearn.metrics import confusion_matrix\n",
        "cm = confusion_matrix(y_test, y_test_pred)\n",
        "cm"
      ],
      "metadata": {
        "colab": {
          "base_uri": "https://localhost:8080/"
        },
        "outputId": "3bae1b3e-297e-46ec-95be-daddd60a644b",
        "id": "VEjSpZq4MPWp"
      },
      "execution_count": null,
      "outputs": [
        {
          "output_type": "execute_result",
          "data": {
            "text/plain": [
              "array([[295,   0],\n",
              "       [  1, 304]])"
            ]
          },
          "metadata": {},
          "execution_count": 54
        }
      ]
    },
    {
      "cell_type": "code",
      "source": [
        "from sklearn.metrics import precision_score, recall_score\n",
        "precision_score(y_test, y_test_pred).round(5)"
      ],
      "metadata": {
        "colab": {
          "base_uri": "https://localhost:8080/"
        },
        "outputId": "7ff8b24e-5f27-4d46-ae49-2fa25cbce357",
        "id": "63f1Y8ITMPWp"
      },
      "execution_count": null,
      "outputs": [
        {
          "output_type": "execute_result",
          "data": {
            "text/plain": [
              "1.0"
            ]
          },
          "metadata": {},
          "execution_count": 55
        }
      ]
    },
    {
      "cell_type": "code",
      "source": [
        "recall_score(y_test, y_test_pred).round(5)"
      ],
      "metadata": {
        "colab": {
          "base_uri": "https://localhost:8080/"
        },
        "outputId": "03393884-d63c-488d-c6e8-a7f49f7c5d51",
        "id": "75m8xd-nMPWp"
      },
      "execution_count": null,
      "outputs": [
        {
          "output_type": "execute_result",
          "data": {
            "text/plain": [
              "0.99672"
            ]
          },
          "metadata": {},
          "execution_count": 56
        }
      ]
    },
    {
      "cell_type": "code",
      "source": [
        "from sklearn.metrics import f1_score\n",
        "f1_score(y_test, y_test_pred).round(5)"
      ],
      "metadata": {
        "colab": {
          "base_uri": "https://localhost:8080/"
        },
        "outputId": "40a64e52-88ea-42fb-9560-113c6bedeb11",
        "id": "Cm4Tz_DfMPWp"
      },
      "execution_count": null,
      "outputs": [
        {
          "output_type": "execute_result",
          "data": {
            "text/plain": [
              "0.99836"
            ]
          },
          "metadata": {},
          "execution_count": 57
        }
      ]
    },
    {
      "cell_type": "code",
      "source": [
        "from sklearn.metrics import ConfusionMatrixDisplay\n",
        "ConfusionMatrixDisplay.from_predictions(y_test, y_test_pred)\n",
        "save_fig(\"suppobox_3_+whois_knn_test_cm\")\n",
        "plt.show"
      ],
      "metadata": {
        "colab": {
          "base_uri": "https://localhost:8080/"
        },
        "outputId": "2be5e9a9-177e-4bbf-eff3-f71ef4537424",
        "id": "rsPjyW3cMPWq"
      },
      "execution_count": null,
      "outputs": [
        {
          "output_type": "execute_result",
          "data": {
            "text/plain": [
              "<function matplotlib.pyplot.show(*args, **kw)>"
            ]
          },
          "metadata": {},
          "execution_count": 58
        },
        {
          "output_type": "display_data",
          "data": {
            "text/plain": [
              "<Figure size 432x288 with 2 Axes>"
            ],
            "image/png": "[encoded data removed]"
          },
          "metadata": {
            "needs_background": "light"
          }
        }
      ]
    },
    {
      "cell_type": "markdown",
      "source": [
        "###✋Support Vector Machine (SVM) classifier"
      ],
      "metadata": {
        "id": "hynEm0T6AiSp"
      }
    },
    {
      "cell_type": "code",
      "source": [
        "# if we receive ConvergenceWarning then use:\n",
        "\n",
        "from sklearn.model_selection import train_test_split\n",
        "from sklearn.preprocessing import StandardScaler\n",
        "X_norm_svm = StandardScaler().fit_transform(X)\n",
        "\n",
        "# Generate train/test sets\n",
        "X_train_svm, X_test_svm, y_train_svm, y_test_svm = train_test_split(\n",
        "    X_norm_svm, y, test_size=0.3, random_state=42\n",
        ")\n",
        "\n",
        "# re-run above LinearSVC\n"
      ],
      "metadata": {
        "id": "b44AZ1OQZQRg"
      },
      "execution_count": null,
      "outputs": []
    },
    {
      "cell_type": "code",
      "source": [
        "from sklearn.svm import LinearSVC\n",
        "from sklearn.calibration import CalibratedClassifierCV\n",
        "\n",
        "svm_clf=LinearSVC(C=0.00001)\n",
        "svm_clf.fit(X_train_svm, y_train_svm)\n",
        "svm_clf1 = CalibratedClassifierCV(svm_clf)\n",
        "svm_clf1.fit(X_train_svm, y_train_svm)\n"
      ],
      "metadata": {
        "colab": {
          "base_uri": "https://localhost:8080/"
        },
        "id": "edV7Ond8AiSq",
        "outputId": "671d0e5a-08ed-44a9-d5d3-5f5d48ac5879"
      },
      "execution_count": null,
      "outputs": [
        {
          "output_type": "execute_result",
          "data": {
            "text/plain": [
              "CalibratedClassifierCV(base_estimator=LinearSVC(C=1e-05))"
            ]
          },
          "metadata": {},
          "execution_count": 60
        }
      ]
    },
    {
      "cell_type": "code",
      "source": [
        "print(f\"SVM scored {svm_clf.score(X_test_svm, y_test_svm).round(5)} on test\")\n",
        "print(f\"SVM scored {svm_clf.score(X_train_svm, y_train_svm).round(5)} on train\")"
      ],
      "metadata": {
        "colab": {
          "base_uri": "https://localhost:8080/"
        },
        "outputId": "27da138c-a87e-4b50-98bb-56a92380e15c",
        "id": "isvxkhf1AiSq"
      },
      "execution_count": null,
      "outputs": [
        {
          "output_type": "stream",
          "name": "stdout",
          "text": [
            "SVM scored 0.97667 on test\n",
            "SVM scored 0.97568 on train\n"
          ]
        }
      ]
    },
    {
      "cell_type": "markdown",
      "source": [
        "#### Confusion Matrix for svm_clf train"
      ],
      "metadata": {
        "id": "-jg4B8iyAiSq"
      }
    },
    {
      "cell_type": "code",
      "source": [
        "from sklearn.model_selection import cross_val_predict\n",
        "\n",
        "y_train_svm_pred = cross_val_predict(svm_clf, X_train_svm, y_train_svm, cv=3)"
      ],
      "metadata": {
        "id": "CmFoV21cAiSr"
      },
      "execution_count": null,
      "outputs": []
    },
    {
      "cell_type": "code",
      "source": [
        "from sklearn.metrics import confusion_matrix\n",
        "cm = confusion_matrix(y_train_svm, y_train_svm_pred)\n",
        "cm"
      ],
      "metadata": {
        "colab": {
          "base_uri": "https://localhost:8080/"
        },
        "outputId": "ca8dd982-b414-45b3-8d3b-03833adab687",
        "id": "0HEvD287AiSr"
      },
      "execution_count": null,
      "outputs": [
        {
          "output_type": "execute_result",
          "data": {
            "text/plain": [
              "array([[668,  35],\n",
              "       [  0, 695]])"
            ]
          },
          "metadata": {},
          "execution_count": 63
        }
      ]
    },
    {
      "cell_type": "code",
      "source": [
        "from sklearn.metrics import precision_score, recall_score\n",
        "precision_score(y_train_svm, y_train_svm_pred).round(5)"
      ],
      "metadata": {
        "colab": {
          "base_uri": "https://localhost:8080/"
        },
        "outputId": "c66084b7-7339-4e59-d7de-ff287bc12749",
        "id": "y_x_6k1eAiSr"
      },
      "execution_count": null,
      "outputs": [
        {
          "output_type": "execute_result",
          "data": {
            "text/plain": [
              "0.95205"
            ]
          },
          "metadata": {},
          "execution_count": 64
        }
      ]
    },
    {
      "cell_type": "code",
      "source": [
        "recall_score(y_train_svm, y_train_svm_pred).round(5)"
      ],
      "metadata": {
        "colab": {
          "base_uri": "https://localhost:8080/"
        },
        "outputId": "75af4a5d-e23e-4a1a-de16-1a7bfdc1229a",
        "id": "1JFadQMYAiSr"
      },
      "execution_count": null,
      "outputs": [
        {
          "output_type": "execute_result",
          "data": {
            "text/plain": [
              "1.0"
            ]
          },
          "metadata": {},
          "execution_count": 65
        }
      ]
    },
    {
      "cell_type": "code",
      "source": [
        "from sklearn.metrics import f1_score\n",
        "f1_score(y_train_svm, y_train_svm_pred).round(5)"
      ],
      "metadata": {
        "colab": {
          "base_uri": "https://localhost:8080/"
        },
        "outputId": "e5b509af-0131-478e-e2da-4a7caec79172",
        "id": "ooDT7v13AiSs"
      },
      "execution_count": null,
      "outputs": [
        {
          "output_type": "execute_result",
          "data": {
            "text/plain": [
              "0.97544"
            ]
          },
          "metadata": {},
          "execution_count": 66
        }
      ]
    },
    {
      "cell_type": "code",
      "source": [
        "from sklearn.metrics import ConfusionMatrixDisplay\n",
        "ConfusionMatrixDisplay.from_predictions(y_train_svm, y_train_svm_pred)\n",
        "save_fig(\"suppobox_3_+whois_svm_train_cm\")\n",
        "plt.show"
      ],
      "metadata": {
        "colab": {
          "base_uri": "https://localhost:8080/"
        },
        "id": "1jilC9IwEoQg",
        "outputId": "068be22a-818e-45e4-97d4-490a51487f5a"
      },
      "execution_count": null,
      "outputs": [
        {
          "output_type": "execute_result",
          "data": {
            "text/plain": [
              "<function matplotlib.pyplot.show(*args, **kw)>"
            ]
          },
          "metadata": {},
          "execution_count": 67
        },
        {
          "output_type": "display_data",
          "data": {
            "text/plain": [
              "<Figure size 432x288 with 2 Axes>"
            ],
            "image/png": "[encoded data removed]"
          },
          "metadata": {
            "needs_background": "light"
          }
        }
      ]
    },
    {
      "cell_type": "markdown",
      "source": [
        "#### Confusion Matrix for svm_clf test"
      ],
      "metadata": {
        "id": "Hf9Ij1B-E73O"
      }
    },
    {
      "cell_type": "code",
      "source": [
        "from sklearn.model_selection import cross_val_predict\n",
        "\n",
        "y_test_svm_pred = cross_val_predict(svm_clf, X_test_svm, y_test_svm, cv=3)"
      ],
      "metadata": {
        "id": "dVwdRcIME73P"
      },
      "execution_count": null,
      "outputs": []
    },
    {
      "cell_type": "code",
      "source": [
        "from sklearn.metrics import confusion_matrix\n",
        "cm = confusion_matrix(y_test_svm, y_test_svm_pred)\n",
        "cm"
      ],
      "metadata": {
        "colab": {
          "base_uri": "https://localhost:8080/"
        },
        "outputId": "fe9028e3-0ec5-4f0e-a283-4cf1835d28cb",
        "id": "AfwHL_BHE73P"
      },
      "execution_count": null,
      "outputs": [
        {
          "output_type": "execute_result",
          "data": {
            "text/plain": [
              "array([[280,  15],\n",
              "       [  0, 305]])"
            ]
          },
          "metadata": {},
          "execution_count": 69
        }
      ]
    },
    {
      "cell_type": "code",
      "source": [
        "from sklearn.metrics import precision_score, recall_score\n",
        "precision_score(y_test_svm, y_test_svm_pred).round(5)"
      ],
      "metadata": {
        "colab": {
          "base_uri": "https://localhost:8080/"
        },
        "outputId": "1c2675cb-252a-4fa2-be28-a7b61b54f9c1",
        "id": "XMk47kGEE73P"
      },
      "execution_count": null,
      "outputs": [
        {
          "output_type": "execute_result",
          "data": {
            "text/plain": [
              "0.95312"
            ]
          },
          "metadata": {},
          "execution_count": 70
        }
      ]
    },
    {
      "cell_type": "code",
      "source": [
        "recall_score(y_test_svm, y_test_svm_pred).round(5)"
      ],
      "metadata": {
        "colab": {
          "base_uri": "https://localhost:8080/"
        },
        "outputId": "2de831ef-e182-40fa-dd73-4275a396565f",
        "id": "av971hsWE73P"
      },
      "execution_count": null,
      "outputs": [
        {
          "output_type": "execute_result",
          "data": {
            "text/plain": [
              "1.0"
            ]
          },
          "metadata": {},
          "execution_count": 71
        }
      ]
    },
    {
      "cell_type": "code",
      "source": [
        "from sklearn.metrics import f1_score\n",
        "f1_score(y_test_svm, y_test_svm_pred).round(5)"
      ],
      "metadata": {
        "colab": {
          "base_uri": "https://localhost:8080/"
        },
        "outputId": "2c4869e9-8ae9-4f30-ba9e-94b9a32f33ce",
        "id": "yM0VJ7koE73P"
      },
      "execution_count": null,
      "outputs": [
        {
          "output_type": "execute_result",
          "data": {
            "text/plain": [
              "0.976"
            ]
          },
          "metadata": {},
          "execution_count": 72
        }
      ]
    },
    {
      "cell_type": "code",
      "source": [
        "from sklearn.metrics import ConfusionMatrixDisplay\n",
        "ConfusionMatrixDisplay.from_predictions(y_test_svm, y_test_svm_pred)\n",
        "save_fig(\"suppobox_3_+whois_svm_test_cm\")\n",
        "plt.show"
      ],
      "metadata": {
        "id": "ByDBle9NE1_r",
        "colab": {
          "base_uri": "https://localhost:8080/"
        },
        "outputId": "98107420-06d1-4612-f2b8-80ea57005895"
      },
      "execution_count": null,
      "outputs": [
        {
          "output_type": "execute_result",
          "data": {
            "text/plain": [
              "<function matplotlib.pyplot.show(*args, **kw)>"
            ]
          },
          "metadata": {},
          "execution_count": 73
        },
        {
          "output_type": "display_data",
          "data": {
            "text/plain": [
              "<Figure size 432x288 with 2 Axes>"
            ],
            "image/png": "[encoded data removed]"
          },
          "metadata": {
            "needs_background": "light"
          }
        }
      ]
    },
    {
      "cell_type": "markdown",
      "source": [
        "### ✅Decision Tree (DT) classifier"
      ],
      "metadata": {
        "id": "tERwVzByBxmR"
      }
    },
    {
      "cell_type": "code",
      "source": [
        "from sklearn.tree import DecisionTreeClassifier\n",
        "from sklearn.model_selection import GridSearchCV\n",
        "from pprint import pprint\n",
        "dt_clf = DecisionTreeClassifier()\n"
      ],
      "metadata": {
        "id": "8C0xWQD6BxmR"
      },
      "execution_count": null,
      "outputs": []
    },
    {
      "cell_type": "code",
      "source": [
        "print('Parameters currently in use:\\n')\n",
        "pprint(dt_clf.get_params())"
      ],
      "metadata": {
        "colab": {
          "base_uri": "https://localhost:8080/"
        },
        "id": "y3qeIgKLv3Vv",
        "outputId": "554c827f-94a6-4604-aadb-d6f9f8b85e3f"
      },
      "execution_count": null,
      "outputs": [
        {
          "output_type": "stream",
          "name": "stdout",
          "text": [
            "Parameters currently in use:\n",
            "\n",
            "{'ccp_alpha': 0.0,\n",
            " 'class_weight': None,\n",
            " 'criterion': 'gini',\n",
            " 'max_depth': None,\n",
            " 'max_features': None,\n",
            " 'max_leaf_nodes': None,\n",
            " 'min_impurity_decrease': 0.0,\n",
            " 'min_samples_leaf': 1,\n",
            " 'min_samples_split': 2,\n",
            " 'min_weight_fraction_leaf': 0.0,\n",
            " 'random_state': None,\n",
            " 'splitter': 'best'}\n"
          ]
        }
      ]
    },
    {
      "cell_type": "code",
      "source": [
        "param_grid = {'max_depth': [1, 2, 3, 4, 5,6,7,8,9,10,15,20,30,40,50],\n",
        "              'max_features': [1, 2, 3, 4,5,6,7,8,9,10],\n",
        "              'random_state':[0, 1, 2, 3, 4, 5, 10, 15,20,35,50,80,100,150,180,200],\n",
        "              'criterion':['gini','entropy'],\n",
        "              }"
      ],
      "metadata": {
        "id": "ZKvZpxjuwEjb"
      },
      "execution_count": null,
      "outputs": []
    },
    {
      "cell_type": "code",
      "source": [
        "#GSCV_dt_clf = GridSearchCV(dt_clf, param_grid=param_grid, cv=10)\n",
        "#GSCV_dt_clf.fit(X_train, y_train)"
      ],
      "metadata": {
        "id": "GXV0-ANhwtAE"
      },
      "execution_count": null,
      "outputs": []
    },
    {
      "cell_type": "code",
      "source": [
        "#GSCV_dt_clf.best_params_"
      ],
      "metadata": {
        "id": "bt3RZ_5Hw6D6"
      },
      "execution_count": null,
      "outputs": []
    },
    {
      "cell_type": "code",
      "source": [
        "dt_clf1 = DecisionTreeClassifier(criterion='gini', max_depth=6, max_features=4, random_state=35)"
      ],
      "metadata": {
        "id": "lQ59u8R1xSpk"
      },
      "execution_count": null,
      "outputs": []
    },
    {
      "cell_type": "code",
      "source": [
        "dt_clf1.fit(X_train, y_train)"
      ],
      "metadata": {
        "colab": {
          "base_uri": "https://localhost:8080/"
        },
        "id": "ItO1YyIpxY2V",
        "outputId": "9bba1357-a0ac-43bf-e9aa-82f24fa2499e"
      },
      "execution_count": null,
      "outputs": [
        {
          "output_type": "execute_result",
          "data": {
            "text/plain": [
              "DecisionTreeClassifier(max_depth=6, max_features=4, random_state=35)"
            ]
          },
          "metadata": {},
          "execution_count": 80
        }
      ]
    },
    {
      "cell_type": "code",
      "source": [
        "print(f\"Decision Tree scored {dt_clf1.score(X_test, y_test).round(5)} on test\")\n",
        "print(f\"Decision Tree scored {dt_clf1.score(X_train, y_train).round(5)} on train\")"
      ],
      "metadata": {
        "colab": {
          "base_uri": "https://localhost:8080/"
        },
        "outputId": "33170079-0775-4509-c4d1-1a0e9f565283",
        "id": "zGBvw3RXBxmS"
      },
      "execution_count": null,
      "outputs": [
        {
          "output_type": "stream",
          "name": "stdout",
          "text": [
            "Decision Tree scored 0.99667 on test\n",
            "Decision Tree scored 1.0 on train\n"
          ]
        }
      ]
    },
    {
      "cell_type": "markdown",
      "source": [
        "#### Confusion Matrix for dt_clf1 train"
      ],
      "metadata": {
        "id": "jq0NFEP2BxmS"
      }
    },
    {
      "cell_type": "code",
      "source": [
        "from sklearn.model_selection import cross_val_predict\n",
        "\n",
        "y_train_pred = cross_val_predict(dt_clf1, X_train, y_train, cv=3)"
      ],
      "metadata": {
        "id": "QQDteKXRBxmT"
      },
      "execution_count": null,
      "outputs": []
    },
    {
      "cell_type": "code",
      "source": [
        "from sklearn.metrics import confusion_matrix\n",
        "cm = confusion_matrix(y_train, y_train_pred)\n",
        "cm"
      ],
      "metadata": {
        "colab": {
          "base_uri": "https://localhost:8080/"
        },
        "outputId": "d61f3a2d-ac71-4d46-8247-c145cc427bda",
        "id": "INX01YOyBxmT"
      },
      "execution_count": null,
      "outputs": [
        {
          "output_type": "execute_result",
          "data": {
            "text/plain": [
              "array([[699,   4],\n",
              "       [  1, 694]])"
            ]
          },
          "metadata": {},
          "execution_count": 83
        }
      ]
    },
    {
      "cell_type": "code",
      "source": [
        "from sklearn.metrics import precision_score, recall_score\n",
        "precision_score(y_train, y_train_pred).round(5)"
      ],
      "metadata": {
        "colab": {
          "base_uri": "https://localhost:8080/"
        },
        "outputId": "f836d841-401f-4a71-abae-565696cf448b",
        "id": "Jf-4HRjnBxmT"
      },
      "execution_count": null,
      "outputs": [
        {
          "output_type": "execute_result",
          "data": {
            "text/plain": [
              "0.99427"
            ]
          },
          "metadata": {},
          "execution_count": 84
        }
      ]
    },
    {
      "cell_type": "code",
      "source": [
        "recall_score(y_train, y_train_pred).round(5)"
      ],
      "metadata": {
        "colab": {
          "base_uri": "https://localhost:8080/"
        },
        "outputId": "8a3c407a-e816-46e3-8e81-306c4d92ae36",
        "id": "m_jNW-puBxmU"
      },
      "execution_count": null,
      "outputs": [
        {
          "output_type": "execute_result",
          "data": {
            "text/plain": [
              "0.99856"
            ]
          },
          "metadata": {},
          "execution_count": 85
        }
      ]
    },
    {
      "cell_type": "code",
      "source": [
        "from sklearn.metrics import f1_score\n",
        "f1_score(y_train, y_train_pred).round(5)"
      ],
      "metadata": {
        "colab": {
          "base_uri": "https://localhost:8080/"
        },
        "outputId": "41fc1f6c-de29-431c-a66d-b8a22eeddeb5",
        "id": "b5WCRkjYBxmU"
      },
      "execution_count": null,
      "outputs": [
        {
          "output_type": "execute_result",
          "data": {
            "text/plain": [
              "0.99641"
            ]
          },
          "metadata": {},
          "execution_count": 86
        }
      ]
    },
    {
      "cell_type": "code",
      "source": [
        "from sklearn.metrics import ConfusionMatrixDisplay\n",
        "ConfusionMatrixDisplay.from_predictions(y_train, y_train_pred)\n",
        "save_fig(\"suppobox_3_+whois_dt_train_cm\")\n",
        "plt.show"
      ],
      "metadata": {
        "colab": {
          "base_uri": "https://localhost:8080/"
        },
        "id": "58D6flxjFcLl",
        "outputId": "d28b07df-5b55-4e3c-f2d1-79d446ba0983"
      },
      "execution_count": null,
      "outputs": [
        {
          "output_type": "execute_result",
          "data": {
            "text/plain": [
              "<function matplotlib.pyplot.show(*args, **kw)>"
            ]
          },
          "metadata": {},
          "execution_count": 87
        },
        {
          "output_type": "display_data",
          "data": {
            "text/plain": [
              "<Figure size 432x288 with 2 Axes>"
            ],
            "image/png": "[encoded data removed]"
          },
          "metadata": {
            "needs_background": "light"
          }
        }
      ]
    },
    {
      "cell_type": "markdown",
      "source": [
        "#### Confusion Matrix for dt_clf1 test"
      ],
      "metadata": {
        "id": "yhD6wJhiGTTf"
      }
    },
    {
      "cell_type": "code",
      "source": [
        "from sklearn.model_selection import cross_val_predict\n",
        "\n",
        "y_test_pred = cross_val_predict(dt_clf1, X_test, y_test, cv=3)"
      ],
      "metadata": {
        "id": "hkr3RulXGTTf"
      },
      "execution_count": null,
      "outputs": []
    },
    {
      "cell_type": "code",
      "source": [
        "from sklearn.metrics import confusion_matrix\n",
        "cm = confusion_matrix(y_test, y_test_pred)\n",
        "cm"
      ],
      "metadata": {
        "colab": {
          "base_uri": "https://localhost:8080/"
        },
        "outputId": "60dceea6-2323-41d4-8b04-3d642db3f58b",
        "id": "hZZlOk1pGTTg"
      },
      "execution_count": null,
      "outputs": [
        {
          "output_type": "execute_result",
          "data": {
            "text/plain": [
              "array([[293,   2],\n",
              "       [  2, 303]])"
            ]
          },
          "metadata": {},
          "execution_count": 89
        }
      ]
    },
    {
      "cell_type": "code",
      "source": [
        "from sklearn.metrics import precision_score, recall_score\n",
        "precision_score(y_test, y_test_pred).round(5)"
      ],
      "metadata": {
        "colab": {
          "base_uri": "https://localhost:8080/"
        },
        "outputId": "d79f6160-4371-406d-db25-78a2baa66bb8",
        "id": "NiSSjrplGTTg"
      },
      "execution_count": null,
      "outputs": [
        {
          "output_type": "execute_result",
          "data": {
            "text/plain": [
              "0.99344"
            ]
          },
          "metadata": {},
          "execution_count": 90
        }
      ]
    },
    {
      "cell_type": "code",
      "source": [
        "recall_score(y_test, y_test_pred).round(5)"
      ],
      "metadata": {
        "colab": {
          "base_uri": "https://localhost:8080/"
        },
        "outputId": "674246b4-f0c2-447f-f5be-0866c66492fc",
        "id": "F6q-alaqGTTg"
      },
      "execution_count": null,
      "outputs": [
        {
          "output_type": "execute_result",
          "data": {
            "text/plain": [
              "0.99344"
            ]
          },
          "metadata": {},
          "execution_count": 91
        }
      ]
    },
    {
      "cell_type": "code",
      "source": [
        "from sklearn.metrics import f1_score\n",
        "f1_score(y_test, y_test_pred).round(5)"
      ],
      "metadata": {
        "colab": {
          "base_uri": "https://localhost:8080/"
        },
        "outputId": "a673aa6a-8519-42c0-a9dc-2633c786ce01",
        "id": "cj94fifOGTTg"
      },
      "execution_count": null,
      "outputs": [
        {
          "output_type": "execute_result",
          "data": {
            "text/plain": [
              "0.99344"
            ]
          },
          "metadata": {},
          "execution_count": 92
        }
      ]
    },
    {
      "cell_type": "code",
      "source": [
        "from sklearn.metrics import ConfusionMatrixDisplay\n",
        "ConfusionMatrixDisplay.from_predictions(y_test, y_test_pred)\n",
        "save_fig(\"suppobox_3_+whois_dt_test_cm\")\n",
        "plt.show"
      ],
      "metadata": {
        "id": "wNqYEPtlGBcH",
        "colab": {
          "base_uri": "https://localhost:8080/"
        },
        "outputId": "129b8779-6cff-4343-a31d-11d9c6303bdd"
      },
      "execution_count": null,
      "outputs": [
        {
          "output_type": "execute_result",
          "data": {
            "text/plain": [
              "<function matplotlib.pyplot.show(*args, **kw)>"
            ]
          },
          "metadata": {},
          "execution_count": 93
        },
        {
          "output_type": "display_data",
          "data": {
            "text/plain": [
              "<Figure size 432x288 with 2 Axes>"
            ],
            "image/png": "[encoded data removed]"
          },
          "metadata": {
            "needs_background": "light"
          }
        }
      ]
    },
    {
      "cell_type": "markdown",
      "source": [
        "### Bagging Decision Tree (BG) classifier (ensemble)"
      ],
      "metadata": {
        "id": "A27x2z00Ndy_"
      }
    },
    {
      "cell_type": "code",
      "source": [
        "from sklearn.ensemble import BaggingClassifier\n",
        "from sklearn.tree import DecisionTreeClassifier\n",
        "# max_samples: maximum size 0.5=50% of each sample taken from the full dataset\n",
        "# max_features: maximum of features 1=100% taken here all 10K \n",
        "# n_estimators: number of decision trees \n",
        "bg_clf=BaggingClassifier(DecisionTreeClassifier(),max_samples=0.5,max_features=1.0,n_estimators=10)\n",
        "bg_clf.fit(X_train, y_train)\n"
      ],
      "metadata": {
        "colab": {
          "base_uri": "https://localhost:8080/"
        },
        "outputId": "d9852c66-f7e8-436f-8e78-6dda8dabe1a7",
        "id": "-irCB0E7NdzA"
      },
      "execution_count": null,
      "outputs": [
        {
          "output_type": "execute_result",
          "data": {
            "text/plain": [
              "BaggingClassifier(base_estimator=DecisionTreeClassifier(), max_samples=0.5)"
            ]
          },
          "metadata": {},
          "execution_count": 94
        }
      ]
    },
    {
      "cell_type": "code",
      "source": [
        "print(f\"Bagging Decision Tree scored {bg_clf.score(X_test, y_test).round(5)} on test\")\n",
        "print(f\"Bagging Decision Tree scored {bg_clf.score(X_train, y_train).round(5)} on train\")"
      ],
      "metadata": {
        "colab": {
          "base_uri": "https://localhost:8080/"
        },
        "outputId": "b1ed6c96-cff1-4dd0-a95a-a96066e1e79f",
        "id": "h8vRAPloNdzA"
      },
      "execution_count": null,
      "outputs": [
        {
          "output_type": "stream",
          "name": "stdout",
          "text": [
            "Bagging Decision Tree scored 0.99833 on test\n",
            "Bagging Decision Tree scored 1.0 on train\n"
          ]
        }
      ]
    },
    {
      "cell_type": "markdown",
      "source": [
        "#### Confusion Matrix for bg_clf train"
      ],
      "metadata": {
        "id": "fWDoVNX4NdzB"
      }
    },
    {
      "cell_type": "code",
      "source": [
        "from sklearn.model_selection import cross_val_predict\n",
        "\n",
        "y_train_pred = cross_val_predict(bg_clf, X_train, y_train, cv=3)"
      ],
      "metadata": {
        "id": "xxUDEUScNdzB"
      },
      "execution_count": null,
      "outputs": []
    },
    {
      "cell_type": "code",
      "source": [
        "from sklearn.metrics import confusion_matrix\n",
        "cm = confusion_matrix(y_train, y_train_pred)\n",
        "cm"
      ],
      "metadata": {
        "colab": {
          "base_uri": "https://localhost:8080/"
        },
        "outputId": "2b78097d-1e2e-4bfd-ff79-72ff860897ce",
        "id": "50NpffJ_NdzB"
      },
      "execution_count": null,
      "outputs": [
        {
          "output_type": "execute_result",
          "data": {
            "text/plain": [
              "array([[703,   0],\n",
              "       [  1, 694]])"
            ]
          },
          "metadata": {},
          "execution_count": 97
        }
      ]
    },
    {
      "cell_type": "code",
      "source": [
        "from sklearn.metrics import precision_score, recall_score\n",
        "precision_score(y_train, y_train_pred).round(5)"
      ],
      "metadata": {
        "colab": {
          "base_uri": "https://localhost:8080/"
        },
        "outputId": "767b1450-1c44-4e5d-9469-7b44d21f9cc7",
        "id": "_Xl_bzYzNdzC"
      },
      "execution_count": null,
      "outputs": [
        {
          "output_type": "execute_result",
          "data": {
            "text/plain": [
              "1.0"
            ]
          },
          "metadata": {},
          "execution_count": 98
        }
      ]
    },
    {
      "cell_type": "code",
      "source": [
        "recall_score(y_train, y_train_pred).round(5)"
      ],
      "metadata": {
        "colab": {
          "base_uri": "https://localhost:8080/"
        },
        "outputId": "cd1d873f-df0b-45f5-c779-d5693ad1cce1",
        "id": "i_MsVFtbNdzC"
      },
      "execution_count": null,
      "outputs": [
        {
          "output_type": "execute_result",
          "data": {
            "text/plain": [
              "0.99856"
            ]
          },
          "metadata": {},
          "execution_count": 99
        }
      ]
    },
    {
      "cell_type": "code",
      "source": [
        "from sklearn.metrics import f1_score\n",
        "f1_score(y_train, y_train_pred).round(5)"
      ],
      "metadata": {
        "colab": {
          "base_uri": "https://localhost:8080/"
        },
        "outputId": "e5aa1396-8fcc-464a-8202-d03bf54bc2ca",
        "id": "WIFr9DJmNdzD"
      },
      "execution_count": null,
      "outputs": [
        {
          "output_type": "execute_result",
          "data": {
            "text/plain": [
              "0.99928"
            ]
          },
          "metadata": {},
          "execution_count": 100
        }
      ]
    },
    {
      "cell_type": "code",
      "source": [
        "from sklearn.metrics import ConfusionMatrixDisplay\n",
        "ConfusionMatrixDisplay.from_predictions(y_train, y_train_pred)\n",
        "save_fig(\"suppobox_3_+whois_bg_train_cm\")\n",
        "plt.show"
      ],
      "metadata": {
        "colab": {
          "base_uri": "https://localhost:8080/"
        },
        "id": "EpWg5xeeG36j",
        "outputId": "3323e261-6ddb-4170-f31e-04a9120b9dcb"
      },
      "execution_count": null,
      "outputs": [
        {
          "output_type": "execute_result",
          "data": {
            "text/plain": [
              "<function matplotlib.pyplot.show(*args, **kw)>"
            ]
          },
          "metadata": {},
          "execution_count": 101
        },
        {
          "output_type": "display_data",
          "data": {
            "text/plain": [
              "<Figure size 432x288 with 2 Axes>"
            ],
            "image/png": "[encoded data removed]"
          },
          "metadata": {
            "needs_background": "light"
          }
        }
      ]
    },
    {
      "cell_type": "markdown",
      "source": [
        "#### Confusion Matrix for bg_clf test"
      ],
      "metadata": {
        "id": "KptbNLORHZQO"
      }
    },
    {
      "cell_type": "code",
      "source": [
        "from sklearn.model_selection import cross_val_predict\n",
        "\n",
        "y_test_pred = cross_val_predict(bg_clf, X_test, y_test, cv=3)"
      ],
      "metadata": {
        "id": "4HuEM7jTHZQO"
      },
      "execution_count": null,
      "outputs": []
    },
    {
      "cell_type": "code",
      "source": [
        "from sklearn.metrics import confusion_matrix\n",
        "cm = confusion_matrix(y_test, y_test_pred)\n",
        "cm"
      ],
      "metadata": {
        "colab": {
          "base_uri": "https://localhost:8080/"
        },
        "outputId": "c078ddf1-8403-444b-e3e5-109b9957212f",
        "id": "bOBtSmc9HZQO"
      },
      "execution_count": null,
      "outputs": [
        {
          "output_type": "execute_result",
          "data": {
            "text/plain": [
              "array([[294,   1],\n",
              "       [  0, 305]])"
            ]
          },
          "metadata": {},
          "execution_count": 103
        }
      ]
    },
    {
      "cell_type": "code",
      "source": [
        "from sklearn.metrics import precision_score, recall_score\n",
        "precision_score(y_test, y_test_pred).round(5)"
      ],
      "metadata": {
        "colab": {
          "base_uri": "https://localhost:8080/"
        },
        "outputId": "a4bf2583-694d-46cd-bd17-163db8d9504b",
        "id": "9dsbNcl7HZQP"
      },
      "execution_count": null,
      "outputs": [
        {
          "output_type": "execute_result",
          "data": {
            "text/plain": [
              "0.99673"
            ]
          },
          "metadata": {},
          "execution_count": 104
        }
      ]
    },
    {
      "cell_type": "code",
      "source": [
        "recall_score(y_test, y_test_pred).round(5)"
      ],
      "metadata": {
        "colab": {
          "base_uri": "https://localhost:8080/"
        },
        "outputId": "73571479-eb67-4a3d-8fd0-dcfb021e74fb",
        "id": "rF1Ha89VHZQP"
      },
      "execution_count": null,
      "outputs": [
        {
          "output_type": "execute_result",
          "data": {
            "text/plain": [
              "1.0"
            ]
          },
          "metadata": {},
          "execution_count": 105
        }
      ]
    },
    {
      "cell_type": "code",
      "source": [
        "from sklearn.metrics import f1_score\n",
        "f1_score(y_test, y_test_pred).round(5)"
      ],
      "metadata": {
        "colab": {
          "base_uri": "https://localhost:8080/"
        },
        "outputId": "af5363fc-a1e3-4864-ac90-5379515d866b",
        "id": "iLJzK_JSHZQP"
      },
      "execution_count": null,
      "outputs": [
        {
          "output_type": "execute_result",
          "data": {
            "text/plain": [
              "0.99836"
            ]
          },
          "metadata": {},
          "execution_count": 106
        }
      ]
    },
    {
      "cell_type": "code",
      "source": [
        "from sklearn.metrics import ConfusionMatrixDisplay\n",
        "ConfusionMatrixDisplay.from_predictions(y_test, y_test_pred)\n",
        "save_fig(\"suppobox_3_+whois_bg_test_cm\")\n",
        "plt.show"
      ],
      "metadata": {
        "id": "tSrjlpUpF3Fv",
        "colab": {
          "base_uri": "https://localhost:8080/"
        },
        "outputId": "7b281739-3f22-491a-d708-fb9228f4e948"
      },
      "execution_count": null,
      "outputs": [
        {
          "output_type": "execute_result",
          "data": {
            "text/plain": [
              "<function matplotlib.pyplot.show(*args, **kw)>"
            ]
          },
          "metadata": {},
          "execution_count": 107
        },
        {
          "output_type": "display_data",
          "data": {
            "text/plain": [
              "<Figure size 432x288 with 2 Axes>"
            ],
            "image/png": "[encoded data removed]"
          },
          "metadata": {
            "needs_background": "light"
          }
        }
      ]
    },
    {
      "cell_type": "markdown",
      "source": [
        "### ✅Boosting Decision Tree (ADB) classifier (ensemble)"
      ],
      "metadata": {
        "id": "-aPg2aXxOzXe"
      }
    },
    {
      "cell_type": "code",
      "source": [
        "from sklearn.ensemble import AdaBoostClassifier\n",
        "from sklearn.tree import DecisionTreeClassifier\n",
        "from sklearn.model_selection import GridSearchCV\n",
        "from pprint import pprint"
      ],
      "metadata": {
        "id": "LjqC-fyebGRZ"
      },
      "execution_count": null,
      "outputs": []
    },
    {
      "cell_type": "code",
      "source": [
        "adb_clf = AdaBoostClassifier(DecisionTreeClassifier())"
      ],
      "metadata": {
        "id": "gXyAniVubNF3"
      },
      "execution_count": null,
      "outputs": []
    },
    {
      "cell_type": "code",
      "source": [
        "print('Parameters currently in use:\\n')\n",
        "pprint(adb_clf.get_params())"
      ],
      "metadata": {
        "colab": {
          "base_uri": "https://localhost:8080/"
        },
        "id": "tPPSpowHbfqR",
        "outputId": "0953b12a-7876-4337-828e-c1c12eb4a5ad"
      },
      "execution_count": null,
      "outputs": [
        {
          "output_type": "stream",
          "name": "stdout",
          "text": [
            "Parameters currently in use:\n",
            "\n",
            "{'algorithm': 'SAMME.R',\n",
            " 'base_estimator': DecisionTreeClassifier(),\n",
            " 'base_estimator__ccp_alpha': 0.0,\n",
            " 'base_estimator__class_weight': None,\n",
            " 'base_estimator__criterion': 'gini',\n",
            " 'base_estimator__max_depth': None,\n",
            " 'base_estimator__max_features': None,\n",
            " 'base_estimator__max_leaf_nodes': None,\n",
            " 'base_estimator__min_impurity_decrease': 0.0,\n",
            " 'base_estimator__min_samples_leaf': 1,\n",
            " 'base_estimator__min_samples_split': 2,\n",
            " 'base_estimator__min_weight_fraction_leaf': 0.0,\n",
            " 'base_estimator__random_state': None,\n",
            " 'base_estimator__splitter': 'best',\n",
            " 'learning_rate': 1.0,\n",
            " 'n_estimators': 50,\n",
            " 'random_state': None}\n"
          ]
        }
      ]
    },
    {
      "cell_type": "code",
      "source": [
        "param_grid = {'base_estimator__max_depth':[i for i in range(2,11,2)],\n",
        "              'base_estimator__min_samples_leaf':[5,10],\n",
        "              'n_estimators':[10,50,250,1000],\n",
        "              'learning_rate':[0.01,0.1]\n",
        "              }"
      ],
      "metadata": {
        "id": "YOZnh1b9brs3"
      },
      "execution_count": null,
      "outputs": []
    },
    {
      "cell_type": "code",
      "source": [
        "#GSCV_adb_clf = GridSearchCV(adb_clf, param_grid=param_grid, scoring='f1', n_jobs=-1)\n",
        "#GSCV_adb_clf.fit(X_train, y_train)"
      ],
      "metadata": {
        "id": "d0uj_YcPb9ig"
      },
      "execution_count": null,
      "outputs": []
    },
    {
      "cell_type": "code",
      "source": [
        "#GSCV_adb_clf.best_params_"
      ],
      "metadata": {
        "id": "RjYt-ffbtRIx"
      },
      "execution_count": null,
      "outputs": []
    },
    {
      "cell_type": "code",
      "source": [
        "adb_clf1 = AdaBoostClassifier(DecisionTreeClassifier(min_samples_leaf=10,max_depth=2),n_estimators=1000,learning_rate=0.01)"
      ],
      "metadata": {
        "id": "9T4kVLEqtQ-0"
      },
      "execution_count": null,
      "outputs": []
    },
    {
      "cell_type": "code",
      "source": [
        "adb_clf1.fit(X_train, y_train)"
      ],
      "metadata": {
        "colab": {
          "base_uri": "https://localhost:8080/"
        },
        "id": "k9TgF7yjtQ2G",
        "outputId": "ebadbb83-4a8f-44d5-e97b-ae83172acdf1"
      },
      "execution_count": null,
      "outputs": [
        {
          "output_type": "execute_result",
          "data": {
            "text/plain": [
              "AdaBoostClassifier(base_estimator=DecisionTreeClassifier(max_depth=2,\n",
              "                                                         min_samples_leaf=10),\n",
              "                   learning_rate=0.01, n_estimators=1000)"
            ]
          },
          "metadata": {},
          "execution_count": 115
        }
      ]
    },
    {
      "cell_type": "code",
      "source": [
        "from sklearn.ensemble import AdaBoostClassifier\n",
        "from sklearn.tree import DecisionTreeClassifier\n",
        "adb_clf = AdaBoostClassifier(DecisionTreeClassifier(min_samples_split=10,max_depth=4),n_estimators=10,learning_rate=0.6)\n",
        "adb_clf.fit(X_train, y_train)\n"
      ],
      "metadata": {
        "colab": {
          "base_uri": "https://localhost:8080/"
        },
        "outputId": "a56a99cf-5546-4ad9-e66b-b716060c54e9",
        "id": "DpBoEEZ22WG4"
      },
      "execution_count": null,
      "outputs": [
        {
          "output_type": "execute_result",
          "data": {
            "text/plain": [
              "AdaBoostClassifier(base_estimator=DecisionTreeClassifier(max_depth=4,\n",
              "                                                         min_samples_split=10),\n",
              "                   learning_rate=0.6, n_estimators=10)"
            ]
          },
          "metadata": {},
          "execution_count": 116
        }
      ]
    },
    {
      "cell_type": "code",
      "source": [
        "print(f\"AdaBoost Classifier scored {adb_clf1.score(X_test, y_test).round(5)} on test\")\n",
        "print(f\"AdaBoost Classifier scored {adb_clf1.score(X_train, y_train).round(5)} on train\")"
      ],
      "metadata": {
        "colab": {
          "base_uri": "https://localhost:8080/"
        },
        "outputId": "607c9980-06c2-4379-9e56-06a08e91dbe5",
        "id": "Rhs-nwxU2WG4"
      },
      "execution_count": null,
      "outputs": [
        {
          "output_type": "stream",
          "name": "stdout",
          "text": [
            "AdaBoost Classifier scored 0.99833 on test\n",
            "AdaBoost Classifier scored 1.0 on train\n"
          ]
        }
      ]
    },
    {
      "cell_type": "markdown",
      "source": [
        "#### Confusion Matrix for adb_clf train"
      ],
      "metadata": {
        "id": "KxQI4QE-OzXf"
      }
    },
    {
      "cell_type": "code",
      "source": [
        "from sklearn.model_selection import cross_val_predict\n",
        "\n",
        "y_train_pred = cross_val_predict(adb_clf1, X_train, y_train, cv=3)"
      ],
      "metadata": {
        "id": "pwG2uuJSOzXf"
      },
      "execution_count": null,
      "outputs": []
    },
    {
      "cell_type": "code",
      "source": [
        "from sklearn.metrics import confusion_matrix\n",
        "cm = confusion_matrix(y_train, y_train_pred)\n",
        "cm"
      ],
      "metadata": {
        "colab": {
          "base_uri": "https://localhost:8080/"
        },
        "outputId": "0487aad0-1460-4c83-ddaf-b5d5fdcdb4c6",
        "id": "q4onkjRxOzXf"
      },
      "execution_count": null,
      "outputs": [
        {
          "output_type": "execute_result",
          "data": {
            "text/plain": [
              "array([[701,   2],\n",
              "       [  2, 693]])"
            ]
          },
          "metadata": {},
          "execution_count": 119
        }
      ]
    },
    {
      "cell_type": "code",
      "source": [
        "from sklearn.metrics import precision_score, recall_score\n",
        "precision_score(y_train, y_train_pred).round(5)"
      ],
      "metadata": {
        "colab": {
          "base_uri": "https://localhost:8080/"
        },
        "outputId": "75fbad4d-3e2b-4d4b-cb2c-196c18149e9c",
        "id": "ySanJJvVOzXf"
      },
      "execution_count": null,
      "outputs": [
        {
          "output_type": "execute_result",
          "data": {
            "text/plain": [
              "0.99712"
            ]
          },
          "metadata": {},
          "execution_count": 120
        }
      ]
    },
    {
      "cell_type": "code",
      "source": [
        "recall_score(y_train, y_train_pred).round(5)"
      ],
      "metadata": {
        "colab": {
          "base_uri": "https://localhost:8080/"
        },
        "outputId": "f468b909-46f1-41c5-dcc1-43a837ffbc48",
        "id": "i286TrdkOzXf"
      },
      "execution_count": null,
      "outputs": [
        {
          "output_type": "execute_result",
          "data": {
            "text/plain": [
              "0.99712"
            ]
          },
          "metadata": {},
          "execution_count": 121
        }
      ]
    },
    {
      "cell_type": "code",
      "source": [
        "from sklearn.metrics import f1_score\n",
        "f1_score(y_train, y_train_pred).round(5)"
      ],
      "metadata": {
        "colab": {
          "base_uri": "https://localhost:8080/"
        },
        "outputId": "61e461fb-c904-4c91-c7a8-0eee120a5479",
        "id": "tjq48f0sOzXg"
      },
      "execution_count": null,
      "outputs": [
        {
          "output_type": "execute_result",
          "data": {
            "text/plain": [
              "0.99712"
            ]
          },
          "metadata": {},
          "execution_count": 122
        }
      ]
    },
    {
      "cell_type": "code",
      "source": [
        "from sklearn.metrics import ConfusionMatrixDisplay\n",
        "ConfusionMatrixDisplay.from_predictions(y_train, y_train_pred)\n",
        "save_fig(\"suppobox_3_+whois_adb_train_cm\")\n",
        "plt.show"
      ],
      "metadata": {
        "colab": {
          "base_uri": "https://localhost:8080/"
        },
        "id": "RiUXAUzaI34H",
        "outputId": "5c9e5e25-e7c3-40df-ea43-213b2f5d0483"
      },
      "execution_count": null,
      "outputs": [
        {
          "output_type": "execute_result",
          "data": {
            "text/plain": [
              "<function matplotlib.pyplot.show(*args, **kw)>"
            ]
          },
          "metadata": {},
          "execution_count": 123
        },
        {
          "output_type": "display_data",
          "data": {
            "text/plain": [
              "<Figure size 432x288 with 2 Axes>"
            ],
            "image/png": "[encoded data removed]"
          },
          "metadata": {
            "needs_background": "light"
          }
        }
      ]
    },
    {
      "cell_type": "markdown",
      "source": [
        "#### Confusion Matrix for adb_clf test"
      ],
      "metadata": {
        "id": "PemSerD7JQA4"
      }
    },
    {
      "cell_type": "code",
      "source": [
        "from sklearn.model_selection import cross_val_predict\n",
        "\n",
        "y_test_pred = cross_val_predict(adb_clf1, X_test, y_test, cv=3)"
      ],
      "metadata": {
        "id": "Mw7X9hVVJQA5"
      },
      "execution_count": null,
      "outputs": []
    },
    {
      "cell_type": "code",
      "source": [
        "from sklearn.metrics import confusion_matrix\n",
        "cm = confusion_matrix(y_test, y_test_pred)\n",
        "cm"
      ],
      "metadata": {
        "colab": {
          "base_uri": "https://localhost:8080/"
        },
        "outputId": "16e09c4a-60d3-4222-e32f-dc10c73b6bda",
        "id": "PASwR4GMJQA5"
      },
      "execution_count": null,
      "outputs": [
        {
          "output_type": "execute_result",
          "data": {
            "text/plain": [
              "array([[293,   2],\n",
              "       [  0, 305]])"
            ]
          },
          "metadata": {},
          "execution_count": 125
        }
      ]
    },
    {
      "cell_type": "code",
      "source": [
        "from sklearn.metrics import precision_score, recall_score\n",
        "precision_score(y_test, y_test_pred).round(5)"
      ],
      "metadata": {
        "colab": {
          "base_uri": "https://localhost:8080/"
        },
        "outputId": "56eee4ff-5cfb-494f-8a90-ea4f358c6860",
        "id": "P50PB2A4JQA5"
      },
      "execution_count": null,
      "outputs": [
        {
          "output_type": "execute_result",
          "data": {
            "text/plain": [
              "0.99349"
            ]
          },
          "metadata": {},
          "execution_count": 126
        }
      ]
    },
    {
      "cell_type": "code",
      "source": [
        "recall_score(y_test, y_test_pred).round(5)"
      ],
      "metadata": {
        "colab": {
          "base_uri": "https://localhost:8080/"
        },
        "outputId": "83dd1dc5-d96d-4206-baf8-dcfa086c3d8e",
        "id": "DiUR17lZJQA6"
      },
      "execution_count": null,
      "outputs": [
        {
          "output_type": "execute_result",
          "data": {
            "text/plain": [
              "1.0"
            ]
          },
          "metadata": {},
          "execution_count": 127
        }
      ]
    },
    {
      "cell_type": "code",
      "source": [
        "from sklearn.metrics import f1_score\n",
        "f1_score(y_test, y_test_pred).round(5)"
      ],
      "metadata": {
        "colab": {
          "base_uri": "https://localhost:8080/"
        },
        "outputId": "b930850d-55bd-481b-ed6e-6f1eae65f774",
        "id": "h71jJYGQJQA6"
      },
      "execution_count": null,
      "outputs": [
        {
          "output_type": "execute_result",
          "data": {
            "text/plain": [
              "0.99673"
            ]
          },
          "metadata": {},
          "execution_count": 128
        }
      ]
    },
    {
      "cell_type": "code",
      "source": [
        "from sklearn.metrics import ConfusionMatrixDisplay\n",
        "ConfusionMatrixDisplay.from_predictions(y_test, y_test_pred)\n",
        "save_fig(\"suppobox_3_+whois_adb_test_cm\")\n",
        "plt.show"
      ],
      "metadata": {
        "id": "QcX_ZTxjJCig",
        "colab": {
          "base_uri": "https://localhost:8080/"
        },
        "outputId": "2fa1b5e9-6131-4b85-ffd1-d153d197592c"
      },
      "execution_count": null,
      "outputs": [
        {
          "output_type": "execute_result",
          "data": {
            "text/plain": [
              "<function matplotlib.pyplot.show(*args, **kw)>"
            ]
          },
          "metadata": {},
          "execution_count": 129
        },
        {
          "output_type": "display_data",
          "data": {
            "text/plain": [
              "<Figure size 432x288 with 2 Axes>"
            ],
            "image/png": "[encoded data removed]"
          },
          "metadata": {
            "needs_background": "light"
          }
        }
      ]
    },
    {
      "cell_type": "markdown",
      "source": [
        "### ✅Random Forest (RF) classifier (ensemble)"
      ],
      "metadata": {
        "id": "4oiTulpMOPvt"
      }
    },
    {
      "cell_type": "code",
      "source": [
        "from sklearn.ensemble import RandomForestClassifier\n",
        "from sklearn.model_selection import GridSearchCV\n",
        "from pprint import pprint"
      ],
      "metadata": {
        "id": "5aSvmeK32PF0"
      },
      "execution_count": null,
      "outputs": []
    },
    {
      "cell_type": "code",
      "source": [
        "rf_clf = RandomForestClassifier(random_state=42)"
      ],
      "metadata": {
        "id": "MaMjP3W-ZU_E"
      },
      "execution_count": null,
      "outputs": []
    },
    {
      "cell_type": "code",
      "source": [
        "print('Parameters currently in use:\\n')\n",
        "pprint(rf_clf.get_params())"
      ],
      "metadata": {
        "colab": {
          "base_uri": "https://localhost:8080/"
        },
        "id": "Px6pQ6mEZdei",
        "outputId": "56c3c61e-1ff0-4fa3-aca5-9bef23aaa7c1"
      },
      "execution_count": null,
      "outputs": [
        {
          "output_type": "stream",
          "name": "stdout",
          "text": [
            "Parameters currently in use:\n",
            "\n",
            "{'bootstrap': True,\n",
            " 'ccp_alpha': 0.0,\n",
            " 'class_weight': None,\n",
            " 'criterion': 'gini',\n",
            " 'max_depth': None,\n",
            " 'max_features': 'auto',\n",
            " 'max_leaf_nodes': None,\n",
            " 'max_samples': None,\n",
            " 'min_impurity_decrease': 0.0,\n",
            " 'min_samples_leaf': 1,\n",
            " 'min_samples_split': 2,\n",
            " 'min_weight_fraction_leaf': 0.0,\n",
            " 'n_estimators': 100,\n",
            " 'n_jobs': None,\n",
            " 'oob_score': False,\n",
            " 'random_state': 42,\n",
            " 'verbose': 0,\n",
            " 'warm_start': False}\n"
          ]
        }
      ]
    },
    {
      "cell_type": "code",
      "source": [
        "param_grid = { \n",
        "    'n_estimators': [200, 500],\n",
        "    'max_features': ['auto', 'sqrt', 'log2'],\n",
        "    'max_depth' : [4,5,6,7,8],\n",
        "    'criterion' :['gini', 'entropy']\n",
        "}"
      ],
      "metadata": {
        "id": "oBVPErS0_vQA"
      },
      "execution_count": null,
      "outputs": []
    },
    {
      "cell_type": "code",
      "source": [
        "#GSCV_rf_clf = GridSearchCV(estimator=rf_clf, param_grid=param_grid, cv=5)\n",
        "#GSCV_rf_clf.fit(X_train, y_train)\n"
      ],
      "metadata": {
        "id": "Lp_bph7b_7oF"
      },
      "execution_count": null,
      "outputs": []
    },
    {
      "cell_type": "code",
      "source": [
        "#GSCV_rf_clf.best_params_"
      ],
      "metadata": {
        "id": "uJattruzBFHT"
      },
      "execution_count": null,
      "outputs": []
    },
    {
      "cell_type": "code",
      "source": [
        "rf_clf1 = RandomForestClassifier(random_state=42, max_features='auto', n_estimators=200, \\\n",
        "                                 max_depth=4, criterion='gini')"
      ],
      "metadata": {
        "id": "f5MGLYVvBWAD"
      },
      "execution_count": null,
      "outputs": []
    },
    {
      "cell_type": "code",
      "source": [
        "rf_clf1.fit(X_train, y_train)"
      ],
      "metadata": {
        "colab": {
          "base_uri": "https://localhost:8080/"
        },
        "id": "cUEt3w2RB3PA",
        "outputId": "354e3362-18cb-43df-e084-3c3536b5465e"
      },
      "execution_count": null,
      "outputs": [
        {
          "output_type": "execute_result",
          "data": {
            "text/plain": [
              "RandomForestClassifier(max_depth=4, n_estimators=200, random_state=42)"
            ]
          },
          "metadata": {},
          "execution_count": 137
        }
      ]
    },
    {
      "cell_type": "code",
      "source": [
        "print(f\"Random Forest scored {rf_clf1.score(X_test, y_test).round(5)} on test\")\n",
        "print(f\"Random Forest scored {rf_clf1.score(X_train, y_train).round(5)} on train\")"
      ],
      "metadata": {
        "colab": {
          "base_uri": "https://localhost:8080/"
        },
        "outputId": "3956a4c4-8ff0-41e2-e510-bbeb900e23b8",
        "id": "EwFW6Ehn2PF2"
      },
      "execution_count": null,
      "outputs": [
        {
          "output_type": "stream",
          "name": "stdout",
          "text": [
            "Random Forest scored 0.99833 on test\n",
            "Random Forest scored 0.99928 on train\n"
          ]
        }
      ]
    },
    {
      "cell_type": "markdown",
      "source": [
        "#### Confusion Matrix for rf_clf1 train"
      ],
      "metadata": {
        "id": "q8XXGfdtahvn"
      }
    },
    {
      "cell_type": "code",
      "source": [
        "from sklearn.model_selection import cross_val_predict\n",
        "\n",
        "y_train_pred = cross_val_predict(rf_clf1, X_train, y_train, cv=3)"
      ],
      "metadata": {
        "id": "-spnHbs_GggK"
      },
      "execution_count": null,
      "outputs": []
    },
    {
      "cell_type": "code",
      "source": [
        "from sklearn.metrics import confusion_matrix\n",
        "cm = confusion_matrix(y_train, y_train_pred)\n",
        "cm"
      ],
      "metadata": {
        "id": "ImIsf67tG5i8",
        "colab": {
          "base_uri": "https://localhost:8080/"
        },
        "outputId": "97be45c6-9539-4191-f58a-135b962e9d46"
      },
      "execution_count": null,
      "outputs": [
        {
          "output_type": "execute_result",
          "data": {
            "text/plain": [
              "array([[699,   4],\n",
              "       [  0, 695]])"
            ]
          },
          "metadata": {},
          "execution_count": 140
        }
      ]
    },
    {
      "cell_type": "code",
      "source": [
        "from sklearn.metrics import precision_score, recall_score\n",
        "precision_score(y_train, y_train_pred).round(5)"
      ],
      "metadata": {
        "id": "2BEMdN2cHOLl",
        "colab": {
          "base_uri": "https://localhost:8080/"
        },
        "outputId": "52579703-f40f-44f5-c970-9bda080e8b90"
      },
      "execution_count": null,
      "outputs": [
        {
          "output_type": "execute_result",
          "data": {
            "text/plain": [
              "0.99428"
            ]
          },
          "metadata": {},
          "execution_count": 141
        }
      ]
    },
    {
      "cell_type": "code",
      "source": [
        "recall_score(y_train, y_train_pred).round(5)"
      ],
      "metadata": {
        "id": "VmGrN3xrHcpD",
        "colab": {
          "base_uri": "https://localhost:8080/"
        },
        "outputId": "6244c5c3-5e97-474a-ab3d-ca714be1ae7b"
      },
      "execution_count": null,
      "outputs": [
        {
          "output_type": "execute_result",
          "data": {
            "text/plain": [
              "1.0"
            ]
          },
          "metadata": {},
          "execution_count": 142
        }
      ]
    },
    {
      "cell_type": "code",
      "source": [
        "from sklearn.metrics import f1_score\n",
        "f1_score(y_train, y_train_pred).round(5)"
      ],
      "metadata": {
        "id": "EB0NZ27-HhuH",
        "colab": {
          "base_uri": "https://localhost:8080/"
        },
        "outputId": "045ca0c8-eb6f-46d8-fe78-7fe84b5bdaaf"
      },
      "execution_count": null,
      "outputs": [
        {
          "output_type": "execute_result",
          "data": {
            "text/plain": [
              "0.99713"
            ]
          },
          "metadata": {},
          "execution_count": 143
        }
      ]
    },
    {
      "cell_type": "code",
      "source": [
        "from sklearn.metrics import ConfusionMatrixDisplay\n",
        "ConfusionMatrixDisplay.from_predictions(y_train, y_train_pred)\n",
        "save_fig(\"suppobox_3_+whois_rf_train_cm\")\n",
        "plt.show"
      ],
      "metadata": {
        "colab": {
          "base_uri": "https://localhost:8080/"
        },
        "id": "HAxWKbDZJjzb",
        "outputId": "a44282e3-c854-4d88-c9bc-b50cc52e9b68"
      },
      "execution_count": null,
      "outputs": [
        {
          "output_type": "execute_result",
          "data": {
            "text/plain": [
              "<function matplotlib.pyplot.show(*args, **kw)>"
            ]
          },
          "metadata": {},
          "execution_count": 144
        },
        {
          "output_type": "display_data",
          "data": {
            "text/plain": [
              "<Figure size 432x288 with 2 Axes>"
            ],
            "image/png": "[encoded data removed]"
          },
          "metadata": {
            "needs_background": "light"
          }
        }
      ]
    },
    {
      "cell_type": "markdown",
      "source": [
        "#### Confusion Matrix for rf_clf1 test"
      ],
      "metadata": {
        "id": "yB1nXAPnJ1mm"
      }
    },
    {
      "cell_type": "code",
      "source": [
        "from sklearn.model_selection import cross_val_predict\n",
        "\n",
        "y_test_pred = cross_val_predict(rf_clf1, X_test, y_test, cv=3)"
      ],
      "metadata": {
        "id": "uDtUP9srJ1mn"
      },
      "execution_count": null,
      "outputs": []
    },
    {
      "cell_type": "code",
      "source": [
        "from sklearn.metrics import confusion_matrix\n",
        "cm = confusion_matrix(y_test, y_test_pred)\n",
        "cm"
      ],
      "metadata": {
        "colab": {
          "base_uri": "https://localhost:8080/"
        },
        "outputId": "a4851ed6-a263-47d8-8ce6-f0531ecb2916",
        "id": "Q-TQ6J_qJ1mn"
      },
      "execution_count": null,
      "outputs": [
        {
          "output_type": "execute_result",
          "data": {
            "text/plain": [
              "array([[293,   2],\n",
              "       [  0, 305]])"
            ]
          },
          "metadata": {},
          "execution_count": 146
        }
      ]
    },
    {
      "cell_type": "code",
      "source": [
        "from sklearn.metrics import precision_score, recall_score\n",
        "precision_score(y_test, y_test_pred).round(5)"
      ],
      "metadata": {
        "colab": {
          "base_uri": "https://localhost:8080/"
        },
        "outputId": "64374625-5c59-4c70-e205-b9a59a90a116",
        "id": "iz5RDf2yJ1mn"
      },
      "execution_count": null,
      "outputs": [
        {
          "output_type": "execute_result",
          "data": {
            "text/plain": [
              "0.99349"
            ]
          },
          "metadata": {},
          "execution_count": 147
        }
      ]
    },
    {
      "cell_type": "code",
      "source": [
        "recall_score(y_test, y_test_pred).round(5)"
      ],
      "metadata": {
        "colab": {
          "base_uri": "https://localhost:8080/"
        },
        "outputId": "ef011f1f-dadb-4121-816b-5c50b73395ad",
        "id": "MAE736VZJ1mn"
      },
      "execution_count": null,
      "outputs": [
        {
          "output_type": "execute_result",
          "data": {
            "text/plain": [
              "1.0"
            ]
          },
          "metadata": {},
          "execution_count": 148
        }
      ]
    },
    {
      "cell_type": "code",
      "source": [
        "from sklearn.metrics import f1_score\n",
        "f1_score(y_test, y_test_pred).round(5)"
      ],
      "metadata": {
        "colab": {
          "base_uri": "https://localhost:8080/"
        },
        "outputId": "242d2ce6-f2e3-41e2-c5e3-bc6abe0420a3",
        "id": "fIuyGsYTJ1mo"
      },
      "execution_count": null,
      "outputs": [
        {
          "output_type": "execute_result",
          "data": {
            "text/plain": [
              "0.99673"
            ]
          },
          "metadata": {},
          "execution_count": 149
        }
      ]
    },
    {
      "cell_type": "code",
      "source": [
        "from sklearn.metrics import ConfusionMatrixDisplay\n",
        "ConfusionMatrixDisplay.from_predictions(y_test, y_test_pred)\n",
        "save_fig(\"suppobox_3_+whois_rf_test_cm\")\n",
        "plt.show"
      ],
      "metadata": {
        "id": "muWfX7UCJtYQ",
        "colab": {
          "base_uri": "https://localhost:8080/"
        },
        "outputId": "032d1ba6-d092-41c9-bc71-a32cc0154378"
      },
      "execution_count": null,
      "outputs": [
        {
          "output_type": "execute_result",
          "data": {
            "text/plain": [
              "<function matplotlib.pyplot.show(*args, **kw)>"
            ]
          },
          "metadata": {},
          "execution_count": 150
        },
        {
          "output_type": "display_data",
          "data": {
            "text/plain": [
              "<Figure size 432x288 with 2 Axes>"
            ],
            "image/png": "[encoded data removed]"
          },
          "metadata": {
            "needs_background": "light"
          }
        }
      ]
    },
    {
      "cell_type": "markdown",
      "source": [
        "### 👉Receiver Operating Characteristic (ROC) curve"
      ],
      "metadata": {
        "id": "yLaqPZwVywFt"
      }
    },
    {
      "cell_type": "code",
      "source": [
        "rndm_probs = [0 for _ in range(len(y_test))]\n",
        "mnb_probs = mnb_clf.predict_proba(X_test)\n",
        "lg_probs = lg_clf.predict_proba(X_test)\n",
        "knn_probs = knn_clf.predict_proba(X_test)\n",
        "svm_probs = svm_clf1.predict_proba(X_test_svm)\n",
        "dt_probs = dt_clf1.predict_proba(X_test)\n",
        "bg_probs = bg_clf.predict_proba(X_test)\n",
        "adb_probs = adb_clf1.predict_proba(X_test)\n",
        "rf_probs = rf_clf1.predict_proba(X_test)"
      ],
      "metadata": {
        "id": "vFhOYMOIy677"
      },
      "execution_count": null,
      "outputs": []
    },
    {
      "cell_type": "code",
      "source": [
        "mnb_probs = mnb_probs[:, 1]\n",
        "lg_probs = lg_probs[:, 1]\n",
        "knn_probs = knn_probs[:, 1]\n",
        "svm_probs = svm_probs[:, 1]\n",
        "dt_probs = dt_probs[:, 1]\n",
        "bg_probs = bg_probs[:, 1]\n",
        "adb_probs = adb_probs[:, 1]\n",
        "rf_probs = rf_probs[:, 1]"
      ],
      "metadata": {
        "id": "2DfI-E5Py677"
      },
      "execution_count": null,
      "outputs": []
    },
    {
      "cell_type": "code",
      "source": [
        "from sklearn.metrics import roc_curve, roc_auc_score"
      ],
      "metadata": {
        "id": "94t6pEXly677"
      },
      "execution_count": null,
      "outputs": []
    },
    {
      "cell_type": "code",
      "source": [
        "rndm_auc = roc_auc_score(y_test, rndm_probs)\n",
        "mnb_auc = roc_auc_score(y_test, mnb_probs)\n",
        "lg_auc = roc_auc_score(y_test, lg_probs)\n",
        "knn_auc = roc_auc_score(y_test, knn_probs)\n",
        "svm_auc = roc_auc_score(y_test, svm_probs)\n",
        "dt_auc = roc_auc_score(y_test, dt_probs)\n",
        "bg_auc = roc_auc_score(y_test, bg_probs)\n",
        "adb_auc = roc_auc_score(y_test, adb_probs)\n",
        "rf_auc = roc_auc_score(y_test, rf_probs)"
      ],
      "metadata": {
        "id": "uZ6AYtrny677"
      },
      "execution_count": null,
      "outputs": []
    },
    {
      "cell_type": "code",
      "source": [
        "print('Random (chance) Prediction: AUROC = %.5f' % (rndm_auc))\n",
        "print('Naive Bayes: AUROC = %.5f' % (mnb_auc))\n",
        "print('Logistic Regression: AUROC = %.5f' % (lg_auc))\n",
        "print('K-Nearest Neighbour: AUROC = %.5f' % (knn_auc))\n",
        "print('Support Vector Machine: AUROC = %.5f' % (svm_auc))\n",
        "print('Decision Tree: AUROC = %.5f' % (knn_auc))\n",
        "print('Bagging Decision Tree: AUROC = %.5f' % (bg_auc))\n",
        "print('Boosting Decision Tree: AUROC = %.5f' % (adb_auc))\n",
        "print('Random Forest: AUROC = %.5f' % (rf_auc))"
      ],
      "metadata": {
        "colab": {
          "base_uri": "https://localhost:8080/"
        },
        "outputId": "914904b4-213f-4ef0-fa4a-04af00af3125",
        "id": "BmLp-5qhy677"
      },
      "execution_count": null,
      "outputs": [
        {
          "output_type": "stream",
          "name": "stdout",
          "text": [
            "Random (chance) Prediction: AUROC = 0.50000\n",
            "Naive Bayes: AUROC = 0.99859\n",
            "Logistic Regression: AUROC = 0.99998\n",
            "K-Nearest Neighbour: AUROC = 0.99836\n",
            "Support Vector Machine: AUROC = 0.99983\n",
            "Decision Tree: AUROC = 0.99836\n",
            "Bagging Decision Tree: AUROC = 0.99836\n",
            "Boosting Decision Tree: AUROC = 0.99999\n",
            "Random Forest: AUROC = 0.99998\n"
          ]
        }
      ]
    },
    {
      "cell_type": "code",
      "source": [
        "rndm_fpr, rndm_tpr, _ = roc_curve(y_test, rndm_probs)\n",
        "mnb_fpr, mnb_tpr, _ = roc_curve(y_test, mnb_probs)\n",
        "lg_fpr, lg_tpr, _ = roc_curve(y_test, lg_probs)\n",
        "knn_fpr, knn_tpr, _ = roc_curve(y_test, knn_probs)\n",
        "svm_fpr, svm_tpr, _ = roc_curve(y_test, svm_probs)\n",
        "dt_fpr, dt_tpr, _ = roc_curve(y_test, dt_probs)\n",
        "bg_fpr, bg_tpr, _ = roc_curve(y_test, bg_probs)\n",
        "adb_fpr, adb_tpr, _ = roc_curve(y_test, adb_probs)\n",
        "rf_fpr, rf_tpr, _ = roc_curve(y_test, rf_probs)"
      ],
      "metadata": {
        "id": "xrfeFYAJy678"
      },
      "execution_count": null,
      "outputs": []
    },
    {
      "cell_type": "code",
      "source": [
        "import matplotlib.pyplot as plt\n",
        "plt.rcParams.update({'font.size': 18})"
      ],
      "metadata": {
        "id": "vxIaAtYIy678"
      },
      "execution_count": null,
      "outputs": []
    },
    {
      "cell_type": "code",
      "source": [
        "plt.figure(figsize=(12, 8))\n",
        "plt.plot(rndm_fpr, rndm_tpr, linestyle='--')\n",
        "plt.plot(mnb_fpr, mnb_tpr, marker='.', label='NB AUC = %0.5f' % mnb_auc)\n",
        "plt.plot(lg_fpr, lg_tpr, marker='.', label='LG AUC = %0.5f' % lg_auc)\n",
        "plt.plot(knn_fpr, knn_tpr, marker='.', label='KNN AUC = %0.5f' % knn_auc)\n",
        "plt.plot(svm_fpr, svm_tpr, marker='.', label='SVM AUC = %0.5f' % svm_auc)\n",
        "plt.plot(dt_fpr, dt_tpr, marker='.', label='DT AUC = %0.5f' % knn_auc)\n",
        "plt.plot(bg_fpr, bg_tpr, marker='.', label='BG AUC = %0.5f' % bg_auc)\n",
        "plt.plot(adb_fpr, adb_tpr, marker='.', label='ADB AUC = %0.5f' % adb_auc)\n",
        "plt.plot(rf_fpr, rf_tpr, marker='.', label='RF AUC = %0.5f' % rf_auc)\n",
        "\n",
        "# Title\n",
        "#plt.title('ROC Plot', fontsize=22)\n",
        "# Axis labels\n",
        "plt.xlabel('False Positive Rate', fontsize=22)\n",
        "plt.ylabel('True Positive Rate', fontsize=22)\n",
        "# Show legend\n",
        "plt.legend(fontsize=23)\n",
        "# Save Fig\n",
        "save_fig(\"suppobox_3_+whois_gscv_roc\")\n",
        "# Show plot\n",
        "plt.show()"
      ],
      "metadata": {
        "colab": {
          "base_uri": "https://localhost:8080/"
        },
        "outputId": "6544369e-51b9-4c22-dc6d-f13ebe31ae65",
        "id": "o-BERPAey678"
      },
      "execution_count": null,
      "outputs": [
        {
          "output_type": "display_data",
          "data": {
            "text/plain": [
              "<Figure size 864x576 with 1 Axes>"
            ],
            "image/png": "[encoded data removed]"
          },
          "metadata": {
            "needs_background": "light"
          }
        }
      ]
    }
  ]
}