{
  "nbformat": 4,
  "nbformat_minor": 0,
  "metadata": {
    "colab": {
      "provenance": [],
      "collapsed_sections": [
        "2pDxhUWCcFql",
        "-NREjNRkYFhy",
        "rl-TLGokmYf6",
        "yGB-kSCkjPJA",
        "b0GyX45JCBDp",
        "TzOFE2irngOK",
        "jq0NFEP2BxmS",
        "yhD6wJhiGTTf",
        "fWDoVNX4NdzB",
        "KptbNLORHZQO",
        "KxQI4QE-OzXf",
        "q8XXGfdtahvn"
      ],
      "authorship_tag": "ABX9TyMKR5f7CVuEB9yhK3kqKwXA",
      "include_colab_link": true
    },
    "kernelspec": {
      "name": "python3",
      "display_name": "Python 3"
    },
    "language_info": {
      "name": "python"
    }
  },
  "cells": [
    {
      "cell_type": "markdown",
      "metadata": {
        "id": "view-in-github",
        "colab_type": "text"
      },
      "source": [
        "<a href=\"https://colab.research.google.com/github/jcarey-shu/dissertation/blob/main/dga_wo_whois_gscv.ipynb\" target=\"_parent\"><img src=\"https://colab.research.google.com/assets/colab-badge.svg\" alt=\"Open In Colab\"/></a>"
      ]
    },
    {
      "cell_type": "markdown",
      "source": [
        "## Load 3 👇 : DGAs (+matsnu) SHU. GridSearchCV. Train & Test."
      ],
      "metadata": {
        "id": "2pDxhUWCcFql"
      }
    },
    {
      "cell_type": "markdown",
      "source": [
        "### Load 3 = 1000 legit domains; ~1000 word-based DGAs (+matsnu), no NaN; my top 10 correlated features; no WHOIS history. GridSearchCV. Train & Test."
      ],
      "metadata": {
        "id": "-NREjNRkYFhy"
      }
    },
    {
      "cell_type": "code",
      "source": [
        "from pathlib import Path\n",
        "import pandas as pd\n",
        "import numpy as np\n",
        "from google.colab import drive\n",
        "drive.mount('/content/gdrive')\n",
        "\n",
        "def load_data1():\n",
        "  return pd.read_csv(Path(\"/content/gdrive/MyDrive/Colab/Data/loads/raw_data/dga.concat.whois-history.csv\"))\n",
        "\n",
        "df1 = load_data1()\n",
        "\n",
        "def load_data2():\n",
        "  return pd.read_csv(Path(\"/content/gdrive/MyDrive/Colab/Data/loads/raw_data/tranco.1000+whois-history.csv\"))\n",
        "\n",
        "df2 = load_data2()\n",
        "\n",
        "data_load = [df1, df2]\n",
        "df = pd.concat(data_load).reset_index(drop=True)"
      ],
      "metadata": {
        "colab": {
          "base_uri": "https://localhost:8080/"
        },
        "id": "jNIMZY0B5KiC",
        "outputId": "4560df54-3295-4816-d0a8-4d8204ba7070"
      },
      "execution_count": null,
      "outputs": [
        {
          "output_type": "stream",
          "name": "stdout",
          "text": [
            "Mounted at /content/gdrive\n"
          ]
        }
      ]
    },
    {
      "cell_type": "code",
      "source": [
        "display(df)"
      ],
      "metadata": {
        "colab": {
          "base_uri": "https://localhost:8080/"
        },
        "id": "tOM25Zzu2tdZ",
        "outputId": "4c08adf9-6e40-4cae-f428-b292c3255206"
      },
      "execution_count": null,
      "outputs": [
        {
          "output_type": "display_data",
          "data": {
            "text/plain": [
              "                 domain  nlp_1g_25p  nlp_1g_50p  nlp_1g_75p  nlp_1g_cov  \\\n",
              "0       abovelikely.net         0.0         0.0    0.071429    0.001473   \n",
              "1      actionmiddle.net         0.0         0.0    0.066667    0.001458   \n",
              "2      actionwindow.net         0.0         0.0    0.050000    0.001615   \n",
              "3     advanceforest.net         0.0         0.0    0.062500    0.001473   \n",
              "4      almostpeople.net         0.0         0.0    0.050000    0.001615   \n",
              "...                 ...         ...         ...         ...         ...   \n",
              "1781         zillow.com         0.0         0.0    0.000000    0.001735   \n",
              "1782     zippyshare.com         0.0         0.0    0.076923    0.001253   \n",
              "1783           zoho.com         0.0         0.0    0.000000    0.002039   \n",
              "1784         zol.com.cn         0.0         0.0    0.000000    0.001817   \n",
              "1785            zoom.us         0.0         0.0    0.000000    0.001919   \n",
              "\n",
              "      nlp_1g_dist  nlp_1g_dst_ca  nlp_1g_dst_ch  nlp_1g_dst_em  nlp_1g_dst_eu  \\\n",
              "0            11.0      30.998403       0.213426       8.859345       0.338570   \n",
              "1            10.0      32.954127       0.132473      10.837800       0.348791   \n",
              "2             9.0      33.447768       0.162816       7.162251       0.342285   \n",
              "3            11.0      32.236734       0.186640       9.121134       0.342227   \n",
              "4             9.0      31.870029       0.199140       7.771134       0.344246   \n",
              "...           ...            ...            ...            ...            ...   \n",
              "1781          7.0      34.243527       0.208646       6.477723       0.387101   \n",
              "1782         12.0      33.245335       0.135381       7.077009       0.339747   \n",
              "1783          5.0      35.120871       0.304246       7.732746       0.461642   \n",
              "1784          6.0      34.230153       0.248091       8.643460       0.409966   \n",
              "1785          5.0      34.843090       0.209007       2.331210       0.429341   \n",
              "\n",
              "      ...  nlp_r_num_odn  nlp_r_sym_2dn  nlp_r_sym_fqdn  nlp_r_sym_odn  \\\n",
              "0     ...            0.0            0.0        0.066667            0.0   \n",
              "1     ...            0.0            0.0        0.062500            0.0   \n",
              "2     ...            0.0            0.0        0.062500            0.0   \n",
              "3     ...            0.0            0.0        0.058824            0.0   \n",
              "4     ...            0.0            0.0        0.062500            0.0   \n",
              "...   ...            ...            ...             ...            ...   \n",
              "1781  ...            0.0            0.0        0.100000            0.0   \n",
              "1782  ...            0.0            0.0        0.071429            0.0   \n",
              "1783  ...            0.0            0.0        0.125000            0.0   \n",
              "1784  ...            0.0            0.0        0.200000            0.0   \n",
              "1785  ...            0.0            0.0        0.142857            0.0   \n",
              "\n",
              "      nlp_r_vow_2dn  nlp_r_vow_fqdn  nlp_r_vow_odn  whois_rec  whois_change  \\\n",
              "0          0.454545        0.400000       0.000000          7             0   \n",
              "1          0.416667        0.375000       0.000000          7             1   \n",
              "2          0.416667        0.375000       0.000000          6             1   \n",
              "3          0.384615        0.352941       0.000000          7             1   \n",
              "4          0.416667        0.375000       0.000000         32             0   \n",
              "...             ...             ...            ...        ...           ...   \n",
              "1781       0.333333        0.300000       0.000000         22             0   \n",
              "1782       0.300000        0.285714       0.000000         19             0   \n",
              "1783       0.500000        0.375000       0.000000         35             0   \n",
              "1784       0.333333        0.200000       0.333333         13             1   \n",
              "1785       0.500000        0.428571       0.000000         53             1   \n",
              "\n",
              "      class  \n",
              "0         1  \n",
              "1         1  \n",
              "2         1  \n",
              "3         1  \n",
              "4         1  \n",
              "...     ...  \n",
              "1781      0  \n",
              "1782      0  \n",
              "1783      0  \n",
              "1784      0  \n",
              "1785      0  \n",
              "\n",
              "[1786 rows x 134 columns]"
            ],
            "text/html": [
              "\n",
              "  <div id=\"df-77087c17-2f9a-4f23-9b09-17375c8c653e\">\n",
              "    <div class=\"colab-df-container\">\n",
              "      <div>\n",
              "<style scoped>\n",
              "    .dataframe tbody tr th:only-of-type {\n",
              "        vertical-align: middle;\n",
              "    }\n",
              "\n",
              "    .dataframe tbody tr th {\n",
              "        vertical-align: top;\n",
              "    }\n",
              "\n",
              "    .dataframe thead th {\n",
              "        text-align: right;\n",
              "    }\n",
              "</style>\n",
              "<table border=\"1\" class=\"dataframe\">\n",
              "  <thead>\n",
              "    <tr style=\"text-align: right;\">\n",
              "      <th></th>\n",
              "      <th>domain</th>\n",
              "      <th>nlp_1g_25p</th>\n",
              "      <th>nlp_1g_50p</th>\n",
              "      <th>nlp_1g_75p</th>\n",
              "      <th>nlp_1g_cov</th>\n",
              "      <th>nlp_1g_dist</th>\n",
              "      <th>nlp_1g_dst_ca</th>\n",
              "      <th>nlp_1g_dst_ch</th>\n",
              "      <th>nlp_1g_dst_em</th>\n",
              "      <th>nlp_1g_dst_eu</th>\n",
              "      <th>...</th>\n",
              "      <th>nlp_r_num_odn</th>\n",
              "      <th>nlp_r_sym_2dn</th>\n",
              "      <th>nlp_r_sym_fqdn</th>\n",
              "      <th>nlp_r_sym_odn</th>\n",
              "      <th>nlp_r_vow_2dn</th>\n",
              "      <th>nlp_r_vow_fqdn</th>\n",
              "      <th>nlp_r_vow_odn</th>\n",
              "      <th>whois_rec</th>\n",
              "      <th>whois_change</th>\n",
              "      <th>class</th>\n",
              "    </tr>\n",
              "  </thead>\n",
              "  <tbody>\n",
              "    <tr>\n",
              "      <th>0</th>\n",
              "      <td>abovelikely.net</td>\n",
              "      <td>0.0</td>\n",
              "      <td>0.0</td>\n",
              "      <td>0.071429</td>\n",
              "      <td>0.001473</td>\n",
              "      <td>11.0</td>\n",
              "      <td>30.998403</td>\n",
              "      <td>0.213426</td>\n",
              "      <td>8.859345</td>\n",
              "      <td>0.338570</td>\n",
              "      <td>...</td>\n",
              "      <td>0.0</td>\n",
              "      <td>0.0</td>\n",
              "      <td>0.066667</td>\n",
              "      <td>0.0</td>\n",
              "      <td>0.454545</td>\n",
              "      <td>0.400000</td>\n",
              "      <td>0.000000</td>\n",
              "      <td>7</td>\n",
              "      <td>0</td>\n",
              "      <td>1</td>\n",
              "    </tr>\n",
              "    <tr>\n",
              "      <th>1</th>\n",
              "      <td>actionmiddle.net</td>\n",
              "      <td>0.0</td>\n",
              "      <td>0.0</td>\n",
              "      <td>0.066667</td>\n",
              "      <td>0.001458</td>\n",
              "      <td>10.0</td>\n",
              "      <td>32.954127</td>\n",
              "      <td>0.132473</td>\n",
              "      <td>10.837800</td>\n",
              "      <td>0.348791</td>\n",
              "      <td>...</td>\n",
              "      <td>0.0</td>\n",
              "      <td>0.0</td>\n",
              "      <td>0.062500</td>\n",
              "      <td>0.0</td>\n",
              "      <td>0.416667</td>\n",
              "      <td>0.375000</td>\n",
              "      <td>0.000000</td>\n",
              "      <td>7</td>\n",
              "      <td>1</td>\n",
              "      <td>1</td>\n",
              "    </tr>\n",
              "    <tr>\n",
              "      <th>2</th>\n",
              "      <td>actionwindow.net</td>\n",
              "      <td>0.0</td>\n",
              "      <td>0.0</td>\n",
              "      <td>0.050000</td>\n",
              "      <td>0.001615</td>\n",
              "      <td>9.0</td>\n",
              "      <td>33.447768</td>\n",
              "      <td>0.162816</td>\n",
              "      <td>7.162251</td>\n",
              "      <td>0.342285</td>\n",
              "      <td>...</td>\n",
              "      <td>0.0</td>\n",
              "      <td>0.0</td>\n",
              "      <td>0.062500</td>\n",
              "      <td>0.0</td>\n",
              "      <td>0.416667</td>\n",
              "      <td>0.375000</td>\n",
              "      <td>0.000000</td>\n",
              "      <td>6</td>\n",
              "      <td>1</td>\n",
              "      <td>1</td>\n",
              "    </tr>\n",
              "    <tr>\n",
              "      <th>3</th>\n",
              "      <td>advanceforest.net</td>\n",
              "      <td>0.0</td>\n",
              "      <td>0.0</td>\n",
              "      <td>0.062500</td>\n",
              "      <td>0.001473</td>\n",
              "      <td>11.0</td>\n",
              "      <td>32.236734</td>\n",
              "      <td>0.186640</td>\n",
              "      <td>9.121134</td>\n",
              "      <td>0.342227</td>\n",
              "      <td>...</td>\n",
              "      <td>0.0</td>\n",
              "      <td>0.0</td>\n",
              "      <td>0.058824</td>\n",
              "      <td>0.0</td>\n",
              "      <td>0.384615</td>\n",
              "      <td>0.352941</td>\n",
              "      <td>0.000000</td>\n",
              "      <td>7</td>\n",
              "      <td>1</td>\n",
              "      <td>1</td>\n",
              "    </tr>\n",
              "    <tr>\n",
              "      <th>4</th>\n",
              "      <td>almostpeople.net</td>\n",
              "      <td>0.0</td>\n",
              "      <td>0.0</td>\n",
              "      <td>0.050000</td>\n",
              "      <td>0.001615</td>\n",
              "      <td>9.0</td>\n",
              "      <td>31.870029</td>\n",
              "      <td>0.199140</td>\n",
              "      <td>7.771134</td>\n",
              "      <td>0.344246</td>\n",
              "      <td>...</td>\n",
              "      <td>0.0</td>\n",
              "      <td>0.0</td>\n",
              "      <td>0.062500</td>\n",
              "      <td>0.0</td>\n",
              "      <td>0.416667</td>\n",
              "      <td>0.375000</td>\n",
              "      <td>0.000000</td>\n",
              "      <td>32</td>\n",
              "      <td>0</td>\n",
              "      <td>1</td>\n",
              "    </tr>\n",
              "    <tr>\n",
              "      <th>...</th>\n",
              "      <td>...</td>\n",
              "      <td>...</td>\n",
              "      <td>...</td>\n",
              "      <td>...</td>\n",
              "      <td>...</td>\n",
              "      <td>...</td>\n",
              "      <td>...</td>\n",
              "      <td>...</td>\n",
              "      <td>...</td>\n",
              "      <td>...</td>\n",
              "      <td>...</td>\n",
              "      <td>...</td>\n",
              "      <td>...</td>\n",
              "      <td>...</td>\n",
              "      <td>...</td>\n",
              "      <td>...</td>\n",
              "      <td>...</td>\n",
              "      <td>...</td>\n",
              "      <td>...</td>\n",
              "      <td>...</td>\n",
              "      <td>...</td>\n",
              "    </tr>\n",
              "    <tr>\n",
              "      <th>1781</th>\n",
              "      <td>zillow.com</td>\n",
              "      <td>0.0</td>\n",
              "      <td>0.0</td>\n",
              "      <td>0.000000</td>\n",
              "      <td>0.001735</td>\n",
              "      <td>7.0</td>\n",
              "      <td>34.243527</td>\n",
              "      <td>0.208646</td>\n",
              "      <td>6.477723</td>\n",
              "      <td>0.387101</td>\n",
              "      <td>...</td>\n",
              "      <td>0.0</td>\n",
              "      <td>0.0</td>\n",
              "      <td>0.100000</td>\n",
              "      <td>0.0</td>\n",
              "      <td>0.333333</td>\n",
              "      <td>0.300000</td>\n",
              "      <td>0.000000</td>\n",
              "      <td>22</td>\n",
              "      <td>0</td>\n",
              "      <td>0</td>\n",
              "    </tr>\n",
              "    <tr>\n",
              "      <th>1782</th>\n",
              "      <td>zippyshare.com</td>\n",
              "      <td>0.0</td>\n",
              "      <td>0.0</td>\n",
              "      <td>0.076923</td>\n",
              "      <td>0.001253</td>\n",
              "      <td>12.0</td>\n",
              "      <td>33.245335</td>\n",
              "      <td>0.135381</td>\n",
              "      <td>7.077009</td>\n",
              "      <td>0.339747</td>\n",
              "      <td>...</td>\n",
              "      <td>0.0</td>\n",
              "      <td>0.0</td>\n",
              "      <td>0.071429</td>\n",
              "      <td>0.0</td>\n",
              "      <td>0.300000</td>\n",
              "      <td>0.285714</td>\n",
              "      <td>0.000000</td>\n",
              "      <td>19</td>\n",
              "      <td>0</td>\n",
              "      <td>0</td>\n",
              "    </tr>\n",
              "    <tr>\n",
              "      <th>1783</th>\n",
              "      <td>zoho.com</td>\n",
              "      <td>0.0</td>\n",
              "      <td>0.0</td>\n",
              "      <td>0.000000</td>\n",
              "      <td>0.002039</td>\n",
              "      <td>5.0</td>\n",
              "      <td>35.120871</td>\n",
              "      <td>0.304246</td>\n",
              "      <td>7.732746</td>\n",
              "      <td>0.461642</td>\n",
              "      <td>...</td>\n",
              "      <td>0.0</td>\n",
              "      <td>0.0</td>\n",
              "      <td>0.125000</td>\n",
              "      <td>0.0</td>\n",
              "      <td>0.500000</td>\n",
              "      <td>0.375000</td>\n",
              "      <td>0.000000</td>\n",
              "      <td>35</td>\n",
              "      <td>0</td>\n",
              "      <td>0</td>\n",
              "    </tr>\n",
              "    <tr>\n",
              "      <th>1784</th>\n",
              "      <td>zol.com.cn</td>\n",
              "      <td>0.0</td>\n",
              "      <td>0.0</td>\n",
              "      <td>0.000000</td>\n",
              "      <td>0.001817</td>\n",
              "      <td>6.0</td>\n",
              "      <td>34.230153</td>\n",
              "      <td>0.248091</td>\n",
              "      <td>8.643460</td>\n",
              "      <td>0.409966</td>\n",
              "      <td>...</td>\n",
              "      <td>0.0</td>\n",
              "      <td>0.0</td>\n",
              "      <td>0.200000</td>\n",
              "      <td>0.0</td>\n",
              "      <td>0.333333</td>\n",
              "      <td>0.200000</td>\n",
              "      <td>0.333333</td>\n",
              "      <td>13</td>\n",
              "      <td>1</td>\n",
              "      <td>0</td>\n",
              "    </tr>\n",
              "    <tr>\n",
              "      <th>1785</th>\n",
              "      <td>zoom.us</td>\n",
              "      <td>0.0</td>\n",
              "      <td>0.0</td>\n",
              "      <td>0.000000</td>\n",
              "      <td>0.001919</td>\n",
              "      <td>5.0</td>\n",
              "      <td>34.843090</td>\n",
              "      <td>0.209007</td>\n",
              "      <td>2.331210</td>\n",
              "      <td>0.429341</td>\n",
              "      <td>...</td>\n",
              "      <td>0.0</td>\n",
              "      <td>0.0</td>\n",
              "      <td>0.142857</td>\n",
              "      <td>0.0</td>\n",
              "      <td>0.500000</td>\n",
              "      <td>0.428571</td>\n",
              "      <td>0.000000</td>\n",
              "      <td>53</td>\n",
              "      <td>1</td>\n",
              "      <td>0</td>\n",
              "    </tr>\n",
              "  </tbody>\n",
              "</table>\n",
              "<p>1786 rows × 134 columns</p>\n",
              "</div>\n",
              "      <button class=\"colab-df-convert\" onclick=\"convertToInteractive('df-77087c17-2f9a-4f23-9b09-17375c8c653e')\"\n",
              "              title=\"Convert this dataframe to an interactive table.\"\n",
              "              style=\"display:none;\">\n",
              "        \n",
              "  <svg xmlns=\"http://www.w3.org/2000/svg\" height=\"24px\"viewBox=\"0 0 24 24\"\n",
              "       width=\"24px\">\n",
              "    <path d=\"M0 0h24v24H0V0z\" fill=\"none\"/>\n",
              "    <path d=\"M18.56 5.44l.94 2.06.94-2.06 2.06-.94-2.06-.94-.94-2.06-.94 2.06-2.06.94zm-11 1L8.5 8.5l.94-2.06 2.06-.94-2.06-.94L8.5 2.5l-.94 2.06-2.06.94zm10 10l.94 2.06.94-2.06 2.06-.94-2.06-.94-.94-2.06-.94 2.06-2.06.94z\"/><path d=\"M17.41 7.96l-1.37-1.37c-.4-.4-.92-.59-1.43-.59-.52 0-1.04.2-1.43.59L10.3 9.45l-7.72 7.72c-.78.78-.78 2.05 0 2.83L4 21.41c.39.39.9.59 1.41.59.51 0 1.02-.2 1.41-.59l7.78-7.78 2.81-2.81c.8-.78.8-2.07 0-2.86zM5.41 20L4 18.59l7.72-7.72 1.47 1.35L5.41 20z\"/>\n",
              "  </svg>\n",
              "      </button>\n",
              "      \n",
              "  <style>\n",
              "    .colab-df-container {\n",
              "      display:flex;\n",
              "      flex-wrap:wrap;\n",
              "      gap: 12px;\n",
              "    }\n",
              "\n",
              "    .colab-df-convert {\n",
              "      background-color: #E8F0FE;\n",
              "      border: none;\n",
              "      border-radius: 50%;\n",
              "      cursor: pointer;\n",
              "      display: none;\n",
              "      fill: #1967D2;\n",
              "      height: 32px;\n",
              "      padding: 0 0 0 0;\n",
              "      width: 32px;\n",
              "    }\n",
              "\n",
              "    .colab-df-convert:hover {\n",
              "      background-color: #E2EBFA;\n",
              "      box-shadow: 0px 1px 2px rgba(60, 64, 67, 0.3), 0px 1px 3px 1px rgba(60, 64, 67, 0.15);\n",
              "      fill: #174EA6;\n",
              "    }\n",
              "\n",
              "    [theme=dark] .colab-df-convert {\n",
              "      background-color: #3B4455;\n",
              "      fill: #D2E3FC;\n",
              "    }\n",
              "\n",
              "    [theme=dark] .colab-df-convert:hover {\n",
              "      background-color: #434B5C;\n",
              "      box-shadow: 0px 1px 3px 1px rgba(0, 0, 0, 0.15);\n",
              "      filter: drop-shadow(0px 1px 2px rgba(0, 0, 0, 0.3));\n",
              "      fill: #FFFFFF;\n",
              "    }\n",
              "  </style>\n",
              "\n",
              "      <script>\n",
              "        const buttonEl =\n",
              "          document.querySelector('#df-77087c17-2f9a-4f23-9b09-17375c8c653e button.colab-df-convert');\n",
              "        buttonEl.style.display =\n",
              "          google.colab.kernel.accessAllowed ? 'block' : 'none';\n",
              "\n",
              "        async function convertToInteractive(key) {\n",
              "          const element = document.querySelector('#df-77087c17-2f9a-4f23-9b09-17375c8c653e');\n",
              "          const dataTable =\n",
              "            await google.colab.kernel.invokeFunction('convertToInteractive',\n",
              "                                                     [key], {});\n",
              "          if (!dataTable) return;\n",
              "\n",
              "          const docLinkHtml = 'Like what you see? Visit the ' +\n",
              "            '<a target=\"_blank\" href=https://colab.research.google.com/notebooks/data_table.ipynb>data table notebook</a>'\n",
              "            + ' to learn more about interactive tables.';\n",
              "          element.innerHTML = '';\n",
              "          dataTable['output_type'] = 'display_data';\n",
              "          await google.colab.output.renderOutput(dataTable, element);\n",
              "          const docLink = document.createElement('div');\n",
              "          docLink.innerHTML = docLinkHtml;\n",
              "          element.appendChild(docLink);\n",
              "        }\n",
              "      </script>\n",
              "    </div>\n",
              "  </div>\n",
              "  "
            ]
          },
          "metadata": {}
        }
      ]
    },
    {
      "cell_type": "code",
      "source": [
        "#df.drop(\"domain\", axis=1, inplace=True)\n",
        "# JC SHU Feature Selection\n",
        "df.drop(df.columns.difference(['nlp_l_2dn','nlp_3g_dist','nlp_l_fqdn','nlp_1g_e','nlp_2g_dist', \\\n",
        "                               'nlp_2g_ken','nlp_2g_spe','nlp_3g_ken','nlp_3g_spe','nlp_3g_sumsq','class']), axis=1, inplace=True)\n",
        "# UMU Feature Selection\n",
        "#df.drop(df.columns.difference(['nlp_l_2dn','nlp_r_con_2dn','nlp_r_let_fqdn','nlp_1g_norm', \\\n",
        "#                               'nlp_1g_tpstd','nlp_2g_dst_em','nlp_2g_tpstd','nlp_3g_dst_em', \\\n",
        "#                               'nlp_3g_dst_eu','nlp_3g_norm','class']), axis=1, inplace=True)"
      ],
      "metadata": {
        "id": "kf8leRiB5Wl3"
      },
      "execution_count": null,
      "outputs": []
    },
    {
      "cell_type": "code",
      "source": [
        "df.drop(df.columns.difference(['nlp_l_2dn','nlp_3g_dist','nlp_l_fqdn','nlp_1g_e','nlp_2g_dist', \\\n",
        "                               'nlp_2g_ken','nlp_2g_spe','nlp_3g_ken','nlp_3g_spe','nlp_3g_sumsq','class']), axis=1, inplace=True)"
      ],
      "metadata": {
        "id": "JKx3lESkAuW7"
      },
      "execution_count": null,
      "outputs": []
    },
    {
      "cell_type": "code",
      "source": [
        "df.isnull().sum().sort_values(ascending=False)"
      ],
      "metadata": {
        "colab": {
          "base_uri": "https://localhost:8080/"
        },
        "id": "O1UUK_Y_7Tp5",
        "outputId": "d0d94479-e3d6-4ad0-c529-2f03de1bec1f"
      },
      "execution_count": null,
      "outputs": [
        {
          "output_type": "execute_result",
          "data": {
            "text/plain": [
              "nlp_1g_e        0\n",
              "nlp_2g_dist     0\n",
              "nlp_2g_ken      0\n",
              "nlp_2g_spe      0\n",
              "nlp_3g_dist     0\n",
              "nlp_3g_ken      0\n",
              "nlp_3g_spe      0\n",
              "nlp_3g_sumsq    0\n",
              "nlp_l_2dn       0\n",
              "nlp_l_fqdn      0\n",
              "class           0\n",
              "dtype: int64"
            ]
          },
          "metadata": {},
          "execution_count": 4
        }
      ]
    },
    {
      "cell_type": "code",
      "source": [
        "df.dropna(how=\"any\", inplace=True)"
      ],
      "metadata": {
        "id": "tesu6-pi7my5"
      },
      "execution_count": null,
      "outputs": []
    },
    {
      "cell_type": "code",
      "source": [
        "df.info()"
      ],
      "metadata": {
        "colab": {
          "base_uri": "https://localhost:8080/"
        },
        "id": "m9SRL4sGCC2Y",
        "outputId": "2491a1da-1708-4dfd-ba3f-2249835c6a9f"
      },
      "execution_count": null,
      "outputs": [
        {
          "output_type": "stream",
          "name": "stdout",
          "text": [
            "<class 'pandas.core.frame.DataFrame'>\n",
            "Int64Index: 1786 entries, 0 to 1785\n",
            "Data columns (total 11 columns):\n",
            " #   Column        Non-Null Count  Dtype  \n",
            "---  ------        --------------  -----  \n",
            " 0   nlp_1g_e      1786 non-null   float64\n",
            " 1   nlp_2g_dist   1786 non-null   float64\n",
            " 2   nlp_2g_ken    1786 non-null   float64\n",
            " 3   nlp_2g_spe    1786 non-null   float64\n",
            " 4   nlp_3g_dist   1786 non-null   float64\n",
            " 5   nlp_3g_ken    1786 non-null   float64\n",
            " 6   nlp_3g_spe    1786 non-null   float64\n",
            " 7   nlp_3g_sumsq  1786 non-null   float64\n",
            " 8   nlp_l_2dn     1786 non-null   float64\n",
            " 9   nlp_l_fqdn    1786 non-null   float64\n",
            " 10  class         1786 non-null   int64  \n",
            "dtypes: float64(10), int64(1)\n",
            "memory usage: 167.4 KB\n"
          ]
        }
      ]
    },
    {
      "cell_type": "code",
      "source": [
        "X, y = df.iloc[:, :-1], df.iloc[:, -1] # the last column is the target"
      ],
      "metadata": {
        "id": "uLXuHXJsJ6Ax"
      },
      "execution_count": null,
      "outputs": []
    },
    {
      "cell_type": "code",
      "source": [
        "from sklearn.model_selection import train_test_split\n",
        "# from sklearn.preprocessing import StandardScaler\n",
        "# X = StandardScaler().fit_transform(X)\n",
        "\n",
        "# Generate train/test sets\n",
        "X_train, X_test, y_train, y_test = train_test_split(\n",
        "    X, y, test_size=0.3, random_state=42\n",
        ")\n",
        "\n"
      ],
      "metadata": {
        "id": "NLU-tEqR7pYn"
      },
      "execution_count": null,
      "outputs": []
    },
    {
      "cell_type": "code",
      "source": [
        "IMAGES_PATH = Path() / \"gdrive\" / \"MyDrive\" / \"Colab\" / \"Data\" / \"images\" / \"dga\"\n",
        "IMAGES_PATH.mkdir(parents=True, exist_ok=True)\n",
        "\n",
        "def save_fig(fig_id, tight_layout=True, fig_extension=\"png\", resolution=600):\n",
        "    path = IMAGES_PATH / f\"{fig_id}.{fig_extension}\"\n",
        "    if tight_layout:\n",
        "        plt.tight_layout()\n",
        "    plt.savefig(path, format=fig_extension, dpi=resolution)"
      ],
      "metadata": {
        "id": "4Ax1nK3NlSXD"
      },
      "execution_count": null,
      "outputs": []
    },
    {
      "cell_type": "code",
      "source": [
        "df.describe()"
      ],
      "metadata": {
        "id": "BB5bEM007CpY",
        "colab": {
          "base_uri": "https://localhost:8080/"
        },
        "outputId": "b20c3992-cffb-4093-a53e-49762cefb515"
      },
      "execution_count": null,
      "outputs": [
        {
          "output_type": "execute_result",
          "data": {
            "text/plain": [
              "          nlp_1g_e  nlp_2g_dist   nlp_2g_ken   nlp_2g_spe  nlp_3g_dist  \\\n",
              "count  1786.000000  1786.000000  1786.000000  1786.000000  1786.000000   \n",
              "mean      3.145296    11.666853     0.145779     0.167450    11.044793   \n",
              "std       1.357105     4.317042     0.028297     0.032488     4.621980   \n",
              "min       0.482578     2.000000     0.061742     0.070932     1.000000   \n",
              "25%       1.981459     8.000000     0.123198     0.141534     7.000000   \n",
              "50%       3.151796    12.000000     0.150651     0.173074    11.000000   \n",
              "75%       4.114929    15.000000     0.168236     0.193276    14.000000   \n",
              "max       6.458008    23.000000     0.207672     0.238581    22.000000   \n",
              "\n",
              "        nlp_3g_ken   nlp_3g_spe  nlp_3g_sumsq    nlp_l_2dn   nlp_l_fqdn  \\\n",
              "count  1786.000000  1786.000000   1786.000000  1786.000000  1786.000000   \n",
              "mean      0.042166     0.043558     11.184211    10.002800    14.165733   \n",
              "std       0.009446     0.009758      4.767325     4.789869     4.650529   \n",
              "min       0.013004     0.013433      1.000000     1.000000     4.000000   \n",
              "25%       0.034403     0.035538      7.000000     6.000000    10.000000   \n",
              "50%       0.043124     0.044547     12.000000    10.000000    15.000000   \n",
              "75%       0.048649     0.050254     14.000000    13.000000    17.000000   \n",
              "max       0.060979     0.062992     26.000000    21.000000    25.000000   \n",
              "\n",
              "             class  \n",
              "count  1786.000000  \n",
              "mean      0.441209  \n",
              "std       0.496671  \n",
              "min       0.000000  \n",
              "25%       0.000000  \n",
              "50%       0.000000  \n",
              "75%       1.000000  \n",
              "max       1.000000  "
            ],
            "text/html": [
              "\n",
              "  <div id=\"df-4f7a2587-d762-4203-9f84-a4d5c79bdc49\">\n",
              "    <div class=\"colab-df-container\">\n",
              "      <div>\n",
              "<style scoped>\n",
              "    .dataframe tbody tr th:only-of-type {\n",
              "        vertical-align: middle;\n",
              "    }\n",
              "\n",
              "    .dataframe tbody tr th {\n",
              "        vertical-align: top;\n",
              "    }\n",
              "\n",
              "    .dataframe thead th {\n",
              "        text-align: right;\n",
              "    }\n",
              "</style>\n",
              "<table border=\"1\" class=\"dataframe\">\n",
              "  <thead>\n",
              "    <tr style=\"text-align: right;\">\n",
              "      <th></th>\n",
              "      <th>nlp_1g_e</th>\n",
              "      <th>nlp_2g_dist</th>\n",
              "      <th>nlp_2g_ken</th>\n",
              "      <th>nlp_2g_spe</th>\n",
              "      <th>nlp_3g_dist</th>\n",
              "      <th>nlp_3g_ken</th>\n",
              "      <th>nlp_3g_spe</th>\n",
              "      <th>nlp_3g_sumsq</th>\n",
              "      <th>nlp_l_2dn</th>\n",
              "      <th>nlp_l_fqdn</th>\n",
              "      <th>class</th>\n",
              "    </tr>\n",
              "  </thead>\n",
              "  <tbody>\n",
              "    <tr>\n",
              "      <th>count</th>\n",
              "      <td>1786.000000</td>\n",
              "      <td>1786.000000</td>\n",
              "      <td>1786.000000</td>\n",
              "      <td>1786.000000</td>\n",
              "      <td>1786.000000</td>\n",
              "      <td>1786.000000</td>\n",
              "      <td>1786.000000</td>\n",
              "      <td>1786.000000</td>\n",
              "      <td>1786.000000</td>\n",
              "      <td>1786.000000</td>\n",
              "      <td>1786.000000</td>\n",
              "    </tr>\n",
              "    <tr>\n",
              "      <th>mean</th>\n",
              "      <td>3.145296</td>\n",
              "      <td>11.666853</td>\n",
              "      <td>0.145779</td>\n",
              "      <td>0.167450</td>\n",
              "      <td>11.044793</td>\n",
              "      <td>0.042166</td>\n",
              "      <td>0.043558</td>\n",
              "      <td>11.184211</td>\n",
              "      <td>10.002800</td>\n",
              "      <td>14.165733</td>\n",
              "      <td>0.441209</td>\n",
              "    </tr>\n",
              "    <tr>\n",
              "      <th>std</th>\n",
              "      <td>1.357105</td>\n",
              "      <td>4.317042</td>\n",
              "      <td>0.028297</td>\n",
              "      <td>0.032488</td>\n",
              "      <td>4.621980</td>\n",
              "      <td>0.009446</td>\n",
              "      <td>0.009758</td>\n",
              "      <td>4.767325</td>\n",
              "      <td>4.789869</td>\n",
              "      <td>4.650529</td>\n",
              "      <td>0.496671</td>\n",
              "    </tr>\n",
              "    <tr>\n",
              "      <th>min</th>\n",
              "      <td>0.482578</td>\n",
              "      <td>2.000000</td>\n",
              "      <td>0.061742</td>\n",
              "      <td>0.070932</td>\n",
              "      <td>1.000000</td>\n",
              "      <td>0.013004</td>\n",
              "      <td>0.013433</td>\n",
              "      <td>1.000000</td>\n",
              "      <td>1.000000</td>\n",
              "      <td>4.000000</td>\n",
              "      <td>0.000000</td>\n",
              "    </tr>\n",
              "    <tr>\n",
              "      <th>25%</th>\n",
              "      <td>1.981459</td>\n",
              "      <td>8.000000</td>\n",
              "      <td>0.123198</td>\n",
              "      <td>0.141534</td>\n",
              "      <td>7.000000</td>\n",
              "      <td>0.034403</td>\n",
              "      <td>0.035538</td>\n",
              "      <td>7.000000</td>\n",
              "      <td>6.000000</td>\n",
              "      <td>10.000000</td>\n",
              "      <td>0.000000</td>\n",
              "    </tr>\n",
              "    <tr>\n",
              "      <th>50%</th>\n",
              "      <td>3.151796</td>\n",
              "      <td>12.000000</td>\n",
              "      <td>0.150651</td>\n",
              "      <td>0.173074</td>\n",
              "      <td>11.000000</td>\n",
              "      <td>0.043124</td>\n",
              "      <td>0.044547</td>\n",
              "      <td>12.000000</td>\n",
              "      <td>10.000000</td>\n",
              "      <td>15.000000</td>\n",
              "      <td>0.000000</td>\n",
              "    </tr>\n",
              "    <tr>\n",
              "      <th>75%</th>\n",
              "      <td>4.114929</td>\n",
              "      <td>15.000000</td>\n",
              "      <td>0.168236</td>\n",
              "      <td>0.193276</td>\n",
              "      <td>14.000000</td>\n",
              "      <td>0.048649</td>\n",
              "      <td>0.050254</td>\n",
              "      <td>14.000000</td>\n",
              "      <td>13.000000</td>\n",
              "      <td>17.000000</td>\n",
              "      <td>1.000000</td>\n",
              "    </tr>\n",
              "    <tr>\n",
              "      <th>max</th>\n",
              "      <td>6.458008</td>\n",
              "      <td>23.000000</td>\n",
              "      <td>0.207672</td>\n",
              "      <td>0.238581</td>\n",
              "      <td>22.000000</td>\n",
              "      <td>0.060979</td>\n",
              "      <td>0.062992</td>\n",
              "      <td>26.000000</td>\n",
              "      <td>21.000000</td>\n",
              "      <td>25.000000</td>\n",
              "      <td>1.000000</td>\n",
              "    </tr>\n",
              "  </tbody>\n",
              "</table>\n",
              "</div>\n",
              "      <button class=\"colab-df-convert\" onclick=\"convertToInteractive('df-4f7a2587-d762-4203-9f84-a4d5c79bdc49')\"\n",
              "              title=\"Convert this dataframe to an interactive table.\"\n",
              "              style=\"display:none;\">\n",
              "        \n",
              "  <svg xmlns=\"http://www.w3.org/2000/svg\" height=\"24px\"viewBox=\"0 0 24 24\"\n",
              "       width=\"24px\">\n",
              "    <path d=\"M0 0h24v24H0V0z\" fill=\"none\"/>\n",
              "    <path d=\"M18.56 5.44l.94 2.06.94-2.06 2.06-.94-2.06-.94-.94-2.06-.94 2.06-2.06.94zm-11 1L8.5 8.5l.94-2.06 2.06-.94-2.06-.94L8.5 2.5l-.94 2.06-2.06.94zm10 10l.94 2.06.94-2.06 2.06-.94-2.06-.94-.94-2.06-.94 2.06-2.06.94z\"/><path d=\"M17.41 7.96l-1.37-1.37c-.4-.4-.92-.59-1.43-.59-.52 0-1.04.2-1.43.59L10.3 9.45l-7.72 7.72c-.78.78-.78 2.05 0 2.83L4 21.41c.39.39.9.59 1.41.59.51 0 1.02-.2 1.41-.59l7.78-7.78 2.81-2.81c.8-.78.8-2.07 0-2.86zM5.41 20L4 18.59l7.72-7.72 1.47 1.35L5.41 20z\"/>\n",
              "  </svg>\n",
              "      </button>\n",
              "      \n",
              "  <style>\n",
              "    .colab-df-container {\n",
              "      display:flex;\n",
              "      flex-wrap:wrap;\n",
              "      gap: 12px;\n",
              "    }\n",
              "\n",
              "    .colab-df-convert {\n",
              "      background-color: #E8F0FE;\n",
              "      border: none;\n",
              "      border-radius: 50%;\n",
              "      cursor: pointer;\n",
              "      display: none;\n",
              "      fill: #1967D2;\n",
              "      height: 32px;\n",
              "      padding: 0 0 0 0;\n",
              "      width: 32px;\n",
              "    }\n",
              "\n",
              "    .colab-df-convert:hover {\n",
              "      background-color: #E2EBFA;\n",
              "      box-shadow: 0px 1px 2px rgba(60, 64, 67, 0.3), 0px 1px 3px 1px rgba(60, 64, 67, 0.15);\n",
              "      fill: #174EA6;\n",
              "    }\n",
              "\n",
              "    [theme=dark] .colab-df-convert {\n",
              "      background-color: #3B4455;\n",
              "      fill: #D2E3FC;\n",
              "    }\n",
              "\n",
              "    [theme=dark] .colab-df-convert:hover {\n",
              "      background-color: #434B5C;\n",
              "      box-shadow: 0px 1px 3px 1px rgba(0, 0, 0, 0.15);\n",
              "      filter: drop-shadow(0px 1px 2px rgba(0, 0, 0, 0.3));\n",
              "      fill: #FFFFFF;\n",
              "    }\n",
              "  </style>\n",
              "\n",
              "      <script>\n",
              "        const buttonEl =\n",
              "          document.querySelector('#df-4f7a2587-d762-4203-9f84-a4d5c79bdc49 button.colab-df-convert');\n",
              "        buttonEl.style.display =\n",
              "          google.colab.kernel.accessAllowed ? 'block' : 'none';\n",
              "\n",
              "        async function convertToInteractive(key) {\n",
              "          const element = document.querySelector('#df-4f7a2587-d762-4203-9f84-a4d5c79bdc49');\n",
              "          const dataTable =\n",
              "            await google.colab.kernel.invokeFunction('convertToInteractive',\n",
              "                                                     [key], {});\n",
              "          if (!dataTable) return;\n",
              "\n",
              "          const docLinkHtml = 'Like what you see? Visit the ' +\n",
              "            '<a target=\"_blank\" href=https://colab.research.google.com/notebooks/data_table.ipynb>data table notebook</a>'\n",
              "            + ' to learn more about interactive tables.';\n",
              "          element.innerHTML = '';\n",
              "          dataTable['output_type'] = 'display_data';\n",
              "          await google.colab.output.renderOutput(dataTable, element);\n",
              "          const docLink = document.createElement('div');\n",
              "          docLink.innerHTML = docLinkHtml;\n",
              "          element.appendChild(docLink);\n",
              "        }\n",
              "      </script>\n",
              "    </div>\n",
              "  </div>\n",
              "  "
            ]
          },
          "metadata": {},
          "execution_count": 10
        }
      ]
    },
    {
      "cell_type": "code",
      "source": [
        "import matplotlib.pyplot as plt\n",
        "\n",
        "df.hist(bins=50, figsize=(24, 16))\n",
        "plt.show()"
      ],
      "metadata": {
        "colab": {
          "base_uri": "https://localhost:8080/"
        },
        "outputId": "512ca0f3-7aca-45ab-bc38-032efbb69f96",
        "id": "OuZK2lGE56Cw"
      },
      "execution_count": null,
      "outputs": [
        {
          "output_type": "display_data",
          "data": {
            "text/plain": [
              "<Figure size 1728x1152 with 12 Axes>"
            ],
            "image/png": "[encoded data removed]"
          },
          "metadata": {
            "needs_background": "light"
          }
        }
      ]
    },
    {
      "cell_type": "markdown",
      "source": [
        "### Naive Bayes (NB) classifier"
      ],
      "metadata": {
        "id": "4EsjCmYPiEFo"
      }
    },
    {
      "cell_type": "code",
      "source": [
        "from sklearn.naive_bayes import MultinomialNB\n",
        "\n",
        "mnb_clf = MultinomialNB()\n",
        "mnb_clf.fit(X_train, y_train)\n"
      ],
      "metadata": {
        "colab": {
          "base_uri": "https://localhost:8080/"
        },
        "outputId": "49441d81-032a-47fe-bf51-94c30db41e69",
        "id": "TmiB7J2siEFw"
      },
      "execution_count": null,
      "outputs": [
        {
          "output_type": "execute_result",
          "data": {
            "text/plain": [
              "MultinomialNB()"
            ]
          },
          "metadata": {},
          "execution_count": 12
        }
      ]
    },
    {
      "cell_type": "code",
      "source": [
        "print(f\"Naive Bayes scored {mnb_clf.score(X_test, y_test).round(5)} on test\")\n",
        "print(f\"Naive Bayes scored {mnb_clf.score(X_train, y_train).round(5)} on train\")"
      ],
      "metadata": {
        "colab": {
          "base_uri": "https://localhost:8080/"
        },
        "outputId": "c62817e1-4239-49eb-8f2f-1979e9a5a0e1",
        "id": "YHA9baOJiEFx"
      },
      "execution_count": null,
      "outputs": [
        {
          "output_type": "stream",
          "name": "stdout",
          "text": [
            "Naive Bayes scored 0.81903 on test\n",
            "Naive Bayes scored 0.7672 on train\n"
          ]
        }
      ]
    },
    {
      "cell_type": "markdown",
      "source": [
        "#### Confusion Matrix for mnb_clf train"
      ],
      "metadata": {
        "id": "SK9aTAhsiEFx"
      }
    },
    {
      "cell_type": "code",
      "source": [
        "from sklearn.model_selection import cross_val_predict\n",
        "\n",
        "y_train_pred = cross_val_predict(mnb_clf, X_train, y_train, cv=3)"
      ],
      "metadata": {
        "id": "aBSgOjyOiEFx"
      },
      "execution_count": null,
      "outputs": []
    },
    {
      "cell_type": "code",
      "source": [
        "from sklearn.metrics import confusion_matrix\n",
        "cm = confusion_matrix(y_train, y_train_pred).round(5)\n",
        "cm"
      ],
      "metadata": {
        "colab": {
          "base_uri": "https://localhost:8080/"
        },
        "outputId": "690137a1-55f3-4202-adec-585a3dda3a99",
        "id": "nAClIxZViEFy"
      },
      "execution_count": null,
      "outputs": [
        {
          "output_type": "execute_result",
          "data": {
            "text/plain": [
              "array([[667,  29],\n",
              "       [259, 295]])"
            ]
          },
          "metadata": {},
          "execution_count": 15
        }
      ]
    },
    {
      "cell_type": "code",
      "source": [
        "from sklearn.metrics import precision_score, recall_score\n",
        "precision_score(y_train, y_train_pred).round(5)"
      ],
      "metadata": {
        "colab": {
          "base_uri": "https://localhost:8080/"
        },
        "outputId": "837842d4-4b23-4dc8-d515-57806e8fcd34",
        "id": "GIWKEMsYiEFy"
      },
      "execution_count": null,
      "outputs": [
        {
          "output_type": "execute_result",
          "data": {
            "text/plain": [
              "0.91049"
            ]
          },
          "metadata": {},
          "execution_count": 16
        }
      ]
    },
    {
      "cell_type": "code",
      "source": [
        "recall_score(y_train, y_train_pred).round(5)"
      ],
      "metadata": {
        "colab": {
          "base_uri": "https://localhost:8080/"
        },
        "outputId": "b8d755ea-0d4a-4c7a-8b85-0a2312b0e500",
        "id": "U8MX3k5QiEFy"
      },
      "execution_count": null,
      "outputs": [
        {
          "output_type": "execute_result",
          "data": {
            "text/plain": [
              "0.53249"
            ]
          },
          "metadata": {},
          "execution_count": 17
        }
      ]
    },
    {
      "cell_type": "code",
      "source": [
        "from sklearn.metrics import f1_score\n",
        "f1_score(y_train, y_train_pred).round(5)"
      ],
      "metadata": {
        "colab": {
          "base_uri": "https://localhost:8080/"
        },
        "outputId": "f0d81c64-5402-45e6-f21d-3ca0b3b7e9ac",
        "id": "bgrVDUC2iEFy"
      },
      "execution_count": null,
      "outputs": [
        {
          "output_type": "execute_result",
          "data": {
            "text/plain": [
              "0.67198"
            ]
          },
          "metadata": {},
          "execution_count": 18
        }
      ]
    },
    {
      "cell_type": "code",
      "source": [
        "from sklearn.metrics import ConfusionMatrixDisplay\n",
        "ConfusionMatrixDisplay.from_predictions(y_train, y_train_pred)\n",
        "save_fig(\"dga_wo_mnb_train_cm\")\n",
        "plt.show"
      ],
      "metadata": {
        "colab": {
          "base_uri": "https://localhost:8080/"
        },
        "id": "Hbnto6AkmJYc",
        "outputId": "cf232815-0fa5-42ea-bebb-f48e3cb7ba33"
      },
      "execution_count": null,
      "outputs": [
        {
          "output_type": "execute_result",
          "data": {
            "text/plain": [
              "<function matplotlib.pyplot.show(*args, **kw)>"
            ]
          },
          "metadata": {},
          "execution_count": 19
        },
        {
          "output_type": "display_data",
          "data": {
            "text/plain": [
              "<Figure size 432x288 with 2 Axes>"
            ],
            "image/png": "[encoded data removed]"
          },
          "metadata": {
            "needs_background": "light"
          }
        }
      ]
    },
    {
      "cell_type": "markdown",
      "source": [
        "#### Confusion Matrix for mnb_clf test"
      ],
      "metadata": {
        "id": "rl-TLGokmYf6"
      }
    },
    {
      "cell_type": "code",
      "source": [
        "from sklearn.model_selection import cross_val_predict\n",
        "\n",
        "y_test_pred = cross_val_predict(mnb_clf, X_test, y_test, cv=3)"
      ],
      "metadata": {
        "id": "_aEWUEnOmYf6"
      },
      "execution_count": null,
      "outputs": []
    },
    {
      "cell_type": "code",
      "source": [
        "from sklearn.metrics import confusion_matrix\n",
        "cm = confusion_matrix(y_test, y_test_pred).round(5)\n",
        "cm"
      ],
      "metadata": {
        "colab": {
          "base_uri": "https://localhost:8080/"
        },
        "outputId": "c6d2447c-b534-4f13-d523-8c361bd02859",
        "id": "kVG_5BIhmYf7"
      },
      "execution_count": null,
      "outputs": [
        {
          "output_type": "execute_result",
          "data": {
            "text/plain": [
              "array([[289,  13],\n",
              "       [ 83, 151]])"
            ]
          },
          "metadata": {},
          "execution_count": 21
        }
      ]
    },
    {
      "cell_type": "code",
      "source": [
        "from sklearn.metrics import precision_score, recall_score\n",
        "precision_score(y_test, y_test_pred).round(5)"
      ],
      "metadata": {
        "colab": {
          "base_uri": "https://localhost:8080/"
        },
        "outputId": "701008af-9875-4f1e-c17a-7bb5bfb04a9c",
        "id": "3JLw80dMmYf7"
      },
      "execution_count": null,
      "outputs": [
        {
          "output_type": "execute_result",
          "data": {
            "text/plain": [
              "0.92073"
            ]
          },
          "metadata": {},
          "execution_count": 22
        }
      ]
    },
    {
      "cell_type": "code",
      "source": [
        "recall_score(y_test, y_test_pred).round(5)"
      ],
      "metadata": {
        "colab": {
          "base_uri": "https://localhost:8080/"
        },
        "outputId": "d3f97327-7f14-41ea-de85-8974c6504b10",
        "id": "dyrDKyXXmYf7"
      },
      "execution_count": null,
      "outputs": [
        {
          "output_type": "execute_result",
          "data": {
            "text/plain": [
              "0.6453"
            ]
          },
          "metadata": {},
          "execution_count": 23
        }
      ]
    },
    {
      "cell_type": "code",
      "source": [
        "from sklearn.metrics import f1_score\n",
        "f1_score(y_test, y_test_pred).round(5)"
      ],
      "metadata": {
        "colab": {
          "base_uri": "https://localhost:8080/"
        },
        "outputId": "0230173b-a5fb-4538-cec1-12d7c6c502f4",
        "id": "Yn-cfR4OmYf8"
      },
      "execution_count": null,
      "outputs": [
        {
          "output_type": "execute_result",
          "data": {
            "text/plain": [
              "0.75879"
            ]
          },
          "metadata": {},
          "execution_count": 24
        }
      ]
    },
    {
      "cell_type": "code",
      "source": [
        "from sklearn.metrics import ConfusionMatrixDisplay\n",
        "ConfusionMatrixDisplay.from_predictions(y_test, y_test_pred)\n",
        "save_fig(\"dga_wo_mnb_test_cm\")\n",
        "plt.show"
      ],
      "metadata": {
        "colab": {
          "base_uri": "https://localhost:8080/"
        },
        "id": "oFX58hmWlI7g",
        "outputId": "e1e1f14e-1a43-4827-a2ba-d0e5be5433a9"
      },
      "execution_count": null,
      "outputs": [
        {
          "output_type": "execute_result",
          "data": {
            "text/plain": [
              "<function matplotlib.pyplot.show(*args, **kw)>"
            ]
          },
          "metadata": {},
          "execution_count": 25
        },
        {
          "output_type": "display_data",
          "data": {
            "text/plain": [
              "<Figure size 432x288 with 2 Axes>"
            ],
            "image/png": "[encoded data removed]"
          },
          "metadata": {
            "needs_background": "light"
          }
        }
      ]
    },
    {
      "cell_type": "markdown",
      "source": [
        "### Logistic Regression (LG) classifier"
      ],
      "metadata": {
        "id": "O8Vb1kdojPI4"
      }
    },
    {
      "cell_type": "code",
      "source": [
        "from sklearn.linear_model import LogisticRegression\n",
        "\n",
        "lg_clf = LogisticRegression(max_iter=1000)\n",
        "lg_clf.fit(X_train, y_train)\n"
      ],
      "metadata": {
        "id": "96qF9r2YjPI_",
        "colab": {
          "base_uri": "https://localhost:8080/"
        },
        "outputId": "bf3e051d-2e99-483d-eaa2-12ea61a12aee"
      },
      "execution_count": null,
      "outputs": [
        {
          "output_type": "execute_result",
          "data": {
            "text/plain": [
              "LogisticRegression(max_iter=1000)"
            ]
          },
          "metadata": {},
          "execution_count": 26
        }
      ]
    },
    {
      "cell_type": "code",
      "source": [
        "print(f\"Logistic Regression scored {lg_clf.score(X_test, y_test).round(5)} on test\")\n",
        "print(f\"Logistic Regression scored {lg_clf.score(X_train, y_train).round(5)} on train\")"
      ],
      "metadata": {
        "colab": {
          "base_uri": "https://localhost:8080/"
        },
        "outputId": "5494e9ba-7269-42bd-fb52-16e8b8ae7102",
        "id": "oUyuqUOsjPI_"
      },
      "execution_count": null,
      "outputs": [
        {
          "output_type": "stream",
          "name": "stdout",
          "text": [
            "Logistic Regression scored 0.93284 on test\n",
            "Logistic Regression scored 0.9408 on train\n"
          ]
        }
      ]
    },
    {
      "cell_type": "markdown",
      "source": [
        "#### Confusion Matrix for lg_clf train"
      ],
      "metadata": {
        "id": "yGB-kSCkjPJA"
      }
    },
    {
      "cell_type": "code",
      "source": [
        "from sklearn.model_selection import cross_val_predict\n",
        "\n",
        "y_train_pred = cross_val_predict(lg_clf, X_train, y_train, cv=3)"
      ],
      "metadata": {
        "id": "xGVE5gdkjPJA"
      },
      "execution_count": null,
      "outputs": []
    },
    {
      "cell_type": "code",
      "source": [
        "from sklearn.metrics import confusion_matrix\n",
        "cm = confusion_matrix(y_train, y_train_pred)\n",
        "cm"
      ],
      "metadata": {
        "colab": {
          "base_uri": "https://localhost:8080/"
        },
        "outputId": "1e251ec6-85f1-4a8b-fc75-83462df1da21",
        "id": "67wBt1vkjPJA"
      },
      "execution_count": null,
      "outputs": [
        {
          "output_type": "execute_result",
          "data": {
            "text/plain": [
              "array([[644,  52],\n",
              "       [ 27, 527]])"
            ]
          },
          "metadata": {},
          "execution_count": 29
        }
      ]
    },
    {
      "cell_type": "code",
      "source": [
        "from sklearn.metrics import precision_score, recall_score\n",
        "precision_score(y_train, y_train_pred).round(5)"
      ],
      "metadata": {
        "colab": {
          "base_uri": "https://localhost:8080/"
        },
        "outputId": "1b668937-cb51-494f-c419-47e47c76fd37",
        "id": "mwbmycAAjPJA"
      },
      "execution_count": null,
      "outputs": [
        {
          "output_type": "execute_result",
          "data": {
            "text/plain": [
              "0.91019"
            ]
          },
          "metadata": {},
          "execution_count": 30
        }
      ]
    },
    {
      "cell_type": "code",
      "source": [
        "recall_score(y_train, y_train_pred).round(5)"
      ],
      "metadata": {
        "colab": {
          "base_uri": "https://localhost:8080/"
        },
        "outputId": "c5ec529f-3b37-4192-82f7-b913dd1e1b27",
        "id": "WK40wGdVjPJA"
      },
      "execution_count": null,
      "outputs": [
        {
          "output_type": "execute_result",
          "data": {
            "text/plain": [
              "0.95126"
            ]
          },
          "metadata": {},
          "execution_count": 31
        }
      ]
    },
    {
      "cell_type": "code",
      "source": [
        "from sklearn.metrics import f1_score\n",
        "f1_score(y_train, y_train_pred).round(5)"
      ],
      "metadata": {
        "colab": {
          "base_uri": "https://localhost:8080/"
        },
        "outputId": "acf7ba51-8f8b-44ae-ef4e-14cb5599fa0b",
        "id": "BwSGN4lijPJA"
      },
      "execution_count": null,
      "outputs": [
        {
          "output_type": "execute_result",
          "data": {
            "text/plain": [
              "0.93027"
            ]
          },
          "metadata": {},
          "execution_count": 32
        }
      ]
    },
    {
      "cell_type": "code",
      "source": [
        "from sklearn.metrics import ConfusionMatrixDisplay\n",
        "ConfusionMatrixDisplay.from_predictions(y_train, y_train_pred)\n",
        "save_fig(\"dga_wo_lg_train_cm\")\n",
        "plt.show"
      ],
      "metadata": {
        "colab": {
          "base_uri": "https://localhost:8080/"
        },
        "id": "eP7nu8EfCNfX",
        "outputId": "dc703c6b-75fb-4cae-f67a-56e0bb8c43e3"
      },
      "execution_count": null,
      "outputs": [
        {
          "output_type": "execute_result",
          "data": {
            "text/plain": [
              "<function matplotlib.pyplot.show(*args, **kw)>"
            ]
          },
          "metadata": {},
          "execution_count": 33
        },
        {
          "output_type": "display_data",
          "data": {
            "text/plain": [
              "<Figure size 432x288 with 2 Axes>"
            ],
            "image/png": "[encoded data removed]"
          },
          "metadata": {
            "needs_background": "light"
          }
        }
      ]
    },
    {
      "cell_type": "markdown",
      "source": [
        "#### Confusion Matrix for lg_clf test"
      ],
      "metadata": {
        "id": "b0GyX45JCBDp"
      }
    },
    {
      "cell_type": "code",
      "source": [
        "from sklearn.model_selection import cross_val_predict\n",
        "\n",
        "y_test_pred = cross_val_predict(lg_clf, X_test, y_test, cv=3)"
      ],
      "metadata": {
        "id": "dd1nCGsWCBDq"
      },
      "execution_count": null,
      "outputs": []
    },
    {
      "cell_type": "code",
      "source": [
        "from sklearn.metrics import confusion_matrix\n",
        "cm = confusion_matrix(y_test, y_test_pred)\n",
        "cm"
      ],
      "metadata": {
        "colab": {
          "base_uri": "https://localhost:8080/"
        },
        "outputId": "d22e0471-1a95-457f-a35a-87b3adb76bd1",
        "id": "Mu2cxRo0CBDq"
      },
      "execution_count": null,
      "outputs": [
        {
          "output_type": "execute_result",
          "data": {
            "text/plain": [
              "array([[275,  27],\n",
              "       [ 17, 217]])"
            ]
          },
          "metadata": {},
          "execution_count": 35
        }
      ]
    },
    {
      "cell_type": "code",
      "source": [
        "from sklearn.metrics import precision_score, recall_score\n",
        "precision_score(y_test, y_test_pred).round(5)"
      ],
      "metadata": {
        "colab": {
          "base_uri": "https://localhost:8080/"
        },
        "outputId": "2ffc145c-7699-4050-97d5-2bfa7869b55c",
        "id": "qIx5yX-zCBDr"
      },
      "execution_count": null,
      "outputs": [
        {
          "output_type": "execute_result",
          "data": {
            "text/plain": [
              "0.88934"
            ]
          },
          "metadata": {},
          "execution_count": 36
        }
      ]
    },
    {
      "cell_type": "code",
      "source": [
        "recall_score(y_test, y_test_pred).round(5)"
      ],
      "metadata": {
        "colab": {
          "base_uri": "https://localhost:8080/"
        },
        "outputId": "4d120c66-d6dd-4916-d668-a1fa675e04a2",
        "id": "ONcneHnuCBDr"
      },
      "execution_count": null,
      "outputs": [
        {
          "output_type": "execute_result",
          "data": {
            "text/plain": [
              "0.92735"
            ]
          },
          "metadata": {},
          "execution_count": 37
        }
      ]
    },
    {
      "cell_type": "code",
      "source": [
        "from sklearn.metrics import f1_score\n",
        "f1_score(y_test, y_test_pred).round(5)"
      ],
      "metadata": {
        "colab": {
          "base_uri": "https://localhost:8080/"
        },
        "outputId": "07e267b1-e1e0-4662-86f5-e53d0ab54e7d",
        "id": "VzbBtYZXCBDr"
      },
      "execution_count": null,
      "outputs": [
        {
          "output_type": "execute_result",
          "data": {
            "text/plain": [
              "0.90795"
            ]
          },
          "metadata": {},
          "execution_count": 38
        }
      ]
    },
    {
      "cell_type": "code",
      "source": [
        "from sklearn.metrics import ConfusionMatrixDisplay\n",
        "ConfusionMatrixDisplay.from_predictions(y_test, y_test_pred)\n",
        "save_fig(\"dga_wo_lg_test_cm\")\n",
        "plt.show"
      ],
      "metadata": {
        "id": "hbGITCGVBj02",
        "colab": {
          "base_uri": "https://localhost:8080/"
        },
        "outputId": "9f6d494e-d7e6-4dcc-b775-de9b8248bd8f"
      },
      "execution_count": null,
      "outputs": [
        {
          "output_type": "execute_result",
          "data": {
            "text/plain": [
              "<function matplotlib.pyplot.show(*args, **kw)>"
            ]
          },
          "metadata": {},
          "execution_count": 39
        },
        {
          "output_type": "display_data",
          "data": {
            "text/plain": [
              "<Figure size 432x288 with 2 Axes>"
            ],
            "image/png": "[encoded data removed]"
          },
          "metadata": {
            "needs_background": "light"
          }
        }
      ]
    },
    {
      "cell_type": "markdown",
      "source": [
        "### K-Nearest Neighbours (KNN) classifier"
      ],
      "metadata": {
        "id": "QZZynRycngOI"
      }
    },
    {
      "cell_type": "code",
      "source": [
        "from sklearn.neighbors import KNeighborsClassifier\n",
        "\n",
        "knn_clf = KNeighborsClassifier(algorithm = 'brute', n_jobs=-1)\n",
        "knn_clf.fit(X_train, y_train)\n"
      ],
      "metadata": {
        "colab": {
          "base_uri": "https://localhost:8080/"
        },
        "outputId": "4768ad49-3c6c-4190-b0ba-01778dfc1915",
        "id": "wMAG1LjOngOJ"
      },
      "execution_count": null,
      "outputs": [
        {
          "output_type": "execute_result",
          "data": {
            "text/plain": [
              "KNeighborsClassifier(algorithm='brute', n_jobs=-1)"
            ]
          },
          "metadata": {},
          "execution_count": 40
        }
      ]
    },
    {
      "cell_type": "code",
      "source": [
        "print(f\"K-Nearest Neighbours scored {knn_clf.score(X_test, y_test).round(5)} on test\")\n",
        "print(f\"K-Nearest Neighbours scored {knn_clf.score(X_train, y_train).round(5)} on train\")"
      ],
      "metadata": {
        "colab": {
          "base_uri": "https://localhost:8080/"
        },
        "outputId": "f39aa4f3-5de8-4903-95e9-508e80f6da63",
        "id": "xzuynLVsngOJ"
      },
      "execution_count": null,
      "outputs": [
        {
          "output_type": "stream",
          "name": "stdout",
          "text": [
            "K-Nearest Neighbours scored 0.92724 on test\n",
            "K-Nearest Neighbours scored 0.9416 on train\n"
          ]
        }
      ]
    },
    {
      "cell_type": "markdown",
      "source": [
        "#### Confusion Matrix for knn_clf train"
      ],
      "metadata": {
        "id": "TzOFE2irngOK"
      }
    },
    {
      "cell_type": "code",
      "source": [
        "from sklearn.model_selection import cross_val_predict\n",
        "\n",
        "y_train_pred = cross_val_predict(knn_clf, X_train, y_train, cv=3)"
      ],
      "metadata": {
        "id": "99LqES6lngOK"
      },
      "execution_count": null,
      "outputs": []
    },
    {
      "cell_type": "code",
      "source": [
        "from sklearn.metrics import confusion_matrix\n",
        "cm = confusion_matrix(y_train, y_train_pred)\n",
        "cm"
      ],
      "metadata": {
        "colab": {
          "base_uri": "https://localhost:8080/"
        },
        "outputId": "8cd5d252-7e36-4466-a769-00dfc040eb14",
        "id": "u87DOHi6ngOK"
      },
      "execution_count": null,
      "outputs": [
        {
          "output_type": "execute_result",
          "data": {
            "text/plain": [
              "array([[630,  66],\n",
              "       [ 22, 532]])"
            ]
          },
          "metadata": {},
          "execution_count": 43
        }
      ]
    },
    {
      "cell_type": "code",
      "source": [
        "from sklearn.metrics import precision_score, recall_score\n",
        "precision_score(y_train, y_train_pred).round(5)"
      ],
      "metadata": {
        "colab": {
          "base_uri": "https://localhost:8080/"
        },
        "outputId": "dbcb9513-7077-450d-b5be-a9d2dcf1be31",
        "id": "6ooQcJR_ngOK"
      },
      "execution_count": null,
      "outputs": [
        {
          "output_type": "execute_result",
          "data": {
            "text/plain": [
              "0.88963"
            ]
          },
          "metadata": {},
          "execution_count": 44
        }
      ]
    },
    {
      "cell_type": "code",
      "source": [
        "recall_score(y_train, y_train_pred).round(5)"
      ],
      "metadata": {
        "colab": {
          "base_uri": "https://localhost:8080/"
        },
        "outputId": "38d4e188-cc8e-437f-fc77-d80bf04ec15f",
        "id": "u8kSXZ-qngOL"
      },
      "execution_count": null,
      "outputs": [
        {
          "output_type": "execute_result",
          "data": {
            "text/plain": [
              "0.96029"
            ]
          },
          "metadata": {},
          "execution_count": 45
        }
      ]
    },
    {
      "cell_type": "code",
      "source": [
        "from sklearn.metrics import f1_score\n",
        "f1_score(y_train, y_train_pred).round(5)"
      ],
      "metadata": {
        "colab": {
          "base_uri": "https://localhost:8080/"
        },
        "outputId": "4b48d4a8-9e4d-4813-e9f2-60cb8c661c71",
        "id": "dHJDmsuSngOL"
      },
      "execution_count": null,
      "outputs": [
        {
          "output_type": "execute_result",
          "data": {
            "text/plain": [
              "0.92361"
            ]
          },
          "metadata": {},
          "execution_count": 46
        }
      ]
    },
    {
      "cell_type": "code",
      "source": [
        "from sklearn.metrics import ConfusionMatrixDisplay\n",
        "ConfusionMatrixDisplay.from_predictions(y_train, y_train_pred)\n",
        "save_fig(\"dga_wo_knn_train_cm\")\n",
        "plt.show"
      ],
      "metadata": {
        "colab": {
          "base_uri": "https://localhost:8080/"
        },
        "id": "chFI3NjjEF5_",
        "outputId": "152b8dab-3dbe-4c20-8aa8-0d152508d902"
      },
      "execution_count": null,
      "outputs": [
        {
          "output_type": "execute_result",
          "data": {
            "text/plain": [
              "<function matplotlib.pyplot.show(*args, **kw)>"
            ]
          },
          "metadata": {},
          "execution_count": 47
        },
        {
          "output_type": "display_data",
          "data": {
            "text/plain": [
              "<Figure size 432x288 with 2 Axes>"
            ],
            "image/png": "[encoded data removed]"
          },
          "metadata": {
            "needs_background": "light"
          }
        }
      ]
    },
    {
      "cell_type": "markdown",
      "source": [
        "#### Confusion Matrix for knn_clf test"
      ],
      "metadata": {
        "id": "0KSXsrQtMPWo"
      }
    },
    {
      "cell_type": "code",
      "source": [
        "from sklearn.model_selection import cross_val_predict\n",
        "\n",
        "y_test_pred = cross_val_predict(knn_clf, X_test, y_test, cv=3)"
      ],
      "metadata": {
        "id": "lyFiLQo9MPWo"
      },
      "execution_count": null,
      "outputs": []
    },
    {
      "cell_type": "code",
      "source": [
        "from sklearn.metrics import confusion_matrix\n",
        "cm = confusion_matrix(y_test, y_test_pred)\n",
        "cm"
      ],
      "metadata": {
        "colab": {
          "base_uri": "https://localhost:8080/"
        },
        "outputId": "2e06ebe7-f4c1-4d81-d0f3-f3e3c58f71b3",
        "id": "VEjSpZq4MPWp"
      },
      "execution_count": null,
      "outputs": [
        {
          "output_type": "execute_result",
          "data": {
            "text/plain": [
              "array([[271,  31],\n",
              "       [ 11, 223]])"
            ]
          },
          "metadata": {},
          "execution_count": 49
        }
      ]
    },
    {
      "cell_type": "code",
      "source": [
        "from sklearn.metrics import precision_score, recall_score\n",
        "precision_score(y_test, y_test_pred).round(5)"
      ],
      "metadata": {
        "colab": {
          "base_uri": "https://localhost:8080/"
        },
        "outputId": "cf38ac13-e15d-435d-e661-9301eb0349d5",
        "id": "63f1Y8ITMPWp"
      },
      "execution_count": null,
      "outputs": [
        {
          "output_type": "execute_result",
          "data": {
            "text/plain": [
              "0.87795"
            ]
          },
          "metadata": {},
          "execution_count": 50
        }
      ]
    },
    {
      "cell_type": "code",
      "source": [
        "recall_score(y_test, y_test_pred).round(5)"
      ],
      "metadata": {
        "colab": {
          "base_uri": "https://localhost:8080/"
        },
        "outputId": "3b45507a-75ba-4c4f-86b0-1622cdc69e9e",
        "id": "75m8xd-nMPWp"
      },
      "execution_count": null,
      "outputs": [
        {
          "output_type": "execute_result",
          "data": {
            "text/plain": [
              "0.95299"
            ]
          },
          "metadata": {},
          "execution_count": 51
        }
      ]
    },
    {
      "cell_type": "code",
      "source": [
        "from sklearn.metrics import f1_score\n",
        "f1_score(y_test, y_test_pred).round(5)"
      ],
      "metadata": {
        "colab": {
          "base_uri": "https://localhost:8080/"
        },
        "outputId": "2baa2d49-84d0-47c9-a463-7fdea9dd6ebb",
        "id": "Cm4Tz_DfMPWp"
      },
      "execution_count": null,
      "outputs": [
        {
          "output_type": "execute_result",
          "data": {
            "text/plain": [
              "0.91393"
            ]
          },
          "metadata": {},
          "execution_count": 52
        }
      ]
    },
    {
      "cell_type": "code",
      "source": [
        "from sklearn.metrics import ConfusionMatrixDisplay\n",
        "ConfusionMatrixDisplay.from_predictions(y_test, y_test_pred)\n",
        "save_fig(\"dga_wo_knn_test_cm\")\n",
        "plt.show"
      ],
      "metadata": {
        "colab": {
          "base_uri": "https://localhost:8080/"
        },
        "outputId": "4668814f-c5b9-4025-af52-bfca9743142d",
        "id": "rsPjyW3cMPWq"
      },
      "execution_count": null,
      "outputs": [
        {
          "output_type": "execute_result",
          "data": {
            "text/plain": [
              "<function matplotlib.pyplot.show(*args, **kw)>"
            ]
          },
          "metadata": {},
          "execution_count": 53
        },
        {
          "output_type": "display_data",
          "data": {
            "text/plain": [
              "<Figure size 432x288 with 2 Axes>"
            ],
            "image/png": "[encoded data removed]"
          },
          "metadata": {
            "needs_background": "light"
          }
        }
      ]
    },
    {
      "cell_type": "markdown",
      "source": [
        "###✋Support Vector Machine (SVM) classifier"
      ],
      "metadata": {
        "id": "hynEm0T6AiSp"
      }
    },
    {
      "cell_type": "code",
      "source": [
        "# if we receive ConvergenceWarning then use:\n",
        "\n",
        "from sklearn.model_selection import train_test_split\n",
        "from sklearn.preprocessing import StandardScaler\n",
        "X_norm_svm = StandardScaler().fit_transform(X)\n",
        "\n",
        "# Generate train/test sets\n",
        "X_train_svm, X_test_svm, y_train_svm, y_test_svm = train_test_split(\n",
        "    X_norm_svm, y, test_size=0.3, random_state=42\n",
        ")\n",
        "\n",
        "# re-run above LinearSVC\n"
      ],
      "metadata": {
        "id": "b44AZ1OQZQRg"
      },
      "execution_count": null,
      "outputs": []
    },
    {
      "cell_type": "code",
      "source": [
        "from sklearn.svm import LinearSVC\n",
        "from sklearn.calibration import CalibratedClassifierCV\n",
        "\n",
        "svm_clf=LinearSVC(C=0.00001)\n",
        "svm_clf.fit(X_train_svm, y_train_svm)\n",
        "svm_clf1 = CalibratedClassifierCV(svm_clf)\n",
        "svm_clf1.fit(X_train_svm, y_train_svm)\n"
      ],
      "metadata": {
        "colab": {
          "base_uri": "https://localhost:8080/"
        },
        "id": "edV7Ond8AiSq",
        "outputId": "a8c574db-1265-4c22-d373-d7343a1ef32c"
      },
      "execution_count": null,
      "outputs": [
        {
          "output_type": "execute_result",
          "data": {
            "text/plain": [
              "CalibratedClassifierCV(base_estimator=LinearSVC(C=1e-05))"
            ]
          },
          "metadata": {},
          "execution_count": 55
        }
      ]
    },
    {
      "cell_type": "code",
      "source": [
        "print(f\"SVM scored {svm_clf.score(X_test_svm, y_test_svm).round(5)} on test\")\n",
        "print(f\"SVM scored {svm_clf.score(X_train_svm, y_train_svm).round(5)} on train\")"
      ],
      "metadata": {
        "colab": {
          "base_uri": "https://localhost:8080/"
        },
        "outputId": "2daea9e9-3019-414b-ece5-69e34b0760f6",
        "id": "isvxkhf1AiSq"
      },
      "execution_count": null,
      "outputs": [
        {
          "output_type": "stream",
          "name": "stdout",
          "text": [
            "SVM scored 0.90485 on test\n",
            "SVM scored 0.8992 on train\n"
          ]
        }
      ]
    },
    {
      "cell_type": "markdown",
      "source": [
        "#### Confusion Matrix for svm_clf train"
      ],
      "metadata": {
        "id": "-jg4B8iyAiSq"
      }
    },
    {
      "cell_type": "code",
      "source": [
        "from sklearn.model_selection import cross_val_predict\n",
        "\n",
        "y_train_svm_pred = cross_val_predict(svm_clf, X_train_svm, y_train_svm, cv=3)"
      ],
      "metadata": {
        "id": "CmFoV21cAiSr"
      },
      "execution_count": null,
      "outputs": []
    },
    {
      "cell_type": "code",
      "source": [
        "from sklearn.metrics import confusion_matrix\n",
        "cm = confusion_matrix(y_train_svm, y_train_svm_pred)\n",
        "cm"
      ],
      "metadata": {
        "colab": {
          "base_uri": "https://localhost:8080/"
        },
        "outputId": "ffcd5128-9d2c-4717-e33a-201c20931938",
        "id": "0HEvD287AiSr"
      },
      "execution_count": null,
      "outputs": [
        {
          "output_type": "execute_result",
          "data": {
            "text/plain": [
              "array([[576, 120],\n",
              "       [  6, 548]])"
            ]
          },
          "metadata": {},
          "execution_count": 58
        }
      ]
    },
    {
      "cell_type": "code",
      "source": [
        "from sklearn.metrics import precision_score, recall_score\n",
        "precision_score(y_train_svm, y_train_svm_pred).round(5)"
      ],
      "metadata": {
        "colab": {
          "base_uri": "https://localhost:8080/"
        },
        "outputId": "fdb80ea0-6c43-4d53-a6d3-2b7b8000daee",
        "id": "y_x_6k1eAiSr"
      },
      "execution_count": null,
      "outputs": [
        {
          "output_type": "execute_result",
          "data": {
            "text/plain": [
              "0.82036"
            ]
          },
          "metadata": {},
          "execution_count": 59
        }
      ]
    },
    {
      "cell_type": "code",
      "source": [
        "recall_score(y_train_svm, y_train_svm_pred).round(5)"
      ],
      "metadata": {
        "colab": {
          "base_uri": "https://localhost:8080/"
        },
        "outputId": "b0eea78a-3e54-4245-d4d6-ba4af85ac05e",
        "id": "1JFadQMYAiSr"
      },
      "execution_count": null,
      "outputs": [
        {
          "output_type": "execute_result",
          "data": {
            "text/plain": [
              "0.98917"
            ]
          },
          "metadata": {},
          "execution_count": 60
        }
      ]
    },
    {
      "cell_type": "code",
      "source": [
        "from sklearn.metrics import f1_score\n",
        "f1_score(y_train_svm, y_train_svm_pred).round(5)"
      ],
      "metadata": {
        "colab": {
          "base_uri": "https://localhost:8080/"
        },
        "outputId": "4a73cda3-9f8e-4b74-c8bb-e20f2ba5ab89",
        "id": "ooDT7v13AiSs"
      },
      "execution_count": null,
      "outputs": [
        {
          "output_type": "execute_result",
          "data": {
            "text/plain": [
              "0.89689"
            ]
          },
          "metadata": {},
          "execution_count": 61
        }
      ]
    },
    {
      "cell_type": "code",
      "source": [
        "from sklearn.metrics import ConfusionMatrixDisplay\n",
        "ConfusionMatrixDisplay.from_predictions(y_train_svm, y_train_svm_pred)\n",
        "save_fig(\"dga_wo_svm_train_cm\")\n",
        "plt.show"
      ],
      "metadata": {
        "colab": {
          "base_uri": "https://localhost:8080/"
        },
        "id": "1jilC9IwEoQg",
        "outputId": "2deaa105-46db-4d11-8d50-fe2967df4ca4"
      },
      "execution_count": null,
      "outputs": [
        {
          "output_type": "execute_result",
          "data": {
            "text/plain": [
              "<function matplotlib.pyplot.show(*args, **kw)>"
            ]
          },
          "metadata": {},
          "execution_count": 62
        },
        {
          "output_type": "display_data",
          "data": {
            "text/plain": [
              "<Figure size 432x288 with 2 Axes>"
            ],
            "image/png": "[encoded data removed]"
          },
          "metadata": {
            "needs_background": "light"
          }
        }
      ]
    },
    {
      "cell_type": "markdown",
      "source": [
        "#### Confusion Matrix for svm_clf test"
      ],
      "metadata": {
        "id": "Hf9Ij1B-E73O"
      }
    },
    {
      "cell_type": "code",
      "source": [
        "from sklearn.model_selection import cross_val_predict\n",
        "\n",
        "y_test_svm_pred = cross_val_predict(svm_clf, X_test_svm, y_test_svm, cv=3)"
      ],
      "metadata": {
        "id": "dVwdRcIME73P"
      },
      "execution_count": null,
      "outputs": []
    },
    {
      "cell_type": "code",
      "source": [
        "from sklearn.metrics import confusion_matrix\n",
        "cm = confusion_matrix(y_test_svm, y_test_svm_pred)\n",
        "cm"
      ],
      "metadata": {
        "colab": {
          "base_uri": "https://localhost:8080/"
        },
        "outputId": "1f9c7566-bfec-423f-b319-762cccb82171",
        "id": "AfwHL_BHE73P"
      },
      "execution_count": null,
      "outputs": [
        {
          "output_type": "execute_result",
          "data": {
            "text/plain": [
              "array([[252,  50],\n",
              "       [  2, 232]])"
            ]
          },
          "metadata": {},
          "execution_count": 64
        }
      ]
    },
    {
      "cell_type": "code",
      "source": [
        "from sklearn.metrics import precision_score, recall_score\n",
        "precision_score(y_test_svm, y_test_svm_pred).round(5)"
      ],
      "metadata": {
        "colab": {
          "base_uri": "https://localhost:8080/"
        },
        "outputId": "318d5b3a-b7ac-45f6-94b5-662b064dd019",
        "id": "XMk47kGEE73P"
      },
      "execution_count": null,
      "outputs": [
        {
          "output_type": "execute_result",
          "data": {
            "text/plain": [
              "0.8227"
            ]
          },
          "metadata": {},
          "execution_count": 65
        }
      ]
    },
    {
      "cell_type": "code",
      "source": [
        "recall_score(y_test_svm, y_test_svm_pred).round(5)"
      ],
      "metadata": {
        "colab": {
          "base_uri": "https://localhost:8080/"
        },
        "outputId": "305f3b98-31c3-4078-f9ed-967d03b86878",
        "id": "av971hsWE73P"
      },
      "execution_count": null,
      "outputs": [
        {
          "output_type": "execute_result",
          "data": {
            "text/plain": [
              "0.99145"
            ]
          },
          "metadata": {},
          "execution_count": 66
        }
      ]
    },
    {
      "cell_type": "code",
      "source": [
        "from sklearn.metrics import f1_score\n",
        "f1_score(y_test_svm, y_test_svm_pred).round(5)"
      ],
      "metadata": {
        "colab": {
          "base_uri": "https://localhost:8080/"
        },
        "outputId": "59d53b49-5b3f-42da-8024-1dfd43d3add7",
        "id": "yM0VJ7koE73P"
      },
      "execution_count": null,
      "outputs": [
        {
          "output_type": "execute_result",
          "data": {
            "text/plain": [
              "0.89922"
            ]
          },
          "metadata": {},
          "execution_count": 67
        }
      ]
    },
    {
      "cell_type": "code",
      "source": [
        "from sklearn.metrics import ConfusionMatrixDisplay\n",
        "ConfusionMatrixDisplay.from_predictions(y_test_svm, y_test_svm_pred)\n",
        "save_fig(\"dga_wo_svm_test_cm\")\n",
        "plt.show"
      ],
      "metadata": {
        "id": "ByDBle9NE1_r",
        "colab": {
          "base_uri": "https://localhost:8080/"
        },
        "outputId": "44045959-80c9-4bef-8b56-c645e3b04694"
      },
      "execution_count": null,
      "outputs": [
        {
          "output_type": "execute_result",
          "data": {
            "text/plain": [
              "<function matplotlib.pyplot.show(*args, **kw)>"
            ]
          },
          "metadata": {},
          "execution_count": 68
        },
        {
          "output_type": "display_data",
          "data": {
            "text/plain": [
              "<Figure size 432x288 with 2 Axes>"
            ],
            "image/png": "[encoded data removed]"
          },
          "metadata": {
            "needs_background": "light"
          }
        }
      ]
    },
    {
      "cell_type": "markdown",
      "source": [
        "### ✅Decision Tree (DT) classifier"
      ],
      "metadata": {
        "id": "tERwVzByBxmR"
      }
    },
    {
      "cell_type": "code",
      "source": [
        "from sklearn.tree import DecisionTreeClassifier\n",
        "from sklearn.model_selection import GridSearchCV\n",
        "from pprint import pprint\n",
        "dt_clf = DecisionTreeClassifier()\n"
      ],
      "metadata": {
        "id": "8C0xWQD6BxmR"
      },
      "execution_count": null,
      "outputs": []
    },
    {
      "cell_type": "code",
      "source": [
        "print('Parameters currently in use:\\n')\n",
        "pprint(dt_clf.get_params())"
      ],
      "metadata": {
        "colab": {
          "base_uri": "https://localhost:8080/"
        },
        "id": "y3qeIgKLv3Vv",
        "outputId": "602a15be-2aec-41f6-fb9e-a0c36c6a790c"
      },
      "execution_count": null,
      "outputs": [
        {
          "output_type": "stream",
          "name": "stdout",
          "text": [
            "Parameters currently in use:\n",
            "\n",
            "{'ccp_alpha': 0.0,\n",
            " 'class_weight': None,\n",
            " 'criterion': 'gini',\n",
            " 'max_depth': None,\n",
            " 'max_features': None,\n",
            " 'max_leaf_nodes': None,\n",
            " 'min_impurity_decrease': 0.0,\n",
            " 'min_samples_leaf': 1,\n",
            " 'min_samples_split': 2,\n",
            " 'min_weight_fraction_leaf': 0.0,\n",
            " 'random_state': None,\n",
            " 'splitter': 'best'}\n"
          ]
        }
      ]
    },
    {
      "cell_type": "code",
      "source": [
        "param_grid = {'max_depth': [1, 2, 3, 4, 5,6,7,8,9,10,15,20,30,40,50],\n",
        "              'max_features': [1, 2, 3, 4,5,6,7,8,9,10],\n",
        "              'random_state':[0, 1, 2, 3, 4, 5, 10, 15,20,35,50,80,100,150,180,200],\n",
        "              'criterion':['gini','entropy'],\n",
        "              }"
      ],
      "metadata": {
        "id": "ZKvZpxjuwEjb"
      },
      "execution_count": null,
      "outputs": []
    },
    {
      "cell_type": "code",
      "source": [
        "#GSCV_dt_clf = GridSearchCV(dt_clf, param_grid=param_grid, cv=10)\n",
        "#GSCV_dt_clf.fit(X_train, y_train)"
      ],
      "metadata": {
        "id": "GXV0-ANhwtAE"
      },
      "execution_count": null,
      "outputs": []
    },
    {
      "cell_type": "code",
      "source": [
        "#GSCV_dt_clf.best_params_"
      ],
      "metadata": {
        "id": "bt3RZ_5Hw6D6"
      },
      "execution_count": null,
      "outputs": []
    },
    {
      "cell_type": "code",
      "source": [
        "dt_clf1 = DecisionTreeClassifier(criterion='entropy', max_depth=4, max_features=7, random_state=80)"
      ],
      "metadata": {
        "id": "lQ59u8R1xSpk"
      },
      "execution_count": null,
      "outputs": []
    },
    {
      "cell_type": "code",
      "source": [
        "dt_clf1.fit(X_train, y_train)"
      ],
      "metadata": {
        "colab": {
          "base_uri": "https://localhost:8080/"
        },
        "id": "ItO1YyIpxY2V",
        "outputId": "c3301f92-2a8e-41a2-bc05-c5ed0cb8fa2e"
      },
      "execution_count": null,
      "outputs": [
        {
          "output_type": "execute_result",
          "data": {
            "text/plain": [
              "DecisionTreeClassifier(criterion='entropy', max_depth=4, max_features=7,\n",
              "                       random_state=80)"
            ]
          },
          "metadata": {},
          "execution_count": 75
        }
      ]
    },
    {
      "cell_type": "code",
      "source": [
        "print(f\"Decision Tree scored {dt_clf1.score(X_test, y_test).round(5)} on test\")\n",
        "print(f\"Decision Tree scored {dt_clf1.score(X_train, y_train).round(5)} on train\")"
      ],
      "metadata": {
        "colab": {
          "base_uri": "https://localhost:8080/"
        },
        "outputId": "008d19bf-6189-4e97-a5cf-ac59119095fd",
        "id": "zGBvw3RXBxmS"
      },
      "execution_count": null,
      "outputs": [
        {
          "output_type": "stream",
          "name": "stdout",
          "text": [
            "Decision Tree scored 0.9347 on test\n",
            "Decision Tree scored 0.9448 on train\n"
          ]
        }
      ]
    },
    {
      "cell_type": "markdown",
      "source": [
        "#### Confusion Matrix for dt_clf1 train"
      ],
      "metadata": {
        "id": "jq0NFEP2BxmS"
      }
    },
    {
      "cell_type": "code",
      "source": [
        "from sklearn.model_selection import cross_val_predict\n",
        "\n",
        "y_train_pred = cross_val_predict(dt_clf1, X_train, y_train, cv=3)"
      ],
      "metadata": {
        "id": "QQDteKXRBxmT"
      },
      "execution_count": null,
      "outputs": []
    },
    {
      "cell_type": "code",
      "source": [
        "from sklearn.metrics import confusion_matrix\n",
        "cm = confusion_matrix(y_train, y_train_pred)\n",
        "cm"
      ],
      "metadata": {
        "colab": {
          "base_uri": "https://localhost:8080/"
        },
        "outputId": "791126ec-38a6-4eb1-f617-205ecc766399",
        "id": "INX01YOyBxmT"
      },
      "execution_count": null,
      "outputs": [
        {
          "output_type": "execute_result",
          "data": {
            "text/plain": [
              "array([[632,  64],\n",
              "       [ 12, 542]])"
            ]
          },
          "metadata": {},
          "execution_count": 78
        }
      ]
    },
    {
      "cell_type": "code",
      "source": [
        "from sklearn.metrics import precision_score, recall_score\n",
        "precision_score(y_train, y_train_pred).round(5)"
      ],
      "metadata": {
        "colab": {
          "base_uri": "https://localhost:8080/"
        },
        "outputId": "6d3ff6c8-5277-4524-9e7a-c77cc4da471c",
        "id": "Jf-4HRjnBxmT"
      },
      "execution_count": null,
      "outputs": [
        {
          "output_type": "execute_result",
          "data": {
            "text/plain": [
              "0.89439"
            ]
          },
          "metadata": {},
          "execution_count": 79
        }
      ]
    },
    {
      "cell_type": "code",
      "source": [
        "recall_score(y_train, y_train_pred).round(5)"
      ],
      "metadata": {
        "colab": {
          "base_uri": "https://localhost:8080/"
        },
        "outputId": "04a01f76-ea40-4d30-b239-44ea0deb3fa8",
        "id": "m_jNW-puBxmU"
      },
      "execution_count": null,
      "outputs": [
        {
          "output_type": "execute_result",
          "data": {
            "text/plain": [
              "0.97834"
            ]
          },
          "metadata": {},
          "execution_count": 80
        }
      ]
    },
    {
      "cell_type": "code",
      "source": [
        "from sklearn.metrics import f1_score\n",
        "f1_score(y_train, y_train_pred).round(5)"
      ],
      "metadata": {
        "colab": {
          "base_uri": "https://localhost:8080/"
        },
        "outputId": "968ef5a5-2cdb-4c1e-9924-929820507f30",
        "id": "b5WCRkjYBxmU"
      },
      "execution_count": null,
      "outputs": [
        {
          "output_type": "execute_result",
          "data": {
            "text/plain": [
              "0.93448"
            ]
          },
          "metadata": {},
          "execution_count": 81
        }
      ]
    },
    {
      "cell_type": "code",
      "source": [
        "from sklearn.metrics import ConfusionMatrixDisplay\n",
        "ConfusionMatrixDisplay.from_predictions(y_train, y_train_pred)\n",
        "save_fig(\"dga_wo_dt_train_cm\")\n",
        "plt.show"
      ],
      "metadata": {
        "colab": {
          "base_uri": "https://localhost:8080/"
        },
        "id": "58D6flxjFcLl",
        "outputId": "282ca5b3-3e78-49aa-9ca7-f9cd3e8ed65b"
      },
      "execution_count": null,
      "outputs": [
        {
          "output_type": "execute_result",
          "data": {
            "text/plain": [
              "<function matplotlib.pyplot.show(*args, **kw)>"
            ]
          },
          "metadata": {},
          "execution_count": 82
        },
        {
          "output_type": "display_data",
          "data": {
            "text/plain": [
              "<Figure size 432x288 with 2 Axes>"
            ],
            "image/png": "[encoded data removed]"
          },
          "metadata": {
            "needs_background": "light"
          }
        }
      ]
    },
    {
      "cell_type": "markdown",
      "source": [
        "#### Confusion Matrix for dt_clf1 test"
      ],
      "metadata": {
        "id": "yhD6wJhiGTTf"
      }
    },
    {
      "cell_type": "code",
      "source": [
        "from sklearn.model_selection import cross_val_predict\n",
        "\n",
        "y_test_pred = cross_val_predict(dt_clf1, X_test, y_test, cv=3)"
      ],
      "metadata": {
        "id": "hkr3RulXGTTf"
      },
      "execution_count": null,
      "outputs": []
    },
    {
      "cell_type": "code",
      "source": [
        "from sklearn.metrics import confusion_matrix\n",
        "cm = confusion_matrix(y_test, y_test_pred)\n",
        "cm"
      ],
      "metadata": {
        "colab": {
          "base_uri": "https://localhost:8080/"
        },
        "outputId": "75c74584-a60d-448e-ee56-cf727303fba1",
        "id": "hZZlOk1pGTTg"
      },
      "execution_count": null,
      "outputs": [
        {
          "output_type": "execute_result",
          "data": {
            "text/plain": [
              "array([[274,  28],\n",
              "       [ 21, 213]])"
            ]
          },
          "metadata": {},
          "execution_count": 84
        }
      ]
    },
    {
      "cell_type": "code",
      "source": [
        "from sklearn.metrics import precision_score, recall_score\n",
        "precision_score(y_test, y_test_pred).round(5)"
      ],
      "metadata": {
        "colab": {
          "base_uri": "https://localhost:8080/"
        },
        "outputId": "d7927869-3047-45cd-ff4d-5e2dd9c1c800",
        "id": "NiSSjrplGTTg"
      },
      "execution_count": null,
      "outputs": [
        {
          "output_type": "execute_result",
          "data": {
            "text/plain": [
              "0.88382"
            ]
          },
          "metadata": {},
          "execution_count": 85
        }
      ]
    },
    {
      "cell_type": "code",
      "source": [
        "recall_score(y_test, y_test_pred).round(5)"
      ],
      "metadata": {
        "colab": {
          "base_uri": "https://localhost:8080/"
        },
        "outputId": "e003220f-7406-4ac8-e382-910ad54d3989",
        "id": "F6q-alaqGTTg"
      },
      "execution_count": null,
      "outputs": [
        {
          "output_type": "execute_result",
          "data": {
            "text/plain": [
              "0.91026"
            ]
          },
          "metadata": {},
          "execution_count": 86
        }
      ]
    },
    {
      "cell_type": "code",
      "source": [
        "from sklearn.metrics import f1_score\n",
        "f1_score(y_test, y_test_pred).round(5)"
      ],
      "metadata": {
        "colab": {
          "base_uri": "https://localhost:8080/"
        },
        "outputId": "577dac3e-969c-4247-f899-8936e384796a",
        "id": "cj94fifOGTTg"
      },
      "execution_count": null,
      "outputs": [
        {
          "output_type": "execute_result",
          "data": {
            "text/plain": [
              "0.89684"
            ]
          },
          "metadata": {},
          "execution_count": 87
        }
      ]
    },
    {
      "cell_type": "code",
      "source": [
        "from sklearn.metrics import ConfusionMatrixDisplay\n",
        "ConfusionMatrixDisplay.from_predictions(y_test, y_test_pred)\n",
        "save_fig(\"dga_wo_dt_test_cm\")\n",
        "plt.show"
      ],
      "metadata": {
        "id": "wNqYEPtlGBcH",
        "colab": {
          "base_uri": "https://localhost:8080/"
        },
        "outputId": "ac78d488-966c-4975-cfc4-8f2341c66d24"
      },
      "execution_count": null,
      "outputs": [
        {
          "output_type": "execute_result",
          "data": {
            "text/plain": [
              "<function matplotlib.pyplot.show(*args, **kw)>"
            ]
          },
          "metadata": {},
          "execution_count": 88
        },
        {
          "output_type": "display_data",
          "data": {
            "text/plain": [
              "<Figure size 432x288 with 2 Axes>"
            ],
            "image/png": "[encoded data removed]"
          },
          "metadata": {
            "needs_background": "light"
          }
        }
      ]
    },
    {
      "cell_type": "markdown",
      "source": [
        "### Bagging Decision Tree (BG) classifier (ensemble)"
      ],
      "metadata": {
        "id": "A27x2z00Ndy_"
      }
    },
    {
      "cell_type": "code",
      "source": [
        "from sklearn.ensemble import BaggingClassifier\n",
        "from sklearn.tree import DecisionTreeClassifier\n",
        "# max_samples: maximum size 0.5=50% of each sample taken from the full dataset\n",
        "# max_features: maximum of features 1=100% taken here all 10K \n",
        "# n_estimators: number of decision trees \n",
        "bg_clf=BaggingClassifier(DecisionTreeClassifier(),max_samples=0.5,max_features=1.0,n_estimators=10)\n",
        "bg_clf.fit(X_train, y_train)\n"
      ],
      "metadata": {
        "colab": {
          "base_uri": "https://localhost:8080/"
        },
        "outputId": "de927476-b1cc-4c25-8b04-868998ec0611",
        "id": "-irCB0E7NdzA"
      },
      "execution_count": null,
      "outputs": [
        {
          "output_type": "execute_result",
          "data": {
            "text/plain": [
              "BaggingClassifier(base_estimator=DecisionTreeClassifier(), max_samples=0.5)"
            ]
          },
          "metadata": {},
          "execution_count": 89
        }
      ]
    },
    {
      "cell_type": "code",
      "source": [
        "print(f\"Bagging Decision Tree scored {bg_clf.score(X_test, y_test).round(5)} on test\")\n",
        "print(f\"Bagging Decision Tree scored {bg_clf.score(X_train, y_train).round(5)} on train\")"
      ],
      "metadata": {
        "colab": {
          "base_uri": "https://localhost:8080/"
        },
        "outputId": "3f0e8a7c-f6c9-4790-d60c-57f7ffc523dd",
        "id": "h8vRAPloNdzA"
      },
      "execution_count": null,
      "outputs": [
        {
          "output_type": "stream",
          "name": "stdout",
          "text": [
            "Bagging Decision Tree scored 0.92537 on test\n",
            "Bagging Decision Tree scored 0.9752 on train\n"
          ]
        }
      ]
    },
    {
      "cell_type": "markdown",
      "source": [
        "#### Confusion Matrix for bg_clf train"
      ],
      "metadata": {
        "id": "fWDoVNX4NdzB"
      }
    },
    {
      "cell_type": "code",
      "source": [
        "from sklearn.model_selection import cross_val_predict\n",
        "\n",
        "y_train_pred = cross_val_predict(bg_clf, X_train, y_train, cv=3)"
      ],
      "metadata": {
        "id": "xxUDEUScNdzB"
      },
      "execution_count": null,
      "outputs": []
    },
    {
      "cell_type": "code",
      "source": [
        "from sklearn.metrics import confusion_matrix\n",
        "cm = confusion_matrix(y_train, y_train_pred)\n",
        "cm"
      ],
      "metadata": {
        "colab": {
          "base_uri": "https://localhost:8080/"
        },
        "outputId": "8983a57a-ed6a-40c1-8b1d-4e5f27a2d53b",
        "id": "50NpffJ_NdzB"
      },
      "execution_count": null,
      "outputs": [
        {
          "output_type": "execute_result",
          "data": {
            "text/plain": [
              "array([[631,  65],\n",
              "       [ 36, 518]])"
            ]
          },
          "metadata": {},
          "execution_count": 92
        }
      ]
    },
    {
      "cell_type": "code",
      "source": [
        "from sklearn.metrics import precision_score, recall_score\n",
        "precision_score(y_train, y_train_pred).round(5)"
      ],
      "metadata": {
        "colab": {
          "base_uri": "https://localhost:8080/"
        },
        "outputId": "473a0891-dcda-4361-c0ca-e22f3ab6329b",
        "id": "_Xl_bzYzNdzC"
      },
      "execution_count": null,
      "outputs": [
        {
          "output_type": "execute_result",
          "data": {
            "text/plain": [
              "0.88851"
            ]
          },
          "metadata": {},
          "execution_count": 93
        }
      ]
    },
    {
      "cell_type": "code",
      "source": [
        "recall_score(y_train, y_train_pred).round(5)"
      ],
      "metadata": {
        "colab": {
          "base_uri": "https://localhost:8080/"
        },
        "outputId": "f130cabe-5f7b-477a-d574-fdb3ff1aa4d2",
        "id": "i_MsVFtbNdzC"
      },
      "execution_count": null,
      "outputs": [
        {
          "output_type": "execute_result",
          "data": {
            "text/plain": [
              "0.93502"
            ]
          },
          "metadata": {},
          "execution_count": 94
        }
      ]
    },
    {
      "cell_type": "code",
      "source": [
        "from sklearn.metrics import f1_score\n",
        "f1_score(y_train, y_train_pred).round(5)"
      ],
      "metadata": {
        "colab": {
          "base_uri": "https://localhost:8080/"
        },
        "outputId": "3c4744ba-500f-42ab-ce14-4cfdbf78ab95",
        "id": "WIFr9DJmNdzD"
      },
      "execution_count": null,
      "outputs": [
        {
          "output_type": "execute_result",
          "data": {
            "text/plain": [
              "0.91117"
            ]
          },
          "metadata": {},
          "execution_count": 95
        }
      ]
    },
    {
      "cell_type": "code",
      "source": [
        "from sklearn.metrics import ConfusionMatrixDisplay\n",
        "ConfusionMatrixDisplay.from_predictions(y_train, y_train_pred)\n",
        "save_fig(\"dga_wo_bg_train_cm\")\n",
        "plt.show"
      ],
      "metadata": {
        "colab": {
          "base_uri": "https://localhost:8080/"
        },
        "id": "EpWg5xeeG36j",
        "outputId": "84272a8e-c650-4084-cb99-c888d0190723"
      },
      "execution_count": null,
      "outputs": [
        {
          "output_type": "execute_result",
          "data": {
            "text/plain": [
              "<function matplotlib.pyplot.show(*args, **kw)>"
            ]
          },
          "metadata": {},
          "execution_count": 96
        },
        {
          "output_type": "display_data",
          "data": {
            "text/plain": [
              "<Figure size 432x288 with 2 Axes>"
            ],
            "image/png": "[encoded data removed]"
          },
          "metadata": {
            "needs_background": "light"
          }
        }
      ]
    },
    {
      "cell_type": "markdown",
      "source": [
        "#### Confusion Matrix for bg_clf test"
      ],
      "metadata": {
        "id": "KptbNLORHZQO"
      }
    },
    {
      "cell_type": "code",
      "source": [
        "from sklearn.model_selection import cross_val_predict\n",
        "\n",
        "y_test_pred = cross_val_predict(bg_clf, X_test, y_test, cv=3)"
      ],
      "metadata": {
        "id": "4HuEM7jTHZQO"
      },
      "execution_count": null,
      "outputs": []
    },
    {
      "cell_type": "code",
      "source": [
        "from sklearn.metrics import confusion_matrix\n",
        "cm = confusion_matrix(y_test, y_test_pred)\n",
        "cm"
      ],
      "metadata": {
        "colab": {
          "base_uri": "https://localhost:8080/"
        },
        "outputId": "db909d07-8e3f-4bf2-9fd4-d1ceb485b3dc",
        "id": "bOBtSmc9HZQO"
      },
      "execution_count": null,
      "outputs": [
        {
          "output_type": "execute_result",
          "data": {
            "text/plain": [
              "array([[271,  31],\n",
              "       [ 23, 211]])"
            ]
          },
          "metadata": {},
          "execution_count": 98
        }
      ]
    },
    {
      "cell_type": "code",
      "source": [
        "from sklearn.metrics import precision_score, recall_score\n",
        "precision_score(y_test, y_test_pred).round(5)"
      ],
      "metadata": {
        "colab": {
          "base_uri": "https://localhost:8080/"
        },
        "outputId": "164a9871-67d6-4219-db98-8b590b4659f3",
        "id": "9dsbNcl7HZQP"
      },
      "execution_count": null,
      "outputs": [
        {
          "output_type": "execute_result",
          "data": {
            "text/plain": [
              "0.8719"
            ]
          },
          "metadata": {},
          "execution_count": 99
        }
      ]
    },
    {
      "cell_type": "code",
      "source": [
        "recall_score(y_test, y_test_pred).round(5)"
      ],
      "metadata": {
        "colab": {
          "base_uri": "https://localhost:8080/"
        },
        "outputId": "e9767bc3-caec-4360-c70c-12d6ba43e4fd",
        "id": "rF1Ha89VHZQP"
      },
      "execution_count": null,
      "outputs": [
        {
          "output_type": "execute_result",
          "data": {
            "text/plain": [
              "0.90171"
            ]
          },
          "metadata": {},
          "execution_count": 100
        }
      ]
    },
    {
      "cell_type": "code",
      "source": [
        "from sklearn.metrics import f1_score\n",
        "f1_score(y_test, y_test_pred).round(5)"
      ],
      "metadata": {
        "colab": {
          "base_uri": "https://localhost:8080/"
        },
        "outputId": "ec80ece6-c754-4e0b-a683-1f2dd20d86ae",
        "id": "iLJzK_JSHZQP"
      },
      "execution_count": null,
      "outputs": [
        {
          "output_type": "execute_result",
          "data": {
            "text/plain": [
              "0.88655"
            ]
          },
          "metadata": {},
          "execution_count": 101
        }
      ]
    },
    {
      "cell_type": "code",
      "source": [
        "from sklearn.metrics import ConfusionMatrixDisplay\n",
        "ConfusionMatrixDisplay.from_predictions(y_test, y_test_pred)\n",
        "save_fig(\"dga_wo_bg_test_cm\")\n",
        "plt.show"
      ],
      "metadata": {
        "id": "tSrjlpUpF3Fv",
        "colab": {
          "base_uri": "https://localhost:8080/"
        },
        "outputId": "64fcde38-0ab7-4fc6-fb7a-25696b22d12d"
      },
      "execution_count": null,
      "outputs": [
        {
          "output_type": "execute_result",
          "data": {
            "text/plain": [
              "<function matplotlib.pyplot.show(*args, **kw)>"
            ]
          },
          "metadata": {},
          "execution_count": 102
        },
        {
          "output_type": "display_data",
          "data": {
            "text/plain": [
              "<Figure size 432x288 with 2 Axes>"
            ],
            "image/png": "[encoded data removed]"
          },
          "metadata": {
            "needs_background": "light"
          }
        }
      ]
    },
    {
      "cell_type": "markdown",
      "source": [
        "### ✅Boosting Decision Tree (ADB) classifier (ensemble). GridSearchCV"
      ],
      "metadata": {
        "id": "-aPg2aXxOzXe"
      }
    },
    {
      "cell_type": "code",
      "source": [
        "from sklearn.ensemble import AdaBoostClassifier\n",
        "from sklearn.tree import DecisionTreeClassifier\n",
        "from sklearn.model_selection import GridSearchCV\n",
        "from pprint import pprint"
      ],
      "metadata": {
        "id": "LjqC-fyebGRZ"
      },
      "execution_count": null,
      "outputs": []
    },
    {
      "cell_type": "code",
      "source": [
        "adb_clf = AdaBoostClassifier(DecisionTreeClassifier())"
      ],
      "metadata": {
        "id": "gXyAniVubNF3"
      },
      "execution_count": null,
      "outputs": []
    },
    {
      "cell_type": "code",
      "source": [
        "print('Parameters currently in use:\\n')\n",
        "pprint(adb_clf.get_params())"
      ],
      "metadata": {
        "colab": {
          "base_uri": "https://localhost:8080/"
        },
        "id": "tPPSpowHbfqR",
        "outputId": "7537783c-7ca1-4a3e-e159-5f27935571d7"
      },
      "execution_count": null,
      "outputs": [
        {
          "output_type": "stream",
          "name": "stdout",
          "text": [
            "Parameters currently in use:\n",
            "\n",
            "{'algorithm': 'SAMME.R',\n",
            " 'base_estimator': DecisionTreeClassifier(),\n",
            " 'base_estimator__ccp_alpha': 0.0,\n",
            " 'base_estimator__class_weight': None,\n",
            " 'base_estimator__criterion': 'gini',\n",
            " 'base_estimator__max_depth': None,\n",
            " 'base_estimator__max_features': None,\n",
            " 'base_estimator__max_leaf_nodes': None,\n",
            " 'base_estimator__min_impurity_decrease': 0.0,\n",
            " 'base_estimator__min_samples_leaf': 1,\n",
            " 'base_estimator__min_samples_split': 2,\n",
            " 'base_estimator__min_weight_fraction_leaf': 0.0,\n",
            " 'base_estimator__random_state': None,\n",
            " 'base_estimator__splitter': 'best',\n",
            " 'learning_rate': 1.0,\n",
            " 'n_estimators': 50,\n",
            " 'random_state': None}\n"
          ]
        }
      ]
    },
    {
      "cell_type": "code",
      "source": [
        "param_grid = {'base_estimator__max_depth':[i for i in range(2,11,2)],\n",
        "              'base_estimator__min_samples_leaf':[5,10],\n",
        "              'n_estimators':[10,50,250,1000],\n",
        "              'learning_rate':[0.01,0.1]\n",
        "              }"
      ],
      "metadata": {
        "id": "YOZnh1b9brs3"
      },
      "execution_count": null,
      "outputs": []
    },
    {
      "cell_type": "code",
      "source": [
        "#GSCV_adb_clf = GridSearchCV(adb_clf, param_grid=param_grid, scoring='f1', n_jobs=-1)\n",
        "#GSCV_adb_clf.fit(X_train, y_train)"
      ],
      "metadata": {
        "id": "d0uj_YcPb9ig"
      },
      "execution_count": null,
      "outputs": []
    },
    {
      "cell_type": "code",
      "source": [
        "#GSCV_adb_clf.best_params_"
      ],
      "metadata": {
        "id": "RjYt-ffbtRIx"
      },
      "execution_count": null,
      "outputs": []
    },
    {
      "cell_type": "code",
      "source": [
        "adb_clf1 = AdaBoostClassifier(DecisionTreeClassifier(min_samples_leaf=5,max_depth=2),n_estimators=10,learning_rate=0.1)"
      ],
      "metadata": {
        "id": "9T4kVLEqtQ-0"
      },
      "execution_count": null,
      "outputs": []
    },
    {
      "cell_type": "code",
      "source": [
        "adb_clf1.fit(X_train, y_train)"
      ],
      "metadata": {
        "colab": {
          "base_uri": "https://localhost:8080/"
        },
        "id": "k9TgF7yjtQ2G",
        "outputId": "50737553-cd2f-4a50-8ac4-2cb2a682d9b8"
      },
      "execution_count": null,
      "outputs": [
        {
          "output_type": "execute_result",
          "data": {
            "text/plain": [
              "AdaBoostClassifier(base_estimator=DecisionTreeClassifier(max_depth=2,\n",
              "                                                         min_samples_leaf=5),\n",
              "                   learning_rate=0.1, n_estimators=10)"
            ]
          },
          "metadata": {},
          "execution_count": 110
        }
      ]
    },
    {
      "cell_type": "code",
      "source": [
        "print(f\"AdaBoost Classifier scored {adb_clf1.score(X_test, y_test).round(5)} on test\")\n",
        "print(f\"AdaBoost Classifier scored {adb_clf1.score(X_train, y_train).round(5)} on train\")"
      ],
      "metadata": {
        "colab": {
          "base_uri": "https://localhost:8080/"
        },
        "outputId": "3a1b86bb-96b7-438e-c074-5d204205a039",
        "id": "JWItlt8COzXf"
      },
      "execution_count": null,
      "outputs": [
        {
          "output_type": "stream",
          "name": "stdout",
          "text": [
            "AdaBoost Classifier scored 0.9347 on test\n",
            "AdaBoost Classifier scored 0.944 on train\n"
          ]
        }
      ]
    },
    {
      "cell_type": "markdown",
      "source": [
        "#### Confusion Matrix for adb_clf train"
      ],
      "metadata": {
        "id": "KxQI4QE-OzXf"
      }
    },
    {
      "cell_type": "code",
      "source": [
        "from sklearn.model_selection import cross_val_predict\n",
        "\n",
        "y_train_pred = cross_val_predict(adb_clf1, X_train, y_train, cv=3)"
      ],
      "metadata": {
        "id": "pwG2uuJSOzXf"
      },
      "execution_count": null,
      "outputs": []
    },
    {
      "cell_type": "code",
      "source": [
        "from sklearn.metrics import confusion_matrix\n",
        "cm = confusion_matrix(y_train, y_train_pred)\n",
        "cm"
      ],
      "metadata": {
        "colab": {
          "base_uri": "https://localhost:8080/"
        },
        "outputId": "dc7730f7-a18d-4a8a-fa87-e875213953c5",
        "id": "q4onkjRxOzXf"
      },
      "execution_count": null,
      "outputs": [
        {
          "output_type": "execute_result",
          "data": {
            "text/plain": [
              "array([[638,  58],\n",
              "       [ 18, 536]])"
            ]
          },
          "metadata": {},
          "execution_count": 113
        }
      ]
    },
    {
      "cell_type": "code",
      "source": [
        "from sklearn.metrics import precision_score, recall_score\n",
        "precision_score(y_train, y_train_pred).round(5)"
      ],
      "metadata": {
        "colab": {
          "base_uri": "https://localhost:8080/"
        },
        "outputId": "c2c1dca8-f3f7-4eae-db61-9a6b515546ad",
        "id": "ySanJJvVOzXf"
      },
      "execution_count": null,
      "outputs": [
        {
          "output_type": "execute_result",
          "data": {
            "text/plain": [
              "0.90236"
            ]
          },
          "metadata": {},
          "execution_count": 114
        }
      ]
    },
    {
      "cell_type": "code",
      "source": [
        "recall_score(y_train, y_train_pred).round(5)"
      ],
      "metadata": {
        "colab": {
          "base_uri": "https://localhost:8080/"
        },
        "outputId": "7e19629c-0911-4f1b-861d-7b9f539ddd5a",
        "id": "i286TrdkOzXf"
      },
      "execution_count": null,
      "outputs": [
        {
          "output_type": "execute_result",
          "data": {
            "text/plain": [
              "0.96751"
            ]
          },
          "metadata": {},
          "execution_count": 115
        }
      ]
    },
    {
      "cell_type": "code",
      "source": [
        "from sklearn.metrics import f1_score\n",
        "f1_score(y_train, y_train_pred).round(5)"
      ],
      "metadata": {
        "colab": {
          "base_uri": "https://localhost:8080/"
        },
        "outputId": "9490a003-f98c-4daa-bc75-fbd9620895f2",
        "id": "tjq48f0sOzXg"
      },
      "execution_count": null,
      "outputs": [
        {
          "output_type": "execute_result",
          "data": {
            "text/plain": [
              "0.9338"
            ]
          },
          "metadata": {},
          "execution_count": 116
        }
      ]
    },
    {
      "cell_type": "code",
      "source": [
        "from sklearn.metrics import ConfusionMatrixDisplay\n",
        "ConfusionMatrixDisplay.from_predictions(y_train, y_train_pred)\n",
        "save_fig(\"dga_wo_adb_train_cm\")\n",
        "plt.show"
      ],
      "metadata": {
        "colab": {
          "base_uri": "https://localhost:8080/"
        },
        "id": "RiUXAUzaI34H",
        "outputId": "4b18138f-bc1e-4fc5-a9f0-12fdfb4fd6cc"
      },
      "execution_count": null,
      "outputs": [
        {
          "output_type": "execute_result",
          "data": {
            "text/plain": [
              "<function matplotlib.pyplot.show(*args, **kw)>"
            ]
          },
          "metadata": {},
          "execution_count": 117
        },
        {
          "output_type": "display_data",
          "data": {
            "text/plain": [
              "<Figure size 432x288 with 2 Axes>"
            ],
            "image/png": "[encoded data removed]"
          },
          "metadata": {
            "needs_background": "light"
          }
        }
      ]
    },
    {
      "cell_type": "markdown",
      "source": [
        "#### Confusion Matrix for adb_clf test"
      ],
      "metadata": {
        "id": "PemSerD7JQA4"
      }
    },
    {
      "cell_type": "code",
      "source": [
        "from sklearn.model_selection import cross_val_predict\n",
        "\n",
        "y_test_pred = cross_val_predict(adb_clf1, X_test, y_test, cv=3)"
      ],
      "metadata": {
        "id": "Mw7X9hVVJQA5"
      },
      "execution_count": null,
      "outputs": []
    },
    {
      "cell_type": "code",
      "source": [
        "from sklearn.metrics import confusion_matrix\n",
        "cm = confusion_matrix(y_test, y_test_pred)\n",
        "cm"
      ],
      "metadata": {
        "colab": {
          "base_uri": "https://localhost:8080/"
        },
        "outputId": "72bdb1fa-f11c-4a3d-e8cb-d66d3b1eaaa3",
        "id": "PASwR4GMJQA5"
      },
      "execution_count": null,
      "outputs": [
        {
          "output_type": "execute_result",
          "data": {
            "text/plain": [
              "array([[269,  33],\n",
              "       [ 15, 219]])"
            ]
          },
          "metadata": {},
          "execution_count": 119
        }
      ]
    },
    {
      "cell_type": "code",
      "source": [
        "from sklearn.metrics import precision_score, recall_score\n",
        "precision_score(y_test, y_test_pred).round(5)"
      ],
      "metadata": {
        "colab": {
          "base_uri": "https://localhost:8080/"
        },
        "outputId": "0af893b3-fe80-4951-ea89-53e95e848367",
        "id": "P50PB2A4JQA5"
      },
      "execution_count": null,
      "outputs": [
        {
          "output_type": "execute_result",
          "data": {
            "text/plain": [
              "0.86905"
            ]
          },
          "metadata": {},
          "execution_count": 120
        }
      ]
    },
    {
      "cell_type": "code",
      "source": [
        "recall_score(y_test, y_test_pred).round(5)"
      ],
      "metadata": {
        "colab": {
          "base_uri": "https://localhost:8080/"
        },
        "outputId": "c4744069-c0d3-44b5-fe5d-615d67b78296",
        "id": "DiUR17lZJQA6"
      },
      "execution_count": null,
      "outputs": [
        {
          "output_type": "execute_result",
          "data": {
            "text/plain": [
              "0.9359"
            ]
          },
          "metadata": {},
          "execution_count": 121
        }
      ]
    },
    {
      "cell_type": "code",
      "source": [
        "from sklearn.metrics import f1_score\n",
        "f1_score(y_test, y_test_pred).round(5)"
      ],
      "metadata": {
        "colab": {
          "base_uri": "https://localhost:8080/"
        },
        "outputId": "d17b4f87-7a58-44bc-93ab-aa591f50550e",
        "id": "h71jJYGQJQA6"
      },
      "execution_count": null,
      "outputs": [
        {
          "output_type": "execute_result",
          "data": {
            "text/plain": [
              "0.90123"
            ]
          },
          "metadata": {},
          "execution_count": 122
        }
      ]
    },
    {
      "cell_type": "code",
      "source": [
        "from sklearn.metrics import ConfusionMatrixDisplay\n",
        "ConfusionMatrixDisplay.from_predictions(y_test, y_test_pred)\n",
        "save_fig(\"dga_wo_adb_test_cm\")\n",
        "plt.show"
      ],
      "metadata": {
        "id": "QcX_ZTxjJCig",
        "colab": {
          "base_uri": "https://localhost:8080/"
        },
        "outputId": "2640510f-735e-48c9-cf5d-3cdec3c14f84"
      },
      "execution_count": null,
      "outputs": [
        {
          "output_type": "execute_result",
          "data": {
            "text/plain": [
              "<function matplotlib.pyplot.show(*args, **kw)>"
            ]
          },
          "metadata": {},
          "execution_count": 123
        },
        {
          "output_type": "display_data",
          "data": {
            "text/plain": [
              "<Figure size 432x288 with 2 Axes>"
            ],
            "image/png": "[encoded data removed]"
          },
          "metadata": {
            "needs_background": "light"
          }
        }
      ]
    },
    {
      "cell_type": "markdown",
      "source": [
        "### ✅Random Forest (RF) classifier (ensemble)"
      ],
      "metadata": {
        "id": "4oiTulpMOPvt"
      }
    },
    {
      "cell_type": "code",
      "source": [
        "from sklearn.ensemble import RandomForestClassifier\n",
        "from sklearn.model_selection import GridSearchCV\n",
        "from pprint import pprint"
      ],
      "metadata": {
        "id": "cIqzeFOuOj5F"
      },
      "execution_count": null,
      "outputs": []
    },
    {
      "cell_type": "code",
      "source": [
        "rf_clf = RandomForestClassifier(random_state=42)"
      ],
      "metadata": {
        "id": "MaMjP3W-ZU_E"
      },
      "execution_count": null,
      "outputs": []
    },
    {
      "cell_type": "code",
      "source": [
        "print('Parameters currently in use:\\n')\n",
        "pprint(rf_clf.get_params())"
      ],
      "metadata": {
        "colab": {
          "base_uri": "https://localhost:8080/"
        },
        "id": "Px6pQ6mEZdei",
        "outputId": "21ac36f6-94ed-4455-f555-88f233af3ac5"
      },
      "execution_count": null,
      "outputs": [
        {
          "output_type": "stream",
          "name": "stdout",
          "text": [
            "Parameters currently in use:\n",
            "\n",
            "{'bootstrap': True,\n",
            " 'ccp_alpha': 0.0,\n",
            " 'class_weight': None,\n",
            " 'criterion': 'gini',\n",
            " 'max_depth': None,\n",
            " 'max_features': 'auto',\n",
            " 'max_leaf_nodes': None,\n",
            " 'max_samples': None,\n",
            " 'min_impurity_decrease': 0.0,\n",
            " 'min_samples_leaf': 1,\n",
            " 'min_samples_split': 2,\n",
            " 'min_weight_fraction_leaf': 0.0,\n",
            " 'n_estimators': 100,\n",
            " 'n_jobs': None,\n",
            " 'oob_score': False,\n",
            " 'random_state': 42,\n",
            " 'verbose': 0,\n",
            " 'warm_start': False}\n"
          ]
        }
      ]
    },
    {
      "cell_type": "code",
      "source": [
        "param_grid = { \n",
        "    'n_estimators': [200, 500],\n",
        "    'max_features': ['auto', 'sqrt', 'log2'],\n",
        "    'max_depth' : [4,5,6,7,8],\n",
        "    'criterion' :['gini', 'entropy']\n",
        "}"
      ],
      "metadata": {
        "id": "oBVPErS0_vQA"
      },
      "execution_count": null,
      "outputs": []
    },
    {
      "cell_type": "code",
      "source": [
        "#GSCV_rf_clf = GridSearchCV(estimator=rf_clf, param_grid=param_grid, cv=5)\n",
        "#GSCV_rf_clf.fit(X_train, y_train)\n"
      ],
      "metadata": {
        "id": "Lp_bph7b_7oF"
      },
      "execution_count": null,
      "outputs": []
    },
    {
      "cell_type": "code",
      "source": [
        "#GSCV_rf_clf.best_params_"
      ],
      "metadata": {
        "id": "uJattruzBFHT"
      },
      "execution_count": null,
      "outputs": []
    },
    {
      "cell_type": "code",
      "source": [
        "rf_clf1 = RandomForestClassifier(random_state=42, max_features='auto', n_estimators=200, \\\n",
        "                                 max_depth=6, criterion='gini')"
      ],
      "metadata": {
        "id": "f5MGLYVvBWAD"
      },
      "execution_count": null,
      "outputs": []
    },
    {
      "cell_type": "code",
      "source": [
        "rf_clf1.fit(X_train, y_train)"
      ],
      "metadata": {
        "colab": {
          "base_uri": "https://localhost:8080/"
        },
        "id": "cUEt3w2RB3PA",
        "outputId": "0fc8224a-2cf4-4aaa-dd11-332fa22fb474"
      },
      "execution_count": null,
      "outputs": [
        {
          "output_type": "execute_result",
          "data": {
            "text/plain": [
              "RandomForestClassifier(max_depth=6, n_estimators=200, random_state=42)"
            ]
          },
          "metadata": {},
          "execution_count": 131
        }
      ]
    },
    {
      "cell_type": "code",
      "source": [
        "print(f\"Random Forest scored {rf_clf1.score(X_test, y_test).round(5)} on test\")\n",
        "print(f\"Random Forest scored {rf_clf1.score(X_train, y_train).round(5)} on train\")"
      ],
      "metadata": {
        "colab": {
          "base_uri": "https://localhost:8080/"
        },
        "id": "-vZdijGVV-8D",
        "outputId": "f76fa82c-6b70-4e1c-ac51-c874abdbb8e0"
      },
      "execution_count": null,
      "outputs": [
        {
          "output_type": "stream",
          "name": "stdout",
          "text": [
            "Random Forest scored 0.93657 on test\n",
            "Random Forest scored 0.9504 on train\n"
          ]
        }
      ]
    },
    {
      "cell_type": "markdown",
      "source": [
        "#### Confusion Matrix for rf_clf1 train"
      ],
      "metadata": {
        "id": "q8XXGfdtahvn"
      }
    },
    {
      "cell_type": "code",
      "source": [
        "from sklearn.model_selection import cross_val_predict\n",
        "\n",
        "y_train_pred = cross_val_predict(rf_clf1, X_train, y_train, cv=3)"
      ],
      "metadata": {
        "id": "-spnHbs_GggK"
      },
      "execution_count": null,
      "outputs": []
    },
    {
      "cell_type": "code",
      "source": [
        "from sklearn.metrics import confusion_matrix\n",
        "cm = confusion_matrix(y_train, y_train_pred)\n",
        "cm"
      ],
      "metadata": {
        "id": "ImIsf67tG5i8",
        "colab": {
          "base_uri": "https://localhost:8080/"
        },
        "outputId": "1b2c3f70-b316-49b6-a2a4-6e976d97b03f"
      },
      "execution_count": null,
      "outputs": [
        {
          "output_type": "execute_result",
          "data": {
            "text/plain": [
              "array([[631,  65],\n",
              "       [ 15, 539]])"
            ]
          },
          "metadata": {},
          "execution_count": 134
        }
      ]
    },
    {
      "cell_type": "code",
      "source": [
        "from sklearn.metrics import precision_score, recall_score\n",
        "precision_score(y_train, y_train_pred).round(5)"
      ],
      "metadata": {
        "id": "2BEMdN2cHOLl",
        "colab": {
          "base_uri": "https://localhost:8080/"
        },
        "outputId": "cd099c27-884d-46d4-dc11-56d34d4b092a"
      },
      "execution_count": null,
      "outputs": [
        {
          "output_type": "execute_result",
          "data": {
            "text/plain": [
              "0.89238"
            ]
          },
          "metadata": {},
          "execution_count": 135
        }
      ]
    },
    {
      "cell_type": "code",
      "source": [
        "recall_score(y_train, y_train_pred).round(5)"
      ],
      "metadata": {
        "id": "VmGrN3xrHcpD",
        "colab": {
          "base_uri": "https://localhost:8080/"
        },
        "outputId": "8a2479f9-b382-41b7-c10e-846f2e3a5683"
      },
      "execution_count": null,
      "outputs": [
        {
          "output_type": "execute_result",
          "data": {
            "text/plain": [
              "0.97292"
            ]
          },
          "metadata": {},
          "execution_count": 136
        }
      ]
    },
    {
      "cell_type": "code",
      "source": [
        "from sklearn.metrics import f1_score\n",
        "f1_score(y_train, y_train_pred).round(5)"
      ],
      "metadata": {
        "id": "EB0NZ27-HhuH",
        "colab": {
          "base_uri": "https://localhost:8080/"
        },
        "outputId": "f005a2cd-4336-41a7-9844-c902ff342d5a"
      },
      "execution_count": null,
      "outputs": [
        {
          "output_type": "execute_result",
          "data": {
            "text/plain": [
              "0.93092"
            ]
          },
          "metadata": {},
          "execution_count": 137
        }
      ]
    },
    {
      "cell_type": "code",
      "source": [
        "from sklearn.metrics import ConfusionMatrixDisplay\n",
        "ConfusionMatrixDisplay.from_predictions(y_train, y_train_pred)\n",
        "save_fig(\"dga_wo_rf_train_cm\")\n",
        "plt.show"
      ],
      "metadata": {
        "colab": {
          "base_uri": "https://localhost:8080/"
        },
        "id": "HAxWKbDZJjzb",
        "outputId": "4a49654c-a086-4fbc-ea28-9c6de207da05"
      },
      "execution_count": null,
      "outputs": [
        {
          "output_type": "execute_result",
          "data": {
            "text/plain": [
              "<function matplotlib.pyplot.show(*args, **kw)>"
            ]
          },
          "metadata": {},
          "execution_count": 138
        },
        {
          "output_type": "display_data",
          "data": {
            "text/plain": [
              "<Figure size 432x288 with 2 Axes>"
            ],
            "image/png": "[encoded data removed]"
          },
          "metadata": {
            "needs_background": "light"
          }
        }
      ]
    },
    {
      "cell_type": "markdown",
      "source": [
        "#### Confusion Matrix for rf_clf1 test"
      ],
      "metadata": {
        "id": "yB1nXAPnJ1mm"
      }
    },
    {
      "cell_type": "code",
      "source": [
        "from sklearn.model_selection import cross_val_predict\n",
        "\n",
        "y_test_pred = cross_val_predict(rf_clf1, X_test, y_test, cv=3)"
      ],
      "metadata": {
        "id": "uDtUP9srJ1mn"
      },
      "execution_count": null,
      "outputs": []
    },
    {
      "cell_type": "code",
      "source": [
        "from sklearn.metrics import confusion_matrix\n",
        "cm = confusion_matrix(y_test, y_test_pred)\n",
        "cm"
      ],
      "metadata": {
        "colab": {
          "base_uri": "https://localhost:8080/"
        },
        "outputId": "6df511c2-ab4d-4458-9196-f8f6cb5aa5d5",
        "id": "Q-TQ6J_qJ1mn"
      },
      "execution_count": null,
      "outputs": [
        {
          "output_type": "execute_result",
          "data": {
            "text/plain": [
              "array([[270,  32],\n",
              "       [ 11, 223]])"
            ]
          },
          "metadata": {},
          "execution_count": 140
        }
      ]
    },
    {
      "cell_type": "code",
      "source": [
        "from sklearn.metrics import precision_score, recall_score\n",
        "precision_score(y_test, y_test_pred).round(5)"
      ],
      "metadata": {
        "colab": {
          "base_uri": "https://localhost:8080/"
        },
        "outputId": "0520b0ab-2754-428b-ba2c-40a24d32028c",
        "id": "iz5RDf2yJ1mn"
      },
      "execution_count": null,
      "outputs": [
        {
          "output_type": "execute_result",
          "data": {
            "text/plain": [
              "0.87451"
            ]
          },
          "metadata": {},
          "execution_count": 141
        }
      ]
    },
    {
      "cell_type": "code",
      "source": [
        "recall_score(y_test, y_test_pred).round(5)"
      ],
      "metadata": {
        "colab": {
          "base_uri": "https://localhost:8080/"
        },
        "outputId": "9f33f585-fa5d-4621-d035-7a0a766889d4",
        "id": "MAE736VZJ1mn"
      },
      "execution_count": null,
      "outputs": [
        {
          "output_type": "execute_result",
          "data": {
            "text/plain": [
              "0.95299"
            ]
          },
          "metadata": {},
          "execution_count": 142
        }
      ]
    },
    {
      "cell_type": "code",
      "source": [
        "from sklearn.metrics import f1_score\n",
        "f1_score(y_test, y_test_pred).round(5)"
      ],
      "metadata": {
        "colab": {
          "base_uri": "https://localhost:8080/"
        },
        "outputId": "59be7232-32f2-447e-94dc-dfe5b155e2a7",
        "id": "fIuyGsYTJ1mo"
      },
      "execution_count": null,
      "outputs": [
        {
          "output_type": "execute_result",
          "data": {
            "text/plain": [
              "0.91207"
            ]
          },
          "metadata": {},
          "execution_count": 143
        }
      ]
    },
    {
      "cell_type": "code",
      "source": [
        "from sklearn.metrics import ConfusionMatrixDisplay\n",
        "ConfusionMatrixDisplay.from_predictions(y_test, y_test_pred)\n",
        "save_fig(\"dga_wo_rf_test_cm\")\n",
        "plt.show"
      ],
      "metadata": {
        "id": "muWfX7UCJtYQ",
        "colab": {
          "base_uri": "https://localhost:8080/"
        },
        "outputId": "8829df8a-a47f-42bd-b6f1-f24839b14994"
      },
      "execution_count": null,
      "outputs": [
        {
          "output_type": "execute_result",
          "data": {
            "text/plain": [
              "<function matplotlib.pyplot.show(*args, **kw)>"
            ]
          },
          "metadata": {},
          "execution_count": 144
        },
        {
          "output_type": "display_data",
          "data": {
            "text/plain": [
              "<Figure size 432x288 with 2 Axes>"
            ],
            "image/png": "[encoded data removed]"
          },
          "metadata": {
            "needs_background": "light"
          }
        }
      ]
    },
    {
      "cell_type": "markdown",
      "source": [
        "### 👉Receiver Operating Characteristic (ROC) curve"
      ],
      "metadata": {
        "id": "yLaqPZwVywFt"
      }
    },
    {
      "cell_type": "code",
      "source": [
        "rndm_probs = [0 for _ in range(len(y_test))]\n",
        "mnb_probs = mnb_clf.predict_proba(X_test)\n",
        "lg_probs = lg_clf.predict_proba(X_test)\n",
        "knn_probs = knn_clf.predict_proba(X_test)\n",
        "svm_probs = svm_clf1.predict_proba(X_test_svm)\n",
        "dt_probs = dt_clf1.predict_proba(X_test)\n",
        "bg_probs = bg_clf.predict_proba(X_test)\n",
        "adb_probs = adb_clf1.predict_proba(X_test)\n",
        "rf_probs = rf_clf1.predict_proba(X_test)"
      ],
      "metadata": {
        "id": "vFhOYMOIy677"
      },
      "execution_count": null,
      "outputs": []
    },
    {
      "cell_type": "code",
      "source": [
        "mnb_probs = mnb_probs[:, 1]\n",
        "lg_probs = lg_probs[:, 1]\n",
        "knn_probs = knn_probs[:, 1]\n",
        "svm_probs = svm_probs[:, 1]\n",
        "dt_probs = dt_probs[:, 1]\n",
        "bg_probs = bg_probs[:, 1]\n",
        "adb_probs = adb_probs[:, 1]\n",
        "rf_probs = rf_probs[:, 1]"
      ],
      "metadata": {
        "id": "2DfI-E5Py677"
      },
      "execution_count": null,
      "outputs": []
    },
    {
      "cell_type": "code",
      "source": [
        "from sklearn.metrics import roc_curve, roc_auc_score"
      ],
      "metadata": {
        "id": "94t6pEXly677"
      },
      "execution_count": null,
      "outputs": []
    },
    {
      "cell_type": "code",
      "source": [
        "rndm_auc = roc_auc_score(y_test, rndm_probs)\n",
        "mnb_auc = roc_auc_score(y_test, mnb_probs)\n",
        "lg_auc = roc_auc_score(y_test, lg_probs)\n",
        "knn_auc = roc_auc_score(y_test, knn_probs)\n",
        "svm_auc = roc_auc_score(y_test, svm_probs)\n",
        "dt_auc = roc_auc_score(y_test, dt_probs)\n",
        "bg_auc = roc_auc_score(y_test, bg_probs)\n",
        "adb_auc = roc_auc_score(y_test, adb_probs)\n",
        "rf_auc = roc_auc_score(y_test, rf_probs)"
      ],
      "metadata": {
        "id": "uZ6AYtrny677"
      },
      "execution_count": null,
      "outputs": []
    },
    {
      "cell_type": "code",
      "source": [
        "print('Random (chance) Prediction: AUROC = %.5f' % (rndm_auc))\n",
        "print('Naive Bayes: AUROC = %.5f' % (mnb_auc))\n",
        "print('Logistic Regression: AUROC = %.5f' % (lg_auc))\n",
        "print('K-Nearest Neighbour: AUROC = %.5f' % (knn_auc))\n",
        "print('Support Vector Machine: AUROC = %.5f' % (svm_auc))\n",
        "print('Decision Tree: AUROC = %.5f' % (knn_auc))\n",
        "print('Bagging Decision Tree: AUROC = %.5f' % (bg_auc))\n",
        "print('Boosting Decision Tree: AUROC = %.5f' % (adb_auc))\n",
        "print('Random Forest: AUROC = %.5f' % (rf_auc))"
      ],
      "metadata": {
        "colab": {
          "base_uri": "https://localhost:8080/"
        },
        "outputId": "33afe8de-d5db-4cd2-d62e-3e5273b2f1bc",
        "id": "BmLp-5qhy677"
      },
      "execution_count": null,
      "outputs": [
        {
          "output_type": "stream",
          "name": "stdout",
          "text": [
            "Random (chance) Prediction: AUROC = 0.50000\n",
            "Naive Bayes: AUROC = 0.96860\n",
            "Logistic Regression: AUROC = 0.97804\n",
            "K-Nearest Neighbour: AUROC = 0.96322\n",
            "Support Vector Machine: AUROC = 0.96625\n",
            "Decision Tree: AUROC = 0.96322\n",
            "Bagging Decision Tree: AUROC = 0.97364\n",
            "Boosting Decision Tree: AUROC = 0.97588\n",
            "Random Forest: AUROC = 0.97908\n"
          ]
        }
      ]
    },
    {
      "cell_type": "code",
      "source": [
        "rndm_fpr, rndm_tpr, _ = roc_curve(y_test, rndm_probs)\n",
        "mnb_fpr, mnb_tpr, _ = roc_curve(y_test, mnb_probs)\n",
        "lg_fpr, lg_tpr, _ = roc_curve(y_test, lg_probs)\n",
        "knn_fpr, knn_tpr, _ = roc_curve(y_test, knn_probs)\n",
        "svm_fpr, svm_tpr, _ = roc_curve(y_test, svm_probs)\n",
        "dt_fpr, dt_tpr, _ = roc_curve(y_test, dt_probs)\n",
        "bg_fpr, bg_tpr, _ = roc_curve(y_test, bg_probs)\n",
        "adb_fpr, adb_tpr, _ = roc_curve(y_test, adb_probs)\n",
        "rf_fpr, rf_tpr, _ = roc_curve(y_test, rf_probs)"
      ],
      "metadata": {
        "id": "xrfeFYAJy678"
      },
      "execution_count": null,
      "outputs": []
    },
    {
      "cell_type": "code",
      "source": [
        "import matplotlib.pyplot as plt"
      ],
      "metadata": {
        "id": "vxIaAtYIy678"
      },
      "execution_count": null,
      "outputs": []
    },
    {
      "cell_type": "code",
      "source": [
        "plt.figure(figsize=(12, 8))\n",
        "plt.plot(rndm_fpr, rndm_tpr, linestyle='--')\n",
        "plt.plot(mnb_fpr, mnb_tpr, marker='.', label='NB AUC = %0.5f' % mnb_auc)\n",
        "plt.plot(lg_fpr, lg_tpr, marker='.', label='LG AUC = %0.5f' % lg_auc)\n",
        "plt.plot(knn_fpr, knn_tpr, marker='.', label='KNN AUC = %0.5f' % knn_auc)\n",
        "plt.plot(svm_fpr, svm_tpr, marker='.', label='SVM AUC = %0.5f' % svm_auc)\n",
        "plt.plot(dt_fpr, dt_tpr, marker='.', label='DT AUC = %0.5f' % knn_auc)\n",
        "plt.plot(bg_fpr, bg_tpr, marker='.', label='BG AUC = %0.5f' % bg_auc)\n",
        "plt.plot(adb_fpr, adb_tpr, marker='.', label='ADB AUC = %0.5f' % adb_auc)\n",
        "plt.plot(rf_fpr, rf_tpr, marker='.', label='RF AUC = %0.5f' % rf_auc)\n",
        "\n",
        "# Title\n",
        "#plt.title('ROC Plot', fontsize=22)\n",
        "# Axis labels\n",
        "plt.xlabel('False Positive Rate', fontsize=22)\n",
        "plt.ylabel('True Positive Rate', fontsize=22)\n",
        "# Show legend\n",
        "plt.legend(fontsize=23)\n",
        "# Save Fig\n",
        "save_fig(\"dga_wo_gscv_roc\")\n",
        "# Show plot\n",
        "plt.show()"
      ],
      "metadata": {
        "colab": {
          "base_uri": "https://localhost:8080/"
        },
        "outputId": "8cc14869-e09b-4a3a-9410-cef6ed338496",
        "id": "o-BERPAey678"
      },
      "execution_count": null,
      "outputs": [
        {
          "output_type": "display_data",
          "data": {
            "text/plain": [
              "<Figure size 864x576 with 1 Axes>"
            ],
            "image/png": "[encoded data removed]"
          },
          "metadata": {
            "needs_background": "light"
          }
        }
      ]
    }
  ]
}